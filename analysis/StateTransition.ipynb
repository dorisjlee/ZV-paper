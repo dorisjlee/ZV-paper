{
 "cells": [
  {
   "cell_type": "code",
   "execution_count": 1,
   "metadata": {
    "collapsed": true
   },
   "outputs": [],
   "source": [
    "import pandas as pd\n",
    "import numpy as np\n",
    "import altair as alt\n",
    "df = pd.read_csv(\"StudyEventTimeSeries.csv\")"
   ]
  },
  {
   "cell_type": "code",
   "execution_count": 2,
   "metadata": {},
   "outputs": [
    {
     "name": "stderr",
     "output_type": "stream",
     "text": [
      "/Users/dorislee/.virtualenvs/py37env/lib/python3.7/site-packages/ipykernel_launcher.py:1: FutureWarning: Method .as_matrix will be removed in a future version. Use .values instead.\n",
      "  \"\"\"Entry point for launching an IPython kernel.\n"
     ]
    }
   ],
   "source": [
    "codelist = list(set(df.as_matrix().flatten()))\n",
    "codelist.remove(np.nan)\n",
    "\n",
    "actionOnly= list(filter(lambda x: x.isupper(),codelist))\n",
    "featureOnly= list(filter(lambda x: x.islower(),codelist))"
   ]
  },
  {
   "cell_type": "code",
   "execution_count": 3,
   "metadata": {
    "collapsed": false
   },
   "outputs": [],
   "source": [
    "# df[\"t\"]=df.index"
   ]
  },
  {
   "cell_type": "code",
   "execution_count": 4,
   "metadata": {},
   "outputs": [],
   "source": [
    "df = df.stack().reset_index()\n",
    "\n",
    "df = df.rename(columns={\n",
    "    \"level_0\":\"t\",\n",
    "    \"level_1\":\"user\",\n",
    "    0:\"action\"\n",
    "})"
   ]
  },
  {
   "cell_type": "code",
   "execution_count": 5,
   "metadata": {},
   "outputs": [],
   "source": [
    "component_dict = {\n",
    "     'pattern-upload':'Pattern Specification',\n",
    "     'sketch-to-modify':'Pattern Specification',\n",
    "     'drag-and-drop':'Result Querying',\n",
    "     'change-metric':'Match Specification',\n",
    "     'filter':'Slice-and-Dice',\n",
    "     'brush-xrange':'Match Specification',\n",
    "     'min-similarity-cutoff':'Match Specification',\n",
    "     'smoothing':'Match Specification',\n",
    "     'ignore-xrange':'Match Specification',\n",
    "     'representative-outlier':'Recommendation',\n",
    "     'dynamic-class':'Slice-and-Dice',\n",
    "     'sketch-to-query':'Pattern Specification',\n",
    "     'reverse-y':'View Specification',\n",
    "     'input-equation':'Pattern Specification',\n",
    "     'upload-dataset':'Pattern Specification',\n",
    "     'show-scatter':'View Specification',\n",
    "     'export':'others',\n",
    "     'change-number-of-results':'Match Specification',\n",
    "     'control-kmeans-clustersize':'Recommendation',\n",
    "     'change-axis':'View Specification'\n",
    "}"
   ]
  },
  {
   "cell_type": "code",
   "execution_count": 6,
   "metadata": {},
   "outputs": [],
   "source": [
    "df_feature = df[df.action.isin(featureOnly)]\n",
    "#Remove Export\n",
    "df_feature = df_feature[df_feature[\"action\"]!=\"export\"]\n",
    "df_feature[\"Feature\"] = df_feature[\"action\"]\n",
    "df_component = df_feature\n",
    "df_component[\"action\"] = df_feature[\"action\"].replace(component_dict)\n",
    "df_component= df_component.rename(index=str,columns={\"action\":\"component\"})"
   ]
  },
  {
   "cell_type": "code",
   "execution_count": 7,
   "metadata": {},
   "outputs": [],
   "source": [
    "td = 'top-down-querying'\n",
    "sc = 'search-with-context'\n",
    "bu = 'bottom-up-querying'\n",
    "rec= 'recommendation'\n",
    "component_to_process = {\n",
    "    'Pattern Specification':td,\n",
    "    'Match Specification':td,\n",
    "    'View Specification':sc, \n",
    "    'Slice-and-Dice':sc,\n",
    "    'Result Querying':bu,\n",
    "    'Recommendation':bu\n",
    "}"
   ]
  },
  {
   "cell_type": "code",
   "execution_count": 8,
   "metadata": {},
   "outputs": [],
   "source": [
    "df_process = df_component\n",
    "df_process[\"Process\"] = df_component[\"component\"].replace(component_to_process)"
   ]
  },
  {
   "cell_type": "code",
   "execution_count": 9,
   "metadata": {},
   "outputs": [],
   "source": [
    "df_process.loc[df_process[\"Process\"]==\"top-down-querying\",\"State\"]=0\n",
    "df_process.loc[df_process[\"Process\"]==\"search-with-context\",\"State\"]=1\n",
    "df_process.loc[df_process[\"Process\"]==\"bottom-up-querying\",\"State\"]=2\n",
    "df_process[\"State\"] = df_process[\"State\"].astype(int)"
   ]
  },
  {
   "cell_type": "code",
   "execution_count": 10,
   "metadata": {},
   "outputs": [],
   "source": [
    "#all_users_actions consist of the event seqeunces of every single user for that subject area, separated by list of lists:\n",
    "# [[1, 1, 1, 1, 2, 1, 1, 2, 1, 1, 0, 1, 1, 0, 0, 0, 1, 1, 1, 1, 1, 0, 1, 1, 0],\n",
    "#  [1, 2, 2, 1, 2, 2, 0, 1, 2, 2, 0, 1, 2, 2, 0, 1, 1, 0, 2, 0],\n",
    "#  [2, 2, 0, 0, 2, 0, 0, 0, 0, 0, 1, 1, 1, 1, 1, 0]]\n",
    "def transition_matrix(all_users_actions,type=\"normalize\"):\n",
    "    n = 3\n",
    "    M = [[0]*n for _ in range(n)]\n",
    "    for transitions in all_users_actions:\n",
    "#         print (transitions)\n",
    "        if len(transitions)==1:\n",
    "            M[transitions[0]][transitions[0]]+=1\n",
    "            #print (\"single\")\n",
    "        else:\n",
    "            for (i,j) in zip(transitions,transitions[1:]):\n",
    "                M[i][j] += 1\n",
    "#                 print (\"added to {},{}\".format(i,j))\n",
    "    #now convert to probabilities:\n",
    "    if type==\"normalize\":\n",
    "        for row in M:\n",
    "            s = sum(row)\n",
    "            if s > 0:\n",
    "                row[:] = [f/s for f in row]\n",
    "    return np.array(M)"
   ]
  },
  {
   "cell_type": "code",
   "execution_count": 11,
   "metadata": {},
   "outputs": [],
   "source": [
    "import networkx as nx\n",
    "import matplotlib.pyplot as plt\n",
    "import pydot\n",
    "from networkx.drawing.nx_pydot import write_dot\n",
    "import os"
   ]
  },
  {
   "cell_type": "code",
   "execution_count": 12,
   "metadata": {},
   "outputs": [],
   "source": [
    "def create_graph_viz_from_transition_matrix(Q,subject):\n",
    "    G= nx.DiGraph(directed=True)\n",
    "    states = [0,1,2]\n",
    "    G.add_nodes_from(states)\n",
    "\n",
    "    edge_labels={}\n",
    "    for i in range(len(states)):\n",
    "        for j in range(len(states)):\n",
    "            prob = Q[i][j]\n",
    "            if prob > 0:\n",
    "                G.add_edge(i,\n",
    "                           j,\n",
    "                           weight=prob,\n",
    "                           label=\"{:.02g}\".format(prob))\n",
    "                edge_labels[(i,j)] = label=\"{:.02g}\".format(prob)\n",
    "\n",
    "\n",
    "#     plt.subplot(121)\n",
    "#     limits=plt.axis('off')\n",
    "# #     nx.draw_networkx(G, with_labels=True, arrows=True,font_weight='bold',node_color='#aacbff')\n",
    "#     pos = nx.spring_layout(G)\n",
    "#     nx.draw_networkx_edges(G,pos,width=1.0,alpha=0.5)\n",
    "#     nx.draw_networkx_labels(G, pos, font_weight=2)\n",
    "#     nx.draw_networkx_edge_labels(G, pos, edge_labels)\n",
    "    G = nx.relabel_nodes(G, {0: 'top-down', 1: 'context creation', 2: 'bottom-up'})\n",
    "    write_dot(G,subject+'.dot')\n",
    "    os.system(\"neato -Tps -Goverlap=scale -Elen=3 {0}.dot -o {0}.ps; convert {0}.ps {0}.png\".format(subject))\n",
    "    return G"
   ]
  },
  {
   "cell_type": "code",
   "execution_count": 13,
   "metadata": {},
   "outputs": [
    {
     "data": {
      "text/plain": [
       "<networkx.classes.digraph.DiGraph at 0x1143f28d0>"
      ]
     },
     "execution_count": 13,
     "metadata": {},
     "output_type": "execute_result"
    }
   ],
   "source": [
    "subject_code= \"A\"\n",
    "user_seq= list(df_process[df_process[\"user\"]==subject_code+\"1\"][\"State\"])\n",
    "user_seq2= list(df_process[df_process[\"user\"]==subject_code+\"2\"][\"State\"])\n",
    "user_seq3= list(df_process[df_process[\"user\"]==subject_code+\"3\"][\"State\"])\n",
    "\n",
    "all_users_for_subject=[user_seq,user_seq2,user_seq3]\n",
    "Q = transition_matrix(all_users_for_subject)\n",
    "create_graph_viz_from_transition_matrix(Q,\"astro\")"
   ]
  },
  {
   "cell_type": "code",
   "execution_count": 14,
   "metadata": {},
   "outputs": [
    {
     "data": {
      "text/plain": [
       "<networkx.classes.digraph.DiGraph at 0x1143f2860>"
      ]
     },
     "execution_count": 14,
     "metadata": {},
     "output_type": "execute_result"
    }
   ],
   "source": [
    "subject_code= \"G\"\n",
    "user_seq= list(df_process[df_process[\"user\"]==subject_code+\"1\"][\"State\"])\n",
    "user_seq2= list(df_process[df_process[\"user\"]==subject_code+\"2\"][\"State\"])\n",
    "user_seq3= list(df_process[df_process[\"user\"]==subject_code+\"3\"][\"State\"])\n",
    "\n",
    "all_users_for_subject=[user_seq,user_seq2,user_seq3]\n",
    "Q = transition_matrix(all_users_for_subject)\n",
    "create_graph_viz_from_transition_matrix(Q,\"genetics\")"
   ]
  },
  {
   "cell_type": "code",
   "execution_count": 15,
   "metadata": {},
   "outputs": [
    {
     "data": {
      "text/plain": [
       "<networkx.classes.digraph.DiGraph at 0x11446e518>"
      ]
     },
     "execution_count": 15,
     "metadata": {},
     "output_type": "execute_result"
    }
   ],
   "source": [
    "subject_code= \"M\"\n",
    "user_seq= list(df_process[df_process[\"user\"]==subject_code+\"1\"][\"State\"])\n",
    "user_seq2= list(df_process[df_process[\"user\"]==subject_code+\"2\"][\"State\"])\n",
    "user_seq3= list(df_process[df_process[\"user\"]==subject_code+\"3\"][\"State\"])\n",
    "\n",
    "all_users_for_subject=[user_seq,user_seq2,user_seq3]\n",
    "Q = transition_matrix(all_users_for_subject)\n",
    "create_graph_viz_from_transition_matrix(Q,\"matsci\")"
   ]
  },
  {
   "cell_type": "markdown",
   "metadata": {},
   "source": [
    "# Including Session-based Breaks"
   ]
  },
  {
   "cell_type": "code",
   "execution_count": 16,
   "metadata": {},
   "outputs": [],
   "source": [
    "df = pd.read_csv(\"StudyEventTimeSeries.csv\")\n",
    "df = df.stack().reset_index()\n",
    "\n",
    "df = df.rename(columns={\n",
    "    \"level_0\":\"t\",\n",
    "    \"level_1\":\"user\",\n",
    "    0:\"action\"\n",
    "})\n",
    "\n",
    "# df_break = df[df.action.isin([\"BR\"])]"
   ]
  },
  {
   "cell_type": "code",
   "execution_count": 17,
   "metadata": {},
   "outputs": [],
   "source": [
    "eventOnly = featureOnly+[\"BR\"]"
   ]
  },
  {
   "cell_type": "code",
   "execution_count": 18,
   "metadata": {},
   "outputs": [],
   "source": [
    "df_feature = df[df.action.isin(eventOnly)]\n",
    "#Remove Export\n",
    "df_feature = df_feature[df_feature[\"action\"]!=\"export\"]\n",
    "df_feature[\"Feature\"] = df_feature[\"action\"]\n",
    "df_component = df_feature\n",
    "df_component[\"action\"] = df_feature[\"action\"].replace(component_dict)\n",
    "df_component= df_component.rename(index=str,columns={\"action\":\"component\"})"
   ]
  },
  {
   "cell_type": "code",
   "execution_count": 19,
   "metadata": {},
   "outputs": [],
   "source": [
    "df_process = df_component\n",
    "df_process[\"Process\"] = df_component[\"component\"].replace(component_to_process)"
   ]
  },
  {
   "cell_type": "code",
   "execution_count": 20,
   "metadata": {},
   "outputs": [],
   "source": [
    "df_process.loc[df_process[\"Process\"]==\"top-down-querying\",\"State\"]=0\n",
    "df_process.loc[df_process[\"Process\"]==\"search-with-context\",\"State\"]=1\n",
    "df_process.loc[df_process[\"Process\"]==\"bottom-up-querying\",\"State\"]=2\n",
    "df_process.loc[df_process[\"Process\"]==\"BR\",\"State\"]=3\n",
    "df_process[\"State\"] = df_process[\"State\"].astype(int)"
   ]
  },
  {
   "cell_type": "code",
   "execution_count": 21,
   "metadata": {},
   "outputs": [],
   "source": [
    "import itertools\n",
    "def isplit(iterable,splitters):\n",
    "    return [list(g) for k,g in itertools.groupby(iterable,lambda x:x in splitters) if not k]"
   ]
  },
  {
   "cell_type": "code",
   "execution_count": 22,
   "metadata": {},
   "outputs": [
    {
     "name": "stdout",
     "output_type": "stream",
     "text": [
      "Pagerank: {'top-down': 0.298048481692894, 'context creation': 0.24602118426376618, 'bottom-up': 0.4559303340433396}\n"
     ]
    }
   ],
   "source": [
    "subject_code= \"G\"\n",
    "user_seq= isplit(list(df_process[df_process[\"user\"]==subject_code+\"1\"][\"State\"]),(3,))\n",
    "user_seq2= isplit(list(df_process[df_process[\"user\"]==subject_code+\"2\"][\"State\"]),(3,))\n",
    "user_seq3= isplit(list(df_process[df_process[\"user\"]==subject_code+\"3\"][\"State\"]),(3,))\n",
    "all_users_for_subject = user_seq+user_seq2+user_seq3\n",
    "Q = transition_matrix(all_users_for_subject)\n",
    "G = create_graph_viz_from_transition_matrix(Q,\"genetics_break\")\n",
    "print (\"Pagerank:\",nx.pagerank(G))"
   ]
  },
  {
   "cell_type": "code",
   "execution_count": 23,
   "metadata": {},
   "outputs": [
    {
     "name": "stdout",
     "output_type": "stream",
     "text": [
      "Pagerank: {'top-down': 0.26673299633778347, 'context creation': 0.5171331426324091, 'bottom-up': 0.21613386102980753}\n"
     ]
    }
   ],
   "source": [
    "subject_code= \"M\"\n",
    "user_seq= isplit(list(df_process[df_process[\"user\"]==subject_code+\"1\"][\"State\"]),(3,))\n",
    "user_seq2= isplit(list(df_process[df_process[\"user\"]==subject_code+\"2\"][\"State\"]),(3,))\n",
    "user_seq3= isplit(list(df_process[df_process[\"user\"]==subject_code+\"3\"][\"State\"]),(3,))\n",
    "all_users_for_subject = user_seq+user_seq2+user_seq3\n",
    "Q = transition_matrix(all_users_for_subject)\n",
    "subject = \"matsci_break\"\n",
    "G = create_graph_viz_from_transition_matrix(Q,subject)\n",
    "print (\"Pagerank:\",nx.pagerank(G))"
   ]
  },
  {
   "cell_type": "code",
   "execution_count": 24,
   "metadata": {},
   "outputs": [
    {
     "name": "stdout",
     "output_type": "stream",
     "text": [
      "Pagerank: {'top-down': 0.4353668588331403, 'context creation': 0.37268509586932314, 'bottom-up': 0.19194804529753645}\n"
     ]
    }
   ],
   "source": [
    "subject_code= \"A\"\n",
    "user_seq= isplit(list(df_process[df_process[\"user\"]==subject_code+\"1\"][\"State\"]),(3,))\n",
    "user_seq2= isplit(list(df_process[df_process[\"user\"]==subject_code+\"2\"][\"State\"]),(3,))\n",
    "user_seq3= isplit(list(df_process[df_process[\"user\"]==subject_code+\"3\"][\"State\"]),(3,))\n",
    "all_users_for_subject = user_seq+user_seq2+user_seq3\n",
    "Q = transition_matrix(all_users_for_subject)\n",
    "subject = \"astro_break\"\n",
    "G = create_graph_viz_from_transition_matrix(Q,subject)\n",
    "print (\"Pagerank:\",nx.pagerank(G))"
   ]
  },
  {
   "cell_type": "markdown",
   "metadata": {},
   "source": [
    "### Unnormalized edges as raw counts "
   ]
  },
  {
   "cell_type": "code",
   "execution_count": 25,
   "metadata": {},
   "outputs": [],
   "source": [
    "pgrk_lst = []"
   ]
  },
  {
   "cell_type": "code",
   "execution_count": 26,
   "metadata": {},
   "outputs": [
    {
     "name": "stdout",
     "output_type": "stream",
     "text": [
      "Pagerank: {'top-down': 0.298048481692894, 'context creation': 0.24602118426376618, 'bottom-up': 0.4559303340433396}\n"
     ]
    }
   ],
   "source": [
    "subject_code= \"G\"\n",
    "user_seq= isplit(list(df_process[df_process[\"user\"]==subject_code+\"1\"][\"State\"]),(3,))\n",
    "user_seq2= isplit(list(df_process[df_process[\"user\"]==subject_code+\"2\"][\"State\"]),(3,))\n",
    "user_seq3= isplit(list(df_process[df_process[\"user\"]==subject_code+\"3\"][\"State\"]),(3,))\n",
    "all_users_for_subject = user_seq+user_seq2+user_seq3\n",
    "Q = transition_matrix(all_users_for_subject,\"unnormalize\")\n",
    "G = create_graph_viz_from_transition_matrix(Q,\"genetics_break_unnormalized\")\n",
    "print (\"Pagerank:\",nx.pagerank(G))\n",
    "pgrk = nx.pagerank(G)\n",
    "for key in pgrk.keys():\n",
    "    pgrk_lst.append([key,pgrk[key],\"genetics\"])"
   ]
  },
  {
   "cell_type": "code",
   "execution_count": 27,
   "metadata": {},
   "outputs": [
    {
     "name": "stdout",
     "output_type": "stream",
     "text": [
      "Pagerank: {'top-down': 0.2667329963377834, 'context creation': 0.5171331426324087, 'bottom-up': 0.21613386102980747}\n"
     ]
    }
   ],
   "source": [
    "subject_code= \"M\"\n",
    "user_seq= isplit(list(df_process[df_process[\"user\"]==subject_code+\"1\"][\"State\"]),(3,))\n",
    "user_seq2= isplit(list(df_process[df_process[\"user\"]==subject_code+\"2\"][\"State\"]),(3,))\n",
    "user_seq3= isplit(list(df_process[df_process[\"user\"]==subject_code+\"3\"][\"State\"]),(3,))\n",
    "all_users_for_subject = user_seq+user_seq2+user_seq3\n",
    "Q = transition_matrix(all_users_for_subject,\"unnormalize\")\n",
    "G = create_graph_viz_from_transition_matrix(Q,\"matsci_break_unnormalized\")\n",
    "print (\"Pagerank:\",nx.pagerank(G))\n",
    "pgrk = nx.pagerank(G)\n",
    "for key in pgrk.keys():\n",
    "    pgrk_lst.append([key,pgrk[key],\"matsci\"])"
   ]
  },
  {
   "cell_type": "code",
   "execution_count": 28,
   "metadata": {},
   "outputs": [
    {
     "name": "stdout",
     "output_type": "stream",
     "text": [
      "Pagerank: {'top-down': 0.4353668588331403, 'context creation': 0.37268509586932314, 'bottom-up': 0.19194804529753645}\n"
     ]
    }
   ],
   "source": [
    "subject_code= \"A\"\n",
    "user_seq= isplit(list(df_process[df_process[\"user\"]==subject_code+\"1\"][\"State\"]),(3,))\n",
    "user_seq2= isplit(list(df_process[df_process[\"user\"]==subject_code+\"2\"][\"State\"]),(3,))\n",
    "user_seq3= isplit(list(df_process[df_process[\"user\"]==subject_code+\"3\"][\"State\"]),(3,))\n",
    "all_users_for_subject = user_seq+user_seq2+user_seq3\n",
    "Q = transition_matrix(all_users_for_subject,\"unnormalized\")\n",
    "G = create_graph_viz_from_transition_matrix(Q,\"astro_break_unnormalized\")\n",
    "print (\"Pagerank:\",nx.pagerank(G))\n",
    "pgrk = nx.pagerank(G)\n",
    "for key in pgrk.keys():\n",
    "    pgrk_lst.append([key,pgrk[key],\"astro\"])"
   ]
  },
  {
   "cell_type": "code",
   "execution_count": 30,
   "metadata": {},
   "outputs": [],
   "source": [
    "pgrk_df = pd.DataFrame(pgrk_lst,columns=[\"Process\",\"PageRankScore\",\"Subject\"])"
   ]
  },
  {
   "cell_type": "code",
   "execution_count": 34,
   "metadata": {},
   "outputs": [
    {
     "data": {
      "application/vnd.vegalite.v2+json": {
       "$schema": "https://vega.github.io/schema/vega-lite/v2.6.0.json",
       "config": {
        "view": {
         "height": 300,
         "width": 400
        }
       },
       "data": {
        "name": "data-c1a416a6e92c269f4f3c8b6a478b9f7e"
       },
       "datasets": {
        "data-c1a416a6e92c269f4f3c8b6a478b9f7e": [
         {
          "PageRankScore": 0.298048481692894,
          "Process": "top-down",
          "Subject": "genetics"
         },
         {
          "PageRankScore": 0.24602118426376618,
          "Process": "context creation",
          "Subject": "genetics"
         },
         {
          "PageRankScore": 0.4559303340433396,
          "Process": "bottom-up",
          "Subject": "genetics"
         },
         {
          "PageRankScore": 0.2667329963377834,
          "Process": "top-down",
          "Subject": "matsci"
         },
         {
          "PageRankScore": 0.5171331426324087,
          "Process": "context creation",
          "Subject": "matsci"
         },
         {
          "PageRankScore": 0.21613386102980747,
          "Process": "bottom-up",
          "Subject": "matsci"
         },
         {
          "PageRankScore": 0.4353668588331403,
          "Process": "top-down",
          "Subject": "astro"
         },
         {
          "PageRankScore": 0.37268509586932314,
          "Process": "context creation",
          "Subject": "astro"
         },
         {
          "PageRankScore": 0.19194804529753645,
          "Process": "bottom-up",
          "Subject": "astro"
         }
        ]
       },
       "encoding": {
        "color": {
         "field": "Subject",
         "type": "nominal"
        },
        "x": {
         "field": "PageRankScore",
         "type": "quantitative"
        },
        "y": {
         "field": "Process",
         "sort": [
          "top-down-querying",
          "search-with-context",
          "bottom-up-querying"
         ],
         "type": "nominal"
        }
       },
       "mark": "point"
      },
      "image/png": "[encoded data removed]",
      "text/plain": [
       "<VegaLite 2 object>\n",
       "\n",
       "If you see this message, it means the renderer has not been properly enabled\n",
       "for the frontend that you are using. For more information, see\n",
       "https://altair-viz.github.io/user_guide/troubleshooting.html\n"
      ]
     },
     "execution_count": 34,
     "metadata": {},
     "output_type": "execute_result"
    }
   ],
   "source": [
    "alt.Chart(pgrk_df).mark_point().encode(\n",
    "    alt.Y(\"Process\",sort=[td,sc,bu]),\n",
    "    alt.X(\"PageRankScore\"),\n",
    "    alt.Color(\"Subject\")\n",
    ")"
   ]
  },
  {
   "cell_type": "markdown",
   "metadata": {},
   "source": [
    "# For every single user"
   ]
  },
  {
   "cell_type": "code",
   "execution_count": 42,
   "metadata": {},
   "outputs": [],
   "source": [
    "df_process['subject'] = df_process['user'].apply(lambda x: {'A':'astro', 'G':'genetics', 'M':'material science'}[x[0]])"
   ]
  },
  {
   "cell_type": "code",
   "execution_count": 56,
   "metadata": {},
   "outputs": [
    {
     "name": "stdout",
     "output_type": "stream",
     "text": [
      "A1  Pagerank: {'top-down': 0.32198589734369654, 'context creation': 0.582966599994722, 'bottom-up': 0.09504750266158155}\n",
      "A2  Pagerank: {'top-down': 0.26881992120787457, 'context creation': 0.3244636807144889, 'bottom-up': 0.4067163980776362}\n",
      "A3  Pagerank: {'top-down': 0.5968989758267033, 'context creation': 0.3333333333333333, 'bottom-up': 0.06976769083996354}\n",
      "G1  Pagerank: {'top-down': 0.6579654654190057, 'context creation': 0.06976744186046513, 'bottom-up': 0.2722670927205292}\n",
      "G2  Pagerank: {'top-down': 0.10666803460832704, 'context creation': 0.3951915256758482, 'bottom-up': 0.4981404397158246}\n",
      "M2  Pagerank: {'top-down': 0.331606617251317, 'context creation': 0.3967582065940984, 'bottom-up': 0.2716351761545843}\n",
      "M3  Pagerank: {'top-down': 0.24101313464046803, 'context creation': 0.41686096002767115, 'bottom-up': 0.34212590533186077}\n",
      "M1  Pagerank: {'top-down': 0.2248694016527349, 'context creation': 0.5980460223912628, 'bottom-up': 0.17708457595600197}\n",
      "G3  Pagerank: {'top-down': 0.34824527612827605, 'context creation': 0.05, 'bottom-up': 0.6017547238717239}\n"
     ]
    }
   ],
   "source": [
    "pgrk_lst  = []\n",
    "for user in df_process.user.unique():\n",
    "    selected_tuple = df_process[df_process[\"user\"]==user]\n",
    "    user_seq= isplit(list(selected_tuple[\"State\"]),(3,))\n",
    "    Q = transition_matrix(user_seq,\"unnormalized\")\n",
    "    G = create_graph_viz_from_transition_matrix(Q,user)\n",
    "    pgrk = nx.pagerank(G)\n",
    "    #pgrk_lst.append(list(pgrk.values()))\n",
    "    print (user, \" Pagerank:\",pgrk)\n",
    "    for key in pgrk.keys():\n",
    "        pgrk_lst.append([user,key,pgrk[key],selected_tuple.iloc[0][\"subject\"]])\n",
    "#     plt.plot(pgrk.values(),label=selected_tuple.iloc[0][\"subject\"])\n",
    "# plt.legend()"
   ]
  },
  {
   "cell_type": "code",
   "execution_count": 61,
   "metadata": {},
   "outputs": [],
   "source": [
    "pgrk_df = pd.DataFrame(pgrk_lst,columns=[\"User\",\"Process\",\"PageRankScore\",\"Subject\"])"
   ]
  },
  {
   "cell_type": "code",
   "execution_count": 76,
   "metadata": {},
   "outputs": [],
   "source": [
    "pgrk_df[\"UserID\"] = pgrk_df[\"User\"].apply(lambda x: x[-1])"
   ]
  },
  {
   "cell_type": "code",
   "execution_count": 80,
   "metadata": {},
   "outputs": [
    {
     "data": {
      "application/vnd.vegalite.v2+json": {
       "$schema": "https://vega.github.io/schema/vega-lite/v2.6.0.json",
       "config": {
        "view": {
         "height": 300,
         "width": 400
        }
       },
       "data": {
        "name": "data-d513d5cd52be70d13619d3a4305015cf"
       },
       "datasets": {
        "data-d513d5cd52be70d13619d3a4305015cf": [
         {
          "PageRankScore": 0.32198589734369654,
          "Process": "top-down",
          "Subject": "astro",
          "User": "A1",
          "UserID": "1"
         },
         {
          "PageRankScore": 0.582966599994722,
          "Process": "context creation",
          "Subject": "astro",
          "User": "A1",
          "UserID": "1"
         },
         {
          "PageRankScore": 0.09504750266158155,
          "Process": "bottom-up",
          "Subject": "astro",
          "User": "A1",
          "UserID": "1"
         },
         {
          "PageRankScore": 0.26881992120787457,
          "Process": "top-down",
          "Subject": "astro",
          "User": "A2",
          "UserID": "2"
         },
         {
          "PageRankScore": 0.3244636807144889,
          "Process": "context creation",
          "Subject": "astro",
          "User": "A2",
          "UserID": "2"
         },
         {
          "PageRankScore": 0.4067163980776362,
          "Process": "bottom-up",
          "Subject": "astro",
          "User": "A2",
          "UserID": "2"
         },
         {
          "PageRankScore": 0.5968989758267033,
          "Process": "top-down",
          "Subject": "astro",
          "User": "A3",
          "UserID": "3"
         },
         {
          "PageRankScore": 0.3333333333333333,
          "Process": "context creation",
          "Subject": "astro",
          "User": "A3",
          "UserID": "3"
         },
         {
          "PageRankScore": 0.06976769083996354,
          "Process": "bottom-up",
          "Subject": "astro",
          "User": "A3",
          "UserID": "3"
         },
         {
          "PageRankScore": 0.6579654654190057,
          "Process": "top-down",
          "Subject": "genetics",
          "User": "G1",
          "UserID": "1"
         },
         {
          "PageRankScore": 0.06976744186046513,
          "Process": "context creation",
          "Subject": "genetics",
          "User": "G1",
          "UserID": "1"
         },
         {
          "PageRankScore": 0.2722670927205292,
          "Process": "bottom-up",
          "Subject": "genetics",
          "User": "G1",
          "UserID": "1"
         },
         {
          "PageRankScore": 0.10666803460832704,
          "Process": "top-down",
          "Subject": "genetics",
          "User": "G2",
          "UserID": "2"
         },
         {
          "PageRankScore": 0.3951915256758482,
          "Process": "context creation",
          "Subject": "genetics",
          "User": "G2",
          "UserID": "2"
         },
         {
          "PageRankScore": 0.4981404397158246,
          "Process": "bottom-up",
          "Subject": "genetics",
          "User": "G2",
          "UserID": "2"
         },
         {
          "PageRankScore": 0.331606617251317,
          "Process": "top-down",
          "Subject": "material science",
          "User": "M2",
          "UserID": "2"
         },
         {
          "PageRankScore": 0.3967582065940984,
          "Process": "context creation",
          "Subject": "material science",
          "User": "M2",
          "UserID": "2"
         },
         {
          "PageRankScore": 0.2716351761545843,
          "Process": "bottom-up",
          "Subject": "material science",
          "User": "M2",
          "UserID": "2"
         },
         {
          "PageRankScore": 0.24101313464046803,
          "Process": "top-down",
          "Subject": "material science",
          "User": "M3",
          "UserID": "3"
         },
         {
          "PageRankScore": 0.41686096002767115,
          "Process": "context creation",
          "Subject": "material science",
          "User": "M3",
          "UserID": "3"
         },
         {
          "PageRankScore": 0.34212590533186077,
          "Process": "bottom-up",
          "Subject": "material science",
          "User": "M3",
          "UserID": "3"
         },
         {
          "PageRankScore": 0.2248694016527349,
          "Process": "top-down",
          "Subject": "material science",
          "User": "M1",
          "UserID": "1"
         },
         {
          "PageRankScore": 0.5980460223912628,
          "Process": "context creation",
          "Subject": "material science",
          "User": "M1",
          "UserID": "1"
         },
         {
          "PageRankScore": 0.17708457595600197,
          "Process": "bottom-up",
          "Subject": "material science",
          "User": "M1",
          "UserID": "1"
         },
         {
          "PageRankScore": 0.34824527612827605,
          "Process": "top-down",
          "Subject": "genetics",
          "User": "G3",
          "UserID": "3"
         },
         {
          "PageRankScore": 0.05,
          "Process": "context creation",
          "Subject": "genetics",
          "User": "G3",
          "UserID": "3"
         },
         {
          "PageRankScore": 0.6017547238717239,
          "Process": "bottom-up",
          "Subject": "genetics",
          "User": "G3",
          "UserID": "3"
         }
        ]
       },
       "encoding": {
        "color": {
         "field": "Subject",
         "type": "nominal"
        },
        "shape": {
         "field": "UserID",
         "type": "nominal"
        },
        "x": {
         "field": "PageRankScore",
         "type": "quantitative"
        },
        "y": {
         "field": "Process",
         "type": "nominal"
        }
       },
       "mark": "point"
      },
      "image/png": "[encoded data removed]",
      "text/plain": [
       "<VegaLite 2 object>\n",
       "\n",
       "If you see this message, it means the renderer has not been properly enabled\n",
       "for the frontend that you are using. For more information, see\n",
       "https://altair-viz.github.io/user_guide/troubleshooting.html\n"
      ]
     },
     "execution_count": 80,
     "metadata": {},
     "output_type": "execute_result"
    }
   ],
   "source": [
    "alt.Chart(pgrk_df).mark_point().encode(\n",
    "    alt.Y(\"Process\"),\n",
    "    alt.X(\"PageRankScore\"),\n",
    "    alt.Color(\"Subject\"),\n",
    "    alt.Shape(\"UserID\")\n",
    ")"
   ]
  },
  {
   "cell_type": "markdown",
   "metadata": {},
   "source": [
    "PageRank for individual use graph is unreliable because there aren't a whole lot of nodes and edges, so the scores gets inflated to really high. For example, G1 has a really high top-down , but in fact it only has 1 raw count for top down and 7 for bottom-up. I think self-directed edges doesn't really make sense for PageRank."
   ]
  },
  {
   "cell_type": "code",
   "execution_count": 93,
   "metadata": {},
   "outputs": [
    {
     "data": {
      "application/vnd.vegalite.v2+json": {
       "$schema": "https://vega.github.io/schema/vega-lite/v2.6.0.json",
       "config": {
        "view": {
         "height": 300,
         "width": 400
        }
       },
       "data": {
        "name": "data-6e8473abf8c8fb44a5b04a286069ea0b"
       },
       "datasets": {
        "data-6e8473abf8c8fb44a5b04a286069ea0b": [
         {
          "Feature": "filter",
          "Process": "search-with-context",
          "State": 1,
          "component": "Slice-and-Dice",
          "subject": "astro",
          "t": 0,
          "user": "A1"
         },
         {
          "Feature": "filter",
          "Process": "search-with-context",
          "State": 1,
          "component": "Slice-and-Dice",
          "subject": "astro",
          "t": 0,
          "user": "A2"
         },
         {
          "Feature": "drag-and-drop",
          "Process": "bottom-up-querying",
          "State": 2,
          "component": "Result Querying",
          "subject": "astro",
          "t": 0,
          "user": "A3"
         },
         {
          "Feature": "representative-outlier",
          "Process": "bottom-up-querying",
          "State": 2,
          "component": "Recommendation",
          "subject": "genetics",
          "t": 0,
          "user": "G1"
         },
         {
          "Feature": "representative-outlier",
          "Process": "bottom-up-querying",
          "State": 2,
          "component": "Recommendation",
          "subject": "genetics",
          "t": 0,
          "user": "G2"
         },
         {
          "Feature": "show-scatter",
          "Process": "search-with-context",
          "State": 1,
          "component": "View Specification",
          "subject": "material science",
          "t": 0,
          "user": "M2"
         },
         {
          "Feature": "dynamic-class",
          "Process": "search-with-context",
          "State": 1,
          "component": "Slice-and-Dice",
          "subject": "material science",
          "t": 0,
          "user": "M3"
         },
         {
          "Feature": "filter",
          "Process": "search-with-context",
          "State": 1,
          "component": "Slice-and-Dice",
          "subject": "astro",
          "t": 1,
          "user": "A1"
         },
         {
          "Feature": "drag-and-drop",
          "Process": "bottom-up-querying",
          "State": 2,
          "component": "Result Querying",
          "subject": "astro",
          "t": 1,
          "user": "A3"
         },
         {
          "Feature": "control-kmeans-clustersize",
          "Process": "bottom-up-querying",
          "State": 2,
          "component": "Recommendation",
          "subject": "genetics",
          "t": 1,
          "user": "G1"
         },
         {
          "Feature": "sketch-to-query",
          "Process": "top-down-querying",
          "State": 0,
          "component": "Pattern Specification",
          "subject": "material science",
          "t": 1,
          "user": "M1"
         },
         {
          "Feature": "change-axis",
          "Process": "search-with-context",
          "State": 1,
          "component": "View Specification",
          "subject": "material science",
          "t": 1,
          "user": "M2"
         },
         {
          "Feature": "filter",
          "Process": "search-with-context",
          "State": 1,
          "component": "Slice-and-Dice",
          "subject": "astro",
          "t": 2,
          "user": "A1"
         },
         {
          "Feature": "sketch-to-modify",
          "Process": "top-down-querying",
          "State": 0,
          "component": "Pattern Specification",
          "subject": "astro",
          "t": 2,
          "user": "A3"
         },
         {
          "Feature": "representative-outlier",
          "Process": "bottom-up-querying",
          "State": 2,
          "component": "Recommendation",
          "subject": "genetics",
          "t": 2,
          "user": "G1"
         },
         {
          "Feature": "ignore-xrange",
          "Process": "top-down-querying",
          "State": 0,
          "component": "Match Specification",
          "subject": "material science",
          "t": 2,
          "user": "M1"
         },
         {
          "Feature": "show-scatter",
          "Process": "search-with-context",
          "State": 1,
          "component": "View Specification",
          "subject": "material science",
          "t": 2,
          "user": "M3"
         },
         {
          "Feature": "filter",
          "Process": "search-with-context",
          "State": 1,
          "component": "Slice-and-Dice",
          "subject": "astro",
          "t": 3,
          "user": "A1"
         },
         {
          "Feature": "representative-outlier",
          "Process": "bottom-up-querying",
          "State": 2,
          "component": "Recommendation",
          "subject": "astro",
          "t": 3,
          "user": "A2"
         },
         {
          "Feature": "ignore-xrange",
          "Process": "top-down-querying",
          "State": 0,
          "component": "Match Specification",
          "subject": "astro",
          "t": 3,
          "user": "A3"
         },
         {
          "Feature": "control-kmeans-clustersize",
          "Process": "bottom-up-querying",
          "State": 2,
          "component": "Recommendation",
          "subject": "genetics",
          "t": 3,
          "user": "G1"
         },
         {
          "Feature": "representative-outlier",
          "Process": "bottom-up-querying",
          "State": 2,
          "component": "Recommendation",
          "subject": "genetics",
          "t": 3,
          "user": "G2"
         },
         {
          "Feature": "show-scatter",
          "Process": "search-with-context",
          "State": 1,
          "component": "View Specification",
          "subject": "genetics",
          "t": 3,
          "user": "G3"
         },
         {
          "Feature": "dynamic-class",
          "Process": "search-with-context",
          "State": 1,
          "component": "Slice-and-Dice",
          "subject": "material science",
          "t": 3,
          "user": "M2"
         },
         {
          "Feature": "drag-and-drop",
          "Process": "bottom-up-querying",
          "State": 2,
          "component": "Result Querying",
          "subject": "astro",
          "t": 4,
          "user": "A2"
         },
         {
          "Feature": "control-kmeans-clustersize",
          "Process": "bottom-up-querying",
          "State": 2,
          "component": "Recommendation",
          "subject": "genetics",
          "t": 4,
          "user": "G2"
         },
         {
          "Feature": "upload-dataset",
          "Process": "top-down-querying",
          "State": 0,
          "component": "Pattern Specification",
          "subject": "genetics",
          "t": 4,
          "user": "G3"
         },
         {
          "Feature": "change-axis",
          "Process": "search-with-context",
          "State": 1,
          "component": "View Specification",
          "subject": "material science",
          "t": 4,
          "user": "M1"
         },
         {
          "Feature": "dynamic-class",
          "Process": "search-with-context",
          "State": 1,
          "component": "Slice-and-Dice",
          "subject": "material science",
          "t": 4,
          "user": "M2"
         },
         {
          "Feature": "dynamic-class",
          "Process": "search-with-context",
          "State": 1,
          "component": "Slice-and-Dice",
          "subject": "material science",
          "t": 4,
          "user": "M3"
         },
         {
          "Feature": "drag-and-drop",
          "Process": "bottom-up-querying",
          "State": 2,
          "component": "Result Querying",
          "subject": "astro",
          "t": 5,
          "user": "A3"
         },
         {
          "Feature": "representative-outlier",
          "Process": "bottom-up-querying",
          "State": 2,
          "component": "Recommendation",
          "subject": "genetics",
          "t": 5,
          "user": "G2"
         },
         {
          "Feature": "dynamic-class",
          "Process": "search-with-context",
          "State": 1,
          "component": "Slice-and-Dice",
          "subject": "material science",
          "t": 5,
          "user": "M2"
         },
         {
          "Feature": "ignore-xrange",
          "Process": "top-down-querying",
          "State": 0,
          "component": "Match Specification",
          "subject": "astro",
          "t": 6,
          "user": "A3"
         },
         {
          "Feature": "filter",
          "Process": "search-with-context",
          "State": 1,
          "component": "Slice-and-Dice",
          "subject": "genetics",
          "t": 6,
          "user": "G2"
         },
         {
          "Feature": "representative-outlier",
          "Process": "bottom-up-querying",
          "State": 2,
          "component": "Recommendation",
          "subject": "genetics",
          "t": 6,
          "user": "G3"
         },
         {
          "Feature": "dynamic-class",
          "Process": "search-with-context",
          "State": 1,
          "component": "Slice-and-Dice",
          "subject": "material science",
          "t": 6,
          "user": "M2"
         },
         {
          "Feature": "dynamic-class",
          "Process": "search-with-context",
          "State": 1,
          "component": "Slice-and-Dice",
          "subject": "material science",
          "t": 6,
          "user": "M3"
         },
         {
          "Feature": "drag-and-drop",
          "Process": "bottom-up-querying",
          "State": 2,
          "component": "Result Querying",
          "subject": "astro",
          "t": 7,
          "user": "A1"
         },
         {
          "Feature": "change-metric",
          "Process": "top-down-querying",
          "State": 0,
          "component": "Match Specification",
          "subject": "astro",
          "t": 7,
          "user": "A3"
         },
         {
          "Feature": "drag-and-drop",
          "Process": "bottom-up-querying",
          "State": 2,
          "component": "Result Querying",
          "subject": "genetics",
          "t": 7,
          "user": "G1"
         },
         {
          "Feature": "change-metric",
          "Process": "top-down-querying",
          "State": 0,
          "component": "Match Specification",
          "subject": "genetics",
          "t": 8,
          "user": "G3"
         },
         {
          "Feature": "dynamic-class",
          "Process": "search-with-context",
          "State": 1,
          "component": "Slice-and-Dice",
          "subject": "material science",
          "t": 8,
          "user": "M2"
         },
         {
          "Feature": "change-axis",
          "Process": "search-with-context",
          "State": 1,
          "component": "View Specification",
          "subject": "material science",
          "t": 8,
          "user": "M3"
         },
         {
          "Feature": "filter",
          "Process": "search-with-context",
          "State": 1,
          "component": "Slice-and-Dice",
          "subject": "astro",
          "t": 9,
          "user": "A1"
         },
         {
          "Feature": "brush-xrange",
          "Process": "top-down-querying",
          "State": 0,
          "component": "Match Specification",
          "subject": "astro",
          "t": 9,
          "user": "A3"
         },
         {
          "Feature": "control-kmeans-clustersize",
          "Process": "bottom-up-querying",
          "State": 2,
          "component": "Recommendation",
          "subject": "genetics",
          "t": 9,
          "user": "G3"
         },
         {
          "Feature": "brush-xrange",
          "Process": "top-down-querying",
          "State": 0,
          "component": "Match Specification",
          "subject": "material science",
          "t": 9,
          "user": "M1"
         },
         {
          "Feature": "filter",
          "Process": "search-with-context",
          "State": 1,
          "component": "Slice-and-Dice",
          "subject": "astro",
          "t": 10,
          "user": "A2"
         },
         {
          "Feature": "change-metric",
          "Process": "top-down-querying",
          "State": 0,
          "component": "Match Specification",
          "subject": "astro",
          "t": 10,
          "user": "A3"
         },
         {
          "Feature": "drag-and-drop",
          "Process": "bottom-up-querying",
          "State": 2,
          "component": "Result Querying",
          "subject": "genetics",
          "t": 10,
          "user": "G2"
         },
         {
          "Feature": "representative-outlier",
          "Process": "bottom-up-querying",
          "State": 2,
          "component": "Recommendation",
          "subject": "genetics",
          "t": 10,
          "user": "G3"
         },
         {
          "Feature": "change-axis",
          "Process": "search-with-context",
          "State": 1,
          "component": "View Specification",
          "subject": "material science",
          "t": 10,
          "user": "M1"
         },
         {
          "Feature": "drag-and-drop",
          "Process": "bottom-up-querying",
          "State": 2,
          "component": "Result Querying",
          "subject": "material science",
          "t": 10,
          "user": "M3"
         },
         {
          "Feature": "drag-and-drop",
          "Process": "bottom-up-querying",
          "State": 2,
          "component": "Result Querying",
          "subject": "genetics",
          "t": 11,
          "user": "G1"
         },
         {
          "Feature": "dynamic-class",
          "Process": "search-with-context",
          "State": 1,
          "component": "Slice-and-Dice",
          "subject": "material science",
          "t": 11,
          "user": "M3"
         },
         {
          "Feature": "representative-outlier",
          "Process": "bottom-up-querying",
          "State": 2,
          "component": "Recommendation",
          "subject": "astro",
          "t": 12,
          "user": "A2"
         },
         {
          "Feature": "change-metric",
          "Process": "top-down-querying",
          "State": 0,
          "component": "Match Specification",
          "subject": "astro",
          "t": 12,
          "user": "A3"
         },
         {
          "Feature": "min-similarity-cutoff",
          "Process": "top-down-querying",
          "State": 0,
          "component": "Match Specification",
          "subject": "genetics",
          "t": 12,
          "user": "G1"
         },
         {
          "Feature": "filter",
          "Process": "search-with-context",
          "State": 1,
          "component": "Slice-and-Dice",
          "subject": "genetics",
          "t": 12,
          "user": "G2"
         },
         {
          "Feature": "drag-and-drop",
          "Process": "bottom-up-querying",
          "State": 2,
          "component": "Result Querying",
          "subject": "genetics",
          "t": 12,
          "user": "G3"
         },
         {
          "Feature": "representative-outlier",
          "Process": "bottom-up-querying",
          "State": 2,
          "component": "Recommendation",
          "subject": "material science",
          "t": 12,
          "user": "M1"
         },
         {
          "Feature": "drag-and-drop",
          "Process": "bottom-up-querying",
          "State": 2,
          "component": "Result Querying",
          "subject": "astro",
          "t": 13,
          "user": "A2"
         },
         {
          "Feature": "brush-xrange",
          "Process": "top-down-querying",
          "State": 0,
          "component": "Match Specification",
          "subject": "genetics",
          "t": 13,
          "user": "G1"
         },
         {
          "Feature": "change-metric",
          "Process": "top-down-querying",
          "State": 0,
          "component": "Match Specification",
          "subject": "material science",
          "t": 13,
          "user": "M3"
         },
         {
          "Feature": "change-number-of-results",
          "Process": "top-down-querying",
          "State": 0,
          "component": "Match Specification",
          "subject": "astro",
          "t": 14,
          "user": "A2"
         },
         {
          "Feature": "dynamic-class",
          "Process": "search-with-context",
          "State": 1,
          "component": "Slice-and-Dice",
          "subject": "material science",
          "t": 14,
          "user": "M2"
         },
         {
          "Feature": "filter",
          "Process": "search-with-context",
          "State": 1,
          "component": "Slice-and-Dice",
          "subject": "astro",
          "t": 15,
          "user": "A3"
         },
         {
          "Feature": "show-scatter",
          "Process": "search-with-context",
          "State": 1,
          "component": "View Specification",
          "subject": "genetics",
          "t": 15,
          "user": "G2"
         },
         {
          "Feature": "dynamic-class",
          "Process": "search-with-context",
          "State": 1,
          "component": "Slice-and-Dice",
          "subject": "material science",
          "t": 15,
          "user": "M1"
         },
         {
          "Feature": "drag-and-drop",
          "Process": "bottom-up-querying",
          "State": 2,
          "component": "Result Querying",
          "subject": "material science",
          "t": 15,
          "user": "M3"
         },
         {
          "Feature": "reverse-y",
          "Process": "search-with-context",
          "State": 1,
          "component": "View Specification",
          "subject": "astro",
          "t": 16,
          "user": "A1"
         },
         {
          "Feature": "filter",
          "Process": "search-with-context",
          "State": 1,
          "component": "Slice-and-Dice",
          "subject": "astro",
          "t": 16,
          "user": "A2"
         },
         {
          "Feature": "control-kmeans-clustersize",
          "Process": "bottom-up-querying",
          "State": 2,
          "component": "Recommendation",
          "subject": "genetics",
          "t": 16,
          "user": "G1"
         },
         {
          "Feature": "representative-outlier",
          "Process": "bottom-up-querying",
          "State": 2,
          "component": "Recommendation",
          "subject": "genetics",
          "t": 17,
          "user": "G3"
         },
         {
          "Feature": "sketch-to-query",
          "Process": "top-down-querying",
          "State": 0,
          "component": "Pattern Specification",
          "subject": "material science",
          "t": 17,
          "user": "M2"
         },
         {
          "Feature": "representative-outlier",
          "Process": "bottom-up-querying",
          "State": 2,
          "component": "Recommendation",
          "subject": "astro",
          "t": 18,
          "user": "A2"
         },
         {
          "Feature": "filter",
          "Process": "search-with-context",
          "State": 1,
          "component": "Slice-and-Dice",
          "subject": "astro",
          "t": 18,
          "user": "A3"
         },
         {
          "Feature": "sketch-to-query",
          "Process": "top-down-querying",
          "State": 0,
          "component": "Pattern Specification",
          "subject": "genetics",
          "t": 18,
          "user": "G2"
         },
         {
          "Feature": "change-axis",
          "Process": "search-with-context",
          "State": 1,
          "component": "View Specification",
          "subject": "material science",
          "t": 18,
          "user": "M3"
         },
         {
          "Feature": "drag-and-drop",
          "Process": "bottom-up-querying",
          "State": 2,
          "component": "Result Querying",
          "subject": "astro",
          "t": 19,
          "user": "A2"
         },
         {
          "Feature": "drag-and-drop",
          "Process": "bottom-up-querying",
          "State": 2,
          "component": "Result Querying",
          "subject": "genetics",
          "t": 19,
          "user": "G1"
         },
         {
          "Feature": "ignore-xrange",
          "Process": "top-down-querying",
          "State": 0,
          "component": "Match Specification",
          "subject": "genetics",
          "t": 19,
          "user": "G3"
         },
         {
          "Feature": "filter",
          "Process": "search-with-context",
          "State": 1,
          "component": "Slice-and-Dice",
          "subject": "material science",
          "t": 19,
          "user": "M1"
         },
         {
          "Feature": "sketch-to-modify",
          "Process": "top-down-querying",
          "State": 0,
          "component": "Pattern Specification",
          "subject": "material science",
          "t": 19,
          "user": "M2"
         },
         {
          "Feature": "sketch-to-query",
          "Process": "top-down-querying",
          "State": 0,
          "component": "Pattern Specification",
          "subject": "material science",
          "t": 19,
          "user": "M3"
         },
         {
          "Feature": "drag-and-drop",
          "Process": "bottom-up-querying",
          "State": 2,
          "component": "Result Querying",
          "subject": "astro",
          "t": 20,
          "user": "A1"
         },
         {
          "Feature": "change-number-of-results",
          "Process": "top-down-querying",
          "State": 0,
          "component": "Match Specification",
          "subject": "astro",
          "t": 20,
          "user": "A2"
         },
         {
          "Feature": "drag-and-drop",
          "Process": "bottom-up-querying",
          "State": 2,
          "component": "Result Querying",
          "subject": "genetics",
          "t": 20,
          "user": "G1"
         },
         {
          "Feature": "sketch-to-query",
          "Process": "top-down-querying",
          "State": 0,
          "component": "Pattern Specification",
          "subject": "material science",
          "t": 20,
          "user": "M1"
         },
         {
          "Feature": "sketch-to-modify",
          "Process": "top-down-querying",
          "State": 0,
          "component": "Pattern Specification",
          "subject": "material science",
          "t": 20,
          "user": "M3"
         },
         {
          "Feature": "change-axis",
          "Process": "search-with-context",
          "State": 1,
          "component": "View Specification",
          "subject": "astro",
          "t": 21,
          "user": "A3"
         },
         {
          "Feature": "ignore-xrange",
          "Process": "top-down-querying",
          "State": 0,
          "component": "Match Specification",
          "subject": "genetics",
          "t": 21,
          "user": "G2"
         },
         {
          "Feature": "show-scatter",
          "Process": "search-with-context",
          "State": 1,
          "component": "View Specification",
          "subject": "material science",
          "t": 21,
          "user": "M1"
         },
         {
          "Feature": "change-axis",
          "Process": "search-with-context",
          "State": 1,
          "component": "View Specification",
          "subject": "material science",
          "t": 21,
          "user": "M2"
         },
         {
          "Feature": "filter",
          "Process": "search-with-context",
          "State": 1,
          "component": "Slice-and-Dice",
          "subject": "astro",
          "t": 22,
          "user": "A1"
         },
         {
          "Feature": "filter",
          "Process": "search-with-context",
          "State": 1,
          "component": "Slice-and-Dice",
          "subject": "astro",
          "t": 22,
          "user": "A2"
         },
         {
          "Feature": "control-kmeans-clustersize",
          "Process": "bottom-up-querying",
          "State": 2,
          "component": "Recommendation",
          "subject": "genetics",
          "t": 22,
          "user": "G1"
         },
         {
          "Feature": "sketch-to-query",
          "Process": "top-down-querying",
          "State": 0,
          "component": "Pattern Specification",
          "subject": "genetics",
          "t": 22,
          "user": "G2"
         },
         {
          "Feature": "sketch-to-modify",
          "Process": "top-down-querying",
          "State": 0,
          "component": "Pattern Specification",
          "subject": "material science",
          "t": 22,
          "user": "M2"
         },
         {
          "Feature": "filter",
          "Process": "search-with-context",
          "State": 1,
          "component": "Slice-and-Dice",
          "subject": "astro",
          "t": 23,
          "user": "A3"
         },
         {
          "Feature": "filter",
          "Process": "search-with-context",
          "State": 1,
          "component": "Slice-and-Dice",
          "subject": "genetics",
          "t": 23,
          "user": "G2"
         },
         {
          "Feature": "drag-and-drop",
          "Process": "bottom-up-querying",
          "State": 2,
          "component": "Result Querying",
          "subject": "material science",
          "t": 23,
          "user": "M2"
         },
         {
          "Feature": "drag-and-drop",
          "Process": "bottom-up-querying",
          "State": 2,
          "component": "Result Querying",
          "subject": "material science",
          "t": 23,
          "user": "M3"
         },
         {
          "Feature": "filter",
          "Process": "search-with-context",
          "State": 1,
          "component": "Slice-and-Dice",
          "subject": "astro",
          "t": 24,
          "user": "A1"
         },
         {
          "Feature": "representative-outlier",
          "Process": "bottom-up-querying",
          "State": 2,
          "component": "Recommendation",
          "subject": "astro",
          "t": 24,
          "user": "A2"
         },
         {
          "Feature": "filter",
          "Process": "search-with-context",
          "State": 1,
          "component": "Slice-and-Dice",
          "subject": "material science",
          "t": 24,
          "user": "M1"
         },
         {
          "Feature": "sketch-to-modify",
          "Process": "top-down-querying",
          "State": 0,
          "component": "Pattern Specification",
          "subject": "material science",
          "t": 24,
          "user": "M2"
         },
         {
          "Feature": "drag-and-drop",
          "Process": "bottom-up-querying",
          "State": 2,
          "component": "Result Querying",
          "subject": "astro",
          "t": 25,
          "user": "A2"
         },
         {
          "Feature": "filter",
          "Process": "search-with-context",
          "State": 1,
          "component": "Slice-and-Dice",
          "subject": "genetics",
          "t": 25,
          "user": "G2"
         },
         {
          "Feature": "filter",
          "Process": "search-with-context",
          "State": 1,
          "component": "Slice-and-Dice",
          "subject": "material science",
          "t": 25,
          "user": "M1"
         },
         {
          "Feature": "change-number-of-results",
          "Process": "top-down-querying",
          "State": 0,
          "component": "Match Specification",
          "subject": "astro",
          "t": 26,
          "user": "A2"
         },
         {
          "Feature": "change-axis",
          "Process": "search-with-context",
          "State": 1,
          "component": "View Specification",
          "subject": "astro",
          "t": 26,
          "user": "A3"
         },
         {
          "Feature": "filter",
          "Process": "search-with-context",
          "State": 1,
          "component": "Slice-and-Dice",
          "subject": "material science",
          "t": 26,
          "user": "M1"
         },
         {
          "Feature": "filter",
          "Process": "search-with-context",
          "State": 1,
          "component": "Slice-and-Dice",
          "subject": "genetics",
          "t": 27,
          "user": "G2"
         },
         {
          "Feature": "drag-and-drop",
          "Process": "bottom-up-querying",
          "State": 2,
          "component": "Result Querying",
          "subject": "material science",
          "t": 27,
          "user": "M2"
         },
         {
          "Feature": "sketch-to-modify",
          "Process": "top-down-querying",
          "State": 0,
          "component": "Pattern Specification",
          "subject": "material science",
          "t": 28,
          "user": "M2"
         },
         {
          "Feature": "change-axis",
          "Process": "search-with-context",
          "State": 1,
          "component": "View Specification",
          "subject": "material science",
          "t": 28,
          "user": "M3"
         },
         {
          "Feature": "brush-xrange",
          "Process": "top-down-querying",
          "State": 0,
          "component": "Match Specification",
          "subject": "astro",
          "t": 29,
          "user": "A1"
         },
         {
          "Feature": "input-equation",
          "Process": "top-down-querying",
          "State": 0,
          "component": "Pattern Specification",
          "subject": "astro",
          "t": 29,
          "user": "A3"
         },
         {
          "Feature": "filter",
          "Process": "search-with-context",
          "State": 1,
          "component": "Slice-and-Dice",
          "subject": "genetics",
          "t": 29,
          "user": "G2"
         },
         {
          "Feature": "representative-outlier",
          "Process": "bottom-up-querying",
          "State": 2,
          "component": "Recommendation",
          "subject": "genetics",
          "t": 31,
          "user": "G2"
         },
         {
          "Feature": "smoothing",
          "Process": "top-down-querying",
          "State": 0,
          "component": "Match Specification",
          "subject": "genetics",
          "t": 33,
          "user": "G2"
         },
         {
          "Feature": "dynamic-class",
          "Process": "search-with-context",
          "State": 1,
          "component": "Slice-and-Dice",
          "subject": "material science",
          "t": 33,
          "user": "M2"
         },
         {
          "Feature": "dynamic-class",
          "Process": "search-with-context",
          "State": 1,
          "component": "Slice-and-Dice",
          "subject": "astro",
          "t": 34,
          "user": "A2"
         },
         {
          "Feature": "smoothing",
          "Process": "top-down-querying",
          "State": 0,
          "component": "Match Specification",
          "subject": "genetics",
          "t": 34,
          "user": "G2"
         },
         {
          "Feature": "filter",
          "Process": "search-with-context",
          "State": 1,
          "component": "Slice-and-Dice",
          "subject": "astro",
          "t": 36,
          "user": "A1"
         },
         {
          "Feature": "pattern-upload",
          "Process": "top-down-querying",
          "State": 0,
          "component": "Pattern Specification",
          "subject": "genetics",
          "t": 36,
          "user": "G2"
         },
         {
          "Feature": "representative-outlier",
          "Process": "bottom-up-querying",
          "State": 2,
          "component": "Recommendation",
          "subject": "material science",
          "t": 36,
          "user": "M2"
         },
         {
          "Feature": "filter",
          "Process": "search-with-context",
          "State": 1,
          "component": "Slice-and-Dice",
          "subject": "astro",
          "t": 37,
          "user": "A1"
         },
         {
          "Feature": "change-axis",
          "Process": "search-with-context",
          "State": 1,
          "component": "View Specification",
          "subject": "astro",
          "t": 37,
          "user": "A2"
         },
         {
          "Feature": "filter",
          "Process": "search-with-context",
          "State": 1,
          "component": "Slice-and-Dice",
          "subject": "material science",
          "t": 37,
          "user": "M2"
         },
         {
          "Feature": "ignore-xrange",
          "Process": "top-down-querying",
          "State": 0,
          "component": "Match Specification",
          "subject": "astro",
          "t": 38,
          "user": "A2"
         },
         {
          "Feature": "smoothing",
          "Process": "top-down-querying",
          "State": 0,
          "component": "Match Specification",
          "subject": "astro",
          "t": 39,
          "user": "A1"
         },
         {
          "Feature": "filter",
          "Process": "search-with-context",
          "State": 1,
          "component": "Slice-and-Dice",
          "subject": "genetics",
          "t": 39,
          "user": "G2"
         },
         {
          "Feature": "change-axis",
          "Process": "search-with-context",
          "State": 1,
          "component": "View Specification",
          "subject": "material science",
          "t": 39,
          "user": "M2"
         },
         {
          "Feature": "sketch-to-query",
          "Process": "top-down-querying",
          "State": 0,
          "component": "Pattern Specification",
          "subject": "astro",
          "t": 40,
          "user": "A1"
         },
         {
          "Feature": "drag-and-drop",
          "Process": "bottom-up-querying",
          "State": 2,
          "component": "Result Querying",
          "subject": "genetics",
          "t": 40,
          "user": "G2"
         },
         {
          "Feature": "sketch-to-query",
          "Process": "top-down-querying",
          "State": 0,
          "component": "Pattern Specification",
          "subject": "astro",
          "t": 41,
          "user": "A1"
         },
         {
          "Feature": "filter",
          "Process": "search-with-context",
          "State": 1,
          "component": "Slice-and-Dice",
          "subject": "astro",
          "t": 42,
          "user": "A1"
         },
         {
          "Feature": "drag-and-drop",
          "Process": "bottom-up-querying",
          "State": 2,
          "component": "Result Querying",
          "subject": "astro",
          "t": 44,
          "user": "A2"
         },
         {
          "Feature": "representative-outlier",
          "Process": "bottom-up-querying",
          "State": 2,
          "component": "Recommendation",
          "subject": "genetics",
          "t": 44,
          "user": "G2"
         },
         {
          "Feature": "brush-xrange",
          "Process": "top-down-querying",
          "State": 0,
          "component": "Match Specification",
          "subject": "astro",
          "t": 46,
          "user": "A2"
         },
         {
          "Feature": "brush-xrange",
          "Process": "top-down-querying",
          "State": 0,
          "component": "Match Specification",
          "subject": "genetics",
          "t": 48,
          "user": "G2"
         },
         {
          "Feature": "dynamic-class",
          "Process": "search-with-context",
          "State": 1,
          "component": "Slice-and-Dice",
          "subject": "astro",
          "t": 50,
          "user": "A1"
         },
         {
          "Feature": "upload-dataset",
          "Process": "top-down-querying",
          "State": 0,
          "component": "Pattern Specification",
          "subject": "genetics",
          "t": 50,
          "user": "G2"
         },
         {
          "Feature": "dynamic-class",
          "Process": "search-with-context",
          "State": 1,
          "component": "Slice-and-Dice",
          "subject": "astro",
          "t": 51,
          "user": "A1"
         },
         {
          "Feature": "smoothing",
          "Process": "top-down-querying",
          "State": 0,
          "component": "Match Specification",
          "subject": "genetics",
          "t": 51,
          "user": "G2"
         },
         {
          "Feature": "control-kmeans-clustersize",
          "Process": "bottom-up-querying",
          "State": 2,
          "component": "Recommendation",
          "subject": "genetics",
          "t": 52,
          "user": "G2"
         },
         {
          "Feature": "dynamic-class",
          "Process": "search-with-context",
          "State": 1,
          "component": "Slice-and-Dice",
          "subject": "astro",
          "t": 53,
          "user": "A1"
         },
         {
          "Feature": "representative-outlier",
          "Process": "bottom-up-querying",
          "State": 2,
          "component": "Recommendation",
          "subject": "genetics",
          "t": 53,
          "user": "G2"
         },
         {
          "Feature": "filter",
          "Process": "search-with-context",
          "State": 1,
          "component": "Slice-and-Dice",
          "subject": "astro",
          "t": 55,
          "user": "A1"
         },
         {
          "Feature": "pattern-upload",
          "Process": "top-down-querying",
          "State": 0,
          "component": "Pattern Specification",
          "subject": "astro",
          "t": 58,
          "user": "A1"
         },
         {
          "Feature": "dynamic-class",
          "Process": "search-with-context",
          "State": 1,
          "component": "Slice-and-Dice",
          "subject": "astro",
          "t": 61,
          "user": "A1"
         },
         {
          "Feature": "filter",
          "Process": "search-with-context",
          "State": 1,
          "component": "Slice-and-Dice",
          "subject": "astro",
          "t": 63,
          "user": "A1"
         },
         {
          "Feature": "pattern-upload",
          "Process": "top-down-querying",
          "State": 0,
          "component": "Pattern Specification",
          "subject": "astro",
          "t": 66,
          "user": "A1"
         }
        ]
       },
       "encoding": {
        "color": {
         "field": "subject",
         "type": "nominal"
        },
        "x": {
         "aggregate": "count",
         "field": "t",
         "type": "quantitative"
        },
        "y": {
         "field": "Process",
         "sort": [
          "top-down-querying",
          "search-with-context",
          "bottom-up-querying"
         ],
         "type": "nominal"
        }
       },
       "mark": "point"
      },
      "image/png": "[encoded data removed]",
      "text/plain": [
       "<VegaLite 2 object>\n",
       "\n",
       "If you see this message, it means the renderer has not been properly enabled\n",
       "for the frontend that you are using. For more information, see\n",
       "https://altair-viz.github.io/user_guide/troubleshooting.html\n"
      ]
     },
     "execution_count": 93,
     "metadata": {},
     "output_type": "execute_result"
    }
   ],
   "source": [
    "alt.Chart(df_process[df_process[\"Process\"]!=\"BR\"]).mark_point().encode(\n",
    "    alt.Y(\"Process\",sort=[td,sc,bu]),\n",
    "    alt.X(\"t\",aggregate=\"count\"),\n",
    "    alt.Color(\"subject\")\n",
    ")"
   ]
  },
  {
   "cell_type": "code",
   "execution_count": 90,
   "metadata": {},
   "outputs": [
    {
     "data": {
      "text/plain": [
       "Process              subject         \n",
       "bottom-up-querying   astro               14\n",
       "                     genetics            25\n",
       "                     material science     7\n",
       "search-with-context  astro               28\n",
       "                     genetics             9\n",
       "                     material science    28\n",
       "top-down-querying    astro               19\n",
       "                     genetics            14\n",
       "                     material science    12\n",
       "Name: t, dtype: int64"
      ]
     },
     "execution_count": 90,
     "metadata": {},
     "output_type": "execute_result"
    }
   ],
   "source": [
    "df_process[df_process[\"Process\"]!=\"BR\"].groupby([\"Process\",\"subject\"]).count()[\"t\"]"
   ]
  },
  {
   "cell_type": "markdown",
   "metadata": {},
   "source": [
    "# Component-wise analysis"
   ]
  },
  {
   "cell_type": "code",
   "execution_count": 96,
   "metadata": {},
   "outputs": [],
   "source": [
    "def component_transition_matrix(all_users_actions,type=\"normalize\"):\n",
    "    n = 6\n",
    "    M = [[0]*n for _ in range(n)]\n",
    "    for transitions in all_users_actions:\n",
    "#         print (transitions)\n",
    "        if len(transitions)==1:\n",
    "            M[transitions[0]][transitions[0]]+=1\n",
    "            #print (\"single\")\n",
    "        else:\n",
    "            for (i,j) in zip(transitions,transitions[1:]):\n",
    "                M[i][j] += 1\n",
    "#                 print (\"added to {},{}\".format(i,j))\n",
    "    #now convert to probabilities:\n",
    "    if type==\"normalize\":\n",
    "        for row in M:\n",
    "            s = sum(row)\n",
    "            if s > 0:\n",
    "                row[:] = [f/s for f in row]\n",
    "    return np.array(M)"
   ]
  },
  {
   "cell_type": "code",
   "execution_count": 108,
   "metadata": {},
   "outputs": [],
   "source": [
    "def component_create_graph_viz_from_transition_matrix(Q,subject):\n",
    "    G= nx.DiGraph(directed=True)\n",
    "    states = range(6)\n",
    "    G.add_nodes_from(states)\n",
    "\n",
    "    edge_labels={}\n",
    "    for i in range(len(states)):\n",
    "        for j in range(len(states)):\n",
    "            prob = Q[i][j]\n",
    "            if prob > 0:\n",
    "                G.add_edge(i,\n",
    "                           j,\n",
    "                           weight=prob,\n",
    "                           label=\"{:.02g}\".format(prob))\n",
    "                edge_labels[(i,j)] = label=\"{:.02g}\".format(prob)\n",
    "    G = nx.relabel_nodes(G, {0: 'Pattern Specification', 1: 'Match Specification', 2: 'View Specification',3:'Slice-and-Dice',4:'Result Querying',5:'Recommendation'})\n",
    "    write_dot(G,subject+'.dot')\n",
    "    os.system(\"neato -Tps -Goverlap=scale -Elen=3 {0}.dot -o {0}.ps; convert {0}.ps {0}.png\".format(subject))\n",
    "    return G"
   ]
  },
  {
   "cell_type": "code",
   "execution_count": 109,
   "metadata": {},
   "outputs": [],
   "source": [
    "df_component.loc[df_component[\"component\"]==\"Pattern Specification\",\"State\"]=0\n",
    "df_component.loc[df_component[\"component\"]==\"Match Specification\",\"State\"]=1\n",
    "df_component.loc[df_component[\"component\"]==\"View Specification\",\"State\"]=2\n",
    "df_component.loc[df_component[\"component\"]==\"Slice-and-Dice\",\"State\"]=3\n",
    "df_component.loc[df_component[\"component\"]==\"Result Querying\",\"State\"]=4\n",
    "df_component.loc[df_component[\"component\"]==\"Recommendation\",\"State\"]=5\n",
    "df_process.loc[df_process[\"Process\"]==\"BR\",\"State\"]=-1\n",
    "df_process[\"State\"] = df_process[\"State\"].astype(int)"
   ]
  },
  {
   "cell_type": "code",
   "execution_count": 110,
   "metadata": {},
   "outputs": [
    {
     "name": "stdout",
     "output_type": "stream",
     "text": [
      "Pagerank: {'Pattern Specification': 0.15064010452853296, 'Match Specification': 0.27965632952539476, 'View Specification': 0.07533361218364384, 'Slice-and-Dice': 0.2898907167899551, 'Result Querying': 0.12150104273182798, 'Recommendation': 0.08297819424064534}\n"
     ]
    }
   ],
   "source": [
    "subject_code= \"A\"\n",
    "user_seq= isplit(list(df_component[df_component[\"user\"]==subject_code+\"1\"][\"State\"]),(-1,))\n",
    "user_seq2= isplit(list(df_component[df_component[\"user\"]==subject_code+\"2\"][\"State\"]),(-1,))\n",
    "user_seq3= isplit(list(df_component[df_component[\"user\"]==subject_code+\"3\"][\"State\"]),(-1,))\n",
    "all_users_for_subject = user_seq+user_seq2+user_seq3\n",
    "Q = component_transition_matrix(all_users_for_subject,\"unnormalized\")\n",
    "G = component_create_graph_viz_from_transition_matrix(Q,\"astro_break_unnormalized_component\")\n",
    "print (\"Pagerank:\",nx.pagerank(G))"
   ]
  },
  {
   "cell_type": "code",
   "execution_count": 111,
   "metadata": {},
   "outputs": [
    {
     "name": "stdout",
     "output_type": "stream",
     "text": [
      "Pagerank: {'Pattern Specification': 0.09529307850342421, 'Match Specification': 0.18287545054084006, 'View Specification': 0.043478589270047115, 'Slice-and-Dice': 0.18970628367834305, 'Result Querying': 0.15247495385493695, 'Recommendation': 0.3361716441524086}\n"
     ]
    }
   ],
   "source": [
    "subject_code= \"G\"\n",
    "user_seq= isplit(list(df_component[df_component[\"user\"]==subject_code+\"1\"][\"State\"]),(-1,))\n",
    "user_seq2= isplit(list(df_component[df_component[\"user\"]==subject_code+\"2\"][\"State\"]),(-1,))\n",
    "user_seq3= isplit(list(df_component[df_component[\"user\"]==subject_code+\"3\"][\"State\"]),(-1,))\n",
    "all_users_for_subject = user_seq+user_seq2+user_seq3\n",
    "Q = component_transition_matrix(all_users_for_subject,\"unnormalized\")\n",
    "G = component_create_graph_viz_from_transition_matrix(Q,\"genetics_break_unnormalized_component\")\n",
    "print (\"Pagerank:\",nx.pagerank(G))"
   ]
  },
  {
   "cell_type": "code",
   "execution_count": 112,
   "metadata": {},
   "outputs": [
    {
     "name": "stdout",
     "output_type": "stream",
     "text": [
      "Pagerank: {'Pattern Specification': 0.21213027932026135, 'Match Specification': 0.0732102984522294, 'View Specification': 0.1917631978654886, 'Slice-and-Dice': 0.2990823732711139, 'Result Querying': 0.16028028465449726, 'Recommendation': 0.063533566436409}\n"
     ]
    }
   ],
   "source": [
    "subject_code= \"M\"\n",
    "user_seq= isplit(list(df_component[df_component[\"user\"]==subject_code+\"1\"][\"State\"]),(-1,))\n",
    "user_seq2= isplit(list(df_component[df_component[\"user\"]==subject_code+\"2\"][\"State\"]),(-1,))\n",
    "user_seq3= isplit(list(df_component[df_component[\"user\"]==subject_code+\"3\"][\"State\"]),(-1,))\n",
    "all_users_for_subject = user_seq+user_seq2+user_seq3\n",
    "Q = component_transition_matrix(all_users_for_subject,\"unnormalized\")\n",
    "G = component_create_graph_viz_from_transition_matrix(Q,\"matsci_break_unnormalized_component\")\n",
    "\n",
    "print (\"Pagerank:\",nx.pagerank(G))"
   ]
  },
  {
   "cell_type": "code",
   "execution_count": 118,
   "metadata": {},
   "outputs": [
    {
     "name": "stdout",
     "output_type": "stream",
     "text": [
      "Pagerank: {'Pattern Specification': 0.150640104528533, 'Match Specification': 0.2796563295253948, 'View Specification': 0.07533361218364384, 'Slice-and-Dice': 0.2898907167899551, 'Result Querying': 0.12150104273182798, 'Recommendation': 0.08297819424064534}\n"
     ]
    }
   ],
   "source": [
    "subject_code= \"A\"\n",
    "user_seq= isplit(list(df_component[df_component[\"user\"]==subject_code+\"1\"][\"State\"]),(-1,))\n",
    "user_seq2= isplit(list(df_component[df_component[\"user\"]==subject_code+\"2\"][\"State\"]),(-1,))\n",
    "user_seq3= isplit(list(df_component[df_component[\"user\"]==subject_code+\"3\"][\"State\"]),(-1,))\n",
    "all_users_for_subject = user_seq+user_seq2+user_seq3\n",
    "Q = component_transition_matrix(all_users_for_subject)\n",
    "G = component_create_graph_viz_from_transition_matrix(Q,\"astro_break_component\")\n",
    "\n",
    "print (\"Pagerank:\",nx.pagerank(G))\n"
   ]
  },
  {
   "cell_type": "code",
   "execution_count": 117,
   "metadata": {},
   "outputs": [
    {
     "name": "stdout",
     "output_type": "stream",
     "text": [
      "Pagerank: {'Pattern Specification': 0.09529307850342421, 'Match Specification': 0.18287545054084006, 'View Specification': 0.043478589270047115, 'Slice-and-Dice': 0.18970628367834305, 'Result Querying': 0.15247495385493695, 'Recommendation': 0.3361716441524086}\n"
     ]
    }
   ],
   "source": [
    "\n",
    "subject_code= \"G\"\n",
    "user_seq= isplit(list(df_component[df_component[\"user\"]==subject_code+\"1\"][\"State\"]),(-1,))\n",
    "user_seq2= isplit(list(df_component[df_component[\"user\"]==subject_code+\"2\"][\"State\"]),(-1,))\n",
    "user_seq3= isplit(list(df_component[df_component[\"user\"]==subject_code+\"3\"][\"State\"]),(-1,))\n",
    "all_users_for_subject = user_seq+user_seq2+user_seq3\n",
    "Q = component_transition_matrix(all_users_for_subject)\n",
    "G = component_create_graph_viz_from_transition_matrix(Q,\"genetics_break_component\")\n",
    "print (\"Pagerank:\",nx.pagerank(G))"
   ]
  },
  {
   "cell_type": "code",
   "execution_count": 116,
   "metadata": {},
   "outputs": [
    {
     "name": "stdout",
     "output_type": "stream",
     "text": [
      "Pagerank: {'Pattern Specification': 0.2121302793202614, 'Match Specification': 0.07321029845222943, 'View Specification': 0.19176319786548868, 'Slice-and-Dice': 0.2990823732711141, 'Result Querying': 0.1602802846544973, 'Recommendation': 0.06353356643640903}\n"
     ]
    }
   ],
   "source": [
    "subject_code= \"M\"\n",
    "user_seq= isplit(list(df_component[df_component[\"user\"]==subject_code+\"1\"][\"State\"]),(-1,))\n",
    "user_seq2= isplit(list(df_component[df_component[\"user\"]==subject_code+\"2\"][\"State\"]),(-1,))\n",
    "user_seq3= isplit(list(df_component[df_component[\"user\"]==subject_code+\"3\"][\"State\"]),(-1,))\n",
    "all_users_for_subject = user_seq+user_seq2+user_seq3\n",
    "Q = component_transition_matrix(all_users_for_subject)\n",
    "G = component_create_graph_viz_from_transition_matrix(Q,\"matsci_break_component\")\n",
    "\n",
    "print (\"Pagerank:\",nx.pagerank(G))"
   ]
  },
  {
   "cell_type": "code",
   "execution_count": null,
   "metadata": {},
   "outputs": [],
   "source": []
  }
 ],
 "metadata": {
  "kernelspec": {
   "display_name": "Python 3",
   "language": "python",
   "name": "python3"
  },
  "language_info": {
   "codemirror_mode": {
    "name": "ipython",
    "version": 3
   },
   "file_extension": ".py",
   "mimetype": "text/x-python",
   "name": "python",
   "nbconvert_exporter": "python",
   "pygments_lexer": "ipython3",
   "version": "3.7.0"
  }
 },
 "nbformat": 4,
 "nbformat_minor": 2
}
