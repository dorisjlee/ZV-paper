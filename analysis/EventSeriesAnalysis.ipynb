{
 "cells": [
  {
   "cell_type": "code",
   "execution_count": 1,
   "metadata": {
    "collapsed": true
   },
   "outputs": [],
   "source": [
    "import pandas as pd"
   ]
  },
  {
   "cell_type": "code",
   "execution_count": 2,
   "metadata": {
    "collapsed": false
   },
   "outputs": [],
   "source": [
    "df = pd.read_csv(\"StudyEventTimeSeries.csv\")"
   ]
  },
  {
   "cell_type": "code",
   "execution_count": 3,
   "metadata": {},
   "outputs": [],
   "source": [
    "import numpy as np"
   ]
  },
  {
   "cell_type": "code",
   "execution_count": 4,
   "metadata": {},
   "outputs": [
    {
     "name": "stderr",
     "output_type": "stream",
     "text": [
      "/Users/dorislee/.virtualenvs/py37env/lib/python3.7/site-packages/ipykernel_launcher.py:1: FutureWarning: Method .as_matrix will be removed in a future version. Use .values instead.\n",
      "  \"\"\"Entry point for launching an IPython kernel.\n"
     ]
    }
   ],
   "source": [
    "codelist = list(set(df.as_matrix().flatten()))\n",
    "codelist.remove(np.nan)"
   ]
  },
  {
   "cell_type": "code",
   "execution_count": 5,
   "metadata": {},
   "outputs": [],
   "source": [
    "featureOnly= list(filter(lambda x: x.isupper(),codelist))\n",
    "themeOnly= list(filter(lambda x: x.islower(),codelist))"
   ]
  },
  {
   "cell_type": "code",
   "execution_count": 6,
   "metadata": {
    "collapsed": false
   },
   "outputs": [],
   "source": [
    "# df[\"t\"]=df.index"
   ]
  },
  {
   "cell_type": "code",
   "execution_count": 7,
   "metadata": {},
   "outputs": [],
   "source": [
    "df = df.stack().reset_index()"
   ]
  },
  {
   "cell_type": "code",
   "execution_count": 8,
   "metadata": {},
   "outputs": [],
   "source": [
    "df = df.rename(columns={\n",
    "    \"level_0\":\"t\",\n",
    "    \"level_1\":\"user\",\n",
    "    0:\"action\"\n",
    "})"
   ]
  },
  {
   "cell_type": "code",
   "execution_count": 9,
   "metadata": {
    "collapsed": false
   },
   "outputs": [],
   "source": [
    "import altair as alt"
   ]
  },
  {
   "cell_type": "code",
   "execution_count": 10,
   "metadata": {
    "collapsed": false
   },
   "outputs": [
    {
     "data": {
      "application/vnd.vegalite.v2+json": {
       "$schema": "https://vega.github.io/schema/vega-lite/v2.6.0.json",
       "config": {
        "view": {
         "height": 300,
         "width": 400
        }
       },
       "data": {
        "name": "data-aa7fb16e5f2d2bd0acf4e57627322565"
       },
       "datasets": {
        "data-aa7fb16e5f2d2bd0acf4e57627322565": [
         {
          "action": "filter",
          "t": 0,
          "user": "A1"
         },
         {
          "action": "filter",
          "t": 0,
          "user": "A2"
         },
         {
          "action": "drag-and-drop",
          "t": 0,
          "user": "A3"
         },
         {
          "action": "representative-outlier",
          "t": 0,
          "user": "G1"
         },
         {
          "action": "representative-outlier",
          "t": 0,
          "user": "G2"
         },
         {
          "action": "ID",
          "t": 0,
          "user": "G3"
         },
         {
          "action": "PD",
          "t": 0,
          "user": "M1"
         },
         {
          "action": "show-scatter",
          "t": 0,
          "user": "M2"
         },
         {
          "action": "dynamic-class",
          "t": 0,
          "user": "M3"
         },
         {
          "action": "filter",
          "t": 1,
          "user": "A1"
         },
         {
          "action": "E",
          "t": 1,
          "user": "A2"
         },
         {
          "action": "drag-and-drop",
          "t": 1,
          "user": "A3"
         },
         {
          "action": "control-kmeans-clustersize",
          "t": 1,
          "user": "G1"
         },
         {
          "action": "IS",
          "t": 1,
          "user": "G2"
         },
         {
          "action": "C",
          "t": 1,
          "user": "G3"
         },
         {
          "action": "sketch-to-query",
          "t": 1,
          "user": "M1"
         },
         {
          "action": "change-axis",
          "t": 1,
          "user": "M2"
         },
         {
          "action": "ID",
          "t": 1,
          "user": "M3"
         },
         {
          "action": "filter",
          "t": 2,
          "user": "A1"
         },
         {
          "action": "E",
          "t": 2,
          "user": "A2"
         },
         {
          "action": "sketch-to-modify",
          "t": 2,
          "user": "A3"
         },
         {
          "action": "representative-outlier",
          "t": 2,
          "user": "G1"
         },
         {
          "action": "BR",
          "t": 2,
          "user": "G2"
         },
         {
          "action": "W",
          "t": 2,
          "user": "G3"
         },
         {
          "action": "ignore-xrange",
          "t": 2,
          "user": "M1"
         },
         {
          "action": "PS",
          "t": 2,
          "user": "M2"
         },
         {
          "action": "show-scatter",
          "t": 2,
          "user": "M3"
         },
         {
          "action": "filter",
          "t": 3,
          "user": "A1"
         },
         {
          "action": "drag-and-drop",
          "t": 3,
          "user": "A2"
         },
         {
          "action": "ignore-xrange",
          "t": 3,
          "user": "A3"
         },
         {
          "action": "control-kmeans-clustersize",
          "t": 3,
          "user": "G1"
         },
         {
          "action": "representative-outlier",
          "t": 3,
          "user": "G2"
         },
         {
          "action": "show-scatter",
          "t": 3,
          "user": "G3"
         },
         {
          "action": "C",
          "t": 3,
          "user": "M1"
         },
         {
          "action": "dynamic-class",
          "t": 3,
          "user": "M2"
         },
         {
          "action": "IS",
          "t": 3,
          "user": "M3"
         },
         {
          "action": "BR",
          "t": 4,
          "user": "A1"
         },
         {
          "action": "W",
          "t": 4,
          "user": "A2"
         },
         {
          "action": "BR",
          "t": 4,
          "user": "A3"
         },
         {
          "action": "W",
          "t": 4,
          "user": "G1"
         },
         {
          "action": "control-kmeans-clustersize",
          "t": 4,
          "user": "G2"
         },
         {
          "action": "upload-dataset",
          "t": 4,
          "user": "G3"
         },
         {
          "action": "change-axis",
          "t": 4,
          "user": "M1"
         },
         {
          "action": "dynamic-class",
          "t": 4,
          "user": "M2"
         },
         {
          "action": "dynamic-class",
          "t": 4,
          "user": "M3"
         },
         {
          "action": "IS",
          "t": 5,
          "user": "A1"
         },
         {
          "action": "ID",
          "t": 5,
          "user": "A2"
         },
         {
          "action": "drag-and-drop",
          "t": 5,
          "user": "A3"
         },
         {
          "action": "IS",
          "t": 5,
          "user": "G1"
         },
         {
          "action": "representative-outlier",
          "t": 5,
          "user": "G2"
         },
         {
          "action": "BR",
          "t": 5,
          "user": "G3"
         },
         {
          "action": "W",
          "t": 5,
          "user": "M1"
         },
         {
          "action": "dynamic-class",
          "t": 5,
          "user": "M2"
         },
         {
          "action": "PS",
          "t": 5,
          "user": "M3"
         },
         {
          "action": "E",
          "t": 6,
          "user": "A1"
         },
         {
          "action": "E",
          "t": 6,
          "user": "A2"
         },
         {
          "action": "ignore-xrange",
          "t": 6,
          "user": "A3"
         },
         {
          "action": "BR",
          "t": 6,
          "user": "G1"
         },
         {
          "action": "filter",
          "t": 6,
          "user": "G2"
         },
         {
          "action": "representative-outlier",
          "t": 6,
          "user": "G3"
         },
         {
          "action": "W",
          "t": 6,
          "user": "M1"
         },
         {
          "action": "dynamic-class",
          "t": 6,
          "user": "M2"
         },
         {
          "action": "dynamic-class",
          "t": 6,
          "user": "M3"
         },
         {
          "action": "E",
          "t": 7,
          "user": "A1"
         },
         {
          "action": "ID",
          "t": 7,
          "user": "A2"
         },
         {
          "action": "change-metric",
          "t": 7,
          "user": "A3"
         },
         {
          "action": "drag-and-drop",
          "t": 7,
          "user": "G1"
         },
         {
          "action": "C",
          "t": 7,
          "user": "G2"
         },
         {
          "action": "W",
          "t": 7,
          "user": "G3"
         },
         {
          "action": "W",
          "t": 7,
          "user": "M1"
         },
         {
          "action": "PS",
          "t": 7,
          "user": "M2"
         },
         {
          "action": "ID",
          "t": 7,
          "user": "M3"
         },
         {
          "action": "drag-and-drop",
          "t": 8,
          "user": "A1"
         },
         {
          "action": "BR",
          "t": 8,
          "user": "A2"
         },
         {
          "action": "C",
          "t": 8,
          "user": "A3"
         },
         {
          "action": "IS",
          "t": 8,
          "user": "G1"
         },
         {
          "action": "BR",
          "t": 8,
          "user": "G2"
         },
         {
          "action": "change-metric",
          "t": 8,
          "user": "G3"
         },
         {
          "action": "brush-xrange",
          "t": 8,
          "user": "M1"
         },
         {
          "action": "dynamic-class",
          "t": 8,
          "user": "M2"
         },
         {
          "action": "change-axis",
          "t": 8,
          "user": "M3"
         },
         {
          "action": "ID",
          "t": 9,
          "user": "A1"
         },
         {
          "action": "filter",
          "t": 9,
          "user": "A2"
         },
         {
          "action": "brush-xrange",
          "t": 9,
          "user": "A3"
         },
         {
          "action": "W",
          "t": 9,
          "user": "G1"
         },
         {
          "action": "W",
          "t": 9,
          "user": "G2"
         },
         {
          "action": "control-kmeans-clustersize",
          "t": 9,
          "user": "G3"
         },
         {
          "action": "change-axis",
          "t": 9,
          "user": "M1"
         },
         {
          "action": "IS",
          "t": 9,
          "user": "M2"
         },
         {
          "action": "IS",
          "t": 9,
          "user": "M3"
         },
         {
          "action": "filter",
          "t": 10,
          "user": "A1"
         },
         {
          "action": "E",
          "t": 10,
          "user": "A2"
         },
         {
          "action": "change-metric",
          "t": 10,
          "user": "A3"
         },
         {
          "action": "BR",
          "t": 10,
          "user": "G1"
         },
         {
          "action": "drag-and-drop",
          "t": 10,
          "user": "G2"
         },
         {
          "action": "representative-outlier",
          "t": 10,
          "user": "G3"
         },
         {
          "action": "IS",
          "t": 10,
          "user": "M1"
         },
         {
          "action": "IS",
          "t": 10,
          "user": "M2"
         },
         {
          "action": "drag-and-drop",
          "t": 10,
          "user": "M3"
         },
         {
          "action": "E",
          "t": 11,
          "user": "A1"
         },
         {
          "action": "PD",
          "t": 11,
          "user": "A2"
         },
         {
          "action": "ID",
          "t": 11,
          "user": "A3"
         },
         {
          "action": "drag-and-drop",
          "t": 11,
          "user": "G1"
         },
         {
          "action": "W",
          "t": 11,
          "user": "G2"
         },
         {
          "action": "ID",
          "t": 11,
          "user": "G3"
         },
         {
          "action": "representative-outlier",
          "t": 11,
          "user": "M1"
         },
         {
          "action": "C",
          "t": 11,
          "user": "M2"
         },
         {
          "action": "dynamic-class",
          "t": 11,
          "user": "M3"
         },
         {
          "action": "IS",
          "t": 12,
          "user": "A1"
         },
         {
          "action": "export",
          "t": 12,
          "user": "A2"
         },
         {
          "action": "change-metric",
          "t": 12,
          "user": "A3"
         },
         {
          "action": "min-similarity-cutoff",
          "t": 12,
          "user": "G1"
         },
         {
          "action": "filter",
          "t": 12,
          "user": "G2"
         },
         {
          "action": "drag-and-drop",
          "t": 12,
          "user": "G3"
         },
         {
          "action": "W",
          "t": 12,
          "user": "M1"
         },
         {
          "action": "BR",
          "t": 12,
          "user": "M2"
         },
         {
          "action": "IS",
          "t": 12,
          "user": "M3"
         },
         {
          "action": "PS",
          "t": 13,
          "user": "A1"
         },
         {
          "action": "filter",
          "t": 13,
          "user": "A2"
         },
         {
          "action": "W",
          "t": 13,
          "user": "A3"
         },
         {
          "action": "brush-xrange",
          "t": 13,
          "user": "G1"
         },
         {
          "action": "PS",
          "t": 13,
          "user": "G2"
         },
         {
          "action": "IS",
          "t": 13,
          "user": "G3"
         },
         {
          "action": "PS",
          "t": 13,
          "user": "M1"
         },
         {
          "action": "W",
          "t": 13,
          "user": "M2"
         },
         {
          "action": "change-metric",
          "t": 13,
          "user": "M3"
         },
         {
          "action": "E",
          "t": 14,
          "user": "A1"
         },
         {
          "action": "E",
          "t": 14,
          "user": "A2"
         },
         {
          "action": "BR",
          "t": 14,
          "user": "A3"
         },
         {
          "action": "export",
          "t": 14,
          "user": "G1"
         },
         {
          "action": "BR",
          "t": 14,
          "user": "G2"
         },
         {
          "action": "BR",
          "t": 14,
          "user": "G3"
         },
         {
          "action": "dynamic-class",
          "t": 14,
          "user": "M1"
         },
         {
          "action": "dynamic-class",
          "t": 14,
          "user": "M2"
         },
         {
          "action": "C",
          "t": 14,
          "user": "M3"
         },
         {
          "action": "PS",
          "t": 15,
          "user": "A1"
         },
         {
          "action": "PD",
          "t": 15,
          "user": "A2"
         },
         {
          "action": "filter",
          "t": 15,
          "user": "A3"
         },
         {
          "action": "BR",
          "t": 15,
          "user": "G1"
         },
         {
          "action": "show-scatter",
          "t": 15,
          "user": "G2"
         },
         {
          "action": "export",
          "t": 15,
          "user": "G3"
         },
         {
          "action": "PD",
          "t": 15,
          "user": "M1"
         },
         {
          "action": "IS",
          "t": 15,
          "user": "M2"
         },
         {
          "action": "drag-and-drop",
          "t": 15,
          "user": "M3"
         },
         {
          "action": "PD",
          "t": 16,
          "user": "A1"
         },
         {
          "action": "filter",
          "t": 16,
          "user": "A2"
         },
         {
          "action": "W",
          "t": 16,
          "user": "A3"
         },
         {
          "action": "control-kmeans-clustersize",
          "t": 16,
          "user": "G1"
         },
         {
          "action": "ID",
          "t": 16,
          "user": "G2"
         },
         {
          "action": "BR",
          "t": 16,
          "user": "G3"
         },
         {
          "action": "IS",
          "t": 16,
          "user": "M1"
         },
         {
          "action": "sketch-to-query",
          "t": 16,
          "user": "M2"
         },
         {
          "action": "IS",
          "t": 16,
          "user": "M3"
         },
         {
          "action": "reverse-y",
          "t": 17,
          "user": "A1"
         },
         {
          "action": "E",
          "t": 17,
          "user": "A2"
         },
         {
          "action": "W",
          "t": 17,
          "user": "A3"
         },
         {
          "action": "C",
          "t": 17,
          "user": "G1"
         },
         {
          "action": "BR",
          "t": 17,
          "user": "G2"
         },
         {
          "action": "representative-outlier",
          "t": 17,
          "user": "G3"
         },
         {
          "action": "BR",
          "t": 17,
          "user": "M1"
         },
         {
          "action": "C",
          "t": 17,
          "user": "M2"
         },
         {
          "action": "BR",
          "t": 17,
          "user": "M3"
         },
         {
          "action": "E",
          "t": 18,
          "user": "A1"
         },
         {
          "action": "PD",
          "t": 18,
          "user": "A2"
         },
         {
          "action": "filter",
          "t": 18,
          "user": "A3"
         },
         {
          "action": "W",
          "t": 18,
          "user": "G1"
         },
         {
          "action": "sketch-to-query",
          "t": 18,
          "user": "G2"
         },
         {
          "action": "IS",
          "t": 18,
          "user": "G3"
         },
         {
          "action": "filter",
          "t": 18,
          "user": "M1"
         },
         {
          "action": "sketch-to-modify",
          "t": 18,
          "user": "M2"
         },
         {
          "action": "change-axis",
          "t": 18,
          "user": "M3"
         },
         {
          "action": "PS",
          "t": 19,
          "user": "A1"
         },
         {
          "action": "export",
          "t": 19,
          "user": "A2"
         },
         {
          "action": "ID",
          "t": 19,
          "user": "A3"
         },
         {
          "action": "drag-and-drop",
          "t": 19,
          "user": "G1"
         },
         {
          "action": "ID",
          "t": 19,
          "user": "G2"
         },
         {
          "action": "ignore-xrange",
          "t": 19,
          "user": "G3"
         },
         {
          "action": "sketch-to-query",
          "t": 19,
          "user": "M1"
         },
         {
          "action": "BR",
          "t": 19,
          "user": "M2"
         },
         {
          "action": "sketch-to-modify",
          "t": 19,
          "user": "M3"
         },
         {
          "action": "BR",
          "t": 20,
          "user": "A1"
         },
         {
          "action": "export",
          "t": 20,
          "user": "A2"
         },
         {
          "action": "BR",
          "t": 20,
          "user": "A3"
         },
         {
          "action": "drag-and-drop",
          "t": 20,
          "user": "G1"
         },
         {
          "action": "W",
          "t": 20,
          "user": "G2"
         },
         {
          "action": "IS",
          "t": 20,
          "user": "G3"
         },
         {
          "action": "show-scatter",
          "t": 20,
          "user": "M1"
         },
         {
          "action": "change-axis",
          "t": 20,
          "user": "M2"
         },
         {
          "action": "sketch-to-modify",
          "t": 20,
          "user": "M3"
         },
         {
          "action": "drag-and-drop",
          "t": 21,
          "user": "A1"
         },
         {
          "action": "filter",
          "t": 21,
          "user": "A2"
         },
         {
          "action": "change-axis",
          "t": 21,
          "user": "A3"
         },
         {
          "action": "ID",
          "t": 21,
          "user": "G1"
         },
         {
          "action": "ignore-xrange",
          "t": 21,
          "user": "G2"
         },
         {
          "action": "BR",
          "t": 21,
          "user": "G3"
         },
         {
          "action": "W",
          "t": 21,
          "user": "M1"
         },
         {
          "action": "sketch-to-modify",
          "t": 21,
          "user": "M2"
         },
         {
          "action": "BR",
          "t": 21,
          "user": "M3"
         },
         {
          "action": "C",
          "t": 22,
          "user": "A1"
         },
         {
          "action": "E",
          "t": 22,
          "user": "A2"
         },
         {
          "action": "ID",
          "t": 22,
          "user": "A3"
         },
         {
          "action": "control-kmeans-clustersize",
          "t": 22,
          "user": "G1"
         },
         {
          "action": "sketch-to-query",
          "t": 22,
          "user": "G2"
         },
         {
          "action": "filter",
          "t": 22,
          "user": "M1"
         },
         {
          "action": "drag-and-drop",
          "t": 22,
          "user": "M2"
         },
         {
          "action": "PS",
          "t": 22,
          "user": "M3"
         },
         {
          "action": "filter",
          "t": 23,
          "user": "A1"
         },
         {
          "action": "export",
          "t": 23,
          "user": "A2"
         },
         {
          "action": "filter",
          "t": 23,
          "user": "A3"
         },
         {
          "action": "C",
          "t": 23,
          "user": "G1"
         },
         {
          "action": "filter",
          "t": 23,
          "user": "G2"
         },
         {
          "action": "filter",
          "t": 23,
          "user": "M1"
         },
         {
          "action": "sketch-to-modify",
          "t": 23,
          "user": "M2"
         },
         {
          "action": "drag-and-drop",
          "t": 23,
          "user": "M3"
         },
         {
          "action": "BR",
          "t": 24,
          "user": "A1"
         },
         {
          "action": "BR",
          "t": 24,
          "user": "A2"
         },
         {
          "action": "W",
          "t": 24,
          "user": "A3"
         },
         {
          "action": "W",
          "t": 24,
          "user": "G1"
         },
         {
          "action": "IS",
          "t": 24,
          "user": "G2"
         },
         {
          "action": "filter",
          "t": 24,
          "user": "M1"
         },
         {
          "action": "ID",
          "t": 24,
          "user": "M2"
         },
         {
          "action": "ID",
          "t": 24,
          "user": "M3"
         },
         {
          "action": "filter",
          "t": 25,
          "user": "A1"
         },
         {
          "action": "PS",
          "t": 25,
          "user": "A2"
         },
         {
          "action": "BR",
          "t": 25,
          "user": "A3"
         },
         {
          "action": "PS",
          "t": 25,
          "user": "G1"
         },
         {
          "action": "filter",
          "t": 25,
          "user": "G2"
         },
         {
          "action": "ID",
          "t": 25,
          "user": "M1"
         },
         {
          "action": "C",
          "t": 25,
          "user": "M2"
         },
         {
          "action": "W",
          "t": 25,
          "user": "M3"
         },
         {
          "action": "PS",
          "t": 26,
          "user": "A1"
         },
         {
          "action": "E",
          "t": 26,
          "user": "A2"
         },
         {
          "action": "change-axis",
          "t": 26,
          "user": "A3"
         },
         {
          "action": "W",
          "t": 26,
          "user": "G1"
         },
         {
          "action": "BR",
          "t": 26,
          "user": "G2"
         },
         {
          "action": "BR",
          "t": 26,
          "user": "M1"
         },
         {
          "action": "drag-and-drop",
          "t": 26,
          "user": "M2"
         },
         {
          "action": "IS",
          "t": 26,
          "user": "M3"
         },
         {
          "action": "E",
          "t": 27,
          "user": "A1"
         },
         {
          "action": "E",
          "t": 27,
          "user": "A2"
         },
         {
          "action": "PS",
          "t": 27,
          "user": "A3"
         },
         {
          "action": "BR",
          "t": 27,
          "user": "G1"
         },
         {
          "action": "filter",
          "t": 27,
          "user": "G2"
         },
         {
          "action": "W",
          "t": 27,
          "user": "M1"
         },
         {
          "action": "sketch-to-modify",
          "t": 27,
          "user": "M2"
         },
         {
          "action": "BR",
          "t": 27,
          "user": "M3"
         },
         {
          "action": "E",
          "t": 28,
          "user": "A1"
         },
         {
          "action": "dynamic-class",
          "t": 28,
          "user": "A2"
         },
         {
          "action": "BR",
          "t": 28,
          "user": "A3"
         },
         {
          "action": "PS",
          "t": 28,
          "user": "G2"
         },
         {
          "action": "E",
          "t": 28,
          "user": "M1"
         },
         {
          "action": "IS",
          "t": 28,
          "user": "M2"
         },
         {
          "action": "change-axis",
          "t": 28,
          "user": "M3"
         },
         {
          "action": "PS",
          "t": 29,
          "user": "A1"
         },
         {
          "action": "W",
          "t": 29,
          "user": "A2"
         },
         {
          "action": "input-equation",
          "t": 29,
          "user": "A3"
         },
         {
          "action": "filter",
          "t": 29,
          "user": "G2"
         },
         {
          "action": "E",
          "t": 29,
          "user": "M1"
         },
         {
          "action": "C",
          "t": 29,
          "user": "M2"
         },
         {
          "action": "W",
          "t": 29,
          "user": "M3"
         },
         {
          "action": "brush-xrange",
          "t": 30,
          "user": "A1"
         },
         {
          "action": "E",
          "t": 30,
          "user": "A2"
         },
         {
          "action": "BR",
          "t": 30,
          "user": "A3"
         },
         {
          "action": "W",
          "t": 30,
          "user": "G2"
         },
         {
          "action": "W",
          "t": 30,
          "user": "M1"
         },
         {
          "action": "C",
          "t": 30,
          "user": "M2"
         },
         {
          "action": "W",
          "t": 30,
          "user": "M3"
         },
         {
          "action": "W",
          "t": 31,
          "user": "A1"
         },
         {
          "action": "change-axis",
          "t": 31,
          "user": "A2"
         },
         {
          "action": "export",
          "t": 31,
          "user": "A3"
         },
         {
          "action": "representative-outlier",
          "t": 31,
          "user": "G2"
         },
         {
          "action": "E",
          "t": 31,
          "user": "M1"
         },
         {
          "action": "BR",
          "t": 31,
          "user": "M2"
         },
         {
          "action": "BR",
          "t": 31,
          "user": "M3"
         },
         {
          "action": "ID",
          "t": 32,
          "user": "A1"
         },
         {
          "action": "ignore-xrange",
          "t": 32,
          "user": "A2"
         },
         {
          "action": "W",
          "t": 32,
          "user": "A3"
         },
         {
          "action": "BR",
          "t": 32,
          "user": "G2"
         },
         {
          "action": "dynamic-class",
          "t": 32,
          "user": "M2"
         },
         {
          "action": "W",
          "t": 33,
          "user": "A1"
         },
         {
          "action": "IS",
          "t": 33,
          "user": "A2"
         },
         {
          "action": "BR",
          "t": 33,
          "user": "A3"
         },
         {
          "action": "smoothing",
          "t": 33,
          "user": "G2"
         },
         {
          "action": "IS",
          "t": 33,
          "user": "M2"
         },
         {
          "action": "W",
          "t": 34,
          "user": "A1"
         },
         {
          "action": "PD",
          "t": 34,
          "user": "A2"
         },
         {
          "action": "smoothing",
          "t": 34,
          "user": "G2"
         },
         {
          "action": "IS",
          "t": 34,
          "user": "M2"
         },
         {
          "action": "ID",
          "t": 35,
          "user": "A1"
         },
         {
          "action": "BR",
          "t": 35,
          "user": "A2"
         },
         {
          "action": "BR",
          "t": 35,
          "user": "G2"
         },
         {
          "action": "representative-outlier",
          "t": 35,
          "user": "M2"
         },
         {
          "action": "BR",
          "t": 36,
          "user": "A1"
         },
         {
          "action": "W",
          "t": 36,
          "user": "A2"
         },
         {
          "action": "pattern-upload",
          "t": 36,
          "user": "G2"
         },
         {
          "action": "filter",
          "t": 36,
          "user": "M2"
         },
         {
          "action": "filter",
          "t": 37,
          "user": "A1"
         },
         {
          "action": "PS",
          "t": 37,
          "user": "A2"
         },
         {
          "action": "PD",
          "t": 37,
          "user": "G2"
         },
         {
          "action": "IS",
          "t": 37,
          "user": "M2"
         },
         {
          "action": "filter",
          "t": 38,
          "user": "A1"
         },
         {
          "action": "drag-and-drop",
          "t": 38,
          "user": "A2"
         },
         {
          "action": "E",
          "t": 38,
          "user": "G2"
         },
         {
          "action": "change-axis",
          "t": 38,
          "user": "M2"
         },
         {
          "action": "BR",
          "t": 39,
          "user": "A1"
         },
         {
          "action": "W",
          "t": 39,
          "user": "A2"
         },
         {
          "action": "filter",
          "t": 39,
          "user": "G2"
         },
         {
          "action": "ID",
          "t": 39,
          "user": "M2"
         },
         {
          "action": "smoothing",
          "t": 40,
          "user": "A1"
         },
         {
          "action": "brush-xrange",
          "t": 40,
          "user": "A2"
         },
         {
          "action": "drag-and-drop",
          "t": 40,
          "user": "G2"
         },
         {
          "action": "BR",
          "t": 40,
          "user": "M2"
         },
         {
          "action": "sketch-to-query",
          "t": 41,
          "user": "A1"
         },
         {
          "action": "PS",
          "t": 41,
          "user": "A2"
         },
         {
          "action": "IS",
          "t": 41,
          "user": "G2"
         },
         {
          "action": "sketch-to-query",
          "t": 42,
          "user": "A1"
         },
         {
          "action": "BR",
          "t": 42,
          "user": "A2"
         },
         {
          "action": "W",
          "t": 42,
          "user": "G2"
         },
         {
          "action": "filter",
          "t": 43,
          "user": "A1"
         },
         {
          "action": "export",
          "t": 43,
          "user": "G2"
         },
         {
          "action": "E",
          "t": 44,
          "user": "A1"
         },
         {
          "action": "representative-outlier",
          "t": 44,
          "user": "G2"
         },
         {
          "action": "PS",
          "t": 45,
          "user": "A1"
         },
         {
          "action": "ID",
          "t": 45,
          "user": "G2"
         },
         {
          "action": "W",
          "t": 46,
          "user": "A1"
         },
         {
          "action": "export",
          "t": 46,
          "user": "G2"
         },
         {
          "action": "W",
          "t": 47,
          "user": "A1"
         },
         {
          "action": "BR",
          "t": 47,
          "user": "G2"
         },
         {
          "action": "W",
          "t": 48,
          "user": "A1"
         },
         {
          "action": "brush-xrange",
          "t": 48,
          "user": "G2"
         },
         {
          "action": "IS",
          "t": 49,
          "user": "A1"
         },
         {
          "action": "PS",
          "t": 49,
          "user": "G2"
         },
         {
          "action": "BR",
          "t": 50,
          "user": "A1"
         },
         {
          "action": "upload-dataset",
          "t": 50,
          "user": "G2"
         },
         {
          "action": "dynamic-class",
          "t": 51,
          "user": "A1"
         },
         {
          "action": "smoothing",
          "t": 51,
          "user": "G2"
         },
         {
          "action": "dynamic-class",
          "t": 52,
          "user": "A1"
         },
         {
          "action": "control-kmeans-clustersize",
          "t": 52,
          "user": "G2"
         },
         {
          "action": "W",
          "t": 53,
          "user": "A1"
         },
         {
          "action": "representative-outlier",
          "t": 53,
          "user": "G2"
         },
         {
          "action": "dynamic-class",
          "t": 54,
          "user": "A1"
         },
         {
          "action": "ID",
          "t": 54,
          "user": "G2"
         },
         {
          "action": "BR",
          "t": 55,
          "user": "A1"
         },
         {
          "action": "ID",
          "t": 55,
          "user": "G2"
         },
         {
          "action": "filter",
          "t": 56,
          "user": "A1"
         },
         {
          "action": "PS",
          "t": 56,
          "user": "G2"
         },
         {
          "action": "E",
          "t": 57,
          "user": "A1"
         },
         {
          "action": "BR",
          "t": 57,
          "user": "G2"
         },
         {
          "action": "ID",
          "t": 58,
          "user": "A1"
         },
         {
          "action": "pattern-upload",
          "t": 59,
          "user": "A1"
         },
         {
          "action": "export",
          "t": 60,
          "user": "A1"
         },
         {
          "action": "W",
          "t": 61,
          "user": "A1"
         },
         {
          "action": "dynamic-class",
          "t": 62,
          "user": "A1"
         },
         {
          "action": "BR",
          "t": 63,
          "user": "A1"
         },
         {
          "action": "filter",
          "t": 64,
          "user": "A1"
         },
         {
          "action": "E",
          "t": 65,
          "user": "A1"
         },
         {
          "action": "ID",
          "t": 66,
          "user": "A1"
         },
         {
          "action": "pattern-upload",
          "t": 67,
          "user": "A1"
         },
         {
          "action": "export",
          "t": 68,
          "user": "A1"
         },
         {
          "action": "W",
          "t": 69,
          "user": "A1"
         },
         {
          "action": "BR",
          "t": 70,
          "user": "A1"
         }
        ]
       },
       "encoding": {
        "color": {
         "field": "action",
         "type": "nominal"
        },
        "x": {
         "field": "t",
         "type": "quantitative"
        },
        "y": {
         "field": "user",
         "type": "nominal"
        }
       },
       "mark": "circle"
      },
      "image/png": "[encoded data removed]",
      "text/plain": [
       "<VegaLite 2 object>\n",
       "\n",
       "If you see this message, it means the renderer has not been properly enabled\n",
       "for the frontend that you are using. For more information, see\n",
       "https://altair-viz.github.io/user_guide/troubleshooting.html\n"
      ]
     },
     "execution_count": 10,
     "metadata": {},
     "output_type": "execute_result"
    }
   ],
   "source": [
    "alt.Chart(df).mark_circle().encode(        \n",
    "    color='action',\n",
    "    y=\"user\",\n",
    "    x='t'\n",
    ")"
   ]
  },
  {
   "cell_type": "markdown",
   "metadata": {},
   "source": [
    "# Action only"
   ]
  },
  {
   "cell_type": "code",
   "execution_count": 11,
   "metadata": {},
   "outputs": [
    {
     "data": {
      "application/vnd.vegalite.v2+json": {
       "$schema": "https://vega.github.io/schema/vega-lite/v2.6.0.json",
       "config": {
        "view": {
         "height": 300,
         "width": 400
        }
       },
       "data": {
        "name": "data-1dab03f866edd71425ebec5e67cc2803"
       },
       "datasets": {
        "data-1dab03f866edd71425ebec5e67cc2803": [
         {
          "action": "ID",
          "t": 0,
          "user": "G3"
         },
         {
          "action": "PD",
          "t": 0,
          "user": "M1"
         },
         {
          "action": "E",
          "t": 1,
          "user": "A2"
         },
         {
          "action": "IS",
          "t": 1,
          "user": "G2"
         },
         {
          "action": "C",
          "t": 1,
          "user": "G3"
         },
         {
          "action": "ID",
          "t": 1,
          "user": "M3"
         },
         {
          "action": "E",
          "t": 2,
          "user": "A2"
         },
         {
          "action": "BR",
          "t": 2,
          "user": "G2"
         },
         {
          "action": "W",
          "t": 2,
          "user": "G3"
         },
         {
          "action": "PS",
          "t": 2,
          "user": "M2"
         },
         {
          "action": "C",
          "t": 3,
          "user": "M1"
         },
         {
          "action": "IS",
          "t": 3,
          "user": "M3"
         },
         {
          "action": "BR",
          "t": 4,
          "user": "A1"
         },
         {
          "action": "W",
          "t": 4,
          "user": "A2"
         },
         {
          "action": "BR",
          "t": 4,
          "user": "A3"
         },
         {
          "action": "W",
          "t": 4,
          "user": "G1"
         },
         {
          "action": "IS",
          "t": 5,
          "user": "A1"
         },
         {
          "action": "ID",
          "t": 5,
          "user": "A2"
         },
         {
          "action": "IS",
          "t": 5,
          "user": "G1"
         },
         {
          "action": "BR",
          "t": 5,
          "user": "G3"
         },
         {
          "action": "W",
          "t": 5,
          "user": "M1"
         },
         {
          "action": "PS",
          "t": 5,
          "user": "M3"
         },
         {
          "action": "E",
          "t": 6,
          "user": "A1"
         },
         {
          "action": "E",
          "t": 6,
          "user": "A2"
         },
         {
          "action": "BR",
          "t": 6,
          "user": "G1"
         },
         {
          "action": "W",
          "t": 6,
          "user": "M1"
         },
         {
          "action": "E",
          "t": 7,
          "user": "A1"
         },
         {
          "action": "ID",
          "t": 7,
          "user": "A2"
         },
         {
          "action": "C",
          "t": 7,
          "user": "G2"
         },
         {
          "action": "W",
          "t": 7,
          "user": "G3"
         },
         {
          "action": "W",
          "t": 7,
          "user": "M1"
         },
         {
          "action": "PS",
          "t": 7,
          "user": "M2"
         },
         {
          "action": "ID",
          "t": 7,
          "user": "M3"
         },
         {
          "action": "BR",
          "t": 8,
          "user": "A2"
         },
         {
          "action": "C",
          "t": 8,
          "user": "A3"
         },
         {
          "action": "IS",
          "t": 8,
          "user": "G1"
         },
         {
          "action": "BR",
          "t": 8,
          "user": "G2"
         },
         {
          "action": "ID",
          "t": 9,
          "user": "A1"
         },
         {
          "action": "W",
          "t": 9,
          "user": "G1"
         },
         {
          "action": "W",
          "t": 9,
          "user": "G2"
         },
         {
          "action": "IS",
          "t": 9,
          "user": "M2"
         },
         {
          "action": "IS",
          "t": 9,
          "user": "M3"
         },
         {
          "action": "E",
          "t": 10,
          "user": "A2"
         },
         {
          "action": "BR",
          "t": 10,
          "user": "G1"
         },
         {
          "action": "IS",
          "t": 10,
          "user": "M1"
         },
         {
          "action": "IS",
          "t": 10,
          "user": "M2"
         },
         {
          "action": "E",
          "t": 11,
          "user": "A1"
         },
         {
          "action": "PD",
          "t": 11,
          "user": "A2"
         },
         {
          "action": "ID",
          "t": 11,
          "user": "A3"
         },
         {
          "action": "W",
          "t": 11,
          "user": "G2"
         },
         {
          "action": "ID",
          "t": 11,
          "user": "G3"
         },
         {
          "action": "C",
          "t": 11,
          "user": "M2"
         },
         {
          "action": "IS",
          "t": 12,
          "user": "A1"
         },
         {
          "action": "W",
          "t": 12,
          "user": "M1"
         },
         {
          "action": "BR",
          "t": 12,
          "user": "M2"
         },
         {
          "action": "IS",
          "t": 12,
          "user": "M3"
         },
         {
          "action": "PS",
          "t": 13,
          "user": "A1"
         },
         {
          "action": "W",
          "t": 13,
          "user": "A3"
         },
         {
          "action": "PS",
          "t": 13,
          "user": "G2"
         },
         {
          "action": "IS",
          "t": 13,
          "user": "G3"
         },
         {
          "action": "PS",
          "t": 13,
          "user": "M1"
         },
         {
          "action": "W",
          "t": 13,
          "user": "M2"
         },
         {
          "action": "E",
          "t": 14,
          "user": "A1"
         },
         {
          "action": "E",
          "t": 14,
          "user": "A2"
         },
         {
          "action": "BR",
          "t": 14,
          "user": "A3"
         },
         {
          "action": "BR",
          "t": 14,
          "user": "G2"
         },
         {
          "action": "BR",
          "t": 14,
          "user": "G3"
         },
         {
          "action": "C",
          "t": 14,
          "user": "M3"
         },
         {
          "action": "PS",
          "t": 15,
          "user": "A1"
         },
         {
          "action": "PD",
          "t": 15,
          "user": "A2"
         },
         {
          "action": "BR",
          "t": 15,
          "user": "G1"
         },
         {
          "action": "PD",
          "t": 15,
          "user": "M1"
         },
         {
          "action": "IS",
          "t": 15,
          "user": "M2"
         },
         {
          "action": "PD",
          "t": 16,
          "user": "A1"
         },
         {
          "action": "W",
          "t": 16,
          "user": "A3"
         },
         {
          "action": "ID",
          "t": 16,
          "user": "G2"
         },
         {
          "action": "BR",
          "t": 16,
          "user": "G3"
         },
         {
          "action": "IS",
          "t": 16,
          "user": "M1"
         },
         {
          "action": "IS",
          "t": 16,
          "user": "M3"
         },
         {
          "action": "E",
          "t": 17,
          "user": "A2"
         },
         {
          "action": "W",
          "t": 17,
          "user": "A3"
         },
         {
          "action": "C",
          "t": 17,
          "user": "G1"
         },
         {
          "action": "BR",
          "t": 17,
          "user": "G2"
         },
         {
          "action": "BR",
          "t": 17,
          "user": "M1"
         },
         {
          "action": "C",
          "t": 17,
          "user": "M2"
         },
         {
          "action": "BR",
          "t": 17,
          "user": "M3"
         },
         {
          "action": "E",
          "t": 18,
          "user": "A1"
         },
         {
          "action": "PD",
          "t": 18,
          "user": "A2"
         },
         {
          "action": "W",
          "t": 18,
          "user": "G1"
         },
         {
          "action": "IS",
          "t": 18,
          "user": "G3"
         },
         {
          "action": "PS",
          "t": 19,
          "user": "A1"
         },
         {
          "action": "ID",
          "t": 19,
          "user": "A3"
         },
         {
          "action": "ID",
          "t": 19,
          "user": "G2"
         },
         {
          "action": "BR",
          "t": 19,
          "user": "M2"
         },
         {
          "action": "BR",
          "t": 20,
          "user": "A1"
         },
         {
          "action": "BR",
          "t": 20,
          "user": "A3"
         },
         {
          "action": "W",
          "t": 20,
          "user": "G2"
         },
         {
          "action": "IS",
          "t": 20,
          "user": "G3"
         },
         {
          "action": "ID",
          "t": 21,
          "user": "G1"
         },
         {
          "action": "BR",
          "t": 21,
          "user": "G3"
         },
         {
          "action": "W",
          "t": 21,
          "user": "M1"
         },
         {
          "action": "BR",
          "t": 21,
          "user": "M3"
         },
         {
          "action": "C",
          "t": 22,
          "user": "A1"
         },
         {
          "action": "E",
          "t": 22,
          "user": "A2"
         },
         {
          "action": "ID",
          "t": 22,
          "user": "A3"
         },
         {
          "action": "PS",
          "t": 22,
          "user": "M3"
         },
         {
          "action": "C",
          "t": 23,
          "user": "G1"
         },
         {
          "action": "BR",
          "t": 24,
          "user": "A1"
         },
         {
          "action": "BR",
          "t": 24,
          "user": "A2"
         },
         {
          "action": "W",
          "t": 24,
          "user": "A3"
         },
         {
          "action": "W",
          "t": 24,
          "user": "G1"
         },
         {
          "action": "IS",
          "t": 24,
          "user": "G2"
         },
         {
          "action": "ID",
          "t": 24,
          "user": "M2"
         },
         {
          "action": "ID",
          "t": 24,
          "user": "M3"
         },
         {
          "action": "PS",
          "t": 25,
          "user": "A2"
         },
         {
          "action": "BR",
          "t": 25,
          "user": "A3"
         },
         {
          "action": "PS",
          "t": 25,
          "user": "G1"
         },
         {
          "action": "ID",
          "t": 25,
          "user": "M1"
         },
         {
          "action": "C",
          "t": 25,
          "user": "M2"
         },
         {
          "action": "W",
          "t": 25,
          "user": "M3"
         },
         {
          "action": "PS",
          "t": 26,
          "user": "A1"
         },
         {
          "action": "E",
          "t": 26,
          "user": "A2"
         },
         {
          "action": "W",
          "t": 26,
          "user": "G1"
         },
         {
          "action": "BR",
          "t": 26,
          "user": "G2"
         },
         {
          "action": "BR",
          "t": 26,
          "user": "M1"
         },
         {
          "action": "IS",
          "t": 26,
          "user": "M3"
         },
         {
          "action": "E",
          "t": 27,
          "user": "A1"
         },
         {
          "action": "E",
          "t": 27,
          "user": "A2"
         },
         {
          "action": "PS",
          "t": 27,
          "user": "A3"
         },
         {
          "action": "BR",
          "t": 27,
          "user": "G1"
         },
         {
          "action": "W",
          "t": 27,
          "user": "M1"
         },
         {
          "action": "BR",
          "t": 27,
          "user": "M3"
         },
         {
          "action": "E",
          "t": 28,
          "user": "A1"
         },
         {
          "action": "BR",
          "t": 28,
          "user": "A3"
         },
         {
          "action": "PS",
          "t": 28,
          "user": "G2"
         },
         {
          "action": "E",
          "t": 28,
          "user": "M1"
         },
         {
          "action": "IS",
          "t": 28,
          "user": "M2"
         },
         {
          "action": "PS",
          "t": 29,
          "user": "A1"
         },
         {
          "action": "W",
          "t": 29,
          "user": "A2"
         },
         {
          "action": "E",
          "t": 29,
          "user": "M1"
         },
         {
          "action": "C",
          "t": 29,
          "user": "M2"
         },
         {
          "action": "W",
          "t": 29,
          "user": "M3"
         },
         {
          "action": "E",
          "t": 30,
          "user": "A2"
         },
         {
          "action": "BR",
          "t": 30,
          "user": "A3"
         },
         {
          "action": "W",
          "t": 30,
          "user": "G2"
         },
         {
          "action": "W",
          "t": 30,
          "user": "M1"
         },
         {
          "action": "C",
          "t": 30,
          "user": "M2"
         },
         {
          "action": "W",
          "t": 30,
          "user": "M3"
         },
         {
          "action": "W",
          "t": 31,
          "user": "A1"
         },
         {
          "action": "E",
          "t": 31,
          "user": "M1"
         },
         {
          "action": "BR",
          "t": 31,
          "user": "M2"
         },
         {
          "action": "BR",
          "t": 31,
          "user": "M3"
         },
         {
          "action": "ID",
          "t": 32,
          "user": "A1"
         },
         {
          "action": "W",
          "t": 32,
          "user": "A3"
         },
         {
          "action": "BR",
          "t": 32,
          "user": "G2"
         },
         {
          "action": "W",
          "t": 33,
          "user": "A1"
         },
         {
          "action": "IS",
          "t": 33,
          "user": "A2"
         },
         {
          "action": "BR",
          "t": 33,
          "user": "A3"
         },
         {
          "action": "IS",
          "t": 33,
          "user": "M2"
         },
         {
          "action": "W",
          "t": 34,
          "user": "A1"
         },
         {
          "action": "PD",
          "t": 34,
          "user": "A2"
         },
         {
          "action": "IS",
          "t": 34,
          "user": "M2"
         },
         {
          "action": "ID",
          "t": 35,
          "user": "A1"
         },
         {
          "action": "BR",
          "t": 35,
          "user": "A2"
         },
         {
          "action": "BR",
          "t": 35,
          "user": "G2"
         },
         {
          "action": "BR",
          "t": 36,
          "user": "A1"
         },
         {
          "action": "W",
          "t": 36,
          "user": "A2"
         },
         {
          "action": "PS",
          "t": 37,
          "user": "A2"
         },
         {
          "action": "PD",
          "t": 37,
          "user": "G2"
         },
         {
          "action": "IS",
          "t": 37,
          "user": "M2"
         },
         {
          "action": "E",
          "t": 38,
          "user": "G2"
         },
         {
          "action": "BR",
          "t": 39,
          "user": "A1"
         },
         {
          "action": "W",
          "t": 39,
          "user": "A2"
         },
         {
          "action": "ID",
          "t": 39,
          "user": "M2"
         },
         {
          "action": "BR",
          "t": 40,
          "user": "M2"
         },
         {
          "action": "PS",
          "t": 41,
          "user": "A2"
         },
         {
          "action": "IS",
          "t": 41,
          "user": "G2"
         },
         {
          "action": "BR",
          "t": 42,
          "user": "A2"
         },
         {
          "action": "W",
          "t": 42,
          "user": "G2"
         },
         {
          "action": "E",
          "t": 44,
          "user": "A1"
         },
         {
          "action": "PS",
          "t": 45,
          "user": "A1"
         },
         {
          "action": "ID",
          "t": 45,
          "user": "G2"
         },
         {
          "action": "W",
          "t": 46,
          "user": "A1"
         },
         {
          "action": "W",
          "t": 47,
          "user": "A1"
         },
         {
          "action": "BR",
          "t": 47,
          "user": "G2"
         },
         {
          "action": "W",
          "t": 48,
          "user": "A1"
         },
         {
          "action": "IS",
          "t": 49,
          "user": "A1"
         },
         {
          "action": "PS",
          "t": 49,
          "user": "G2"
         },
         {
          "action": "BR",
          "t": 50,
          "user": "A1"
         },
         {
          "action": "W",
          "t": 53,
          "user": "A1"
         },
         {
          "action": "ID",
          "t": 54,
          "user": "G2"
         },
         {
          "action": "BR",
          "t": 55,
          "user": "A1"
         },
         {
          "action": "ID",
          "t": 55,
          "user": "G2"
         },
         {
          "action": "PS",
          "t": 56,
          "user": "G2"
         },
         {
          "action": "E",
          "t": 57,
          "user": "A1"
         },
         {
          "action": "BR",
          "t": 57,
          "user": "G2"
         },
         {
          "action": "ID",
          "t": 58,
          "user": "A1"
         },
         {
          "action": "W",
          "t": 61,
          "user": "A1"
         },
         {
          "action": "BR",
          "t": 63,
          "user": "A1"
         },
         {
          "action": "E",
          "t": 65,
          "user": "A1"
         },
         {
          "action": "ID",
          "t": 66,
          "user": "A1"
         },
         {
          "action": "W",
          "t": 69,
          "user": "A1"
         },
         {
          "action": "BR",
          "t": 70,
          "user": "A1"
         }
        ]
       },
       "encoding": {
        "color": {
         "field": "action",
         "type": "nominal"
        },
        "x": {
         "field": "t",
         "type": "quantitative"
        },
        "y": {
         "field": "user",
         "type": "nominal"
        }
       },
       "mark": "circle"
      },
      "image/png": "[encoded data removed]",
      "text/plain": [
       "<VegaLite 2 object>\n",
       "\n",
       "If you see this message, it means the renderer has not been properly enabled\n",
       "for the frontend that you are using. For more information, see\n",
       "https://altair-viz.github.io/user_guide/troubleshooting.html\n"
      ]
     },
     "execution_count": 11,
     "metadata": {},
     "output_type": "execute_result"
    }
   ],
   "source": [
    "df_action = df[df.action.isin(featureOnly)]\n",
    "alt.Chart(df_action).mark_circle().encode(        \n",
    "    color='action',\n",
    "    y=\"user\",\n",
    "    x='t'\n",
    ")"
   ]
  },
  {
   "cell_type": "markdown",
   "metadata": {},
   "source": [
    "# Feature Only"
   ]
  },
  {
   "cell_type": "code",
   "execution_count": 12,
   "metadata": {
    "collapsed": true
   },
   "outputs": [
    {
     "data": {
      "application/vnd.vegalite.v2+json": {
       "$schema": "https://vega.github.io/schema/vega-lite/v2.6.0.json",
       "config": {
        "view": {
         "height": 300,
         "width": 400
        }
       },
       "data": {
        "name": "data-f767c2b522df9ff8eb39d8e28d9555c4"
       },
       "datasets": {
        "data-f767c2b522df9ff8eb39d8e28d9555c4": [
         {
          "action": "filter",
          "t": 0,
          "user": "A1"
         },
         {
          "action": "filter",
          "t": 0,
          "user": "A2"
         },
         {
          "action": "drag-and-drop",
          "t": 0,
          "user": "A3"
         },
         {
          "action": "representative-outlier",
          "t": 0,
          "user": "G1"
         },
         {
          "action": "representative-outlier",
          "t": 0,
          "user": "G2"
         },
         {
          "action": "show-scatter",
          "t": 0,
          "user": "M2"
         },
         {
          "action": "dynamic-class",
          "t": 0,
          "user": "M3"
         },
         {
          "action": "filter",
          "t": 1,
          "user": "A1"
         },
         {
          "action": "drag-and-drop",
          "t": 1,
          "user": "A3"
         },
         {
          "action": "control-kmeans-clustersize",
          "t": 1,
          "user": "G1"
         },
         {
          "action": "sketch-to-query",
          "t": 1,
          "user": "M1"
         },
         {
          "action": "change-axis",
          "t": 1,
          "user": "M2"
         },
         {
          "action": "filter",
          "t": 2,
          "user": "A1"
         },
         {
          "action": "sketch-to-modify",
          "t": 2,
          "user": "A3"
         },
         {
          "action": "representative-outlier",
          "t": 2,
          "user": "G1"
         },
         {
          "action": "ignore-xrange",
          "t": 2,
          "user": "M1"
         },
         {
          "action": "show-scatter",
          "t": 2,
          "user": "M3"
         },
         {
          "action": "filter",
          "t": 3,
          "user": "A1"
         },
         {
          "action": "drag-and-drop",
          "t": 3,
          "user": "A2"
         },
         {
          "action": "ignore-xrange",
          "t": 3,
          "user": "A3"
         },
         {
          "action": "control-kmeans-clustersize",
          "t": 3,
          "user": "G1"
         },
         {
          "action": "representative-outlier",
          "t": 3,
          "user": "G2"
         },
         {
          "action": "show-scatter",
          "t": 3,
          "user": "G3"
         },
         {
          "action": "dynamic-class",
          "t": 3,
          "user": "M2"
         },
         {
          "action": "control-kmeans-clustersize",
          "t": 4,
          "user": "G2"
         },
         {
          "action": "upload-dataset",
          "t": 4,
          "user": "G3"
         },
         {
          "action": "change-axis",
          "t": 4,
          "user": "M1"
         },
         {
          "action": "dynamic-class",
          "t": 4,
          "user": "M2"
         },
         {
          "action": "dynamic-class",
          "t": 4,
          "user": "M3"
         },
         {
          "action": "drag-and-drop",
          "t": 5,
          "user": "A3"
         },
         {
          "action": "representative-outlier",
          "t": 5,
          "user": "G2"
         },
         {
          "action": "dynamic-class",
          "t": 5,
          "user": "M2"
         },
         {
          "action": "ignore-xrange",
          "t": 6,
          "user": "A3"
         },
         {
          "action": "filter",
          "t": 6,
          "user": "G2"
         },
         {
          "action": "representative-outlier",
          "t": 6,
          "user": "G3"
         },
         {
          "action": "dynamic-class",
          "t": 6,
          "user": "M2"
         },
         {
          "action": "dynamic-class",
          "t": 6,
          "user": "M3"
         },
         {
          "action": "change-metric",
          "t": 7,
          "user": "A3"
         },
         {
          "action": "drag-and-drop",
          "t": 7,
          "user": "G1"
         },
         {
          "action": "drag-and-drop",
          "t": 8,
          "user": "A1"
         },
         {
          "action": "change-metric",
          "t": 8,
          "user": "G3"
         },
         {
          "action": "brush-xrange",
          "t": 8,
          "user": "M1"
         },
         {
          "action": "dynamic-class",
          "t": 8,
          "user": "M2"
         },
         {
          "action": "change-axis",
          "t": 8,
          "user": "M3"
         },
         {
          "action": "filter",
          "t": 9,
          "user": "A2"
         },
         {
          "action": "brush-xrange",
          "t": 9,
          "user": "A3"
         },
         {
          "action": "control-kmeans-clustersize",
          "t": 9,
          "user": "G3"
         },
         {
          "action": "change-axis",
          "t": 9,
          "user": "M1"
         },
         {
          "action": "filter",
          "t": 10,
          "user": "A1"
         },
         {
          "action": "change-metric",
          "t": 10,
          "user": "A3"
         },
         {
          "action": "drag-and-drop",
          "t": 10,
          "user": "G2"
         },
         {
          "action": "representative-outlier",
          "t": 10,
          "user": "G3"
         },
         {
          "action": "drag-and-drop",
          "t": 10,
          "user": "M3"
         },
         {
          "action": "drag-and-drop",
          "t": 11,
          "user": "G1"
         },
         {
          "action": "representative-outlier",
          "t": 11,
          "user": "M1"
         },
         {
          "action": "dynamic-class",
          "t": 11,
          "user": "M3"
         },
         {
          "action": "export",
          "t": 12,
          "user": "A2"
         },
         {
          "action": "change-metric",
          "t": 12,
          "user": "A3"
         },
         {
          "action": "min-similarity-cutoff",
          "t": 12,
          "user": "G1"
         },
         {
          "action": "filter",
          "t": 12,
          "user": "G2"
         },
         {
          "action": "drag-and-drop",
          "t": 12,
          "user": "G3"
         },
         {
          "action": "filter",
          "t": 13,
          "user": "A2"
         },
         {
          "action": "brush-xrange",
          "t": 13,
          "user": "G1"
         },
         {
          "action": "change-metric",
          "t": 13,
          "user": "M3"
         },
         {
          "action": "export",
          "t": 14,
          "user": "G1"
         },
         {
          "action": "dynamic-class",
          "t": 14,
          "user": "M1"
         },
         {
          "action": "dynamic-class",
          "t": 14,
          "user": "M2"
         },
         {
          "action": "filter",
          "t": 15,
          "user": "A3"
         },
         {
          "action": "show-scatter",
          "t": 15,
          "user": "G2"
         },
         {
          "action": "export",
          "t": 15,
          "user": "G3"
         },
         {
          "action": "drag-and-drop",
          "t": 15,
          "user": "M3"
         },
         {
          "action": "filter",
          "t": 16,
          "user": "A2"
         },
         {
          "action": "control-kmeans-clustersize",
          "t": 16,
          "user": "G1"
         },
         {
          "action": "sketch-to-query",
          "t": 16,
          "user": "M2"
         },
         {
          "action": "reverse-y",
          "t": 17,
          "user": "A1"
         },
         {
          "action": "representative-outlier",
          "t": 17,
          "user": "G3"
         },
         {
          "action": "filter",
          "t": 18,
          "user": "A3"
         },
         {
          "action": "sketch-to-query",
          "t": 18,
          "user": "G2"
         },
         {
          "action": "filter",
          "t": 18,
          "user": "M1"
         },
         {
          "action": "sketch-to-modify",
          "t": 18,
          "user": "M2"
         },
         {
          "action": "change-axis",
          "t": 18,
          "user": "M3"
         },
         {
          "action": "export",
          "t": 19,
          "user": "A2"
         },
         {
          "action": "drag-and-drop",
          "t": 19,
          "user": "G1"
         },
         {
          "action": "ignore-xrange",
          "t": 19,
          "user": "G3"
         },
         {
          "action": "sketch-to-query",
          "t": 19,
          "user": "M1"
         },
         {
          "action": "sketch-to-modify",
          "t": 19,
          "user": "M3"
         },
         {
          "action": "export",
          "t": 20,
          "user": "A2"
         },
         {
          "action": "drag-and-drop",
          "t": 20,
          "user": "G1"
         },
         {
          "action": "show-scatter",
          "t": 20,
          "user": "M1"
         },
         {
          "action": "change-axis",
          "t": 20,
          "user": "M2"
         },
         {
          "action": "sketch-to-modify",
          "t": 20,
          "user": "M3"
         },
         {
          "action": "drag-and-drop",
          "t": 21,
          "user": "A1"
         },
         {
          "action": "filter",
          "t": 21,
          "user": "A2"
         },
         {
          "action": "change-axis",
          "t": 21,
          "user": "A3"
         },
         {
          "action": "ignore-xrange",
          "t": 21,
          "user": "G2"
         },
         {
          "action": "sketch-to-modify",
          "t": 21,
          "user": "M2"
         },
         {
          "action": "control-kmeans-clustersize",
          "t": 22,
          "user": "G1"
         },
         {
          "action": "sketch-to-query",
          "t": 22,
          "user": "G2"
         },
         {
          "action": "filter",
          "t": 22,
          "user": "M1"
         },
         {
          "action": "drag-and-drop",
          "t": 22,
          "user": "M2"
         },
         {
          "action": "filter",
          "t": 23,
          "user": "A1"
         },
         {
          "action": "export",
          "t": 23,
          "user": "A2"
         },
         {
          "action": "filter",
          "t": 23,
          "user": "A3"
         },
         {
          "action": "filter",
          "t": 23,
          "user": "G2"
         },
         {
          "action": "filter",
          "t": 23,
          "user": "M1"
         },
         {
          "action": "sketch-to-modify",
          "t": 23,
          "user": "M2"
         },
         {
          "action": "drag-and-drop",
          "t": 23,
          "user": "M3"
         },
         {
          "action": "filter",
          "t": 24,
          "user": "M1"
         },
         {
          "action": "filter",
          "t": 25,
          "user": "A1"
         },
         {
          "action": "filter",
          "t": 25,
          "user": "G2"
         },
         {
          "action": "change-axis",
          "t": 26,
          "user": "A3"
         },
         {
          "action": "drag-and-drop",
          "t": 26,
          "user": "M2"
         },
         {
          "action": "filter",
          "t": 27,
          "user": "G2"
         },
         {
          "action": "sketch-to-modify",
          "t": 27,
          "user": "M2"
         },
         {
          "action": "dynamic-class",
          "t": 28,
          "user": "A2"
         },
         {
          "action": "change-axis",
          "t": 28,
          "user": "M3"
         },
         {
          "action": "input-equation",
          "t": 29,
          "user": "A3"
         },
         {
          "action": "filter",
          "t": 29,
          "user": "G2"
         },
         {
          "action": "brush-xrange",
          "t": 30,
          "user": "A1"
         },
         {
          "action": "change-axis",
          "t": 31,
          "user": "A2"
         },
         {
          "action": "export",
          "t": 31,
          "user": "A3"
         },
         {
          "action": "representative-outlier",
          "t": 31,
          "user": "G2"
         },
         {
          "action": "ignore-xrange",
          "t": 32,
          "user": "A2"
         },
         {
          "action": "dynamic-class",
          "t": 32,
          "user": "M2"
         },
         {
          "action": "smoothing",
          "t": 33,
          "user": "G2"
         },
         {
          "action": "smoothing",
          "t": 34,
          "user": "G2"
         },
         {
          "action": "representative-outlier",
          "t": 35,
          "user": "M2"
         },
         {
          "action": "pattern-upload",
          "t": 36,
          "user": "G2"
         },
         {
          "action": "filter",
          "t": 36,
          "user": "M2"
         },
         {
          "action": "filter",
          "t": 37,
          "user": "A1"
         },
         {
          "action": "filter",
          "t": 38,
          "user": "A1"
         },
         {
          "action": "drag-and-drop",
          "t": 38,
          "user": "A2"
         },
         {
          "action": "change-axis",
          "t": 38,
          "user": "M2"
         },
         {
          "action": "filter",
          "t": 39,
          "user": "G2"
         },
         {
          "action": "smoothing",
          "t": 40,
          "user": "A1"
         },
         {
          "action": "brush-xrange",
          "t": 40,
          "user": "A2"
         },
         {
          "action": "drag-and-drop",
          "t": 40,
          "user": "G2"
         },
         {
          "action": "sketch-to-query",
          "t": 41,
          "user": "A1"
         },
         {
          "action": "sketch-to-query",
          "t": 42,
          "user": "A1"
         },
         {
          "action": "filter",
          "t": 43,
          "user": "A1"
         },
         {
          "action": "export",
          "t": 43,
          "user": "G2"
         },
         {
          "action": "representative-outlier",
          "t": 44,
          "user": "G2"
         },
         {
          "action": "export",
          "t": 46,
          "user": "G2"
         },
         {
          "action": "brush-xrange",
          "t": 48,
          "user": "G2"
         },
         {
          "action": "upload-dataset",
          "t": 50,
          "user": "G2"
         },
         {
          "action": "dynamic-class",
          "t": 51,
          "user": "A1"
         },
         {
          "action": "smoothing",
          "t": 51,
          "user": "G2"
         },
         {
          "action": "dynamic-class",
          "t": 52,
          "user": "A1"
         },
         {
          "action": "control-kmeans-clustersize",
          "t": 52,
          "user": "G2"
         },
         {
          "action": "representative-outlier",
          "t": 53,
          "user": "G2"
         },
         {
          "action": "dynamic-class",
          "t": 54,
          "user": "A1"
         },
         {
          "action": "filter",
          "t": 56,
          "user": "A1"
         },
         {
          "action": "pattern-upload",
          "t": 59,
          "user": "A1"
         },
         {
          "action": "export",
          "t": 60,
          "user": "A1"
         },
         {
          "action": "dynamic-class",
          "t": 62,
          "user": "A1"
         },
         {
          "action": "filter",
          "t": 64,
          "user": "A1"
         },
         {
          "action": "pattern-upload",
          "t": 67,
          "user": "A1"
         },
         {
          "action": "export",
          "t": 68,
          "user": "A1"
         }
        ]
       },
       "encoding": {
        "color": {
         "field": "action",
         "type": "nominal"
        },
        "x": {
         "field": "t",
         "type": "quantitative"
        },
        "y": {
         "field": "user",
         "type": "nominal"
        }
       },
       "mark": "circle"
      },
      "image/png": "[encoded data removed]",
      "text/plain": [
       "<VegaLite 2 object>\n",
       "\n",
       "If you see this message, it means the renderer has not been properly enabled\n",
       "for the frontend that you are using. For more information, see\n",
       "https://altair-viz.github.io/user_guide/troubleshooting.html\n"
      ]
     },
     "execution_count": 12,
     "metadata": {},
     "output_type": "execute_result"
    }
   ],
   "source": [
    "df_feature = df[~df.action.isin(featureOnly)]\n",
    "alt.Chart(df_feature).mark_circle().encode(        \n",
    "    color='action',\n",
    "    y=\"user\",\n",
    "    x='t'\n",
    ")"
   ]
  },
  {
   "cell_type": "code",
   "execution_count": 13,
   "metadata": {},
   "outputs": [],
   "source": [
    "# df_feature = df[~df.action.isin(featureOnly)]"
   ]
  },
  {
   "cell_type": "markdown",
   "metadata": {},
   "source": [
    "# Key Components"
   ]
  },
  {
   "cell_type": "code",
   "execution_count": 14,
   "metadata": {},
   "outputs": [],
   "source": [
    "component_dict = {\n",
    "     'pattern-upload':'concept-query',\n",
    "     'sketch-to-modify':'exact-specification',\n",
    "     'drag-and-drop':'result-querying',\n",
    "     'change-metric':'flexible-matching',\n",
    "     'filter':'filter-selection',\n",
    "     'brush-xrange':'range-selection',\n",
    "     'min-similarity-cutoff':'control',\n",
    "     'smoothing':'approx-shape-specification',\n",
    "     'ignore-xrange':'approx-shape-specification',\n",
    "     'representative-outlier':'recommendation',\n",
    "     'dynamic-class':'group-comparison',\n",
    "     'sketch-to-query':'exact-specification',\n",
    "     'reverse-y':'control',\n",
    "     'input-equation':'exact-specification',\n",
    "     'upload-dataset':'control',\n",
    "     'show-scatter':'control',\n",
    "     'export':'control',\n",
    "     'control-kmeans-clustersize':'recommendation',\n",
    "     'change-axis':'control'\n",
    "}"
   ]
  },
  {
   "cell_type": "code",
   "execution_count": 15,
   "metadata": {},
   "outputs": [
    {
     "name": "stderr",
     "output_type": "stream",
     "text": [
      "/Users/dorislee/.virtualenvs/py37env/lib/python3.7/site-packages/ipykernel_launcher.py:2: SettingWithCopyWarning: \n",
      "A value is trying to be set on a copy of a slice from a DataFrame.\n",
      "Try using .loc[row_indexer,col_indexer] = value instead\n",
      "\n",
      "See the caveats in the documentation: http://pandas.pydata.org/pandas-docs/stable/indexing.html#indexing-view-versus-copy\n",
      "  \n"
     ]
    }
   ],
   "source": [
    "df_component = df_feature\n",
    "df_component[\"action\"] = df_feature[\"action\"].replace(component_dict)\n",
    "df_component= df_component.rename(index=str,columns={\"action\":\"component\"})"
   ]
  },
  {
   "cell_type": "code",
   "execution_count": 16,
   "metadata": {},
   "outputs": [],
   "source": [
    "# df_component = df_component[df_component[\"component\"]!=\"control\"] #remove control in list of components"
   ]
  },
  {
   "cell_type": "code",
   "execution_count": 17,
   "metadata": {},
   "outputs": [
    {
     "data": {
      "application/vnd.vegalite.v2+json": {
       "$schema": "https://vega.github.io/schema/vega-lite/v2.6.0.json",
       "config": {
        "view": {
         "height": 300,
         "width": 400
        }
       },
       "data": {
        "name": "data-94e6ee78f45328e8c13da7477451355a"
       },
       "datasets": {
        "data-94e6ee78f45328e8c13da7477451355a": [
         {
          "component": "filter-selection",
          "t": 0,
          "user": "A1"
         },
         {
          "component": "filter-selection",
          "t": 0,
          "user": "A2"
         },
         {
          "component": "result-querying",
          "t": 0,
          "user": "A3"
         },
         {
          "component": "recommendation",
          "t": 0,
          "user": "G1"
         },
         {
          "component": "recommendation",
          "t": 0,
          "user": "G2"
         },
         {
          "component": "control",
          "t": 0,
          "user": "M2"
         },
         {
          "component": "group-comparison",
          "t": 0,
          "user": "M3"
         },
         {
          "component": "filter-selection",
          "t": 1,
          "user": "A1"
         },
         {
          "component": "result-querying",
          "t": 1,
          "user": "A3"
         },
         {
          "component": "recommendation",
          "t": 1,
          "user": "G1"
         },
         {
          "component": "exact-specification",
          "t": 1,
          "user": "M1"
         },
         {
          "component": "control",
          "t": 1,
          "user": "M2"
         },
         {
          "component": "filter-selection",
          "t": 2,
          "user": "A1"
         },
         {
          "component": "exact-specification",
          "t": 2,
          "user": "A3"
         },
         {
          "component": "recommendation",
          "t": 2,
          "user": "G1"
         },
         {
          "component": "approx-shape-specification",
          "t": 2,
          "user": "M1"
         },
         {
          "component": "control",
          "t": 2,
          "user": "M3"
         },
         {
          "component": "filter-selection",
          "t": 3,
          "user": "A1"
         },
         {
          "component": "result-querying",
          "t": 3,
          "user": "A2"
         },
         {
          "component": "approx-shape-specification",
          "t": 3,
          "user": "A3"
         },
         {
          "component": "recommendation",
          "t": 3,
          "user": "G1"
         },
         {
          "component": "recommendation",
          "t": 3,
          "user": "G2"
         },
         {
          "component": "control",
          "t": 3,
          "user": "G3"
         },
         {
          "component": "group-comparison",
          "t": 3,
          "user": "M2"
         },
         {
          "component": "recommendation",
          "t": 4,
          "user": "G2"
         },
         {
          "component": "control",
          "t": 4,
          "user": "G3"
         },
         {
          "component": "control",
          "t": 4,
          "user": "M1"
         },
         {
          "component": "group-comparison",
          "t": 4,
          "user": "M2"
         },
         {
          "component": "group-comparison",
          "t": 4,
          "user": "M3"
         },
         {
          "component": "result-querying",
          "t": 5,
          "user": "A3"
         },
         {
          "component": "recommendation",
          "t": 5,
          "user": "G2"
         },
         {
          "component": "group-comparison",
          "t": 5,
          "user": "M2"
         },
         {
          "component": "approx-shape-specification",
          "t": 6,
          "user": "A3"
         },
         {
          "component": "filter-selection",
          "t": 6,
          "user": "G2"
         },
         {
          "component": "recommendation",
          "t": 6,
          "user": "G3"
         },
         {
          "component": "group-comparison",
          "t": 6,
          "user": "M2"
         },
         {
          "component": "group-comparison",
          "t": 6,
          "user": "M3"
         },
         {
          "component": "flexible-matching",
          "t": 7,
          "user": "A3"
         },
         {
          "component": "result-querying",
          "t": 7,
          "user": "G1"
         },
         {
          "component": "result-querying",
          "t": 8,
          "user": "A1"
         },
         {
          "component": "flexible-matching",
          "t": 8,
          "user": "G3"
         },
         {
          "component": "range-selection",
          "t": 8,
          "user": "M1"
         },
         {
          "component": "group-comparison",
          "t": 8,
          "user": "M2"
         },
         {
          "component": "control",
          "t": 8,
          "user": "M3"
         },
         {
          "component": "filter-selection",
          "t": 9,
          "user": "A2"
         },
         {
          "component": "range-selection",
          "t": 9,
          "user": "A3"
         },
         {
          "component": "recommendation",
          "t": 9,
          "user": "G3"
         },
         {
          "component": "control",
          "t": 9,
          "user": "M1"
         },
         {
          "component": "filter-selection",
          "t": 10,
          "user": "A1"
         },
         {
          "component": "flexible-matching",
          "t": 10,
          "user": "A3"
         },
         {
          "component": "result-querying",
          "t": 10,
          "user": "G2"
         },
         {
          "component": "recommendation",
          "t": 10,
          "user": "G3"
         },
         {
          "component": "result-querying",
          "t": 10,
          "user": "M3"
         },
         {
          "component": "result-querying",
          "t": 11,
          "user": "G1"
         },
         {
          "component": "recommendation",
          "t": 11,
          "user": "M1"
         },
         {
          "component": "group-comparison",
          "t": 11,
          "user": "M3"
         },
         {
          "component": "control",
          "t": 12,
          "user": "A2"
         },
         {
          "component": "flexible-matching",
          "t": 12,
          "user": "A3"
         },
         {
          "component": "control",
          "t": 12,
          "user": "G1"
         },
         {
          "component": "filter-selection",
          "t": 12,
          "user": "G2"
         },
         {
          "component": "result-querying",
          "t": 12,
          "user": "G3"
         },
         {
          "component": "filter-selection",
          "t": 13,
          "user": "A2"
         },
         {
          "component": "range-selection",
          "t": 13,
          "user": "G1"
         },
         {
          "component": "flexible-matching",
          "t": 13,
          "user": "M3"
         },
         {
          "component": "control",
          "t": 14,
          "user": "G1"
         },
         {
          "component": "group-comparison",
          "t": 14,
          "user": "M1"
         },
         {
          "component": "group-comparison",
          "t": 14,
          "user": "M2"
         },
         {
          "component": "filter-selection",
          "t": 15,
          "user": "A3"
         },
         {
          "component": "control",
          "t": 15,
          "user": "G2"
         },
         {
          "component": "control",
          "t": 15,
          "user": "G3"
         },
         {
          "component": "result-querying",
          "t": 15,
          "user": "M3"
         },
         {
          "component": "filter-selection",
          "t": 16,
          "user": "A2"
         },
         {
          "component": "recommendation",
          "t": 16,
          "user": "G1"
         },
         {
          "component": "exact-specification",
          "t": 16,
          "user": "M2"
         },
         {
          "component": "control",
          "t": 17,
          "user": "A1"
         },
         {
          "component": "recommendation",
          "t": 17,
          "user": "G3"
         },
         {
          "component": "filter-selection",
          "t": 18,
          "user": "A3"
         },
         {
          "component": "exact-specification",
          "t": 18,
          "user": "G2"
         },
         {
          "component": "filter-selection",
          "t": 18,
          "user": "M1"
         },
         {
          "component": "exact-specification",
          "t": 18,
          "user": "M2"
         },
         {
          "component": "control",
          "t": 18,
          "user": "M3"
         },
         {
          "component": "control",
          "t": 19,
          "user": "A2"
         },
         {
          "component": "result-querying",
          "t": 19,
          "user": "G1"
         },
         {
          "component": "approx-shape-specification",
          "t": 19,
          "user": "G3"
         },
         {
          "component": "exact-specification",
          "t": 19,
          "user": "M1"
         },
         {
          "component": "exact-specification",
          "t": 19,
          "user": "M3"
         },
         {
          "component": "control",
          "t": 20,
          "user": "A2"
         },
         {
          "component": "result-querying",
          "t": 20,
          "user": "G1"
         },
         {
          "component": "control",
          "t": 20,
          "user": "M1"
         },
         {
          "component": "control",
          "t": 20,
          "user": "M2"
         },
         {
          "component": "exact-specification",
          "t": 20,
          "user": "M3"
         },
         {
          "component": "result-querying",
          "t": 21,
          "user": "A1"
         },
         {
          "component": "filter-selection",
          "t": 21,
          "user": "A2"
         },
         {
          "component": "control",
          "t": 21,
          "user": "A3"
         },
         {
          "component": "approx-shape-specification",
          "t": 21,
          "user": "G2"
         },
         {
          "component": "exact-specification",
          "t": 21,
          "user": "M2"
         },
         {
          "component": "recommendation",
          "t": 22,
          "user": "G1"
         },
         {
          "component": "exact-specification",
          "t": 22,
          "user": "G2"
         },
         {
          "component": "filter-selection",
          "t": 22,
          "user": "M1"
         },
         {
          "component": "result-querying",
          "t": 22,
          "user": "M2"
         },
         {
          "component": "filter-selection",
          "t": 23,
          "user": "A1"
         },
         {
          "component": "control",
          "t": 23,
          "user": "A2"
         },
         {
          "component": "filter-selection",
          "t": 23,
          "user": "A3"
         },
         {
          "component": "filter-selection",
          "t": 23,
          "user": "G2"
         },
         {
          "component": "filter-selection",
          "t": 23,
          "user": "M1"
         },
         {
          "component": "exact-specification",
          "t": 23,
          "user": "M2"
         },
         {
          "component": "result-querying",
          "t": 23,
          "user": "M3"
         },
         {
          "component": "filter-selection",
          "t": 24,
          "user": "M1"
         },
         {
          "component": "filter-selection",
          "t": 25,
          "user": "A1"
         },
         {
          "component": "filter-selection",
          "t": 25,
          "user": "G2"
         },
         {
          "component": "control",
          "t": 26,
          "user": "A3"
         },
         {
          "component": "result-querying",
          "t": 26,
          "user": "M2"
         },
         {
          "component": "filter-selection",
          "t": 27,
          "user": "G2"
         },
         {
          "component": "exact-specification",
          "t": 27,
          "user": "M2"
         },
         {
          "component": "group-comparison",
          "t": 28,
          "user": "A2"
         },
         {
          "component": "control",
          "t": 28,
          "user": "M3"
         },
         {
          "component": "exact-specification",
          "t": 29,
          "user": "A3"
         },
         {
          "component": "filter-selection",
          "t": 29,
          "user": "G2"
         },
         {
          "component": "range-selection",
          "t": 30,
          "user": "A1"
         },
         {
          "component": "control",
          "t": 31,
          "user": "A2"
         },
         {
          "component": "control",
          "t": 31,
          "user": "A3"
         },
         {
          "component": "recommendation",
          "t": 31,
          "user": "G2"
         },
         {
          "component": "approx-shape-specification",
          "t": 32,
          "user": "A2"
         },
         {
          "component": "group-comparison",
          "t": 32,
          "user": "M2"
         },
         {
          "component": "approx-shape-specification",
          "t": 33,
          "user": "G2"
         },
         {
          "component": "approx-shape-specification",
          "t": 34,
          "user": "G2"
         },
         {
          "component": "recommendation",
          "t": 35,
          "user": "M2"
         },
         {
          "component": "concept-query",
          "t": 36,
          "user": "G2"
         },
         {
          "component": "filter-selection",
          "t": 36,
          "user": "M2"
         },
         {
          "component": "filter-selection",
          "t": 37,
          "user": "A1"
         },
         {
          "component": "filter-selection",
          "t": 38,
          "user": "A1"
         },
         {
          "component": "result-querying",
          "t": 38,
          "user": "A2"
         },
         {
          "component": "control",
          "t": 38,
          "user": "M2"
         },
         {
          "component": "filter-selection",
          "t": 39,
          "user": "G2"
         },
         {
          "component": "approx-shape-specification",
          "t": 40,
          "user": "A1"
         },
         {
          "component": "range-selection",
          "t": 40,
          "user": "A2"
         },
         {
          "component": "result-querying",
          "t": 40,
          "user": "G2"
         },
         {
          "component": "exact-specification",
          "t": 41,
          "user": "A1"
         },
         {
          "component": "exact-specification",
          "t": 42,
          "user": "A1"
         },
         {
          "component": "filter-selection",
          "t": 43,
          "user": "A1"
         },
         {
          "component": "control",
          "t": 43,
          "user": "G2"
         },
         {
          "component": "recommendation",
          "t": 44,
          "user": "G2"
         },
         {
          "component": "control",
          "t": 46,
          "user": "G2"
         },
         {
          "component": "range-selection",
          "t": 48,
          "user": "G2"
         },
         {
          "component": "control",
          "t": 50,
          "user": "G2"
         },
         {
          "component": "group-comparison",
          "t": 51,
          "user": "A1"
         },
         {
          "component": "approx-shape-specification",
          "t": 51,
          "user": "G2"
         },
         {
          "component": "group-comparison",
          "t": 52,
          "user": "A1"
         },
         {
          "component": "recommendation",
          "t": 52,
          "user": "G2"
         },
         {
          "component": "recommendation",
          "t": 53,
          "user": "G2"
         },
         {
          "component": "group-comparison",
          "t": 54,
          "user": "A1"
         },
         {
          "component": "filter-selection",
          "t": 56,
          "user": "A1"
         },
         {
          "component": "concept-query",
          "t": 59,
          "user": "A1"
         },
         {
          "component": "control",
          "t": 60,
          "user": "A1"
         },
         {
          "component": "group-comparison",
          "t": 62,
          "user": "A1"
         },
         {
          "component": "filter-selection",
          "t": 64,
          "user": "A1"
         },
         {
          "component": "concept-query",
          "t": 67,
          "user": "A1"
         },
         {
          "component": "control",
          "t": 68,
          "user": "A1"
         }
        ]
       },
       "encoding": {
        "color": {
         "field": "component",
         "type": "nominal"
        },
        "x": {
         "field": "t",
         "type": "quantitative"
        },
        "y": {
         "field": "user",
         "type": "nominal"
        }
       },
       "mark": "circle"
      },
      "image/png": "[encoded data removed]",
      "text/plain": [
       "<VegaLite 2 object>\n",
       "\n",
       "If you see this message, it means the renderer has not been properly enabled\n",
       "for the frontend that you are using. For more information, see\n",
       "https://altair-viz.github.io/user_guide/troubleshooting.html\n"
      ]
     },
     "execution_count": 17,
     "metadata": {},
     "output_type": "execute_result"
    }
   ],
   "source": [
    "alt.Chart(df_component).mark_circle().encode(        \n",
    "    color='component',\n",
    "    y=\"user\",\n",
    "    x='t'\n",
    ")"
   ]
  },
  {
   "cell_type": "markdown",
   "metadata": {},
   "source": [
    "# Adding some event action information back in"
   ]
  },
  {
   "cell_type": "code",
   "execution_count": 18,
   "metadata": {},
   "outputs": [],
   "source": [
    "component_chart = alt.Chart(df_component).mark_circle().encode(        \n",
    "    color='component',\n",
    "    y=\"user\",\n",
    "    x='t'\n",
    ")"
   ]
  },
  {
   "cell_type": "code",
   "execution_count": 51,
   "metadata": {},
   "outputs": [],
   "source": [
    "df_break = df[df.action.isin([\"BR\"])]\n",
    "break_chart = alt.Chart(df_break).mark_tick(thickness=2,color=\"black\").encode(        \n",
    "    y=\"user\",\n",
    "    x='t'\n",
    ")"
   ]
  },
  {
   "cell_type": "code",
   "execution_count": 83,
   "metadata": {},
   "outputs": [
    {
     "name": "stderr",
     "output_type": "stream",
     "text": [
      "/Users/dorislee/.virtualenvs/py37env/lib/python3.7/site-packages/pandas/core/indexing.py:543: SettingWithCopyWarning: \n",
      "A value is trying to be set on a copy of a slice from a DataFrame.\n",
      "Try using .loc[row_indexer,col_indexer] = value instead\n",
      "\n",
      "See the caveats in the documentation: http://pandas.pydata.org/pandas-docs/stable/indexing.html#indexing-view-versus-copy\n",
      "  self.obj[item] = s\n"
     ]
    }
   ],
   "source": [
    "df_insight = df[df.action.isin([\"IS\",\"ID\"])]\n",
    "df_insight.loc[df_insight[\"action\"]==\"ID\",\"action\"]=\"data insight\"\n",
    "df_insight.loc[df_insight[\"action\"]==\"IS\",\"action\"]=\"scientific insight\"\n",
    "insight_chart = alt.Chart(df_insight).mark_point(shape=\"diamond\",color=\"red\").encode(        \n",
    "    alt.Y(\"user\",title=\"Participant\"),\n",
    "    alt.X(\"t\",title=\"Timepoint\"),\n",
    "    shape='action' #make no distinction between data and science insights\n",
    ")\n"
   ]
  },
  {
   "cell_type": "code",
   "execution_count": 108,
   "metadata": {},
   "outputs": [
    {
     "data": {
      "application/vnd.vegalite.v2+json": {
       "$schema": "https://vega.github.io/schema/vega-lite/v2.6.0.json",
       "config": {
        "view": {
         "height": 300,
         "width": 400
        }
       },
       "datasets": {
        "data-3753f56211dc9cc30cbe920b34724612": [
         {
          "action": "BR",
          "t": 2,
          "user": "G2"
         },
         {
          "action": "BR",
          "t": 4,
          "user": "A1"
         },
         {
          "action": "BR",
          "t": 4,
          "user": "A3"
         },
         {
          "action": "BR",
          "t": 5,
          "user": "G3"
         },
         {
          "action": "BR",
          "t": 6,
          "user": "G1"
         },
         {
          "action": "BR",
          "t": 8,
          "user": "A2"
         },
         {
          "action": "BR",
          "t": 8,
          "user": "G2"
         },
         {
          "action": "BR",
          "t": 10,
          "user": "G1"
         },
         {
          "action": "BR",
          "t": 12,
          "user": "M2"
         },
         {
          "action": "BR",
          "t": 14,
          "user": "A3"
         },
         {
          "action": "BR",
          "t": 14,
          "user": "G2"
         },
         {
          "action": "BR",
          "t": 14,
          "user": "G3"
         },
         {
          "action": "BR",
          "t": 15,
          "user": "G1"
         },
         {
          "action": "BR",
          "t": 16,
          "user": "G3"
         },
         {
          "action": "BR",
          "t": 17,
          "user": "G2"
         },
         {
          "action": "BR",
          "t": 17,
          "user": "M1"
         },
         {
          "action": "BR",
          "t": 17,
          "user": "M3"
         },
         {
          "action": "BR",
          "t": 19,
          "user": "M2"
         },
         {
          "action": "BR",
          "t": 20,
          "user": "A1"
         },
         {
          "action": "BR",
          "t": 20,
          "user": "A3"
         },
         {
          "action": "BR",
          "t": 21,
          "user": "G3"
         },
         {
          "action": "BR",
          "t": 21,
          "user": "M3"
         },
         {
          "action": "BR",
          "t": 24,
          "user": "A1"
         },
         {
          "action": "BR",
          "t": 24,
          "user": "A2"
         },
         {
          "action": "BR",
          "t": 25,
          "user": "A3"
         },
         {
          "action": "BR",
          "t": 26,
          "user": "G2"
         },
         {
          "action": "BR",
          "t": 26,
          "user": "M1"
         },
         {
          "action": "BR",
          "t": 27,
          "user": "G1"
         },
         {
          "action": "BR",
          "t": 27,
          "user": "M3"
         },
         {
          "action": "BR",
          "t": 28,
          "user": "A3"
         },
         {
          "action": "BR",
          "t": 30,
          "user": "A3"
         },
         {
          "action": "BR",
          "t": 31,
          "user": "M2"
         },
         {
          "action": "BR",
          "t": 31,
          "user": "M3"
         },
         {
          "action": "BR",
          "t": 32,
          "user": "G2"
         },
         {
          "action": "BR",
          "t": 33,
          "user": "A3"
         },
         {
          "action": "BR",
          "t": 35,
          "user": "A2"
         },
         {
          "action": "BR",
          "t": 35,
          "user": "G2"
         },
         {
          "action": "BR",
          "t": 36,
          "user": "A1"
         },
         {
          "action": "BR",
          "t": 39,
          "user": "A1"
         },
         {
          "action": "BR",
          "t": 40,
          "user": "M2"
         },
         {
          "action": "BR",
          "t": 42,
          "user": "A2"
         },
         {
          "action": "BR",
          "t": 47,
          "user": "G2"
         },
         {
          "action": "BR",
          "t": 50,
          "user": "A1"
         },
         {
          "action": "BR",
          "t": 55,
          "user": "A1"
         },
         {
          "action": "BR",
          "t": 57,
          "user": "G2"
         },
         {
          "action": "BR",
          "t": 63,
          "user": "A1"
         },
         {
          "action": "BR",
          "t": 70,
          "user": "A1"
         }
        ],
        "data-bd6311c2f5841ccc3c094e78a1fa8e60": [
         {
          "action": "data insight",
          "t": 0,
          "user": "G3"
         },
         {
          "action": "scientific insight",
          "t": 1,
          "user": "G2"
         },
         {
          "action": "data insight",
          "t": 1,
          "user": "M3"
         },
         {
          "action": "scientific insight",
          "t": 3,
          "user": "M3"
         },
         {
          "action": "scientific insight",
          "t": 5,
          "user": "A1"
         },
         {
          "action": "data insight",
          "t": 5,
          "user": "A2"
         },
         {
          "action": "scientific insight",
          "t": 5,
          "user": "G1"
         },
         {
          "action": "data insight",
          "t": 7,
          "user": "A2"
         },
         {
          "action": "data insight",
          "t": 7,
          "user": "M3"
         },
         {
          "action": "scientific insight",
          "t": 8,
          "user": "G1"
         },
         {
          "action": "data insight",
          "t": 9,
          "user": "A1"
         },
         {
          "action": "scientific insight",
          "t": 9,
          "user": "M2"
         },
         {
          "action": "scientific insight",
          "t": 9,
          "user": "M3"
         },
         {
          "action": "scientific insight",
          "t": 10,
          "user": "M1"
         },
         {
          "action": "scientific insight",
          "t": 10,
          "user": "M2"
         },
         {
          "action": "data insight",
          "t": 11,
          "user": "A3"
         },
         {
          "action": "data insight",
          "t": 11,
          "user": "G3"
         },
         {
          "action": "scientific insight",
          "t": 12,
          "user": "A1"
         },
         {
          "action": "scientific insight",
          "t": 12,
          "user": "M3"
         },
         {
          "action": "scientific insight",
          "t": 13,
          "user": "G3"
         },
         {
          "action": "scientific insight",
          "t": 15,
          "user": "M2"
         },
         {
          "action": "data insight",
          "t": 16,
          "user": "G2"
         },
         {
          "action": "scientific insight",
          "t": 16,
          "user": "M1"
         },
         {
          "action": "scientific insight",
          "t": 16,
          "user": "M3"
         },
         {
          "action": "scientific insight",
          "t": 18,
          "user": "G3"
         },
         {
          "action": "data insight",
          "t": 19,
          "user": "A3"
         },
         {
          "action": "data insight",
          "t": 19,
          "user": "G2"
         },
         {
          "action": "scientific insight",
          "t": 20,
          "user": "G3"
         },
         {
          "action": "data insight",
          "t": 21,
          "user": "G1"
         },
         {
          "action": "data insight",
          "t": 22,
          "user": "A3"
         },
         {
          "action": "scientific insight",
          "t": 24,
          "user": "G2"
         },
         {
          "action": "data insight",
          "t": 24,
          "user": "M2"
         },
         {
          "action": "data insight",
          "t": 24,
          "user": "M3"
         },
         {
          "action": "data insight",
          "t": 25,
          "user": "M1"
         },
         {
          "action": "scientific insight",
          "t": 26,
          "user": "M3"
         },
         {
          "action": "scientific insight",
          "t": 28,
          "user": "M2"
         },
         {
          "action": "data insight",
          "t": 32,
          "user": "A1"
         },
         {
          "action": "scientific insight",
          "t": 33,
          "user": "A2"
         },
         {
          "action": "scientific insight",
          "t": 33,
          "user": "M2"
         },
         {
          "action": "scientific insight",
          "t": 34,
          "user": "M2"
         },
         {
          "action": "data insight",
          "t": 35,
          "user": "A1"
         },
         {
          "action": "scientific insight",
          "t": 37,
          "user": "M2"
         },
         {
          "action": "data insight",
          "t": 39,
          "user": "M2"
         },
         {
          "action": "scientific insight",
          "t": 41,
          "user": "G2"
         },
         {
          "action": "data insight",
          "t": 45,
          "user": "G2"
         },
         {
          "action": "scientific insight",
          "t": 49,
          "user": "A1"
         },
         {
          "action": "data insight",
          "t": 54,
          "user": "G2"
         },
         {
          "action": "data insight",
          "t": 55,
          "user": "G2"
         },
         {
          "action": "data insight",
          "t": 58,
          "user": "A1"
         },
         {
          "action": "data insight",
          "t": 66,
          "user": "A1"
         }
        ],
        "data-e1689d1d6a0395ce82c30ca460e7a121": [
         {
          "component": "filter-selection",
          "process": "2-search-with-context",
          "t": 0,
          "user": "A1"
         },
         {
          "component": "filter-selection",
          "process": "2-search-with-context",
          "t": 0,
          "user": "A2"
         },
         {
          "component": "result-querying",
          "process": "3-bottom-up-querying",
          "t": 0,
          "user": "A3"
         },
         {
          "component": "recommendation",
          "process": "4-recommendation",
          "t": 0,
          "user": "G1"
         },
         {
          "component": "recommendation",
          "process": "4-recommendation",
          "t": 0,
          "user": "G2"
         },
         {
          "component": "control",
          "process": "others",
          "t": 0,
          "user": "M2"
         },
         {
          "component": "group-comparison",
          "process": "2-search-with-context",
          "t": 0,
          "user": "M3"
         },
         {
          "component": "filter-selection",
          "process": "2-search-with-context",
          "t": 1,
          "user": "A1"
         },
         {
          "component": "result-querying",
          "process": "3-bottom-up-querying",
          "t": 1,
          "user": "A3"
         },
         {
          "component": "recommendation",
          "process": "4-recommendation",
          "t": 1,
          "user": "G1"
         },
         {
          "component": "exact-specification",
          "process": "1-top-down-querying",
          "t": 1,
          "user": "M1"
         },
         {
          "component": "control",
          "process": "others",
          "t": 1,
          "user": "M2"
         },
         {
          "component": "filter-selection",
          "process": "2-search-with-context",
          "t": 2,
          "user": "A1"
         },
         {
          "component": "exact-specification",
          "process": "1-top-down-querying",
          "t": 2,
          "user": "A3"
         },
         {
          "component": "recommendation",
          "process": "4-recommendation",
          "t": 2,
          "user": "G1"
         },
         {
          "component": "approx-shape-specification",
          "process": "1-top-down-querying",
          "t": 2,
          "user": "M1"
         },
         {
          "component": "control",
          "process": "others",
          "t": 2,
          "user": "M3"
         },
         {
          "component": "filter-selection",
          "process": "2-search-with-context",
          "t": 3,
          "user": "A1"
         },
         {
          "component": "result-querying",
          "process": "3-bottom-up-querying",
          "t": 3,
          "user": "A2"
         },
         {
          "component": "approx-shape-specification",
          "process": "1-top-down-querying",
          "t": 3,
          "user": "A3"
         },
         {
          "component": "recommendation",
          "process": "4-recommendation",
          "t": 3,
          "user": "G1"
         },
         {
          "component": "recommendation",
          "process": "4-recommendation",
          "t": 3,
          "user": "G2"
         },
         {
          "component": "control",
          "process": "others",
          "t": 3,
          "user": "G3"
         },
         {
          "component": "group-comparison",
          "process": "2-search-with-context",
          "t": 3,
          "user": "M2"
         },
         {
          "component": "recommendation",
          "process": "4-recommendation",
          "t": 4,
          "user": "G2"
         },
         {
          "component": "control",
          "process": "others",
          "t": 4,
          "user": "G3"
         },
         {
          "component": "control",
          "process": "others",
          "t": 4,
          "user": "M1"
         },
         {
          "component": "group-comparison",
          "process": "2-search-with-context",
          "t": 4,
          "user": "M2"
         },
         {
          "component": "group-comparison",
          "process": "2-search-with-context",
          "t": 4,
          "user": "M3"
         },
         {
          "component": "result-querying",
          "process": "3-bottom-up-querying",
          "t": 5,
          "user": "A3"
         },
         {
          "component": "recommendation",
          "process": "4-recommendation",
          "t": 5,
          "user": "G2"
         },
         {
          "component": "group-comparison",
          "process": "2-search-with-context",
          "t": 5,
          "user": "M2"
         },
         {
          "component": "approx-shape-specification",
          "process": "1-top-down-querying",
          "t": 6,
          "user": "A3"
         },
         {
          "component": "filter-selection",
          "process": "2-search-with-context",
          "t": 6,
          "user": "G2"
         },
         {
          "component": "recommendation",
          "process": "4-recommendation",
          "t": 6,
          "user": "G3"
         },
         {
          "component": "group-comparison",
          "process": "2-search-with-context",
          "t": 6,
          "user": "M2"
         },
         {
          "component": "group-comparison",
          "process": "2-search-with-context",
          "t": 6,
          "user": "M3"
         },
         {
          "component": "flexible-matching",
          "process": "1-top-down-querying",
          "t": 7,
          "user": "A3"
         },
         {
          "component": "result-querying",
          "process": "3-bottom-up-querying",
          "t": 7,
          "user": "G1"
         },
         {
          "component": "result-querying",
          "process": "3-bottom-up-querying",
          "t": 8,
          "user": "A1"
         },
         {
          "component": "flexible-matching",
          "process": "1-top-down-querying",
          "t": 8,
          "user": "G3"
         },
         {
          "component": "range-selection",
          "process": "1-top-down-querying",
          "t": 8,
          "user": "M1"
         },
         {
          "component": "group-comparison",
          "process": "2-search-with-context",
          "t": 8,
          "user": "M2"
         },
         {
          "component": "control",
          "process": "others",
          "t": 8,
          "user": "M3"
         },
         {
          "component": "filter-selection",
          "process": "2-search-with-context",
          "t": 9,
          "user": "A2"
         },
         {
          "component": "range-selection",
          "process": "1-top-down-querying",
          "t": 9,
          "user": "A3"
         },
         {
          "component": "recommendation",
          "process": "4-recommendation",
          "t": 9,
          "user": "G3"
         },
         {
          "component": "control",
          "process": "others",
          "t": 9,
          "user": "M1"
         },
         {
          "component": "filter-selection",
          "process": "2-search-with-context",
          "t": 10,
          "user": "A1"
         },
         {
          "component": "flexible-matching",
          "process": "1-top-down-querying",
          "t": 10,
          "user": "A3"
         },
         {
          "component": "result-querying",
          "process": "3-bottom-up-querying",
          "t": 10,
          "user": "G2"
         },
         {
          "component": "recommendation",
          "process": "4-recommendation",
          "t": 10,
          "user": "G3"
         },
         {
          "component": "result-querying",
          "process": "3-bottom-up-querying",
          "t": 10,
          "user": "M3"
         },
         {
          "component": "result-querying",
          "process": "3-bottom-up-querying",
          "t": 11,
          "user": "G1"
         },
         {
          "component": "recommendation",
          "process": "4-recommendation",
          "t": 11,
          "user": "M1"
         },
         {
          "component": "group-comparison",
          "process": "2-search-with-context",
          "t": 11,
          "user": "M3"
         },
         {
          "component": "control",
          "process": "others",
          "t": 12,
          "user": "A2"
         },
         {
          "component": "flexible-matching",
          "process": "1-top-down-querying",
          "t": 12,
          "user": "A3"
         },
         {
          "component": "control",
          "process": "others",
          "t": 12,
          "user": "G1"
         },
         {
          "component": "filter-selection",
          "process": "2-search-with-context",
          "t": 12,
          "user": "G2"
         },
         {
          "component": "result-querying",
          "process": "3-bottom-up-querying",
          "t": 12,
          "user": "G3"
         },
         {
          "component": "filter-selection",
          "process": "2-search-with-context",
          "t": 13,
          "user": "A2"
         },
         {
          "component": "range-selection",
          "process": "1-top-down-querying",
          "t": 13,
          "user": "G1"
         },
         {
          "component": "flexible-matching",
          "process": "1-top-down-querying",
          "t": 13,
          "user": "M3"
         },
         {
          "component": "control",
          "process": "others",
          "t": 14,
          "user": "G1"
         },
         {
          "component": "group-comparison",
          "process": "2-search-with-context",
          "t": 14,
          "user": "M1"
         },
         {
          "component": "group-comparison",
          "process": "2-search-with-context",
          "t": 14,
          "user": "M2"
         },
         {
          "component": "filter-selection",
          "process": "2-search-with-context",
          "t": 15,
          "user": "A3"
         },
         {
          "component": "control",
          "process": "others",
          "t": 15,
          "user": "G2"
         },
         {
          "component": "control",
          "process": "others",
          "t": 15,
          "user": "G3"
         },
         {
          "component": "result-querying",
          "process": "3-bottom-up-querying",
          "t": 15,
          "user": "M3"
         },
         {
          "component": "filter-selection",
          "process": "2-search-with-context",
          "t": 16,
          "user": "A2"
         },
         {
          "component": "recommendation",
          "process": "4-recommendation",
          "t": 16,
          "user": "G1"
         },
         {
          "component": "exact-specification",
          "process": "1-top-down-querying",
          "t": 16,
          "user": "M2"
         },
         {
          "component": "control",
          "process": "others",
          "t": 17,
          "user": "A1"
         },
         {
          "component": "recommendation",
          "process": "4-recommendation",
          "t": 17,
          "user": "G3"
         },
         {
          "component": "filter-selection",
          "process": "2-search-with-context",
          "t": 18,
          "user": "A3"
         },
         {
          "component": "exact-specification",
          "process": "1-top-down-querying",
          "t": 18,
          "user": "G2"
         },
         {
          "component": "filter-selection",
          "process": "2-search-with-context",
          "t": 18,
          "user": "M1"
         },
         {
          "component": "exact-specification",
          "process": "1-top-down-querying",
          "t": 18,
          "user": "M2"
         },
         {
          "component": "control",
          "process": "others",
          "t": 18,
          "user": "M3"
         },
         {
          "component": "control",
          "process": "others",
          "t": 19,
          "user": "A2"
         },
         {
          "component": "result-querying",
          "process": "3-bottom-up-querying",
          "t": 19,
          "user": "G1"
         },
         {
          "component": "approx-shape-specification",
          "process": "1-top-down-querying",
          "t": 19,
          "user": "G3"
         },
         {
          "component": "exact-specification",
          "process": "1-top-down-querying",
          "t": 19,
          "user": "M1"
         },
         {
          "component": "exact-specification",
          "process": "1-top-down-querying",
          "t": 19,
          "user": "M3"
         },
         {
          "component": "control",
          "process": "others",
          "t": 20,
          "user": "A2"
         },
         {
          "component": "result-querying",
          "process": "3-bottom-up-querying",
          "t": 20,
          "user": "G1"
         },
         {
          "component": "control",
          "process": "others",
          "t": 20,
          "user": "M1"
         },
         {
          "component": "control",
          "process": "others",
          "t": 20,
          "user": "M2"
         },
         {
          "component": "exact-specification",
          "process": "1-top-down-querying",
          "t": 20,
          "user": "M3"
         },
         {
          "component": "result-querying",
          "process": "3-bottom-up-querying",
          "t": 21,
          "user": "A1"
         },
         {
          "component": "filter-selection",
          "process": "2-search-with-context",
          "t": 21,
          "user": "A2"
         },
         {
          "component": "control",
          "process": "others",
          "t": 21,
          "user": "A3"
         },
         {
          "component": "approx-shape-specification",
          "process": "1-top-down-querying",
          "t": 21,
          "user": "G2"
         },
         {
          "component": "exact-specification",
          "process": "1-top-down-querying",
          "t": 21,
          "user": "M2"
         },
         {
          "component": "recommendation",
          "process": "4-recommendation",
          "t": 22,
          "user": "G1"
         },
         {
          "component": "exact-specification",
          "process": "1-top-down-querying",
          "t": 22,
          "user": "G2"
         },
         {
          "component": "filter-selection",
          "process": "2-search-with-context",
          "t": 22,
          "user": "M1"
         },
         {
          "component": "result-querying",
          "process": "3-bottom-up-querying",
          "t": 22,
          "user": "M2"
         },
         {
          "component": "filter-selection",
          "process": "2-search-with-context",
          "t": 23,
          "user": "A1"
         },
         {
          "component": "control",
          "process": "others",
          "t": 23,
          "user": "A2"
         },
         {
          "component": "filter-selection",
          "process": "2-search-with-context",
          "t": 23,
          "user": "A3"
         },
         {
          "component": "filter-selection",
          "process": "2-search-with-context",
          "t": 23,
          "user": "G2"
         },
         {
          "component": "filter-selection",
          "process": "2-search-with-context",
          "t": 23,
          "user": "M1"
         },
         {
          "component": "exact-specification",
          "process": "1-top-down-querying",
          "t": 23,
          "user": "M2"
         },
         {
          "component": "result-querying",
          "process": "3-bottom-up-querying",
          "t": 23,
          "user": "M3"
         },
         {
          "component": "filter-selection",
          "process": "2-search-with-context",
          "t": 24,
          "user": "M1"
         },
         {
          "component": "filter-selection",
          "process": "2-search-with-context",
          "t": 25,
          "user": "A1"
         },
         {
          "component": "filter-selection",
          "process": "2-search-with-context",
          "t": 25,
          "user": "G2"
         },
         {
          "component": "control",
          "process": "others",
          "t": 26,
          "user": "A3"
         },
         {
          "component": "result-querying",
          "process": "3-bottom-up-querying",
          "t": 26,
          "user": "M2"
         },
         {
          "component": "filter-selection",
          "process": "2-search-with-context",
          "t": 27,
          "user": "G2"
         },
         {
          "component": "exact-specification",
          "process": "1-top-down-querying",
          "t": 27,
          "user": "M2"
         },
         {
          "component": "group-comparison",
          "process": "2-search-with-context",
          "t": 28,
          "user": "A2"
         },
         {
          "component": "control",
          "process": "others",
          "t": 28,
          "user": "M3"
         },
         {
          "component": "exact-specification",
          "process": "1-top-down-querying",
          "t": 29,
          "user": "A3"
         },
         {
          "component": "filter-selection",
          "process": "2-search-with-context",
          "t": 29,
          "user": "G2"
         },
         {
          "component": "range-selection",
          "process": "1-top-down-querying",
          "t": 30,
          "user": "A1"
         },
         {
          "component": "control",
          "process": "others",
          "t": 31,
          "user": "A2"
         },
         {
          "component": "control",
          "process": "others",
          "t": 31,
          "user": "A3"
         },
         {
          "component": "recommendation",
          "process": "4-recommendation",
          "t": 31,
          "user": "G2"
         },
         {
          "component": "approx-shape-specification",
          "process": "1-top-down-querying",
          "t": 32,
          "user": "A2"
         },
         {
          "component": "group-comparison",
          "process": "2-search-with-context",
          "t": 32,
          "user": "M2"
         },
         {
          "component": "approx-shape-specification",
          "process": "1-top-down-querying",
          "t": 33,
          "user": "G2"
         },
         {
          "component": "approx-shape-specification",
          "process": "1-top-down-querying",
          "t": 34,
          "user": "G2"
         },
         {
          "component": "recommendation",
          "process": "4-recommendation",
          "t": 35,
          "user": "M2"
         },
         {
          "component": "concept-query",
          "process": "3-bottom-up-querying",
          "t": 36,
          "user": "G2"
         },
         {
          "component": "filter-selection",
          "process": "2-search-with-context",
          "t": 36,
          "user": "M2"
         },
         {
          "component": "filter-selection",
          "process": "2-search-with-context",
          "t": 37,
          "user": "A1"
         },
         {
          "component": "filter-selection",
          "process": "2-search-with-context",
          "t": 38,
          "user": "A1"
         },
         {
          "component": "result-querying",
          "process": "3-bottom-up-querying",
          "t": 38,
          "user": "A2"
         },
         {
          "component": "control",
          "process": "others",
          "t": 38,
          "user": "M2"
         },
         {
          "component": "filter-selection",
          "process": "2-search-with-context",
          "t": 39,
          "user": "G2"
         },
         {
          "component": "approx-shape-specification",
          "process": "1-top-down-querying",
          "t": 40,
          "user": "A1"
         },
         {
          "component": "range-selection",
          "process": "1-top-down-querying",
          "t": 40,
          "user": "A2"
         },
         {
          "component": "result-querying",
          "process": "3-bottom-up-querying",
          "t": 40,
          "user": "G2"
         },
         {
          "component": "exact-specification",
          "process": "1-top-down-querying",
          "t": 41,
          "user": "A1"
         },
         {
          "component": "exact-specification",
          "process": "1-top-down-querying",
          "t": 42,
          "user": "A1"
         },
         {
          "component": "filter-selection",
          "process": "2-search-with-context",
          "t": 43,
          "user": "A1"
         },
         {
          "component": "control",
          "process": "others",
          "t": 43,
          "user": "G2"
         },
         {
          "component": "recommendation",
          "process": "4-recommendation",
          "t": 44,
          "user": "G2"
         },
         {
          "component": "control",
          "process": "others",
          "t": 46,
          "user": "G2"
         },
         {
          "component": "range-selection",
          "process": "1-top-down-querying",
          "t": 48,
          "user": "G2"
         },
         {
          "component": "control",
          "process": "others",
          "t": 50,
          "user": "G2"
         },
         {
          "component": "group-comparison",
          "process": "2-search-with-context",
          "t": 51,
          "user": "A1"
         },
         {
          "component": "approx-shape-specification",
          "process": "1-top-down-querying",
          "t": 51,
          "user": "G2"
         },
         {
          "component": "group-comparison",
          "process": "2-search-with-context",
          "t": 52,
          "user": "A1"
         },
         {
          "component": "recommendation",
          "process": "4-recommendation",
          "t": 52,
          "user": "G2"
         },
         {
          "component": "recommendation",
          "process": "4-recommendation",
          "t": 53,
          "user": "G2"
         },
         {
          "component": "group-comparison",
          "process": "2-search-with-context",
          "t": 54,
          "user": "A1"
         },
         {
          "component": "filter-selection",
          "process": "2-search-with-context",
          "t": 56,
          "user": "A1"
         },
         {
          "component": "concept-query",
          "process": "3-bottom-up-querying",
          "t": 59,
          "user": "A1"
         },
         {
          "component": "control",
          "process": "others",
          "t": 60,
          "user": "A1"
         },
         {
          "component": "group-comparison",
          "process": "2-search-with-context",
          "t": 62,
          "user": "A1"
         },
         {
          "component": "filter-selection",
          "process": "2-search-with-context",
          "t": 64,
          "user": "A1"
         },
         {
          "component": "concept-query",
          "process": "3-bottom-up-querying",
          "t": 67,
          "user": "A1"
         },
         {
          "component": "control",
          "process": "others",
          "t": 68,
          "user": "A1"
         }
        ]
       },
       "layer": [
        {
         "data": {
          "name": "data-e1689d1d6a0395ce82c30ca460e7a121"
         },
         "encoding": {
          "color": {
           "field": "component",
           "type": "nominal"
          },
          "x": {
           "field": "t",
           "type": "quantitative"
          },
          "y": {
           "field": "user",
           "type": "nominal"
          }
         },
         "mark": "circle"
        },
        {
         "data": {
          "name": "data-3753f56211dc9cc30cbe920b34724612"
         },
         "encoding": {
          "x": {
           "field": "t",
           "type": "quantitative"
          },
          "y": {
           "field": "user",
           "type": "nominal"
          }
         },
         "mark": {
          "color": "black",
          "thickness": 2,
          "type": "tick"
         }
        },
        {
         "data": {
          "name": "data-bd6311c2f5841ccc3c094e78a1fa8e60"
         },
         "encoding": {
          "shape": {
           "field": "action",
           "type": "nominal"
          },
          "x": {
           "field": "t",
           "title": "Timepoint",
           "type": "quantitative"
          },
          "y": {
           "field": "user",
           "title": "Participant",
           "type": "nominal"
          }
         },
         "mark": {
          "color": "red",
          "shape": "diamond",
          "type": "point"
         }
        }
       ],
       "title": "Evaluation Study Event Timeline Breakdown by Feature Components"
      },
      "image/png": "[encoded data removed]",
      "text/plain": [
       "<VegaLite 2 object>\n",
       "\n",
       "If you see this message, it means the renderer has not been properly enabled\n",
       "for the frontend that you are using. For more information, see\n",
       "https://altair-viz.github.io/user_guide/troubleshooting.html\n"
      ]
     },
     "execution_count": 108,
     "metadata": {},
     "output_type": "execute_result"
    }
   ],
   "source": [
    "chart = component_chart+ break_chart + insight_chart\n",
    "chart.title=\"Evaluation Study Event Timeline Breakdown by Feature Components\"\n",
    "chart"
   ]
  },
  {
   "cell_type": "markdown",
   "metadata": {},
   "source": [
    "- Astronomers discovered insights more about their data, whereas geneticists and material scientists uncovered more scientific insights.\n",
    "- The use of exact specification (including sketch) is rare, and doesn't usually lead to useful outcomes. "
   ]
  },
  {
   "cell_type": "markdown",
   "metadata": {},
   "source": [
    "# Processes"
   ]
  },
  {
   "cell_type": "code",
   "execution_count": 89,
   "metadata": {},
   "outputs": [
    {
     "data": {
      "text/plain": [
       "array(['filter-selection', 'result-querying', 'recommendation', 'control',\n",
       "       'group-comparison', 'exact-specification',\n",
       "       'approx-shape-specification', 'flexible-matching',\n",
       "       'range-selection', 'concept-query'], dtype=object)"
      ]
     },
     "execution_count": 89,
     "metadata": {},
     "output_type": "execute_result"
    }
   ],
   "source": [
    "df_component[\"component\"].unique()"
   ]
  },
  {
   "cell_type": "code",
   "execution_count": 95,
   "metadata": {},
   "outputs": [],
   "source": [
    "td = '1-top-down-querying'\n",
    "sc = '2-search-with-context'\n",
    "bu = '3-bottom-up-querying'\n",
    "rec= '4-recommendation'\n",
    "component_to_process = {\n",
    "    'exact-specification':td,\n",
    "    'approx-shape-specification':td,\n",
    "    'flexible-matching':td,\n",
    "    'range-selection':td, \n",
    "    'filter-selection':sc, \n",
    "    'group-comparison':sc,\n",
    "    'result-querying':bu,\n",
    "    'concept-query':bu,\n",
    "    'control':\"others\",\n",
    "    'recommendation':rec,\n",
    "}"
   ]
  },
  {
   "cell_type": "code",
   "execution_count": 96,
   "metadata": {},
   "outputs": [],
   "source": [
    "df_process = df_component\n",
    "df_process[\"process\"] = df_component[\"component\"].replace(component_to_process)"
   ]
  },
  {
   "cell_type": "code",
   "execution_count": 97,
   "metadata": {},
   "outputs": [],
   "source": [
    "process_chart = alt.Chart(df_component).mark_circle().encode(        \n",
    "    color='process',\n",
    "    y=\"user\",\n",
    "    x='t'\n",
    ")"
   ]
  },
  {
   "cell_type": "code",
   "execution_count": 99,
   "metadata": {},
   "outputs": [],
   "source": [
    "df_break = df[df.action.isin([\"BR\"])]\n",
    "break_chart = alt.Chart(df_break).mark_tick(thickness=2,color=\"black\").encode(        \n",
    "    y=\"user\",\n",
    "    x='t'\n",
    ")"
   ]
  },
  {
   "cell_type": "code",
   "execution_count": 100,
   "metadata": {},
   "outputs": [
    {
     "name": "stderr",
     "output_type": "stream",
     "text": [
      "/Users/dorislee/.virtualenvs/py37env/lib/python3.7/site-packages/pandas/core/indexing.py:543: SettingWithCopyWarning: \n",
      "A value is trying to be set on a copy of a slice from a DataFrame.\n",
      "Try using .loc[row_indexer,col_indexer] = value instead\n",
      "\n",
      "See the caveats in the documentation: http://pandas.pydata.org/pandas-docs/stable/indexing.html#indexing-view-versus-copy\n",
      "  self.obj[item] = s\n"
     ]
    }
   ],
   "source": [
    "df_insight = df[df.action.isin([\"IS\",\"ID\"])]\n",
    "df_insight.loc[df_insight[\"action\"]==\"ID\",\"action\"]=\"data insight\"\n",
    "df_insight.loc[df_insight[\"action\"]==\"IS\",\"action\"]=\"scientific insight\"\n",
    "insight_chart = alt.Chart(df_insight).mark_point(shape=\"diamond\",color=\"red\").encode(        \n",
    "    alt.Y(\"user\",title=\"Participant\"),\n",
    "    alt.X(\"t\",title=\"Timepoint\"),\n",
    "    shape='action' #make no distinction between data and science insights\n",
    ")\n"
   ]
  },
  {
   "cell_type": "code",
   "execution_count": 107,
   "metadata": {},
   "outputs": [
    {
     "data": {
      "application/vnd.vegalite.v2+json": {
       "$schema": "https://vega.github.io/schema/vega-lite/v2.6.0.json",
       "config": {
        "view": {
         "height": 300,
         "width": 400
        }
       },
       "datasets": {
        "data-3753f56211dc9cc30cbe920b34724612": [
         {
          "action": "BR",
          "t": 2,
          "user": "G2"
         },
         {
          "action": "BR",
          "t": 4,
          "user": "A1"
         },
         {
          "action": "BR",
          "t": 4,
          "user": "A3"
         },
         {
          "action": "BR",
          "t": 5,
          "user": "G3"
         },
         {
          "action": "BR",
          "t": 6,
          "user": "G1"
         },
         {
          "action": "BR",
          "t": 8,
          "user": "A2"
         },
         {
          "action": "BR",
          "t": 8,
          "user": "G2"
         },
         {
          "action": "BR",
          "t": 10,
          "user": "G1"
         },
         {
          "action": "BR",
          "t": 12,
          "user": "M2"
         },
         {
          "action": "BR",
          "t": 14,
          "user": "A3"
         },
         {
          "action": "BR",
          "t": 14,
          "user": "G2"
         },
         {
          "action": "BR",
          "t": 14,
          "user": "G3"
         },
         {
          "action": "BR",
          "t": 15,
          "user": "G1"
         },
         {
          "action": "BR",
          "t": 16,
          "user": "G3"
         },
         {
          "action": "BR",
          "t": 17,
          "user": "G2"
         },
         {
          "action": "BR",
          "t": 17,
          "user": "M1"
         },
         {
          "action": "BR",
          "t": 17,
          "user": "M3"
         },
         {
          "action": "BR",
          "t": 19,
          "user": "M2"
         },
         {
          "action": "BR",
          "t": 20,
          "user": "A1"
         },
         {
          "action": "BR",
          "t": 20,
          "user": "A3"
         },
         {
          "action": "BR",
          "t": 21,
          "user": "G3"
         },
         {
          "action": "BR",
          "t": 21,
          "user": "M3"
         },
         {
          "action": "BR",
          "t": 24,
          "user": "A1"
         },
         {
          "action": "BR",
          "t": 24,
          "user": "A2"
         },
         {
          "action": "BR",
          "t": 25,
          "user": "A3"
         },
         {
          "action": "BR",
          "t": 26,
          "user": "G2"
         },
         {
          "action": "BR",
          "t": 26,
          "user": "M1"
         },
         {
          "action": "BR",
          "t": 27,
          "user": "G1"
         },
         {
          "action": "BR",
          "t": 27,
          "user": "M3"
         },
         {
          "action": "BR",
          "t": 28,
          "user": "A3"
         },
         {
          "action": "BR",
          "t": 30,
          "user": "A3"
         },
         {
          "action": "BR",
          "t": 31,
          "user": "M2"
         },
         {
          "action": "BR",
          "t": 31,
          "user": "M3"
         },
         {
          "action": "BR",
          "t": 32,
          "user": "G2"
         },
         {
          "action": "BR",
          "t": 33,
          "user": "A3"
         },
         {
          "action": "BR",
          "t": 35,
          "user": "A2"
         },
         {
          "action": "BR",
          "t": 35,
          "user": "G2"
         },
         {
          "action": "BR",
          "t": 36,
          "user": "A1"
         },
         {
          "action": "BR",
          "t": 39,
          "user": "A1"
         },
         {
          "action": "BR",
          "t": 40,
          "user": "M2"
         },
         {
          "action": "BR",
          "t": 42,
          "user": "A2"
         },
         {
          "action": "BR",
          "t": 47,
          "user": "G2"
         },
         {
          "action": "BR",
          "t": 50,
          "user": "A1"
         },
         {
          "action": "BR",
          "t": 55,
          "user": "A1"
         },
         {
          "action": "BR",
          "t": 57,
          "user": "G2"
         },
         {
          "action": "BR",
          "t": 63,
          "user": "A1"
         },
         {
          "action": "BR",
          "t": 70,
          "user": "A1"
         }
        ],
        "data-bd6311c2f5841ccc3c094e78a1fa8e60": [
         {
          "action": "data insight",
          "t": 0,
          "user": "G3"
         },
         {
          "action": "scientific insight",
          "t": 1,
          "user": "G2"
         },
         {
          "action": "data insight",
          "t": 1,
          "user": "M3"
         },
         {
          "action": "scientific insight",
          "t": 3,
          "user": "M3"
         },
         {
          "action": "scientific insight",
          "t": 5,
          "user": "A1"
         },
         {
          "action": "data insight",
          "t": 5,
          "user": "A2"
         },
         {
          "action": "scientific insight",
          "t": 5,
          "user": "G1"
         },
         {
          "action": "data insight",
          "t": 7,
          "user": "A2"
         },
         {
          "action": "data insight",
          "t": 7,
          "user": "M3"
         },
         {
          "action": "scientific insight",
          "t": 8,
          "user": "G1"
         },
         {
          "action": "data insight",
          "t": 9,
          "user": "A1"
         },
         {
          "action": "scientific insight",
          "t": 9,
          "user": "M2"
         },
         {
          "action": "scientific insight",
          "t": 9,
          "user": "M3"
         },
         {
          "action": "scientific insight",
          "t": 10,
          "user": "M1"
         },
         {
          "action": "scientific insight",
          "t": 10,
          "user": "M2"
         },
         {
          "action": "data insight",
          "t": 11,
          "user": "A3"
         },
         {
          "action": "data insight",
          "t": 11,
          "user": "G3"
         },
         {
          "action": "scientific insight",
          "t": 12,
          "user": "A1"
         },
         {
          "action": "scientific insight",
          "t": 12,
          "user": "M3"
         },
         {
          "action": "scientific insight",
          "t": 13,
          "user": "G3"
         },
         {
          "action": "scientific insight",
          "t": 15,
          "user": "M2"
         },
         {
          "action": "data insight",
          "t": 16,
          "user": "G2"
         },
         {
          "action": "scientific insight",
          "t": 16,
          "user": "M1"
         },
         {
          "action": "scientific insight",
          "t": 16,
          "user": "M3"
         },
         {
          "action": "scientific insight",
          "t": 18,
          "user": "G3"
         },
         {
          "action": "data insight",
          "t": 19,
          "user": "A3"
         },
         {
          "action": "data insight",
          "t": 19,
          "user": "G2"
         },
         {
          "action": "scientific insight",
          "t": 20,
          "user": "G3"
         },
         {
          "action": "data insight",
          "t": 21,
          "user": "G1"
         },
         {
          "action": "data insight",
          "t": 22,
          "user": "A3"
         },
         {
          "action": "scientific insight",
          "t": 24,
          "user": "G2"
         },
         {
          "action": "data insight",
          "t": 24,
          "user": "M2"
         },
         {
          "action": "data insight",
          "t": 24,
          "user": "M3"
         },
         {
          "action": "data insight",
          "t": 25,
          "user": "M1"
         },
         {
          "action": "scientific insight",
          "t": 26,
          "user": "M3"
         },
         {
          "action": "scientific insight",
          "t": 28,
          "user": "M2"
         },
         {
          "action": "data insight",
          "t": 32,
          "user": "A1"
         },
         {
          "action": "scientific insight",
          "t": 33,
          "user": "A2"
         },
         {
          "action": "scientific insight",
          "t": 33,
          "user": "M2"
         },
         {
          "action": "scientific insight",
          "t": 34,
          "user": "M2"
         },
         {
          "action": "data insight",
          "t": 35,
          "user": "A1"
         },
         {
          "action": "scientific insight",
          "t": 37,
          "user": "M2"
         },
         {
          "action": "data insight",
          "t": 39,
          "user": "M2"
         },
         {
          "action": "scientific insight",
          "t": 41,
          "user": "G2"
         },
         {
          "action": "data insight",
          "t": 45,
          "user": "G2"
         },
         {
          "action": "scientific insight",
          "t": 49,
          "user": "A1"
         },
         {
          "action": "data insight",
          "t": 54,
          "user": "G2"
         },
         {
          "action": "data insight",
          "t": 55,
          "user": "G2"
         },
         {
          "action": "data insight",
          "t": 58,
          "user": "A1"
         },
         {
          "action": "data insight",
          "t": 66,
          "user": "A1"
         }
        ],
        "data-e1689d1d6a0395ce82c30ca460e7a121": [
         {
          "component": "filter-selection",
          "process": "2-search-with-context",
          "t": 0,
          "user": "A1"
         },
         {
          "component": "filter-selection",
          "process": "2-search-with-context",
          "t": 0,
          "user": "A2"
         },
         {
          "component": "result-querying",
          "process": "3-bottom-up-querying",
          "t": 0,
          "user": "A3"
         },
         {
          "component": "recommendation",
          "process": "4-recommendation",
          "t": 0,
          "user": "G1"
         },
         {
          "component": "recommendation",
          "process": "4-recommendation",
          "t": 0,
          "user": "G2"
         },
         {
          "component": "control",
          "process": "others",
          "t": 0,
          "user": "M2"
         },
         {
          "component": "group-comparison",
          "process": "2-search-with-context",
          "t": 0,
          "user": "M3"
         },
         {
          "component": "filter-selection",
          "process": "2-search-with-context",
          "t": 1,
          "user": "A1"
         },
         {
          "component": "result-querying",
          "process": "3-bottom-up-querying",
          "t": 1,
          "user": "A3"
         },
         {
          "component": "recommendation",
          "process": "4-recommendation",
          "t": 1,
          "user": "G1"
         },
         {
          "component": "exact-specification",
          "process": "1-top-down-querying",
          "t": 1,
          "user": "M1"
         },
         {
          "component": "control",
          "process": "others",
          "t": 1,
          "user": "M2"
         },
         {
          "component": "filter-selection",
          "process": "2-search-with-context",
          "t": 2,
          "user": "A1"
         },
         {
          "component": "exact-specification",
          "process": "1-top-down-querying",
          "t": 2,
          "user": "A3"
         },
         {
          "component": "recommendation",
          "process": "4-recommendation",
          "t": 2,
          "user": "G1"
         },
         {
          "component": "approx-shape-specification",
          "process": "1-top-down-querying",
          "t": 2,
          "user": "M1"
         },
         {
          "component": "control",
          "process": "others",
          "t": 2,
          "user": "M3"
         },
         {
          "component": "filter-selection",
          "process": "2-search-with-context",
          "t": 3,
          "user": "A1"
         },
         {
          "component": "result-querying",
          "process": "3-bottom-up-querying",
          "t": 3,
          "user": "A2"
         },
         {
          "component": "approx-shape-specification",
          "process": "1-top-down-querying",
          "t": 3,
          "user": "A3"
         },
         {
          "component": "recommendation",
          "process": "4-recommendation",
          "t": 3,
          "user": "G1"
         },
         {
          "component": "recommendation",
          "process": "4-recommendation",
          "t": 3,
          "user": "G2"
         },
         {
          "component": "control",
          "process": "others",
          "t": 3,
          "user": "G3"
         },
         {
          "component": "group-comparison",
          "process": "2-search-with-context",
          "t": 3,
          "user": "M2"
         },
         {
          "component": "recommendation",
          "process": "4-recommendation",
          "t": 4,
          "user": "G2"
         },
         {
          "component": "control",
          "process": "others",
          "t": 4,
          "user": "G3"
         },
         {
          "component": "control",
          "process": "others",
          "t": 4,
          "user": "M1"
         },
         {
          "component": "group-comparison",
          "process": "2-search-with-context",
          "t": 4,
          "user": "M2"
         },
         {
          "component": "group-comparison",
          "process": "2-search-with-context",
          "t": 4,
          "user": "M3"
         },
         {
          "component": "result-querying",
          "process": "3-bottom-up-querying",
          "t": 5,
          "user": "A3"
         },
         {
          "component": "recommendation",
          "process": "4-recommendation",
          "t": 5,
          "user": "G2"
         },
         {
          "component": "group-comparison",
          "process": "2-search-with-context",
          "t": 5,
          "user": "M2"
         },
         {
          "component": "approx-shape-specification",
          "process": "1-top-down-querying",
          "t": 6,
          "user": "A3"
         },
         {
          "component": "filter-selection",
          "process": "2-search-with-context",
          "t": 6,
          "user": "G2"
         },
         {
          "component": "recommendation",
          "process": "4-recommendation",
          "t": 6,
          "user": "G3"
         },
         {
          "component": "group-comparison",
          "process": "2-search-with-context",
          "t": 6,
          "user": "M2"
         },
         {
          "component": "group-comparison",
          "process": "2-search-with-context",
          "t": 6,
          "user": "M3"
         },
         {
          "component": "flexible-matching",
          "process": "1-top-down-querying",
          "t": 7,
          "user": "A3"
         },
         {
          "component": "result-querying",
          "process": "3-bottom-up-querying",
          "t": 7,
          "user": "G1"
         },
         {
          "component": "result-querying",
          "process": "3-bottom-up-querying",
          "t": 8,
          "user": "A1"
         },
         {
          "component": "flexible-matching",
          "process": "1-top-down-querying",
          "t": 8,
          "user": "G3"
         },
         {
          "component": "range-selection",
          "process": "1-top-down-querying",
          "t": 8,
          "user": "M1"
         },
         {
          "component": "group-comparison",
          "process": "2-search-with-context",
          "t": 8,
          "user": "M2"
         },
         {
          "component": "control",
          "process": "others",
          "t": 8,
          "user": "M3"
         },
         {
          "component": "filter-selection",
          "process": "2-search-with-context",
          "t": 9,
          "user": "A2"
         },
         {
          "component": "range-selection",
          "process": "1-top-down-querying",
          "t": 9,
          "user": "A3"
         },
         {
          "component": "recommendation",
          "process": "4-recommendation",
          "t": 9,
          "user": "G3"
         },
         {
          "component": "control",
          "process": "others",
          "t": 9,
          "user": "M1"
         },
         {
          "component": "filter-selection",
          "process": "2-search-with-context",
          "t": 10,
          "user": "A1"
         },
         {
          "component": "flexible-matching",
          "process": "1-top-down-querying",
          "t": 10,
          "user": "A3"
         },
         {
          "component": "result-querying",
          "process": "3-bottom-up-querying",
          "t": 10,
          "user": "G2"
         },
         {
          "component": "recommendation",
          "process": "4-recommendation",
          "t": 10,
          "user": "G3"
         },
         {
          "component": "result-querying",
          "process": "3-bottom-up-querying",
          "t": 10,
          "user": "M3"
         },
         {
          "component": "result-querying",
          "process": "3-bottom-up-querying",
          "t": 11,
          "user": "G1"
         },
         {
          "component": "recommendation",
          "process": "4-recommendation",
          "t": 11,
          "user": "M1"
         },
         {
          "component": "group-comparison",
          "process": "2-search-with-context",
          "t": 11,
          "user": "M3"
         },
         {
          "component": "control",
          "process": "others",
          "t": 12,
          "user": "A2"
         },
         {
          "component": "flexible-matching",
          "process": "1-top-down-querying",
          "t": 12,
          "user": "A3"
         },
         {
          "component": "control",
          "process": "others",
          "t": 12,
          "user": "G1"
         },
         {
          "component": "filter-selection",
          "process": "2-search-with-context",
          "t": 12,
          "user": "G2"
         },
         {
          "component": "result-querying",
          "process": "3-bottom-up-querying",
          "t": 12,
          "user": "G3"
         },
         {
          "component": "filter-selection",
          "process": "2-search-with-context",
          "t": 13,
          "user": "A2"
         },
         {
          "component": "range-selection",
          "process": "1-top-down-querying",
          "t": 13,
          "user": "G1"
         },
         {
          "component": "flexible-matching",
          "process": "1-top-down-querying",
          "t": 13,
          "user": "M3"
         },
         {
          "component": "control",
          "process": "others",
          "t": 14,
          "user": "G1"
         },
         {
          "component": "group-comparison",
          "process": "2-search-with-context",
          "t": 14,
          "user": "M1"
         },
         {
          "component": "group-comparison",
          "process": "2-search-with-context",
          "t": 14,
          "user": "M2"
         },
         {
          "component": "filter-selection",
          "process": "2-search-with-context",
          "t": 15,
          "user": "A3"
         },
         {
          "component": "control",
          "process": "others",
          "t": 15,
          "user": "G2"
         },
         {
          "component": "control",
          "process": "others",
          "t": 15,
          "user": "G3"
         },
         {
          "component": "result-querying",
          "process": "3-bottom-up-querying",
          "t": 15,
          "user": "M3"
         },
         {
          "component": "filter-selection",
          "process": "2-search-with-context",
          "t": 16,
          "user": "A2"
         },
         {
          "component": "recommendation",
          "process": "4-recommendation",
          "t": 16,
          "user": "G1"
         },
         {
          "component": "exact-specification",
          "process": "1-top-down-querying",
          "t": 16,
          "user": "M2"
         },
         {
          "component": "control",
          "process": "others",
          "t": 17,
          "user": "A1"
         },
         {
          "component": "recommendation",
          "process": "4-recommendation",
          "t": 17,
          "user": "G3"
         },
         {
          "component": "filter-selection",
          "process": "2-search-with-context",
          "t": 18,
          "user": "A3"
         },
         {
          "component": "exact-specification",
          "process": "1-top-down-querying",
          "t": 18,
          "user": "G2"
         },
         {
          "component": "filter-selection",
          "process": "2-search-with-context",
          "t": 18,
          "user": "M1"
         },
         {
          "component": "exact-specification",
          "process": "1-top-down-querying",
          "t": 18,
          "user": "M2"
         },
         {
          "component": "control",
          "process": "others",
          "t": 18,
          "user": "M3"
         },
         {
          "component": "control",
          "process": "others",
          "t": 19,
          "user": "A2"
         },
         {
          "component": "result-querying",
          "process": "3-bottom-up-querying",
          "t": 19,
          "user": "G1"
         },
         {
          "component": "approx-shape-specification",
          "process": "1-top-down-querying",
          "t": 19,
          "user": "G3"
         },
         {
          "component": "exact-specification",
          "process": "1-top-down-querying",
          "t": 19,
          "user": "M1"
         },
         {
          "component": "exact-specification",
          "process": "1-top-down-querying",
          "t": 19,
          "user": "M3"
         },
         {
          "component": "control",
          "process": "others",
          "t": 20,
          "user": "A2"
         },
         {
          "component": "result-querying",
          "process": "3-bottom-up-querying",
          "t": 20,
          "user": "G1"
         },
         {
          "component": "control",
          "process": "others",
          "t": 20,
          "user": "M1"
         },
         {
          "component": "control",
          "process": "others",
          "t": 20,
          "user": "M2"
         },
         {
          "component": "exact-specification",
          "process": "1-top-down-querying",
          "t": 20,
          "user": "M3"
         },
         {
          "component": "result-querying",
          "process": "3-bottom-up-querying",
          "t": 21,
          "user": "A1"
         },
         {
          "component": "filter-selection",
          "process": "2-search-with-context",
          "t": 21,
          "user": "A2"
         },
         {
          "component": "control",
          "process": "others",
          "t": 21,
          "user": "A3"
         },
         {
          "component": "approx-shape-specification",
          "process": "1-top-down-querying",
          "t": 21,
          "user": "G2"
         },
         {
          "component": "exact-specification",
          "process": "1-top-down-querying",
          "t": 21,
          "user": "M2"
         },
         {
          "component": "recommendation",
          "process": "4-recommendation",
          "t": 22,
          "user": "G1"
         },
         {
          "component": "exact-specification",
          "process": "1-top-down-querying",
          "t": 22,
          "user": "G2"
         },
         {
          "component": "filter-selection",
          "process": "2-search-with-context",
          "t": 22,
          "user": "M1"
         },
         {
          "component": "result-querying",
          "process": "3-bottom-up-querying",
          "t": 22,
          "user": "M2"
         },
         {
          "component": "filter-selection",
          "process": "2-search-with-context",
          "t": 23,
          "user": "A1"
         },
         {
          "component": "control",
          "process": "others",
          "t": 23,
          "user": "A2"
         },
         {
          "component": "filter-selection",
          "process": "2-search-with-context",
          "t": 23,
          "user": "A3"
         },
         {
          "component": "filter-selection",
          "process": "2-search-with-context",
          "t": 23,
          "user": "G2"
         },
         {
          "component": "filter-selection",
          "process": "2-search-with-context",
          "t": 23,
          "user": "M1"
         },
         {
          "component": "exact-specification",
          "process": "1-top-down-querying",
          "t": 23,
          "user": "M2"
         },
         {
          "component": "result-querying",
          "process": "3-bottom-up-querying",
          "t": 23,
          "user": "M3"
         },
         {
          "component": "filter-selection",
          "process": "2-search-with-context",
          "t": 24,
          "user": "M1"
         },
         {
          "component": "filter-selection",
          "process": "2-search-with-context",
          "t": 25,
          "user": "A1"
         },
         {
          "component": "filter-selection",
          "process": "2-search-with-context",
          "t": 25,
          "user": "G2"
         },
         {
          "component": "control",
          "process": "others",
          "t": 26,
          "user": "A3"
         },
         {
          "component": "result-querying",
          "process": "3-bottom-up-querying",
          "t": 26,
          "user": "M2"
         },
         {
          "component": "filter-selection",
          "process": "2-search-with-context",
          "t": 27,
          "user": "G2"
         },
         {
          "component": "exact-specification",
          "process": "1-top-down-querying",
          "t": 27,
          "user": "M2"
         },
         {
          "component": "group-comparison",
          "process": "2-search-with-context",
          "t": 28,
          "user": "A2"
         },
         {
          "component": "control",
          "process": "others",
          "t": 28,
          "user": "M3"
         },
         {
          "component": "exact-specification",
          "process": "1-top-down-querying",
          "t": 29,
          "user": "A3"
         },
         {
          "component": "filter-selection",
          "process": "2-search-with-context",
          "t": 29,
          "user": "G2"
         },
         {
          "component": "range-selection",
          "process": "1-top-down-querying",
          "t": 30,
          "user": "A1"
         },
         {
          "component": "control",
          "process": "others",
          "t": 31,
          "user": "A2"
         },
         {
          "component": "control",
          "process": "others",
          "t": 31,
          "user": "A3"
         },
         {
          "component": "recommendation",
          "process": "4-recommendation",
          "t": 31,
          "user": "G2"
         },
         {
          "component": "approx-shape-specification",
          "process": "1-top-down-querying",
          "t": 32,
          "user": "A2"
         },
         {
          "component": "group-comparison",
          "process": "2-search-with-context",
          "t": 32,
          "user": "M2"
         },
         {
          "component": "approx-shape-specification",
          "process": "1-top-down-querying",
          "t": 33,
          "user": "G2"
         },
         {
          "component": "approx-shape-specification",
          "process": "1-top-down-querying",
          "t": 34,
          "user": "G2"
         },
         {
          "component": "recommendation",
          "process": "4-recommendation",
          "t": 35,
          "user": "M2"
         },
         {
          "component": "concept-query",
          "process": "3-bottom-up-querying",
          "t": 36,
          "user": "G2"
         },
         {
          "component": "filter-selection",
          "process": "2-search-with-context",
          "t": 36,
          "user": "M2"
         },
         {
          "component": "filter-selection",
          "process": "2-search-with-context",
          "t": 37,
          "user": "A1"
         },
         {
          "component": "filter-selection",
          "process": "2-search-with-context",
          "t": 38,
          "user": "A1"
         },
         {
          "component": "result-querying",
          "process": "3-bottom-up-querying",
          "t": 38,
          "user": "A2"
         },
         {
          "component": "control",
          "process": "others",
          "t": 38,
          "user": "M2"
         },
         {
          "component": "filter-selection",
          "process": "2-search-with-context",
          "t": 39,
          "user": "G2"
         },
         {
          "component": "approx-shape-specification",
          "process": "1-top-down-querying",
          "t": 40,
          "user": "A1"
         },
         {
          "component": "range-selection",
          "process": "1-top-down-querying",
          "t": 40,
          "user": "A2"
         },
         {
          "component": "result-querying",
          "process": "3-bottom-up-querying",
          "t": 40,
          "user": "G2"
         },
         {
          "component": "exact-specification",
          "process": "1-top-down-querying",
          "t": 41,
          "user": "A1"
         },
         {
          "component": "exact-specification",
          "process": "1-top-down-querying",
          "t": 42,
          "user": "A1"
         },
         {
          "component": "filter-selection",
          "process": "2-search-with-context",
          "t": 43,
          "user": "A1"
         },
         {
          "component": "control",
          "process": "others",
          "t": 43,
          "user": "G2"
         },
         {
          "component": "recommendation",
          "process": "4-recommendation",
          "t": 44,
          "user": "G2"
         },
         {
          "component": "control",
          "process": "others",
          "t": 46,
          "user": "G2"
         },
         {
          "component": "range-selection",
          "process": "1-top-down-querying",
          "t": 48,
          "user": "G2"
         },
         {
          "component": "control",
          "process": "others",
          "t": 50,
          "user": "G2"
         },
         {
          "component": "group-comparison",
          "process": "2-search-with-context",
          "t": 51,
          "user": "A1"
         },
         {
          "component": "approx-shape-specification",
          "process": "1-top-down-querying",
          "t": 51,
          "user": "G2"
         },
         {
          "component": "group-comparison",
          "process": "2-search-with-context",
          "t": 52,
          "user": "A1"
         },
         {
          "component": "recommendation",
          "process": "4-recommendation",
          "t": 52,
          "user": "G2"
         },
         {
          "component": "recommendation",
          "process": "4-recommendation",
          "t": 53,
          "user": "G2"
         },
         {
          "component": "group-comparison",
          "process": "2-search-with-context",
          "t": 54,
          "user": "A1"
         },
         {
          "component": "filter-selection",
          "process": "2-search-with-context",
          "t": 56,
          "user": "A1"
         },
         {
          "component": "concept-query",
          "process": "3-bottom-up-querying",
          "t": 59,
          "user": "A1"
         },
         {
          "component": "control",
          "process": "others",
          "t": 60,
          "user": "A1"
         },
         {
          "component": "group-comparison",
          "process": "2-search-with-context",
          "t": 62,
          "user": "A1"
         },
         {
          "component": "filter-selection",
          "process": "2-search-with-context",
          "t": 64,
          "user": "A1"
         },
         {
          "component": "concept-query",
          "process": "3-bottom-up-querying",
          "t": 67,
          "user": "A1"
         },
         {
          "component": "control",
          "process": "others",
          "t": 68,
          "user": "A1"
         }
        ]
       },
       "layer": [
        {
         "data": {
          "name": "data-e1689d1d6a0395ce82c30ca460e7a121"
         },
         "encoding": {
          "color": {
           "field": "process",
           "type": "nominal"
          },
          "x": {
           "field": "t",
           "type": "quantitative"
          },
          "y": {
           "field": "user",
           "type": "nominal"
          }
         },
         "mark": "circle"
        },
        {
         "data": {
          "name": "data-3753f56211dc9cc30cbe920b34724612"
         },
         "encoding": {
          "x": {
           "field": "t",
           "type": "quantitative"
          },
          "y": {
           "field": "user",
           "type": "nominal"
          }
         },
         "mark": {
          "color": "black",
          "thickness": 2,
          "type": "tick"
         }
        },
        {
         "data": {
          "name": "data-bd6311c2f5841ccc3c094e78a1fa8e60"
         },
         "encoding": {
          "shape": {
           "field": "action",
           "type": "nominal"
          },
          "x": {
           "field": "t",
           "title": "Timepoint",
           "type": "quantitative"
          },
          "y": {
           "field": "user",
           "title": "Participant",
           "type": "nominal"
          }
         },
         "mark": {
          "color": "red",
          "shape": "diamond",
          "type": "point"
         }
        }
       ],
       "title": "Evaluation Study Event Timeline Breakdown by Process"
      },
      "image/png": "[encoded data removed]",
      "text/plain": [
       "<VegaLite 2 object>\n",
       "\n",
       "If you see this message, it means the renderer has not been properly enabled\n",
       "for the frontend that you are using. For more information, see\n",
       "https://altair-viz.github.io/user_guide/troubleshooting.html\n"
      ]
     },
     "execution_count": 107,
     "metadata": {},
     "output_type": "execute_result"
    }
   ],
   "source": [
    "chart = process_chart+ break_chart + insight_chart\n",
    "chart.title=\"Evaluation Study Event Timeline Breakdown by Process\"\n",
    "chart"
   ]
  },
  {
   "cell_type": "markdown",
   "metadata": {},
   "source": [
    "- Top-down querying alone does not lead to insights. We see a lot of sessions where people try top-down querying then give up without discovering an insight. Even when there is top-down querying performed sucessfully, it is often because it was associated with a search with context, or used for sketch modification on a drag-and-dropped visualization."
   ]
  },
  {
   "cell_type": "markdown",
   "metadata": {},
   "source": [
    "# Statistics"
   ]
  },
  {
   "cell_type": "code",
   "execution_count": 113,
   "metadata": {},
   "outputs": [
    {
     "name": "stdout",
     "output_type": "stream",
     "text": [
      "Total number of sessions: 47\n"
     ]
    }
   ],
   "source": [
    "print (\"Total number of sessions:\", len(df[df[\"action\"]==\"BR\"]))"
   ]
  },
  {
   "cell_type": "code",
   "execution_count": 125,
   "metadata": {},
   "outputs": [],
   "source": [
    "df = pd.read_csv(\"StudyEventTimeSeries.csv\")"
   ]
  },
  {
   "cell_type": "code",
   "execution_count": 139,
   "metadata": {},
   "outputs": [
    {
     "name": "stderr",
     "output_type": "stream",
     "text": [
      "/Users/dorislee/.virtualenvs/py37env/lib/python3.7/site-packages/ipykernel_launcher.py:2: FutureWarning: Method .as_matrix will be removed in a future version. Use .values instead.\n",
      "  \n"
     ]
    }
   ],
   "source": [
    "sessions=[]\n",
    "for row in df.as_matrix().T: \n",
    "    session=[]\n",
    "    for action in row:\n",
    "        if action != np.NaN:\n",
    "            if action==\"BR\":\n",
    "                sessions.append(session)\n",
    "                session=[]\n",
    "            else:\n",
    "                session.append(action)\n",
    "    sessions.append(session)"
   ]
  },
  {
   "cell_type": "code",
   "execution_count": 140,
   "metadata": {},
   "outputs": [
    {
     "data": {
      "text/plain": [
       "[['filter', 'filter', 'filter', 'filter'],\n",
       " ['IS',\n",
       "  'E',\n",
       "  'E',\n",
       "  'drag-and-drop',\n",
       "  'ID',\n",
       "  'filter',\n",
       "  'E',\n",
       "  'IS',\n",
       "  'PS',\n",
       "  'E',\n",
       "  'PS',\n",
       "  'PD',\n",
       "  'reverse-y',\n",
       "  'E',\n",
       "  'PS'],\n",
       " ['drag-and-drop', 'C', 'filter'],\n",
       " ['filter', 'PS', 'E', 'E', 'PS', 'brush-xrange', 'W', 'ID', 'W', 'W', 'ID'],\n",
       " ['filter', 'filter'],\n",
       " ['smoothing',\n",
       "  'sketch-to-query',\n",
       "  'sketch-to-query',\n",
       "  'filter',\n",
       "  'E',\n",
       "  'PS',\n",
       "  'W',\n",
       "  'W',\n",
       "  'W',\n",
       "  'IS'],\n",
       " ['dynamic-class', 'dynamic-class', 'W', 'dynamic-class'],\n",
       " ['filter', 'E', 'ID', 'pattern-upload', 'export', 'W', 'dynamic-class'],\n",
       " ['filter', 'E', 'ID', 'pattern-upload', 'export', 'W'],\n",
       " [],\n",
       " ['filter', 'E', 'E', 'drag-and-drop', 'W', 'ID', 'E', 'ID'],\n",
       " ['filter',\n",
       "  'E',\n",
       "  'PD',\n",
       "  'export',\n",
       "  'filter',\n",
       "  'E',\n",
       "  'PD',\n",
       "  'filter',\n",
       "  'E',\n",
       "  'PD',\n",
       "  'export',\n",
       "  'export',\n",
       "  'filter',\n",
       "  'E',\n",
       "  'export'],\n",
       " ['PS',\n",
       "  'E',\n",
       "  'E',\n",
       "  'dynamic-class',\n",
       "  'W',\n",
       "  'E',\n",
       "  'change-axis',\n",
       "  'ignore-xrange',\n",
       "  'IS',\n",
       "  'PD'],\n",
       " ['W', 'PS', 'drag-and-drop', 'W', 'brush-xrange', 'PS'],\n",
       " [nan,\n",
       "  nan,\n",
       "  nan,\n",
       "  nan,\n",
       "  nan,\n",
       "  nan,\n",
       "  nan,\n",
       "  nan,\n",
       "  nan,\n",
       "  nan,\n",
       "  nan,\n",
       "  nan,\n",
       "  nan,\n",
       "  nan,\n",
       "  nan,\n",
       "  nan,\n",
       "  nan,\n",
       "  nan,\n",
       "  nan,\n",
       "  nan,\n",
       "  nan,\n",
       "  nan,\n",
       "  nan,\n",
       "  nan,\n",
       "  nan,\n",
       "  nan,\n",
       "  nan,\n",
       "  nan],\n",
       " ['drag-and-drop', 'drag-and-drop', 'sketch-to-modify', 'ignore-xrange'],\n",
       " ['drag-and-drop',\n",
       "  'ignore-xrange',\n",
       "  'change-metric',\n",
       "  'C',\n",
       "  'brush-xrange',\n",
       "  'change-metric',\n",
       "  'ID',\n",
       "  'change-metric',\n",
       "  'W'],\n",
       " ['filter', 'W', 'W', 'filter', 'ID'],\n",
       " ['change-axis', 'ID', 'filter', 'W'],\n",
       " ['change-axis', 'PS'],\n",
       " ['input-equation'],\n",
       " ['export', 'W'],\n",
       " [nan,\n",
       "  nan,\n",
       "  nan,\n",
       "  nan,\n",
       "  nan,\n",
       "  nan,\n",
       "  nan,\n",
       "  nan,\n",
       "  nan,\n",
       "  nan,\n",
       "  nan,\n",
       "  nan,\n",
       "  nan,\n",
       "  nan,\n",
       "  nan,\n",
       "  nan,\n",
       "  nan,\n",
       "  nan,\n",
       "  nan,\n",
       "  nan,\n",
       "  nan,\n",
       "  nan,\n",
       "  nan,\n",
       "  nan,\n",
       "  nan,\n",
       "  nan,\n",
       "  nan,\n",
       "  nan,\n",
       "  nan,\n",
       "  nan,\n",
       "  nan,\n",
       "  nan,\n",
       "  nan,\n",
       "  nan,\n",
       "  nan,\n",
       "  nan,\n",
       "  nan],\n",
       " ['representative-outlier',\n",
       "  'control-kmeans-clustersize',\n",
       "  'representative-outlier',\n",
       "  'control-kmeans-clustersize',\n",
       "  'W',\n",
       "  'IS'],\n",
       " ['drag-and-drop', 'IS', 'W'],\n",
       " ['drag-and-drop', 'min-similarity-cutoff', 'brush-xrange', 'export'],\n",
       " ['control-kmeans-clustersize',\n",
       "  'C',\n",
       "  'W',\n",
       "  'drag-and-drop',\n",
       "  'drag-and-drop',\n",
       "  'ID',\n",
       "  'control-kmeans-clustersize',\n",
       "  'C',\n",
       "  'W',\n",
       "  'PS',\n",
       "  'W'],\n",
       " [nan,\n",
       "  nan,\n",
       "  nan,\n",
       "  nan,\n",
       "  nan,\n",
       "  nan,\n",
       "  nan,\n",
       "  nan,\n",
       "  nan,\n",
       "  nan,\n",
       "  nan,\n",
       "  nan,\n",
       "  nan,\n",
       "  nan,\n",
       "  nan,\n",
       "  nan,\n",
       "  nan,\n",
       "  nan,\n",
       "  nan,\n",
       "  nan,\n",
       "  nan,\n",
       "  nan,\n",
       "  nan,\n",
       "  nan,\n",
       "  nan,\n",
       "  nan,\n",
       "  nan,\n",
       "  nan,\n",
       "  nan,\n",
       "  nan,\n",
       "  nan,\n",
       "  nan,\n",
       "  nan,\n",
       "  nan,\n",
       "  nan,\n",
       "  nan,\n",
       "  nan,\n",
       "  nan,\n",
       "  nan,\n",
       "  nan,\n",
       "  nan,\n",
       "  nan,\n",
       "  nan],\n",
       " ['representative-outlier', 'IS'],\n",
       " ['representative-outlier',\n",
       "  'control-kmeans-clustersize',\n",
       "  'representative-outlier',\n",
       "  'filter',\n",
       "  'C'],\n",
       " ['W', 'drag-and-drop', 'W', 'filter', 'PS'],\n",
       " ['show-scatter', 'ID'],\n",
       " ['sketch-to-query',\n",
       "  'ID',\n",
       "  'W',\n",
       "  'ignore-xrange',\n",
       "  'sketch-to-query',\n",
       "  'filter',\n",
       "  'IS',\n",
       "  'filter'],\n",
       " ['filter', 'PS', 'filter', 'W', 'representative-outlier'],\n",
       " ['smoothing', 'smoothing'],\n",
       " ['pattern-upload',\n",
       "  'PD',\n",
       "  'E',\n",
       "  'filter',\n",
       "  'drag-and-drop',\n",
       "  'IS',\n",
       "  'W',\n",
       "  'export',\n",
       "  'representative-outlier',\n",
       "  'ID',\n",
       "  'export'],\n",
       " ['brush-xrange',\n",
       "  'PS',\n",
       "  'upload-dataset',\n",
       "  'smoothing',\n",
       "  'control-kmeans-clustersize',\n",
       "  'representative-outlier',\n",
       "  'ID',\n",
       "  'ID',\n",
       "  'PS'],\n",
       " [nan, nan, nan, nan, nan, nan, nan, nan, nan, nan, nan, nan, nan],\n",
       " ['ID', 'C', 'W', 'show-scatter', 'upload-dataset'],\n",
       " ['representative-outlier',\n",
       "  'W',\n",
       "  'change-metric',\n",
       "  'control-kmeans-clustersize',\n",
       "  'representative-outlier',\n",
       "  'ID',\n",
       "  'drag-and-drop',\n",
       "  'IS'],\n",
       " ['export'],\n",
       " ['representative-outlier', 'IS', 'ignore-xrange', 'IS'],\n",
       " [nan,\n",
       "  nan,\n",
       "  nan,\n",
       "  nan,\n",
       "  nan,\n",
       "  nan,\n",
       "  nan,\n",
       "  nan,\n",
       "  nan,\n",
       "  nan,\n",
       "  nan,\n",
       "  nan,\n",
       "  nan,\n",
       "  nan,\n",
       "  nan,\n",
       "  nan,\n",
       "  nan,\n",
       "  nan,\n",
       "  nan,\n",
       "  nan,\n",
       "  nan,\n",
       "  nan,\n",
       "  nan,\n",
       "  nan,\n",
       "  nan,\n",
       "  nan,\n",
       "  nan,\n",
       "  nan,\n",
       "  nan,\n",
       "  nan,\n",
       "  nan,\n",
       "  nan,\n",
       "  nan,\n",
       "  nan,\n",
       "  nan,\n",
       "  nan,\n",
       "  nan,\n",
       "  nan,\n",
       "  nan,\n",
       "  nan,\n",
       "  nan,\n",
       "  nan,\n",
       "  nan,\n",
       "  nan,\n",
       "  nan,\n",
       "  nan,\n",
       "  nan,\n",
       "  nan,\n",
       "  nan],\n",
       " ['PD',\n",
       "  'sketch-to-query',\n",
       "  'ignore-xrange',\n",
       "  'C',\n",
       "  'change-axis',\n",
       "  'W',\n",
       "  'W',\n",
       "  'W',\n",
       "  'brush-xrange',\n",
       "  'change-axis',\n",
       "  'IS',\n",
       "  'representative-outlier',\n",
       "  'W',\n",
       "  'PS',\n",
       "  'dynamic-class',\n",
       "  'PD',\n",
       "  'IS'],\n",
       " ['filter',\n",
       "  'sketch-to-query',\n",
       "  'show-scatter',\n",
       "  'W',\n",
       "  'filter',\n",
       "  'filter',\n",
       "  'filter',\n",
       "  'ID'],\n",
       " ['W',\n",
       "  'E',\n",
       "  'E',\n",
       "  'W',\n",
       "  'E',\n",
       "  nan,\n",
       "  nan,\n",
       "  nan,\n",
       "  nan,\n",
       "  nan,\n",
       "  nan,\n",
       "  nan,\n",
       "  nan,\n",
       "  nan,\n",
       "  nan,\n",
       "  nan,\n",
       "  nan,\n",
       "  nan,\n",
       "  nan,\n",
       "  nan,\n",
       "  nan,\n",
       "  nan,\n",
       "  nan,\n",
       "  nan,\n",
       "  nan,\n",
       "  nan,\n",
       "  nan,\n",
       "  nan,\n",
       "  nan,\n",
       "  nan,\n",
       "  nan,\n",
       "  nan,\n",
       "  nan,\n",
       "  nan,\n",
       "  nan,\n",
       "  nan,\n",
       "  nan,\n",
       "  nan,\n",
       "  nan,\n",
       "  nan,\n",
       "  nan,\n",
       "  nan,\n",
       "  nan,\n",
       "  nan],\n",
       " ['show-scatter',\n",
       "  'change-axis',\n",
       "  'PS',\n",
       "  'dynamic-class',\n",
       "  'dynamic-class',\n",
       "  'dynamic-class',\n",
       "  'dynamic-class',\n",
       "  'PS',\n",
       "  'dynamic-class',\n",
       "  'IS',\n",
       "  'IS',\n",
       "  'C'],\n",
       " ['W', 'dynamic-class', 'IS', 'sketch-to-query', 'C', 'sketch-to-modify'],\n",
       " ['change-axis',\n",
       "  'sketch-to-modify',\n",
       "  'drag-and-drop',\n",
       "  'sketch-to-modify',\n",
       "  'ID',\n",
       "  'C',\n",
       "  'drag-and-drop',\n",
       "  'sketch-to-modify',\n",
       "  'IS',\n",
       "  'C',\n",
       "  'C'],\n",
       " ['dynamic-class',\n",
       "  'IS',\n",
       "  'IS',\n",
       "  'representative-outlier',\n",
       "  'filter',\n",
       "  'IS',\n",
       "  'change-axis',\n",
       "  'ID'],\n",
       " [nan,\n",
       "  nan,\n",
       "  nan,\n",
       "  nan,\n",
       "  nan,\n",
       "  nan,\n",
       "  nan,\n",
       "  nan,\n",
       "  nan,\n",
       "  nan,\n",
       "  nan,\n",
       "  nan,\n",
       "  nan,\n",
       "  nan,\n",
       "  nan,\n",
       "  nan,\n",
       "  nan,\n",
       "  nan,\n",
       "  nan,\n",
       "  nan,\n",
       "  nan,\n",
       "  nan,\n",
       "  nan,\n",
       "  nan,\n",
       "  nan,\n",
       "  nan,\n",
       "  nan,\n",
       "  nan,\n",
       "  nan,\n",
       "  nan],\n",
       " ['dynamic-class',\n",
       "  'ID',\n",
       "  'show-scatter',\n",
       "  'IS',\n",
       "  'dynamic-class',\n",
       "  'PS',\n",
       "  'dynamic-class',\n",
       "  'ID',\n",
       "  'change-axis',\n",
       "  'IS',\n",
       "  'drag-and-drop',\n",
       "  'dynamic-class',\n",
       "  'IS',\n",
       "  'change-metric',\n",
       "  'C',\n",
       "  'drag-and-drop',\n",
       "  'IS'],\n",
       " ['change-axis', 'sketch-to-modify', 'sketch-to-modify'],\n",
       " ['PS', 'drag-and-drop', 'ID', 'W', 'IS'],\n",
       " ['change-axis', 'W', 'W'],\n",
       " [nan,\n",
       "  nan,\n",
       "  nan,\n",
       "  nan,\n",
       "  nan,\n",
       "  nan,\n",
       "  nan,\n",
       "  nan,\n",
       "  nan,\n",
       "  nan,\n",
       "  nan,\n",
       "  nan,\n",
       "  nan,\n",
       "  nan,\n",
       "  nan,\n",
       "  nan,\n",
       "  nan,\n",
       "  nan,\n",
       "  nan,\n",
       "  nan,\n",
       "  nan,\n",
       "  nan,\n",
       "  nan,\n",
       "  nan,\n",
       "  nan,\n",
       "  nan,\n",
       "  nan,\n",
       "  nan,\n",
       "  nan,\n",
       "  nan,\n",
       "  nan,\n",
       "  nan,\n",
       "  nan,\n",
       "  nan,\n",
       "  nan,\n",
       "  nan,\n",
       "  nan,\n",
       "  nan,\n",
       "  nan]]"
      ]
     },
     "execution_count": 140,
     "metadata": {},
     "output_type": "execute_result"
    }
   ],
   "source": [
    "sessions"
   ]
  },
  {
   "cell_type": "code",
   "execution_count": 133,
   "metadata": {},
   "outputs": [
    {
     "data": {
      "text/plain": [
       "'Number of sessions with at least one insight:'"
      ]
     },
     "execution_count": 133,
     "metadata": {},
     "output_type": "execute_result"
    }
   ],
   "source": [
    "\"Number of sessions with at least one insight:\""
   ]
  },
  {
   "cell_type": "code",
   "execution_count": null,
   "metadata": {},
   "outputs": [],
   "source": []
  }
 ],
 "metadata": {
  "kernelspec": {
   "display_name": "Python 3",
   "language": "python",
   "name": "python3"
  },
  "language_info": {
   "codemirror_mode": {
    "name": "ipython",
    "version": 3
   },
   "file_extension": ".py",
   "mimetype": "text/x-python",
   "name": "python",
   "nbconvert_exporter": "python",
   "pygments_lexer": "ipython3",
   "version": "3.7.0"
  }
 },
 "nbformat": 4,
 "nbformat_minor": 2
}
