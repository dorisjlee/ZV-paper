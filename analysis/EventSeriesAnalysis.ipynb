{
 "cells": [
  {
   "cell_type": "code",
   "execution_count": 1,
   "metadata": {
    "collapsed": true
   },
   "outputs": [],
   "source": [
    "import pandas as pd\n",
    "import numpy as np\n",
    "import altair as alt\n",
    "df = pd.read_csv(\"StudyEventTimeSeries.csv\")"
   ]
  },
  {
   "cell_type": "code",
   "execution_count": 2,
   "metadata": {},
   "outputs": [
    {
     "name": "stderr",
     "output_type": "stream",
     "text": [
      "/Users/dorislee/.virtualenvs/py37env/lib/python3.7/site-packages/ipykernel_launcher.py:1: FutureWarning: Method .as_matrix will be removed in a future version. Use .values instead.\n",
      "  \"\"\"Entry point for launching an IPython kernel.\n"
     ]
    }
   ],
   "source": [
    "codelist = list(set(df.as_matrix().flatten()))\n",
    "codelist.remove(np.nan)\n",
    "\n",
    "actionOnly= list(filter(lambda x: x.isupper(),codelist))\n",
    "featureOnly= list(filter(lambda x: x.islower(),codelist))"
   ]
  },
  {
   "cell_type": "code",
   "execution_count": 3,
   "metadata": {
    "collapsed": false
   },
   "outputs": [],
   "source": [
    "# df[\"t\"]=df.index"
   ]
  },
  {
   "cell_type": "code",
   "execution_count": 4,
   "metadata": {},
   "outputs": [],
   "source": [
    "df = df.stack().reset_index()\n",
    "\n",
    "df = df.rename(columns={\n",
    "    \"level_0\":\"t\",\n",
    "    \"level_1\":\"user\",\n",
    "    0:\"action\"\n",
    "})"
   ]
  },
  {
   "cell_type": "code",
   "execution_count": 5,
   "metadata": {},
   "outputs": [],
   "source": [
    "df_break = df[df.action.isin([\"BR\"])]\n",
    "break_chart = alt.Chart(df_break).mark_tick(thickness=2,color=\"black\").encode(        \n",
    "    y=\"user\",\n",
    "    x='t'\n",
    ")"
   ]
  },
  {
   "cell_type": "code",
   "execution_count": 6,
   "metadata": {},
   "outputs": [],
   "source": [
    "component_dict = {\n",
    "     'pattern-upload':'Pattern Specification',\n",
    "     'sketch-to-modify':'Pattern Specification',\n",
    "     'drag-and-drop':'Result Querying',\n",
    "     'change-metric':'Match Specification',\n",
    "     'filter':'Slice-and-Dice',\n",
    "     'brush-xrange':'Match Specification',\n",
    "     'min-similarity-cutoff':'Match Specification',\n",
    "     'smoothing':'Match Specification',\n",
    "     'ignore-xrange':'Match Specification',\n",
    "     'representative-outlier':'Recommendation',\n",
    "     'dynamic-class':'Slice-and-Dice',\n",
    "     'sketch-to-query':'Pattern Specification',\n",
    "     'reverse-y':'View Specification',\n",
    "     'input-equation':'Pattern Specification',\n",
    "     'upload-dataset':'Pattern Specification',\n",
    "     'show-scatter':'View Specification',\n",
    "     'export':'others',\n",
    "     'change-number-of-results':'Match Specification',\n",
    "     'control-kmeans-clustersize':'Recommendation',\n",
    "     'change-axis':'View Specification'\n",
    "}"
   ]
  },
  {
   "cell_type": "code",
   "execution_count": 7,
   "metadata": {},
   "outputs": [],
   "source": [
    "df_feature = df[df.action.isin(featureOnly)]\n",
    "#Remove Export\n",
    "df_feature = df_feature[df_feature[\"action\"]!=\"export\"]\n",
    "df_feature[\"Feature\"] = df_feature[\"action\"]\n",
    "df_component = df_feature\n",
    "df_component[\"action\"] = df_feature[\"action\"].replace(component_dict)\n",
    "df_component= df_component.rename(index=str,columns={\"action\":\"component\"})"
   ]
  },
  {
   "cell_type": "code",
   "execution_count": 8,
   "metadata": {},
   "outputs": [],
   "source": [
    "# df_component = df_component[df_component[\"component\"]!=\"control\"] #remove control in list of components"
   ]
  },
  {
   "cell_type": "code",
   "execution_count": 9,
   "metadata": {},
   "outputs": [],
   "source": [
    "component_chart = alt.Chart(df_component).mark_circle(opacity=1).encode(        \n",
    "    color=alt.Color('component',title=\"Component\"),\n",
    "    y=\"user\",\n",
    "    x='t'\n",
    ")"
   ]
  },
  {
   "cell_type": "code",
   "execution_count": 10,
   "metadata": {},
   "outputs": [],
   "source": [
    "sum_events = df.groupby(\"user\").count().reset_index()[[\"user\",\"t\"]]"
   ]
  },
  {
   "cell_type": "code",
   "execution_count": 11,
   "metadata": {},
   "outputs": [],
   "source": [
    "sum_events[\"t\"] = sum_events[\"t\"]-1"
   ]
  },
  {
   "cell_type": "code",
   "execution_count": 12,
   "metadata": {},
   "outputs": [],
   "source": [
    "guide = alt.Chart(sum_events).mark_bar(color=\"gray\",opacity=0.25,size=3).encode(        \n",
    "    y=\"user\",\n",
    "    x=alt.X('t',aggregate=\"sum\",title=\"Timepoint\")\n",
    ")"
   ]
  },
  {
   "cell_type": "code",
   "execution_count": 13,
   "metadata": {},
   "outputs": [
    {
     "name": "stderr",
     "output_type": "stream",
     "text": [
      "/Users/dorislee/.virtualenvs/py37env/lib/python3.7/site-packages/pandas/core/indexing.py:543: SettingWithCopyWarning: \n",
      "A value is trying to be set on a copy of a slice from a DataFrame.\n",
      "Try using .loc[row_indexer,col_indexer] = value instead\n",
      "\n",
      "See the caveats in the documentation: http://pandas.pydata.org/pandas-docs/stable/indexing.html#indexing-view-versus-copy\n",
      "  self.obj[item] = s\n"
     ]
    }
   ],
   "source": [
    "df_insight = df[df.action.isin([\"IS\",\"ID\"])]\n",
    "df_insight.loc[df_insight[\"action\"]==\"ID\",\"action\"]=\"data insight\"\n",
    "df_insight.loc[df_insight[\"action\"]==\"IS\",\"action\"]=\"scientific insight\"\n",
    "insight_chart = alt.Chart(df_insight).mark_point(shape=\"diamond\",color=\"red\").encode(        \n",
    "    alt.Y(\"user\",title=\"Participant\"),\n",
    "    alt.X(\"t\",title=\"Timepoint\"),\n",
    "    shape='action' #make no distinction between data and science insights\n",
    ")"
   ]
  },
  {
   "cell_type": "code",
   "execution_count": 14,
   "metadata": {},
   "outputs": [
    {
     "data": {
      "application/vnd.vegalite.v2+json": {
       "$schema": "https://vega.github.io/schema/vega-lite/v2.6.0.json",
       "config": {
        "view": {
         "height": 300,
         "width": 400
        }
       },
       "datasets": {
        "data-06beb8aad454cd04a9e4c8158c3c9aaa": [
         {
          "Feature": "filter",
          "component": "Slice-and-Dice",
          "t": 0,
          "user": "A1"
         },
         {
          "Feature": "filter",
          "component": "Slice-and-Dice",
          "t": 0,
          "user": "A2"
         },
         {
          "Feature": "drag-and-drop",
          "component": "Result Querying",
          "t": 0,
          "user": "A3"
         },
         {
          "Feature": "representative-outlier",
          "component": "Recommendation",
          "t": 0,
          "user": "G1"
         },
         {
          "Feature": "representative-outlier",
          "component": "Recommendation",
          "t": 0,
          "user": "G2"
         },
         {
          "Feature": "show-scatter",
          "component": "View Specification",
          "t": 0,
          "user": "M2"
         },
         {
          "Feature": "dynamic-class",
          "component": "Slice-and-Dice",
          "t": 0,
          "user": "M3"
         },
         {
          "Feature": "filter",
          "component": "Slice-and-Dice",
          "t": 1,
          "user": "A1"
         },
         {
          "Feature": "drag-and-drop",
          "component": "Result Querying",
          "t": 1,
          "user": "A3"
         },
         {
          "Feature": "control-kmeans-clustersize",
          "component": "Recommendation",
          "t": 1,
          "user": "G1"
         },
         {
          "Feature": "sketch-to-query",
          "component": "Pattern Specification",
          "t": 1,
          "user": "M1"
         },
         {
          "Feature": "change-axis",
          "component": "View Specification",
          "t": 1,
          "user": "M2"
         },
         {
          "Feature": "filter",
          "component": "Slice-and-Dice",
          "t": 2,
          "user": "A1"
         },
         {
          "Feature": "sketch-to-modify",
          "component": "Pattern Specification",
          "t": 2,
          "user": "A3"
         },
         {
          "Feature": "representative-outlier",
          "component": "Recommendation",
          "t": 2,
          "user": "G1"
         },
         {
          "Feature": "ignore-xrange",
          "component": "Match Specification",
          "t": 2,
          "user": "M1"
         },
         {
          "Feature": "show-scatter",
          "component": "View Specification",
          "t": 2,
          "user": "M3"
         },
         {
          "Feature": "filter",
          "component": "Slice-and-Dice",
          "t": 3,
          "user": "A1"
         },
         {
          "Feature": "representative-outlier",
          "component": "Recommendation",
          "t": 3,
          "user": "A2"
         },
         {
          "Feature": "ignore-xrange",
          "component": "Match Specification",
          "t": 3,
          "user": "A3"
         },
         {
          "Feature": "control-kmeans-clustersize",
          "component": "Recommendation",
          "t": 3,
          "user": "G1"
         },
         {
          "Feature": "representative-outlier",
          "component": "Recommendation",
          "t": 3,
          "user": "G2"
         },
         {
          "Feature": "show-scatter",
          "component": "View Specification",
          "t": 3,
          "user": "G3"
         },
         {
          "Feature": "dynamic-class",
          "component": "Slice-and-Dice",
          "t": 3,
          "user": "M2"
         },
         {
          "Feature": "drag-and-drop",
          "component": "Result Querying",
          "t": 4,
          "user": "A2"
         },
         {
          "Feature": "control-kmeans-clustersize",
          "component": "Recommendation",
          "t": 4,
          "user": "G2"
         },
         {
          "Feature": "upload-dataset",
          "component": "Pattern Specification",
          "t": 4,
          "user": "G3"
         },
         {
          "Feature": "change-axis",
          "component": "View Specification",
          "t": 4,
          "user": "M1"
         },
         {
          "Feature": "dynamic-class",
          "component": "Slice-and-Dice",
          "t": 4,
          "user": "M2"
         },
         {
          "Feature": "dynamic-class",
          "component": "Slice-and-Dice",
          "t": 4,
          "user": "M3"
         },
         {
          "Feature": "drag-and-drop",
          "component": "Result Querying",
          "t": 5,
          "user": "A3"
         },
         {
          "Feature": "representative-outlier",
          "component": "Recommendation",
          "t": 5,
          "user": "G2"
         },
         {
          "Feature": "dynamic-class",
          "component": "Slice-and-Dice",
          "t": 5,
          "user": "M2"
         },
         {
          "Feature": "ignore-xrange",
          "component": "Match Specification",
          "t": 6,
          "user": "A3"
         },
         {
          "Feature": "filter",
          "component": "Slice-and-Dice",
          "t": 6,
          "user": "G2"
         },
         {
          "Feature": "representative-outlier",
          "component": "Recommendation",
          "t": 6,
          "user": "G3"
         },
         {
          "Feature": "dynamic-class",
          "component": "Slice-and-Dice",
          "t": 6,
          "user": "M2"
         },
         {
          "Feature": "dynamic-class",
          "component": "Slice-and-Dice",
          "t": 6,
          "user": "M3"
         },
         {
          "Feature": "drag-and-drop",
          "component": "Result Querying",
          "t": 7,
          "user": "A1"
         },
         {
          "Feature": "change-metric",
          "component": "Match Specification",
          "t": 7,
          "user": "A3"
         },
         {
          "Feature": "drag-and-drop",
          "component": "Result Querying",
          "t": 7,
          "user": "G1"
         },
         {
          "Feature": "change-metric",
          "component": "Match Specification",
          "t": 8,
          "user": "G3"
         },
         {
          "Feature": "dynamic-class",
          "component": "Slice-and-Dice",
          "t": 8,
          "user": "M2"
         },
         {
          "Feature": "change-axis",
          "component": "View Specification",
          "t": 8,
          "user": "M3"
         },
         {
          "Feature": "filter",
          "component": "Slice-and-Dice",
          "t": 9,
          "user": "A1"
         },
         {
          "Feature": "brush-xrange",
          "component": "Match Specification",
          "t": 9,
          "user": "A3"
         },
         {
          "Feature": "control-kmeans-clustersize",
          "component": "Recommendation",
          "t": 9,
          "user": "G3"
         },
         {
          "Feature": "brush-xrange",
          "component": "Match Specification",
          "t": 9,
          "user": "M1"
         },
         {
          "Feature": "filter",
          "component": "Slice-and-Dice",
          "t": 10,
          "user": "A2"
         },
         {
          "Feature": "change-metric",
          "component": "Match Specification",
          "t": 10,
          "user": "A3"
         },
         {
          "Feature": "drag-and-drop",
          "component": "Result Querying",
          "t": 10,
          "user": "G2"
         },
         {
          "Feature": "representative-outlier",
          "component": "Recommendation",
          "t": 10,
          "user": "G3"
         },
         {
          "Feature": "change-axis",
          "component": "View Specification",
          "t": 10,
          "user": "M1"
         },
         {
          "Feature": "drag-and-drop",
          "component": "Result Querying",
          "t": 10,
          "user": "M3"
         },
         {
          "Feature": "drag-and-drop",
          "component": "Result Querying",
          "t": 11,
          "user": "G1"
         },
         {
          "Feature": "dynamic-class",
          "component": "Slice-and-Dice",
          "t": 11,
          "user": "M3"
         },
         {
          "Feature": "representative-outlier",
          "component": "Recommendation",
          "t": 12,
          "user": "A2"
         },
         {
          "Feature": "change-metric",
          "component": "Match Specification",
          "t": 12,
          "user": "A3"
         },
         {
          "Feature": "min-similarity-cutoff",
          "component": "Match Specification",
          "t": 12,
          "user": "G1"
         },
         {
          "Feature": "filter",
          "component": "Slice-and-Dice",
          "t": 12,
          "user": "G2"
         },
         {
          "Feature": "drag-and-drop",
          "component": "Result Querying",
          "t": 12,
          "user": "G3"
         },
         {
          "Feature": "representative-outlier",
          "component": "Recommendation",
          "t": 12,
          "user": "M1"
         },
         {
          "Feature": "drag-and-drop",
          "component": "Result Querying",
          "t": 13,
          "user": "A2"
         },
         {
          "Feature": "brush-xrange",
          "component": "Match Specification",
          "t": 13,
          "user": "G1"
         },
         {
          "Feature": "change-metric",
          "component": "Match Specification",
          "t": 13,
          "user": "M3"
         },
         {
          "Feature": "change-number-of-results",
          "component": "Match Specification",
          "t": 14,
          "user": "A2"
         },
         {
          "Feature": "dynamic-class",
          "component": "Slice-and-Dice",
          "t": 14,
          "user": "M2"
         },
         {
          "Feature": "filter",
          "component": "Slice-and-Dice",
          "t": 15,
          "user": "A3"
         },
         {
          "Feature": "show-scatter",
          "component": "View Specification",
          "t": 15,
          "user": "G2"
         },
         {
          "Feature": "dynamic-class",
          "component": "Slice-and-Dice",
          "t": 15,
          "user": "M1"
         },
         {
          "Feature": "drag-and-drop",
          "component": "Result Querying",
          "t": 15,
          "user": "M3"
         },
         {
          "Feature": "reverse-y",
          "component": "View Specification",
          "t": 16,
          "user": "A1"
         },
         {
          "Feature": "filter",
          "component": "Slice-and-Dice",
          "t": 16,
          "user": "A2"
         },
         {
          "Feature": "control-kmeans-clustersize",
          "component": "Recommendation",
          "t": 16,
          "user": "G1"
         },
         {
          "Feature": "representative-outlier",
          "component": "Recommendation",
          "t": 17,
          "user": "G3"
         },
         {
          "Feature": "sketch-to-query",
          "component": "Pattern Specification",
          "t": 17,
          "user": "M2"
         },
         {
          "Feature": "representative-outlier",
          "component": "Recommendation",
          "t": 18,
          "user": "A2"
         },
         {
          "Feature": "filter",
          "component": "Slice-and-Dice",
          "t": 18,
          "user": "A3"
         },
         {
          "Feature": "sketch-to-query",
          "component": "Pattern Specification",
          "t": 18,
          "user": "G2"
         },
         {
          "Feature": "change-axis",
          "component": "View Specification",
          "t": 18,
          "user": "M3"
         },
         {
          "Feature": "drag-and-drop",
          "component": "Result Querying",
          "t": 19,
          "user": "A2"
         },
         {
          "Feature": "drag-and-drop",
          "component": "Result Querying",
          "t": 19,
          "user": "G1"
         },
         {
          "Feature": "ignore-xrange",
          "component": "Match Specification",
          "t": 19,
          "user": "G3"
         },
         {
          "Feature": "filter",
          "component": "Slice-and-Dice",
          "t": 19,
          "user": "M1"
         },
         {
          "Feature": "sketch-to-modify",
          "component": "Pattern Specification",
          "t": 19,
          "user": "M2"
         },
         {
          "Feature": "sketch-to-query",
          "component": "Pattern Specification",
          "t": 19,
          "user": "M3"
         },
         {
          "Feature": "drag-and-drop",
          "component": "Result Querying",
          "t": 20,
          "user": "A1"
         },
         {
          "Feature": "change-number-of-results",
          "component": "Match Specification",
          "t": 20,
          "user": "A2"
         },
         {
          "Feature": "drag-and-drop",
          "component": "Result Querying",
          "t": 20,
          "user": "G1"
         },
         {
          "Feature": "sketch-to-query",
          "component": "Pattern Specification",
          "t": 20,
          "user": "M1"
         },
         {
          "Feature": "sketch-to-modify",
          "component": "Pattern Specification",
          "t": 20,
          "user": "M3"
         },
         {
          "Feature": "change-axis",
          "component": "View Specification",
          "t": 21,
          "user": "A3"
         },
         {
          "Feature": "ignore-xrange",
          "component": "Match Specification",
          "t": 21,
          "user": "G2"
         },
         {
          "Feature": "show-scatter",
          "component": "View Specification",
          "t": 21,
          "user": "M1"
         },
         {
          "Feature": "change-axis",
          "component": "View Specification",
          "t": 21,
          "user": "M2"
         },
         {
          "Feature": "filter",
          "component": "Slice-and-Dice",
          "t": 22,
          "user": "A1"
         },
         {
          "Feature": "filter",
          "component": "Slice-and-Dice",
          "t": 22,
          "user": "A2"
         },
         {
          "Feature": "control-kmeans-clustersize",
          "component": "Recommendation",
          "t": 22,
          "user": "G1"
         },
         {
          "Feature": "sketch-to-query",
          "component": "Pattern Specification",
          "t": 22,
          "user": "G2"
         },
         {
          "Feature": "sketch-to-modify",
          "component": "Pattern Specification",
          "t": 22,
          "user": "M2"
         },
         {
          "Feature": "filter",
          "component": "Slice-and-Dice",
          "t": 23,
          "user": "A3"
         },
         {
          "Feature": "filter",
          "component": "Slice-and-Dice",
          "t": 23,
          "user": "G2"
         },
         {
          "Feature": "drag-and-drop",
          "component": "Result Querying",
          "t": 23,
          "user": "M2"
         },
         {
          "Feature": "drag-and-drop",
          "component": "Result Querying",
          "t": 23,
          "user": "M3"
         },
         {
          "Feature": "filter",
          "component": "Slice-and-Dice",
          "t": 24,
          "user": "A1"
         },
         {
          "Feature": "representative-outlier",
          "component": "Recommendation",
          "t": 24,
          "user": "A2"
         },
         {
          "Feature": "filter",
          "component": "Slice-and-Dice",
          "t": 24,
          "user": "M1"
         },
         {
          "Feature": "sketch-to-modify",
          "component": "Pattern Specification",
          "t": 24,
          "user": "M2"
         },
         {
          "Feature": "drag-and-drop",
          "component": "Result Querying",
          "t": 25,
          "user": "A2"
         },
         {
          "Feature": "filter",
          "component": "Slice-and-Dice",
          "t": 25,
          "user": "G2"
         },
         {
          "Feature": "filter",
          "component": "Slice-and-Dice",
          "t": 25,
          "user": "M1"
         },
         {
          "Feature": "change-number-of-results",
          "component": "Match Specification",
          "t": 26,
          "user": "A2"
         },
         {
          "Feature": "change-axis",
          "component": "View Specification",
          "t": 26,
          "user": "A3"
         },
         {
          "Feature": "filter",
          "component": "Slice-and-Dice",
          "t": 26,
          "user": "M1"
         },
         {
          "Feature": "filter",
          "component": "Slice-and-Dice",
          "t": 27,
          "user": "G2"
         },
         {
          "Feature": "drag-and-drop",
          "component": "Result Querying",
          "t": 27,
          "user": "M2"
         },
         {
          "Feature": "sketch-to-modify",
          "component": "Pattern Specification",
          "t": 28,
          "user": "M2"
         },
         {
          "Feature": "change-axis",
          "component": "View Specification",
          "t": 28,
          "user": "M3"
         },
         {
          "Feature": "brush-xrange",
          "component": "Match Specification",
          "t": 29,
          "user": "A1"
         },
         {
          "Feature": "input-equation",
          "component": "Pattern Specification",
          "t": 29,
          "user": "A3"
         },
         {
          "Feature": "filter",
          "component": "Slice-and-Dice",
          "t": 29,
          "user": "G2"
         },
         {
          "Feature": "representative-outlier",
          "component": "Recommendation",
          "t": 31,
          "user": "G2"
         },
         {
          "Feature": "smoothing",
          "component": "Match Specification",
          "t": 33,
          "user": "G2"
         },
         {
          "Feature": "dynamic-class",
          "component": "Slice-and-Dice",
          "t": 33,
          "user": "M2"
         },
         {
          "Feature": "dynamic-class",
          "component": "Slice-and-Dice",
          "t": 34,
          "user": "A2"
         },
         {
          "Feature": "smoothing",
          "component": "Match Specification",
          "t": 34,
          "user": "G2"
         },
         {
          "Feature": "filter",
          "component": "Slice-and-Dice",
          "t": 36,
          "user": "A1"
         },
         {
          "Feature": "pattern-upload",
          "component": "Pattern Specification",
          "t": 36,
          "user": "G2"
         },
         {
          "Feature": "representative-outlier",
          "component": "Recommendation",
          "t": 36,
          "user": "M2"
         },
         {
          "Feature": "filter",
          "component": "Slice-and-Dice",
          "t": 37,
          "user": "A1"
         },
         {
          "Feature": "change-axis",
          "component": "View Specification",
          "t": 37,
          "user": "A2"
         },
         {
          "Feature": "filter",
          "component": "Slice-and-Dice",
          "t": 37,
          "user": "M2"
         },
         {
          "Feature": "ignore-xrange",
          "component": "Match Specification",
          "t": 38,
          "user": "A2"
         },
         {
          "Feature": "smoothing",
          "component": "Match Specification",
          "t": 39,
          "user": "A1"
         },
         {
          "Feature": "filter",
          "component": "Slice-and-Dice",
          "t": 39,
          "user": "G2"
         },
         {
          "Feature": "change-axis",
          "component": "View Specification",
          "t": 39,
          "user": "M2"
         },
         {
          "Feature": "sketch-to-query",
          "component": "Pattern Specification",
          "t": 40,
          "user": "A1"
         },
         {
          "Feature": "drag-and-drop",
          "component": "Result Querying",
          "t": 40,
          "user": "G2"
         },
         {
          "Feature": "sketch-to-query",
          "component": "Pattern Specification",
          "t": 41,
          "user": "A1"
         },
         {
          "Feature": "filter",
          "component": "Slice-and-Dice",
          "t": 42,
          "user": "A1"
         },
         {
          "Feature": "drag-and-drop",
          "component": "Result Querying",
          "t": 44,
          "user": "A2"
         },
         {
          "Feature": "representative-outlier",
          "component": "Recommendation",
          "t": 44,
          "user": "G2"
         },
         {
          "Feature": "brush-xrange",
          "component": "Match Specification",
          "t": 46,
          "user": "A2"
         },
         {
          "Feature": "brush-xrange",
          "component": "Match Specification",
          "t": 48,
          "user": "G2"
         },
         {
          "Feature": "dynamic-class",
          "component": "Slice-and-Dice",
          "t": 50,
          "user": "A1"
         },
         {
          "Feature": "upload-dataset",
          "component": "Pattern Specification",
          "t": 50,
          "user": "G2"
         },
         {
          "Feature": "dynamic-class",
          "component": "Slice-and-Dice",
          "t": 51,
          "user": "A1"
         },
         {
          "Feature": "smoothing",
          "component": "Match Specification",
          "t": 51,
          "user": "G2"
         },
         {
          "Feature": "control-kmeans-clustersize",
          "component": "Recommendation",
          "t": 52,
          "user": "G2"
         },
         {
          "Feature": "dynamic-class",
          "component": "Slice-and-Dice",
          "t": 53,
          "user": "A1"
         },
         {
          "Feature": "representative-outlier",
          "component": "Recommendation",
          "t": 53,
          "user": "G2"
         },
         {
          "Feature": "filter",
          "component": "Slice-and-Dice",
          "t": 55,
          "user": "A1"
         },
         {
          "Feature": "pattern-upload",
          "component": "Pattern Specification",
          "t": 58,
          "user": "A1"
         },
         {
          "Feature": "dynamic-class",
          "component": "Slice-and-Dice",
          "t": 61,
          "user": "A1"
         },
         {
          "Feature": "filter",
          "component": "Slice-and-Dice",
          "t": 63,
          "user": "A1"
         },
         {
          "Feature": "pattern-upload",
          "component": "Pattern Specification",
          "t": 66,
          "user": "A1"
         }
        ],
        "data-16a1bbe20c9eb0a7009acd98e4d558ea": [
         {
          "t": 69,
          "user": "A1"
         },
         {
          "t": 48,
          "user": "A2"
         },
         {
          "t": 33,
          "user": "A3"
         },
         {
          "t": 27,
          "user": "G1"
         },
         {
          "t": 57,
          "user": "G2"
         },
         {
          "t": 21,
          "user": "G3"
         },
         {
          "t": 34,
          "user": "M1"
         },
         {
          "t": 41,
          "user": "M2"
         },
         {
          "t": 31,
          "user": "M3"
         }
        ],
        "data-37a36f38c40d5a57d4bd1e4da3ff65dd": [
         {
          "action": "BR",
          "t": 2,
          "user": "G2"
         },
         {
          "action": "BR",
          "t": 4,
          "user": "A3"
         },
         {
          "action": "BR",
          "t": 5,
          "user": "G3"
         },
         {
          "action": "BR",
          "t": 6,
          "user": "G1"
         },
         {
          "action": "BR",
          "t": 8,
          "user": "G2"
         },
         {
          "action": "BR",
          "t": 8,
          "user": "M1"
         },
         {
          "action": "BR",
          "t": 9,
          "user": "A2"
         },
         {
          "action": "BR",
          "t": 10,
          "user": "G1"
         },
         {
          "action": "BR",
          "t": 12,
          "user": "M2"
         },
         {
          "action": "BR",
          "t": 14,
          "user": "A3"
         },
         {
          "action": "BR",
          "t": 14,
          "user": "G2"
         },
         {
          "action": "BR",
          "t": 14,
          "user": "G3"
         },
         {
          "action": "BR",
          "t": 15,
          "user": "G1"
         },
         {
          "action": "BR",
          "t": 16,
          "user": "G3"
         },
         {
          "action": "BR",
          "t": 16,
          "user": "M2"
         },
         {
          "action": "BR",
          "t": 17,
          "user": "G2"
         },
         {
          "action": "BR",
          "t": 17,
          "user": "M3"
         },
         {
          "action": "BR",
          "t": 18,
          "user": "M1"
         },
         {
          "action": "BR",
          "t": 19,
          "user": "A1"
         },
         {
          "action": "BR",
          "t": 20,
          "user": "A3"
         },
         {
          "action": "BR",
          "t": 20,
          "user": "M2"
         },
         {
          "action": "BR",
          "t": 21,
          "user": "G3"
         },
         {
          "action": "BR",
          "t": 21,
          "user": "M3"
         },
         {
          "action": "BR",
          "t": 22,
          "user": "M1"
         },
         {
          "action": "BR",
          "t": 23,
          "user": "A1"
         },
         {
          "action": "BR",
          "t": 25,
          "user": "A3"
         },
         {
          "action": "BR",
          "t": 26,
          "user": "G2"
         },
         {
          "action": "BR",
          "t": 27,
          "user": "G1"
         },
         {
          "action": "BR",
          "t": 27,
          "user": "M3"
         },
         {
          "action": "BR",
          "t": 28,
          "user": "A3"
         },
         {
          "action": "BR",
          "t": 28,
          "user": "M1"
         },
         {
          "action": "BR",
          "t": 30,
          "user": "A2"
         },
         {
          "action": "BR",
          "t": 30,
          "user": "A3"
         },
         {
          "action": "BR",
          "t": 31,
          "user": "M3"
         },
         {
          "action": "BR",
          "t": 32,
          "user": "G2"
         },
         {
          "action": "BR",
          "t": 32,
          "user": "M2"
         },
         {
          "action": "BR",
          "t": 33,
          "user": "A3"
         },
         {
          "action": "BR",
          "t": 34,
          "user": "M1"
         },
         {
          "action": "BR",
          "t": 35,
          "user": "A1"
         },
         {
          "action": "BR",
          "t": 35,
          "user": "G2"
         },
         {
          "action": "BR",
          "t": 38,
          "user": "A1"
         },
         {
          "action": "BR",
          "t": 41,
          "user": "A2"
         },
         {
          "action": "BR",
          "t": 41,
          "user": "M2"
         },
         {
          "action": "BR",
          "t": 47,
          "user": "G2"
         },
         {
          "action": "BR",
          "t": 48,
          "user": "A2"
         },
         {
          "action": "BR",
          "t": 49,
          "user": "A1"
         },
         {
          "action": "BR",
          "t": 54,
          "user": "A1"
         },
         {
          "action": "BR",
          "t": 57,
          "user": "G2"
         },
         {
          "action": "BR",
          "t": 62,
          "user": "A1"
         },
         {
          "action": "BR",
          "t": 69,
          "user": "A1"
         }
        ],
        "data-ae9aad36e5434c34dca00ee24f80aad6": [
         {
          "action": "data insight",
          "t": 0,
          "user": "G3"
         },
         {
          "action": "scientific insight",
          "t": 1,
          "user": "G2"
         },
         {
          "action": "data insight",
          "t": 1,
          "user": "M3"
         },
         {
          "action": "scientific insight",
          "t": 3,
          "user": "M3"
         },
         {
          "action": "scientific insight",
          "t": 4,
          "user": "A1"
         },
         {
          "action": "scientific insight",
          "t": 5,
          "user": "G1"
         },
         {
          "action": "data insight",
          "t": 6,
          "user": "A2"
         },
         {
          "action": "data insight",
          "t": 7,
          "user": "M3"
         },
         {
          "action": "data insight",
          "t": 8,
          "user": "A1"
         },
         {
          "action": "data insight",
          "t": 8,
          "user": "A2"
         },
         {
          "action": "scientific insight",
          "t": 8,
          "user": "G1"
         },
         {
          "action": "scientific insight",
          "t": 9,
          "user": "M2"
         },
         {
          "action": "scientific insight",
          "t": 9,
          "user": "M3"
         },
         {
          "action": "scientific insight",
          "t": 10,
          "user": "M2"
         },
         {
          "action": "scientific insight",
          "t": 11,
          "user": "A1"
         },
         {
          "action": "data insight",
          "t": 11,
          "user": "A3"
         },
         {
          "action": "data insight",
          "t": 11,
          "user": "G3"
         },
         {
          "action": "scientific insight",
          "t": 11,
          "user": "M1"
         },
         {
          "action": "scientific insight",
          "t": 12,
          "user": "M3"
         },
         {
          "action": "scientific insight",
          "t": 13,
          "user": "G3"
         },
         {
          "action": "scientific insight",
          "t": 15,
          "user": "M2"
         },
         {
          "action": "data insight",
          "t": 16,
          "user": "G2"
         },
         {
          "action": "scientific insight",
          "t": 16,
          "user": "M3"
         },
         {
          "action": "scientific insight",
          "t": 17,
          "user": "M1"
         },
         {
          "action": "scientific insight",
          "t": 18,
          "user": "G3"
         },
         {
          "action": "data insight",
          "t": 19,
          "user": "A3"
         },
         {
          "action": "data insight",
          "t": 19,
          "user": "G2"
         },
         {
          "action": "scientific insight",
          "t": 20,
          "user": "G3"
         },
         {
          "action": "data insight",
          "t": 21,
          "user": "G1"
         },
         {
          "action": "data insight",
          "t": 22,
          "user": "A3"
         },
         {
          "action": "scientific insight",
          "t": 24,
          "user": "G2"
         },
         {
          "action": "data insight",
          "t": 24,
          "user": "M3"
         },
         {
          "action": "data insight",
          "t": 25,
          "user": "M2"
         },
         {
          "action": "scientific insight",
          "t": 26,
          "user": "M3"
         },
         {
          "action": "data insight",
          "t": 27,
          "user": "M1"
         },
         {
          "action": "data insight",
          "t": 28,
          "user": "A2"
         },
         {
          "action": "scientific insight",
          "t": 29,
          "user": "M2"
         },
         {
          "action": "data insight",
          "t": 31,
          "user": "A1"
         },
         {
          "action": "data insight",
          "t": 34,
          "user": "A1"
         },
         {
          "action": "scientific insight",
          "t": 34,
          "user": "M2"
         },
         {
          "action": "scientific insight",
          "t": 35,
          "user": "M2"
         },
         {
          "action": "scientific insight",
          "t": 38,
          "user": "M2"
         },
         {
          "action": "scientific insight",
          "t": 39,
          "user": "A2"
         },
         {
          "action": "data insight",
          "t": 40,
          "user": "M2"
         },
         {
          "action": "scientific insight",
          "t": 41,
          "user": "G2"
         },
         {
          "action": "data insight",
          "t": 45,
          "user": "G2"
         },
         {
          "action": "scientific insight",
          "t": 48,
          "user": "A1"
         },
         {
          "action": "data insight",
          "t": 54,
          "user": "G2"
         },
         {
          "action": "data insight",
          "t": 55,
          "user": "G2"
         },
         {
          "action": "data insight",
          "t": 57,
          "user": "A1"
         },
         {
          "action": "data insight",
          "t": 65,
          "user": "A1"
         }
        ]
       },
       "layer": [
        {
         "data": {
          "name": "data-16a1bbe20c9eb0a7009acd98e4d558ea"
         },
         "encoding": {
          "x": {
           "aggregate": "sum",
           "field": "t",
           "title": "Timepoint",
           "type": "quantitative"
          },
          "y": {
           "field": "user",
           "type": "nominal"
          }
         },
         "mark": {
          "color": "gray",
          "opacity": 0.25,
          "size": 3,
          "type": "bar"
         }
        },
        {
         "data": {
          "name": "data-06beb8aad454cd04a9e4c8158c3c9aaa"
         },
         "encoding": {
          "color": {
           "field": "component",
           "title": "Component",
           "type": "nominal"
          },
          "x": {
           "field": "t",
           "type": "quantitative"
          },
          "y": {
           "field": "user",
           "type": "nominal"
          }
         },
         "mark": {
          "opacity": 1,
          "type": "circle"
         }
        },
        {
         "data": {
          "name": "data-37a36f38c40d5a57d4bd1e4da3ff65dd"
         },
         "encoding": {
          "x": {
           "field": "t",
           "type": "quantitative"
          },
          "y": {
           "field": "user",
           "type": "nominal"
          }
         },
         "mark": {
          "color": "black",
          "thickness": 2,
          "type": "tick"
         }
        },
        {
         "data": {
          "name": "data-ae9aad36e5434c34dca00ee24f80aad6"
         },
         "encoding": {
          "shape": {
           "field": "action",
           "type": "nominal"
          },
          "x": {
           "field": "t",
           "title": "Timepoint",
           "type": "quantitative"
          },
          "y": {
           "field": "user",
           "title": "Participant",
           "type": "nominal"
          }
         },
         "mark": {
          "color": "red",
          "shape": "diamond",
          "type": "point"
         }
        }
       ],
       "title": "Evaluation Study Event Timeline Breakdown by Feature Components"
      },
      "image/png": "[encoded data removed]",
      "text/plain": [
       "<VegaLite 2 object>\n",
       "\n",
       "If you see this message, it means the renderer has not been properly enabled\n",
       "for the frontend that you are using. For more information, see\n",
       "https://altair-viz.github.io/user_guide/troubleshooting.html\n"
      ]
     },
     "execution_count": 14,
     "metadata": {},
     "output_type": "execute_result"
    }
   ],
   "source": [
    "chart = guide+component_chart+ break_chart + insight_chart\n",
    "chart.title=\"Evaluation Study Event Timeline Breakdown by Feature Components\"\n",
    "chart"
   ]
  },
  {
   "cell_type": "markdown",
   "metadata": {},
   "source": [
    "- Astronomers discovered insights more about their data, whereas geneticists and material scientists uncovered more scientific insights.\n",
    "- The use of exact specification (including sketch) is rare, and doesn't usually lead to useful outcomes. "
   ]
  },
  {
   "cell_type": "markdown",
   "metadata": {},
   "source": [
    "# Processes"
   ]
  },
  {
   "cell_type": "code",
   "execution_count": 15,
   "metadata": {},
   "outputs": [],
   "source": [
    "td = 'top-down-querying'\n",
    "sc = 'search-with-context'\n",
    "bu = 'bottom-up-querying'\n",
    "rec= 'recommendation'\n",
    "component_to_process = {\n",
    "    'Pattern Specification':td,\n",
    "    'Match Specification':td,\n",
    "    'View Specification':sc, \n",
    "    'Slice-and-Dice':sc,\n",
    "    'Result Querying':bu,\n",
    "    'Recommendation':bu\n",
    "}"
   ]
  },
  {
   "cell_type": "code",
   "execution_count": 16,
   "metadata": {},
   "outputs": [],
   "source": [
    "df_process = df_component\n",
    "df_process[\"Process\"] = df_component[\"component\"].replace(component_to_process)"
   ]
  },
  {
   "cell_type": "code",
   "execution_count": 17,
   "metadata": {},
   "outputs": [],
   "source": [
    "process_chart = alt.Chart(df_component).mark_circle().encode(        \n",
    "    alt.Color(\"Process\",sort=[td,sc,bu,rec]),\n",
    "    y=\"user\",\n",
    "    x='t'\n",
    ")"
   ]
  },
  {
   "cell_type": "code",
   "execution_count": 18,
   "metadata": {},
   "outputs": [],
   "source": [
    "df_break = df[df.action.isin([\"BR\"])]\n",
    "break_chart = alt.Chart(df_break).mark_tick(thickness=2,color=\"black\").encode(        \n",
    "    y=\"user\",\n",
    "    x='t'\n",
    ")"
   ]
  },
  {
   "cell_type": "code",
   "execution_count": 19,
   "metadata": {},
   "outputs": [
    {
     "name": "stderr",
     "output_type": "stream",
     "text": [
      "/Users/dorislee/.virtualenvs/py37env/lib/python3.7/site-packages/pandas/core/indexing.py:362: SettingWithCopyWarning: \n",
      "A value is trying to be set on a copy of a slice from a DataFrame.\n",
      "Try using .loc[row_indexer,col_indexer] = value instead\n",
      "\n",
      "See the caveats in the documentation: http://pandas.pydata.org/pandas-docs/stable/indexing.html#indexing-view-versus-copy\n",
      "  self.obj[key] = _infer_fill_value(value)\n",
      "/Users/dorislee/.virtualenvs/py37env/lib/python3.7/site-packages/pandas/core/indexing.py:543: SettingWithCopyWarning: \n",
      "A value is trying to be set on a copy of a slice from a DataFrame.\n",
      "Try using .loc[row_indexer,col_indexer] = value instead\n",
      "\n",
      "See the caveats in the documentation: http://pandas.pydata.org/pandas-docs/stable/indexing.html#indexing-view-versus-copy\n",
      "  self.obj[item] = s\n"
     ]
    }
   ],
   "source": [
    "df_insight = df[df.action.isin([\"IS\",\"ID\"])]\n",
    "df_insight.loc[df_insight[\"action\"]==\"ID\",\"Action\"]=\"data insight\"\n",
    "df_insight.loc[df_insight[\"action\"]==\"IS\",\"Action\"]=\"scientific insight\"\n",
    "insight_chart = alt.Chart(df_insight).mark_point(shape=\"diamond\",color=\"red\").encode(        \n",
    "    alt.Y(\"user\",title=\"Participant\"),\n",
    "    alt.X(\"t\",title=\"Timepoint\"),\n",
    "    shape='Action' #make no distinction between data and science insights\n",
    ")\n"
   ]
  },
  {
   "cell_type": "code",
   "execution_count": 20,
   "metadata": {},
   "outputs": [
    {
     "data": {
      "application/vnd.vegalite.v2+json": {
       "$schema": "https://vega.github.io/schema/vega-lite/v2.6.0.json",
       "config": {
        "view": {
         "height": 300,
         "width": 400
        }
       },
       "datasets": {
        "data-0384c290eb7d61cb6d3b63ec2c1a25e7": [
         {
          "Action": "data insight",
          "action": "ID",
          "t": 0,
          "user": "G3"
         },
         {
          "Action": "scientific insight",
          "action": "IS",
          "t": 1,
          "user": "G2"
         },
         {
          "Action": "data insight",
          "action": "ID",
          "t": 1,
          "user": "M3"
         },
         {
          "Action": "scientific insight",
          "action": "IS",
          "t": 3,
          "user": "M3"
         },
         {
          "Action": "scientific insight",
          "action": "IS",
          "t": 4,
          "user": "A1"
         },
         {
          "Action": "scientific insight",
          "action": "IS",
          "t": 5,
          "user": "G1"
         },
         {
          "Action": "data insight",
          "action": "ID",
          "t": 6,
          "user": "A2"
         },
         {
          "Action": "data insight",
          "action": "ID",
          "t": 7,
          "user": "M3"
         },
         {
          "Action": "data insight",
          "action": "ID",
          "t": 8,
          "user": "A1"
         },
         {
          "Action": "data insight",
          "action": "ID",
          "t": 8,
          "user": "A2"
         },
         {
          "Action": "scientific insight",
          "action": "IS",
          "t": 8,
          "user": "G1"
         },
         {
          "Action": "scientific insight",
          "action": "IS",
          "t": 9,
          "user": "M2"
         },
         {
          "Action": "scientific insight",
          "action": "IS",
          "t": 9,
          "user": "M3"
         },
         {
          "Action": "scientific insight",
          "action": "IS",
          "t": 10,
          "user": "M2"
         },
         {
          "Action": "scientific insight",
          "action": "IS",
          "t": 11,
          "user": "A1"
         },
         {
          "Action": "data insight",
          "action": "ID",
          "t": 11,
          "user": "A3"
         },
         {
          "Action": "data insight",
          "action": "ID",
          "t": 11,
          "user": "G3"
         },
         {
          "Action": "scientific insight",
          "action": "IS",
          "t": 11,
          "user": "M1"
         },
         {
          "Action": "scientific insight",
          "action": "IS",
          "t": 12,
          "user": "M3"
         },
         {
          "Action": "scientific insight",
          "action": "IS",
          "t": 13,
          "user": "G3"
         },
         {
          "Action": "scientific insight",
          "action": "IS",
          "t": 15,
          "user": "M2"
         },
         {
          "Action": "data insight",
          "action": "ID",
          "t": 16,
          "user": "G2"
         },
         {
          "Action": "scientific insight",
          "action": "IS",
          "t": 16,
          "user": "M3"
         },
         {
          "Action": "scientific insight",
          "action": "IS",
          "t": 17,
          "user": "M1"
         },
         {
          "Action": "scientific insight",
          "action": "IS",
          "t": 18,
          "user": "G3"
         },
         {
          "Action": "data insight",
          "action": "ID",
          "t": 19,
          "user": "A3"
         },
         {
          "Action": "data insight",
          "action": "ID",
          "t": 19,
          "user": "G2"
         },
         {
          "Action": "scientific insight",
          "action": "IS",
          "t": 20,
          "user": "G3"
         },
         {
          "Action": "data insight",
          "action": "ID",
          "t": 21,
          "user": "G1"
         },
         {
          "Action": "data insight",
          "action": "ID",
          "t": 22,
          "user": "A3"
         },
         {
          "Action": "scientific insight",
          "action": "IS",
          "t": 24,
          "user": "G2"
         },
         {
          "Action": "data insight",
          "action": "ID",
          "t": 24,
          "user": "M3"
         },
         {
          "Action": "data insight",
          "action": "ID",
          "t": 25,
          "user": "M2"
         },
         {
          "Action": "scientific insight",
          "action": "IS",
          "t": 26,
          "user": "M3"
         },
         {
          "Action": "data insight",
          "action": "ID",
          "t": 27,
          "user": "M1"
         },
         {
          "Action": "data insight",
          "action": "ID",
          "t": 28,
          "user": "A2"
         },
         {
          "Action": "scientific insight",
          "action": "IS",
          "t": 29,
          "user": "M2"
         },
         {
          "Action": "data insight",
          "action": "ID",
          "t": 31,
          "user": "A1"
         },
         {
          "Action": "data insight",
          "action": "ID",
          "t": 34,
          "user": "A1"
         },
         {
          "Action": "scientific insight",
          "action": "IS",
          "t": 34,
          "user": "M2"
         },
         {
          "Action": "scientific insight",
          "action": "IS",
          "t": 35,
          "user": "M2"
         },
         {
          "Action": "scientific insight",
          "action": "IS",
          "t": 38,
          "user": "M2"
         },
         {
          "Action": "scientific insight",
          "action": "IS",
          "t": 39,
          "user": "A2"
         },
         {
          "Action": "data insight",
          "action": "ID",
          "t": 40,
          "user": "M2"
         },
         {
          "Action": "scientific insight",
          "action": "IS",
          "t": 41,
          "user": "G2"
         },
         {
          "Action": "data insight",
          "action": "ID",
          "t": 45,
          "user": "G2"
         },
         {
          "Action": "scientific insight",
          "action": "IS",
          "t": 48,
          "user": "A1"
         },
         {
          "Action": "data insight",
          "action": "ID",
          "t": 54,
          "user": "G2"
         },
         {
          "Action": "data insight",
          "action": "ID",
          "t": 55,
          "user": "G2"
         },
         {
          "Action": "data insight",
          "action": "ID",
          "t": 57,
          "user": "A1"
         },
         {
          "Action": "data insight",
          "action": "ID",
          "t": 65,
          "user": "A1"
         }
        ],
        "data-37a36f38c40d5a57d4bd1e4da3ff65dd": [
         {
          "action": "BR",
          "t": 2,
          "user": "G2"
         },
         {
          "action": "BR",
          "t": 4,
          "user": "A3"
         },
         {
          "action": "BR",
          "t": 5,
          "user": "G3"
         },
         {
          "action": "BR",
          "t": 6,
          "user": "G1"
         },
         {
          "action": "BR",
          "t": 8,
          "user": "G2"
         },
         {
          "action": "BR",
          "t": 8,
          "user": "M1"
         },
         {
          "action": "BR",
          "t": 9,
          "user": "A2"
         },
         {
          "action": "BR",
          "t": 10,
          "user": "G1"
         },
         {
          "action": "BR",
          "t": 12,
          "user": "M2"
         },
         {
          "action": "BR",
          "t": 14,
          "user": "A3"
         },
         {
          "action": "BR",
          "t": 14,
          "user": "G2"
         },
         {
          "action": "BR",
          "t": 14,
          "user": "G3"
         },
         {
          "action": "BR",
          "t": 15,
          "user": "G1"
         },
         {
          "action": "BR",
          "t": 16,
          "user": "G3"
         },
         {
          "action": "BR",
          "t": 16,
          "user": "M2"
         },
         {
          "action": "BR",
          "t": 17,
          "user": "G2"
         },
         {
          "action": "BR",
          "t": 17,
          "user": "M3"
         },
         {
          "action": "BR",
          "t": 18,
          "user": "M1"
         },
         {
          "action": "BR",
          "t": 19,
          "user": "A1"
         },
         {
          "action": "BR",
          "t": 20,
          "user": "A3"
         },
         {
          "action": "BR",
          "t": 20,
          "user": "M2"
         },
         {
          "action": "BR",
          "t": 21,
          "user": "G3"
         },
         {
          "action": "BR",
          "t": 21,
          "user": "M3"
         },
         {
          "action": "BR",
          "t": 22,
          "user": "M1"
         },
         {
          "action": "BR",
          "t": 23,
          "user": "A1"
         },
         {
          "action": "BR",
          "t": 25,
          "user": "A3"
         },
         {
          "action": "BR",
          "t": 26,
          "user": "G2"
         },
         {
          "action": "BR",
          "t": 27,
          "user": "G1"
         },
         {
          "action": "BR",
          "t": 27,
          "user": "M3"
         },
         {
          "action": "BR",
          "t": 28,
          "user": "A3"
         },
         {
          "action": "BR",
          "t": 28,
          "user": "M1"
         },
         {
          "action": "BR",
          "t": 30,
          "user": "A2"
         },
         {
          "action": "BR",
          "t": 30,
          "user": "A3"
         },
         {
          "action": "BR",
          "t": 31,
          "user": "M3"
         },
         {
          "action": "BR",
          "t": 32,
          "user": "G2"
         },
         {
          "action": "BR",
          "t": 32,
          "user": "M2"
         },
         {
          "action": "BR",
          "t": 33,
          "user": "A3"
         },
         {
          "action": "BR",
          "t": 34,
          "user": "M1"
         },
         {
          "action": "BR",
          "t": 35,
          "user": "A1"
         },
         {
          "action": "BR",
          "t": 35,
          "user": "G2"
         },
         {
          "action": "BR",
          "t": 38,
          "user": "A1"
         },
         {
          "action": "BR",
          "t": 41,
          "user": "A2"
         },
         {
          "action": "BR",
          "t": 41,
          "user": "M2"
         },
         {
          "action": "BR",
          "t": 47,
          "user": "G2"
         },
         {
          "action": "BR",
          "t": 48,
          "user": "A2"
         },
         {
          "action": "BR",
          "t": 49,
          "user": "A1"
         },
         {
          "action": "BR",
          "t": 54,
          "user": "A1"
         },
         {
          "action": "BR",
          "t": 57,
          "user": "G2"
         },
         {
          "action": "BR",
          "t": 62,
          "user": "A1"
         },
         {
          "action": "BR",
          "t": 69,
          "user": "A1"
         }
        ],
        "data-787beb49523e5034d6512e2cf656b061": [
         {
          "Feature": "filter",
          "Process": "search-with-context",
          "component": "Slice-and-Dice",
          "t": 0,
          "user": "A1"
         },
         {
          "Feature": "filter",
          "Process": "search-with-context",
          "component": "Slice-and-Dice",
          "t": 0,
          "user": "A2"
         },
         {
          "Feature": "drag-and-drop",
          "Process": "bottom-up-querying",
          "component": "Result Querying",
          "t": 0,
          "user": "A3"
         },
         {
          "Feature": "representative-outlier",
          "Process": "bottom-up-querying",
          "component": "Recommendation",
          "t": 0,
          "user": "G1"
         },
         {
          "Feature": "representative-outlier",
          "Process": "bottom-up-querying",
          "component": "Recommendation",
          "t": 0,
          "user": "G2"
         },
         {
          "Feature": "show-scatter",
          "Process": "search-with-context",
          "component": "View Specification",
          "t": 0,
          "user": "M2"
         },
         {
          "Feature": "dynamic-class",
          "Process": "search-with-context",
          "component": "Slice-and-Dice",
          "t": 0,
          "user": "M3"
         },
         {
          "Feature": "filter",
          "Process": "search-with-context",
          "component": "Slice-and-Dice",
          "t": 1,
          "user": "A1"
         },
         {
          "Feature": "drag-and-drop",
          "Process": "bottom-up-querying",
          "component": "Result Querying",
          "t": 1,
          "user": "A3"
         },
         {
          "Feature": "control-kmeans-clustersize",
          "Process": "bottom-up-querying",
          "component": "Recommendation",
          "t": 1,
          "user": "G1"
         },
         {
          "Feature": "sketch-to-query",
          "Process": "top-down-querying",
          "component": "Pattern Specification",
          "t": 1,
          "user": "M1"
         },
         {
          "Feature": "change-axis",
          "Process": "search-with-context",
          "component": "View Specification",
          "t": 1,
          "user": "M2"
         },
         {
          "Feature": "filter",
          "Process": "search-with-context",
          "component": "Slice-and-Dice",
          "t": 2,
          "user": "A1"
         },
         {
          "Feature": "sketch-to-modify",
          "Process": "top-down-querying",
          "component": "Pattern Specification",
          "t": 2,
          "user": "A3"
         },
         {
          "Feature": "representative-outlier",
          "Process": "bottom-up-querying",
          "component": "Recommendation",
          "t": 2,
          "user": "G1"
         },
         {
          "Feature": "ignore-xrange",
          "Process": "top-down-querying",
          "component": "Match Specification",
          "t": 2,
          "user": "M1"
         },
         {
          "Feature": "show-scatter",
          "Process": "search-with-context",
          "component": "View Specification",
          "t": 2,
          "user": "M3"
         },
         {
          "Feature": "filter",
          "Process": "search-with-context",
          "component": "Slice-and-Dice",
          "t": 3,
          "user": "A1"
         },
         {
          "Feature": "representative-outlier",
          "Process": "bottom-up-querying",
          "component": "Recommendation",
          "t": 3,
          "user": "A2"
         },
         {
          "Feature": "ignore-xrange",
          "Process": "top-down-querying",
          "component": "Match Specification",
          "t": 3,
          "user": "A3"
         },
         {
          "Feature": "control-kmeans-clustersize",
          "Process": "bottom-up-querying",
          "component": "Recommendation",
          "t": 3,
          "user": "G1"
         },
         {
          "Feature": "representative-outlier",
          "Process": "bottom-up-querying",
          "component": "Recommendation",
          "t": 3,
          "user": "G2"
         },
         {
          "Feature": "show-scatter",
          "Process": "search-with-context",
          "component": "View Specification",
          "t": 3,
          "user": "G3"
         },
         {
          "Feature": "dynamic-class",
          "Process": "search-with-context",
          "component": "Slice-and-Dice",
          "t": 3,
          "user": "M2"
         },
         {
          "Feature": "drag-and-drop",
          "Process": "bottom-up-querying",
          "component": "Result Querying",
          "t": 4,
          "user": "A2"
         },
         {
          "Feature": "control-kmeans-clustersize",
          "Process": "bottom-up-querying",
          "component": "Recommendation",
          "t": 4,
          "user": "G2"
         },
         {
          "Feature": "upload-dataset",
          "Process": "top-down-querying",
          "component": "Pattern Specification",
          "t": 4,
          "user": "G3"
         },
         {
          "Feature": "change-axis",
          "Process": "search-with-context",
          "component": "View Specification",
          "t": 4,
          "user": "M1"
         },
         {
          "Feature": "dynamic-class",
          "Process": "search-with-context",
          "component": "Slice-and-Dice",
          "t": 4,
          "user": "M2"
         },
         {
          "Feature": "dynamic-class",
          "Process": "search-with-context",
          "component": "Slice-and-Dice",
          "t": 4,
          "user": "M3"
         },
         {
          "Feature": "drag-and-drop",
          "Process": "bottom-up-querying",
          "component": "Result Querying",
          "t": 5,
          "user": "A3"
         },
         {
          "Feature": "representative-outlier",
          "Process": "bottom-up-querying",
          "component": "Recommendation",
          "t": 5,
          "user": "G2"
         },
         {
          "Feature": "dynamic-class",
          "Process": "search-with-context",
          "component": "Slice-and-Dice",
          "t": 5,
          "user": "M2"
         },
         {
          "Feature": "ignore-xrange",
          "Process": "top-down-querying",
          "component": "Match Specification",
          "t": 6,
          "user": "A3"
         },
         {
          "Feature": "filter",
          "Process": "search-with-context",
          "component": "Slice-and-Dice",
          "t": 6,
          "user": "G2"
         },
         {
          "Feature": "representative-outlier",
          "Process": "bottom-up-querying",
          "component": "Recommendation",
          "t": 6,
          "user": "G3"
         },
         {
          "Feature": "dynamic-class",
          "Process": "search-with-context",
          "component": "Slice-and-Dice",
          "t": 6,
          "user": "M2"
         },
         {
          "Feature": "dynamic-class",
          "Process": "search-with-context",
          "component": "Slice-and-Dice",
          "t": 6,
          "user": "M3"
         },
         {
          "Feature": "drag-and-drop",
          "Process": "bottom-up-querying",
          "component": "Result Querying",
          "t": 7,
          "user": "A1"
         },
         {
          "Feature": "change-metric",
          "Process": "top-down-querying",
          "component": "Match Specification",
          "t": 7,
          "user": "A3"
         },
         {
          "Feature": "drag-and-drop",
          "Process": "bottom-up-querying",
          "component": "Result Querying",
          "t": 7,
          "user": "G1"
         },
         {
          "Feature": "change-metric",
          "Process": "top-down-querying",
          "component": "Match Specification",
          "t": 8,
          "user": "G3"
         },
         {
          "Feature": "dynamic-class",
          "Process": "search-with-context",
          "component": "Slice-and-Dice",
          "t": 8,
          "user": "M2"
         },
         {
          "Feature": "change-axis",
          "Process": "search-with-context",
          "component": "View Specification",
          "t": 8,
          "user": "M3"
         },
         {
          "Feature": "filter",
          "Process": "search-with-context",
          "component": "Slice-and-Dice",
          "t": 9,
          "user": "A1"
         },
         {
          "Feature": "brush-xrange",
          "Process": "top-down-querying",
          "component": "Match Specification",
          "t": 9,
          "user": "A3"
         },
         {
          "Feature": "control-kmeans-clustersize",
          "Process": "bottom-up-querying",
          "component": "Recommendation",
          "t": 9,
          "user": "G3"
         },
         {
          "Feature": "brush-xrange",
          "Process": "top-down-querying",
          "component": "Match Specification",
          "t": 9,
          "user": "M1"
         },
         {
          "Feature": "filter",
          "Process": "search-with-context",
          "component": "Slice-and-Dice",
          "t": 10,
          "user": "A2"
         },
         {
          "Feature": "change-metric",
          "Process": "top-down-querying",
          "component": "Match Specification",
          "t": 10,
          "user": "A3"
         },
         {
          "Feature": "drag-and-drop",
          "Process": "bottom-up-querying",
          "component": "Result Querying",
          "t": 10,
          "user": "G2"
         },
         {
          "Feature": "representative-outlier",
          "Process": "bottom-up-querying",
          "component": "Recommendation",
          "t": 10,
          "user": "G3"
         },
         {
          "Feature": "change-axis",
          "Process": "search-with-context",
          "component": "View Specification",
          "t": 10,
          "user": "M1"
         },
         {
          "Feature": "drag-and-drop",
          "Process": "bottom-up-querying",
          "component": "Result Querying",
          "t": 10,
          "user": "M3"
         },
         {
          "Feature": "drag-and-drop",
          "Process": "bottom-up-querying",
          "component": "Result Querying",
          "t": 11,
          "user": "G1"
         },
         {
          "Feature": "dynamic-class",
          "Process": "search-with-context",
          "component": "Slice-and-Dice",
          "t": 11,
          "user": "M3"
         },
         {
          "Feature": "representative-outlier",
          "Process": "bottom-up-querying",
          "component": "Recommendation",
          "t": 12,
          "user": "A2"
         },
         {
          "Feature": "change-metric",
          "Process": "top-down-querying",
          "component": "Match Specification",
          "t": 12,
          "user": "A3"
         },
         {
          "Feature": "min-similarity-cutoff",
          "Process": "top-down-querying",
          "component": "Match Specification",
          "t": 12,
          "user": "G1"
         },
         {
          "Feature": "filter",
          "Process": "search-with-context",
          "component": "Slice-and-Dice",
          "t": 12,
          "user": "G2"
         },
         {
          "Feature": "drag-and-drop",
          "Process": "bottom-up-querying",
          "component": "Result Querying",
          "t": 12,
          "user": "G3"
         },
         {
          "Feature": "representative-outlier",
          "Process": "bottom-up-querying",
          "component": "Recommendation",
          "t": 12,
          "user": "M1"
         },
         {
          "Feature": "drag-and-drop",
          "Process": "bottom-up-querying",
          "component": "Result Querying",
          "t": 13,
          "user": "A2"
         },
         {
          "Feature": "brush-xrange",
          "Process": "top-down-querying",
          "component": "Match Specification",
          "t": 13,
          "user": "G1"
         },
         {
          "Feature": "change-metric",
          "Process": "top-down-querying",
          "component": "Match Specification",
          "t": 13,
          "user": "M3"
         },
         {
          "Feature": "change-number-of-results",
          "Process": "top-down-querying",
          "component": "Match Specification",
          "t": 14,
          "user": "A2"
         },
         {
          "Feature": "dynamic-class",
          "Process": "search-with-context",
          "component": "Slice-and-Dice",
          "t": 14,
          "user": "M2"
         },
         {
          "Feature": "filter",
          "Process": "search-with-context",
          "component": "Slice-and-Dice",
          "t": 15,
          "user": "A3"
         },
         {
          "Feature": "show-scatter",
          "Process": "search-with-context",
          "component": "View Specification",
          "t": 15,
          "user": "G2"
         },
         {
          "Feature": "dynamic-class",
          "Process": "search-with-context",
          "component": "Slice-and-Dice",
          "t": 15,
          "user": "M1"
         },
         {
          "Feature": "drag-and-drop",
          "Process": "bottom-up-querying",
          "component": "Result Querying",
          "t": 15,
          "user": "M3"
         },
         {
          "Feature": "reverse-y",
          "Process": "search-with-context",
          "component": "View Specification",
          "t": 16,
          "user": "A1"
         },
         {
          "Feature": "filter",
          "Process": "search-with-context",
          "component": "Slice-and-Dice",
          "t": 16,
          "user": "A2"
         },
         {
          "Feature": "control-kmeans-clustersize",
          "Process": "bottom-up-querying",
          "component": "Recommendation",
          "t": 16,
          "user": "G1"
         },
         {
          "Feature": "representative-outlier",
          "Process": "bottom-up-querying",
          "component": "Recommendation",
          "t": 17,
          "user": "G3"
         },
         {
          "Feature": "sketch-to-query",
          "Process": "top-down-querying",
          "component": "Pattern Specification",
          "t": 17,
          "user": "M2"
         },
         {
          "Feature": "representative-outlier",
          "Process": "bottom-up-querying",
          "component": "Recommendation",
          "t": 18,
          "user": "A2"
         },
         {
          "Feature": "filter",
          "Process": "search-with-context",
          "component": "Slice-and-Dice",
          "t": 18,
          "user": "A3"
         },
         {
          "Feature": "sketch-to-query",
          "Process": "top-down-querying",
          "component": "Pattern Specification",
          "t": 18,
          "user": "G2"
         },
         {
          "Feature": "change-axis",
          "Process": "search-with-context",
          "component": "View Specification",
          "t": 18,
          "user": "M3"
         },
         {
          "Feature": "drag-and-drop",
          "Process": "bottom-up-querying",
          "component": "Result Querying",
          "t": 19,
          "user": "A2"
         },
         {
          "Feature": "drag-and-drop",
          "Process": "bottom-up-querying",
          "component": "Result Querying",
          "t": 19,
          "user": "G1"
         },
         {
          "Feature": "ignore-xrange",
          "Process": "top-down-querying",
          "component": "Match Specification",
          "t": 19,
          "user": "G3"
         },
         {
          "Feature": "filter",
          "Process": "search-with-context",
          "component": "Slice-and-Dice",
          "t": 19,
          "user": "M1"
         },
         {
          "Feature": "sketch-to-modify",
          "Process": "top-down-querying",
          "component": "Pattern Specification",
          "t": 19,
          "user": "M2"
         },
         {
          "Feature": "sketch-to-query",
          "Process": "top-down-querying",
          "component": "Pattern Specification",
          "t": 19,
          "user": "M3"
         },
         {
          "Feature": "drag-and-drop",
          "Process": "bottom-up-querying",
          "component": "Result Querying",
          "t": 20,
          "user": "A1"
         },
         {
          "Feature": "change-number-of-results",
          "Process": "top-down-querying",
          "component": "Match Specification",
          "t": 20,
          "user": "A2"
         },
         {
          "Feature": "drag-and-drop",
          "Process": "bottom-up-querying",
          "component": "Result Querying",
          "t": 20,
          "user": "G1"
         },
         {
          "Feature": "sketch-to-query",
          "Process": "top-down-querying",
          "component": "Pattern Specification",
          "t": 20,
          "user": "M1"
         },
         {
          "Feature": "sketch-to-modify",
          "Process": "top-down-querying",
          "component": "Pattern Specification",
          "t": 20,
          "user": "M3"
         },
         {
          "Feature": "change-axis",
          "Process": "search-with-context",
          "component": "View Specification",
          "t": 21,
          "user": "A3"
         },
         {
          "Feature": "ignore-xrange",
          "Process": "top-down-querying",
          "component": "Match Specification",
          "t": 21,
          "user": "G2"
         },
         {
          "Feature": "show-scatter",
          "Process": "search-with-context",
          "component": "View Specification",
          "t": 21,
          "user": "M1"
         },
         {
          "Feature": "change-axis",
          "Process": "search-with-context",
          "component": "View Specification",
          "t": 21,
          "user": "M2"
         },
         {
          "Feature": "filter",
          "Process": "search-with-context",
          "component": "Slice-and-Dice",
          "t": 22,
          "user": "A1"
         },
         {
          "Feature": "filter",
          "Process": "search-with-context",
          "component": "Slice-and-Dice",
          "t": 22,
          "user": "A2"
         },
         {
          "Feature": "control-kmeans-clustersize",
          "Process": "bottom-up-querying",
          "component": "Recommendation",
          "t": 22,
          "user": "G1"
         },
         {
          "Feature": "sketch-to-query",
          "Process": "top-down-querying",
          "component": "Pattern Specification",
          "t": 22,
          "user": "G2"
         },
         {
          "Feature": "sketch-to-modify",
          "Process": "top-down-querying",
          "component": "Pattern Specification",
          "t": 22,
          "user": "M2"
         },
         {
          "Feature": "filter",
          "Process": "search-with-context",
          "component": "Slice-and-Dice",
          "t": 23,
          "user": "A3"
         },
         {
          "Feature": "filter",
          "Process": "search-with-context",
          "component": "Slice-and-Dice",
          "t": 23,
          "user": "G2"
         },
         {
          "Feature": "drag-and-drop",
          "Process": "bottom-up-querying",
          "component": "Result Querying",
          "t": 23,
          "user": "M2"
         },
         {
          "Feature": "drag-and-drop",
          "Process": "bottom-up-querying",
          "component": "Result Querying",
          "t": 23,
          "user": "M3"
         },
         {
          "Feature": "filter",
          "Process": "search-with-context",
          "component": "Slice-and-Dice",
          "t": 24,
          "user": "A1"
         },
         {
          "Feature": "representative-outlier",
          "Process": "bottom-up-querying",
          "component": "Recommendation",
          "t": 24,
          "user": "A2"
         },
         {
          "Feature": "filter",
          "Process": "search-with-context",
          "component": "Slice-and-Dice",
          "t": 24,
          "user": "M1"
         },
         {
          "Feature": "sketch-to-modify",
          "Process": "top-down-querying",
          "component": "Pattern Specification",
          "t": 24,
          "user": "M2"
         },
         {
          "Feature": "drag-and-drop",
          "Process": "bottom-up-querying",
          "component": "Result Querying",
          "t": 25,
          "user": "A2"
         },
         {
          "Feature": "filter",
          "Process": "search-with-context",
          "component": "Slice-and-Dice",
          "t": 25,
          "user": "G2"
         },
         {
          "Feature": "filter",
          "Process": "search-with-context",
          "component": "Slice-and-Dice",
          "t": 25,
          "user": "M1"
         },
         {
          "Feature": "change-number-of-results",
          "Process": "top-down-querying",
          "component": "Match Specification",
          "t": 26,
          "user": "A2"
         },
         {
          "Feature": "change-axis",
          "Process": "search-with-context",
          "component": "View Specification",
          "t": 26,
          "user": "A3"
         },
         {
          "Feature": "filter",
          "Process": "search-with-context",
          "component": "Slice-and-Dice",
          "t": 26,
          "user": "M1"
         },
         {
          "Feature": "filter",
          "Process": "search-with-context",
          "component": "Slice-and-Dice",
          "t": 27,
          "user": "G2"
         },
         {
          "Feature": "drag-and-drop",
          "Process": "bottom-up-querying",
          "component": "Result Querying",
          "t": 27,
          "user": "M2"
         },
         {
          "Feature": "sketch-to-modify",
          "Process": "top-down-querying",
          "component": "Pattern Specification",
          "t": 28,
          "user": "M2"
         },
         {
          "Feature": "change-axis",
          "Process": "search-with-context",
          "component": "View Specification",
          "t": 28,
          "user": "M3"
         },
         {
          "Feature": "brush-xrange",
          "Process": "top-down-querying",
          "component": "Match Specification",
          "t": 29,
          "user": "A1"
         },
         {
          "Feature": "input-equation",
          "Process": "top-down-querying",
          "component": "Pattern Specification",
          "t": 29,
          "user": "A3"
         },
         {
          "Feature": "filter",
          "Process": "search-with-context",
          "component": "Slice-and-Dice",
          "t": 29,
          "user": "G2"
         },
         {
          "Feature": "representative-outlier",
          "Process": "bottom-up-querying",
          "component": "Recommendation",
          "t": 31,
          "user": "G2"
         },
         {
          "Feature": "smoothing",
          "Process": "top-down-querying",
          "component": "Match Specification",
          "t": 33,
          "user": "G2"
         },
         {
          "Feature": "dynamic-class",
          "Process": "search-with-context",
          "component": "Slice-and-Dice",
          "t": 33,
          "user": "M2"
         },
         {
          "Feature": "dynamic-class",
          "Process": "search-with-context",
          "component": "Slice-and-Dice",
          "t": 34,
          "user": "A2"
         },
         {
          "Feature": "smoothing",
          "Process": "top-down-querying",
          "component": "Match Specification",
          "t": 34,
          "user": "G2"
         },
         {
          "Feature": "filter",
          "Process": "search-with-context",
          "component": "Slice-and-Dice",
          "t": 36,
          "user": "A1"
         },
         {
          "Feature": "pattern-upload",
          "Process": "top-down-querying",
          "component": "Pattern Specification",
          "t": 36,
          "user": "G2"
         },
         {
          "Feature": "representative-outlier",
          "Process": "bottom-up-querying",
          "component": "Recommendation",
          "t": 36,
          "user": "M2"
         },
         {
          "Feature": "filter",
          "Process": "search-with-context",
          "component": "Slice-and-Dice",
          "t": 37,
          "user": "A1"
         },
         {
          "Feature": "change-axis",
          "Process": "search-with-context",
          "component": "View Specification",
          "t": 37,
          "user": "A2"
         },
         {
          "Feature": "filter",
          "Process": "search-with-context",
          "component": "Slice-and-Dice",
          "t": 37,
          "user": "M2"
         },
         {
          "Feature": "ignore-xrange",
          "Process": "top-down-querying",
          "component": "Match Specification",
          "t": 38,
          "user": "A2"
         },
         {
          "Feature": "smoothing",
          "Process": "top-down-querying",
          "component": "Match Specification",
          "t": 39,
          "user": "A1"
         },
         {
          "Feature": "filter",
          "Process": "search-with-context",
          "component": "Slice-and-Dice",
          "t": 39,
          "user": "G2"
         },
         {
          "Feature": "change-axis",
          "Process": "search-with-context",
          "component": "View Specification",
          "t": 39,
          "user": "M2"
         },
         {
          "Feature": "sketch-to-query",
          "Process": "top-down-querying",
          "component": "Pattern Specification",
          "t": 40,
          "user": "A1"
         },
         {
          "Feature": "drag-and-drop",
          "Process": "bottom-up-querying",
          "component": "Result Querying",
          "t": 40,
          "user": "G2"
         },
         {
          "Feature": "sketch-to-query",
          "Process": "top-down-querying",
          "component": "Pattern Specification",
          "t": 41,
          "user": "A1"
         },
         {
          "Feature": "filter",
          "Process": "search-with-context",
          "component": "Slice-and-Dice",
          "t": 42,
          "user": "A1"
         },
         {
          "Feature": "drag-and-drop",
          "Process": "bottom-up-querying",
          "component": "Result Querying",
          "t": 44,
          "user": "A2"
         },
         {
          "Feature": "representative-outlier",
          "Process": "bottom-up-querying",
          "component": "Recommendation",
          "t": 44,
          "user": "G2"
         },
         {
          "Feature": "brush-xrange",
          "Process": "top-down-querying",
          "component": "Match Specification",
          "t": 46,
          "user": "A2"
         },
         {
          "Feature": "brush-xrange",
          "Process": "top-down-querying",
          "component": "Match Specification",
          "t": 48,
          "user": "G2"
         },
         {
          "Feature": "dynamic-class",
          "Process": "search-with-context",
          "component": "Slice-and-Dice",
          "t": 50,
          "user": "A1"
         },
         {
          "Feature": "upload-dataset",
          "Process": "top-down-querying",
          "component": "Pattern Specification",
          "t": 50,
          "user": "G2"
         },
         {
          "Feature": "dynamic-class",
          "Process": "search-with-context",
          "component": "Slice-and-Dice",
          "t": 51,
          "user": "A1"
         },
         {
          "Feature": "smoothing",
          "Process": "top-down-querying",
          "component": "Match Specification",
          "t": 51,
          "user": "G2"
         },
         {
          "Feature": "control-kmeans-clustersize",
          "Process": "bottom-up-querying",
          "component": "Recommendation",
          "t": 52,
          "user": "G2"
         },
         {
          "Feature": "dynamic-class",
          "Process": "search-with-context",
          "component": "Slice-and-Dice",
          "t": 53,
          "user": "A1"
         },
         {
          "Feature": "representative-outlier",
          "Process": "bottom-up-querying",
          "component": "Recommendation",
          "t": 53,
          "user": "G2"
         },
         {
          "Feature": "filter",
          "Process": "search-with-context",
          "component": "Slice-and-Dice",
          "t": 55,
          "user": "A1"
         },
         {
          "Feature": "pattern-upload",
          "Process": "top-down-querying",
          "component": "Pattern Specification",
          "t": 58,
          "user": "A1"
         },
         {
          "Feature": "dynamic-class",
          "Process": "search-with-context",
          "component": "Slice-and-Dice",
          "t": 61,
          "user": "A1"
         },
         {
          "Feature": "filter",
          "Process": "search-with-context",
          "component": "Slice-and-Dice",
          "t": 63,
          "user": "A1"
         },
         {
          "Feature": "pattern-upload",
          "Process": "top-down-querying",
          "component": "Pattern Specification",
          "t": 66,
          "user": "A1"
         }
        ]
       },
       "layer": [
        {
         "data": {
          "name": "data-787beb49523e5034d6512e2cf656b061"
         },
         "encoding": {
          "color": {
           "field": "Process",
           "sort": [
            "top-down-querying",
            "search-with-context",
            "bottom-up-querying",
            "recommendation"
           ],
           "type": "nominal"
          },
          "x": {
           "field": "t",
           "type": "quantitative"
          },
          "y": {
           "field": "user",
           "type": "nominal"
          }
         },
         "mark": "circle"
        },
        {
         "data": {
          "name": "data-37a36f38c40d5a57d4bd1e4da3ff65dd"
         },
         "encoding": {
          "x": {
           "field": "t",
           "type": "quantitative"
          },
          "y": {
           "field": "user",
           "type": "nominal"
          }
         },
         "mark": {
          "color": "black",
          "thickness": 2,
          "type": "tick"
         }
        },
        {
         "data": {
          "name": "data-0384c290eb7d61cb6d3b63ec2c1a25e7"
         },
         "encoding": {
          "shape": {
           "field": "Action",
           "type": "nominal"
          },
          "x": {
           "field": "t",
           "title": "Timepoint",
           "type": "quantitative"
          },
          "y": {
           "field": "user",
           "title": "Participant",
           "type": "nominal"
          }
         },
         "mark": {
          "color": "red",
          "shape": "diamond",
          "type": "point"
         }
        }
       ],
       "title": "Evaluation Study Event Timeline Breakdown by Process"
      },
      "image/png": "[encoded data removed]",
      "text/plain": [
       "<VegaLite 2 object>\n",
       "\n",
       "If you see this message, it means the renderer has not been properly enabled\n",
       "for the frontend that you are using. For more information, see\n",
       "https://altair-viz.github.io/user_guide/troubleshooting.html\n"
      ]
     },
     "execution_count": 20,
     "metadata": {},
     "output_type": "execute_result"
    }
   ],
   "source": [
    "chart = process_chart+ break_chart + insight_chart\n",
    "chart.title=\"Evaluation Study Event Timeline Breakdown by Process\"\n",
    "chart"
   ]
  },
  {
   "cell_type": "markdown",
   "metadata": {},
   "source": [
    "- Top-down querying alone does not lead to insights. We see a lot of sessions where people try top-down querying then give up without discovering an insight. Even when there is top-down querying performed sucessfully, it is often because it was associated with a search with context, or used for sketch modification on a drag-and-dropped visualization."
   ]
  },
  {
   "cell_type": "markdown",
   "metadata": {},
   "source": [
    "# Statistics"
   ]
  },
  {
   "cell_type": "code",
   "execution_count": 21,
   "metadata": {},
   "outputs": [
    {
     "name": "stdout",
     "output_type": "stream",
     "text": [
      "Total number of sessions: 50\n"
     ]
    }
   ],
   "source": [
    "print (\"Total number of sessions:\", len(df[df[\"action\"]==\"BR\"]))"
   ]
  },
  {
   "cell_type": "code",
   "execution_count": 22,
   "metadata": {},
   "outputs": [],
   "source": [
    "df['subject'] = df['user'].apply(lambda x: {'A':'astro', 'G':'genetics', 'M':'material science'}[x[0]])"
   ]
  },
  {
   "cell_type": "code",
   "execution_count": 23,
   "metadata": {},
   "outputs": [
    {
     "data": {
      "text/html": [
       "<div>\n",
       "<style scoped>\n",
       "    .dataframe tbody tr th:only-of-type {\n",
       "        vertical-align: middle;\n",
       "    }\n",
       "\n",
       "    .dataframe tbody tr th {\n",
       "        vertical-align: top;\n",
       "    }\n",
       "\n",
       "    .dataframe thead th {\n",
       "        text-align: right;\n",
       "    }\n",
       "</style>\n",
       "<table border=\"1\" class=\"dataframe\">\n",
       "  <thead>\n",
       "    <tr style=\"text-align: right;\">\n",
       "      <th></th>\n",
       "      <th>0</th>\n",
       "      <th>1</th>\n",
       "      <th>2</th>\n",
       "    </tr>\n",
       "  </thead>\n",
       "  <tbody>\n",
       "    <tr>\n",
       "      <th>subject</th>\n",
       "      <td>astro</td>\n",
       "      <td>genetics</td>\n",
       "      <td>material science</td>\n",
       "    </tr>\n",
       "    <tr>\n",
       "      <th>Number of Sessions</th>\n",
       "      <td>19</td>\n",
       "      <td>17</td>\n",
       "      <td>14</td>\n",
       "    </tr>\n",
       "  </tbody>\n",
       "</table>\n",
       "</div>"
      ],
      "text/plain": [
       "                        0         1                 2\n",
       "subject             astro  genetics  material science\n",
       "Number of Sessions     19        17                14"
      ]
     },
     "execution_count": 23,
     "metadata": {},
     "output_type": "execute_result"
    }
   ],
   "source": [
    "df[df[\"action\"]==\"BR\"].groupby(\"subject\").count().reset_index()[[\"subject\",\"t\"]].rename(columns={\"t\":\"Number of Sessions\"}).transpose()"
   ]
  },
  {
   "cell_type": "code",
   "execution_count": 24,
   "metadata": {},
   "outputs": [],
   "source": [
    "df = df_feature"
   ]
  },
  {
   "cell_type": "code",
   "execution_count": 25,
   "metadata": {},
   "outputs": [],
   "source": [
    "df['subject'] = df['user'].apply(lambda x: {'A':'astro', 'G':'genetics', 'M':'material science'}[x[0]])"
   ]
  },
  {
   "cell_type": "code",
   "execution_count": 26,
   "metadata": {},
   "outputs": [],
   "source": [
    "df_frequency_by_subject_feature = df.groupby([\"subject\",\"Feature\"]).count()[\"t\"].reset_index().rename(columns={\"t\":\"Usage Frequency\"})"
   ]
  },
  {
   "cell_type": "code",
   "execution_count": 27,
   "metadata": {},
   "outputs": [
    {
     "data": {
      "application/vnd.vegalite.v2+json": {
       "$schema": "https://vega.github.io/schema/vega-lite/v2.6.0.json",
       "config": {
        "view": {
         "height": 300,
         "width": 400
        }
       },
       "data": {
        "name": "data-a0caa11de133f34ea9f701677f0cdb88"
       },
       "datasets": {
        "data-a0caa11de133f34ea9f701677f0cdb88": [
         {
          "Feature": "brush-xrange",
          "Usage Frequency": 3,
          "subject": "astro"
         },
         {
          "Feature": "change-axis",
          "Usage Frequency": 3,
          "subject": "astro"
         },
         {
          "Feature": "change-metric",
          "Usage Frequency": 3,
          "subject": "astro"
         },
         {
          "Feature": "change-number-of-results",
          "Usage Frequency": 3,
          "subject": "astro"
         },
         {
          "Feature": "drag-and-drop",
          "Usage Frequency": 10,
          "subject": "astro"
         },
         {
          "Feature": "dynamic-class",
          "Usage Frequency": 5,
          "subject": "astro"
         },
         {
          "Feature": "filter",
          "Usage Frequency": 19,
          "subject": "astro"
         },
         {
          "Feature": "ignore-xrange",
          "Usage Frequency": 3,
          "subject": "astro"
         },
         {
          "Feature": "input-equation",
          "Usage Frequency": 1,
          "subject": "astro"
         },
         {
          "Feature": "pattern-upload",
          "Usage Frequency": 2,
          "subject": "astro"
         },
         {
          "Feature": "representative-outlier",
          "Usage Frequency": 4,
          "subject": "astro"
         },
         {
          "Feature": "reverse-y",
          "Usage Frequency": 1,
          "subject": "astro"
         },
         {
          "Feature": "sketch-to-modify",
          "Usage Frequency": 1,
          "subject": "astro"
         },
         {
          "Feature": "sketch-to-query",
          "Usage Frequency": 2,
          "subject": "astro"
         },
         {
          "Feature": "smoothing",
          "Usage Frequency": 1,
          "subject": "astro"
         },
         {
          "Feature": "brush-xrange",
          "Usage Frequency": 2,
          "subject": "genetics"
         },
         {
          "Feature": "change-metric",
          "Usage Frequency": 1,
          "subject": "genetics"
         },
         {
          "Feature": "control-kmeans-clustersize",
          "Usage Frequency": 7,
          "subject": "genetics"
         },
         {
          "Feature": "drag-and-drop",
          "Usage Frequency": 7,
          "subject": "genetics"
         },
         {
          "Feature": "filter",
          "Usage Frequency": 7,
          "subject": "genetics"
         },
         {
          "Feature": "ignore-xrange",
          "Usage Frequency": 2,
          "subject": "genetics"
         },
         {
          "Feature": "min-similarity-cutoff",
          "Usage Frequency": 1,
          "subject": "genetics"
         },
         {
          "Feature": "pattern-upload",
          "Usage Frequency": 1,
          "subject": "genetics"
         },
         {
          "Feature": "representative-outlier",
          "Usage Frequency": 11,
          "subject": "genetics"
         },
         {
          "Feature": "show-scatter",
          "Usage Frequency": 2,
          "subject": "genetics"
         },
         {
          "Feature": "sketch-to-query",
          "Usage Frequency": 2,
          "subject": "genetics"
         },
         {
          "Feature": "smoothing",
          "Usage Frequency": 3,
          "subject": "genetics"
         },
         {
          "Feature": "upload-dataset",
          "Usage Frequency": 2,
          "subject": "genetics"
         },
         {
          "Feature": "brush-xrange",
          "Usage Frequency": 1,
          "subject": "material science"
         },
         {
          "Feature": "change-axis",
          "Usage Frequency": 8,
          "subject": "material science"
         },
         {
          "Feature": "change-metric",
          "Usage Frequency": 1,
          "subject": "material science"
         },
         {
          "Feature": "drag-and-drop",
          "Usage Frequency": 5,
          "subject": "material science"
         },
         {
          "Feature": "dynamic-class",
          "Usage Frequency": 12,
          "subject": "material science"
         },
         {
          "Feature": "filter",
          "Usage Frequency": 5,
          "subject": "material science"
         },
         {
          "Feature": "ignore-xrange",
          "Usage Frequency": 1,
          "subject": "material science"
         },
         {
          "Feature": "representative-outlier",
          "Usage Frequency": 2,
          "subject": "material science"
         },
         {
          "Feature": "show-scatter",
          "Usage Frequency": 3,
          "subject": "material science"
         },
         {
          "Feature": "sketch-to-modify",
          "Usage Frequency": 5,
          "subject": "material science"
         },
         {
          "Feature": "sketch-to-query",
          "Usage Frequency": 4,
          "subject": "material science"
         }
        ]
       },
       "encoding": {
        "color": {
         "field": "subject",
         "type": "nominal"
        },
        "x": {
         "field": "Usage Frequency",
         "type": "quantitative"
        },
        "y": {
         "field": "Feature",
         "sort": [
          "sketch-to-query",
          "sketch-to-modify",
          "input-equation",
          "smoothing",
          "ignore-xrange",
          "brush-xrange",
          "filter",
          "dynamic-class",
          "pattern-upload",
          "drag-and-drop",
          "representative-outlier",
          "change-axis",
          "change-metric",
          "change-number-of-results",
          "control-kmeans-clustersize",
          "min-similarity-cutoff",
          "show-scatter",
          "upload-dataset",
          "reverse-y"
         ],
         "type": "nominal"
        }
       },
       "mark": "bar"
      },
      "image/png": "[encoded data removed]",
      "text/plain": [
       "<VegaLite 2 object>\n",
       "\n",
       "If you see this message, it means the renderer has not been properly enabled\n",
       "for the frontend that you are using. For more information, see\n",
       "https://altair-viz.github.io/user_guide/troubleshooting.html\n"
      ]
     },
     "execution_count": 27,
     "metadata": {},
     "output_type": "execute_result"
    }
   ],
   "source": [
    "alt.Chart(df_frequency_by_subject_feature).mark_bar().encode(\n",
    "    alt.X(\"Usage Frequency\"),\n",
    "    alt.Y(\"Feature\",sort= ['sketch-to-query','sketch-to-modify','input-equation','smoothing','ignore-xrange','brush-xrange',\n",
    "                          'filter','dynamic-class','pattern-upload','drag-and-drop','representative-outlier',\n",
    "                          'change-axis', 'change-metric','change-number-of-results','control-kmeans-clustersize', 'min-similarity-cutoff','show-scatter', 'upload-dataset','reverse-y']),\n",
    "    color = \"subject\"\n",
    ")"
   ]
  },
  {
   "cell_type": "code",
   "execution_count": 28,
   "metadata": {},
   "outputs": [],
   "source": [
    "df_component = df\n",
    "df_component[\"Component\"] = df[\"Feature\"].replace(component_dict)\n",
    "\n",
    "df_frequency_by_subject_feature = df.groupby([\"subject\",\"Component\"]).count()[\"t\"].reset_index().rename(columns={\"t\":\"Usage Frequency\"})\n",
    "\n",
    "# df_frequency_by_subject_feature = df_frequency_by_subject_feature[df_frequency_by_subject_feature[\"Component\"]!=\"control\"]"
   ]
  },
  {
   "cell_type": "code",
   "execution_count": 29,
   "metadata": {},
   "outputs": [
    {
     "data": {
      "application/vnd.vegalite.v2+json": {
       "$schema": "https://vega.github.io/schema/vega-lite/v2.6.0.json",
       "config": {
        "view": {
         "height": 300,
         "width": 400
        }
       },
       "data": {
        "name": "data-9bfb131e059b0a054d434e672bb22492"
       },
       "datasets": {
        "data-9bfb131e059b0a054d434e672bb22492": [
         {
          "Component": "Match Specification",
          "Usage Frequency": 13,
          "subject": "astro"
         },
         {
          "Component": "Pattern Specification",
          "Usage Frequency": 6,
          "subject": "astro"
         },
         {
          "Component": "Recommendation",
          "Usage Frequency": 4,
          "subject": "astro"
         },
         {
          "Component": "Result Querying",
          "Usage Frequency": 10,
          "subject": "astro"
         },
         {
          "Component": "Slice-and-Dice",
          "Usage Frequency": 24,
          "subject": "astro"
         },
         {
          "Component": "View Specification",
          "Usage Frequency": 4,
          "subject": "astro"
         },
         {
          "Component": "Match Specification",
          "Usage Frequency": 9,
          "subject": "genetics"
         },
         {
          "Component": "Pattern Specification",
          "Usage Frequency": 5,
          "subject": "genetics"
         },
         {
          "Component": "Recommendation",
          "Usage Frequency": 18,
          "subject": "genetics"
         },
         {
          "Component": "Result Querying",
          "Usage Frequency": 7,
          "subject": "genetics"
         },
         {
          "Component": "Slice-and-Dice",
          "Usage Frequency": 7,
          "subject": "genetics"
         },
         {
          "Component": "View Specification",
          "Usage Frequency": 2,
          "subject": "genetics"
         },
         {
          "Component": "Match Specification",
          "Usage Frequency": 3,
          "subject": "material science"
         },
         {
          "Component": "Pattern Specification",
          "Usage Frequency": 9,
          "subject": "material science"
         },
         {
          "Component": "Recommendation",
          "Usage Frequency": 2,
          "subject": "material science"
         },
         {
          "Component": "Result Querying",
          "Usage Frequency": 5,
          "subject": "material science"
         },
         {
          "Component": "Slice-and-Dice",
          "Usage Frequency": 17,
          "subject": "material science"
         },
         {
          "Component": "View Specification",
          "Usage Frequency": 11,
          "subject": "material science"
         }
        ]
       },
       "encoding": {
        "color": {
         "field": "subject",
         "type": "nominal"
        },
        "x": {
         "field": "Usage Frequency",
         "type": "quantitative"
        },
        "y": {
         "field": "Component",
         "sort": [
          "Pattern Specification",
          "Match Specification",
          "View Specification",
          "Slice-and-Dice",
          "Result Querying",
          "Recommendation"
         ],
         "type": "nominal"
        }
       },
       "mark": "bar"
      },
      "image/png": "[encoded data removed]",
      "text/plain": [
       "<VegaLite 2 object>\n",
       "\n",
       "If you see this message, it means the renderer has not been properly enabled\n",
       "for the frontend that you are using. For more information, see\n",
       "https://altair-viz.github.io/user_guide/troubleshooting.html\n"
      ]
     },
     "execution_count": 29,
     "metadata": {},
     "output_type": "execute_result"
    }
   ],
   "source": [
    "alt.Chart(df_frequency_by_subject_feature).mark_bar().encode(\n",
    "    alt.X(\"Usage Frequency\"),\n",
    "    alt.Y(\"Component\",sort=['Pattern Specification','Match Specification','View Specification','Slice-and-Dice','Result Querying','Recommendation']),\n",
    "    color = \"subject\"\n",
    ")"
   ]
  },
  {
   "cell_type": "code",
   "execution_count": 30,
   "metadata": {},
   "outputs": [],
   "source": [
    "df_process = df_component\n",
    "df_process[\"Process\"] = df_component[\"Component\"].replace(component_to_process)"
   ]
  },
  {
   "cell_type": "code",
   "execution_count": 31,
   "metadata": {},
   "outputs": [],
   "source": [
    "df_frequency_by_subject_feature = df.groupby([\"subject\",\"Process\"]).count()[\"t\"].reset_index().rename(columns={\"t\":\"Usage Frequency\"})"
   ]
  },
  {
   "cell_type": "code",
   "execution_count": 32,
   "metadata": {},
   "outputs": [],
   "source": [
    "df_frequency_by_subject_feature = df_frequency_by_subject_feature[df_frequency_by_subject_feature[\"Process\"]!=\"others\"]"
   ]
  },
  {
   "cell_type": "code",
   "execution_count": 34,
   "metadata": {},
   "outputs": [
    {
     "data": {
      "application/vnd.vegalite.v2+json": {
       "$schema": "https://vega.github.io/schema/vega-lite/v2.6.0.json",
       "config": {
        "view": {
         "height": 300,
         "width": 400
        }
       },
       "data": {
        "name": "data-58f76a823e9c1ded75aa1b504c76ffe7"
       },
       "datasets": {
        "data-58f76a823e9c1ded75aa1b504c76ffe7": [
         {
          "Process": "bottom-up-querying",
          "Usage Frequency": 14,
          "subject": "astro"
         },
         {
          "Process": "search-with-context",
          "Usage Frequency": 28,
          "subject": "astro"
         },
         {
          "Process": "top-down-querying",
          "Usage Frequency": 19,
          "subject": "astro"
         },
         {
          "Process": "bottom-up-querying",
          "Usage Frequency": 25,
          "subject": "genetics"
         },
         {
          "Process": "search-with-context",
          "Usage Frequency": 9,
          "subject": "genetics"
         },
         {
          "Process": "top-down-querying",
          "Usage Frequency": 14,
          "subject": "genetics"
         },
         {
          "Process": "bottom-up-querying",
          "Usage Frequency": 7,
          "subject": "material science"
         },
         {
          "Process": "search-with-context",
          "Usage Frequency": 28,
          "subject": "material science"
         },
         {
          "Process": "top-down-querying",
          "Usage Frequency": 12,
          "subject": "material science"
         }
        ]
       },
       "encoding": {
        "color": {
         "field": "subject",
         "type": "nominal"
        },
        "x": {
         "field": "Usage Frequency",
         "type": "quantitative"
        },
        "y": {
         "field": "Process",
         "sort": [
          "top-down-querying",
          "search-with-context",
          "bottom-up-querying",
          "recommendation"
         ],
         "type": "nominal"
        }
       },
       "mark": "bar"
      },
      "image/png": "[encoded data removed]",
      "text/plain": [
       "<VegaLite 2 object>\n",
       "\n",
       "If you see this message, it means the renderer has not been properly enabled\n",
       "for the frontend that you are using. For more information, see\n",
       "https://altair-viz.github.io/user_guide/troubleshooting.html\n"
      ]
     },
     "execution_count": 34,
     "metadata": {},
     "output_type": "execute_result"
    }
   ],
   "source": [
    "alt.Chart(df_frequency_by_subject_feature).mark_bar().encode(\n",
    "    alt.X(\"Usage Frequency\"),\n",
    "    alt.Y(\"Process\",sort=[td,sc,bu,rec]),\n",
    "    alt.Color(\"subject\")\n",
    ")"
   ]
  },
  {
   "cell_type": "markdown",
   "metadata": {},
   "source": [
    "Most of the contribution of top-down querying is coming from changing metric, brush x-range, ignore-xrange, not just the sketching portion. "
   ]
  },
  {
   "cell_type": "code",
   "execution_count": 42,
   "metadata": {},
   "outputs": [
    {
     "data": {
      "text/html": [
       "<div>\n",
       "<style scoped>\n",
       "    .dataframe tbody tr th:only-of-type {\n",
       "        vertical-align: middle;\n",
       "    }\n",
       "\n",
       "    .dataframe tbody tr th {\n",
       "        vertical-align: top;\n",
       "    }\n",
       "\n",
       "    .dataframe thead th {\n",
       "        text-align: right;\n",
       "    }\n",
       "</style>\n",
       "<table border=\"1\" class=\"dataframe\">\n",
       "  <thead>\n",
       "    <tr style=\"text-align: right;\">\n",
       "      <th></th>\n",
       "      <th>0</th>\n",
       "      <th>1</th>\n",
       "      <th>2</th>\n",
       "      <th>3</th>\n",
       "      <th>4</th>\n",
       "      <th>5</th>\n",
       "      <th>6</th>\n",
       "      <th>7</th>\n",
       "      <th>8</th>\n",
       "      <th>9</th>\n",
       "      <th>10</th>\n",
       "    </tr>\n",
       "  </thead>\n",
       "  <tbody>\n",
       "    <tr>\n",
       "      <th>Feature</th>\n",
       "      <td>brush-xrange</td>\n",
       "      <td>change-metric</td>\n",
       "      <td>change-number-of-results</td>\n",
       "      <td>ignore-xrange</td>\n",
       "      <td>input-equation</td>\n",
       "      <td>min-similarity-cutoff</td>\n",
       "      <td>pattern-upload</td>\n",
       "      <td>sketch-to-modify</td>\n",
       "      <td>sketch-to-query</td>\n",
       "      <td>smoothing</td>\n",
       "      <td>upload-dataset</td>\n",
       "    </tr>\n",
       "    <tr>\n",
       "      <th>Usage Frequency</th>\n",
       "      <td>6</td>\n",
       "      <td>5</td>\n",
       "      <td>3</td>\n",
       "      <td>6</td>\n",
       "      <td>1</td>\n",
       "      <td>1</td>\n",
       "      <td>3</td>\n",
       "      <td>6</td>\n",
       "      <td>8</td>\n",
       "      <td>4</td>\n",
       "      <td>2</td>\n",
       "    </tr>\n",
       "  </tbody>\n",
       "</table>\n",
       "</div>"
      ],
      "text/plain": [
       "                           0              1                         2   \\\n",
       "Feature          brush-xrange  change-metric  change-number-of-results   \n",
       "Usage Frequency             6              5                         3   \n",
       "\n",
       "                            3               4                      5   \\\n",
       "Feature          ignore-xrange  input-equation  min-similarity-cutoff   \n",
       "Usage Frequency              6               1                      1   \n",
       "\n",
       "                             6                 7                8          9   \\\n",
       "Feature          pattern-upload  sketch-to-modify  sketch-to-query  smoothing   \n",
       "Usage Frequency               3                 6                8          4   \n",
       "\n",
       "                             10  \n",
       "Feature          upload-dataset  \n",
       "Usage Frequency               2  "
      ]
     },
     "execution_count": 42,
     "metadata": {},
     "output_type": "execute_result"
    }
   ],
   "source": [
    "df_process[df_process[\"Process\"]==\"top-down-querying\"].groupby(\"Feature\").count().rename(columns={\"t\":\"Usage Frequency\"}).reset_index()[[\"Feature\",\"Usage Frequency\"]].transpose()"
   ]
  },
  {
   "cell_type": "markdown",
   "metadata": {},
   "source": [
    "### Top k feature for each subject "
   ]
  },
  {
   "cell_type": "code",
   "execution_count": 43,
   "metadata": {},
   "outputs": [],
   "source": [
    "df_frequency_by_subject_feature = df.groupby([\"subject\",\"Feature\"]).count()[\"t\"].reset_index().rename(columns={\"t\":\"Usage Frequency\"})"
   ]
  },
  {
   "cell_type": "code",
   "execution_count": 44,
   "metadata": {},
   "outputs": [
    {
     "data": {
      "text/html": [
       "<div>\n",
       "<style scoped>\n",
       "    .dataframe tbody tr th:only-of-type {\n",
       "        vertical-align: middle;\n",
       "    }\n",
       "\n",
       "    .dataframe tbody tr th {\n",
       "        vertical-align: top;\n",
       "    }\n",
       "\n",
       "    .dataframe thead th {\n",
       "        text-align: right;\n",
       "    }\n",
       "</style>\n",
       "<table border=\"1\" class=\"dataframe\">\n",
       "  <thead>\n",
       "    <tr style=\"text-align: right;\">\n",
       "      <th></th>\n",
       "      <th>subject</th>\n",
       "      <th>Feature</th>\n",
       "      <th>Usage Frequency</th>\n",
       "    </tr>\n",
       "  </thead>\n",
       "  <tbody>\n",
       "    <tr>\n",
       "      <th>6</th>\n",
       "      <td>astro</td>\n",
       "      <td>filter</td>\n",
       "      <td>19</td>\n",
       "    </tr>\n",
       "    <tr>\n",
       "      <th>4</th>\n",
       "      <td>astro</td>\n",
       "      <td>drag-and-drop</td>\n",
       "      <td>10</td>\n",
       "    </tr>\n",
       "    <tr>\n",
       "      <th>5</th>\n",
       "      <td>astro</td>\n",
       "      <td>dynamic-class</td>\n",
       "      <td>5</td>\n",
       "    </tr>\n",
       "    <tr>\n",
       "      <th>10</th>\n",
       "      <td>astro</td>\n",
       "      <td>representative-outlier</td>\n",
       "      <td>4</td>\n",
       "    </tr>\n",
       "    <tr>\n",
       "      <th>0</th>\n",
       "      <td>astro</td>\n",
       "      <td>brush-xrange</td>\n",
       "      <td>3</td>\n",
       "    </tr>\n",
       "  </tbody>\n",
       "</table>\n",
       "</div>"
      ],
      "text/plain": [
       "   subject                 Feature  Usage Frequency\n",
       "6    astro                  filter               19\n",
       "4    astro           drag-and-drop               10\n",
       "5    astro           dynamic-class                5\n",
       "10   astro  representative-outlier                4\n",
       "0    astro            brush-xrange                3"
      ]
     },
     "execution_count": 44,
     "metadata": {},
     "output_type": "execute_result"
    }
   ],
   "source": [
    "df_frequency_by_subject_feature[df_frequency_by_subject_feature[\"subject\"]==\"astro\"].nlargest(5,\"Usage Frequency\")"
   ]
  },
  {
   "cell_type": "code",
   "execution_count": 45,
   "metadata": {},
   "outputs": [
    {
     "data": {
      "text/html": [
       "<div>\n",
       "<style scoped>\n",
       "    .dataframe tbody tr th:only-of-type {\n",
       "        vertical-align: middle;\n",
       "    }\n",
       "\n",
       "    .dataframe tbody tr th {\n",
       "        vertical-align: top;\n",
       "    }\n",
       "\n",
       "    .dataframe thead th {\n",
       "        text-align: right;\n",
       "    }\n",
       "</style>\n",
       "<table border=\"1\" class=\"dataframe\">\n",
       "  <thead>\n",
       "    <tr style=\"text-align: right;\">\n",
       "      <th></th>\n",
       "      <th>subject</th>\n",
       "      <th>Feature</th>\n",
       "      <th>Usage Frequency</th>\n",
       "    </tr>\n",
       "  </thead>\n",
       "  <tbody>\n",
       "    <tr>\n",
       "      <th>32</th>\n",
       "      <td>material science</td>\n",
       "      <td>dynamic-class</td>\n",
       "      <td>12</td>\n",
       "    </tr>\n",
       "    <tr>\n",
       "      <th>29</th>\n",
       "      <td>material science</td>\n",
       "      <td>change-axis</td>\n",
       "      <td>8</td>\n",
       "    </tr>\n",
       "    <tr>\n",
       "      <th>31</th>\n",
       "      <td>material science</td>\n",
       "      <td>drag-and-drop</td>\n",
       "      <td>5</td>\n",
       "    </tr>\n",
       "    <tr>\n",
       "      <th>33</th>\n",
       "      <td>material science</td>\n",
       "      <td>filter</td>\n",
       "      <td>5</td>\n",
       "    </tr>\n",
       "    <tr>\n",
       "      <th>37</th>\n",
       "      <td>material science</td>\n",
       "      <td>sketch-to-modify</td>\n",
       "      <td>5</td>\n",
       "    </tr>\n",
       "  </tbody>\n",
       "</table>\n",
       "</div>"
      ],
      "text/plain": [
       "             subject           Feature  Usage Frequency\n",
       "32  material science     dynamic-class               12\n",
       "29  material science       change-axis                8\n",
       "31  material science     drag-and-drop                5\n",
       "33  material science            filter                5\n",
       "37  material science  sketch-to-modify                5"
      ]
     },
     "execution_count": 45,
     "metadata": {},
     "output_type": "execute_result"
    }
   ],
   "source": [
    "df_frequency_by_subject_feature[df_frequency_by_subject_feature[\"subject\"]==\"material science\"].nlargest(5,\"Usage Frequency\")"
   ]
  },
  {
   "cell_type": "code",
   "execution_count": 46,
   "metadata": {},
   "outputs": [
    {
     "data": {
      "text/html": [
       "<div>\n",
       "<style scoped>\n",
       "    .dataframe tbody tr th:only-of-type {\n",
       "        vertical-align: middle;\n",
       "    }\n",
       "\n",
       "    .dataframe tbody tr th {\n",
       "        vertical-align: top;\n",
       "    }\n",
       "\n",
       "    .dataframe thead th {\n",
       "        text-align: right;\n",
       "    }\n",
       "</style>\n",
       "<table border=\"1\" class=\"dataframe\">\n",
       "  <thead>\n",
       "    <tr style=\"text-align: right;\">\n",
       "      <th></th>\n",
       "      <th>subject</th>\n",
       "      <th>Feature</th>\n",
       "      <th>Usage Frequency</th>\n",
       "    </tr>\n",
       "  </thead>\n",
       "  <tbody>\n",
       "    <tr>\n",
       "      <th>23</th>\n",
       "      <td>genetics</td>\n",
       "      <td>representative-outlier</td>\n",
       "      <td>11</td>\n",
       "    </tr>\n",
       "    <tr>\n",
       "      <th>17</th>\n",
       "      <td>genetics</td>\n",
       "      <td>control-kmeans-clustersize</td>\n",
       "      <td>7</td>\n",
       "    </tr>\n",
       "    <tr>\n",
       "      <th>18</th>\n",
       "      <td>genetics</td>\n",
       "      <td>drag-and-drop</td>\n",
       "      <td>7</td>\n",
       "    </tr>\n",
       "    <tr>\n",
       "      <th>19</th>\n",
       "      <td>genetics</td>\n",
       "      <td>filter</td>\n",
       "      <td>7</td>\n",
       "    </tr>\n",
       "    <tr>\n",
       "      <th>26</th>\n",
       "      <td>genetics</td>\n",
       "      <td>smoothing</td>\n",
       "      <td>3</td>\n",
       "    </tr>\n",
       "  </tbody>\n",
       "</table>\n",
       "</div>"
      ],
      "text/plain": [
       "     subject                     Feature  Usage Frequency\n",
       "23  genetics      representative-outlier               11\n",
       "17  genetics  control-kmeans-clustersize                7\n",
       "18  genetics               drag-and-drop                7\n",
       "19  genetics                      filter                7\n",
       "26  genetics                   smoothing                3"
      ]
     },
     "execution_count": 46,
     "metadata": {},
     "output_type": "execute_result"
    }
   ],
   "source": [
    "df_frequency_by_subject_feature[df_frequency_by_subject_feature[\"subject\"]==\"genetics\"].nlargest(5,\"Usage Frequency\")"
   ]
  },
  {
   "cell_type": "markdown",
   "metadata": {},
   "source": [
    "### Feature usage scaled by individual subject area "
   ]
  },
  {
   "cell_type": "code",
   "execution_count": 47,
   "metadata": {},
   "outputs": [],
   "source": [
    "astro_sum = df_frequency_by_subject_feature[df_frequency_by_subject_feature[\"subject\"]==\"astro\"][\"Usage Frequency\"].sum()\n",
    "genetics_sum = df_frequency_by_subject_feature[df_frequency_by_subject_feature[\"subject\"]==\"genetics\"][\"Usage Frequency\"].sum()\n",
    "matsci_sum = df_frequency_by_subject_feature[df_frequency_by_subject_feature[\"subject\"]==\"material science\"][\"Usage Frequency\"].sum()"
   ]
  },
  {
   "cell_type": "code",
   "execution_count": 48,
   "metadata": {},
   "outputs": [],
   "source": [
    "df_frequency_by_subject_feature.loc[df_frequency_by_subject_feature[\"subject\"]==\"astro\",\"Normalized Frequency\"] = df_frequency_by_subject_feature[df_frequency_by_subject_feature[\"subject\"]==\"astro\"][\"Usage Frequency\"]/astro_sum*100\n",
    "df_frequency_by_subject_feature.loc[df_frequency_by_subject_feature[\"subject\"]==\"genetics\",\"Normalized Frequency\"] = df_frequency_by_subject_feature[df_frequency_by_subject_feature[\"subject\"]==\"genetics\"][\"Usage Frequency\"]/genetics_sum*100\n",
    "df_frequency_by_subject_feature.loc[df_frequency_by_subject_feature[\"subject\"]==\"material science\",\"Normalized Frequency\"] = df_frequency_by_subject_feature[df_frequency_by_subject_feature[\"subject\"]==\"material science\"][\"Usage Frequency\"]/matsci_sum*100"
   ]
  },
  {
   "cell_type": "code",
   "execution_count": 49,
   "metadata": {},
   "outputs": [],
   "source": [
    "fdf = df_frequency_by_subject_feature[[\"subject\",\"Feature\",\"Normalized Frequency\"]]\n",
    "fdf = fdf[fdf[\"Normalized Frequency\"]>=5]"
   ]
  },
  {
   "cell_type": "code",
   "execution_count": 50,
   "metadata": {},
   "outputs": [],
   "source": [
    "fdf[\"Normalized Frequency\"] = fdf[\"Normalized Frequency\"].map(\"{:.2f}\".format)"
   ]
  },
  {
   "cell_type": "code",
   "execution_count": 51,
   "metadata": {},
   "outputs": [
    {
     "data": {
      "text/html": [
       "<div>\n",
       "<style scoped>\n",
       "    .dataframe tbody tr th:only-of-type {\n",
       "        vertical-align: middle;\n",
       "    }\n",
       "\n",
       "    .dataframe tbody tr th {\n",
       "        vertical-align: top;\n",
       "    }\n",
       "\n",
       "    .dataframe thead th {\n",
       "        text-align: right;\n",
       "    }\n",
       "</style>\n",
       "<table border=\"1\" class=\"dataframe\">\n",
       "  <thead>\n",
       "    <tr style=\"text-align: right;\">\n",
       "      <th></th>\n",
       "      <th>subject</th>\n",
       "      <th>Feature</th>\n",
       "      <th>Normalized Frequency</th>\n",
       "    </tr>\n",
       "  </thead>\n",
       "  <tbody>\n",
       "    <tr>\n",
       "      <th>4</th>\n",
       "      <td>astro</td>\n",
       "      <td>drag-and-drop</td>\n",
       "      <td>16.39</td>\n",
       "    </tr>\n",
       "    <tr>\n",
       "      <th>5</th>\n",
       "      <td>astro</td>\n",
       "      <td>dynamic-class</td>\n",
       "      <td>8.20</td>\n",
       "    </tr>\n",
       "    <tr>\n",
       "      <th>6</th>\n",
       "      <td>astro</td>\n",
       "      <td>filter</td>\n",
       "      <td>31.15</td>\n",
       "    </tr>\n",
       "    <tr>\n",
       "      <th>10</th>\n",
       "      <td>astro</td>\n",
       "      <td>representative-outlier</td>\n",
       "      <td>6.56</td>\n",
       "    </tr>\n",
       "    <tr>\n",
       "      <th>17</th>\n",
       "      <td>genetics</td>\n",
       "      <td>control-kmeans-clustersize</td>\n",
       "      <td>14.58</td>\n",
       "    </tr>\n",
       "    <tr>\n",
       "      <th>18</th>\n",
       "      <td>genetics</td>\n",
       "      <td>drag-and-drop</td>\n",
       "      <td>14.58</td>\n",
       "    </tr>\n",
       "    <tr>\n",
       "      <th>19</th>\n",
       "      <td>genetics</td>\n",
       "      <td>filter</td>\n",
       "      <td>14.58</td>\n",
       "    </tr>\n",
       "    <tr>\n",
       "      <th>23</th>\n",
       "      <td>genetics</td>\n",
       "      <td>representative-outlier</td>\n",
       "      <td>22.92</td>\n",
       "    </tr>\n",
       "    <tr>\n",
       "      <th>26</th>\n",
       "      <td>genetics</td>\n",
       "      <td>smoothing</td>\n",
       "      <td>6.25</td>\n",
       "    </tr>\n",
       "    <tr>\n",
       "      <th>29</th>\n",
       "      <td>material science</td>\n",
       "      <td>change-axis</td>\n",
       "      <td>17.02</td>\n",
       "    </tr>\n",
       "    <tr>\n",
       "      <th>31</th>\n",
       "      <td>material science</td>\n",
       "      <td>drag-and-drop</td>\n",
       "      <td>10.64</td>\n",
       "    </tr>\n",
       "    <tr>\n",
       "      <th>32</th>\n",
       "      <td>material science</td>\n",
       "      <td>dynamic-class</td>\n",
       "      <td>25.53</td>\n",
       "    </tr>\n",
       "    <tr>\n",
       "      <th>33</th>\n",
       "      <td>material science</td>\n",
       "      <td>filter</td>\n",
       "      <td>10.64</td>\n",
       "    </tr>\n",
       "    <tr>\n",
       "      <th>36</th>\n",
       "      <td>material science</td>\n",
       "      <td>show-scatter</td>\n",
       "      <td>6.38</td>\n",
       "    </tr>\n",
       "    <tr>\n",
       "      <th>37</th>\n",
       "      <td>material science</td>\n",
       "      <td>sketch-to-modify</td>\n",
       "      <td>10.64</td>\n",
       "    </tr>\n",
       "    <tr>\n",
       "      <th>38</th>\n",
       "      <td>material science</td>\n",
       "      <td>sketch-to-query</td>\n",
       "      <td>8.51</td>\n",
       "    </tr>\n",
       "  </tbody>\n",
       "</table>\n",
       "</div>"
      ],
      "text/plain": [
       "             subject                     Feature Normalized Frequency\n",
       "4              astro               drag-and-drop                16.39\n",
       "5              astro               dynamic-class                 8.20\n",
       "6              astro                      filter                31.15\n",
       "10             astro      representative-outlier                 6.56\n",
       "17          genetics  control-kmeans-clustersize                14.58\n",
       "18          genetics               drag-and-drop                14.58\n",
       "19          genetics                      filter                14.58\n",
       "23          genetics      representative-outlier                22.92\n",
       "26          genetics                   smoothing                 6.25\n",
       "29  material science                 change-axis                17.02\n",
       "31  material science               drag-and-drop                10.64\n",
       "32  material science               dynamic-class                25.53\n",
       "33  material science                      filter                10.64\n",
       "36  material science                show-scatter                 6.38\n",
       "37  material science            sketch-to-modify                10.64\n",
       "38  material science             sketch-to-query                 8.51"
      ]
     },
     "execution_count": 51,
     "metadata": {},
     "output_type": "execute_result"
    }
   ],
   "source": [
    "fdf"
   ]
  },
  {
   "cell_type": "code",
   "execution_count": 52,
   "metadata": {},
   "outputs": [
    {
     "data": {
      "application/vnd.vegalite.v2+json": {
       "$schema": "https://vega.github.io/schema/vega-lite/v2.6.0.json",
       "config": {
        "view": {
         "height": 300,
         "width": 400
        }
       },
       "data": {
        "name": "data-0d7ae1305c5c415da552c60d4978da9c"
       },
       "datasets": {
        "data-0d7ae1305c5c415da552c60d4978da9c": [
         {
          "Feature": "brush-xrange",
          "Normalized Frequency": 4.918032786885246,
          "Usage Frequency": 3,
          "subject": "astro"
         },
         {
          "Feature": "change-axis",
          "Normalized Frequency": 4.918032786885246,
          "Usage Frequency": 3,
          "subject": "astro"
         },
         {
          "Feature": "change-metric",
          "Normalized Frequency": 4.918032786885246,
          "Usage Frequency": 3,
          "subject": "astro"
         },
         {
          "Feature": "change-number-of-results",
          "Normalized Frequency": 4.918032786885246,
          "Usage Frequency": 3,
          "subject": "astro"
         },
         {
          "Feature": "drag-and-drop",
          "Normalized Frequency": 16.39344262295082,
          "Usage Frequency": 10,
          "subject": "astro"
         },
         {
          "Feature": "dynamic-class",
          "Normalized Frequency": 8.19672131147541,
          "Usage Frequency": 5,
          "subject": "astro"
         },
         {
          "Feature": "filter",
          "Normalized Frequency": 31.147540983606557,
          "Usage Frequency": 19,
          "subject": "astro"
         },
         {
          "Feature": "ignore-xrange",
          "Normalized Frequency": 4.918032786885246,
          "Usage Frequency": 3,
          "subject": "astro"
         },
         {
          "Feature": "input-equation",
          "Normalized Frequency": 1.639344262295082,
          "Usage Frequency": 1,
          "subject": "astro"
         },
         {
          "Feature": "pattern-upload",
          "Normalized Frequency": 3.278688524590164,
          "Usage Frequency": 2,
          "subject": "astro"
         },
         {
          "Feature": "representative-outlier",
          "Normalized Frequency": 6.557377049180328,
          "Usage Frequency": 4,
          "subject": "astro"
         },
         {
          "Feature": "reverse-y",
          "Normalized Frequency": 1.639344262295082,
          "Usage Frequency": 1,
          "subject": "astro"
         },
         {
          "Feature": "sketch-to-modify",
          "Normalized Frequency": 1.639344262295082,
          "Usage Frequency": 1,
          "subject": "astro"
         },
         {
          "Feature": "sketch-to-query",
          "Normalized Frequency": 3.278688524590164,
          "Usage Frequency": 2,
          "subject": "astro"
         },
         {
          "Feature": "smoothing",
          "Normalized Frequency": 1.639344262295082,
          "Usage Frequency": 1,
          "subject": "astro"
         },
         {
          "Feature": "brush-xrange",
          "Normalized Frequency": 4.166666666666666,
          "Usage Frequency": 2,
          "subject": "genetics"
         },
         {
          "Feature": "change-metric",
          "Normalized Frequency": 2.083333333333333,
          "Usage Frequency": 1,
          "subject": "genetics"
         },
         {
          "Feature": "control-kmeans-clustersize",
          "Normalized Frequency": 14.583333333333334,
          "Usage Frequency": 7,
          "subject": "genetics"
         },
         {
          "Feature": "drag-and-drop",
          "Normalized Frequency": 14.583333333333334,
          "Usage Frequency": 7,
          "subject": "genetics"
         },
         {
          "Feature": "filter",
          "Normalized Frequency": 14.583333333333334,
          "Usage Frequency": 7,
          "subject": "genetics"
         },
         {
          "Feature": "ignore-xrange",
          "Normalized Frequency": 4.166666666666666,
          "Usage Frequency": 2,
          "subject": "genetics"
         },
         {
          "Feature": "min-similarity-cutoff",
          "Normalized Frequency": 2.083333333333333,
          "Usage Frequency": 1,
          "subject": "genetics"
         },
         {
          "Feature": "pattern-upload",
          "Normalized Frequency": 2.083333333333333,
          "Usage Frequency": 1,
          "subject": "genetics"
         },
         {
          "Feature": "representative-outlier",
          "Normalized Frequency": 22.916666666666664,
          "Usage Frequency": 11,
          "subject": "genetics"
         },
         {
          "Feature": "show-scatter",
          "Normalized Frequency": 4.166666666666666,
          "Usage Frequency": 2,
          "subject": "genetics"
         },
         {
          "Feature": "sketch-to-query",
          "Normalized Frequency": 4.166666666666666,
          "Usage Frequency": 2,
          "subject": "genetics"
         },
         {
          "Feature": "smoothing",
          "Normalized Frequency": 6.25,
          "Usage Frequency": 3,
          "subject": "genetics"
         },
         {
          "Feature": "upload-dataset",
          "Normalized Frequency": 4.166666666666666,
          "Usage Frequency": 2,
          "subject": "genetics"
         },
         {
          "Feature": "brush-xrange",
          "Normalized Frequency": 2.127659574468085,
          "Usage Frequency": 1,
          "subject": "material science"
         },
         {
          "Feature": "change-axis",
          "Normalized Frequency": 17.02127659574468,
          "Usage Frequency": 8,
          "subject": "material science"
         },
         {
          "Feature": "change-metric",
          "Normalized Frequency": 2.127659574468085,
          "Usage Frequency": 1,
          "subject": "material science"
         },
         {
          "Feature": "drag-and-drop",
          "Normalized Frequency": 10.638297872340425,
          "Usage Frequency": 5,
          "subject": "material science"
         },
         {
          "Feature": "dynamic-class",
          "Normalized Frequency": 25.53191489361702,
          "Usage Frequency": 12,
          "subject": "material science"
         },
         {
          "Feature": "filter",
          "Normalized Frequency": 10.638297872340425,
          "Usage Frequency": 5,
          "subject": "material science"
         },
         {
          "Feature": "ignore-xrange",
          "Normalized Frequency": 2.127659574468085,
          "Usage Frequency": 1,
          "subject": "material science"
         },
         {
          "Feature": "representative-outlier",
          "Normalized Frequency": 4.25531914893617,
          "Usage Frequency": 2,
          "subject": "material science"
         },
         {
          "Feature": "show-scatter",
          "Normalized Frequency": 6.382978723404255,
          "Usage Frequency": 3,
          "subject": "material science"
         },
         {
          "Feature": "sketch-to-modify",
          "Normalized Frequency": 10.638297872340425,
          "Usage Frequency": 5,
          "subject": "material science"
         },
         {
          "Feature": "sketch-to-query",
          "Normalized Frequency": 8.51063829787234,
          "Usage Frequency": 4,
          "subject": "material science"
         }
        ]
       },
       "encoding": {
        "color": {
         "field": "subject",
         "type": "nominal"
        },
        "x": {
         "field": "Normalized Frequency",
         "type": "quantitative"
        },
        "y": {
         "field": "Feature",
         "type": "nominal"
        }
       },
       "mark": "bar"
      },
      "image/png": "[encoded data removed]",
      "text/plain": [
       "<VegaLite 2 object>\n",
       "\n",
       "If you see this message, it means the renderer has not been properly enabled\n",
       "for the frontend that you are using. For more information, see\n",
       "https://altair-viz.github.io/user_guide/troubleshooting.html\n"
      ]
     },
     "execution_count": 52,
     "metadata": {},
     "output_type": "execute_result"
    }
   ],
   "source": [
    "alt.Chart(df_frequency_by_subject_feature).mark_bar().encode(\n",
    "    x= \"Normalized Frequency\",\n",
    "    y= \"Feature\",\n",
    "    color=\"subject\"\n",
    ")"
   ]
  },
  {
   "cell_type": "code",
   "execution_count": 53,
   "metadata": {},
   "outputs": [],
   "source": [
    "#df_frequency_by_subject_feature[\"Component\"] = df_feature[\"Feature\"].replace(component_dict)"
   ]
  },
  {
   "cell_type": "code",
   "execution_count": 54,
   "metadata": {},
   "outputs": [],
   "source": [
    "df_frequency_by_subject_feature = df.groupby([\"subject\",\"Component\"]).sum().reset_index().rename(columns={\"t\":\"Usage Frequency\"})\n",
    "astro_sum = df_frequency_by_subject_feature[df_frequency_by_subject_feature[\"subject\"]==\"astro\"][\"Usage Frequency\"].sum()\n",
    "genetics_sum = df_frequency_by_subject_feature[df_frequency_by_subject_feature[\"subject\"]==\"genetics\"][\"Usage Frequency\"].sum()\n",
    "matsci_sum = df_frequency_by_subject_feature[df_frequency_by_subject_feature[\"subject\"]==\"material science\"][\"Usage Frequency\"].sum()\n",
    "df_frequency_by_subject_feature.loc[df_frequency_by_subject_feature[\"subject\"]==\"astro\",\"Normalized Frequency\"] = df_frequency_by_subject_feature[df_frequency_by_subject_feature[\"subject\"]==\"astro\"][\"Usage Frequency\"]/astro_sum*100\n",
    "df_frequency_by_subject_feature.loc[df_frequency_by_subject_feature[\"subject\"]==\"genetics\",\"Normalized Frequency\"] = df_frequency_by_subject_feature[df_frequency_by_subject_feature[\"subject\"]==\"genetics\"][\"Usage Frequency\"]/genetics_sum*100\n",
    "df_frequency_by_subject_feature.loc[df_frequency_by_subject_feature[\"subject\"]==\"material science\",\"Normalized Frequency\"] = df_frequency_by_subject_feature[df_frequency_by_subject_feature[\"subject\"]==\"material science\"][\"Usage Frequency\"]/matsci_sum*100"
   ]
  },
  {
   "cell_type": "code",
   "execution_count": 55,
   "metadata": {},
   "outputs": [
    {
     "data": {
      "application/vnd.vegalite.v2+json": {
       "$schema": "https://vega.github.io/schema/vega-lite/v2.6.0.json",
       "config": {
        "view": {
         "height": 300,
         "width": 400
        }
       },
       "data": {
        "name": "data-f0916751300ad86510d56d523b0586b9"
       },
       "datasets": {
        "data-f0916751300ad86510d56d523b0586b9": [
         {
          "Component": "Match Specification",
          "Normalized Frequency": 18.02366040361865,
          "Usage Frequency": 259,
          "subject": "astro"
         },
         {
          "Component": "Pattern Specification",
          "Normalized Frequency": 16.423103688239387,
          "Usage Frequency": 236,
          "subject": "astro"
         },
         {
          "Component": "Recommendation",
          "Normalized Frequency": 3.966597077244259,
          "Usage Frequency": 57,
          "subject": "astro"
         },
         {
          "Component": "Result Querying",
          "Normalized Frequency": 9.603340292275574,
          "Usage Frequency": 138,
          "subject": "astro"
         },
         {
          "Component": "Slice-and-Dice",
          "Normalized Frequency": 45.02435629784273,
          "Usage Frequency": 647,
          "subject": "astro"
         },
         {
          "Component": "View Specification",
          "Normalized Frequency": 6.958942240779402,
          "Usage Frequency": 100,
          "subject": "astro"
         },
         {
          "Component": "Match Specification",
          "Normalized Frequency": 25.29100529100529,
          "Usage Frequency": 239,
          "subject": "genetics"
         },
         {
          "Component": "Pattern Specification",
          "Normalized Frequency": 13.756613756613756,
          "Usage Frequency": 130,
          "subject": "genetics"
         },
         {
          "Component": "Recommendation",
          "Normalized Frequency": 29.417989417989414,
          "Usage Frequency": 278,
          "subject": "genetics"
         },
         {
          "Component": "Result Querying",
          "Normalized Frequency": 12.592592592592592,
          "Usage Frequency": 119,
          "subject": "genetics"
         },
         {
          "Component": "Slice-and-Dice",
          "Normalized Frequency": 17.037037037037038,
          "Usage Frequency": 161,
          "subject": "genetics"
         },
         {
          "Component": "View Specification",
          "Normalized Frequency": 1.9047619047619049,
          "Usage Frequency": 18,
          "subject": "genetics"
         },
         {
          "Component": "Match Specification",
          "Normalized Frequency": 3.278688524590164,
          "Usage Frequency": 24,
          "subject": "material science"
         },
         {
          "Component": "Pattern Specification",
          "Normalized Frequency": 23.224043715846996,
          "Usage Frequency": 170,
          "subject": "material science"
         },
         {
          "Component": "Recommendation",
          "Normalized Frequency": 6.557377049180328,
          "Usage Frequency": 48,
          "subject": "material science"
         },
         {
          "Component": "Result Querying",
          "Normalized Frequency": 13.387978142076504,
          "Usage Frequency": 98,
          "subject": "material science"
         },
         {
          "Component": "Slice-and-Dice",
          "Normalized Frequency": 32.78688524590164,
          "Usage Frequency": 240,
          "subject": "material science"
         },
         {
          "Component": "View Specification",
          "Normalized Frequency": 20.76502732240437,
          "Usage Frequency": 152,
          "subject": "material science"
         }
        ]
       },
       "encoding": {
        "color": {
         "field": "subject",
         "type": "nominal"
        },
        "x": {
         "field": "Normalized Frequency",
         "type": "quantitative"
        },
        "y": {
         "field": "Component",
         "sort": [
          "exact-specification",
          "approx-shape-specification",
          "range-selection",
          "flexible-matching",
          "filter-selection",
          "group-comparison",
          "concept-query",
          "result-querying",
          "recommendation",
          "control"
         ],
         "type": "nominal"
        }
       },
       "mark": "bar"
      },
      "image/png": "[encoded data removed]",
      "text/plain": [
       "<VegaLite 2 object>\n",
       "\n",
       "If you see this message, it means the renderer has not been properly enabled\n",
       "for the frontend that you are using. For more information, see\n",
       "https://altair-viz.github.io/user_guide/troubleshooting.html\n"
      ]
     },
     "execution_count": 55,
     "metadata": {},
     "output_type": "execute_result"
    }
   ],
   "source": [
    "alt.Chart(df_frequency_by_subject_feature).mark_bar().encode(\n",
    "    x= alt.X(\"Normalized Frequency\"),\n",
    "    y= alt.Y(\"Component\",sort=['exact-specification','approx-shape-specification','range-selection','flexible-matching',\n",
    "                            'filter-selection','group-comparison',\n",
    "                            'concept-query', 'result-querying','recommendation','control']),\n",
    "    color=\"subject\"\n",
    ")"
   ]
  },
  {
   "cell_type": "code",
   "execution_count": null,
   "metadata": {},
   "outputs": [],
   "source": []
  },
  {
   "cell_type": "code",
   "execution_count": null,
   "metadata": {},
   "outputs": [],
   "source": []
  },
  {
   "cell_type": "code",
   "execution_count": null,
   "metadata": {},
   "outputs": [],
   "source": []
  },
  {
   "cell_type": "code",
   "execution_count": null,
   "metadata": {},
   "outputs": [],
   "source": []
  },
  {
   "cell_type": "code",
   "execution_count": null,
   "metadata": {},
   "outputs": [],
   "source": []
  },
  {
   "cell_type": "code",
   "execution_count": null,
   "metadata": {},
   "outputs": [],
   "source": []
  },
  {
   "cell_type": "code",
   "execution_count": null,
   "metadata": {},
   "outputs": [],
   "source": []
  }
 ],
 "metadata": {
  "kernelspec": {
   "display_name": "Python 3",
   "language": "python",
   "name": "python3"
  },
  "language_info": {
   "codemirror_mode": {
    "name": "ipython",
    "version": 3
   },
   "file_extension": ".py",
   "mimetype": "text/x-python",
   "name": "python",
   "nbconvert_exporter": "python",
   "pygments_lexer": "ipython3",
   "version": "3.7.0"
  }
 },
 "nbformat": 4,
 "nbformat_minor": 2
}
