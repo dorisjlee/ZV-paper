{
 "cells": [
  {
   "cell_type": "code",
   "execution_count": 1,
   "metadata": {
    "collapsed": true
   },
   "outputs": [],
   "source": [
    "import pandas as pd\n",
    "import numpy as np\n",
    "import altair as alt\n",
    "df = pd.read_csv(\"StudyEventTimeSeries.csv\")"
   ]
  },
  {
   "cell_type": "code",
   "execution_count": null,
   "metadata": {},
   "outputs": [],
   "source": []
  },
  {
   "cell_type": "code",
   "execution_count": 2,
   "metadata": {},
   "outputs": [
    {
     "name": "stderr",
     "output_type": "stream",
     "text": [
      "/Users/dorislee/.virtualenvs/py37env/lib/python3.7/site-packages/ipykernel_launcher.py:1: FutureWarning: Method .as_matrix will be removed in a future version. Use .values instead.\n",
      "  \"\"\"Entry point for launching an IPython kernel.\n"
     ]
    }
   ],
   "source": [
    "codelist = list(set(df.as_matrix().flatten()))\n",
    "codelist.remove(np.nan)\n",
    "\n",
    "actionOnly= list(filter(lambda x: x.isupper(),codelist))\n",
    "featureOnly= list(filter(lambda x: x.islower(),codelist))"
   ]
  },
  {
   "cell_type": "code",
   "execution_count": 3,
   "metadata": {
    "collapsed": false
   },
   "outputs": [],
   "source": [
    "# df[\"t\"]=df.index"
   ]
  },
  {
   "cell_type": "code",
   "execution_count": 4,
   "metadata": {},
   "outputs": [],
   "source": [
    "df = df.stack().reset_index()\n",
    "\n",
    "df = df.rename(columns={\n",
    "    \"level_0\":\"t\",\n",
    "    \"level_1\":\"user\",\n",
    "    0:\"action\"\n",
    "})"
   ]
  },
  {
   "cell_type": "code",
   "execution_count": 5,
   "metadata": {
    "collapsed": false
   },
   "outputs": [
    {
     "data": {
      "application/vnd.vegalite.v2+json": {
       "$schema": "https://vega.github.io/schema/vega-lite/v2.6.0.json",
       "config": {
        "view": {
         "height": 300,
         "width": 400
        }
       },
       "data": {
        "name": "data-7d121f226e904c3ad0664e2f2c5948ee"
       },
       "datasets": {
        "data-7d121f226e904c3ad0664e2f2c5948ee": [
         {
          "action": "filter",
          "t": 0,
          "user": "A1"
         },
         {
          "action": "filter",
          "t": 0,
          "user": "A2"
         },
         {
          "action": "drag-and-drop",
          "t": 0,
          "user": "A3"
         },
         {
          "action": "representative-outlier",
          "t": 0,
          "user": "G1"
         },
         {
          "action": "representative-outlier",
          "t": 0,
          "user": "G2"
         },
         {
          "action": "ID",
          "t": 0,
          "user": "G3"
         },
         {
          "action": "PD",
          "t": 0,
          "user": "M1"
         },
         {
          "action": "show-scatter",
          "t": 0,
          "user": "M2"
         },
         {
          "action": "dynamic-class",
          "t": 0,
          "user": "M3"
         },
         {
          "action": "filter",
          "t": 1,
          "user": "A1"
         },
         {
          "action": "E",
          "t": 1,
          "user": "A2"
         },
         {
          "action": "drag-and-drop",
          "t": 1,
          "user": "A3"
         },
         {
          "action": "control-kmeans-clustersize",
          "t": 1,
          "user": "G1"
         },
         {
          "action": "IS",
          "t": 1,
          "user": "G2"
         },
         {
          "action": "C",
          "t": 1,
          "user": "G3"
         },
         {
          "action": "sketch-to-query",
          "t": 1,
          "user": "M1"
         },
         {
          "action": "change-axis",
          "t": 1,
          "user": "M2"
         },
         {
          "action": "ID",
          "t": 1,
          "user": "M3"
         },
         {
          "action": "filter",
          "t": 2,
          "user": "A1"
         },
         {
          "action": "E",
          "t": 2,
          "user": "A2"
         },
         {
          "action": "sketch-to-modify",
          "t": 2,
          "user": "A3"
         },
         {
          "action": "representative-outlier",
          "t": 2,
          "user": "G1"
         },
         {
          "action": "BR",
          "t": 2,
          "user": "G2"
         },
         {
          "action": "W",
          "t": 2,
          "user": "G3"
         },
         {
          "action": "ignore-xrange",
          "t": 2,
          "user": "M1"
         },
         {
          "action": "PS",
          "t": 2,
          "user": "M2"
         },
         {
          "action": "show-scatter",
          "t": 2,
          "user": "M3"
         },
         {
          "action": "filter",
          "t": 3,
          "user": "A1"
         },
         {
          "action": "representative-outlier",
          "t": 3,
          "user": "A2"
         },
         {
          "action": "ignore-xrange",
          "t": 3,
          "user": "A3"
         },
         {
          "action": "control-kmeans-clustersize",
          "t": 3,
          "user": "G1"
         },
         {
          "action": "representative-outlier",
          "t": 3,
          "user": "G2"
         },
         {
          "action": "show-scatter",
          "t": 3,
          "user": "G3"
         },
         {
          "action": "C",
          "t": 3,
          "user": "M1"
         },
         {
          "action": "dynamic-class",
          "t": 3,
          "user": "M2"
         },
         {
          "action": "IS",
          "t": 3,
          "user": "M3"
         },
         {
          "action": "IS",
          "t": 4,
          "user": "A1"
         },
         {
          "action": "drag-and-drop",
          "t": 4,
          "user": "A2"
         },
         {
          "action": "BR",
          "t": 4,
          "user": "A3"
         },
         {
          "action": "W",
          "t": 4,
          "user": "G1"
         },
         {
          "action": "control-kmeans-clustersize",
          "t": 4,
          "user": "G2"
         },
         {
          "action": "upload-dataset",
          "t": 4,
          "user": "G3"
         },
         {
          "action": "change-axis",
          "t": 4,
          "user": "M1"
         },
         {
          "action": "dynamic-class",
          "t": 4,
          "user": "M2"
         },
         {
          "action": "dynamic-class",
          "t": 4,
          "user": "M3"
         },
         {
          "action": "E",
          "t": 5,
          "user": "A1"
         },
         {
          "action": "W",
          "t": 5,
          "user": "A2"
         },
         {
          "action": "drag-and-drop",
          "t": 5,
          "user": "A3"
         },
         {
          "action": "IS",
          "t": 5,
          "user": "G1"
         },
         {
          "action": "representative-outlier",
          "t": 5,
          "user": "G2"
         },
         {
          "action": "BR",
          "t": 5,
          "user": "G3"
         },
         {
          "action": "W",
          "t": 5,
          "user": "M1"
         },
         {
          "action": "dynamic-class",
          "t": 5,
          "user": "M2"
         },
         {
          "action": "PS",
          "t": 5,
          "user": "M3"
         },
         {
          "action": "E",
          "t": 6,
          "user": "A1"
         },
         {
          "action": "ID",
          "t": 6,
          "user": "A2"
         },
         {
          "action": "ignore-xrange",
          "t": 6,
          "user": "A3"
         },
         {
          "action": "BR",
          "t": 6,
          "user": "G1"
         },
         {
          "action": "filter",
          "t": 6,
          "user": "G2"
         },
         {
          "action": "representative-outlier",
          "t": 6,
          "user": "G3"
         },
         {
          "action": "W",
          "t": 6,
          "user": "M1"
         },
         {
          "action": "dynamic-class",
          "t": 6,
          "user": "M2"
         },
         {
          "action": "dynamic-class",
          "t": 6,
          "user": "M3"
         },
         {
          "action": "drag-and-drop",
          "t": 7,
          "user": "A1"
         },
         {
          "action": "E",
          "t": 7,
          "user": "A2"
         },
         {
          "action": "change-metric",
          "t": 7,
          "user": "A3"
         },
         {
          "action": "drag-and-drop",
          "t": 7,
          "user": "G1"
         },
         {
          "action": "C",
          "t": 7,
          "user": "G2"
         },
         {
          "action": "W",
          "t": 7,
          "user": "G3"
         },
         {
          "action": "W",
          "t": 7,
          "user": "M1"
         },
         {
          "action": "PS",
          "t": 7,
          "user": "M2"
         },
         {
          "action": "ID",
          "t": 7,
          "user": "M3"
         },
         {
          "action": "ID",
          "t": 8,
          "user": "A1"
         },
         {
          "action": "ID",
          "t": 8,
          "user": "A2"
         },
         {
          "action": "C",
          "t": 8,
          "user": "A3"
         },
         {
          "action": "IS",
          "t": 8,
          "user": "G1"
         },
         {
          "action": "BR",
          "t": 8,
          "user": "G2"
         },
         {
          "action": "change-metric",
          "t": 8,
          "user": "G3"
         },
         {
          "action": "BR",
          "t": 8,
          "user": "M1"
         },
         {
          "action": "dynamic-class",
          "t": 8,
          "user": "M2"
         },
         {
          "action": "change-axis",
          "t": 8,
          "user": "M3"
         },
         {
          "action": "filter",
          "t": 9,
          "user": "A1"
         },
         {
          "action": "BR",
          "t": 9,
          "user": "A2"
         },
         {
          "action": "brush-xrange",
          "t": 9,
          "user": "A3"
         },
         {
          "action": "W",
          "t": 9,
          "user": "G1"
         },
         {
          "action": "W",
          "t": 9,
          "user": "G2"
         },
         {
          "action": "control-kmeans-clustersize",
          "t": 9,
          "user": "G3"
         },
         {
          "action": "brush-xrange",
          "t": 9,
          "user": "M1"
         },
         {
          "action": "IS",
          "t": 9,
          "user": "M2"
         },
         {
          "action": "IS",
          "t": 9,
          "user": "M3"
         },
         {
          "action": "E",
          "t": 10,
          "user": "A1"
         },
         {
          "action": "filter",
          "t": 10,
          "user": "A2"
         },
         {
          "action": "change-metric",
          "t": 10,
          "user": "A3"
         },
         {
          "action": "BR",
          "t": 10,
          "user": "G1"
         },
         {
          "action": "drag-and-drop",
          "t": 10,
          "user": "G2"
         },
         {
          "action": "representative-outlier",
          "t": 10,
          "user": "G3"
         },
         {
          "action": "change-axis",
          "t": 10,
          "user": "M1"
         },
         {
          "action": "IS",
          "t": 10,
          "user": "M2"
         },
         {
          "action": "drag-and-drop",
          "t": 10,
          "user": "M3"
         },
         {
          "action": "IS",
          "t": 11,
          "user": "A1"
         },
         {
          "action": "E",
          "t": 11,
          "user": "A2"
         },
         {
          "action": "ID",
          "t": 11,
          "user": "A3"
         },
         {
          "action": "drag-and-drop",
          "t": 11,
          "user": "G1"
         },
         {
          "action": "W",
          "t": 11,
          "user": "G2"
         },
         {
          "action": "ID",
          "t": 11,
          "user": "G3"
         },
         {
          "action": "IS",
          "t": 11,
          "user": "M1"
         },
         {
          "action": "C",
          "t": 11,
          "user": "M2"
         },
         {
          "action": "dynamic-class",
          "t": 11,
          "user": "M3"
         },
         {
          "action": "PS",
          "t": 12,
          "user": "A1"
         },
         {
          "action": "representative-outlier",
          "t": 12,
          "user": "A2"
         },
         {
          "action": "change-metric",
          "t": 12,
          "user": "A3"
         },
         {
          "action": "min-similarity-cutoff",
          "t": 12,
          "user": "G1"
         },
         {
          "action": "filter",
          "t": 12,
          "user": "G2"
         },
         {
          "action": "drag-and-drop",
          "t": 12,
          "user": "G3"
         },
         {
          "action": "representative-outlier",
          "t": 12,
          "user": "M1"
         },
         {
          "action": "BR",
          "t": 12,
          "user": "M2"
         },
         {
          "action": "IS",
          "t": 12,
          "user": "M3"
         },
         {
          "action": "E",
          "t": 13,
          "user": "A1"
         },
         {
          "action": "drag-and-drop",
          "t": 13,
          "user": "A2"
         },
         {
          "action": "W",
          "t": 13,
          "user": "A3"
         },
         {
          "action": "brush-xrange",
          "t": 13,
          "user": "G1"
         },
         {
          "action": "PS",
          "t": 13,
          "user": "G2"
         },
         {
          "action": "IS",
          "t": 13,
          "user": "G3"
         },
         {
          "action": "W",
          "t": 13,
          "user": "M1"
         },
         {
          "action": "W",
          "t": 13,
          "user": "M2"
         },
         {
          "action": "change-metric",
          "t": 13,
          "user": "M3"
         },
         {
          "action": "PS",
          "t": 14,
          "user": "A1"
         },
         {
          "action": "change-number-of-results",
          "t": 14,
          "user": "A2"
         },
         {
          "action": "BR",
          "t": 14,
          "user": "A3"
         },
         {
          "action": "export",
          "t": 14,
          "user": "G1"
         },
         {
          "action": "BR",
          "t": 14,
          "user": "G2"
         },
         {
          "action": "BR",
          "t": 14,
          "user": "G3"
         },
         {
          "action": "PS",
          "t": 14,
          "user": "M1"
         },
         {
          "action": "dynamic-class",
          "t": 14,
          "user": "M2"
         },
         {
          "action": "C",
          "t": 14,
          "user": "M3"
         },
         {
          "action": "PD",
          "t": 15,
          "user": "A1"
         },
         {
          "action": "export",
          "t": 15,
          "user": "A2"
         },
         {
          "action": "filter",
          "t": 15,
          "user": "A3"
         },
         {
          "action": "BR",
          "t": 15,
          "user": "G1"
         },
         {
          "action": "show-scatter",
          "t": 15,
          "user": "G2"
         },
         {
          "action": "export",
          "t": 15,
          "user": "G3"
         },
         {
          "action": "dynamic-class",
          "t": 15,
          "user": "M1"
         },
         {
          "action": "IS",
          "t": 15,
          "user": "M2"
         },
         {
          "action": "drag-and-drop",
          "t": 15,
          "user": "M3"
         },
         {
          "action": "reverse-y",
          "t": 16,
          "user": "A1"
         },
         {
          "action": "filter",
          "t": 16,
          "user": "A2"
         },
         {
          "action": "W",
          "t": 16,
          "user": "A3"
         },
         {
          "action": "control-kmeans-clustersize",
          "t": 16,
          "user": "G1"
         },
         {
          "action": "ID",
          "t": 16,
          "user": "G2"
         },
         {
          "action": "BR",
          "t": 16,
          "user": "G3"
         },
         {
          "action": "PD",
          "t": 16,
          "user": "M1"
         },
         {
          "action": "BR",
          "t": 16,
          "user": "M2"
         },
         {
          "action": "IS",
          "t": 16,
          "user": "M3"
         },
         {
          "action": "E",
          "t": 17,
          "user": "A1"
         },
         {
          "action": "E",
          "t": 17,
          "user": "A2"
         },
         {
          "action": "W",
          "t": 17,
          "user": "A3"
         },
         {
          "action": "C",
          "t": 17,
          "user": "G1"
         },
         {
          "action": "BR",
          "t": 17,
          "user": "G2"
         },
         {
          "action": "representative-outlier",
          "t": 17,
          "user": "G3"
         },
         {
          "action": "IS",
          "t": 17,
          "user": "M1"
         },
         {
          "action": "sketch-to-query",
          "t": 17,
          "user": "M2"
         },
         {
          "action": "BR",
          "t": 17,
          "user": "M3"
         },
         {
          "action": "PS",
          "t": 18,
          "user": "A1"
         },
         {
          "action": "representative-outlier",
          "t": 18,
          "user": "A2"
         },
         {
          "action": "filter",
          "t": 18,
          "user": "A3"
         },
         {
          "action": "W",
          "t": 18,
          "user": "G1"
         },
         {
          "action": "sketch-to-query",
          "t": 18,
          "user": "G2"
         },
         {
          "action": "IS",
          "t": 18,
          "user": "G3"
         },
         {
          "action": "BR",
          "t": 18,
          "user": "M1"
         },
         {
          "action": "C",
          "t": 18,
          "user": "M2"
         },
         {
          "action": "change-axis",
          "t": 18,
          "user": "M3"
         },
         {
          "action": "BR",
          "t": 19,
          "user": "A1"
         },
         {
          "action": "drag-and-drop",
          "t": 19,
          "user": "A2"
         },
         {
          "action": "ID",
          "t": 19,
          "user": "A3"
         },
         {
          "action": "drag-and-drop",
          "t": 19,
          "user": "G1"
         },
         {
          "action": "ID",
          "t": 19,
          "user": "G2"
         },
         {
          "action": "ignore-xrange",
          "t": 19,
          "user": "G3"
         },
         {
          "action": "filter",
          "t": 19,
          "user": "M1"
         },
         {
          "action": "sketch-to-modify",
          "t": 19,
          "user": "M2"
         },
         {
          "action": "sketch-to-query",
          "t": 19,
          "user": "M3"
         },
         {
          "action": "drag-and-drop",
          "t": 20,
          "user": "A1"
         },
         {
          "action": "change-number-of-results",
          "t": 20,
          "user": "A2"
         },
         {
          "action": "BR",
          "t": 20,
          "user": "A3"
         },
         {
          "action": "drag-and-drop",
          "t": 20,
          "user": "G1"
         },
         {
          "action": "W",
          "t": 20,
          "user": "G2"
         },
         {
          "action": "IS",
          "t": 20,
          "user": "G3"
         },
         {
          "action": "sketch-to-query",
          "t": 20,
          "user": "M1"
         },
         {
          "action": "BR",
          "t": 20,
          "user": "M2"
         },
         {
          "action": "sketch-to-query",
          "t": 20,
          "user": "M3"
         },
         {
          "action": "C",
          "t": 21,
          "user": "A1"
         },
         {
          "action": "export",
          "t": 21,
          "user": "A2"
         },
         {
          "action": "change-axis",
          "t": 21,
          "user": "A3"
         },
         {
          "action": "ID",
          "t": 21,
          "user": "G1"
         },
         {
          "action": "ignore-xrange",
          "t": 21,
          "user": "G2"
         },
         {
          "action": "BR",
          "t": 21,
          "user": "G3"
         },
         {
          "action": "show-scatter",
          "t": 21,
          "user": "M1"
         },
         {
          "action": "change-axis",
          "t": 21,
          "user": "M2"
         },
         {
          "action": "BR",
          "t": 21,
          "user": "M3"
         },
         {
          "action": "filter",
          "t": 22,
          "user": "A1"
         },
         {
          "action": "filter",
          "t": 22,
          "user": "A2"
         },
         {
          "action": "ID",
          "t": 22,
          "user": "A3"
         },
         {
          "action": "control-kmeans-clustersize",
          "t": 22,
          "user": "G1"
         },
         {
          "action": "sketch-to-query",
          "t": 22,
          "user": "G2"
         },
         {
          "action": "BR",
          "t": 22,
          "user": "M1"
         },
         {
          "action": "sketch-to-modify",
          "t": 22,
          "user": "M2"
         },
         {
          "action": "PS",
          "t": 22,
          "user": "M3"
         },
         {
          "action": "BR",
          "t": 23,
          "user": "A1"
         },
         {
          "action": "E",
          "t": 23,
          "user": "A2"
         },
         {
          "action": "filter",
          "t": 23,
          "user": "A3"
         },
         {
          "action": "C",
          "t": 23,
          "user": "G1"
         },
         {
          "action": "filter",
          "t": 23,
          "user": "G2"
         },
         {
          "action": "W",
          "t": 23,
          "user": "M1"
         },
         {
          "action": "drag-and-drop",
          "t": 23,
          "user": "M2"
         },
         {
          "action": "drag-and-drop",
          "t": 23,
          "user": "M3"
         },
         {
          "action": "filter",
          "t": 24,
          "user": "A1"
         },
         {
          "action": "representative-outlier",
          "t": 24,
          "user": "A2"
         },
         {
          "action": "W",
          "t": 24,
          "user": "A3"
         },
         {
          "action": "W",
          "t": 24,
          "user": "G1"
         },
         {
          "action": "IS",
          "t": 24,
          "user": "G2"
         },
         {
          "action": "filter",
          "t": 24,
          "user": "M1"
         },
         {
          "action": "sketch-to-modify",
          "t": 24,
          "user": "M2"
         },
         {
          "action": "ID",
          "t": 24,
          "user": "M3"
         },
         {
          "action": "PS",
          "t": 25,
          "user": "A1"
         },
         {
          "action": "drag-and-drop",
          "t": 25,
          "user": "A2"
         },
         {
          "action": "BR",
          "t": 25,
          "user": "A3"
         },
         {
          "action": "PS",
          "t": 25,
          "user": "G1"
         },
         {
          "action": "filter",
          "t": 25,
          "user": "G2"
         },
         {
          "action": "filter",
          "t": 25,
          "user": "M1"
         },
         {
          "action": "ID",
          "t": 25,
          "user": "M2"
         },
         {
          "action": "W",
          "t": 25,
          "user": "M3"
         },
         {
          "action": "E",
          "t": 26,
          "user": "A1"
         },
         {
          "action": "change-number-of-results",
          "t": 26,
          "user": "A2"
         },
         {
          "action": "change-axis",
          "t": 26,
          "user": "A3"
         },
         {
          "action": "W",
          "t": 26,
          "user": "G1"
         },
         {
          "action": "BR",
          "t": 26,
          "user": "G2"
         },
         {
          "action": "filter",
          "t": 26,
          "user": "M1"
         },
         {
          "action": "C",
          "t": 26,
          "user": "M2"
         },
         {
          "action": "IS",
          "t": 26,
          "user": "M3"
         },
         {
          "action": "E",
          "t": 27,
          "user": "A1"
         },
         {
          "action": "export",
          "t": 27,
          "user": "A2"
         },
         {
          "action": "PS",
          "t": 27,
          "user": "A3"
         },
         {
          "action": "BR",
          "t": 27,
          "user": "G1"
         },
         {
          "action": "filter",
          "t": 27,
          "user": "G2"
         },
         {
          "action": "ID",
          "t": 27,
          "user": "M1"
         },
         {
          "action": "drag-and-drop",
          "t": 27,
          "user": "M2"
         },
         {
          "action": "BR",
          "t": 27,
          "user": "M3"
         },
         {
          "action": "PS",
          "t": 28,
          "user": "A1"
         },
         {
          "action": "ID",
          "t": 28,
          "user": "A2"
         },
         {
          "action": "BR",
          "t": 28,
          "user": "A3"
         },
         {
          "action": "PS",
          "t": 28,
          "user": "G2"
         },
         {
          "action": "BR",
          "t": 28,
          "user": "M1"
         },
         {
          "action": "sketch-to-modify",
          "t": 28,
          "user": "M2"
         },
         {
          "action": "change-axis",
          "t": 28,
          "user": "M3"
         },
         {
          "action": "brush-xrange",
          "t": 29,
          "user": "A1"
         },
         {
          "action": "E",
          "t": 29,
          "user": "A2"
         },
         {
          "action": "input-equation",
          "t": 29,
          "user": "A3"
         },
         {
          "action": "filter",
          "t": 29,
          "user": "G2"
         },
         {
          "action": "W",
          "t": 29,
          "user": "M1"
         },
         {
          "action": "IS",
          "t": 29,
          "user": "M2"
         },
         {
          "action": "W",
          "t": 29,
          "user": "M3"
         },
         {
          "action": "W",
          "t": 30,
          "user": "A1"
         },
         {
          "action": "BR",
          "t": 30,
          "user": "A2"
         },
         {
          "action": "BR",
          "t": 30,
          "user": "A3"
         },
         {
          "action": "W",
          "t": 30,
          "user": "G2"
         },
         {
          "action": "export",
          "t": 30,
          "user": "M1"
         },
         {
          "action": "C",
          "t": 30,
          "user": "M2"
         },
         {
          "action": "W",
          "t": 30,
          "user": "M3"
         },
         {
          "action": "ID",
          "t": 31,
          "user": "A1"
         },
         {
          "action": "PS",
          "t": 31,
          "user": "A2"
         },
         {
          "action": "export",
          "t": 31,
          "user": "A3"
         },
         {
          "action": "representative-outlier",
          "t": 31,
          "user": "G2"
         },
         {
          "action": "E",
          "t": 31,
          "user": "M1"
         },
         {
          "action": "C",
          "t": 31,
          "user": "M2"
         },
         {
          "action": "BR",
          "t": 31,
          "user": "M3"
         },
         {
          "action": "W",
          "t": 32,
          "user": "A1"
         },
         {
          "action": "E",
          "t": 32,
          "user": "A2"
         },
         {
          "action": "W",
          "t": 32,
          "user": "A3"
         },
         {
          "action": "BR",
          "t": 32,
          "user": "G2"
         },
         {
          "action": "W",
          "t": 32,
          "user": "M1"
         },
         {
          "action": "BR",
          "t": 32,
          "user": "M2"
         },
         {
          "action": "W",
          "t": 33,
          "user": "A1"
         },
         {
          "action": "E",
          "t": 33,
          "user": "A2"
         },
         {
          "action": "BR",
          "t": 33,
          "user": "A3"
         },
         {
          "action": "smoothing",
          "t": 33,
          "user": "G2"
         },
         {
          "action": "E",
          "t": 33,
          "user": "M1"
         },
         {
          "action": "dynamic-class",
          "t": 33,
          "user": "M2"
         },
         {
          "action": "ID",
          "t": 34,
          "user": "A1"
         },
         {
          "action": "dynamic-class",
          "t": 34,
          "user": "A2"
         },
         {
          "action": "smoothing",
          "t": 34,
          "user": "G2"
         },
         {
          "action": "BR",
          "t": 34,
          "user": "M1"
         },
         {
          "action": "IS",
          "t": 34,
          "user": "M2"
         },
         {
          "action": "BR",
          "t": 35,
          "user": "A1"
         },
         {
          "action": "W",
          "t": 35,
          "user": "A2"
         },
         {
          "action": "BR",
          "t": 35,
          "user": "G2"
         },
         {
          "action": "IS",
          "t": 35,
          "user": "M2"
         },
         {
          "action": "filter",
          "t": 36,
          "user": "A1"
         },
         {
          "action": "E",
          "t": 36,
          "user": "A2"
         },
         {
          "action": "pattern-upload",
          "t": 36,
          "user": "G2"
         },
         {
          "action": "representative-outlier",
          "t": 36,
          "user": "M2"
         },
         {
          "action": "filter",
          "t": 37,
          "user": "A1"
         },
         {
          "action": "change-axis",
          "t": 37,
          "user": "A2"
         },
         {
          "action": "PD",
          "t": 37,
          "user": "G2"
         },
         {
          "action": "filter",
          "t": 37,
          "user": "M2"
         },
         {
          "action": "BR",
          "t": 38,
          "user": "A1"
         },
         {
          "action": "ignore-xrange",
          "t": 38,
          "user": "A2"
         },
         {
          "action": "E",
          "t": 38,
          "user": "G2"
         },
         {
          "action": "IS",
          "t": 38,
          "user": "M2"
         },
         {
          "action": "smoothing",
          "t": 39,
          "user": "A1"
         },
         {
          "action": "IS",
          "t": 39,
          "user": "A2"
         },
         {
          "action": "filter",
          "t": 39,
          "user": "G2"
         },
         {
          "action": "change-axis",
          "t": 39,
          "user": "M2"
         },
         {
          "action": "sketch-to-query",
          "t": 40,
          "user": "A1"
         },
         {
          "action": "PD",
          "t": 40,
          "user": "A2"
         },
         {
          "action": "drag-and-drop",
          "t": 40,
          "user": "G2"
         },
         {
          "action": "ID",
          "t": 40,
          "user": "M2"
         },
         {
          "action": "sketch-to-query",
          "t": 41,
          "user": "A1"
         },
         {
          "action": "BR",
          "t": 41,
          "user": "A2"
         },
         {
          "action": "IS",
          "t": 41,
          "user": "G2"
         },
         {
          "action": "BR",
          "t": 41,
          "user": "M2"
         },
         {
          "action": "filter",
          "t": 42,
          "user": "A1"
         },
         {
          "action": "W",
          "t": 42,
          "user": "A2"
         },
         {
          "action": "W",
          "t": 42,
          "user": "G2"
         },
         {
          "action": "E",
          "t": 43,
          "user": "A1"
         },
         {
          "action": "PS",
          "t": 43,
          "user": "A2"
         },
         {
          "action": "export",
          "t": 43,
          "user": "G2"
         },
         {
          "action": "PS",
          "t": 44,
          "user": "A1"
         },
         {
          "action": "drag-and-drop",
          "t": 44,
          "user": "A2"
         },
         {
          "action": "representative-outlier",
          "t": 44,
          "user": "G2"
         },
         {
          "action": "W",
          "t": 45,
          "user": "A1"
         },
         {
          "action": "W",
          "t": 45,
          "user": "A2"
         },
         {
          "action": "ID",
          "t": 45,
          "user": "G2"
         },
         {
          "action": "W",
          "t": 46,
          "user": "A1"
         },
         {
          "action": "brush-xrange",
          "t": 46,
          "user": "A2"
         },
         {
          "action": "export",
          "t": 46,
          "user": "G2"
         },
         {
          "action": "W",
          "t": 47,
          "user": "A1"
         },
         {
          "action": "PS",
          "t": 47,
          "user": "A2"
         },
         {
          "action": "BR",
          "t": 47,
          "user": "G2"
         },
         {
          "action": "IS",
          "t": 48,
          "user": "A1"
         },
         {
          "action": "BR",
          "t": 48,
          "user": "A2"
         },
         {
          "action": "brush-xrange",
          "t": 48,
          "user": "G2"
         },
         {
          "action": "BR",
          "t": 49,
          "user": "A1"
         },
         {
          "action": "PS",
          "t": 49,
          "user": "G2"
         },
         {
          "action": "dynamic-class",
          "t": 50,
          "user": "A1"
         },
         {
          "action": "upload-dataset",
          "t": 50,
          "user": "G2"
         },
         {
          "action": "dynamic-class",
          "t": 51,
          "user": "A1"
         },
         {
          "action": "smoothing",
          "t": 51,
          "user": "G2"
         },
         {
          "action": "W",
          "t": 52,
          "user": "A1"
         },
         {
          "action": "control-kmeans-clustersize",
          "t": 52,
          "user": "G2"
         },
         {
          "action": "dynamic-class",
          "t": 53,
          "user": "A1"
         },
         {
          "action": "representative-outlier",
          "t": 53,
          "user": "G2"
         },
         {
          "action": "BR",
          "t": 54,
          "user": "A1"
         },
         {
          "action": "ID",
          "t": 54,
          "user": "G2"
         },
         {
          "action": "filter",
          "t": 55,
          "user": "A1"
         },
         {
          "action": "ID",
          "t": 55,
          "user": "G2"
         },
         {
          "action": "E",
          "t": 56,
          "user": "A1"
         },
         {
          "action": "PS",
          "t": 56,
          "user": "G2"
         },
         {
          "action": "ID",
          "t": 57,
          "user": "A1"
         },
         {
          "action": "BR",
          "t": 57,
          "user": "G2"
         },
         {
          "action": "pattern-upload",
          "t": 58,
          "user": "A1"
         },
         {
          "action": "export",
          "t": 59,
          "user": "A1"
         },
         {
          "action": "W",
          "t": 60,
          "user": "A1"
         },
         {
          "action": "dynamic-class",
          "t": 61,
          "user": "A1"
         },
         {
          "action": "BR",
          "t": 62,
          "user": "A1"
         },
         {
          "action": "filter",
          "t": 63,
          "user": "A1"
         },
         {
          "action": "E",
          "t": 64,
          "user": "A1"
         },
         {
          "action": "ID",
          "t": 65,
          "user": "A1"
         },
         {
          "action": "pattern-upload",
          "t": 66,
          "user": "A1"
         },
         {
          "action": "export",
          "t": 67,
          "user": "A1"
         },
         {
          "action": "W",
          "t": 68,
          "user": "A1"
         },
         {
          "action": "BR",
          "t": 69,
          "user": "A1"
         }
        ]
       },
       "encoding": {
        "color": {
         "field": "action",
         "type": "nominal"
        },
        "x": {
         "field": "t",
         "type": "quantitative"
        },
        "y": {
         "field": "user",
         "type": "nominal"
        }
       },
       "mark": "circle"
      },
      "image/png": "[encoded data removed]",
      "text/plain": [
       "<VegaLite 2 object>\n",
       "\n",
       "If you see this message, it means the renderer has not been properly enabled\n",
       "for the frontend that you are using. For more information, see\n",
       "https://altair-viz.github.io/user_guide/troubleshooting.html\n"
      ]
     },
     "execution_count": 5,
     "metadata": {},
     "output_type": "execute_result"
    }
   ],
   "source": [
    "alt.Chart(df).mark_circle().encode(        \n",
    "    color='action',\n",
    "    y=\"user\",\n",
    "    x='t'\n",
    ")"
   ]
  },
  {
   "cell_type": "code",
   "execution_count": 7,
   "metadata": {},
   "outputs": [
    {
     "data": {
      "text/html": [
       "<div>\n",
       "<style scoped>\n",
       "    .dataframe tbody tr th:only-of-type {\n",
       "        vertical-align: middle;\n",
       "    }\n",
       "\n",
       "    .dataframe tbody tr th {\n",
       "        vertical-align: top;\n",
       "    }\n",
       "\n",
       "    .dataframe thead th {\n",
       "        text-align: right;\n",
       "    }\n",
       "</style>\n",
       "<table border=\"1\" class=\"dataframe\">\n",
       "  <thead>\n",
       "    <tr style=\"text-align: right;\">\n",
       "      <th></th>\n",
       "      <th>t</th>\n",
       "      <th>user</th>\n",
       "      <th>action</th>\n",
       "    </tr>\n",
       "  </thead>\n",
       "  <tbody>\n",
       "    <tr>\n",
       "      <th>127</th>\n",
       "      <td>14</td>\n",
       "      <td>A2</td>\n",
       "      <td>change-number-of-results</td>\n",
       "    </tr>\n",
       "    <tr>\n",
       "      <th>181</th>\n",
       "      <td>20</td>\n",
       "      <td>A2</td>\n",
       "      <td>change-number-of-results</td>\n",
       "    </tr>\n",
       "    <tr>\n",
       "      <th>231</th>\n",
       "      <td>26</td>\n",
       "      <td>A2</td>\n",
       "      <td>change-number-of-results</td>\n",
       "    </tr>\n",
       "  </tbody>\n",
       "</table>\n",
       "</div>"
      ],
      "text/plain": [
       "      t user                    action\n",
       "127  14   A2  change-number-of-results\n",
       "181  20   A2  change-number-of-results\n",
       "231  26   A2  change-number-of-results"
      ]
     },
     "execution_count": 7,
     "metadata": {},
     "output_type": "execute_result"
    }
   ],
   "source": [
    "df[df[\"action\"]==\"change-number-of-results\"]"
   ]
  },
  {
   "cell_type": "markdown",
   "metadata": {},
   "source": [
    "# Action only"
   ]
  },
  {
   "cell_type": "code",
   "execution_count": 100,
   "metadata": {},
   "outputs": [
    {
     "data": {
      "application/vnd.vegalite.v2+json": {
       "$schema": "https://vega.github.io/schema/vega-lite/v2.6.0.json",
       "config": {
        "view": {
         "height": 300,
         "width": 400
        }
       },
       "data": {
        "name": "data-bda37622a78230695a2b5e1bf436274d"
       },
       "datasets": {
        "data-bda37622a78230695a2b5e1bf436274d": [
         {
          "action": "ID",
          "t": 0,
          "user": "G3"
         },
         {
          "action": "PD",
          "t": 0,
          "user": "M1"
         },
         {
          "action": "E",
          "t": 1,
          "user": "A2"
         },
         {
          "action": "IS",
          "t": 1,
          "user": "G2"
         },
         {
          "action": "C",
          "t": 1,
          "user": "G3"
         },
         {
          "action": "ID",
          "t": 1,
          "user": "M3"
         },
         {
          "action": "E",
          "t": 2,
          "user": "A2"
         },
         {
          "action": "BR",
          "t": 2,
          "user": "G2"
         },
         {
          "action": "W",
          "t": 2,
          "user": "G3"
         },
         {
          "action": "PS",
          "t": 2,
          "user": "M2"
         },
         {
          "action": "C",
          "t": 3,
          "user": "M1"
         },
         {
          "action": "IS",
          "t": 3,
          "user": "M3"
         },
         {
          "action": "IS",
          "t": 4,
          "user": "A1"
         },
         {
          "action": "BR",
          "t": 4,
          "user": "A3"
         },
         {
          "action": "W",
          "t": 4,
          "user": "G1"
         },
         {
          "action": "E",
          "t": 5,
          "user": "A1"
         },
         {
          "action": "W",
          "t": 5,
          "user": "A2"
         },
         {
          "action": "IS",
          "t": 5,
          "user": "G1"
         },
         {
          "action": "BR",
          "t": 5,
          "user": "G3"
         },
         {
          "action": "W",
          "t": 5,
          "user": "M1"
         },
         {
          "action": "PS",
          "t": 5,
          "user": "M3"
         },
         {
          "action": "E",
          "t": 6,
          "user": "A1"
         },
         {
          "action": "ID",
          "t": 6,
          "user": "A2"
         },
         {
          "action": "BR",
          "t": 6,
          "user": "G1"
         },
         {
          "action": "W",
          "t": 6,
          "user": "M1"
         },
         {
          "action": "E",
          "t": 7,
          "user": "A2"
         },
         {
          "action": "C",
          "t": 7,
          "user": "G2"
         },
         {
          "action": "W",
          "t": 7,
          "user": "G3"
         },
         {
          "action": "W",
          "t": 7,
          "user": "M1"
         },
         {
          "action": "PS",
          "t": 7,
          "user": "M2"
         },
         {
          "action": "ID",
          "t": 7,
          "user": "M3"
         },
         {
          "action": "ID",
          "t": 8,
          "user": "A1"
         },
         {
          "action": "ID",
          "t": 8,
          "user": "A2"
         },
         {
          "action": "C",
          "t": 8,
          "user": "A3"
         },
         {
          "action": "IS",
          "t": 8,
          "user": "G1"
         },
         {
          "action": "BR",
          "t": 8,
          "user": "G2"
         },
         {
          "action": "BR",
          "t": 8,
          "user": "M1"
         },
         {
          "action": "BR",
          "t": 9,
          "user": "A2"
         },
         {
          "action": "W",
          "t": 9,
          "user": "G1"
         },
         {
          "action": "W",
          "t": 9,
          "user": "G2"
         },
         {
          "action": "IS",
          "t": 9,
          "user": "M2"
         },
         {
          "action": "IS",
          "t": 9,
          "user": "M3"
         },
         {
          "action": "E",
          "t": 10,
          "user": "A1"
         },
         {
          "action": "BR",
          "t": 10,
          "user": "G1"
         },
         {
          "action": "IS",
          "t": 10,
          "user": "M2"
         },
         {
          "action": "IS",
          "t": 11,
          "user": "A1"
         },
         {
          "action": "E",
          "t": 11,
          "user": "A2"
         },
         {
          "action": "ID",
          "t": 11,
          "user": "A3"
         },
         {
          "action": "W",
          "t": 11,
          "user": "G2"
         },
         {
          "action": "ID",
          "t": 11,
          "user": "G3"
         },
         {
          "action": "IS",
          "t": 11,
          "user": "M1"
         },
         {
          "action": "C",
          "t": 11,
          "user": "M2"
         },
         {
          "action": "PS",
          "t": 12,
          "user": "A1"
         },
         {
          "action": "BR",
          "t": 12,
          "user": "M2"
         },
         {
          "action": "IS",
          "t": 12,
          "user": "M3"
         },
         {
          "action": "E",
          "t": 13,
          "user": "A1"
         },
         {
          "action": "W",
          "t": 13,
          "user": "A3"
         },
         {
          "action": "PS",
          "t": 13,
          "user": "G2"
         },
         {
          "action": "IS",
          "t": 13,
          "user": "G3"
         },
         {
          "action": "W",
          "t": 13,
          "user": "M1"
         },
         {
          "action": "W",
          "t": 13,
          "user": "M2"
         },
         {
          "action": "PS",
          "t": 14,
          "user": "A1"
         },
         {
          "action": "BR",
          "t": 14,
          "user": "A3"
         },
         {
          "action": "BR",
          "t": 14,
          "user": "G2"
         },
         {
          "action": "BR",
          "t": 14,
          "user": "G3"
         },
         {
          "action": "PS",
          "t": 14,
          "user": "M1"
         },
         {
          "action": "C",
          "t": 14,
          "user": "M3"
         },
         {
          "action": "PD",
          "t": 15,
          "user": "A1"
         },
         {
          "action": "BR",
          "t": 15,
          "user": "G1"
         },
         {
          "action": "IS",
          "t": 15,
          "user": "M2"
         },
         {
          "action": "W",
          "t": 16,
          "user": "A3"
         },
         {
          "action": "ID",
          "t": 16,
          "user": "G2"
         },
         {
          "action": "BR",
          "t": 16,
          "user": "G3"
         },
         {
          "action": "PD",
          "t": 16,
          "user": "M1"
         },
         {
          "action": "BR",
          "t": 16,
          "user": "M2"
         },
         {
          "action": "IS",
          "t": 16,
          "user": "M3"
         },
         {
          "action": "E",
          "t": 17,
          "user": "A1"
         },
         {
          "action": "E",
          "t": 17,
          "user": "A2"
         },
         {
          "action": "W",
          "t": 17,
          "user": "A3"
         },
         {
          "action": "C",
          "t": 17,
          "user": "G1"
         },
         {
          "action": "BR",
          "t": 17,
          "user": "G2"
         },
         {
          "action": "IS",
          "t": 17,
          "user": "M1"
         },
         {
          "action": "BR",
          "t": 17,
          "user": "M3"
         },
         {
          "action": "PS",
          "t": 18,
          "user": "A1"
         },
         {
          "action": "W",
          "t": 18,
          "user": "G1"
         },
         {
          "action": "IS",
          "t": 18,
          "user": "G3"
         },
         {
          "action": "BR",
          "t": 18,
          "user": "M1"
         },
         {
          "action": "C",
          "t": 18,
          "user": "M2"
         },
         {
          "action": "BR",
          "t": 19,
          "user": "A1"
         },
         {
          "action": "ID",
          "t": 19,
          "user": "A3"
         },
         {
          "action": "ID",
          "t": 19,
          "user": "G2"
         },
         {
          "action": "BR",
          "t": 20,
          "user": "A3"
         },
         {
          "action": "W",
          "t": 20,
          "user": "G2"
         },
         {
          "action": "IS",
          "t": 20,
          "user": "G3"
         },
         {
          "action": "BR",
          "t": 20,
          "user": "M2"
         },
         {
          "action": "C",
          "t": 21,
          "user": "A1"
         },
         {
          "action": "ID",
          "t": 21,
          "user": "G1"
         },
         {
          "action": "BR",
          "t": 21,
          "user": "G3"
         },
         {
          "action": "BR",
          "t": 21,
          "user": "M3"
         },
         {
          "action": "ID",
          "t": 22,
          "user": "A3"
         },
         {
          "action": "BR",
          "t": 22,
          "user": "M1"
         },
         {
          "action": "PS",
          "t": 22,
          "user": "M3"
         },
         {
          "action": "BR",
          "t": 23,
          "user": "A1"
         },
         {
          "action": "E",
          "t": 23,
          "user": "A2"
         },
         {
          "action": "C",
          "t": 23,
          "user": "G1"
         },
         {
          "action": "W",
          "t": 23,
          "user": "M1"
         },
         {
          "action": "W",
          "t": 24,
          "user": "A3"
         },
         {
          "action": "W",
          "t": 24,
          "user": "G1"
         },
         {
          "action": "IS",
          "t": 24,
          "user": "G2"
         },
         {
          "action": "ID",
          "t": 24,
          "user": "M3"
         },
         {
          "action": "PS",
          "t": 25,
          "user": "A1"
         },
         {
          "action": "BR",
          "t": 25,
          "user": "A3"
         },
         {
          "action": "PS",
          "t": 25,
          "user": "G1"
         },
         {
          "action": "ID",
          "t": 25,
          "user": "M2"
         },
         {
          "action": "W",
          "t": 25,
          "user": "M3"
         },
         {
          "action": "E",
          "t": 26,
          "user": "A1"
         },
         {
          "action": "W",
          "t": 26,
          "user": "G1"
         },
         {
          "action": "BR",
          "t": 26,
          "user": "G2"
         },
         {
          "action": "C",
          "t": 26,
          "user": "M2"
         },
         {
          "action": "IS",
          "t": 26,
          "user": "M3"
         },
         {
          "action": "E",
          "t": 27,
          "user": "A1"
         },
         {
          "action": "PS",
          "t": 27,
          "user": "A3"
         },
         {
          "action": "BR",
          "t": 27,
          "user": "G1"
         },
         {
          "action": "ID",
          "t": 27,
          "user": "M1"
         },
         {
          "action": "BR",
          "t": 27,
          "user": "M3"
         },
         {
          "action": "PS",
          "t": 28,
          "user": "A1"
         },
         {
          "action": "ID",
          "t": 28,
          "user": "A2"
         },
         {
          "action": "BR",
          "t": 28,
          "user": "A3"
         },
         {
          "action": "PS",
          "t": 28,
          "user": "G2"
         },
         {
          "action": "BR",
          "t": 28,
          "user": "M1"
         },
         {
          "action": "E",
          "t": 29,
          "user": "A2"
         },
         {
          "action": "W",
          "t": 29,
          "user": "M1"
         },
         {
          "action": "IS",
          "t": 29,
          "user": "M2"
         },
         {
          "action": "W",
          "t": 29,
          "user": "M3"
         },
         {
          "action": "W",
          "t": 30,
          "user": "A1"
         },
         {
          "action": "BR",
          "t": 30,
          "user": "A2"
         },
         {
          "action": "BR",
          "t": 30,
          "user": "A3"
         },
         {
          "action": "W",
          "t": 30,
          "user": "G2"
         },
         {
          "action": "C",
          "t": 30,
          "user": "M2"
         },
         {
          "action": "W",
          "t": 30,
          "user": "M3"
         },
         {
          "action": "ID",
          "t": 31,
          "user": "A1"
         },
         {
          "action": "PS",
          "t": 31,
          "user": "A2"
         },
         {
          "action": "E",
          "t": 31,
          "user": "M1"
         },
         {
          "action": "C",
          "t": 31,
          "user": "M2"
         },
         {
          "action": "BR",
          "t": 31,
          "user": "M3"
         },
         {
          "action": "W",
          "t": 32,
          "user": "A1"
         },
         {
          "action": "E",
          "t": 32,
          "user": "A2"
         },
         {
          "action": "W",
          "t": 32,
          "user": "A3"
         },
         {
          "action": "BR",
          "t": 32,
          "user": "G2"
         },
         {
          "action": "W",
          "t": 32,
          "user": "M1"
         },
         {
          "action": "BR",
          "t": 32,
          "user": "M2"
         },
         {
          "action": "W",
          "t": 33,
          "user": "A1"
         },
         {
          "action": "E",
          "t": 33,
          "user": "A2"
         },
         {
          "action": "BR",
          "t": 33,
          "user": "A3"
         },
         {
          "action": "E",
          "t": 33,
          "user": "M1"
         },
         {
          "action": "ID",
          "t": 34,
          "user": "A1"
         },
         {
          "action": "BR",
          "t": 34,
          "user": "M1"
         },
         {
          "action": "IS",
          "t": 34,
          "user": "M2"
         },
         {
          "action": "BR",
          "t": 35,
          "user": "A1"
         },
         {
          "action": "W",
          "t": 35,
          "user": "A2"
         },
         {
          "action": "BR",
          "t": 35,
          "user": "G2"
         },
         {
          "action": "IS",
          "t": 35,
          "user": "M2"
         },
         {
          "action": "E",
          "t": 36,
          "user": "A2"
         },
         {
          "action": "PD",
          "t": 37,
          "user": "G2"
         },
         {
          "action": "BR",
          "t": 38,
          "user": "A1"
         },
         {
          "action": "E",
          "t": 38,
          "user": "G2"
         },
         {
          "action": "IS",
          "t": 38,
          "user": "M2"
         },
         {
          "action": "IS",
          "t": 39,
          "user": "A2"
         },
         {
          "action": "PD",
          "t": 40,
          "user": "A2"
         },
         {
          "action": "ID",
          "t": 40,
          "user": "M2"
         },
         {
          "action": "BR",
          "t": 41,
          "user": "A2"
         },
         {
          "action": "IS",
          "t": 41,
          "user": "G2"
         },
         {
          "action": "BR",
          "t": 41,
          "user": "M2"
         },
         {
          "action": "W",
          "t": 42,
          "user": "A2"
         },
         {
          "action": "W",
          "t": 42,
          "user": "G2"
         },
         {
          "action": "E",
          "t": 43,
          "user": "A1"
         },
         {
          "action": "PS",
          "t": 43,
          "user": "A2"
         },
         {
          "action": "PS",
          "t": 44,
          "user": "A1"
         },
         {
          "action": "W",
          "t": 45,
          "user": "A1"
         },
         {
          "action": "W",
          "t": 45,
          "user": "A2"
         },
         {
          "action": "ID",
          "t": 45,
          "user": "G2"
         },
         {
          "action": "W",
          "t": 46,
          "user": "A1"
         },
         {
          "action": "W",
          "t": 47,
          "user": "A1"
         },
         {
          "action": "PS",
          "t": 47,
          "user": "A2"
         },
         {
          "action": "BR",
          "t": 47,
          "user": "G2"
         },
         {
          "action": "IS",
          "t": 48,
          "user": "A1"
         },
         {
          "action": "BR",
          "t": 48,
          "user": "A2"
         },
         {
          "action": "BR",
          "t": 49,
          "user": "A1"
         },
         {
          "action": "PS",
          "t": 49,
          "user": "G2"
         },
         {
          "action": "W",
          "t": 52,
          "user": "A1"
         },
         {
          "action": "BR",
          "t": 54,
          "user": "A1"
         },
         {
          "action": "ID",
          "t": 54,
          "user": "G2"
         },
         {
          "action": "ID",
          "t": 55,
          "user": "G2"
         },
         {
          "action": "E",
          "t": 56,
          "user": "A1"
         },
         {
          "action": "PS",
          "t": 56,
          "user": "G2"
         },
         {
          "action": "ID",
          "t": 57,
          "user": "A1"
         },
         {
          "action": "BR",
          "t": 57,
          "user": "G2"
         },
         {
          "action": "W",
          "t": 60,
          "user": "A1"
         },
         {
          "action": "BR",
          "t": 62,
          "user": "A1"
         },
         {
          "action": "E",
          "t": 64,
          "user": "A1"
         },
         {
          "action": "ID",
          "t": 65,
          "user": "A1"
         },
         {
          "action": "W",
          "t": 68,
          "user": "A1"
         },
         {
          "action": "BR",
          "t": 69,
          "user": "A1"
         }
        ]
       },
       "encoding": {
        "color": {
         "field": "action",
         "type": "nominal"
        },
        "x": {
         "field": "t",
         "type": "quantitative"
        },
        "y": {
         "field": "user",
         "type": "nominal"
        }
       },
       "mark": "circle"
      },
      "image/png": "[encoded data removed]",
      "text/plain": [
       "<VegaLite 2 object>\n",
       "\n",
       "If you see this message, it means the renderer has not been properly enabled\n",
       "for the frontend that you are using. For more information, see\n",
       "https://altair-viz.github.io/user_guide/troubleshooting.html\n"
      ]
     },
     "execution_count": 100,
     "metadata": {},
     "output_type": "execute_result"
    }
   ],
   "source": [
    "df_action = df[df.action.isin(actionOnly)]\n",
    "alt.Chart(df_action).mark_circle().encode(        \n",
    "    color='action',\n",
    "    y=\"user\",\n",
    "    x='t'\n",
    ")"
   ]
  },
  {
   "cell_type": "code",
   "execution_count": 101,
   "metadata": {},
   "outputs": [],
   "source": [
    "# Insight and Session Breaks"
   ]
  },
  {
   "cell_type": "code",
   "execution_count": 102,
   "metadata": {},
   "outputs": [],
   "source": [
    "df_break = df[df.action.isin([\"BR\"])]\n",
    "break_chart = alt.Chart(df_break).mark_tick(thickness=2,color=\"black\").encode(        \n",
    "    y=\"user\",\n",
    "    x='t'\n",
    ")"
   ]
  },
  {
   "cell_type": "code",
   "execution_count": 103,
   "metadata": {},
   "outputs": [
    {
     "name": "stderr",
     "output_type": "stream",
     "text": [
      "/Users/dorislee/.virtualenvs/py37env/lib/python3.7/site-packages/pandas/core/indexing.py:543: SettingWithCopyWarning: \n",
      "A value is trying to be set on a copy of a slice from a DataFrame.\n",
      "Try using .loc[row_indexer,col_indexer] = value instead\n",
      "\n",
      "See the caveats in the documentation: http://pandas.pydata.org/pandas-docs/stable/indexing.html#indexing-view-versus-copy\n",
      "  self.obj[item] = s\n"
     ]
    }
   ],
   "source": [
    "df_insight = df[df.action.isin([\"IS\",\"ID\"])]\n",
    "df_insight.loc[df_insight[\"action\"]==\"ID\",\"action\"]=\"data insight\"\n",
    "df_insight.loc[df_insight[\"action\"]==\"IS\",\"action\"]=\"scientific insight\"\n",
    "insight_chart = alt.Chart(df_insight).mark_point(shape=\"diamond\",color=\"red\").encode(        \n",
    "    alt.Y(\"user\",title=\"Participant\"),\n",
    "    alt.X(\"t\",title=\"Timepoint\"),\n",
    "    shape='action' #make no distinction between data and science insights\n",
    ")\n"
   ]
  },
  {
   "cell_type": "markdown",
   "metadata": {},
   "source": [
    "# Feature Only"
   ]
  },
  {
   "cell_type": "code",
   "execution_count": 104,
   "metadata": {
    "collapsed": true
   },
   "outputs": [
    {
     "name": "stderr",
     "output_type": "stream",
     "text": [
      "/Users/dorislee/.virtualenvs/py37env/lib/python3.7/site-packages/ipykernel_launcher.py:2: SettingWithCopyWarning: \n",
      "A value is trying to be set on a copy of a slice from a DataFrame.\n",
      "Try using .loc[row_indexer,col_indexer] = value instead\n",
      "\n",
      "See the caveats in the documentation: http://pandas.pydata.org/pandas-docs/stable/indexing.html#indexing-view-versus-copy\n",
      "  \n"
     ]
    }
   ],
   "source": [
    "df_feature = df[df.action.isin(featureOnly)]\n",
    "df_feature[\"Feature\"] = df_feature[\"action\"]\n",
    "feature_chart = alt.Chart(df_feature).mark_circle().encode(        \n",
    "    alt.Color(\"Feature\"),\n",
    "    y=\"user\",\n",
    "    x='t'\n",
    ")"
   ]
  },
  {
   "cell_type": "code",
   "execution_count": 105,
   "metadata": {},
   "outputs": [
    {
     "data": {
      "application/vnd.vegalite.v2+json": {
       "$schema": "https://vega.github.io/schema/vega-lite/v2.6.0.json",
       "config": {
        "view": {
         "height": 300,
         "width": 400
        }
       },
       "datasets": {
        "data-37a36f38c40d5a57d4bd1e4da3ff65dd": [
         {
          "action": "BR",
          "t": 2,
          "user": "G2"
         },
         {
          "action": "BR",
          "t": 4,
          "user": "A3"
         },
         {
          "action": "BR",
          "t": 5,
          "user": "G3"
         },
         {
          "action": "BR",
          "t": 6,
          "user": "G1"
         },
         {
          "action": "BR",
          "t": 8,
          "user": "G2"
         },
         {
          "action": "BR",
          "t": 8,
          "user": "M1"
         },
         {
          "action": "BR",
          "t": 9,
          "user": "A2"
         },
         {
          "action": "BR",
          "t": 10,
          "user": "G1"
         },
         {
          "action": "BR",
          "t": 12,
          "user": "M2"
         },
         {
          "action": "BR",
          "t": 14,
          "user": "A3"
         },
         {
          "action": "BR",
          "t": 14,
          "user": "G2"
         },
         {
          "action": "BR",
          "t": 14,
          "user": "G3"
         },
         {
          "action": "BR",
          "t": 15,
          "user": "G1"
         },
         {
          "action": "BR",
          "t": 16,
          "user": "G3"
         },
         {
          "action": "BR",
          "t": 16,
          "user": "M2"
         },
         {
          "action": "BR",
          "t": 17,
          "user": "G2"
         },
         {
          "action": "BR",
          "t": 17,
          "user": "M3"
         },
         {
          "action": "BR",
          "t": 18,
          "user": "M1"
         },
         {
          "action": "BR",
          "t": 19,
          "user": "A1"
         },
         {
          "action": "BR",
          "t": 20,
          "user": "A3"
         },
         {
          "action": "BR",
          "t": 20,
          "user": "M2"
         },
         {
          "action": "BR",
          "t": 21,
          "user": "G3"
         },
         {
          "action": "BR",
          "t": 21,
          "user": "M3"
         },
         {
          "action": "BR",
          "t": 22,
          "user": "M1"
         },
         {
          "action": "BR",
          "t": 23,
          "user": "A1"
         },
         {
          "action": "BR",
          "t": 25,
          "user": "A3"
         },
         {
          "action": "BR",
          "t": 26,
          "user": "G2"
         },
         {
          "action": "BR",
          "t": 27,
          "user": "G1"
         },
         {
          "action": "BR",
          "t": 27,
          "user": "M3"
         },
         {
          "action": "BR",
          "t": 28,
          "user": "A3"
         },
         {
          "action": "BR",
          "t": 28,
          "user": "M1"
         },
         {
          "action": "BR",
          "t": 30,
          "user": "A2"
         },
         {
          "action": "BR",
          "t": 30,
          "user": "A3"
         },
         {
          "action": "BR",
          "t": 31,
          "user": "M3"
         },
         {
          "action": "BR",
          "t": 32,
          "user": "G2"
         },
         {
          "action": "BR",
          "t": 32,
          "user": "M2"
         },
         {
          "action": "BR",
          "t": 33,
          "user": "A3"
         },
         {
          "action": "BR",
          "t": 34,
          "user": "M1"
         },
         {
          "action": "BR",
          "t": 35,
          "user": "A1"
         },
         {
          "action": "BR",
          "t": 35,
          "user": "G2"
         },
         {
          "action": "BR",
          "t": 38,
          "user": "A1"
         },
         {
          "action": "BR",
          "t": 41,
          "user": "A2"
         },
         {
          "action": "BR",
          "t": 41,
          "user": "M2"
         },
         {
          "action": "BR",
          "t": 47,
          "user": "G2"
         },
         {
          "action": "BR",
          "t": 48,
          "user": "A2"
         },
         {
          "action": "BR",
          "t": 49,
          "user": "A1"
         },
         {
          "action": "BR",
          "t": 54,
          "user": "A1"
         },
         {
          "action": "BR",
          "t": 57,
          "user": "G2"
         },
         {
          "action": "BR",
          "t": 62,
          "user": "A1"
         },
         {
          "action": "BR",
          "t": 69,
          "user": "A1"
         }
        ],
        "data-ae9aad36e5434c34dca00ee24f80aad6": [
         {
          "action": "data insight",
          "t": 0,
          "user": "G3"
         },
         {
          "action": "scientific insight",
          "t": 1,
          "user": "G2"
         },
         {
          "action": "data insight",
          "t": 1,
          "user": "M3"
         },
         {
          "action": "scientific insight",
          "t": 3,
          "user": "M3"
         },
         {
          "action": "scientific insight",
          "t": 4,
          "user": "A1"
         },
         {
          "action": "scientific insight",
          "t": 5,
          "user": "G1"
         },
         {
          "action": "data insight",
          "t": 6,
          "user": "A2"
         },
         {
          "action": "data insight",
          "t": 7,
          "user": "M3"
         },
         {
          "action": "data insight",
          "t": 8,
          "user": "A1"
         },
         {
          "action": "data insight",
          "t": 8,
          "user": "A2"
         },
         {
          "action": "scientific insight",
          "t": 8,
          "user": "G1"
         },
         {
          "action": "scientific insight",
          "t": 9,
          "user": "M2"
         },
         {
          "action": "scientific insight",
          "t": 9,
          "user": "M3"
         },
         {
          "action": "scientific insight",
          "t": 10,
          "user": "M2"
         },
         {
          "action": "scientific insight",
          "t": 11,
          "user": "A1"
         },
         {
          "action": "data insight",
          "t": 11,
          "user": "A3"
         },
         {
          "action": "data insight",
          "t": 11,
          "user": "G3"
         },
         {
          "action": "scientific insight",
          "t": 11,
          "user": "M1"
         },
         {
          "action": "scientific insight",
          "t": 12,
          "user": "M3"
         },
         {
          "action": "scientific insight",
          "t": 13,
          "user": "G3"
         },
         {
          "action": "scientific insight",
          "t": 15,
          "user": "M2"
         },
         {
          "action": "data insight",
          "t": 16,
          "user": "G2"
         },
         {
          "action": "scientific insight",
          "t": 16,
          "user": "M3"
         },
         {
          "action": "scientific insight",
          "t": 17,
          "user": "M1"
         },
         {
          "action": "scientific insight",
          "t": 18,
          "user": "G3"
         },
         {
          "action": "data insight",
          "t": 19,
          "user": "A3"
         },
         {
          "action": "data insight",
          "t": 19,
          "user": "G2"
         },
         {
          "action": "scientific insight",
          "t": 20,
          "user": "G3"
         },
         {
          "action": "data insight",
          "t": 21,
          "user": "G1"
         },
         {
          "action": "data insight",
          "t": 22,
          "user": "A3"
         },
         {
          "action": "scientific insight",
          "t": 24,
          "user": "G2"
         },
         {
          "action": "data insight",
          "t": 24,
          "user": "M3"
         },
         {
          "action": "data insight",
          "t": 25,
          "user": "M2"
         },
         {
          "action": "scientific insight",
          "t": 26,
          "user": "M3"
         },
         {
          "action": "data insight",
          "t": 27,
          "user": "M1"
         },
         {
          "action": "data insight",
          "t": 28,
          "user": "A2"
         },
         {
          "action": "scientific insight",
          "t": 29,
          "user": "M2"
         },
         {
          "action": "data insight",
          "t": 31,
          "user": "A1"
         },
         {
          "action": "data insight",
          "t": 34,
          "user": "A1"
         },
         {
          "action": "scientific insight",
          "t": 34,
          "user": "M2"
         },
         {
          "action": "scientific insight",
          "t": 35,
          "user": "M2"
         },
         {
          "action": "scientific insight",
          "t": 38,
          "user": "M2"
         },
         {
          "action": "scientific insight",
          "t": 39,
          "user": "A2"
         },
         {
          "action": "data insight",
          "t": 40,
          "user": "M2"
         },
         {
          "action": "scientific insight",
          "t": 41,
          "user": "G2"
         },
         {
          "action": "data insight",
          "t": 45,
          "user": "G2"
         },
         {
          "action": "scientific insight",
          "t": 48,
          "user": "A1"
         },
         {
          "action": "data insight",
          "t": 54,
          "user": "G2"
         },
         {
          "action": "data insight",
          "t": 55,
          "user": "G2"
         },
         {
          "action": "data insight",
          "t": 57,
          "user": "A1"
         },
         {
          "action": "data insight",
          "t": 65,
          "user": "A1"
         }
        ],
        "data-b54fc4c4f156a9f57092f6ac56595f38": [
         {
          "Feature": "filter",
          "action": "filter",
          "t": 0,
          "user": "A1"
         },
         {
          "Feature": "filter",
          "action": "filter",
          "t": 0,
          "user": "A2"
         },
         {
          "Feature": "drag-and-drop",
          "action": "drag-and-drop",
          "t": 0,
          "user": "A3"
         },
         {
          "Feature": "representative-outlier",
          "action": "representative-outlier",
          "t": 0,
          "user": "G1"
         },
         {
          "Feature": "representative-outlier",
          "action": "representative-outlier",
          "t": 0,
          "user": "G2"
         },
         {
          "Feature": "show-scatter",
          "action": "show-scatter",
          "t": 0,
          "user": "M2"
         },
         {
          "Feature": "dynamic-class",
          "action": "dynamic-class",
          "t": 0,
          "user": "M3"
         },
         {
          "Feature": "filter",
          "action": "filter",
          "t": 1,
          "user": "A1"
         },
         {
          "Feature": "drag-and-drop",
          "action": "drag-and-drop",
          "t": 1,
          "user": "A3"
         },
         {
          "Feature": "control-kmeans-clustersize",
          "action": "control-kmeans-clustersize",
          "t": 1,
          "user": "G1"
         },
         {
          "Feature": "sketch-to-query",
          "action": "sketch-to-query",
          "t": 1,
          "user": "M1"
         },
         {
          "Feature": "change-axis",
          "action": "change-axis",
          "t": 1,
          "user": "M2"
         },
         {
          "Feature": "filter",
          "action": "filter",
          "t": 2,
          "user": "A1"
         },
         {
          "Feature": "sketch-to-modify",
          "action": "sketch-to-modify",
          "t": 2,
          "user": "A3"
         },
         {
          "Feature": "representative-outlier",
          "action": "representative-outlier",
          "t": 2,
          "user": "G1"
         },
         {
          "Feature": "ignore-xrange",
          "action": "ignore-xrange",
          "t": 2,
          "user": "M1"
         },
         {
          "Feature": "show-scatter",
          "action": "show-scatter",
          "t": 2,
          "user": "M3"
         },
         {
          "Feature": "filter",
          "action": "filter",
          "t": 3,
          "user": "A1"
         },
         {
          "Feature": "representative-outlier",
          "action": "representative-outlier",
          "t": 3,
          "user": "A2"
         },
         {
          "Feature": "ignore-xrange",
          "action": "ignore-xrange",
          "t": 3,
          "user": "A3"
         },
         {
          "Feature": "control-kmeans-clustersize",
          "action": "control-kmeans-clustersize",
          "t": 3,
          "user": "G1"
         },
         {
          "Feature": "representative-outlier",
          "action": "representative-outlier",
          "t": 3,
          "user": "G2"
         },
         {
          "Feature": "show-scatter",
          "action": "show-scatter",
          "t": 3,
          "user": "G3"
         },
         {
          "Feature": "dynamic-class",
          "action": "dynamic-class",
          "t": 3,
          "user": "M2"
         },
         {
          "Feature": "drag-and-drop",
          "action": "drag-and-drop",
          "t": 4,
          "user": "A2"
         },
         {
          "Feature": "control-kmeans-clustersize",
          "action": "control-kmeans-clustersize",
          "t": 4,
          "user": "G2"
         },
         {
          "Feature": "upload-dataset",
          "action": "upload-dataset",
          "t": 4,
          "user": "G3"
         },
         {
          "Feature": "change-axis",
          "action": "change-axis",
          "t": 4,
          "user": "M1"
         },
         {
          "Feature": "dynamic-class",
          "action": "dynamic-class",
          "t": 4,
          "user": "M2"
         },
         {
          "Feature": "dynamic-class",
          "action": "dynamic-class",
          "t": 4,
          "user": "M3"
         },
         {
          "Feature": "drag-and-drop",
          "action": "drag-and-drop",
          "t": 5,
          "user": "A3"
         },
         {
          "Feature": "representative-outlier",
          "action": "representative-outlier",
          "t": 5,
          "user": "G2"
         },
         {
          "Feature": "dynamic-class",
          "action": "dynamic-class",
          "t": 5,
          "user": "M2"
         },
         {
          "Feature": "ignore-xrange",
          "action": "ignore-xrange",
          "t": 6,
          "user": "A3"
         },
         {
          "Feature": "filter",
          "action": "filter",
          "t": 6,
          "user": "G2"
         },
         {
          "Feature": "representative-outlier",
          "action": "representative-outlier",
          "t": 6,
          "user": "G3"
         },
         {
          "Feature": "dynamic-class",
          "action": "dynamic-class",
          "t": 6,
          "user": "M2"
         },
         {
          "Feature": "dynamic-class",
          "action": "dynamic-class",
          "t": 6,
          "user": "M3"
         },
         {
          "Feature": "drag-and-drop",
          "action": "drag-and-drop",
          "t": 7,
          "user": "A1"
         },
         {
          "Feature": "change-metric",
          "action": "change-metric",
          "t": 7,
          "user": "A3"
         },
         {
          "Feature": "drag-and-drop",
          "action": "drag-and-drop",
          "t": 7,
          "user": "G1"
         },
         {
          "Feature": "change-metric",
          "action": "change-metric",
          "t": 8,
          "user": "G3"
         },
         {
          "Feature": "dynamic-class",
          "action": "dynamic-class",
          "t": 8,
          "user": "M2"
         },
         {
          "Feature": "change-axis",
          "action": "change-axis",
          "t": 8,
          "user": "M3"
         },
         {
          "Feature": "filter",
          "action": "filter",
          "t": 9,
          "user": "A1"
         },
         {
          "Feature": "brush-xrange",
          "action": "brush-xrange",
          "t": 9,
          "user": "A3"
         },
         {
          "Feature": "control-kmeans-clustersize",
          "action": "control-kmeans-clustersize",
          "t": 9,
          "user": "G3"
         },
         {
          "Feature": "brush-xrange",
          "action": "brush-xrange",
          "t": 9,
          "user": "M1"
         },
         {
          "Feature": "filter",
          "action": "filter",
          "t": 10,
          "user": "A2"
         },
         {
          "Feature": "change-metric",
          "action": "change-metric",
          "t": 10,
          "user": "A3"
         },
         {
          "Feature": "drag-and-drop",
          "action": "drag-and-drop",
          "t": 10,
          "user": "G2"
         },
         {
          "Feature": "representative-outlier",
          "action": "representative-outlier",
          "t": 10,
          "user": "G3"
         },
         {
          "Feature": "change-axis",
          "action": "change-axis",
          "t": 10,
          "user": "M1"
         },
         {
          "Feature": "drag-and-drop",
          "action": "drag-and-drop",
          "t": 10,
          "user": "M3"
         },
         {
          "Feature": "drag-and-drop",
          "action": "drag-and-drop",
          "t": 11,
          "user": "G1"
         },
         {
          "Feature": "dynamic-class",
          "action": "dynamic-class",
          "t": 11,
          "user": "M3"
         },
         {
          "Feature": "representative-outlier",
          "action": "representative-outlier",
          "t": 12,
          "user": "A2"
         },
         {
          "Feature": "change-metric",
          "action": "change-metric",
          "t": 12,
          "user": "A3"
         },
         {
          "Feature": "min-similarity-cutoff",
          "action": "min-similarity-cutoff",
          "t": 12,
          "user": "G1"
         },
         {
          "Feature": "filter",
          "action": "filter",
          "t": 12,
          "user": "G2"
         },
         {
          "Feature": "drag-and-drop",
          "action": "drag-and-drop",
          "t": 12,
          "user": "G3"
         },
         {
          "Feature": "representative-outlier",
          "action": "representative-outlier",
          "t": 12,
          "user": "M1"
         },
         {
          "Feature": "drag-and-drop",
          "action": "drag-and-drop",
          "t": 13,
          "user": "A2"
         },
         {
          "Feature": "brush-xrange",
          "action": "brush-xrange",
          "t": 13,
          "user": "G1"
         },
         {
          "Feature": "change-metric",
          "action": "change-metric",
          "t": 13,
          "user": "M3"
         },
         {
          "Feature": "change-number-of-results",
          "action": "change-number-of-results",
          "t": 14,
          "user": "A2"
         },
         {
          "Feature": "export",
          "action": "export",
          "t": 14,
          "user": "G1"
         },
         {
          "Feature": "dynamic-class",
          "action": "dynamic-class",
          "t": 14,
          "user": "M2"
         },
         {
          "Feature": "export",
          "action": "export",
          "t": 15,
          "user": "A2"
         },
         {
          "Feature": "filter",
          "action": "filter",
          "t": 15,
          "user": "A3"
         },
         {
          "Feature": "show-scatter",
          "action": "show-scatter",
          "t": 15,
          "user": "G2"
         },
         {
          "Feature": "export",
          "action": "export",
          "t": 15,
          "user": "G3"
         },
         {
          "Feature": "dynamic-class",
          "action": "dynamic-class",
          "t": 15,
          "user": "M1"
         },
         {
          "Feature": "drag-and-drop",
          "action": "drag-and-drop",
          "t": 15,
          "user": "M3"
         },
         {
          "Feature": "reverse-y",
          "action": "reverse-y",
          "t": 16,
          "user": "A1"
         },
         {
          "Feature": "filter",
          "action": "filter",
          "t": 16,
          "user": "A2"
         },
         {
          "Feature": "control-kmeans-clustersize",
          "action": "control-kmeans-clustersize",
          "t": 16,
          "user": "G1"
         },
         {
          "Feature": "representative-outlier",
          "action": "representative-outlier",
          "t": 17,
          "user": "G3"
         },
         {
          "Feature": "sketch-to-query",
          "action": "sketch-to-query",
          "t": 17,
          "user": "M2"
         },
         {
          "Feature": "representative-outlier",
          "action": "representative-outlier",
          "t": 18,
          "user": "A2"
         },
         {
          "Feature": "filter",
          "action": "filter",
          "t": 18,
          "user": "A3"
         },
         {
          "Feature": "sketch-to-query",
          "action": "sketch-to-query",
          "t": 18,
          "user": "G2"
         },
         {
          "Feature": "change-axis",
          "action": "change-axis",
          "t": 18,
          "user": "M3"
         },
         {
          "Feature": "drag-and-drop",
          "action": "drag-and-drop",
          "t": 19,
          "user": "A2"
         },
         {
          "Feature": "drag-and-drop",
          "action": "drag-and-drop",
          "t": 19,
          "user": "G1"
         },
         {
          "Feature": "ignore-xrange",
          "action": "ignore-xrange",
          "t": 19,
          "user": "G3"
         },
         {
          "Feature": "filter",
          "action": "filter",
          "t": 19,
          "user": "M1"
         },
         {
          "Feature": "sketch-to-modify",
          "action": "sketch-to-modify",
          "t": 19,
          "user": "M2"
         },
         {
          "Feature": "sketch-to-query",
          "action": "sketch-to-query",
          "t": 19,
          "user": "M3"
         },
         {
          "Feature": "drag-and-drop",
          "action": "drag-and-drop",
          "t": 20,
          "user": "A1"
         },
         {
          "Feature": "change-number-of-results",
          "action": "change-number-of-results",
          "t": 20,
          "user": "A2"
         },
         {
          "Feature": "drag-and-drop",
          "action": "drag-and-drop",
          "t": 20,
          "user": "G1"
         },
         {
          "Feature": "sketch-to-query",
          "action": "sketch-to-query",
          "t": 20,
          "user": "M1"
         },
         {
          "Feature": "sketch-to-query",
          "action": "sketch-to-query",
          "t": 20,
          "user": "M3"
         },
         {
          "Feature": "export",
          "action": "export",
          "t": 21,
          "user": "A2"
         },
         {
          "Feature": "change-axis",
          "action": "change-axis",
          "t": 21,
          "user": "A3"
         },
         {
          "Feature": "ignore-xrange",
          "action": "ignore-xrange",
          "t": 21,
          "user": "G2"
         },
         {
          "Feature": "show-scatter",
          "action": "show-scatter",
          "t": 21,
          "user": "M1"
         },
         {
          "Feature": "change-axis",
          "action": "change-axis",
          "t": 21,
          "user": "M2"
         },
         {
          "Feature": "filter",
          "action": "filter",
          "t": 22,
          "user": "A1"
         },
         {
          "Feature": "filter",
          "action": "filter",
          "t": 22,
          "user": "A2"
         },
         {
          "Feature": "control-kmeans-clustersize",
          "action": "control-kmeans-clustersize",
          "t": 22,
          "user": "G1"
         },
         {
          "Feature": "sketch-to-query",
          "action": "sketch-to-query",
          "t": 22,
          "user": "G2"
         },
         {
          "Feature": "sketch-to-modify",
          "action": "sketch-to-modify",
          "t": 22,
          "user": "M2"
         },
         {
          "Feature": "filter",
          "action": "filter",
          "t": 23,
          "user": "A3"
         },
         {
          "Feature": "filter",
          "action": "filter",
          "t": 23,
          "user": "G2"
         },
         {
          "Feature": "drag-and-drop",
          "action": "drag-and-drop",
          "t": 23,
          "user": "M2"
         },
         {
          "Feature": "drag-and-drop",
          "action": "drag-and-drop",
          "t": 23,
          "user": "M3"
         },
         {
          "Feature": "filter",
          "action": "filter",
          "t": 24,
          "user": "A1"
         },
         {
          "Feature": "representative-outlier",
          "action": "representative-outlier",
          "t": 24,
          "user": "A2"
         },
         {
          "Feature": "filter",
          "action": "filter",
          "t": 24,
          "user": "M1"
         },
         {
          "Feature": "sketch-to-modify",
          "action": "sketch-to-modify",
          "t": 24,
          "user": "M2"
         },
         {
          "Feature": "drag-and-drop",
          "action": "drag-and-drop",
          "t": 25,
          "user": "A2"
         },
         {
          "Feature": "filter",
          "action": "filter",
          "t": 25,
          "user": "G2"
         },
         {
          "Feature": "filter",
          "action": "filter",
          "t": 25,
          "user": "M1"
         },
         {
          "Feature": "change-number-of-results",
          "action": "change-number-of-results",
          "t": 26,
          "user": "A2"
         },
         {
          "Feature": "change-axis",
          "action": "change-axis",
          "t": 26,
          "user": "A3"
         },
         {
          "Feature": "filter",
          "action": "filter",
          "t": 26,
          "user": "M1"
         },
         {
          "Feature": "export",
          "action": "export",
          "t": 27,
          "user": "A2"
         },
         {
          "Feature": "filter",
          "action": "filter",
          "t": 27,
          "user": "G2"
         },
         {
          "Feature": "drag-and-drop",
          "action": "drag-and-drop",
          "t": 27,
          "user": "M2"
         },
         {
          "Feature": "sketch-to-modify",
          "action": "sketch-to-modify",
          "t": 28,
          "user": "M2"
         },
         {
          "Feature": "change-axis",
          "action": "change-axis",
          "t": 28,
          "user": "M3"
         },
         {
          "Feature": "brush-xrange",
          "action": "brush-xrange",
          "t": 29,
          "user": "A1"
         },
         {
          "Feature": "input-equation",
          "action": "input-equation",
          "t": 29,
          "user": "A3"
         },
         {
          "Feature": "filter",
          "action": "filter",
          "t": 29,
          "user": "G2"
         },
         {
          "Feature": "export",
          "action": "export",
          "t": 30,
          "user": "M1"
         },
         {
          "Feature": "export",
          "action": "export",
          "t": 31,
          "user": "A3"
         },
         {
          "Feature": "representative-outlier",
          "action": "representative-outlier",
          "t": 31,
          "user": "G2"
         },
         {
          "Feature": "smoothing",
          "action": "smoothing",
          "t": 33,
          "user": "G2"
         },
         {
          "Feature": "dynamic-class",
          "action": "dynamic-class",
          "t": 33,
          "user": "M2"
         },
         {
          "Feature": "dynamic-class",
          "action": "dynamic-class",
          "t": 34,
          "user": "A2"
         },
         {
          "Feature": "smoothing",
          "action": "smoothing",
          "t": 34,
          "user": "G2"
         },
         {
          "Feature": "filter",
          "action": "filter",
          "t": 36,
          "user": "A1"
         },
         {
          "Feature": "pattern-upload",
          "action": "pattern-upload",
          "t": 36,
          "user": "G2"
         },
         {
          "Feature": "representative-outlier",
          "action": "representative-outlier",
          "t": 36,
          "user": "M2"
         },
         {
          "Feature": "filter",
          "action": "filter",
          "t": 37,
          "user": "A1"
         },
         {
          "Feature": "change-axis",
          "action": "change-axis",
          "t": 37,
          "user": "A2"
         },
         {
          "Feature": "filter",
          "action": "filter",
          "t": 37,
          "user": "M2"
         },
         {
          "Feature": "ignore-xrange",
          "action": "ignore-xrange",
          "t": 38,
          "user": "A2"
         },
         {
          "Feature": "smoothing",
          "action": "smoothing",
          "t": 39,
          "user": "A1"
         },
         {
          "Feature": "filter",
          "action": "filter",
          "t": 39,
          "user": "G2"
         },
         {
          "Feature": "change-axis",
          "action": "change-axis",
          "t": 39,
          "user": "M2"
         },
         {
          "Feature": "sketch-to-query",
          "action": "sketch-to-query",
          "t": 40,
          "user": "A1"
         },
         {
          "Feature": "drag-and-drop",
          "action": "drag-and-drop",
          "t": 40,
          "user": "G2"
         },
         {
          "Feature": "sketch-to-query",
          "action": "sketch-to-query",
          "t": 41,
          "user": "A1"
         },
         {
          "Feature": "filter",
          "action": "filter",
          "t": 42,
          "user": "A1"
         },
         {
          "Feature": "export",
          "action": "export",
          "t": 43,
          "user": "G2"
         },
         {
          "Feature": "drag-and-drop",
          "action": "drag-and-drop",
          "t": 44,
          "user": "A2"
         },
         {
          "Feature": "representative-outlier",
          "action": "representative-outlier",
          "t": 44,
          "user": "G2"
         },
         {
          "Feature": "brush-xrange",
          "action": "brush-xrange",
          "t": 46,
          "user": "A2"
         },
         {
          "Feature": "export",
          "action": "export",
          "t": 46,
          "user": "G2"
         },
         {
          "Feature": "brush-xrange",
          "action": "brush-xrange",
          "t": 48,
          "user": "G2"
         },
         {
          "Feature": "dynamic-class",
          "action": "dynamic-class",
          "t": 50,
          "user": "A1"
         },
         {
          "Feature": "upload-dataset",
          "action": "upload-dataset",
          "t": 50,
          "user": "G2"
         },
         {
          "Feature": "dynamic-class",
          "action": "dynamic-class",
          "t": 51,
          "user": "A1"
         },
         {
          "Feature": "smoothing",
          "action": "smoothing",
          "t": 51,
          "user": "G2"
         },
         {
          "Feature": "control-kmeans-clustersize",
          "action": "control-kmeans-clustersize",
          "t": 52,
          "user": "G2"
         },
         {
          "Feature": "dynamic-class",
          "action": "dynamic-class",
          "t": 53,
          "user": "A1"
         },
         {
          "Feature": "representative-outlier",
          "action": "representative-outlier",
          "t": 53,
          "user": "G2"
         },
         {
          "Feature": "filter",
          "action": "filter",
          "t": 55,
          "user": "A1"
         },
         {
          "Feature": "pattern-upload",
          "action": "pattern-upload",
          "t": 58,
          "user": "A1"
         },
         {
          "Feature": "export",
          "action": "export",
          "t": 59,
          "user": "A1"
         },
         {
          "Feature": "dynamic-class",
          "action": "dynamic-class",
          "t": 61,
          "user": "A1"
         },
         {
          "Feature": "filter",
          "action": "filter",
          "t": 63,
          "user": "A1"
         },
         {
          "Feature": "pattern-upload",
          "action": "pattern-upload",
          "t": 66,
          "user": "A1"
         },
         {
          "Feature": "export",
          "action": "export",
          "t": 67,
          "user": "A1"
         }
        ]
       },
       "layer": [
        {
         "data": {
          "name": "data-b54fc4c4f156a9f57092f6ac56595f38"
         },
         "encoding": {
          "color": {
           "field": "Feature",
           "type": "nominal"
          },
          "x": {
           "field": "t",
           "type": "quantitative"
          },
          "y": {
           "field": "user",
           "type": "nominal"
          }
         },
         "mark": "circle"
        },
        {
         "data": {
          "name": "data-37a36f38c40d5a57d4bd1e4da3ff65dd"
         },
         "encoding": {
          "x": {
           "field": "t",
           "type": "quantitative"
          },
          "y": {
           "field": "user",
           "type": "nominal"
          }
         },
         "mark": {
          "color": "black",
          "thickness": 2,
          "type": "tick"
         }
        },
        {
         "data": {
          "name": "data-ae9aad36e5434c34dca00ee24f80aad6"
         },
         "encoding": {
          "shape": {
           "field": "action",
           "type": "nominal"
          },
          "x": {
           "field": "t",
           "title": "Timepoint",
           "type": "quantitative"
          },
          "y": {
           "field": "user",
           "title": "Participant",
           "type": "nominal"
          }
         },
         "mark": {
          "color": "red",
          "shape": "diamond",
          "type": "point"
         }
        }
       ],
       "title": "Evaluation Study Event Timeline Breakdown by Feature"
      },
      "image/png": "[encoded data removed]",
      "text/plain": [
       "<VegaLite 2 object>\n",
       "\n",
       "If you see this message, it means the renderer has not been properly enabled\n",
       "for the frontend that you are using. For more information, see\n",
       "https://altair-viz.github.io/user_guide/troubleshooting.html\n"
      ]
     },
     "execution_count": 105,
     "metadata": {},
     "output_type": "execute_result"
    }
   ],
   "source": [
    "chart = feature_chart+ break_chart + insight_chart\n",
    "chart.title=\"Evaluation Study Event Timeline Breakdown by Feature\"\n",
    "chart"
   ]
  },
  {
   "cell_type": "code",
   "execution_count": 106,
   "metadata": {},
   "outputs": [],
   "source": [
    "# df_feature = df[~df.action.isin(featureOnly)]"
   ]
  },
  {
   "cell_type": "markdown",
   "metadata": {},
   "source": [
    "# Key Components"
   ]
  },
  {
   "cell_type": "code",
   "execution_count": 107,
   "metadata": {},
   "outputs": [],
   "source": [
    "component_dict = {\n",
    "     'pattern-upload':'concept-query',\n",
    "     'sketch-to-modify':'exact-specification',\n",
    "     'drag-and-drop':'result-querying',\n",
    "     'change-metric':'flexible-matching',\n",
    "     'filter':'filter-selection',\n",
    "     'brush-xrange':'range-selection',\n",
    "     'min-similarity-cutoff':'control',\n",
    "     'smoothing':'approx-shape-specification',\n",
    "     'ignore-xrange':'approx-shape-specification',\n",
    "     'representative-outlier':'recommendation',\n",
    "     'dynamic-class':'group-comparison',\n",
    "     'sketch-to-query':'exact-specification',\n",
    "     'reverse-y':'control',\n",
    "     'input-equation':'exact-specification',\n",
    "     'upload-dataset':'control',\n",
    "     'show-scatter':'control',\n",
    "     'export':'control',\n",
    "     'change-number-of-results':'control',\n",
    "     'control-kmeans-clustersize':'recommendation',\n",
    "     'change-axis':'control'\n",
    "}"
   ]
  },
  {
   "cell_type": "code",
   "execution_count": 108,
   "metadata": {},
   "outputs": [
    {
     "name": "stderr",
     "output_type": "stream",
     "text": [
      "/Users/dorislee/.virtualenvs/py37env/lib/python3.7/site-packages/ipykernel_launcher.py:2: SettingWithCopyWarning: \n",
      "A value is trying to be set on a copy of a slice from a DataFrame.\n",
      "Try using .loc[row_indexer,col_indexer] = value instead\n",
      "\n",
      "See the caveats in the documentation: http://pandas.pydata.org/pandas-docs/stable/indexing.html#indexing-view-versus-copy\n",
      "  \n"
     ]
    }
   ],
   "source": [
    "df_component = df_feature\n",
    "df_component[\"action\"] = df_feature[\"action\"].replace(component_dict)\n",
    "df_component= df_component.rename(index=str,columns={\"action\":\"component\"})"
   ]
  },
  {
   "cell_type": "code",
   "execution_count": 109,
   "metadata": {},
   "outputs": [],
   "source": [
    "# df_component = df_component[df_component[\"component\"]!=\"control\"] #remove control in list of components"
   ]
  },
  {
   "cell_type": "code",
   "execution_count": 110,
   "metadata": {},
   "outputs": [
    {
     "data": {
      "application/vnd.vegalite.v2+json": {
       "$schema": "https://vega.github.io/schema/vega-lite/v2.6.0.json",
       "config": {
        "view": {
         "height": 300,
         "width": 400
        }
       },
       "data": {
        "name": "data-26e81d2c55ebfa557042f7c3d236bcfe"
       },
       "datasets": {
        "data-26e81d2c55ebfa557042f7c3d236bcfe": [
         {
          "Feature": "filter",
          "component": "filter-selection",
          "t": 0,
          "user": "A1"
         },
         {
          "Feature": "filter",
          "component": "filter-selection",
          "t": 0,
          "user": "A2"
         },
         {
          "Feature": "drag-and-drop",
          "component": "result-querying",
          "t": 0,
          "user": "A3"
         },
         {
          "Feature": "representative-outlier",
          "component": "recommendation",
          "t": 0,
          "user": "G1"
         },
         {
          "Feature": "representative-outlier",
          "component": "recommendation",
          "t": 0,
          "user": "G2"
         },
         {
          "Feature": "show-scatter",
          "component": "control",
          "t": 0,
          "user": "M2"
         },
         {
          "Feature": "dynamic-class",
          "component": "group-comparison",
          "t": 0,
          "user": "M3"
         },
         {
          "Feature": "filter",
          "component": "filter-selection",
          "t": 1,
          "user": "A1"
         },
         {
          "Feature": "drag-and-drop",
          "component": "result-querying",
          "t": 1,
          "user": "A3"
         },
         {
          "Feature": "control-kmeans-clustersize",
          "component": "recommendation",
          "t": 1,
          "user": "G1"
         },
         {
          "Feature": "sketch-to-query",
          "component": "exact-specification",
          "t": 1,
          "user": "M1"
         },
         {
          "Feature": "change-axis",
          "component": "control",
          "t": 1,
          "user": "M2"
         },
         {
          "Feature": "filter",
          "component": "filter-selection",
          "t": 2,
          "user": "A1"
         },
         {
          "Feature": "sketch-to-modify",
          "component": "exact-specification",
          "t": 2,
          "user": "A3"
         },
         {
          "Feature": "representative-outlier",
          "component": "recommendation",
          "t": 2,
          "user": "G1"
         },
         {
          "Feature": "ignore-xrange",
          "component": "approx-shape-specification",
          "t": 2,
          "user": "M1"
         },
         {
          "Feature": "show-scatter",
          "component": "control",
          "t": 2,
          "user": "M3"
         },
         {
          "Feature": "filter",
          "component": "filter-selection",
          "t": 3,
          "user": "A1"
         },
         {
          "Feature": "representative-outlier",
          "component": "recommendation",
          "t": 3,
          "user": "A2"
         },
         {
          "Feature": "ignore-xrange",
          "component": "approx-shape-specification",
          "t": 3,
          "user": "A3"
         },
         {
          "Feature": "control-kmeans-clustersize",
          "component": "recommendation",
          "t": 3,
          "user": "G1"
         },
         {
          "Feature": "representative-outlier",
          "component": "recommendation",
          "t": 3,
          "user": "G2"
         },
         {
          "Feature": "show-scatter",
          "component": "control",
          "t": 3,
          "user": "G3"
         },
         {
          "Feature": "dynamic-class",
          "component": "group-comparison",
          "t": 3,
          "user": "M2"
         },
         {
          "Feature": "drag-and-drop",
          "component": "result-querying",
          "t": 4,
          "user": "A2"
         },
         {
          "Feature": "control-kmeans-clustersize",
          "component": "recommendation",
          "t": 4,
          "user": "G2"
         },
         {
          "Feature": "upload-dataset",
          "component": "control",
          "t": 4,
          "user": "G3"
         },
         {
          "Feature": "change-axis",
          "component": "control",
          "t": 4,
          "user": "M1"
         },
         {
          "Feature": "dynamic-class",
          "component": "group-comparison",
          "t": 4,
          "user": "M2"
         },
         {
          "Feature": "dynamic-class",
          "component": "group-comparison",
          "t": 4,
          "user": "M3"
         },
         {
          "Feature": "drag-and-drop",
          "component": "result-querying",
          "t": 5,
          "user": "A3"
         },
         {
          "Feature": "representative-outlier",
          "component": "recommendation",
          "t": 5,
          "user": "G2"
         },
         {
          "Feature": "dynamic-class",
          "component": "group-comparison",
          "t": 5,
          "user": "M2"
         },
         {
          "Feature": "ignore-xrange",
          "component": "approx-shape-specification",
          "t": 6,
          "user": "A3"
         },
         {
          "Feature": "filter",
          "component": "filter-selection",
          "t": 6,
          "user": "G2"
         },
         {
          "Feature": "representative-outlier",
          "component": "recommendation",
          "t": 6,
          "user": "G3"
         },
         {
          "Feature": "dynamic-class",
          "component": "group-comparison",
          "t": 6,
          "user": "M2"
         },
         {
          "Feature": "dynamic-class",
          "component": "group-comparison",
          "t": 6,
          "user": "M3"
         },
         {
          "Feature": "drag-and-drop",
          "component": "result-querying",
          "t": 7,
          "user": "A1"
         },
         {
          "Feature": "change-metric",
          "component": "flexible-matching",
          "t": 7,
          "user": "A3"
         },
         {
          "Feature": "drag-and-drop",
          "component": "result-querying",
          "t": 7,
          "user": "G1"
         },
         {
          "Feature": "change-metric",
          "component": "flexible-matching",
          "t": 8,
          "user": "G3"
         },
         {
          "Feature": "dynamic-class",
          "component": "group-comparison",
          "t": 8,
          "user": "M2"
         },
         {
          "Feature": "change-axis",
          "component": "control",
          "t": 8,
          "user": "M3"
         },
         {
          "Feature": "filter",
          "component": "filter-selection",
          "t": 9,
          "user": "A1"
         },
         {
          "Feature": "brush-xrange",
          "component": "range-selection",
          "t": 9,
          "user": "A3"
         },
         {
          "Feature": "control-kmeans-clustersize",
          "component": "recommendation",
          "t": 9,
          "user": "G3"
         },
         {
          "Feature": "brush-xrange",
          "component": "range-selection",
          "t": 9,
          "user": "M1"
         },
         {
          "Feature": "filter",
          "component": "filter-selection",
          "t": 10,
          "user": "A2"
         },
         {
          "Feature": "change-metric",
          "component": "flexible-matching",
          "t": 10,
          "user": "A3"
         },
         {
          "Feature": "drag-and-drop",
          "component": "result-querying",
          "t": 10,
          "user": "G2"
         },
         {
          "Feature": "representative-outlier",
          "component": "recommendation",
          "t": 10,
          "user": "G3"
         },
         {
          "Feature": "change-axis",
          "component": "control",
          "t": 10,
          "user": "M1"
         },
         {
          "Feature": "drag-and-drop",
          "component": "result-querying",
          "t": 10,
          "user": "M3"
         },
         {
          "Feature": "drag-and-drop",
          "component": "result-querying",
          "t": 11,
          "user": "G1"
         },
         {
          "Feature": "dynamic-class",
          "component": "group-comparison",
          "t": 11,
          "user": "M3"
         },
         {
          "Feature": "representative-outlier",
          "component": "recommendation",
          "t": 12,
          "user": "A2"
         },
         {
          "Feature": "change-metric",
          "component": "flexible-matching",
          "t": 12,
          "user": "A3"
         },
         {
          "Feature": "min-similarity-cutoff",
          "component": "control",
          "t": 12,
          "user": "G1"
         },
         {
          "Feature": "filter",
          "component": "filter-selection",
          "t": 12,
          "user": "G2"
         },
         {
          "Feature": "drag-and-drop",
          "component": "result-querying",
          "t": 12,
          "user": "G3"
         },
         {
          "Feature": "representative-outlier",
          "component": "recommendation",
          "t": 12,
          "user": "M1"
         },
         {
          "Feature": "drag-and-drop",
          "component": "result-querying",
          "t": 13,
          "user": "A2"
         },
         {
          "Feature": "brush-xrange",
          "component": "range-selection",
          "t": 13,
          "user": "G1"
         },
         {
          "Feature": "change-metric",
          "component": "flexible-matching",
          "t": 13,
          "user": "M3"
         },
         {
          "Feature": "change-number-of-results",
          "component": "control",
          "t": 14,
          "user": "A2"
         },
         {
          "Feature": "export",
          "component": "control",
          "t": 14,
          "user": "G1"
         },
         {
          "Feature": "dynamic-class",
          "component": "group-comparison",
          "t": 14,
          "user": "M2"
         },
         {
          "Feature": "export",
          "component": "control",
          "t": 15,
          "user": "A2"
         },
         {
          "Feature": "filter",
          "component": "filter-selection",
          "t": 15,
          "user": "A3"
         },
         {
          "Feature": "show-scatter",
          "component": "control",
          "t": 15,
          "user": "G2"
         },
         {
          "Feature": "export",
          "component": "control",
          "t": 15,
          "user": "G3"
         },
         {
          "Feature": "dynamic-class",
          "component": "group-comparison",
          "t": 15,
          "user": "M1"
         },
         {
          "Feature": "drag-and-drop",
          "component": "result-querying",
          "t": 15,
          "user": "M3"
         },
         {
          "Feature": "reverse-y",
          "component": "control",
          "t": 16,
          "user": "A1"
         },
         {
          "Feature": "filter",
          "component": "filter-selection",
          "t": 16,
          "user": "A2"
         },
         {
          "Feature": "control-kmeans-clustersize",
          "component": "recommendation",
          "t": 16,
          "user": "G1"
         },
         {
          "Feature": "representative-outlier",
          "component": "recommendation",
          "t": 17,
          "user": "G3"
         },
         {
          "Feature": "sketch-to-query",
          "component": "exact-specification",
          "t": 17,
          "user": "M2"
         },
         {
          "Feature": "representative-outlier",
          "component": "recommendation",
          "t": 18,
          "user": "A2"
         },
         {
          "Feature": "filter",
          "component": "filter-selection",
          "t": 18,
          "user": "A3"
         },
         {
          "Feature": "sketch-to-query",
          "component": "exact-specification",
          "t": 18,
          "user": "G2"
         },
         {
          "Feature": "change-axis",
          "component": "control",
          "t": 18,
          "user": "M3"
         },
         {
          "Feature": "drag-and-drop",
          "component": "result-querying",
          "t": 19,
          "user": "A2"
         },
         {
          "Feature": "drag-and-drop",
          "component": "result-querying",
          "t": 19,
          "user": "G1"
         },
         {
          "Feature": "ignore-xrange",
          "component": "approx-shape-specification",
          "t": 19,
          "user": "G3"
         },
         {
          "Feature": "filter",
          "component": "filter-selection",
          "t": 19,
          "user": "M1"
         },
         {
          "Feature": "sketch-to-modify",
          "component": "exact-specification",
          "t": 19,
          "user": "M2"
         },
         {
          "Feature": "sketch-to-query",
          "component": "exact-specification",
          "t": 19,
          "user": "M3"
         },
         {
          "Feature": "drag-and-drop",
          "component": "result-querying",
          "t": 20,
          "user": "A1"
         },
         {
          "Feature": "change-number-of-results",
          "component": "control",
          "t": 20,
          "user": "A2"
         },
         {
          "Feature": "drag-and-drop",
          "component": "result-querying",
          "t": 20,
          "user": "G1"
         },
         {
          "Feature": "sketch-to-query",
          "component": "exact-specification",
          "t": 20,
          "user": "M1"
         },
         {
          "Feature": "sketch-to-query",
          "component": "exact-specification",
          "t": 20,
          "user": "M3"
         },
         {
          "Feature": "export",
          "component": "control",
          "t": 21,
          "user": "A2"
         },
         {
          "Feature": "change-axis",
          "component": "control",
          "t": 21,
          "user": "A3"
         },
         {
          "Feature": "ignore-xrange",
          "component": "approx-shape-specification",
          "t": 21,
          "user": "G2"
         },
         {
          "Feature": "show-scatter",
          "component": "control",
          "t": 21,
          "user": "M1"
         },
         {
          "Feature": "change-axis",
          "component": "control",
          "t": 21,
          "user": "M2"
         },
         {
          "Feature": "filter",
          "component": "filter-selection",
          "t": 22,
          "user": "A1"
         },
         {
          "Feature": "filter",
          "component": "filter-selection",
          "t": 22,
          "user": "A2"
         },
         {
          "Feature": "control-kmeans-clustersize",
          "component": "recommendation",
          "t": 22,
          "user": "G1"
         },
         {
          "Feature": "sketch-to-query",
          "component": "exact-specification",
          "t": 22,
          "user": "G2"
         },
         {
          "Feature": "sketch-to-modify",
          "component": "exact-specification",
          "t": 22,
          "user": "M2"
         },
         {
          "Feature": "filter",
          "component": "filter-selection",
          "t": 23,
          "user": "A3"
         },
         {
          "Feature": "filter",
          "component": "filter-selection",
          "t": 23,
          "user": "G2"
         },
         {
          "Feature": "drag-and-drop",
          "component": "result-querying",
          "t": 23,
          "user": "M2"
         },
         {
          "Feature": "drag-and-drop",
          "component": "result-querying",
          "t": 23,
          "user": "M3"
         },
         {
          "Feature": "filter",
          "component": "filter-selection",
          "t": 24,
          "user": "A1"
         },
         {
          "Feature": "representative-outlier",
          "component": "recommendation",
          "t": 24,
          "user": "A2"
         },
         {
          "Feature": "filter",
          "component": "filter-selection",
          "t": 24,
          "user": "M1"
         },
         {
          "Feature": "sketch-to-modify",
          "component": "exact-specification",
          "t": 24,
          "user": "M2"
         },
         {
          "Feature": "drag-and-drop",
          "component": "result-querying",
          "t": 25,
          "user": "A2"
         },
         {
          "Feature": "filter",
          "component": "filter-selection",
          "t": 25,
          "user": "G2"
         },
         {
          "Feature": "filter",
          "component": "filter-selection",
          "t": 25,
          "user": "M1"
         },
         {
          "Feature": "change-number-of-results",
          "component": "control",
          "t": 26,
          "user": "A2"
         },
         {
          "Feature": "change-axis",
          "component": "control",
          "t": 26,
          "user": "A3"
         },
         {
          "Feature": "filter",
          "component": "filter-selection",
          "t": 26,
          "user": "M1"
         },
         {
          "Feature": "export",
          "component": "control",
          "t": 27,
          "user": "A2"
         },
         {
          "Feature": "filter",
          "component": "filter-selection",
          "t": 27,
          "user": "G2"
         },
         {
          "Feature": "drag-and-drop",
          "component": "result-querying",
          "t": 27,
          "user": "M2"
         },
         {
          "Feature": "sketch-to-modify",
          "component": "exact-specification",
          "t": 28,
          "user": "M2"
         },
         {
          "Feature": "change-axis",
          "component": "control",
          "t": 28,
          "user": "M3"
         },
         {
          "Feature": "brush-xrange",
          "component": "range-selection",
          "t": 29,
          "user": "A1"
         },
         {
          "Feature": "input-equation",
          "component": "exact-specification",
          "t": 29,
          "user": "A3"
         },
         {
          "Feature": "filter",
          "component": "filter-selection",
          "t": 29,
          "user": "G2"
         },
         {
          "Feature": "export",
          "component": "control",
          "t": 30,
          "user": "M1"
         },
         {
          "Feature": "export",
          "component": "control",
          "t": 31,
          "user": "A3"
         },
         {
          "Feature": "representative-outlier",
          "component": "recommendation",
          "t": 31,
          "user": "G2"
         },
         {
          "Feature": "smoothing",
          "component": "approx-shape-specification",
          "t": 33,
          "user": "G2"
         },
         {
          "Feature": "dynamic-class",
          "component": "group-comparison",
          "t": 33,
          "user": "M2"
         },
         {
          "Feature": "dynamic-class",
          "component": "group-comparison",
          "t": 34,
          "user": "A2"
         },
         {
          "Feature": "smoothing",
          "component": "approx-shape-specification",
          "t": 34,
          "user": "G2"
         },
         {
          "Feature": "filter",
          "component": "filter-selection",
          "t": 36,
          "user": "A1"
         },
         {
          "Feature": "pattern-upload",
          "component": "concept-query",
          "t": 36,
          "user": "G2"
         },
         {
          "Feature": "representative-outlier",
          "component": "recommendation",
          "t": 36,
          "user": "M2"
         },
         {
          "Feature": "filter",
          "component": "filter-selection",
          "t": 37,
          "user": "A1"
         },
         {
          "Feature": "change-axis",
          "component": "control",
          "t": 37,
          "user": "A2"
         },
         {
          "Feature": "filter",
          "component": "filter-selection",
          "t": 37,
          "user": "M2"
         },
         {
          "Feature": "ignore-xrange",
          "component": "approx-shape-specification",
          "t": 38,
          "user": "A2"
         },
         {
          "Feature": "smoothing",
          "component": "approx-shape-specification",
          "t": 39,
          "user": "A1"
         },
         {
          "Feature": "filter",
          "component": "filter-selection",
          "t": 39,
          "user": "G2"
         },
         {
          "Feature": "change-axis",
          "component": "control",
          "t": 39,
          "user": "M2"
         },
         {
          "Feature": "sketch-to-query",
          "component": "exact-specification",
          "t": 40,
          "user": "A1"
         },
         {
          "Feature": "drag-and-drop",
          "component": "result-querying",
          "t": 40,
          "user": "G2"
         },
         {
          "Feature": "sketch-to-query",
          "component": "exact-specification",
          "t": 41,
          "user": "A1"
         },
         {
          "Feature": "filter",
          "component": "filter-selection",
          "t": 42,
          "user": "A1"
         },
         {
          "Feature": "export",
          "component": "control",
          "t": 43,
          "user": "G2"
         },
         {
          "Feature": "drag-and-drop",
          "component": "result-querying",
          "t": 44,
          "user": "A2"
         },
         {
          "Feature": "representative-outlier",
          "component": "recommendation",
          "t": 44,
          "user": "G2"
         },
         {
          "Feature": "brush-xrange",
          "component": "range-selection",
          "t": 46,
          "user": "A2"
         },
         {
          "Feature": "export",
          "component": "control",
          "t": 46,
          "user": "G2"
         },
         {
          "Feature": "brush-xrange",
          "component": "range-selection",
          "t": 48,
          "user": "G2"
         },
         {
          "Feature": "dynamic-class",
          "component": "group-comparison",
          "t": 50,
          "user": "A1"
         },
         {
          "Feature": "upload-dataset",
          "component": "control",
          "t": 50,
          "user": "G2"
         },
         {
          "Feature": "dynamic-class",
          "component": "group-comparison",
          "t": 51,
          "user": "A1"
         },
         {
          "Feature": "smoothing",
          "component": "approx-shape-specification",
          "t": 51,
          "user": "G2"
         },
         {
          "Feature": "control-kmeans-clustersize",
          "component": "recommendation",
          "t": 52,
          "user": "G2"
         },
         {
          "Feature": "dynamic-class",
          "component": "group-comparison",
          "t": 53,
          "user": "A1"
         },
         {
          "Feature": "representative-outlier",
          "component": "recommendation",
          "t": 53,
          "user": "G2"
         },
         {
          "Feature": "filter",
          "component": "filter-selection",
          "t": 55,
          "user": "A1"
         },
         {
          "Feature": "pattern-upload",
          "component": "concept-query",
          "t": 58,
          "user": "A1"
         },
         {
          "Feature": "export",
          "component": "control",
          "t": 59,
          "user": "A1"
         },
         {
          "Feature": "dynamic-class",
          "component": "group-comparison",
          "t": 61,
          "user": "A1"
         },
         {
          "Feature": "filter",
          "component": "filter-selection",
          "t": 63,
          "user": "A1"
         },
         {
          "Feature": "pattern-upload",
          "component": "concept-query",
          "t": 66,
          "user": "A1"
         },
         {
          "Feature": "export",
          "component": "control",
          "t": 67,
          "user": "A1"
         }
        ]
       },
       "encoding": {
        "color": {
         "field": "component",
         "type": "nominal"
        },
        "x": {
         "field": "t",
         "type": "quantitative"
        },
        "y": {
         "field": "user",
         "type": "nominal"
        }
       },
       "mark": "circle"
      },
      "image/png": "[encoded data removed]",
      "text/plain": [
       "<VegaLite 2 object>\n",
       "\n",
       "If you see this message, it means the renderer has not been properly enabled\n",
       "for the frontend that you are using. For more information, see\n",
       "https://altair-viz.github.io/user_guide/troubleshooting.html\n"
      ]
     },
     "execution_count": 110,
     "metadata": {},
     "output_type": "execute_result"
    }
   ],
   "source": [
    "alt.Chart(df_component).mark_circle().encode(        \n",
    "    color='component',\n",
    "    y=\"user\",\n",
    "    x='t'\n",
    ")"
   ]
  },
  {
   "cell_type": "markdown",
   "metadata": {},
   "source": [
    "# Adding some event action information back in"
   ]
  },
  {
   "cell_type": "code",
   "execution_count": 186,
   "metadata": {},
   "outputs": [],
   "source": [
    "component_chart = alt.Chart(df_component).mark_circle(opacity=1).encode(        \n",
    "    color=alt.Color('component',title=\"Component\"),\n",
    "    y=\"user\",\n",
    "    x='t'\n",
    ")"
   ]
  },
  {
   "cell_type": "code",
   "execution_count": 187,
   "metadata": {},
   "outputs": [],
   "source": [
    "sum_events = df.groupby(\"user\").count().reset_index()[[\"user\",\"t\"]]"
   ]
  },
  {
   "cell_type": "code",
   "execution_count": 188,
   "metadata": {},
   "outputs": [],
   "source": [
    "sum_events[\"t\"] = sum_events[\"t\"]-1"
   ]
  },
  {
   "cell_type": "code",
   "execution_count": 191,
   "metadata": {},
   "outputs": [],
   "source": [
    "guide = alt.Chart(sum_events).mark_bar(color=\"gray\",opacity=0.25,size=3).encode(        \n",
    "    y=\"user\",\n",
    "    x=alt.X('t',aggregate=\"sum\",title=\"Timepoint\")\n",
    ")"
   ]
  },
  {
   "cell_type": "code",
   "execution_count": 192,
   "metadata": {},
   "outputs": [
    {
     "data": {
      "application/vnd.vegalite.v2+json": {
       "$schema": "https://vega.github.io/schema/vega-lite/v2.6.0.json",
       "config": {
        "view": {
         "height": 300,
         "width": 400
        }
       },
       "datasets": {
        "data-16a1bbe20c9eb0a7009acd98e4d558ea": [
         {
          "t": 69,
          "user": "A1"
         },
         {
          "t": 48,
          "user": "A2"
         },
         {
          "t": 33,
          "user": "A3"
         },
         {
          "t": 27,
          "user": "G1"
         },
         {
          "t": 57,
          "user": "G2"
         },
         {
          "t": 21,
          "user": "G3"
         },
         {
          "t": 34,
          "user": "M1"
         },
         {
          "t": 41,
          "user": "M2"
         },
         {
          "t": 31,
          "user": "M3"
         }
        ],
        "data-26e81d2c55ebfa557042f7c3d236bcfe": [
         {
          "Feature": "filter",
          "component": "filter-selection",
          "t": 0,
          "user": "A1"
         },
         {
          "Feature": "filter",
          "component": "filter-selection",
          "t": 0,
          "user": "A2"
         },
         {
          "Feature": "drag-and-drop",
          "component": "result-querying",
          "t": 0,
          "user": "A3"
         },
         {
          "Feature": "representative-outlier",
          "component": "recommendation",
          "t": 0,
          "user": "G1"
         },
         {
          "Feature": "representative-outlier",
          "component": "recommendation",
          "t": 0,
          "user": "G2"
         },
         {
          "Feature": "show-scatter",
          "component": "control",
          "t": 0,
          "user": "M2"
         },
         {
          "Feature": "dynamic-class",
          "component": "group-comparison",
          "t": 0,
          "user": "M3"
         },
         {
          "Feature": "filter",
          "component": "filter-selection",
          "t": 1,
          "user": "A1"
         },
         {
          "Feature": "drag-and-drop",
          "component": "result-querying",
          "t": 1,
          "user": "A3"
         },
         {
          "Feature": "control-kmeans-clustersize",
          "component": "recommendation",
          "t": 1,
          "user": "G1"
         },
         {
          "Feature": "sketch-to-query",
          "component": "exact-specification",
          "t": 1,
          "user": "M1"
         },
         {
          "Feature": "change-axis",
          "component": "control",
          "t": 1,
          "user": "M2"
         },
         {
          "Feature": "filter",
          "component": "filter-selection",
          "t": 2,
          "user": "A1"
         },
         {
          "Feature": "sketch-to-modify",
          "component": "exact-specification",
          "t": 2,
          "user": "A3"
         },
         {
          "Feature": "representative-outlier",
          "component": "recommendation",
          "t": 2,
          "user": "G1"
         },
         {
          "Feature": "ignore-xrange",
          "component": "approx-shape-specification",
          "t": 2,
          "user": "M1"
         },
         {
          "Feature": "show-scatter",
          "component": "control",
          "t": 2,
          "user": "M3"
         },
         {
          "Feature": "filter",
          "component": "filter-selection",
          "t": 3,
          "user": "A1"
         },
         {
          "Feature": "representative-outlier",
          "component": "recommendation",
          "t": 3,
          "user": "A2"
         },
         {
          "Feature": "ignore-xrange",
          "component": "approx-shape-specification",
          "t": 3,
          "user": "A3"
         },
         {
          "Feature": "control-kmeans-clustersize",
          "component": "recommendation",
          "t": 3,
          "user": "G1"
         },
         {
          "Feature": "representative-outlier",
          "component": "recommendation",
          "t": 3,
          "user": "G2"
         },
         {
          "Feature": "show-scatter",
          "component": "control",
          "t": 3,
          "user": "G3"
         },
         {
          "Feature": "dynamic-class",
          "component": "group-comparison",
          "t": 3,
          "user": "M2"
         },
         {
          "Feature": "drag-and-drop",
          "component": "result-querying",
          "t": 4,
          "user": "A2"
         },
         {
          "Feature": "control-kmeans-clustersize",
          "component": "recommendation",
          "t": 4,
          "user": "G2"
         },
         {
          "Feature": "upload-dataset",
          "component": "control",
          "t": 4,
          "user": "G3"
         },
         {
          "Feature": "change-axis",
          "component": "control",
          "t": 4,
          "user": "M1"
         },
         {
          "Feature": "dynamic-class",
          "component": "group-comparison",
          "t": 4,
          "user": "M2"
         },
         {
          "Feature": "dynamic-class",
          "component": "group-comparison",
          "t": 4,
          "user": "M3"
         },
         {
          "Feature": "drag-and-drop",
          "component": "result-querying",
          "t": 5,
          "user": "A3"
         },
         {
          "Feature": "representative-outlier",
          "component": "recommendation",
          "t": 5,
          "user": "G2"
         },
         {
          "Feature": "dynamic-class",
          "component": "group-comparison",
          "t": 5,
          "user": "M2"
         },
         {
          "Feature": "ignore-xrange",
          "component": "approx-shape-specification",
          "t": 6,
          "user": "A3"
         },
         {
          "Feature": "filter",
          "component": "filter-selection",
          "t": 6,
          "user": "G2"
         },
         {
          "Feature": "representative-outlier",
          "component": "recommendation",
          "t": 6,
          "user": "G3"
         },
         {
          "Feature": "dynamic-class",
          "component": "group-comparison",
          "t": 6,
          "user": "M2"
         },
         {
          "Feature": "dynamic-class",
          "component": "group-comparison",
          "t": 6,
          "user": "M3"
         },
         {
          "Feature": "drag-and-drop",
          "component": "result-querying",
          "t": 7,
          "user": "A1"
         },
         {
          "Feature": "change-metric",
          "component": "flexible-matching",
          "t": 7,
          "user": "A3"
         },
         {
          "Feature": "drag-and-drop",
          "component": "result-querying",
          "t": 7,
          "user": "G1"
         },
         {
          "Feature": "change-metric",
          "component": "flexible-matching",
          "t": 8,
          "user": "G3"
         },
         {
          "Feature": "dynamic-class",
          "component": "group-comparison",
          "t": 8,
          "user": "M2"
         },
         {
          "Feature": "change-axis",
          "component": "control",
          "t": 8,
          "user": "M3"
         },
         {
          "Feature": "filter",
          "component": "filter-selection",
          "t": 9,
          "user": "A1"
         },
         {
          "Feature": "brush-xrange",
          "component": "range-selection",
          "t": 9,
          "user": "A3"
         },
         {
          "Feature": "control-kmeans-clustersize",
          "component": "recommendation",
          "t": 9,
          "user": "G3"
         },
         {
          "Feature": "brush-xrange",
          "component": "range-selection",
          "t": 9,
          "user": "M1"
         },
         {
          "Feature": "filter",
          "component": "filter-selection",
          "t": 10,
          "user": "A2"
         },
         {
          "Feature": "change-metric",
          "component": "flexible-matching",
          "t": 10,
          "user": "A3"
         },
         {
          "Feature": "drag-and-drop",
          "component": "result-querying",
          "t": 10,
          "user": "G2"
         },
         {
          "Feature": "representative-outlier",
          "component": "recommendation",
          "t": 10,
          "user": "G3"
         },
         {
          "Feature": "change-axis",
          "component": "control",
          "t": 10,
          "user": "M1"
         },
         {
          "Feature": "drag-and-drop",
          "component": "result-querying",
          "t": 10,
          "user": "M3"
         },
         {
          "Feature": "drag-and-drop",
          "component": "result-querying",
          "t": 11,
          "user": "G1"
         },
         {
          "Feature": "dynamic-class",
          "component": "group-comparison",
          "t": 11,
          "user": "M3"
         },
         {
          "Feature": "representative-outlier",
          "component": "recommendation",
          "t": 12,
          "user": "A2"
         },
         {
          "Feature": "change-metric",
          "component": "flexible-matching",
          "t": 12,
          "user": "A3"
         },
         {
          "Feature": "min-similarity-cutoff",
          "component": "control",
          "t": 12,
          "user": "G1"
         },
         {
          "Feature": "filter",
          "component": "filter-selection",
          "t": 12,
          "user": "G2"
         },
         {
          "Feature": "drag-and-drop",
          "component": "result-querying",
          "t": 12,
          "user": "G3"
         },
         {
          "Feature": "representative-outlier",
          "component": "recommendation",
          "t": 12,
          "user": "M1"
         },
         {
          "Feature": "drag-and-drop",
          "component": "result-querying",
          "t": 13,
          "user": "A2"
         },
         {
          "Feature": "brush-xrange",
          "component": "range-selection",
          "t": 13,
          "user": "G1"
         },
         {
          "Feature": "change-metric",
          "component": "flexible-matching",
          "t": 13,
          "user": "M3"
         },
         {
          "Feature": "change-number-of-results",
          "component": "control",
          "t": 14,
          "user": "A2"
         },
         {
          "Feature": "export",
          "component": "control",
          "t": 14,
          "user": "G1"
         },
         {
          "Feature": "dynamic-class",
          "component": "group-comparison",
          "t": 14,
          "user": "M2"
         },
         {
          "Feature": "export",
          "component": "control",
          "t": 15,
          "user": "A2"
         },
         {
          "Feature": "filter",
          "component": "filter-selection",
          "t": 15,
          "user": "A3"
         },
         {
          "Feature": "show-scatter",
          "component": "control",
          "t": 15,
          "user": "G2"
         },
         {
          "Feature": "export",
          "component": "control",
          "t": 15,
          "user": "G3"
         },
         {
          "Feature": "dynamic-class",
          "component": "group-comparison",
          "t": 15,
          "user": "M1"
         },
         {
          "Feature": "drag-and-drop",
          "component": "result-querying",
          "t": 15,
          "user": "M3"
         },
         {
          "Feature": "reverse-y",
          "component": "control",
          "t": 16,
          "user": "A1"
         },
         {
          "Feature": "filter",
          "component": "filter-selection",
          "t": 16,
          "user": "A2"
         },
         {
          "Feature": "control-kmeans-clustersize",
          "component": "recommendation",
          "t": 16,
          "user": "G1"
         },
         {
          "Feature": "representative-outlier",
          "component": "recommendation",
          "t": 17,
          "user": "G3"
         },
         {
          "Feature": "sketch-to-query",
          "component": "exact-specification",
          "t": 17,
          "user": "M2"
         },
         {
          "Feature": "representative-outlier",
          "component": "recommendation",
          "t": 18,
          "user": "A2"
         },
         {
          "Feature": "filter",
          "component": "filter-selection",
          "t": 18,
          "user": "A3"
         },
         {
          "Feature": "sketch-to-query",
          "component": "exact-specification",
          "t": 18,
          "user": "G2"
         },
         {
          "Feature": "change-axis",
          "component": "control",
          "t": 18,
          "user": "M3"
         },
         {
          "Feature": "drag-and-drop",
          "component": "result-querying",
          "t": 19,
          "user": "A2"
         },
         {
          "Feature": "drag-and-drop",
          "component": "result-querying",
          "t": 19,
          "user": "G1"
         },
         {
          "Feature": "ignore-xrange",
          "component": "approx-shape-specification",
          "t": 19,
          "user": "G3"
         },
         {
          "Feature": "filter",
          "component": "filter-selection",
          "t": 19,
          "user": "M1"
         },
         {
          "Feature": "sketch-to-modify",
          "component": "exact-specification",
          "t": 19,
          "user": "M2"
         },
         {
          "Feature": "sketch-to-query",
          "component": "exact-specification",
          "t": 19,
          "user": "M3"
         },
         {
          "Feature": "drag-and-drop",
          "component": "result-querying",
          "t": 20,
          "user": "A1"
         },
         {
          "Feature": "change-number-of-results",
          "component": "control",
          "t": 20,
          "user": "A2"
         },
         {
          "Feature": "drag-and-drop",
          "component": "result-querying",
          "t": 20,
          "user": "G1"
         },
         {
          "Feature": "sketch-to-query",
          "component": "exact-specification",
          "t": 20,
          "user": "M1"
         },
         {
          "Feature": "sketch-to-query",
          "component": "exact-specification",
          "t": 20,
          "user": "M3"
         },
         {
          "Feature": "export",
          "component": "control",
          "t": 21,
          "user": "A2"
         },
         {
          "Feature": "change-axis",
          "component": "control",
          "t": 21,
          "user": "A3"
         },
         {
          "Feature": "ignore-xrange",
          "component": "approx-shape-specification",
          "t": 21,
          "user": "G2"
         },
         {
          "Feature": "show-scatter",
          "component": "control",
          "t": 21,
          "user": "M1"
         },
         {
          "Feature": "change-axis",
          "component": "control",
          "t": 21,
          "user": "M2"
         },
         {
          "Feature": "filter",
          "component": "filter-selection",
          "t": 22,
          "user": "A1"
         },
         {
          "Feature": "filter",
          "component": "filter-selection",
          "t": 22,
          "user": "A2"
         },
         {
          "Feature": "control-kmeans-clustersize",
          "component": "recommendation",
          "t": 22,
          "user": "G1"
         },
         {
          "Feature": "sketch-to-query",
          "component": "exact-specification",
          "t": 22,
          "user": "G2"
         },
         {
          "Feature": "sketch-to-modify",
          "component": "exact-specification",
          "t": 22,
          "user": "M2"
         },
         {
          "Feature": "filter",
          "component": "filter-selection",
          "t": 23,
          "user": "A3"
         },
         {
          "Feature": "filter",
          "component": "filter-selection",
          "t": 23,
          "user": "G2"
         },
         {
          "Feature": "drag-and-drop",
          "component": "result-querying",
          "t": 23,
          "user": "M2"
         },
         {
          "Feature": "drag-and-drop",
          "component": "result-querying",
          "t": 23,
          "user": "M3"
         },
         {
          "Feature": "filter",
          "component": "filter-selection",
          "t": 24,
          "user": "A1"
         },
         {
          "Feature": "representative-outlier",
          "component": "recommendation",
          "t": 24,
          "user": "A2"
         },
         {
          "Feature": "filter",
          "component": "filter-selection",
          "t": 24,
          "user": "M1"
         },
         {
          "Feature": "sketch-to-modify",
          "component": "exact-specification",
          "t": 24,
          "user": "M2"
         },
         {
          "Feature": "drag-and-drop",
          "component": "result-querying",
          "t": 25,
          "user": "A2"
         },
         {
          "Feature": "filter",
          "component": "filter-selection",
          "t": 25,
          "user": "G2"
         },
         {
          "Feature": "filter",
          "component": "filter-selection",
          "t": 25,
          "user": "M1"
         },
         {
          "Feature": "change-number-of-results",
          "component": "control",
          "t": 26,
          "user": "A2"
         },
         {
          "Feature": "change-axis",
          "component": "control",
          "t": 26,
          "user": "A3"
         },
         {
          "Feature": "filter",
          "component": "filter-selection",
          "t": 26,
          "user": "M1"
         },
         {
          "Feature": "export",
          "component": "control",
          "t": 27,
          "user": "A2"
         },
         {
          "Feature": "filter",
          "component": "filter-selection",
          "t": 27,
          "user": "G2"
         },
         {
          "Feature": "drag-and-drop",
          "component": "result-querying",
          "t": 27,
          "user": "M2"
         },
         {
          "Feature": "sketch-to-modify",
          "component": "exact-specification",
          "t": 28,
          "user": "M2"
         },
         {
          "Feature": "change-axis",
          "component": "control",
          "t": 28,
          "user": "M3"
         },
         {
          "Feature": "brush-xrange",
          "component": "range-selection",
          "t": 29,
          "user": "A1"
         },
         {
          "Feature": "input-equation",
          "component": "exact-specification",
          "t": 29,
          "user": "A3"
         },
         {
          "Feature": "filter",
          "component": "filter-selection",
          "t": 29,
          "user": "G2"
         },
         {
          "Feature": "export",
          "component": "control",
          "t": 30,
          "user": "M1"
         },
         {
          "Feature": "export",
          "component": "control",
          "t": 31,
          "user": "A3"
         },
         {
          "Feature": "representative-outlier",
          "component": "recommendation",
          "t": 31,
          "user": "G2"
         },
         {
          "Feature": "smoothing",
          "component": "approx-shape-specification",
          "t": 33,
          "user": "G2"
         },
         {
          "Feature": "dynamic-class",
          "component": "group-comparison",
          "t": 33,
          "user": "M2"
         },
         {
          "Feature": "dynamic-class",
          "component": "group-comparison",
          "t": 34,
          "user": "A2"
         },
         {
          "Feature": "smoothing",
          "component": "approx-shape-specification",
          "t": 34,
          "user": "G2"
         },
         {
          "Feature": "filter",
          "component": "filter-selection",
          "t": 36,
          "user": "A1"
         },
         {
          "Feature": "pattern-upload",
          "component": "concept-query",
          "t": 36,
          "user": "G2"
         },
         {
          "Feature": "representative-outlier",
          "component": "recommendation",
          "t": 36,
          "user": "M2"
         },
         {
          "Feature": "filter",
          "component": "filter-selection",
          "t": 37,
          "user": "A1"
         },
         {
          "Feature": "change-axis",
          "component": "control",
          "t": 37,
          "user": "A2"
         },
         {
          "Feature": "filter",
          "component": "filter-selection",
          "t": 37,
          "user": "M2"
         },
         {
          "Feature": "ignore-xrange",
          "component": "approx-shape-specification",
          "t": 38,
          "user": "A2"
         },
         {
          "Feature": "smoothing",
          "component": "approx-shape-specification",
          "t": 39,
          "user": "A1"
         },
         {
          "Feature": "filter",
          "component": "filter-selection",
          "t": 39,
          "user": "G2"
         },
         {
          "Feature": "change-axis",
          "component": "control",
          "t": 39,
          "user": "M2"
         },
         {
          "Feature": "sketch-to-query",
          "component": "exact-specification",
          "t": 40,
          "user": "A1"
         },
         {
          "Feature": "drag-and-drop",
          "component": "result-querying",
          "t": 40,
          "user": "G2"
         },
         {
          "Feature": "sketch-to-query",
          "component": "exact-specification",
          "t": 41,
          "user": "A1"
         },
         {
          "Feature": "filter",
          "component": "filter-selection",
          "t": 42,
          "user": "A1"
         },
         {
          "Feature": "export",
          "component": "control",
          "t": 43,
          "user": "G2"
         },
         {
          "Feature": "drag-and-drop",
          "component": "result-querying",
          "t": 44,
          "user": "A2"
         },
         {
          "Feature": "representative-outlier",
          "component": "recommendation",
          "t": 44,
          "user": "G2"
         },
         {
          "Feature": "brush-xrange",
          "component": "range-selection",
          "t": 46,
          "user": "A2"
         },
         {
          "Feature": "export",
          "component": "control",
          "t": 46,
          "user": "G2"
         },
         {
          "Feature": "brush-xrange",
          "component": "range-selection",
          "t": 48,
          "user": "G2"
         },
         {
          "Feature": "dynamic-class",
          "component": "group-comparison",
          "t": 50,
          "user": "A1"
         },
         {
          "Feature": "upload-dataset",
          "component": "control",
          "t": 50,
          "user": "G2"
         },
         {
          "Feature": "dynamic-class",
          "component": "group-comparison",
          "t": 51,
          "user": "A1"
         },
         {
          "Feature": "smoothing",
          "component": "approx-shape-specification",
          "t": 51,
          "user": "G2"
         },
         {
          "Feature": "control-kmeans-clustersize",
          "component": "recommendation",
          "t": 52,
          "user": "G2"
         },
         {
          "Feature": "dynamic-class",
          "component": "group-comparison",
          "t": 53,
          "user": "A1"
         },
         {
          "Feature": "representative-outlier",
          "component": "recommendation",
          "t": 53,
          "user": "G2"
         },
         {
          "Feature": "filter",
          "component": "filter-selection",
          "t": 55,
          "user": "A1"
         },
         {
          "Feature": "pattern-upload",
          "component": "concept-query",
          "t": 58,
          "user": "A1"
         },
         {
          "Feature": "export",
          "component": "control",
          "t": 59,
          "user": "A1"
         },
         {
          "Feature": "dynamic-class",
          "component": "group-comparison",
          "t": 61,
          "user": "A1"
         },
         {
          "Feature": "filter",
          "component": "filter-selection",
          "t": 63,
          "user": "A1"
         },
         {
          "Feature": "pattern-upload",
          "component": "concept-query",
          "t": 66,
          "user": "A1"
         },
         {
          "Feature": "export",
          "component": "control",
          "t": 67,
          "user": "A1"
         }
        ],
        "data-37a36f38c40d5a57d4bd1e4da3ff65dd": [
         {
          "action": "BR",
          "t": 2,
          "user": "G2"
         },
         {
          "action": "BR",
          "t": 4,
          "user": "A3"
         },
         {
          "action": "BR",
          "t": 5,
          "user": "G3"
         },
         {
          "action": "BR",
          "t": 6,
          "user": "G1"
         },
         {
          "action": "BR",
          "t": 8,
          "user": "G2"
         },
         {
          "action": "BR",
          "t": 8,
          "user": "M1"
         },
         {
          "action": "BR",
          "t": 9,
          "user": "A2"
         },
         {
          "action": "BR",
          "t": 10,
          "user": "G1"
         },
         {
          "action": "BR",
          "t": 12,
          "user": "M2"
         },
         {
          "action": "BR",
          "t": 14,
          "user": "A3"
         },
         {
          "action": "BR",
          "t": 14,
          "user": "G2"
         },
         {
          "action": "BR",
          "t": 14,
          "user": "G3"
         },
         {
          "action": "BR",
          "t": 15,
          "user": "G1"
         },
         {
          "action": "BR",
          "t": 16,
          "user": "G3"
         },
         {
          "action": "BR",
          "t": 16,
          "user": "M2"
         },
         {
          "action": "BR",
          "t": 17,
          "user": "G2"
         },
         {
          "action": "BR",
          "t": 17,
          "user": "M3"
         },
         {
          "action": "BR",
          "t": 18,
          "user": "M1"
         },
         {
          "action": "BR",
          "t": 19,
          "user": "A1"
         },
         {
          "action": "BR",
          "t": 20,
          "user": "A3"
         },
         {
          "action": "BR",
          "t": 20,
          "user": "M2"
         },
         {
          "action": "BR",
          "t": 21,
          "user": "G3"
         },
         {
          "action": "BR",
          "t": 21,
          "user": "M3"
         },
         {
          "action": "BR",
          "t": 22,
          "user": "M1"
         },
         {
          "action": "BR",
          "t": 23,
          "user": "A1"
         },
         {
          "action": "BR",
          "t": 25,
          "user": "A3"
         },
         {
          "action": "BR",
          "t": 26,
          "user": "G2"
         },
         {
          "action": "BR",
          "t": 27,
          "user": "G1"
         },
         {
          "action": "BR",
          "t": 27,
          "user": "M3"
         },
         {
          "action": "BR",
          "t": 28,
          "user": "A3"
         },
         {
          "action": "BR",
          "t": 28,
          "user": "M1"
         },
         {
          "action": "BR",
          "t": 30,
          "user": "A2"
         },
         {
          "action": "BR",
          "t": 30,
          "user": "A3"
         },
         {
          "action": "BR",
          "t": 31,
          "user": "M3"
         },
         {
          "action": "BR",
          "t": 32,
          "user": "G2"
         },
         {
          "action": "BR",
          "t": 32,
          "user": "M2"
         },
         {
          "action": "BR",
          "t": 33,
          "user": "A3"
         },
         {
          "action": "BR",
          "t": 34,
          "user": "M1"
         },
         {
          "action": "BR",
          "t": 35,
          "user": "A1"
         },
         {
          "action": "BR",
          "t": 35,
          "user": "G2"
         },
         {
          "action": "BR",
          "t": 38,
          "user": "A1"
         },
         {
          "action": "BR",
          "t": 41,
          "user": "A2"
         },
         {
          "action": "BR",
          "t": 41,
          "user": "M2"
         },
         {
          "action": "BR",
          "t": 47,
          "user": "G2"
         },
         {
          "action": "BR",
          "t": 48,
          "user": "A2"
         },
         {
          "action": "BR",
          "t": 49,
          "user": "A1"
         },
         {
          "action": "BR",
          "t": 54,
          "user": "A1"
         },
         {
          "action": "BR",
          "t": 57,
          "user": "G2"
         },
         {
          "action": "BR",
          "t": 62,
          "user": "A1"
         },
         {
          "action": "BR",
          "t": 69,
          "user": "A1"
         }
        ],
        "data-ae9aad36e5434c34dca00ee24f80aad6": [
         {
          "action": "data insight",
          "t": 0,
          "user": "G3"
         },
         {
          "action": "scientific insight",
          "t": 1,
          "user": "G2"
         },
         {
          "action": "data insight",
          "t": 1,
          "user": "M3"
         },
         {
          "action": "scientific insight",
          "t": 3,
          "user": "M3"
         },
         {
          "action": "scientific insight",
          "t": 4,
          "user": "A1"
         },
         {
          "action": "scientific insight",
          "t": 5,
          "user": "G1"
         },
         {
          "action": "data insight",
          "t": 6,
          "user": "A2"
         },
         {
          "action": "data insight",
          "t": 7,
          "user": "M3"
         },
         {
          "action": "data insight",
          "t": 8,
          "user": "A1"
         },
         {
          "action": "data insight",
          "t": 8,
          "user": "A2"
         },
         {
          "action": "scientific insight",
          "t": 8,
          "user": "G1"
         },
         {
          "action": "scientific insight",
          "t": 9,
          "user": "M2"
         },
         {
          "action": "scientific insight",
          "t": 9,
          "user": "M3"
         },
         {
          "action": "scientific insight",
          "t": 10,
          "user": "M2"
         },
         {
          "action": "scientific insight",
          "t": 11,
          "user": "A1"
         },
         {
          "action": "data insight",
          "t": 11,
          "user": "A3"
         },
         {
          "action": "data insight",
          "t": 11,
          "user": "G3"
         },
         {
          "action": "scientific insight",
          "t": 11,
          "user": "M1"
         },
         {
          "action": "scientific insight",
          "t": 12,
          "user": "M3"
         },
         {
          "action": "scientific insight",
          "t": 13,
          "user": "G3"
         },
         {
          "action": "scientific insight",
          "t": 15,
          "user": "M2"
         },
         {
          "action": "data insight",
          "t": 16,
          "user": "G2"
         },
         {
          "action": "scientific insight",
          "t": 16,
          "user": "M3"
         },
         {
          "action": "scientific insight",
          "t": 17,
          "user": "M1"
         },
         {
          "action": "scientific insight",
          "t": 18,
          "user": "G3"
         },
         {
          "action": "data insight",
          "t": 19,
          "user": "A3"
         },
         {
          "action": "data insight",
          "t": 19,
          "user": "G2"
         },
         {
          "action": "scientific insight",
          "t": 20,
          "user": "G3"
         },
         {
          "action": "data insight",
          "t": 21,
          "user": "G1"
         },
         {
          "action": "data insight",
          "t": 22,
          "user": "A3"
         },
         {
          "action": "scientific insight",
          "t": 24,
          "user": "G2"
         },
         {
          "action": "data insight",
          "t": 24,
          "user": "M3"
         },
         {
          "action": "data insight",
          "t": 25,
          "user": "M2"
         },
         {
          "action": "scientific insight",
          "t": 26,
          "user": "M3"
         },
         {
          "action": "data insight",
          "t": 27,
          "user": "M1"
         },
         {
          "action": "data insight",
          "t": 28,
          "user": "A2"
         },
         {
          "action": "scientific insight",
          "t": 29,
          "user": "M2"
         },
         {
          "action": "data insight",
          "t": 31,
          "user": "A1"
         },
         {
          "action": "data insight",
          "t": 34,
          "user": "A1"
         },
         {
          "action": "scientific insight",
          "t": 34,
          "user": "M2"
         },
         {
          "action": "scientific insight",
          "t": 35,
          "user": "M2"
         },
         {
          "action": "scientific insight",
          "t": 38,
          "user": "M2"
         },
         {
          "action": "scientific insight",
          "t": 39,
          "user": "A2"
         },
         {
          "action": "data insight",
          "t": 40,
          "user": "M2"
         },
         {
          "action": "scientific insight",
          "t": 41,
          "user": "G2"
         },
         {
          "action": "data insight",
          "t": 45,
          "user": "G2"
         },
         {
          "action": "scientific insight",
          "t": 48,
          "user": "A1"
         },
         {
          "action": "data insight",
          "t": 54,
          "user": "G2"
         },
         {
          "action": "data insight",
          "t": 55,
          "user": "G2"
         },
         {
          "action": "data insight",
          "t": 57,
          "user": "A1"
         },
         {
          "action": "data insight",
          "t": 65,
          "user": "A1"
         }
        ]
       },
       "layer": [
        {
         "data": {
          "name": "data-16a1bbe20c9eb0a7009acd98e4d558ea"
         },
         "encoding": {
          "x": {
           "aggregate": "sum",
           "field": "t",
           "title": "Timepoint",
           "type": "quantitative"
          },
          "y": {
           "field": "user",
           "type": "nominal"
          }
         },
         "mark": {
          "color": "gray",
          "opacity": 0.25,
          "size": 3,
          "type": "bar"
         }
        },
        {
         "data": {
          "name": "data-26e81d2c55ebfa557042f7c3d236bcfe"
         },
         "encoding": {
          "color": {
           "field": "component",
           "title": "Component",
           "type": "nominal"
          },
          "x": {
           "field": "t",
           "type": "quantitative"
          },
          "y": {
           "field": "user",
           "type": "nominal"
          }
         },
         "mark": {
          "opacity": 1,
          "type": "circle"
         }
        },
        {
         "data": {
          "name": "data-37a36f38c40d5a57d4bd1e4da3ff65dd"
         },
         "encoding": {
          "x": {
           "field": "t",
           "type": "quantitative"
          },
          "y": {
           "field": "user",
           "type": "nominal"
          }
         },
         "mark": {
          "color": "black",
          "thickness": 2,
          "type": "tick"
         }
        },
        {
         "data": {
          "name": "data-ae9aad36e5434c34dca00ee24f80aad6"
         },
         "encoding": {
          "shape": {
           "field": "action",
           "type": "nominal"
          },
          "x": {
           "field": "t",
           "title": "Timepoint",
           "type": "quantitative"
          },
          "y": {
           "field": "user",
           "title": "Participant",
           "type": "nominal"
          }
         },
         "mark": {
          "color": "red",
          "shape": "diamond",
          "type": "point"
         }
        }
       ],
       "title": "Evaluation Study Event Timeline Breakdown by Feature Components"
      },
      "image/png": "[encoded data removed]",
      "text/plain": [
       "<VegaLite 2 object>\n",
       "\n",
       "If you see this message, it means the renderer has not been properly enabled\n",
       "for the frontend that you are using. For more information, see\n",
       "https://altair-viz.github.io/user_guide/troubleshooting.html\n"
      ]
     },
     "execution_count": 192,
     "metadata": {},
     "output_type": "execute_result"
    }
   ],
   "source": [
    "chart = guide+component_chart+ break_chart + insight_chart\n",
    "chart.title=\"Evaluation Study Event Timeline Breakdown by Feature Components\"\n",
    "chart"
   ]
  },
  {
   "cell_type": "markdown",
   "metadata": {},
   "source": [
    "- Astronomers discovered insights more about their data, whereas geneticists and material scientists uncovered more scientific insights.\n",
    "- The use of exact specification (including sketch) is rare, and doesn't usually lead to useful outcomes. "
   ]
  },
  {
   "cell_type": "markdown",
   "metadata": {},
   "source": [
    "# Processes"
   ]
  },
  {
   "cell_type": "code",
   "execution_count": 75,
   "metadata": {},
   "outputs": [],
   "source": [
    "td = 'top-down-querying'\n",
    "sc = 'search-with-context'\n",
    "bu = 'bottom-up-querying'\n",
    "rec= 'recommendation'\n",
    "component_to_process = {\n",
    "    'exact-specification':td,\n",
    "    'approx-shape-specification':td,\n",
    "    'flexible-matching':td,\n",
    "    'range-selection':td, \n",
    "    'filter-selection':sc, \n",
    "    'group-comparison':sc,\n",
    "    'result-querying':bu,\n",
    "    'concept-query':bu,\n",
    "    'control':\"others\",\n",
    "    'recommendation':rec,\n",
    "}"
   ]
  },
  {
   "cell_type": "code",
   "execution_count": 76,
   "metadata": {},
   "outputs": [],
   "source": [
    "df_process = df_component\n",
    "df_process[\"Process\"] = df_component[\"component\"].replace(component_to_process)"
   ]
  },
  {
   "cell_type": "code",
   "execution_count": 77,
   "metadata": {},
   "outputs": [],
   "source": [
    "process_chart = alt.Chart(df_component).mark_circle().encode(        \n",
    "    alt.Color(\"Process\",sort=[td,sc,bu,rec]),\n",
    "    y=\"user\",\n",
    "    x='t'\n",
    ")"
   ]
  },
  {
   "cell_type": "code",
   "execution_count": 78,
   "metadata": {},
   "outputs": [],
   "source": [
    "df_break = df[df.action.isin([\"BR\"])]\n",
    "break_chart = alt.Chart(df_break).mark_tick(thickness=2,color=\"black\").encode(        \n",
    "    y=\"user\",\n",
    "    x='t'\n",
    ")"
   ]
  },
  {
   "cell_type": "code",
   "execution_count": 79,
   "metadata": {},
   "outputs": [
    {
     "name": "stderr",
     "output_type": "stream",
     "text": [
      "/Users/dorislee/.virtualenvs/py37env/lib/python3.7/site-packages/pandas/core/indexing.py:362: SettingWithCopyWarning: \n",
      "A value is trying to be set on a copy of a slice from a DataFrame.\n",
      "Try using .loc[row_indexer,col_indexer] = value instead\n",
      "\n",
      "See the caveats in the documentation: http://pandas.pydata.org/pandas-docs/stable/indexing.html#indexing-view-versus-copy\n",
      "  self.obj[key] = _infer_fill_value(value)\n",
      "/Users/dorislee/.virtualenvs/py37env/lib/python3.7/site-packages/pandas/core/indexing.py:543: SettingWithCopyWarning: \n",
      "A value is trying to be set on a copy of a slice from a DataFrame.\n",
      "Try using .loc[row_indexer,col_indexer] = value instead\n",
      "\n",
      "See the caveats in the documentation: http://pandas.pydata.org/pandas-docs/stable/indexing.html#indexing-view-versus-copy\n",
      "  self.obj[item] = s\n"
     ]
    }
   ],
   "source": [
    "df_insight = df[df.action.isin([\"IS\",\"ID\"])]\n",
    "df_insight.loc[df_insight[\"action\"]==\"ID\",\"Action\"]=\"data insight\"\n",
    "df_insight.loc[df_insight[\"action\"]==\"IS\",\"Action\"]=\"scientific insight\"\n",
    "insight_chart = alt.Chart(df_insight).mark_point(shape=\"diamond\",color=\"red\").encode(        \n",
    "    alt.Y(\"user\",title=\"Participant\"),\n",
    "    alt.X(\"t\",title=\"Timepoint\"),\n",
    "    shape='Action' #make no distinction between data and science insights\n",
    ")\n"
   ]
  },
  {
   "cell_type": "code",
   "execution_count": 80,
   "metadata": {},
   "outputs": [
    {
     "data": {
      "application/vnd.vegalite.v2+json": {
       "$schema": "https://vega.github.io/schema/vega-lite/v2.6.0.json",
       "config": {
        "view": {
         "height": 300,
         "width": 400
        }
       },
       "datasets": {
        "data-0384c290eb7d61cb6d3b63ec2c1a25e7": [
         {
          "Action": "data insight",
          "action": "ID",
          "t": 0,
          "user": "G3"
         },
         {
          "Action": "scientific insight",
          "action": "IS",
          "t": 1,
          "user": "G2"
         },
         {
          "Action": "data insight",
          "action": "ID",
          "t": 1,
          "user": "M3"
         },
         {
          "Action": "scientific insight",
          "action": "IS",
          "t": 3,
          "user": "M3"
         },
         {
          "Action": "scientific insight",
          "action": "IS",
          "t": 4,
          "user": "A1"
         },
         {
          "Action": "scientific insight",
          "action": "IS",
          "t": 5,
          "user": "G1"
         },
         {
          "Action": "data insight",
          "action": "ID",
          "t": 6,
          "user": "A2"
         },
         {
          "Action": "data insight",
          "action": "ID",
          "t": 7,
          "user": "M3"
         },
         {
          "Action": "data insight",
          "action": "ID",
          "t": 8,
          "user": "A1"
         },
         {
          "Action": "data insight",
          "action": "ID",
          "t": 8,
          "user": "A2"
         },
         {
          "Action": "scientific insight",
          "action": "IS",
          "t": 8,
          "user": "G1"
         },
         {
          "Action": "scientific insight",
          "action": "IS",
          "t": 9,
          "user": "M2"
         },
         {
          "Action": "scientific insight",
          "action": "IS",
          "t": 9,
          "user": "M3"
         },
         {
          "Action": "scientific insight",
          "action": "IS",
          "t": 10,
          "user": "M2"
         },
         {
          "Action": "scientific insight",
          "action": "IS",
          "t": 11,
          "user": "A1"
         },
         {
          "Action": "data insight",
          "action": "ID",
          "t": 11,
          "user": "A3"
         },
         {
          "Action": "data insight",
          "action": "ID",
          "t": 11,
          "user": "G3"
         },
         {
          "Action": "scientific insight",
          "action": "IS",
          "t": 11,
          "user": "M1"
         },
         {
          "Action": "scientific insight",
          "action": "IS",
          "t": 12,
          "user": "M3"
         },
         {
          "Action": "scientific insight",
          "action": "IS",
          "t": 13,
          "user": "G3"
         },
         {
          "Action": "scientific insight",
          "action": "IS",
          "t": 15,
          "user": "M2"
         },
         {
          "Action": "data insight",
          "action": "ID",
          "t": 16,
          "user": "G2"
         },
         {
          "Action": "scientific insight",
          "action": "IS",
          "t": 16,
          "user": "M3"
         },
         {
          "Action": "scientific insight",
          "action": "IS",
          "t": 17,
          "user": "M1"
         },
         {
          "Action": "scientific insight",
          "action": "IS",
          "t": 18,
          "user": "G3"
         },
         {
          "Action": "data insight",
          "action": "ID",
          "t": 19,
          "user": "A3"
         },
         {
          "Action": "data insight",
          "action": "ID",
          "t": 19,
          "user": "G2"
         },
         {
          "Action": "scientific insight",
          "action": "IS",
          "t": 20,
          "user": "G3"
         },
         {
          "Action": "data insight",
          "action": "ID",
          "t": 21,
          "user": "G1"
         },
         {
          "Action": "data insight",
          "action": "ID",
          "t": 22,
          "user": "A3"
         },
         {
          "Action": "scientific insight",
          "action": "IS",
          "t": 24,
          "user": "G2"
         },
         {
          "Action": "data insight",
          "action": "ID",
          "t": 24,
          "user": "M3"
         },
         {
          "Action": "data insight",
          "action": "ID",
          "t": 25,
          "user": "M2"
         },
         {
          "Action": "scientific insight",
          "action": "IS",
          "t": 26,
          "user": "M3"
         },
         {
          "Action": "data insight",
          "action": "ID",
          "t": 27,
          "user": "M1"
         },
         {
          "Action": "data insight",
          "action": "ID",
          "t": 28,
          "user": "A2"
         },
         {
          "Action": "scientific insight",
          "action": "IS",
          "t": 29,
          "user": "M2"
         },
         {
          "Action": "data insight",
          "action": "ID",
          "t": 31,
          "user": "A1"
         },
         {
          "Action": "data insight",
          "action": "ID",
          "t": 34,
          "user": "A1"
         },
         {
          "Action": "scientific insight",
          "action": "IS",
          "t": 34,
          "user": "M2"
         },
         {
          "Action": "scientific insight",
          "action": "IS",
          "t": 35,
          "user": "M2"
         },
         {
          "Action": "scientific insight",
          "action": "IS",
          "t": 38,
          "user": "M2"
         },
         {
          "Action": "scientific insight",
          "action": "IS",
          "t": 39,
          "user": "A2"
         },
         {
          "Action": "data insight",
          "action": "ID",
          "t": 40,
          "user": "M2"
         },
         {
          "Action": "scientific insight",
          "action": "IS",
          "t": 41,
          "user": "G2"
         },
         {
          "Action": "data insight",
          "action": "ID",
          "t": 45,
          "user": "G2"
         },
         {
          "Action": "scientific insight",
          "action": "IS",
          "t": 48,
          "user": "A1"
         },
         {
          "Action": "data insight",
          "action": "ID",
          "t": 54,
          "user": "G2"
         },
         {
          "Action": "data insight",
          "action": "ID",
          "t": 55,
          "user": "G2"
         },
         {
          "Action": "data insight",
          "action": "ID",
          "t": 57,
          "user": "A1"
         },
         {
          "Action": "data insight",
          "action": "ID",
          "t": 65,
          "user": "A1"
         }
        ],
        "data-37a36f38c40d5a57d4bd1e4da3ff65dd": [
         {
          "action": "BR",
          "t": 2,
          "user": "G2"
         },
         {
          "action": "BR",
          "t": 4,
          "user": "A3"
         },
         {
          "action": "BR",
          "t": 5,
          "user": "G3"
         },
         {
          "action": "BR",
          "t": 6,
          "user": "G1"
         },
         {
          "action": "BR",
          "t": 8,
          "user": "G2"
         },
         {
          "action": "BR",
          "t": 8,
          "user": "M1"
         },
         {
          "action": "BR",
          "t": 9,
          "user": "A2"
         },
         {
          "action": "BR",
          "t": 10,
          "user": "G1"
         },
         {
          "action": "BR",
          "t": 12,
          "user": "M2"
         },
         {
          "action": "BR",
          "t": 14,
          "user": "A3"
         },
         {
          "action": "BR",
          "t": 14,
          "user": "G2"
         },
         {
          "action": "BR",
          "t": 14,
          "user": "G3"
         },
         {
          "action": "BR",
          "t": 15,
          "user": "G1"
         },
         {
          "action": "BR",
          "t": 16,
          "user": "G3"
         },
         {
          "action": "BR",
          "t": 16,
          "user": "M2"
         },
         {
          "action": "BR",
          "t": 17,
          "user": "G2"
         },
         {
          "action": "BR",
          "t": 17,
          "user": "M3"
         },
         {
          "action": "BR",
          "t": 18,
          "user": "M1"
         },
         {
          "action": "BR",
          "t": 19,
          "user": "A1"
         },
         {
          "action": "BR",
          "t": 20,
          "user": "A3"
         },
         {
          "action": "BR",
          "t": 20,
          "user": "M2"
         },
         {
          "action": "BR",
          "t": 21,
          "user": "G3"
         },
         {
          "action": "BR",
          "t": 21,
          "user": "M3"
         },
         {
          "action": "BR",
          "t": 22,
          "user": "M1"
         },
         {
          "action": "BR",
          "t": 23,
          "user": "A1"
         },
         {
          "action": "BR",
          "t": 25,
          "user": "A3"
         },
         {
          "action": "BR",
          "t": 26,
          "user": "G2"
         },
         {
          "action": "BR",
          "t": 27,
          "user": "G1"
         },
         {
          "action": "BR",
          "t": 27,
          "user": "M3"
         },
         {
          "action": "BR",
          "t": 28,
          "user": "A3"
         },
         {
          "action": "BR",
          "t": 28,
          "user": "M1"
         },
         {
          "action": "BR",
          "t": 30,
          "user": "A2"
         },
         {
          "action": "BR",
          "t": 30,
          "user": "A3"
         },
         {
          "action": "BR",
          "t": 31,
          "user": "M3"
         },
         {
          "action": "BR",
          "t": 32,
          "user": "G2"
         },
         {
          "action": "BR",
          "t": 32,
          "user": "M2"
         },
         {
          "action": "BR",
          "t": 33,
          "user": "A3"
         },
         {
          "action": "BR",
          "t": 34,
          "user": "M1"
         },
         {
          "action": "BR",
          "t": 35,
          "user": "A1"
         },
         {
          "action": "BR",
          "t": 35,
          "user": "G2"
         },
         {
          "action": "BR",
          "t": 38,
          "user": "A1"
         },
         {
          "action": "BR",
          "t": 41,
          "user": "A2"
         },
         {
          "action": "BR",
          "t": 41,
          "user": "M2"
         },
         {
          "action": "BR",
          "t": 47,
          "user": "G2"
         },
         {
          "action": "BR",
          "t": 48,
          "user": "A2"
         },
         {
          "action": "BR",
          "t": 49,
          "user": "A1"
         },
         {
          "action": "BR",
          "t": 54,
          "user": "A1"
         },
         {
          "action": "BR",
          "t": 57,
          "user": "G2"
         },
         {
          "action": "BR",
          "t": 62,
          "user": "A1"
         },
         {
          "action": "BR",
          "t": 69,
          "user": "A1"
         }
        ],
        "data-5d3d4304a9010860657b144aa4f44c7d": [
         {
          "Feature": "filter",
          "Process": "search-with-context",
          "component": "filter-selection",
          "t": 0,
          "user": "A1"
         },
         {
          "Feature": "filter",
          "Process": "search-with-context",
          "component": "filter-selection",
          "t": 0,
          "user": "A2"
         },
         {
          "Feature": "drag-and-drop",
          "Process": "bottom-up-querying",
          "component": "result-querying",
          "t": 0,
          "user": "A3"
         },
         {
          "Feature": "representative-outlier",
          "Process": "recommendation",
          "component": "recommendation",
          "t": 0,
          "user": "G1"
         },
         {
          "Feature": "representative-outlier",
          "Process": "recommendation",
          "component": "recommendation",
          "t": 0,
          "user": "G2"
         },
         {
          "Feature": "show-scatter",
          "Process": "others",
          "component": "control",
          "t": 0,
          "user": "M2"
         },
         {
          "Feature": "dynamic-class",
          "Process": "search-with-context",
          "component": "group-comparison",
          "t": 0,
          "user": "M3"
         },
         {
          "Feature": "filter",
          "Process": "search-with-context",
          "component": "filter-selection",
          "t": 1,
          "user": "A1"
         },
         {
          "Feature": "drag-and-drop",
          "Process": "bottom-up-querying",
          "component": "result-querying",
          "t": 1,
          "user": "A3"
         },
         {
          "Feature": "control-kmeans-clustersize",
          "Process": "recommendation",
          "component": "recommendation",
          "t": 1,
          "user": "G1"
         },
         {
          "Feature": "sketch-to-query",
          "Process": "top-down-querying",
          "component": "exact-specification",
          "t": 1,
          "user": "M1"
         },
         {
          "Feature": "change-axis",
          "Process": "others",
          "component": "control",
          "t": 1,
          "user": "M2"
         },
         {
          "Feature": "filter",
          "Process": "search-with-context",
          "component": "filter-selection",
          "t": 2,
          "user": "A1"
         },
         {
          "Feature": "sketch-to-modify",
          "Process": "top-down-querying",
          "component": "exact-specification",
          "t": 2,
          "user": "A3"
         },
         {
          "Feature": "representative-outlier",
          "Process": "recommendation",
          "component": "recommendation",
          "t": 2,
          "user": "G1"
         },
         {
          "Feature": "ignore-xrange",
          "Process": "top-down-querying",
          "component": "approx-shape-specification",
          "t": 2,
          "user": "M1"
         },
         {
          "Feature": "show-scatter",
          "Process": "others",
          "component": "control",
          "t": 2,
          "user": "M3"
         },
         {
          "Feature": "filter",
          "Process": "search-with-context",
          "component": "filter-selection",
          "t": 3,
          "user": "A1"
         },
         {
          "Feature": "representative-outlier",
          "Process": "recommendation",
          "component": "recommendation",
          "t": 3,
          "user": "A2"
         },
         {
          "Feature": "ignore-xrange",
          "Process": "top-down-querying",
          "component": "approx-shape-specification",
          "t": 3,
          "user": "A3"
         },
         {
          "Feature": "control-kmeans-clustersize",
          "Process": "recommendation",
          "component": "recommendation",
          "t": 3,
          "user": "G1"
         },
         {
          "Feature": "representative-outlier",
          "Process": "recommendation",
          "component": "recommendation",
          "t": 3,
          "user": "G2"
         },
         {
          "Feature": "show-scatter",
          "Process": "others",
          "component": "control",
          "t": 3,
          "user": "G3"
         },
         {
          "Feature": "dynamic-class",
          "Process": "search-with-context",
          "component": "group-comparison",
          "t": 3,
          "user": "M2"
         },
         {
          "Feature": "drag-and-drop",
          "Process": "bottom-up-querying",
          "component": "result-querying",
          "t": 4,
          "user": "A2"
         },
         {
          "Feature": "control-kmeans-clustersize",
          "Process": "recommendation",
          "component": "recommendation",
          "t": 4,
          "user": "G2"
         },
         {
          "Feature": "upload-dataset",
          "Process": "others",
          "component": "control",
          "t": 4,
          "user": "G3"
         },
         {
          "Feature": "change-axis",
          "Process": "others",
          "component": "control",
          "t": 4,
          "user": "M1"
         },
         {
          "Feature": "dynamic-class",
          "Process": "search-with-context",
          "component": "group-comparison",
          "t": 4,
          "user": "M2"
         },
         {
          "Feature": "dynamic-class",
          "Process": "search-with-context",
          "component": "group-comparison",
          "t": 4,
          "user": "M3"
         },
         {
          "Feature": "drag-and-drop",
          "Process": "bottom-up-querying",
          "component": "result-querying",
          "t": 5,
          "user": "A3"
         },
         {
          "Feature": "representative-outlier",
          "Process": "recommendation",
          "component": "recommendation",
          "t": 5,
          "user": "G2"
         },
         {
          "Feature": "dynamic-class",
          "Process": "search-with-context",
          "component": "group-comparison",
          "t": 5,
          "user": "M2"
         },
         {
          "Feature": "ignore-xrange",
          "Process": "top-down-querying",
          "component": "approx-shape-specification",
          "t": 6,
          "user": "A3"
         },
         {
          "Feature": "filter",
          "Process": "search-with-context",
          "component": "filter-selection",
          "t": 6,
          "user": "G2"
         },
         {
          "Feature": "representative-outlier",
          "Process": "recommendation",
          "component": "recommendation",
          "t": 6,
          "user": "G3"
         },
         {
          "Feature": "dynamic-class",
          "Process": "search-with-context",
          "component": "group-comparison",
          "t": 6,
          "user": "M2"
         },
         {
          "Feature": "dynamic-class",
          "Process": "search-with-context",
          "component": "group-comparison",
          "t": 6,
          "user": "M3"
         },
         {
          "Feature": "drag-and-drop",
          "Process": "bottom-up-querying",
          "component": "result-querying",
          "t": 7,
          "user": "A1"
         },
         {
          "Feature": "change-metric",
          "Process": "top-down-querying",
          "component": "flexible-matching",
          "t": 7,
          "user": "A3"
         },
         {
          "Feature": "drag-and-drop",
          "Process": "bottom-up-querying",
          "component": "result-querying",
          "t": 7,
          "user": "G1"
         },
         {
          "Feature": "change-metric",
          "Process": "top-down-querying",
          "component": "flexible-matching",
          "t": 8,
          "user": "G3"
         },
         {
          "Feature": "dynamic-class",
          "Process": "search-with-context",
          "component": "group-comparison",
          "t": 8,
          "user": "M2"
         },
         {
          "Feature": "change-axis",
          "Process": "others",
          "component": "control",
          "t": 8,
          "user": "M3"
         },
         {
          "Feature": "filter",
          "Process": "search-with-context",
          "component": "filter-selection",
          "t": 9,
          "user": "A1"
         },
         {
          "Feature": "brush-xrange",
          "Process": "top-down-querying",
          "component": "range-selection",
          "t": 9,
          "user": "A3"
         },
         {
          "Feature": "control-kmeans-clustersize",
          "Process": "recommendation",
          "component": "recommendation",
          "t": 9,
          "user": "G3"
         },
         {
          "Feature": "brush-xrange",
          "Process": "top-down-querying",
          "component": "range-selection",
          "t": 9,
          "user": "M1"
         },
         {
          "Feature": "filter",
          "Process": "search-with-context",
          "component": "filter-selection",
          "t": 10,
          "user": "A2"
         },
         {
          "Feature": "change-metric",
          "Process": "top-down-querying",
          "component": "flexible-matching",
          "t": 10,
          "user": "A3"
         },
         {
          "Feature": "drag-and-drop",
          "Process": "bottom-up-querying",
          "component": "result-querying",
          "t": 10,
          "user": "G2"
         },
         {
          "Feature": "representative-outlier",
          "Process": "recommendation",
          "component": "recommendation",
          "t": 10,
          "user": "G3"
         },
         {
          "Feature": "change-axis",
          "Process": "others",
          "component": "control",
          "t": 10,
          "user": "M1"
         },
         {
          "Feature": "drag-and-drop",
          "Process": "bottom-up-querying",
          "component": "result-querying",
          "t": 10,
          "user": "M3"
         },
         {
          "Feature": "drag-and-drop",
          "Process": "bottom-up-querying",
          "component": "result-querying",
          "t": 11,
          "user": "G1"
         },
         {
          "Feature": "dynamic-class",
          "Process": "search-with-context",
          "component": "group-comparison",
          "t": 11,
          "user": "M3"
         },
         {
          "Feature": "representative-outlier",
          "Process": "recommendation",
          "component": "recommendation",
          "t": 12,
          "user": "A2"
         },
         {
          "Feature": "change-metric",
          "Process": "top-down-querying",
          "component": "flexible-matching",
          "t": 12,
          "user": "A3"
         },
         {
          "Feature": "min-similarity-cutoff",
          "Process": "others",
          "component": "control",
          "t": 12,
          "user": "G1"
         },
         {
          "Feature": "filter",
          "Process": "search-with-context",
          "component": "filter-selection",
          "t": 12,
          "user": "G2"
         },
         {
          "Feature": "drag-and-drop",
          "Process": "bottom-up-querying",
          "component": "result-querying",
          "t": 12,
          "user": "G3"
         },
         {
          "Feature": "representative-outlier",
          "Process": "recommendation",
          "component": "recommendation",
          "t": 12,
          "user": "M1"
         },
         {
          "Feature": "drag-and-drop",
          "Process": "bottom-up-querying",
          "component": "result-querying",
          "t": 13,
          "user": "A2"
         },
         {
          "Feature": "brush-xrange",
          "Process": "top-down-querying",
          "component": "range-selection",
          "t": 13,
          "user": "G1"
         },
         {
          "Feature": "change-metric",
          "Process": "top-down-querying",
          "component": "flexible-matching",
          "t": 13,
          "user": "M3"
         },
         {
          "Feature": "change-number-of-results",
          "Process": "others",
          "component": "control",
          "t": 14,
          "user": "A2"
         },
         {
          "Feature": "export",
          "Process": "others",
          "component": "control",
          "t": 14,
          "user": "G1"
         },
         {
          "Feature": "dynamic-class",
          "Process": "search-with-context",
          "component": "group-comparison",
          "t": 14,
          "user": "M2"
         },
         {
          "Feature": "export",
          "Process": "others",
          "component": "control",
          "t": 15,
          "user": "A2"
         },
         {
          "Feature": "filter",
          "Process": "search-with-context",
          "component": "filter-selection",
          "t": 15,
          "user": "A3"
         },
         {
          "Feature": "show-scatter",
          "Process": "others",
          "component": "control",
          "t": 15,
          "user": "G2"
         },
         {
          "Feature": "export",
          "Process": "others",
          "component": "control",
          "t": 15,
          "user": "G3"
         },
         {
          "Feature": "dynamic-class",
          "Process": "search-with-context",
          "component": "group-comparison",
          "t": 15,
          "user": "M1"
         },
         {
          "Feature": "drag-and-drop",
          "Process": "bottom-up-querying",
          "component": "result-querying",
          "t": 15,
          "user": "M3"
         },
         {
          "Feature": "reverse-y",
          "Process": "others",
          "component": "control",
          "t": 16,
          "user": "A1"
         },
         {
          "Feature": "filter",
          "Process": "search-with-context",
          "component": "filter-selection",
          "t": 16,
          "user": "A2"
         },
         {
          "Feature": "control-kmeans-clustersize",
          "Process": "recommendation",
          "component": "recommendation",
          "t": 16,
          "user": "G1"
         },
         {
          "Feature": "representative-outlier",
          "Process": "recommendation",
          "component": "recommendation",
          "t": 17,
          "user": "G3"
         },
         {
          "Feature": "sketch-to-query",
          "Process": "top-down-querying",
          "component": "exact-specification",
          "t": 17,
          "user": "M2"
         },
         {
          "Feature": "representative-outlier",
          "Process": "recommendation",
          "component": "recommendation",
          "t": 18,
          "user": "A2"
         },
         {
          "Feature": "filter",
          "Process": "search-with-context",
          "component": "filter-selection",
          "t": 18,
          "user": "A3"
         },
         {
          "Feature": "sketch-to-query",
          "Process": "top-down-querying",
          "component": "exact-specification",
          "t": 18,
          "user": "G2"
         },
         {
          "Feature": "change-axis",
          "Process": "others",
          "component": "control",
          "t": 18,
          "user": "M3"
         },
         {
          "Feature": "drag-and-drop",
          "Process": "bottom-up-querying",
          "component": "result-querying",
          "t": 19,
          "user": "A2"
         },
         {
          "Feature": "drag-and-drop",
          "Process": "bottom-up-querying",
          "component": "result-querying",
          "t": 19,
          "user": "G1"
         },
         {
          "Feature": "ignore-xrange",
          "Process": "top-down-querying",
          "component": "approx-shape-specification",
          "t": 19,
          "user": "G3"
         },
         {
          "Feature": "filter",
          "Process": "search-with-context",
          "component": "filter-selection",
          "t": 19,
          "user": "M1"
         },
         {
          "Feature": "sketch-to-modify",
          "Process": "top-down-querying",
          "component": "exact-specification",
          "t": 19,
          "user": "M2"
         },
         {
          "Feature": "sketch-to-query",
          "Process": "top-down-querying",
          "component": "exact-specification",
          "t": 19,
          "user": "M3"
         },
         {
          "Feature": "drag-and-drop",
          "Process": "bottom-up-querying",
          "component": "result-querying",
          "t": 20,
          "user": "A1"
         },
         {
          "Feature": "change-number-of-results",
          "Process": "others",
          "component": "control",
          "t": 20,
          "user": "A2"
         },
         {
          "Feature": "drag-and-drop",
          "Process": "bottom-up-querying",
          "component": "result-querying",
          "t": 20,
          "user": "G1"
         },
         {
          "Feature": "sketch-to-query",
          "Process": "top-down-querying",
          "component": "exact-specification",
          "t": 20,
          "user": "M1"
         },
         {
          "Feature": "sketch-to-query",
          "Process": "top-down-querying",
          "component": "exact-specification",
          "t": 20,
          "user": "M3"
         },
         {
          "Feature": "export",
          "Process": "others",
          "component": "control",
          "t": 21,
          "user": "A2"
         },
         {
          "Feature": "change-axis",
          "Process": "others",
          "component": "control",
          "t": 21,
          "user": "A3"
         },
         {
          "Feature": "ignore-xrange",
          "Process": "top-down-querying",
          "component": "approx-shape-specification",
          "t": 21,
          "user": "G2"
         },
         {
          "Feature": "show-scatter",
          "Process": "others",
          "component": "control",
          "t": 21,
          "user": "M1"
         },
         {
          "Feature": "change-axis",
          "Process": "others",
          "component": "control",
          "t": 21,
          "user": "M2"
         },
         {
          "Feature": "filter",
          "Process": "search-with-context",
          "component": "filter-selection",
          "t": 22,
          "user": "A1"
         },
         {
          "Feature": "filter",
          "Process": "search-with-context",
          "component": "filter-selection",
          "t": 22,
          "user": "A2"
         },
         {
          "Feature": "control-kmeans-clustersize",
          "Process": "recommendation",
          "component": "recommendation",
          "t": 22,
          "user": "G1"
         },
         {
          "Feature": "sketch-to-query",
          "Process": "top-down-querying",
          "component": "exact-specification",
          "t": 22,
          "user": "G2"
         },
         {
          "Feature": "sketch-to-modify",
          "Process": "top-down-querying",
          "component": "exact-specification",
          "t": 22,
          "user": "M2"
         },
         {
          "Feature": "filter",
          "Process": "search-with-context",
          "component": "filter-selection",
          "t": 23,
          "user": "A3"
         },
         {
          "Feature": "filter",
          "Process": "search-with-context",
          "component": "filter-selection",
          "t": 23,
          "user": "G2"
         },
         {
          "Feature": "drag-and-drop",
          "Process": "bottom-up-querying",
          "component": "result-querying",
          "t": 23,
          "user": "M2"
         },
         {
          "Feature": "drag-and-drop",
          "Process": "bottom-up-querying",
          "component": "result-querying",
          "t": 23,
          "user": "M3"
         },
         {
          "Feature": "filter",
          "Process": "search-with-context",
          "component": "filter-selection",
          "t": 24,
          "user": "A1"
         },
         {
          "Feature": "representative-outlier",
          "Process": "recommendation",
          "component": "recommendation",
          "t": 24,
          "user": "A2"
         },
         {
          "Feature": "filter",
          "Process": "search-with-context",
          "component": "filter-selection",
          "t": 24,
          "user": "M1"
         },
         {
          "Feature": "sketch-to-modify",
          "Process": "top-down-querying",
          "component": "exact-specification",
          "t": 24,
          "user": "M2"
         },
         {
          "Feature": "drag-and-drop",
          "Process": "bottom-up-querying",
          "component": "result-querying",
          "t": 25,
          "user": "A2"
         },
         {
          "Feature": "filter",
          "Process": "search-with-context",
          "component": "filter-selection",
          "t": 25,
          "user": "G2"
         },
         {
          "Feature": "filter",
          "Process": "search-with-context",
          "component": "filter-selection",
          "t": 25,
          "user": "M1"
         },
         {
          "Feature": "change-number-of-results",
          "Process": "others",
          "component": "control",
          "t": 26,
          "user": "A2"
         },
         {
          "Feature": "change-axis",
          "Process": "others",
          "component": "control",
          "t": 26,
          "user": "A3"
         },
         {
          "Feature": "filter",
          "Process": "search-with-context",
          "component": "filter-selection",
          "t": 26,
          "user": "M1"
         },
         {
          "Feature": "export",
          "Process": "others",
          "component": "control",
          "t": 27,
          "user": "A2"
         },
         {
          "Feature": "filter",
          "Process": "search-with-context",
          "component": "filter-selection",
          "t": 27,
          "user": "G2"
         },
         {
          "Feature": "drag-and-drop",
          "Process": "bottom-up-querying",
          "component": "result-querying",
          "t": 27,
          "user": "M2"
         },
         {
          "Feature": "sketch-to-modify",
          "Process": "top-down-querying",
          "component": "exact-specification",
          "t": 28,
          "user": "M2"
         },
         {
          "Feature": "change-axis",
          "Process": "others",
          "component": "control",
          "t": 28,
          "user": "M3"
         },
         {
          "Feature": "brush-xrange",
          "Process": "top-down-querying",
          "component": "range-selection",
          "t": 29,
          "user": "A1"
         },
         {
          "Feature": "input-equation",
          "Process": "top-down-querying",
          "component": "exact-specification",
          "t": 29,
          "user": "A3"
         },
         {
          "Feature": "filter",
          "Process": "search-with-context",
          "component": "filter-selection",
          "t": 29,
          "user": "G2"
         },
         {
          "Feature": "export",
          "Process": "others",
          "component": "control",
          "t": 30,
          "user": "M1"
         },
         {
          "Feature": "export",
          "Process": "others",
          "component": "control",
          "t": 31,
          "user": "A3"
         },
         {
          "Feature": "representative-outlier",
          "Process": "recommendation",
          "component": "recommendation",
          "t": 31,
          "user": "G2"
         },
         {
          "Feature": "smoothing",
          "Process": "top-down-querying",
          "component": "approx-shape-specification",
          "t": 33,
          "user": "G2"
         },
         {
          "Feature": "dynamic-class",
          "Process": "search-with-context",
          "component": "group-comparison",
          "t": 33,
          "user": "M2"
         },
         {
          "Feature": "dynamic-class",
          "Process": "search-with-context",
          "component": "group-comparison",
          "t": 34,
          "user": "A2"
         },
         {
          "Feature": "smoothing",
          "Process": "top-down-querying",
          "component": "approx-shape-specification",
          "t": 34,
          "user": "G2"
         },
         {
          "Feature": "filter",
          "Process": "search-with-context",
          "component": "filter-selection",
          "t": 36,
          "user": "A1"
         },
         {
          "Feature": "pattern-upload",
          "Process": "bottom-up-querying",
          "component": "concept-query",
          "t": 36,
          "user": "G2"
         },
         {
          "Feature": "representative-outlier",
          "Process": "recommendation",
          "component": "recommendation",
          "t": 36,
          "user": "M2"
         },
         {
          "Feature": "filter",
          "Process": "search-with-context",
          "component": "filter-selection",
          "t": 37,
          "user": "A1"
         },
         {
          "Feature": "change-axis",
          "Process": "others",
          "component": "control",
          "t": 37,
          "user": "A2"
         },
         {
          "Feature": "filter",
          "Process": "search-with-context",
          "component": "filter-selection",
          "t": 37,
          "user": "M2"
         },
         {
          "Feature": "ignore-xrange",
          "Process": "top-down-querying",
          "component": "approx-shape-specification",
          "t": 38,
          "user": "A2"
         },
         {
          "Feature": "smoothing",
          "Process": "top-down-querying",
          "component": "approx-shape-specification",
          "t": 39,
          "user": "A1"
         },
         {
          "Feature": "filter",
          "Process": "search-with-context",
          "component": "filter-selection",
          "t": 39,
          "user": "G2"
         },
         {
          "Feature": "change-axis",
          "Process": "others",
          "component": "control",
          "t": 39,
          "user": "M2"
         },
         {
          "Feature": "sketch-to-query",
          "Process": "top-down-querying",
          "component": "exact-specification",
          "t": 40,
          "user": "A1"
         },
         {
          "Feature": "drag-and-drop",
          "Process": "bottom-up-querying",
          "component": "result-querying",
          "t": 40,
          "user": "G2"
         },
         {
          "Feature": "sketch-to-query",
          "Process": "top-down-querying",
          "component": "exact-specification",
          "t": 41,
          "user": "A1"
         },
         {
          "Feature": "filter",
          "Process": "search-with-context",
          "component": "filter-selection",
          "t": 42,
          "user": "A1"
         },
         {
          "Feature": "export",
          "Process": "others",
          "component": "control",
          "t": 43,
          "user": "G2"
         },
         {
          "Feature": "drag-and-drop",
          "Process": "bottom-up-querying",
          "component": "result-querying",
          "t": 44,
          "user": "A2"
         },
         {
          "Feature": "representative-outlier",
          "Process": "recommendation",
          "component": "recommendation",
          "t": 44,
          "user": "G2"
         },
         {
          "Feature": "brush-xrange",
          "Process": "top-down-querying",
          "component": "range-selection",
          "t": 46,
          "user": "A2"
         },
         {
          "Feature": "export",
          "Process": "others",
          "component": "control",
          "t": 46,
          "user": "G2"
         },
         {
          "Feature": "brush-xrange",
          "Process": "top-down-querying",
          "component": "range-selection",
          "t": 48,
          "user": "G2"
         },
         {
          "Feature": "dynamic-class",
          "Process": "search-with-context",
          "component": "group-comparison",
          "t": 50,
          "user": "A1"
         },
         {
          "Feature": "upload-dataset",
          "Process": "others",
          "component": "control",
          "t": 50,
          "user": "G2"
         },
         {
          "Feature": "dynamic-class",
          "Process": "search-with-context",
          "component": "group-comparison",
          "t": 51,
          "user": "A1"
         },
         {
          "Feature": "smoothing",
          "Process": "top-down-querying",
          "component": "approx-shape-specification",
          "t": 51,
          "user": "G2"
         },
         {
          "Feature": "control-kmeans-clustersize",
          "Process": "recommendation",
          "component": "recommendation",
          "t": 52,
          "user": "G2"
         },
         {
          "Feature": "dynamic-class",
          "Process": "search-with-context",
          "component": "group-comparison",
          "t": 53,
          "user": "A1"
         },
         {
          "Feature": "representative-outlier",
          "Process": "recommendation",
          "component": "recommendation",
          "t": 53,
          "user": "G2"
         },
         {
          "Feature": "filter",
          "Process": "search-with-context",
          "component": "filter-selection",
          "t": 55,
          "user": "A1"
         },
         {
          "Feature": "pattern-upload",
          "Process": "bottom-up-querying",
          "component": "concept-query",
          "t": 58,
          "user": "A1"
         },
         {
          "Feature": "export",
          "Process": "others",
          "component": "control",
          "t": 59,
          "user": "A1"
         },
         {
          "Feature": "dynamic-class",
          "Process": "search-with-context",
          "component": "group-comparison",
          "t": 61,
          "user": "A1"
         },
         {
          "Feature": "filter",
          "Process": "search-with-context",
          "component": "filter-selection",
          "t": 63,
          "user": "A1"
         },
         {
          "Feature": "pattern-upload",
          "Process": "bottom-up-querying",
          "component": "concept-query",
          "t": 66,
          "user": "A1"
         },
         {
          "Feature": "export",
          "Process": "others",
          "component": "control",
          "t": 67,
          "user": "A1"
         }
        ]
       },
       "layer": [
        {
         "data": {
          "name": "data-5d3d4304a9010860657b144aa4f44c7d"
         },
         "encoding": {
          "color": {
           "field": "Process",
           "sort": [
            "top-down-querying",
            "search-with-context",
            "bottom-up-querying",
            "recommendation"
           ],
           "type": "nominal"
          },
          "x": {
           "field": "t",
           "type": "quantitative"
          },
          "y": {
           "field": "user",
           "type": "nominal"
          }
         },
         "mark": "circle"
        },
        {
         "data": {
          "name": "data-37a36f38c40d5a57d4bd1e4da3ff65dd"
         },
         "encoding": {
          "x": {
           "field": "t",
           "type": "quantitative"
          },
          "y": {
           "field": "user",
           "type": "nominal"
          }
         },
         "mark": {
          "color": "black",
          "thickness": 2,
          "type": "tick"
         }
        },
        {
         "data": {
          "name": "data-0384c290eb7d61cb6d3b63ec2c1a25e7"
         },
         "encoding": {
          "shape": {
           "field": "Action",
           "type": "nominal"
          },
          "x": {
           "field": "t",
           "title": "Timepoint",
           "type": "quantitative"
          },
          "y": {
           "field": "user",
           "title": "Participant",
           "type": "nominal"
          }
         },
         "mark": {
          "color": "red",
          "shape": "diamond",
          "type": "point"
         }
        }
       ],
       "title": "Evaluation Study Event Timeline Breakdown by Process"
      },
      "image/png": "[encoded data removed]",
      "text/plain": [
       "<VegaLite 2 object>\n",
       "\n",
       "If you see this message, it means the renderer has not been properly enabled\n",
       "for the frontend that you are using. For more information, see\n",
       "https://altair-viz.github.io/user_guide/troubleshooting.html\n"
      ]
     },
     "execution_count": 80,
     "metadata": {},
     "output_type": "execute_result"
    }
   ],
   "source": [
    "chart = process_chart+ break_chart + insight_chart\n",
    "chart.title=\"Evaluation Study Event Timeline Breakdown by Process\"\n",
    "chart"
   ]
  },
  {
   "cell_type": "markdown",
   "metadata": {},
   "source": [
    "- Top-down querying alone does not lead to insights. We see a lot of sessions where people try top-down querying then give up without discovering an insight. Even when there is top-down querying performed sucessfully, it is often because it was associated with a search with context, or used for sketch modification on a drag-and-dropped visualization."
   ]
  },
  {
   "cell_type": "markdown",
   "metadata": {},
   "source": [
    "# Statistics"
   ]
  },
  {
   "cell_type": "code",
   "execution_count": 81,
   "metadata": {},
   "outputs": [
    {
     "name": "stdout",
     "output_type": "stream",
     "text": [
      "Total number of sessions: 50\n"
     ]
    }
   ],
   "source": [
    "print (\"Total number of sessions:\", len(df[df[\"action\"]==\"BR\"]))"
   ]
  },
  {
   "cell_type": "code",
   "execution_count": 82,
   "metadata": {},
   "outputs": [],
   "source": [
    "df['subject'] = df['user'].apply(lambda x: {'A':'astro', 'G':'genetics', 'M':'material science'}[x[0]])"
   ]
  },
  {
   "cell_type": "code",
   "execution_count": 83,
   "metadata": {},
   "outputs": [
    {
     "data": {
      "text/html": [
       "<div>\n",
       "<style scoped>\n",
       "    .dataframe tbody tr th:only-of-type {\n",
       "        vertical-align: middle;\n",
       "    }\n",
       "\n",
       "    .dataframe tbody tr th {\n",
       "        vertical-align: top;\n",
       "    }\n",
       "\n",
       "    .dataframe thead th {\n",
       "        text-align: right;\n",
       "    }\n",
       "</style>\n",
       "<table border=\"1\" class=\"dataframe\">\n",
       "  <thead>\n",
       "    <tr style=\"text-align: right;\">\n",
       "      <th></th>\n",
       "      <th>0</th>\n",
       "      <th>1</th>\n",
       "      <th>2</th>\n",
       "    </tr>\n",
       "  </thead>\n",
       "  <tbody>\n",
       "    <tr>\n",
       "      <th>subject</th>\n",
       "      <td>astro</td>\n",
       "      <td>genetics</td>\n",
       "      <td>material science</td>\n",
       "    </tr>\n",
       "    <tr>\n",
       "      <th>Number of Sessions</th>\n",
       "      <td>19</td>\n",
       "      <td>17</td>\n",
       "      <td>14</td>\n",
       "    </tr>\n",
       "  </tbody>\n",
       "</table>\n",
       "</div>"
      ],
      "text/plain": [
       "                        0         1                 2\n",
       "subject             astro  genetics  material science\n",
       "Number of Sessions     19        17                14"
      ]
     },
     "execution_count": 83,
     "metadata": {},
     "output_type": "execute_result"
    }
   ],
   "source": [
    "df[df[\"action\"]==\"BR\"].groupby(\"subject\").count().reset_index()[[\"subject\",\"t\"]].rename(columns={\"t\":\"Number of Sessions\"}).transpose()"
   ]
  },
  {
   "cell_type": "code",
   "execution_count": 84,
   "metadata": {},
   "outputs": [],
   "source": [
    "df = pd.read_csv(\"StudyEventTimeSeries.csv\")\n",
    "\n",
    "df = df.stack().reset_index()\n",
    "\n",
    "df = df.rename(columns={\n",
    "    \"level_0\":\"t\",\n",
    "    \"level_1\":\"user\",\n",
    "    0:\"Feature\"\n",
    "})"
   ]
  },
  {
   "cell_type": "code",
   "execution_count": 85,
   "metadata": {},
   "outputs": [],
   "source": [
    "df = df[df.Feature.isin(featureOnly)]"
   ]
  },
  {
   "cell_type": "code",
   "execution_count": 86,
   "metadata": {},
   "outputs": [],
   "source": [
    "df['subject'] = df['user'].apply(lambda x: {'A':'astro', 'G':'genetics', 'M':'material science'}[x[0]])"
   ]
  },
  {
   "cell_type": "code",
   "execution_count": 87,
   "metadata": {},
   "outputs": [],
   "source": [
    "df_frequency_by_subject_feature = df.groupby([\"subject\",\"Feature\"]).count()[\"t\"].reset_index().rename(columns={\"t\":\"Usage Frequency\"})"
   ]
  },
  {
   "cell_type": "code",
   "execution_count": 88,
   "metadata": {},
   "outputs": [
    {
     "data": {
      "application/vnd.vegalite.v2+json": {
       "$schema": "https://vega.github.io/schema/vega-lite/v2.6.0.json",
       "config": {
        "view": {
         "height": 300,
         "width": 400
        }
       },
       "data": {
        "name": "data-1c733d9c6d8d1ccfb64201f777f9b495"
       },
       "datasets": {
        "data-1c733d9c6d8d1ccfb64201f777f9b495": [
         {
          "Feature": "brush-xrange",
          "Usage Frequency": 3,
          "subject": "astro"
         },
         {
          "Feature": "change-axis",
          "Usage Frequency": 3,
          "subject": "astro"
         },
         {
          "Feature": "change-metric",
          "Usage Frequency": 3,
          "subject": "astro"
         },
         {
          "Feature": "change-number-of-results",
          "Usage Frequency": 3,
          "subject": "astro"
         },
         {
          "Feature": "drag-and-drop",
          "Usage Frequency": 10,
          "subject": "astro"
         },
         {
          "Feature": "dynamic-class",
          "Usage Frequency": 5,
          "subject": "astro"
         },
         {
          "Feature": "export",
          "Usage Frequency": 6,
          "subject": "astro"
         },
         {
          "Feature": "filter",
          "Usage Frequency": 19,
          "subject": "astro"
         },
         {
          "Feature": "ignore-xrange",
          "Usage Frequency": 3,
          "subject": "astro"
         },
         {
          "Feature": "input-equation",
          "Usage Frequency": 1,
          "subject": "astro"
         },
         {
          "Feature": "pattern-upload",
          "Usage Frequency": 2,
          "subject": "astro"
         },
         {
          "Feature": "representative-outlier",
          "Usage Frequency": 4,
          "subject": "astro"
         },
         {
          "Feature": "reverse-y",
          "Usage Frequency": 1,
          "subject": "astro"
         },
         {
          "Feature": "sketch-to-modify",
          "Usage Frequency": 1,
          "subject": "astro"
         },
         {
          "Feature": "sketch-to-query",
          "Usage Frequency": 2,
          "subject": "astro"
         },
         {
          "Feature": "smoothing",
          "Usage Frequency": 1,
          "subject": "astro"
         },
         {
          "Feature": "brush-xrange",
          "Usage Frequency": 2,
          "subject": "genetics"
         },
         {
          "Feature": "change-metric",
          "Usage Frequency": 1,
          "subject": "genetics"
         },
         {
          "Feature": "control-kmeans-clustersize",
          "Usage Frequency": 7,
          "subject": "genetics"
         },
         {
          "Feature": "drag-and-drop",
          "Usage Frequency": 7,
          "subject": "genetics"
         },
         {
          "Feature": "export",
          "Usage Frequency": 4,
          "subject": "genetics"
         },
         {
          "Feature": "filter",
          "Usage Frequency": 7,
          "subject": "genetics"
         },
         {
          "Feature": "ignore-xrange",
          "Usage Frequency": 2,
          "subject": "genetics"
         },
         {
          "Feature": "min-similarity-cutoff",
          "Usage Frequency": 1,
          "subject": "genetics"
         },
         {
          "Feature": "pattern-upload",
          "Usage Frequency": 1,
          "subject": "genetics"
         },
         {
          "Feature": "representative-outlier",
          "Usage Frequency": 11,
          "subject": "genetics"
         },
         {
          "Feature": "show-scatter",
          "Usage Frequency": 2,
          "subject": "genetics"
         },
         {
          "Feature": "sketch-to-query",
          "Usage Frequency": 2,
          "subject": "genetics"
         },
         {
          "Feature": "smoothing",
          "Usage Frequency": 3,
          "subject": "genetics"
         },
         {
          "Feature": "upload-dataset",
          "Usage Frequency": 2,
          "subject": "genetics"
         },
         {
          "Feature": "brush-xrange",
          "Usage Frequency": 1,
          "subject": "material science"
         },
         {
          "Feature": "change-axis",
          "Usage Frequency": 8,
          "subject": "material science"
         },
         {
          "Feature": "change-metric",
          "Usage Frequency": 1,
          "subject": "material science"
         },
         {
          "Feature": "drag-and-drop",
          "Usage Frequency": 5,
          "subject": "material science"
         },
         {
          "Feature": "dynamic-class",
          "Usage Frequency": 12,
          "subject": "material science"
         },
         {
          "Feature": "export",
          "Usage Frequency": 1,
          "subject": "material science"
         },
         {
          "Feature": "filter",
          "Usage Frequency": 5,
          "subject": "material science"
         },
         {
          "Feature": "ignore-xrange",
          "Usage Frequency": 1,
          "subject": "material science"
         },
         {
          "Feature": "representative-outlier",
          "Usage Frequency": 2,
          "subject": "material science"
         },
         {
          "Feature": "show-scatter",
          "Usage Frequency": 3,
          "subject": "material science"
         },
         {
          "Feature": "sketch-to-modify",
          "Usage Frequency": 4,
          "subject": "material science"
         },
         {
          "Feature": "sketch-to-query",
          "Usage Frequency": 5,
          "subject": "material science"
         }
        ]
       },
       "encoding": {
        "color": {
         "field": "subject",
         "type": "nominal"
        },
        "x": {
         "field": "Usage Frequency",
         "type": "quantitative"
        },
        "y": {
         "field": "Feature",
         "sort": [
          "sketch-to-query",
          "sketch-to-modify",
          "input-equation",
          "smoothing",
          "ignore-xrange",
          "brush-xrange",
          "filter",
          "dynamic-class",
          "pattern-upload",
          "drag-and-drop",
          "representative-outlier",
          "change-axis",
          "change-metric",
          "change-number-of-results",
          "control-kmeans-clustersize",
          "min-similarity-cutoff",
          "show-scatter",
          "upload-dataset",
          "reverse-y"
         ],
         "type": "nominal"
        }
       },
       "mark": "bar"
      },
      "image/png": "[encoded data removed]",
      "text/plain": [
       "<VegaLite 2 object>\n",
       "\n",
       "If you see this message, it means the renderer has not been properly enabled\n",
       "for the frontend that you are using. For more information, see\n",
       "https://altair-viz.github.io/user_guide/troubleshooting.html\n"
      ]
     },
     "execution_count": 88,
     "metadata": {},
     "output_type": "execute_result"
    }
   ],
   "source": [
    "alt.Chart(df_frequency_by_subject_feature).mark_bar().encode(\n",
    "    alt.X(\"Usage Frequency\"),\n",
    "    alt.Y(\"Feature\",sort= ['sketch-to-query','sketch-to-modify','input-equation','smoothing','ignore-xrange','brush-xrange',\n",
    "                          'filter','dynamic-class','pattern-upload','drag-and-drop','representative-outlier',\n",
    "                          'change-axis', 'change-metric','change-number-of-results','control-kmeans-clustersize', 'min-similarity-cutoff','show-scatter', 'upload-dataset','reverse-y']),\n",
    "    color = \"subject\"\n",
    ")"
   ]
  },
  {
   "cell_type": "code",
   "execution_count": 89,
   "metadata": {},
   "outputs": [],
   "source": [
    "df_component = df\n",
    "df_component[\"Component\"] = df[\"Feature\"].replace(component_dict)\n",
    "\n",
    "df_frequency_by_subject_feature = df.groupby([\"subject\",\"Component\"]).count()[\"t\"].reset_index().rename(columns={\"t\":\"Usage Frequency\"})\n",
    "\n",
    "# df_frequency_by_subject_feature = df_frequency_by_subject_feature[df_frequency_by_subject_feature[\"Component\"]!=\"control\"]"
   ]
  },
  {
   "cell_type": "code",
   "execution_count": 90,
   "metadata": {},
   "outputs": [
    {
     "data": {
      "application/vnd.vegalite.v2+json": {
       "$schema": "https://vega.github.io/schema/vega-lite/v2.6.0.json",
       "config": {
        "view": {
         "height": 300,
         "width": 400
        }
       },
       "data": {
        "name": "data-3368731533135b703dd50e39885ab37a"
       },
       "datasets": {
        "data-3368731533135b703dd50e39885ab37a": [
         {
          "Component": "approx-shape-specification",
          "Usage Frequency": 4,
          "subject": "astro"
         },
         {
          "Component": "concept-query",
          "Usage Frequency": 2,
          "subject": "astro"
         },
         {
          "Component": "control",
          "Usage Frequency": 13,
          "subject": "astro"
         },
         {
          "Component": "exact-specification",
          "Usage Frequency": 4,
          "subject": "astro"
         },
         {
          "Component": "filter-selection",
          "Usage Frequency": 19,
          "subject": "astro"
         },
         {
          "Component": "flexible-matching",
          "Usage Frequency": 3,
          "subject": "astro"
         },
         {
          "Component": "group-comparison",
          "Usage Frequency": 5,
          "subject": "astro"
         },
         {
          "Component": "range-selection",
          "Usage Frequency": 3,
          "subject": "astro"
         },
         {
          "Component": "recommendation",
          "Usage Frequency": 4,
          "subject": "astro"
         },
         {
          "Component": "result-querying",
          "Usage Frequency": 10,
          "subject": "astro"
         },
         {
          "Component": "approx-shape-specification",
          "Usage Frequency": 5,
          "subject": "genetics"
         },
         {
          "Component": "concept-query",
          "Usage Frequency": 1,
          "subject": "genetics"
         },
         {
          "Component": "control",
          "Usage Frequency": 9,
          "subject": "genetics"
         },
         {
          "Component": "exact-specification",
          "Usage Frequency": 2,
          "subject": "genetics"
         },
         {
          "Component": "filter-selection",
          "Usage Frequency": 7,
          "subject": "genetics"
         },
         {
          "Component": "flexible-matching",
          "Usage Frequency": 1,
          "subject": "genetics"
         },
         {
          "Component": "range-selection",
          "Usage Frequency": 2,
          "subject": "genetics"
         },
         {
          "Component": "recommendation",
          "Usage Frequency": 18,
          "subject": "genetics"
         },
         {
          "Component": "result-querying",
          "Usage Frequency": 7,
          "subject": "genetics"
         },
         {
          "Component": "approx-shape-specification",
          "Usage Frequency": 1,
          "subject": "material science"
         },
         {
          "Component": "control",
          "Usage Frequency": 12,
          "subject": "material science"
         },
         {
          "Component": "exact-specification",
          "Usage Frequency": 9,
          "subject": "material science"
         },
         {
          "Component": "filter-selection",
          "Usage Frequency": 5,
          "subject": "material science"
         },
         {
          "Component": "flexible-matching",
          "Usage Frequency": 1,
          "subject": "material science"
         },
         {
          "Component": "group-comparison",
          "Usage Frequency": 12,
          "subject": "material science"
         },
         {
          "Component": "range-selection",
          "Usage Frequency": 1,
          "subject": "material science"
         },
         {
          "Component": "recommendation",
          "Usage Frequency": 2,
          "subject": "material science"
         },
         {
          "Component": "result-querying",
          "Usage Frequency": 5,
          "subject": "material science"
         }
        ]
       },
       "encoding": {
        "color": {
         "field": "subject",
         "type": "nominal"
        },
        "x": {
         "field": "Usage Frequency",
         "type": "quantitative"
        },
        "y": {
         "field": "Component",
         "sort": [
          "exact-specification",
          "approx-shape-specification",
          "range-selection",
          "flexible-matching",
          "filter-selection",
          "group-comparison",
          "concept-query",
          "result-querying",
          "recommendation",
          "control"
         ],
         "type": "nominal"
        }
       },
       "mark": "bar"
      },
      "image/png": "[encoded data removed]",
      "text/plain": [
       "<VegaLite 2 object>\n",
       "\n",
       "If you see this message, it means the renderer has not been properly enabled\n",
       "for the frontend that you are using. For more information, see\n",
       "https://altair-viz.github.io/user_guide/troubleshooting.html\n"
      ]
     },
     "execution_count": 90,
     "metadata": {},
     "output_type": "execute_result"
    }
   ],
   "source": [
    "alt.Chart(df_frequency_by_subject_feature).mark_bar().encode(\n",
    "    alt.X(\"Usage Frequency\"),\n",
    "    alt.Y(\"Component\",sort=['exact-specification','approx-shape-specification','range-selection','flexible-matching',\n",
    "                            'filter-selection','group-comparison',\n",
    "                            'concept-query', 'result-querying','recommendation','control']),\n",
    "    color = \"subject\"\n",
    ")"
   ]
  },
  {
   "cell_type": "code",
   "execution_count": 91,
   "metadata": {},
   "outputs": [],
   "source": [
    "df_process = df_component\n",
    "df_process[\"Process\"] = df_component[\"Component\"].replace(component_to_process)"
   ]
  },
  {
   "cell_type": "code",
   "execution_count": 92,
   "metadata": {},
   "outputs": [],
   "source": [
    "df_frequency_by_subject_feature = df.groupby([\"subject\",\"Process\"]).count()[\"t\"].reset_index().rename(columns={\"t\":\"Usage Frequency\"})"
   ]
  },
  {
   "cell_type": "code",
   "execution_count": 93,
   "metadata": {},
   "outputs": [],
   "source": [
    "df_frequency_by_subject_feature = df_frequency_by_subject_feature[df_frequency_by_subject_feature[\"Process\"]!=\"others\"]"
   ]
  },
  {
   "cell_type": "code",
   "execution_count": 94,
   "metadata": {},
   "outputs": [
    {
     "data": {
      "application/vnd.vegalite.v2+json": {
       "$schema": "https://vega.github.io/schema/vega-lite/v2.6.0.json",
       "config": {
        "view": {
         "height": 300,
         "width": 400
        }
       },
       "data": {
        "name": "data-88e550af0ff10015e54bd1603e57dc1b"
       },
       "datasets": {
        "data-88e550af0ff10015e54bd1603e57dc1b": [
         {
          "Process": "bottom-up-querying",
          "Usage Frequency": 12,
          "subject": "astro"
         },
         {
          "Process": "recommendation",
          "Usage Frequency": 4,
          "subject": "astro"
         },
         {
          "Process": "search-with-context",
          "Usage Frequency": 24,
          "subject": "astro"
         },
         {
          "Process": "top-down-querying",
          "Usage Frequency": 14,
          "subject": "astro"
         },
         {
          "Process": "bottom-up-querying",
          "Usage Frequency": 8,
          "subject": "genetics"
         },
         {
          "Process": "recommendation",
          "Usage Frequency": 18,
          "subject": "genetics"
         },
         {
          "Process": "search-with-context",
          "Usage Frequency": 7,
          "subject": "genetics"
         },
         {
          "Process": "top-down-querying",
          "Usage Frequency": 10,
          "subject": "genetics"
         },
         {
          "Process": "bottom-up-querying",
          "Usage Frequency": 5,
          "subject": "material science"
         },
         {
          "Process": "recommendation",
          "Usage Frequency": 2,
          "subject": "material science"
         },
         {
          "Process": "search-with-context",
          "Usage Frequency": 17,
          "subject": "material science"
         },
         {
          "Process": "top-down-querying",
          "Usage Frequency": 12,
          "subject": "material science"
         }
        ]
       },
       "encoding": {
        "color": {
         "field": "subject",
         "type": "nominal"
        },
        "x": {
         "field": "Usage Frequency",
         "type": "quantitative"
        },
        "y": {
         "field": "Process",
         "sort": [
          "top-down-querying",
          "search-with-context",
          "bottom-up-querying",
          "recommendation"
         ],
         "type": "nominal"
        }
       },
       "mark": "bar"
      },
      "image/png": "[encoded data removed]",
      "text/plain": [
       "<VegaLite 2 object>\n",
       "\n",
       "If you see this message, it means the renderer has not been properly enabled\n",
       "for the frontend that you are using. For more information, see\n",
       "https://altair-viz.github.io/user_guide/troubleshooting.html\n"
      ]
     },
     "execution_count": 94,
     "metadata": {},
     "output_type": "execute_result"
    }
   ],
   "source": [
    "alt.Chart(df_frequency_by_subject_feature).mark_bar().encode(\n",
    "    alt.X(\"Usage Frequency\"),\n",
    "    alt.Y(\"Process\",sort=[td,sc,bu,rec]),\n",
    "    alt.Color(\"subject\")\n",
    ")"
   ]
  },
  {
   "cell_type": "markdown",
   "metadata": {},
   "source": [
    "Most of the contribution of top-down querying is coming from changing metric, brush x-range, ignore-xrange, not just the sketching portion. "
   ]
  },
  {
   "cell_type": "code",
   "execution_count": 39,
   "metadata": {},
   "outputs": [
    {
     "data": {
      "text/html": [
       "<div>\n",
       "<style scoped>\n",
       "    .dataframe tbody tr th:only-of-type {\n",
       "        vertical-align: middle;\n",
       "    }\n",
       "\n",
       "    .dataframe tbody tr th {\n",
       "        vertical-align: top;\n",
       "    }\n",
       "\n",
       "    .dataframe thead th {\n",
       "        text-align: right;\n",
       "    }\n",
       "</style>\n",
       "<table border=\"1\" class=\"dataframe\">\n",
       "  <thead>\n",
       "    <tr style=\"text-align: right;\">\n",
       "      <th></th>\n",
       "      <th>0</th>\n",
       "      <th>1</th>\n",
       "      <th>2</th>\n",
       "      <th>3</th>\n",
       "      <th>4</th>\n",
       "      <th>5</th>\n",
       "      <th>6</th>\n",
       "    </tr>\n",
       "  </thead>\n",
       "  <tbody>\n",
       "    <tr>\n",
       "      <th>Feature</th>\n",
       "      <td>brush-xrange</td>\n",
       "      <td>change-metric</td>\n",
       "      <td>ignore-xrange</td>\n",
       "      <td>input-equation</td>\n",
       "      <td>sketch-to-modify</td>\n",
       "      <td>sketch-to-query</td>\n",
       "      <td>smoothing</td>\n",
       "    </tr>\n",
       "    <tr>\n",
       "      <th>Usage Frequency</th>\n",
       "      <td>6</td>\n",
       "      <td>5</td>\n",
       "      <td>6</td>\n",
       "      <td>1</td>\n",
       "      <td>5</td>\n",
       "      <td>9</td>\n",
       "      <td>4</td>\n",
       "    </tr>\n",
       "  </tbody>\n",
       "</table>\n",
       "</div>"
      ],
      "text/plain": [
       "                            0              1              2               3  \\\n",
       "Feature          brush-xrange  change-metric  ignore-xrange  input-equation   \n",
       "Usage Frequency             6              5              6               1   \n",
       "\n",
       "                                4                5          6  \n",
       "Feature          sketch-to-modify  sketch-to-query  smoothing  \n",
       "Usage Frequency                 5                9          4  "
      ]
     },
     "execution_count": 39,
     "metadata": {},
     "output_type": "execute_result"
    }
   ],
   "source": [
    "df_process[df_process[\"Process\"]==\"top-down-querying\"].groupby(\"Feature\").count().rename(columns={\"t\":\"Usage Frequency\"}).reset_index()[[\"Feature\",\"Usage Frequency\"]].transpose()"
   ]
  },
  {
   "cell_type": "markdown",
   "metadata": {},
   "source": [
    "### Top k feature for each subject "
   ]
  },
  {
   "cell_type": "code",
   "execution_count": 40,
   "metadata": {},
   "outputs": [],
   "source": [
    "df_frequency_by_subject_feature = df.groupby([\"subject\",\"Feature\"]).count()[\"t\"].reset_index().rename(columns={\"t\":\"Usage Frequency\"})"
   ]
  },
  {
   "cell_type": "code",
   "execution_count": 41,
   "metadata": {},
   "outputs": [
    {
     "data": {
      "text/html": [
       "<div>\n",
       "<style scoped>\n",
       "    .dataframe tbody tr th:only-of-type {\n",
       "        vertical-align: middle;\n",
       "    }\n",
       "\n",
       "    .dataframe tbody tr th {\n",
       "        vertical-align: top;\n",
       "    }\n",
       "\n",
       "    .dataframe thead th {\n",
       "        text-align: right;\n",
       "    }\n",
       "</style>\n",
       "<table border=\"1\" class=\"dataframe\">\n",
       "  <thead>\n",
       "    <tr style=\"text-align: right;\">\n",
       "      <th></th>\n",
       "      <th>subject</th>\n",
       "      <th>Feature</th>\n",
       "      <th>Usage Frequency</th>\n",
       "    </tr>\n",
       "  </thead>\n",
       "  <tbody>\n",
       "    <tr>\n",
       "      <th>7</th>\n",
       "      <td>astro</td>\n",
       "      <td>filter</td>\n",
       "      <td>19</td>\n",
       "    </tr>\n",
       "    <tr>\n",
       "      <th>4</th>\n",
       "      <td>astro</td>\n",
       "      <td>drag-and-drop</td>\n",
       "      <td>10</td>\n",
       "    </tr>\n",
       "    <tr>\n",
       "      <th>6</th>\n",
       "      <td>astro</td>\n",
       "      <td>export</td>\n",
       "      <td>6</td>\n",
       "    </tr>\n",
       "    <tr>\n",
       "      <th>5</th>\n",
       "      <td>astro</td>\n",
       "      <td>dynamic-class</td>\n",
       "      <td>5</td>\n",
       "    </tr>\n",
       "    <tr>\n",
       "      <th>11</th>\n",
       "      <td>astro</td>\n",
       "      <td>representative-outlier</td>\n",
       "      <td>4</td>\n",
       "    </tr>\n",
       "  </tbody>\n",
       "</table>\n",
       "</div>"
      ],
      "text/plain": [
       "   subject                 Feature  Usage Frequency\n",
       "7    astro                  filter               19\n",
       "4    astro           drag-and-drop               10\n",
       "6    astro                  export                6\n",
       "5    astro           dynamic-class                5\n",
       "11   astro  representative-outlier                4"
      ]
     },
     "execution_count": 41,
     "metadata": {},
     "output_type": "execute_result"
    }
   ],
   "source": [
    "df_frequency_by_subject_feature[df_frequency_by_subject_feature[\"subject\"]==\"astro\"].nlargest(5,\"Usage Frequency\")"
   ]
  },
  {
   "cell_type": "code",
   "execution_count": 42,
   "metadata": {},
   "outputs": [
    {
     "data": {
      "text/html": [
       "<div>\n",
       "<style scoped>\n",
       "    .dataframe tbody tr th:only-of-type {\n",
       "        vertical-align: middle;\n",
       "    }\n",
       "\n",
       "    .dataframe tbody tr th {\n",
       "        vertical-align: top;\n",
       "    }\n",
       "\n",
       "    .dataframe thead th {\n",
       "        text-align: right;\n",
       "    }\n",
       "</style>\n",
       "<table border=\"1\" class=\"dataframe\">\n",
       "  <thead>\n",
       "    <tr style=\"text-align: right;\">\n",
       "      <th></th>\n",
       "      <th>subject</th>\n",
       "      <th>Feature</th>\n",
       "      <th>Usage Frequency</th>\n",
       "    </tr>\n",
       "  </thead>\n",
       "  <tbody>\n",
       "    <tr>\n",
       "      <th>34</th>\n",
       "      <td>material science</td>\n",
       "      <td>dynamic-class</td>\n",
       "      <td>12</td>\n",
       "    </tr>\n",
       "    <tr>\n",
       "      <th>31</th>\n",
       "      <td>material science</td>\n",
       "      <td>change-axis</td>\n",
       "      <td>8</td>\n",
       "    </tr>\n",
       "    <tr>\n",
       "      <th>33</th>\n",
       "      <td>material science</td>\n",
       "      <td>drag-and-drop</td>\n",
       "      <td>5</td>\n",
       "    </tr>\n",
       "    <tr>\n",
       "      <th>36</th>\n",
       "      <td>material science</td>\n",
       "      <td>filter</td>\n",
       "      <td>5</td>\n",
       "    </tr>\n",
       "    <tr>\n",
       "      <th>41</th>\n",
       "      <td>material science</td>\n",
       "      <td>sketch-to-query</td>\n",
       "      <td>5</td>\n",
       "    </tr>\n",
       "  </tbody>\n",
       "</table>\n",
       "</div>"
      ],
      "text/plain": [
       "             subject          Feature  Usage Frequency\n",
       "34  material science    dynamic-class               12\n",
       "31  material science      change-axis                8\n",
       "33  material science    drag-and-drop                5\n",
       "36  material science           filter                5\n",
       "41  material science  sketch-to-query                5"
      ]
     },
     "execution_count": 42,
     "metadata": {},
     "output_type": "execute_result"
    }
   ],
   "source": [
    "df_frequency_by_subject_feature[df_frequency_by_subject_feature[\"subject\"]==\"material science\"].nlargest(5,\"Usage Frequency\")"
   ]
  },
  {
   "cell_type": "code",
   "execution_count": 43,
   "metadata": {},
   "outputs": [
    {
     "data": {
      "text/html": [
       "<div>\n",
       "<style scoped>\n",
       "    .dataframe tbody tr th:only-of-type {\n",
       "        vertical-align: middle;\n",
       "    }\n",
       "\n",
       "    .dataframe tbody tr th {\n",
       "        vertical-align: top;\n",
       "    }\n",
       "\n",
       "    .dataframe thead th {\n",
       "        text-align: right;\n",
       "    }\n",
       "</style>\n",
       "<table border=\"1\" class=\"dataframe\">\n",
       "  <thead>\n",
       "    <tr style=\"text-align: right;\">\n",
       "      <th></th>\n",
       "      <th>subject</th>\n",
       "      <th>Feature</th>\n",
       "      <th>Usage Frequency</th>\n",
       "    </tr>\n",
       "  </thead>\n",
       "  <tbody>\n",
       "    <tr>\n",
       "      <th>25</th>\n",
       "      <td>genetics</td>\n",
       "      <td>representative-outlier</td>\n",
       "      <td>11</td>\n",
       "    </tr>\n",
       "    <tr>\n",
       "      <th>18</th>\n",
       "      <td>genetics</td>\n",
       "      <td>control-kmeans-clustersize</td>\n",
       "      <td>7</td>\n",
       "    </tr>\n",
       "    <tr>\n",
       "      <th>19</th>\n",
       "      <td>genetics</td>\n",
       "      <td>drag-and-drop</td>\n",
       "      <td>7</td>\n",
       "    </tr>\n",
       "    <tr>\n",
       "      <th>21</th>\n",
       "      <td>genetics</td>\n",
       "      <td>filter</td>\n",
       "      <td>7</td>\n",
       "    </tr>\n",
       "    <tr>\n",
       "      <th>20</th>\n",
       "      <td>genetics</td>\n",
       "      <td>export</td>\n",
       "      <td>4</td>\n",
       "    </tr>\n",
       "  </tbody>\n",
       "</table>\n",
       "</div>"
      ],
      "text/plain": [
       "     subject                     Feature  Usage Frequency\n",
       "25  genetics      representative-outlier               11\n",
       "18  genetics  control-kmeans-clustersize                7\n",
       "19  genetics               drag-and-drop                7\n",
       "21  genetics                      filter                7\n",
       "20  genetics                      export                4"
      ]
     },
     "execution_count": 43,
     "metadata": {},
     "output_type": "execute_result"
    }
   ],
   "source": [
    "df_frequency_by_subject_feature[df_frequency_by_subject_feature[\"subject\"]==\"genetics\"].nlargest(5,\"Usage Frequency\")"
   ]
  },
  {
   "cell_type": "markdown",
   "metadata": {},
   "source": [
    "### Feature usage scaled by individual subject area "
   ]
  },
  {
   "cell_type": "code",
   "execution_count": 44,
   "metadata": {},
   "outputs": [],
   "source": [
    "astro_sum = df_frequency_by_subject_feature[df_frequency_by_subject_feature[\"subject\"]==\"astro\"][\"Usage Frequency\"].sum()\n",
    "genetics_sum = df_frequency_by_subject_feature[df_frequency_by_subject_feature[\"subject\"]==\"genetics\"][\"Usage Frequency\"].sum()\n",
    "matsci_sum = df_frequency_by_subject_feature[df_frequency_by_subject_feature[\"subject\"]==\"material science\"][\"Usage Frequency\"].sum()"
   ]
  },
  {
   "cell_type": "code",
   "execution_count": 45,
   "metadata": {},
   "outputs": [],
   "source": [
    "df_frequency_by_subject_feature.loc[df_frequency_by_subject_feature[\"subject\"]==\"astro\",\"Normalized Frequency\"] = df_frequency_by_subject_feature[df_frequency_by_subject_feature[\"subject\"]==\"astro\"][\"Usage Frequency\"]/astro_sum*100\n",
    "df_frequency_by_subject_feature.loc[df_frequency_by_subject_feature[\"subject\"]==\"genetics\",\"Normalized Frequency\"] = df_frequency_by_subject_feature[df_frequency_by_subject_feature[\"subject\"]==\"genetics\"][\"Usage Frequency\"]/genetics_sum*100\n",
    "df_frequency_by_subject_feature.loc[df_frequency_by_subject_feature[\"subject\"]==\"material science\",\"Normalized Frequency\"] = df_frequency_by_subject_feature[df_frequency_by_subject_feature[\"subject\"]==\"material science\"][\"Usage Frequency\"]/matsci_sum*100"
   ]
  },
  {
   "cell_type": "code",
   "execution_count": 46,
   "metadata": {},
   "outputs": [],
   "source": [
    "fdf = df_frequency_by_subject_feature[[\"subject\",\"Feature\",\"Normalized Frequency\"]]\n",
    "fdf = fdf[fdf[\"Normalized Frequency\"]>=5]"
   ]
  },
  {
   "cell_type": "code",
   "execution_count": 47,
   "metadata": {},
   "outputs": [],
   "source": [
    "fdf[\"Normalized Frequency\"] = fdf[\"Normalized Frequency\"].map(\"{:.2f}\".format)"
   ]
  },
  {
   "cell_type": "code",
   "execution_count": 48,
   "metadata": {},
   "outputs": [
    {
     "data": {
      "text/html": [
       "<div>\n",
       "<style scoped>\n",
       "    .dataframe tbody tr th:only-of-type {\n",
       "        vertical-align: middle;\n",
       "    }\n",
       "\n",
       "    .dataframe tbody tr th {\n",
       "        vertical-align: top;\n",
       "    }\n",
       "\n",
       "    .dataframe thead th {\n",
       "        text-align: right;\n",
       "    }\n",
       "</style>\n",
       "<table border=\"1\" class=\"dataframe\">\n",
       "  <thead>\n",
       "    <tr style=\"text-align: right;\">\n",
       "      <th></th>\n",
       "      <th>subject</th>\n",
       "      <th>Feature</th>\n",
       "      <th>Normalized Frequency</th>\n",
       "    </tr>\n",
       "  </thead>\n",
       "  <tbody>\n",
       "    <tr>\n",
       "      <th>4</th>\n",
       "      <td>astro</td>\n",
       "      <td>drag-and-drop</td>\n",
       "      <td>14.93</td>\n",
       "    </tr>\n",
       "    <tr>\n",
       "      <th>5</th>\n",
       "      <td>astro</td>\n",
       "      <td>dynamic-class</td>\n",
       "      <td>7.46</td>\n",
       "    </tr>\n",
       "    <tr>\n",
       "      <th>6</th>\n",
       "      <td>astro</td>\n",
       "      <td>export</td>\n",
       "      <td>8.96</td>\n",
       "    </tr>\n",
       "    <tr>\n",
       "      <th>7</th>\n",
       "      <td>astro</td>\n",
       "      <td>filter</td>\n",
       "      <td>28.36</td>\n",
       "    </tr>\n",
       "    <tr>\n",
       "      <th>11</th>\n",
       "      <td>astro</td>\n",
       "      <td>representative-outlier</td>\n",
       "      <td>5.97</td>\n",
       "    </tr>\n",
       "    <tr>\n",
       "      <th>18</th>\n",
       "      <td>genetics</td>\n",
       "      <td>control-kmeans-clustersize</td>\n",
       "      <td>13.46</td>\n",
       "    </tr>\n",
       "    <tr>\n",
       "      <th>19</th>\n",
       "      <td>genetics</td>\n",
       "      <td>drag-and-drop</td>\n",
       "      <td>13.46</td>\n",
       "    </tr>\n",
       "    <tr>\n",
       "      <th>20</th>\n",
       "      <td>genetics</td>\n",
       "      <td>export</td>\n",
       "      <td>7.69</td>\n",
       "    </tr>\n",
       "    <tr>\n",
       "      <th>21</th>\n",
       "      <td>genetics</td>\n",
       "      <td>filter</td>\n",
       "      <td>13.46</td>\n",
       "    </tr>\n",
       "    <tr>\n",
       "      <th>25</th>\n",
       "      <td>genetics</td>\n",
       "      <td>representative-outlier</td>\n",
       "      <td>21.15</td>\n",
       "    </tr>\n",
       "    <tr>\n",
       "      <th>28</th>\n",
       "      <td>genetics</td>\n",
       "      <td>smoothing</td>\n",
       "      <td>5.77</td>\n",
       "    </tr>\n",
       "    <tr>\n",
       "      <th>31</th>\n",
       "      <td>material science</td>\n",
       "      <td>change-axis</td>\n",
       "      <td>16.67</td>\n",
       "    </tr>\n",
       "    <tr>\n",
       "      <th>33</th>\n",
       "      <td>material science</td>\n",
       "      <td>drag-and-drop</td>\n",
       "      <td>10.42</td>\n",
       "    </tr>\n",
       "    <tr>\n",
       "      <th>34</th>\n",
       "      <td>material science</td>\n",
       "      <td>dynamic-class</td>\n",
       "      <td>25.00</td>\n",
       "    </tr>\n",
       "    <tr>\n",
       "      <th>36</th>\n",
       "      <td>material science</td>\n",
       "      <td>filter</td>\n",
       "      <td>10.42</td>\n",
       "    </tr>\n",
       "    <tr>\n",
       "      <th>39</th>\n",
       "      <td>material science</td>\n",
       "      <td>show-scatter</td>\n",
       "      <td>6.25</td>\n",
       "    </tr>\n",
       "    <tr>\n",
       "      <th>40</th>\n",
       "      <td>material science</td>\n",
       "      <td>sketch-to-modify</td>\n",
       "      <td>8.33</td>\n",
       "    </tr>\n",
       "    <tr>\n",
       "      <th>41</th>\n",
       "      <td>material science</td>\n",
       "      <td>sketch-to-query</td>\n",
       "      <td>10.42</td>\n",
       "    </tr>\n",
       "  </tbody>\n",
       "</table>\n",
       "</div>"
      ],
      "text/plain": [
       "             subject                     Feature Normalized Frequency\n",
       "4              astro               drag-and-drop                14.93\n",
       "5              astro               dynamic-class                 7.46\n",
       "6              astro                      export                 8.96\n",
       "7              astro                      filter                28.36\n",
       "11             astro      representative-outlier                 5.97\n",
       "18          genetics  control-kmeans-clustersize                13.46\n",
       "19          genetics               drag-and-drop                13.46\n",
       "20          genetics                      export                 7.69\n",
       "21          genetics                      filter                13.46\n",
       "25          genetics      representative-outlier                21.15\n",
       "28          genetics                   smoothing                 5.77\n",
       "31  material science                 change-axis                16.67\n",
       "33  material science               drag-and-drop                10.42\n",
       "34  material science               dynamic-class                25.00\n",
       "36  material science                      filter                10.42\n",
       "39  material science                show-scatter                 6.25\n",
       "40  material science            sketch-to-modify                 8.33\n",
       "41  material science             sketch-to-query                10.42"
      ]
     },
     "execution_count": 48,
     "metadata": {},
     "output_type": "execute_result"
    }
   ],
   "source": [
    "fdf"
   ]
  },
  {
   "cell_type": "code",
   "execution_count": 49,
   "metadata": {},
   "outputs": [
    {
     "data": {
      "application/vnd.vegalite.v2+json": {
       "$schema": "https://vega.github.io/schema/vega-lite/v2.6.0.json",
       "config": {
        "view": {
         "height": 300,
         "width": 400
        }
       },
       "data": {
        "name": "data-04f608698d88031bb95d4f92a6d6dd16"
       },
       "datasets": {
        "data-04f608698d88031bb95d4f92a6d6dd16": [
         {
          "Feature": "brush-xrange",
          "Normalized Frequency": 4.477611940298507,
          "Usage Frequency": 3,
          "subject": "astro"
         },
         {
          "Feature": "change-axis",
          "Normalized Frequency": 4.477611940298507,
          "Usage Frequency": 3,
          "subject": "astro"
         },
         {
          "Feature": "change-metric",
          "Normalized Frequency": 4.477611940298507,
          "Usage Frequency": 3,
          "subject": "astro"
         },
         {
          "Feature": "change-number-of-results",
          "Normalized Frequency": 4.477611940298507,
          "Usage Frequency": 3,
          "subject": "astro"
         },
         {
          "Feature": "drag-and-drop",
          "Normalized Frequency": 14.925373134328357,
          "Usage Frequency": 10,
          "subject": "astro"
         },
         {
          "Feature": "dynamic-class",
          "Normalized Frequency": 7.462686567164178,
          "Usage Frequency": 5,
          "subject": "astro"
         },
         {
          "Feature": "export",
          "Normalized Frequency": 8.955223880597014,
          "Usage Frequency": 6,
          "subject": "astro"
         },
         {
          "Feature": "filter",
          "Normalized Frequency": 28.35820895522388,
          "Usage Frequency": 19,
          "subject": "astro"
         },
         {
          "Feature": "ignore-xrange",
          "Normalized Frequency": 4.477611940298507,
          "Usage Frequency": 3,
          "subject": "astro"
         },
         {
          "Feature": "input-equation",
          "Normalized Frequency": 1.4925373134328357,
          "Usage Frequency": 1,
          "subject": "astro"
         },
         {
          "Feature": "pattern-upload",
          "Normalized Frequency": 2.9850746268656714,
          "Usage Frequency": 2,
          "subject": "astro"
         },
         {
          "Feature": "representative-outlier",
          "Normalized Frequency": 5.970149253731343,
          "Usage Frequency": 4,
          "subject": "astro"
         },
         {
          "Feature": "reverse-y",
          "Normalized Frequency": 1.4925373134328357,
          "Usage Frequency": 1,
          "subject": "astro"
         },
         {
          "Feature": "sketch-to-modify",
          "Normalized Frequency": 1.4925373134328357,
          "Usage Frequency": 1,
          "subject": "astro"
         },
         {
          "Feature": "sketch-to-query",
          "Normalized Frequency": 2.9850746268656714,
          "Usage Frequency": 2,
          "subject": "astro"
         },
         {
          "Feature": "smoothing",
          "Normalized Frequency": 1.4925373134328357,
          "Usage Frequency": 1,
          "subject": "astro"
         },
         {
          "Feature": "brush-xrange",
          "Normalized Frequency": 3.8461538461538463,
          "Usage Frequency": 2,
          "subject": "genetics"
         },
         {
          "Feature": "change-metric",
          "Normalized Frequency": 1.9230769230769231,
          "Usage Frequency": 1,
          "subject": "genetics"
         },
         {
          "Feature": "control-kmeans-clustersize",
          "Normalized Frequency": 13.461538461538462,
          "Usage Frequency": 7,
          "subject": "genetics"
         },
         {
          "Feature": "drag-and-drop",
          "Normalized Frequency": 13.461538461538462,
          "Usage Frequency": 7,
          "subject": "genetics"
         },
         {
          "Feature": "export",
          "Normalized Frequency": 7.6923076923076925,
          "Usage Frequency": 4,
          "subject": "genetics"
         },
         {
          "Feature": "filter",
          "Normalized Frequency": 13.461538461538462,
          "Usage Frequency": 7,
          "subject": "genetics"
         },
         {
          "Feature": "ignore-xrange",
          "Normalized Frequency": 3.8461538461538463,
          "Usage Frequency": 2,
          "subject": "genetics"
         },
         {
          "Feature": "min-similarity-cutoff",
          "Normalized Frequency": 1.9230769230769231,
          "Usage Frequency": 1,
          "subject": "genetics"
         },
         {
          "Feature": "pattern-upload",
          "Normalized Frequency": 1.9230769230769231,
          "Usage Frequency": 1,
          "subject": "genetics"
         },
         {
          "Feature": "representative-outlier",
          "Normalized Frequency": 21.153846153846153,
          "Usage Frequency": 11,
          "subject": "genetics"
         },
         {
          "Feature": "show-scatter",
          "Normalized Frequency": 3.8461538461538463,
          "Usage Frequency": 2,
          "subject": "genetics"
         },
         {
          "Feature": "sketch-to-query",
          "Normalized Frequency": 3.8461538461538463,
          "Usage Frequency": 2,
          "subject": "genetics"
         },
         {
          "Feature": "smoothing",
          "Normalized Frequency": 5.769230769230769,
          "Usage Frequency": 3,
          "subject": "genetics"
         },
         {
          "Feature": "upload-dataset",
          "Normalized Frequency": 3.8461538461538463,
          "Usage Frequency": 2,
          "subject": "genetics"
         },
         {
          "Feature": "brush-xrange",
          "Normalized Frequency": 2.083333333333333,
          "Usage Frequency": 1,
          "subject": "material science"
         },
         {
          "Feature": "change-axis",
          "Normalized Frequency": 16.666666666666664,
          "Usage Frequency": 8,
          "subject": "material science"
         },
         {
          "Feature": "change-metric",
          "Normalized Frequency": 2.083333333333333,
          "Usage Frequency": 1,
          "subject": "material science"
         },
         {
          "Feature": "drag-and-drop",
          "Normalized Frequency": 10.416666666666668,
          "Usage Frequency": 5,
          "subject": "material science"
         },
         {
          "Feature": "dynamic-class",
          "Normalized Frequency": 25,
          "Usage Frequency": 12,
          "subject": "material science"
         },
         {
          "Feature": "export",
          "Normalized Frequency": 2.083333333333333,
          "Usage Frequency": 1,
          "subject": "material science"
         },
         {
          "Feature": "filter",
          "Normalized Frequency": 10.416666666666668,
          "Usage Frequency": 5,
          "subject": "material science"
         },
         {
          "Feature": "ignore-xrange",
          "Normalized Frequency": 2.083333333333333,
          "Usage Frequency": 1,
          "subject": "material science"
         },
         {
          "Feature": "representative-outlier",
          "Normalized Frequency": 4.166666666666666,
          "Usage Frequency": 2,
          "subject": "material science"
         },
         {
          "Feature": "show-scatter",
          "Normalized Frequency": 6.25,
          "Usage Frequency": 3,
          "subject": "material science"
         },
         {
          "Feature": "sketch-to-modify",
          "Normalized Frequency": 8.333333333333332,
          "Usage Frequency": 4,
          "subject": "material science"
         },
         {
          "Feature": "sketch-to-query",
          "Normalized Frequency": 10.416666666666668,
          "Usage Frequency": 5,
          "subject": "material science"
         }
        ]
       },
       "encoding": {
        "color": {
         "field": "subject",
         "type": "nominal"
        },
        "x": {
         "field": "Normalized Frequency",
         "type": "quantitative"
        },
        "y": {
         "field": "Feature",
         "type": "nominal"
        }
       },
       "mark": "bar"
      },
      "image/png": "[encoded data removed]",
      "text/plain": [
       "<VegaLite 2 object>\n",
       "\n",
       "If you see this message, it means the renderer has not been properly enabled\n",
       "for the frontend that you are using. For more information, see\n",
       "https://altair-viz.github.io/user_guide/troubleshooting.html\n"
      ]
     },
     "execution_count": 49,
     "metadata": {},
     "output_type": "execute_result"
    }
   ],
   "source": [
    "alt.Chart(df_frequency_by_subject_feature).mark_bar().encode(\n",
    "    x= \"Normalized Frequency\",\n",
    "    y= \"Feature\",\n",
    "    color=\"subject\"\n",
    ")"
   ]
  },
  {
   "cell_type": "code",
   "execution_count": 50,
   "metadata": {},
   "outputs": [],
   "source": [
    "#df_frequency_by_subject_feature[\"Component\"] = df_feature[\"Feature\"].replace(component_dict)"
   ]
  },
  {
   "cell_type": "code",
   "execution_count": 51,
   "metadata": {},
   "outputs": [],
   "source": [
    "df_frequency_by_subject_feature = df.groupby([\"subject\",\"Component\"]).sum().reset_index().rename(columns={\"t\":\"Usage Frequency\"})\n",
    "astro_sum = df_frequency_by_subject_feature[df_frequency_by_subject_feature[\"subject\"]==\"astro\"][\"Usage Frequency\"].sum()\n",
    "genetics_sum = df_frequency_by_subject_feature[df_frequency_by_subject_feature[\"subject\"]==\"genetics\"][\"Usage Frequency\"].sum()\n",
    "matsci_sum = df_frequency_by_subject_feature[df_frequency_by_subject_feature[\"subject\"]==\"material science\"][\"Usage Frequency\"].sum()\n",
    "df_frequency_by_subject_feature.loc[df_frequency_by_subject_feature[\"subject\"]==\"astro\",\"Normalized Frequency\"] = df_frequency_by_subject_feature[df_frequency_by_subject_feature[\"subject\"]==\"astro\"][\"Usage Frequency\"]/astro_sum*100\n",
    "df_frequency_by_subject_feature.loc[df_frequency_by_subject_feature[\"subject\"]==\"genetics\",\"Normalized Frequency\"] = df_frequency_by_subject_feature[df_frequency_by_subject_feature[\"subject\"]==\"genetics\"][\"Usage Frequency\"]/genetics_sum*100\n",
    "df_frequency_by_subject_feature.loc[df_frequency_by_subject_feature[\"subject\"]==\"material science\",\"Normalized Frequency\"] = df_frequency_by_subject_feature[df_frequency_by_subject_feature[\"subject\"]==\"material science\"][\"Usage Frequency\"]/matsci_sum*100"
   ]
  },
  {
   "cell_type": "code",
   "execution_count": 52,
   "metadata": {},
   "outputs": [
    {
     "data": {
      "application/vnd.vegalite.v2+json": {
       "$schema": "https://vega.github.io/schema/vega-lite/v2.6.0.json",
       "config": {
        "view": {
         "height": 300,
         "width": 400
        }
       },
       "data": {
        "name": "data-71d7bbd9334dcf26871794294f070e93"
       },
       "datasets": {
        "data-71d7bbd9334dcf26871794294f070e93": [
         {
          "Component": "approx-shape-specification",
          "Normalized Frequency": 5.190102595051298,
          "Usage Frequency": 86,
          "subject": "astro"
         },
         {
          "Component": "concept-query",
          "Normalized Frequency": 7.483403741701871,
          "Usage Frequency": 124,
          "subject": "astro"
         },
         {
          "Component": "control",
          "Normalized Frequency": 22.933011466505736,
          "Usage Frequency": 380,
          "subject": "astro"
         },
         {
          "Component": "exact-specification",
          "Normalized Frequency": 6.75920337960169,
          "Usage Frequency": 112,
          "subject": "astro"
         },
         {
          "Component": "filter-selection",
          "Normalized Frequency": 24.019312009656005,
          "Usage Frequency": 398,
          "subject": "astro"
         },
         {
          "Component": "flexible-matching",
          "Normalized Frequency": 1.7501508750754375,
          "Usage Frequency": 29,
          "subject": "astro"
         },
         {
          "Component": "group-comparison",
          "Normalized Frequency": 15.027157513578757,
          "Usage Frequency": 249,
          "subject": "astro"
         },
         {
          "Component": "range-selection",
          "Normalized Frequency": 5.0694025347012674,
          "Usage Frequency": 84,
          "subject": "astro"
         },
         {
          "Component": "recommendation",
          "Normalized Frequency": 3.4399517199758605,
          "Usage Frequency": 57,
          "subject": "astro"
         },
         {
          "Component": "result-querying",
          "Normalized Frequency": 8.328304164152083,
          "Usage Frequency": 138,
          "subject": "astro"
         },
         {
          "Component": "approx-shape-specification",
          "Normalized Frequency": 14.863593603010347,
          "Usage Frequency": 158,
          "subject": "genetics"
         },
         {
          "Component": "concept-query",
          "Normalized Frequency": 3.3866415804327374,
          "Usage Frequency": 36,
          "subject": "genetics"
         },
         {
          "Component": "control",
          "Normalized Frequency": 19.002822201317027,
          "Usage Frequency": 202,
          "subject": "genetics"
         },
         {
          "Component": "exact-specification",
          "Normalized Frequency": 3.762935089369708,
          "Usage Frequency": 40,
          "subject": "genetics"
         },
         {
          "Component": "filter-selection",
          "Normalized Frequency": 15.145813734713077,
          "Usage Frequency": 161,
          "subject": "genetics"
         },
         {
          "Component": "flexible-matching",
          "Normalized Frequency": 0.7525870178739417,
          "Usage Frequency": 8,
          "subject": "genetics"
         },
         {
          "Component": "range-selection",
          "Normalized Frequency": 5.738476011288805,
          "Usage Frequency": 61,
          "subject": "genetics"
         },
         {
          "Component": "recommendation",
          "Normalized Frequency": 26.152398871119477,
          "Usage Frequency": 278,
          "subject": "genetics"
         },
         {
          "Component": "result-querying",
          "Normalized Frequency": 11.194731890874882,
          "Usage Frequency": 119,
          "subject": "genetics"
         },
         {
          "Component": "approx-shape-specification",
          "Normalized Frequency": 0.26246719160104987,
          "Usage Frequency": 2,
          "subject": "material science"
         },
         {
          "Component": "control",
          "Normalized Frequency": 23.88451443569554,
          "Usage Frequency": 182,
          "subject": "material science"
         },
         {
          "Component": "exact-specification",
          "Normalized Frequency": 22.30971128608924,
          "Usage Frequency": 170,
          "subject": "material science"
         },
         {
          "Component": "filter-selection",
          "Normalized Frequency": 17.191601049868765,
          "Usage Frequency": 131,
          "subject": "material science"
         },
         {
          "Component": "flexible-matching",
          "Normalized Frequency": 1.7060367454068242,
          "Usage Frequency": 13,
          "subject": "material science"
         },
         {
          "Component": "group-comparison",
          "Normalized Frequency": 14.304461942257218,
          "Usage Frequency": 109,
          "subject": "material science"
         },
         {
          "Component": "range-selection",
          "Normalized Frequency": 1.1811023622047243,
          "Usage Frequency": 9,
          "subject": "material science"
         },
         {
          "Component": "recommendation",
          "Normalized Frequency": 6.299212598425196,
          "Usage Frequency": 48,
          "subject": "material science"
         },
         {
          "Component": "result-querying",
          "Normalized Frequency": 12.860892388451445,
          "Usage Frequency": 98,
          "subject": "material science"
         }
        ]
       },
       "encoding": {
        "color": {
         "field": "subject",
         "type": "nominal"
        },
        "x": {
         "field": "Normalized Frequency",
         "type": "quantitative"
        },
        "y": {
         "field": "Component",
         "sort": [
          "exact-specification",
          "approx-shape-specification",
          "range-selection",
          "flexible-matching",
          "filter-selection",
          "group-comparison",
          "concept-query",
          "result-querying",
          "recommendation",
          "control"
         ],
         "type": "nominal"
        }
       },
       "mark": "bar"
      },
      "image/png": "[encoded data removed]",
      "text/plain": [
       "<VegaLite 2 object>\n",
       "\n",
       "If you see this message, it means the renderer has not been properly enabled\n",
       "for the frontend that you are using. For more information, see\n",
       "https://altair-viz.github.io/user_guide/troubleshooting.html\n"
      ]
     },
     "execution_count": 52,
     "metadata": {},
     "output_type": "execute_result"
    }
   ],
   "source": [
    "alt.Chart(df_frequency_by_subject_feature).mark_bar().encode(\n",
    "    x= alt.X(\"Normalized Frequency\"),\n",
    "    y= alt.Y(\"Component\",sort=['exact-specification','approx-shape-specification','range-selection','flexible-matching',\n",
    "                            'filter-selection','group-comparison',\n",
    "                            'concept-query', 'result-querying','recommendation','control']),\n",
    "    color=\"subject\"\n",
    ")"
   ]
  },
  {
   "cell_type": "code",
   "execution_count": null,
   "metadata": {},
   "outputs": [],
   "source": []
  },
  {
   "cell_type": "code",
   "execution_count": null,
   "metadata": {},
   "outputs": [],
   "source": []
  },
  {
   "cell_type": "code",
   "execution_count": null,
   "metadata": {},
   "outputs": [],
   "source": []
  },
  {
   "cell_type": "code",
   "execution_count": null,
   "metadata": {},
   "outputs": [],
   "source": []
  },
  {
   "cell_type": "code",
   "execution_count": null,
   "metadata": {},
   "outputs": [],
   "source": []
  },
  {
   "cell_type": "code",
   "execution_count": null,
   "metadata": {},
   "outputs": [],
   "source": []
  },
  {
   "cell_type": "code",
   "execution_count": null,
   "metadata": {},
   "outputs": [],
   "source": []
  }
 ],
 "metadata": {
  "kernelspec": {
   "display_name": "Python 3",
   "language": "python",
   "name": "python3"
  },
  "language_info": {
   "codemirror_mode": {
    "name": "ipython",
    "version": 3
   },
   "file_extension": ".py",
   "mimetype": "text/x-python",
   "name": "python",
   "nbconvert_exporter": "python",
   "pygments_lexer": "ipython3",
   "version": "3.7.0"
  }
 },
 "nbformat": 4,
 "nbformat_minor": 2
}
