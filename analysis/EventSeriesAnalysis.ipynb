{
 "cells": [
  {
   "cell_type": "code",
   "execution_count": 1,
   "metadata": {
    "collapsed": true
   },
   "outputs": [],
   "source": [
    "import pandas as pd\n",
    "import numpy as np\n",
    "df = pd.read_csv(\"StudyEventTimeSeries.csv\")"
   ]
  },
  {
   "cell_type": "code",
   "execution_count": 2,
   "metadata": {},
   "outputs": [
    {
     "name": "stderr",
     "output_type": "stream",
     "text": [
      "/Users/dorislee/.virtualenvs/py37env/lib/python3.7/site-packages/ipykernel_launcher.py:1: FutureWarning: Method .as_matrix will be removed in a future version. Use .values instead.\n",
      "  \"\"\"Entry point for launching an IPython kernel.\n"
     ]
    }
   ],
   "source": [
    "codelist = list(set(df.as_matrix().flatten()))\n",
    "codelist.remove(np.nan)"
   ]
  },
  {
   "cell_type": "code",
   "execution_count": 3,
   "metadata": {},
   "outputs": [],
   "source": [
    "actionOnly= list(filter(lambda x: x.isupper(),codelist))\n",
    "featureOnly= list(filter(lambda x: x.islower(),codelist))"
   ]
  },
  {
   "cell_type": "code",
   "execution_count": 4,
   "metadata": {
    "collapsed": false
   },
   "outputs": [],
   "source": [
    "# df[\"t\"]=df.index"
   ]
  },
  {
   "cell_type": "code",
   "execution_count": 5,
   "metadata": {},
   "outputs": [],
   "source": [
    "df = df.stack().reset_index()\n",
    "\n",
    "df = df.rename(columns={\n",
    "    \"level_0\":\"t\",\n",
    "    \"level_1\":\"user\",\n",
    "    0:\"action\"\n",
    "})"
   ]
  },
  {
   "cell_type": "code",
   "execution_count": 6,
   "metadata": {
    "collapsed": false
   },
   "outputs": [],
   "source": [
    "import altair as alt"
   ]
  },
  {
   "cell_type": "code",
   "execution_count": 7,
   "metadata": {
    "collapsed": false
   },
   "outputs": [
    {
     "data": {
      "application/vnd.vegalite.v2+json": {
       "$schema": "https://vega.github.io/schema/vega-lite/v2.6.0.json",
       "config": {
        "view": {
         "height": 300,
         "width": 400
        }
       },
       "data": {
        "name": "data-0cc7b9bfb01e87bbfa8cea066356a9bd"
       },
       "datasets": {
        "data-0cc7b9bfb01e87bbfa8cea066356a9bd": [
         {
          "action": "filter",
          "t": 0,
          "user": "A1"
         },
         {
          "action": "filter",
          "t": 0,
          "user": "A2"
         },
         {
          "action": "drag-and-drop",
          "t": 0,
          "user": "A3"
         },
         {
          "action": "representative-outlier",
          "t": 0,
          "user": "G1"
         },
         {
          "action": "representative-outlier",
          "t": 0,
          "user": "G2"
         },
         {
          "action": "ID",
          "t": 0,
          "user": "G3"
         },
         {
          "action": "PD",
          "t": 0,
          "user": "M1"
         },
         {
          "action": "show-scatter",
          "t": 0,
          "user": "M2"
         },
         {
          "action": "dynamic-class",
          "t": 0,
          "user": "M3"
         },
         {
          "action": "filter",
          "t": 1,
          "user": "A1"
         },
         {
          "action": "E",
          "t": 1,
          "user": "A2"
         },
         {
          "action": "drag-and-drop",
          "t": 1,
          "user": "A3"
         },
         {
          "action": "control-kmeans-clustersize",
          "t": 1,
          "user": "G1"
         },
         {
          "action": "IS",
          "t": 1,
          "user": "G2"
         },
         {
          "action": "C",
          "t": 1,
          "user": "G3"
         },
         {
          "action": "sketch-to-query",
          "t": 1,
          "user": "M1"
         },
         {
          "action": "change-axis",
          "t": 1,
          "user": "M2"
         },
         {
          "action": "ID",
          "t": 1,
          "user": "M3"
         },
         {
          "action": "filter",
          "t": 2,
          "user": "A1"
         },
         {
          "action": "E",
          "t": 2,
          "user": "A2"
         },
         {
          "action": "sketch-to-modify",
          "t": 2,
          "user": "A3"
         },
         {
          "action": "representative-outlier",
          "t": 2,
          "user": "G1"
         },
         {
          "action": "BR",
          "t": 2,
          "user": "G2"
         },
         {
          "action": "W",
          "t": 2,
          "user": "G3"
         },
         {
          "action": "ignore-xrange",
          "t": 2,
          "user": "M1"
         },
         {
          "action": "PS",
          "t": 2,
          "user": "M2"
         },
         {
          "action": "show-scatter",
          "t": 2,
          "user": "M3"
         },
         {
          "action": "filter",
          "t": 3,
          "user": "A1"
         },
         {
          "action": "representative-outlier",
          "t": 3,
          "user": "A2"
         },
         {
          "action": "ignore-xrange",
          "t": 3,
          "user": "A3"
         },
         {
          "action": "control-kmeans-clustersize",
          "t": 3,
          "user": "G1"
         },
         {
          "action": "representative-outlier",
          "t": 3,
          "user": "G2"
         },
         {
          "action": "show-scatter",
          "t": 3,
          "user": "G3"
         },
         {
          "action": "C",
          "t": 3,
          "user": "M1"
         },
         {
          "action": "dynamic-class",
          "t": 3,
          "user": "M2"
         },
         {
          "action": "IS",
          "t": 3,
          "user": "M3"
         },
         {
          "action": "IS",
          "t": 4,
          "user": "A1"
         },
         {
          "action": "drag-and-drop",
          "t": 4,
          "user": "A2"
         },
         {
          "action": "BR",
          "t": 4,
          "user": "A3"
         },
         {
          "action": "W",
          "t": 4,
          "user": "G1"
         },
         {
          "action": "control-kmeans-clustersize",
          "t": 4,
          "user": "G2"
         },
         {
          "action": "upload-dataset",
          "t": 4,
          "user": "G3"
         },
         {
          "action": "change-axis",
          "t": 4,
          "user": "M1"
         },
         {
          "action": "dynamic-class",
          "t": 4,
          "user": "M2"
         },
         {
          "action": "dynamic-class",
          "t": 4,
          "user": "M3"
         },
         {
          "action": "E",
          "t": 5,
          "user": "A1"
         },
         {
          "action": "W",
          "t": 5,
          "user": "A2"
         },
         {
          "action": "drag-and-drop",
          "t": 5,
          "user": "A3"
         },
         {
          "action": "IS",
          "t": 5,
          "user": "G1"
         },
         {
          "action": "representative-outlier",
          "t": 5,
          "user": "G2"
         },
         {
          "action": "BR",
          "t": 5,
          "user": "G3"
         },
         {
          "action": "W",
          "t": 5,
          "user": "M1"
         },
         {
          "action": "dynamic-class",
          "t": 5,
          "user": "M2"
         },
         {
          "action": "PS",
          "t": 5,
          "user": "M3"
         },
         {
          "action": "E",
          "t": 6,
          "user": "A1"
         },
         {
          "action": "ID",
          "t": 6,
          "user": "A2"
         },
         {
          "action": "ignore-xrange",
          "t": 6,
          "user": "A3"
         },
         {
          "action": "BR",
          "t": 6,
          "user": "G1"
         },
         {
          "action": "filter",
          "t": 6,
          "user": "G2"
         },
         {
          "action": "representative-outlier",
          "t": 6,
          "user": "G3"
         },
         {
          "action": "W",
          "t": 6,
          "user": "M1"
         },
         {
          "action": "dynamic-class",
          "t": 6,
          "user": "M2"
         },
         {
          "action": "dynamic-class",
          "t": 6,
          "user": "M3"
         },
         {
          "action": "drag-and-drop",
          "t": 7,
          "user": "A1"
         },
         {
          "action": "E",
          "t": 7,
          "user": "A2"
         },
         {
          "action": "change-metric",
          "t": 7,
          "user": "A3"
         },
         {
          "action": "drag-and-drop",
          "t": 7,
          "user": "G1"
         },
         {
          "action": "C",
          "t": 7,
          "user": "G2"
         },
         {
          "action": "W",
          "t": 7,
          "user": "G3"
         },
         {
          "action": "W",
          "t": 7,
          "user": "M1"
         },
         {
          "action": "PS",
          "t": 7,
          "user": "M2"
         },
         {
          "action": "ID",
          "t": 7,
          "user": "M3"
         },
         {
          "action": "ID",
          "t": 8,
          "user": "A1"
         },
         {
          "action": "ID",
          "t": 8,
          "user": "A2"
         },
         {
          "action": "C",
          "t": 8,
          "user": "A3"
         },
         {
          "action": "IS",
          "t": 8,
          "user": "G1"
         },
         {
          "action": "BR",
          "t": 8,
          "user": "G2"
         },
         {
          "action": "change-metric",
          "t": 8,
          "user": "G3"
         },
         {
          "action": "brush-xrange",
          "t": 8,
          "user": "M1"
         },
         {
          "action": "dynamic-class",
          "t": 8,
          "user": "M2"
         },
         {
          "action": "change-axis",
          "t": 8,
          "user": "M3"
         },
         {
          "action": "filter",
          "t": 9,
          "user": "A1"
         },
         {
          "action": "BR",
          "t": 9,
          "user": "A2"
         },
         {
          "action": "brush-xrange",
          "t": 9,
          "user": "A3"
         },
         {
          "action": "W",
          "t": 9,
          "user": "G1"
         },
         {
          "action": "W",
          "t": 9,
          "user": "G2"
         },
         {
          "action": "control-kmeans-clustersize",
          "t": 9,
          "user": "G3"
         },
         {
          "action": "change-axis",
          "t": 9,
          "user": "M1"
         },
         {
          "action": "IS",
          "t": 9,
          "user": "M2"
         },
         {
          "action": "IS",
          "t": 9,
          "user": "M3"
         },
         {
          "action": "E",
          "t": 10,
          "user": "A1"
         },
         {
          "action": "filter",
          "t": 10,
          "user": "A2"
         },
         {
          "action": "change-metric",
          "t": 10,
          "user": "A3"
         },
         {
          "action": "BR",
          "t": 10,
          "user": "G1"
         },
         {
          "action": "drag-and-drop",
          "t": 10,
          "user": "G2"
         },
         {
          "action": "representative-outlier",
          "t": 10,
          "user": "G3"
         },
         {
          "action": "IS",
          "t": 10,
          "user": "M1"
         },
         {
          "action": "IS",
          "t": 10,
          "user": "M2"
         },
         {
          "action": "drag-and-drop",
          "t": 10,
          "user": "M3"
         },
         {
          "action": "IS",
          "t": 11,
          "user": "A1"
         },
         {
          "action": "E",
          "t": 11,
          "user": "A2"
         },
         {
          "action": "ID",
          "t": 11,
          "user": "A3"
         },
         {
          "action": "drag-and-drop",
          "t": 11,
          "user": "G1"
         },
         {
          "action": "W",
          "t": 11,
          "user": "G2"
         },
         {
          "action": "ID",
          "t": 11,
          "user": "G3"
         },
         {
          "action": "representative-outlier",
          "t": 11,
          "user": "M1"
         },
         {
          "action": "C",
          "t": 11,
          "user": "M2"
         },
         {
          "action": "dynamic-class",
          "t": 11,
          "user": "M3"
         },
         {
          "action": "PS",
          "t": 12,
          "user": "A1"
         },
         {
          "action": "representative-outlier",
          "t": 12,
          "user": "A2"
         },
         {
          "action": "change-metric",
          "t": 12,
          "user": "A3"
         },
         {
          "action": "min-similarity-cutoff",
          "t": 12,
          "user": "G1"
         },
         {
          "action": "filter",
          "t": 12,
          "user": "G2"
         },
         {
          "action": "drag-and-drop",
          "t": 12,
          "user": "G3"
         },
         {
          "action": "W",
          "t": 12,
          "user": "M1"
         },
         {
          "action": "BR",
          "t": 12,
          "user": "M2"
         },
         {
          "action": "IS",
          "t": 12,
          "user": "M3"
         },
         {
          "action": "E",
          "t": 13,
          "user": "A1"
         },
         {
          "action": "drag-and-drop",
          "t": 13,
          "user": "A2"
         },
         {
          "action": "W",
          "t": 13,
          "user": "A3"
         },
         {
          "action": "brush-xrange",
          "t": 13,
          "user": "G1"
         },
         {
          "action": "PS",
          "t": 13,
          "user": "G2"
         },
         {
          "action": "IS",
          "t": 13,
          "user": "G3"
         },
         {
          "action": "PS",
          "t": 13,
          "user": "M1"
         },
         {
          "action": "W",
          "t": 13,
          "user": "M2"
         },
         {
          "action": "change-metric",
          "t": 13,
          "user": "M3"
         },
         {
          "action": "PS",
          "t": 14,
          "user": "A1"
         },
         {
          "action": "change-number-of-results",
          "t": 14,
          "user": "A2"
         },
         {
          "action": "BR",
          "t": 14,
          "user": "A3"
         },
         {
          "action": "export",
          "t": 14,
          "user": "G1"
         },
         {
          "action": "BR",
          "t": 14,
          "user": "G2"
         },
         {
          "action": "BR",
          "t": 14,
          "user": "G3"
         },
         {
          "action": "dynamic-class",
          "t": 14,
          "user": "M1"
         },
         {
          "action": "dynamic-class",
          "t": 14,
          "user": "M2"
         },
         {
          "action": "C",
          "t": 14,
          "user": "M3"
         },
         {
          "action": "PD",
          "t": 15,
          "user": "A1"
         },
         {
          "action": "export",
          "t": 15,
          "user": "A2"
         },
         {
          "action": "filter",
          "t": 15,
          "user": "A3"
         },
         {
          "action": "BR",
          "t": 15,
          "user": "G1"
         },
         {
          "action": "show-scatter",
          "t": 15,
          "user": "G2"
         },
         {
          "action": "export",
          "t": 15,
          "user": "G3"
         },
         {
          "action": "PD",
          "t": 15,
          "user": "M1"
         },
         {
          "action": "IS",
          "t": 15,
          "user": "M2"
         },
         {
          "action": "drag-and-drop",
          "t": 15,
          "user": "M3"
         },
         {
          "action": "reverse-y",
          "t": 16,
          "user": "A1"
         },
         {
          "action": "filter",
          "t": 16,
          "user": "A2"
         },
         {
          "action": "W",
          "t": 16,
          "user": "A3"
         },
         {
          "action": "control-kmeans-clustersize",
          "t": 16,
          "user": "G1"
         },
         {
          "action": "ID",
          "t": 16,
          "user": "G2"
         },
         {
          "action": "BR",
          "t": 16,
          "user": "G3"
         },
         {
          "action": "IS",
          "t": 16,
          "user": "M1"
         },
         {
          "action": "sketch-to-query",
          "t": 16,
          "user": "M2"
         },
         {
          "action": "IS",
          "t": 16,
          "user": "M3"
         },
         {
          "action": "E",
          "t": 17,
          "user": "A1"
         },
         {
          "action": "E",
          "t": 17,
          "user": "A2"
         },
         {
          "action": "W",
          "t": 17,
          "user": "A3"
         },
         {
          "action": "C",
          "t": 17,
          "user": "G1"
         },
         {
          "action": "BR",
          "t": 17,
          "user": "G2"
         },
         {
          "action": "representative-outlier",
          "t": 17,
          "user": "G3"
         },
         {
          "action": "BR",
          "t": 17,
          "user": "M1"
         },
         {
          "action": "C",
          "t": 17,
          "user": "M2"
         },
         {
          "action": "BR",
          "t": 17,
          "user": "M3"
         },
         {
          "action": "PS",
          "t": 18,
          "user": "A1"
         },
         {
          "action": "representative-outlier",
          "t": 18,
          "user": "A2"
         },
         {
          "action": "filter",
          "t": 18,
          "user": "A3"
         },
         {
          "action": "W",
          "t": 18,
          "user": "G1"
         },
         {
          "action": "sketch-to-query",
          "t": 18,
          "user": "G2"
         },
         {
          "action": "IS",
          "t": 18,
          "user": "G3"
         },
         {
          "action": "filter",
          "t": 18,
          "user": "M1"
         },
         {
          "action": "sketch-to-modify",
          "t": 18,
          "user": "M2"
         },
         {
          "action": "change-axis",
          "t": 18,
          "user": "M3"
         },
         {
          "action": "BR",
          "t": 19,
          "user": "A1"
         },
         {
          "action": "drag-and-drop",
          "t": 19,
          "user": "A2"
         },
         {
          "action": "ID",
          "t": 19,
          "user": "A3"
         },
         {
          "action": "drag-and-drop",
          "t": 19,
          "user": "G1"
         },
         {
          "action": "ID",
          "t": 19,
          "user": "G2"
         },
         {
          "action": "ignore-xrange",
          "t": 19,
          "user": "G3"
         },
         {
          "action": "sketch-to-query",
          "t": 19,
          "user": "M1"
         },
         {
          "action": "BR",
          "t": 19,
          "user": "M2"
         },
         {
          "action": "sketch-to-modify",
          "t": 19,
          "user": "M3"
         },
         {
          "action": "drag-and-drop",
          "t": 20,
          "user": "A1"
         },
         {
          "action": "change-number-of-results",
          "t": 20,
          "user": "A2"
         },
         {
          "action": "BR",
          "t": 20,
          "user": "A3"
         },
         {
          "action": "drag-and-drop",
          "t": 20,
          "user": "G1"
         },
         {
          "action": "W",
          "t": 20,
          "user": "G2"
         },
         {
          "action": "IS",
          "t": 20,
          "user": "G3"
         },
         {
          "action": "show-scatter",
          "t": 20,
          "user": "M1"
         },
         {
          "action": "change-axis",
          "t": 20,
          "user": "M2"
         },
         {
          "action": "sketch-to-modify",
          "t": 20,
          "user": "M3"
         },
         {
          "action": "C",
          "t": 21,
          "user": "A1"
         },
         {
          "action": "export",
          "t": 21,
          "user": "A2"
         },
         {
          "action": "change-axis",
          "t": 21,
          "user": "A3"
         },
         {
          "action": "ID",
          "t": 21,
          "user": "G1"
         },
         {
          "action": "ignore-xrange",
          "t": 21,
          "user": "G2"
         },
         {
          "action": "BR",
          "t": 21,
          "user": "G3"
         },
         {
          "action": "W",
          "t": 21,
          "user": "M1"
         },
         {
          "action": "sketch-to-modify",
          "t": 21,
          "user": "M2"
         },
         {
          "action": "BR",
          "t": 21,
          "user": "M3"
         },
         {
          "action": "filter",
          "t": 22,
          "user": "A1"
         },
         {
          "action": "filter",
          "t": 22,
          "user": "A2"
         },
         {
          "action": "ID",
          "t": 22,
          "user": "A3"
         },
         {
          "action": "control-kmeans-clustersize",
          "t": 22,
          "user": "G1"
         },
         {
          "action": "sketch-to-query",
          "t": 22,
          "user": "G2"
         },
         {
          "action": "filter",
          "t": 22,
          "user": "M1"
         },
         {
          "action": "drag-and-drop",
          "t": 22,
          "user": "M2"
         },
         {
          "action": "PS",
          "t": 22,
          "user": "M3"
         },
         {
          "action": "BR",
          "t": 23,
          "user": "A1"
         },
         {
          "action": "E",
          "t": 23,
          "user": "A2"
         },
         {
          "action": "filter",
          "t": 23,
          "user": "A3"
         },
         {
          "action": "C",
          "t": 23,
          "user": "G1"
         },
         {
          "action": "filter",
          "t": 23,
          "user": "G2"
         },
         {
          "action": "filter",
          "t": 23,
          "user": "M1"
         },
         {
          "action": "sketch-to-modify",
          "t": 23,
          "user": "M2"
         },
         {
          "action": "drag-and-drop",
          "t": 23,
          "user": "M3"
         },
         {
          "action": "filter",
          "t": 24,
          "user": "A1"
         },
         {
          "action": "representative-outlier",
          "t": 24,
          "user": "A2"
         },
         {
          "action": "W",
          "t": 24,
          "user": "A3"
         },
         {
          "action": "W",
          "t": 24,
          "user": "G1"
         },
         {
          "action": "IS",
          "t": 24,
          "user": "G2"
         },
         {
          "action": "filter",
          "t": 24,
          "user": "M1"
         },
         {
          "action": "ID",
          "t": 24,
          "user": "M2"
         },
         {
          "action": "ID",
          "t": 24,
          "user": "M3"
         },
         {
          "action": "PS",
          "t": 25,
          "user": "A1"
         },
         {
          "action": "drag-and-drop",
          "t": 25,
          "user": "A2"
         },
         {
          "action": "BR",
          "t": 25,
          "user": "A3"
         },
         {
          "action": "PS",
          "t": 25,
          "user": "G1"
         },
         {
          "action": "filter",
          "t": 25,
          "user": "G2"
         },
         {
          "action": "ID",
          "t": 25,
          "user": "M1"
         },
         {
          "action": "C",
          "t": 25,
          "user": "M2"
         },
         {
          "action": "W",
          "t": 25,
          "user": "M3"
         },
         {
          "action": "E",
          "t": 26,
          "user": "A1"
         },
         {
          "action": "change-number-of-results",
          "t": 26,
          "user": "A2"
         },
         {
          "action": "change-axis",
          "t": 26,
          "user": "A3"
         },
         {
          "action": "W",
          "t": 26,
          "user": "G1"
         },
         {
          "action": "BR",
          "t": 26,
          "user": "G2"
         },
         {
          "action": "BR",
          "t": 26,
          "user": "M1"
         },
         {
          "action": "drag-and-drop",
          "t": 26,
          "user": "M2"
         },
         {
          "action": "IS",
          "t": 26,
          "user": "M3"
         },
         {
          "action": "E",
          "t": 27,
          "user": "A1"
         },
         {
          "action": "export",
          "t": 27,
          "user": "A2"
         },
         {
          "action": "PS",
          "t": 27,
          "user": "A3"
         },
         {
          "action": "BR",
          "t": 27,
          "user": "G1"
         },
         {
          "action": "filter",
          "t": 27,
          "user": "G2"
         },
         {
          "action": "W",
          "t": 27,
          "user": "M1"
         },
         {
          "action": "sketch-to-modify",
          "t": 27,
          "user": "M2"
         },
         {
          "action": "BR",
          "t": 27,
          "user": "M3"
         },
         {
          "action": "PS",
          "t": 28,
          "user": "A1"
         },
         {
          "action": "ID",
          "t": 28,
          "user": "A2"
         },
         {
          "action": "BR",
          "t": 28,
          "user": "A3"
         },
         {
          "action": "PS",
          "t": 28,
          "user": "G2"
         },
         {
          "action": "E",
          "t": 28,
          "user": "M1"
         },
         {
          "action": "IS",
          "t": 28,
          "user": "M2"
         },
         {
          "action": "change-axis",
          "t": 28,
          "user": "M3"
         },
         {
          "action": "brush-xrange",
          "t": 29,
          "user": "A1"
         },
         {
          "action": "E",
          "t": 29,
          "user": "A2"
         },
         {
          "action": "input-equation",
          "t": 29,
          "user": "A3"
         },
         {
          "action": "filter",
          "t": 29,
          "user": "G2"
         },
         {
          "action": "E",
          "t": 29,
          "user": "M1"
         },
         {
          "action": "C",
          "t": 29,
          "user": "M2"
         },
         {
          "action": "W",
          "t": 29,
          "user": "M3"
         },
         {
          "action": "W",
          "t": 30,
          "user": "A1"
         },
         {
          "action": "BR",
          "t": 30,
          "user": "A2"
         },
         {
          "action": "BR",
          "t": 30,
          "user": "A3"
         },
         {
          "action": "W",
          "t": 30,
          "user": "G2"
         },
         {
          "action": "W",
          "t": 30,
          "user": "M1"
         },
         {
          "action": "C",
          "t": 30,
          "user": "M2"
         },
         {
          "action": "W",
          "t": 30,
          "user": "M3"
         },
         {
          "action": "ID",
          "t": 31,
          "user": "A1"
         },
         {
          "action": "PS",
          "t": 31,
          "user": "A2"
         },
         {
          "action": "export",
          "t": 31,
          "user": "A3"
         },
         {
          "action": "representative-outlier",
          "t": 31,
          "user": "G2"
         },
         {
          "action": "E",
          "t": 31,
          "user": "M1"
         },
         {
          "action": "BR",
          "t": 31,
          "user": "M2"
         },
         {
          "action": "BR",
          "t": 31,
          "user": "M3"
         },
         {
          "action": "W",
          "t": 32,
          "user": "A1"
         },
         {
          "action": "E",
          "t": 32,
          "user": "A2"
         },
         {
          "action": "W",
          "t": 32,
          "user": "A3"
         },
         {
          "action": "BR",
          "t": 32,
          "user": "G2"
         },
         {
          "action": "dynamic-class",
          "t": 32,
          "user": "M2"
         },
         {
          "action": "W",
          "t": 33,
          "user": "A1"
         },
         {
          "action": "E",
          "t": 33,
          "user": "A2"
         },
         {
          "action": "BR",
          "t": 33,
          "user": "A3"
         },
         {
          "action": "smoothing",
          "t": 33,
          "user": "G2"
         },
         {
          "action": "IS",
          "t": 33,
          "user": "M2"
         },
         {
          "action": "ID",
          "t": 34,
          "user": "A1"
         },
         {
          "action": "dynamic-class",
          "t": 34,
          "user": "A2"
         },
         {
          "action": "smoothing",
          "t": 34,
          "user": "G2"
         },
         {
          "action": "IS",
          "t": 34,
          "user": "M2"
         },
         {
          "action": "BR",
          "t": 35,
          "user": "A1"
         },
         {
          "action": "W",
          "t": 35,
          "user": "A2"
         },
         {
          "action": "BR",
          "t": 35,
          "user": "G2"
         },
         {
          "action": "representative-outlier",
          "t": 35,
          "user": "M2"
         },
         {
          "action": "filter",
          "t": 36,
          "user": "A1"
         },
         {
          "action": "E",
          "t": 36,
          "user": "A2"
         },
         {
          "action": "pattern-upload",
          "t": 36,
          "user": "G2"
         },
         {
          "action": "filter",
          "t": 36,
          "user": "M2"
         },
         {
          "action": "filter",
          "t": 37,
          "user": "A1"
         },
         {
          "action": "change-axis",
          "t": 37,
          "user": "A2"
         },
         {
          "action": "PD",
          "t": 37,
          "user": "G2"
         },
         {
          "action": "IS",
          "t": 37,
          "user": "M2"
         },
         {
          "action": "BR",
          "t": 38,
          "user": "A1"
         },
         {
          "action": "ignore-xrange",
          "t": 38,
          "user": "A2"
         },
         {
          "action": "E",
          "t": 38,
          "user": "G2"
         },
         {
          "action": "change-axis",
          "t": 38,
          "user": "M2"
         },
         {
          "action": "smoothing",
          "t": 39,
          "user": "A1"
         },
         {
          "action": "IS",
          "t": 39,
          "user": "A2"
         },
         {
          "action": "filter",
          "t": 39,
          "user": "G2"
         },
         {
          "action": "ID",
          "t": 39,
          "user": "M2"
         },
         {
          "action": "sketch-to-query",
          "t": 40,
          "user": "A1"
         },
         {
          "action": "PD",
          "t": 40,
          "user": "A2"
         },
         {
          "action": "drag-and-drop",
          "t": 40,
          "user": "G2"
         },
         {
          "action": "BR",
          "t": 40,
          "user": "M2"
         },
         {
          "action": "sketch-to-query",
          "t": 41,
          "user": "A1"
         },
         {
          "action": "BR",
          "t": 41,
          "user": "A2"
         },
         {
          "action": "IS",
          "t": 41,
          "user": "G2"
         },
         {
          "action": "filter",
          "t": 42,
          "user": "A1"
         },
         {
          "action": "W",
          "t": 42,
          "user": "A2"
         },
         {
          "action": "W",
          "t": 42,
          "user": "G2"
         },
         {
          "action": "E",
          "t": 43,
          "user": "A1"
         },
         {
          "action": "PS",
          "t": 43,
          "user": "A2"
         },
         {
          "action": "export",
          "t": 43,
          "user": "G2"
         },
         {
          "action": "PS",
          "t": 44,
          "user": "A1"
         },
         {
          "action": "drag-and-drop",
          "t": 44,
          "user": "A2"
         },
         {
          "action": "representative-outlier",
          "t": 44,
          "user": "G2"
         },
         {
          "action": "W",
          "t": 45,
          "user": "A1"
         },
         {
          "action": "W",
          "t": 45,
          "user": "A2"
         },
         {
          "action": "ID",
          "t": 45,
          "user": "G2"
         },
         {
          "action": "W",
          "t": 46,
          "user": "A1"
         },
         {
          "action": "brush-xrange",
          "t": 46,
          "user": "A2"
         },
         {
          "action": "export",
          "t": 46,
          "user": "G2"
         },
         {
          "action": "W",
          "t": 47,
          "user": "A1"
         },
         {
          "action": "PS",
          "t": 47,
          "user": "A2"
         },
         {
          "action": "BR",
          "t": 47,
          "user": "G2"
         },
         {
          "action": "IS",
          "t": 48,
          "user": "A1"
         },
         {
          "action": "BR",
          "t": 48,
          "user": "A2"
         },
         {
          "action": "brush-xrange",
          "t": 48,
          "user": "G2"
         },
         {
          "action": "BR",
          "t": 49,
          "user": "A1"
         },
         {
          "action": "PS",
          "t": 49,
          "user": "G2"
         },
         {
          "action": "dynamic-class",
          "t": 50,
          "user": "A1"
         },
         {
          "action": "upload-dataset",
          "t": 50,
          "user": "G2"
         },
         {
          "action": "dynamic-class",
          "t": 51,
          "user": "A1"
         },
         {
          "action": "smoothing",
          "t": 51,
          "user": "G2"
         },
         {
          "action": "W",
          "t": 52,
          "user": "A1"
         },
         {
          "action": "control-kmeans-clustersize",
          "t": 52,
          "user": "G2"
         },
         {
          "action": "dynamic-class",
          "t": 53,
          "user": "A1"
         },
         {
          "action": "representative-outlier",
          "t": 53,
          "user": "G2"
         },
         {
          "action": "BR",
          "t": 54,
          "user": "A1"
         },
         {
          "action": "ID",
          "t": 54,
          "user": "G2"
         },
         {
          "action": "filter",
          "t": 55,
          "user": "A1"
         },
         {
          "action": "ID",
          "t": 55,
          "user": "G2"
         },
         {
          "action": "E",
          "t": 56,
          "user": "A1"
         },
         {
          "action": "PS",
          "t": 56,
          "user": "G2"
         },
         {
          "action": "ID",
          "t": 57,
          "user": "A1"
         },
         {
          "action": "BR",
          "t": 57,
          "user": "G2"
         },
         {
          "action": "pattern-upload",
          "t": 58,
          "user": "A1"
         },
         {
          "action": "export",
          "t": 59,
          "user": "A1"
         },
         {
          "action": "W",
          "t": 60,
          "user": "A1"
         },
         {
          "action": "dynamic-class",
          "t": 61,
          "user": "A1"
         },
         {
          "action": "BR",
          "t": 62,
          "user": "A1"
         },
         {
          "action": "filter",
          "t": 63,
          "user": "A1"
         },
         {
          "action": "E",
          "t": 64,
          "user": "A1"
         },
         {
          "action": "ID",
          "t": 65,
          "user": "A1"
         },
         {
          "action": "pattern-upload",
          "t": 66,
          "user": "A1"
         },
         {
          "action": "export",
          "t": 67,
          "user": "A1"
         },
         {
          "action": "W",
          "t": 68,
          "user": "A1"
         },
         {
          "action": "BR",
          "t": 69,
          "user": "A1"
         }
        ]
       },
       "encoding": {
        "color": {
         "field": "action",
         "type": "nominal"
        },
        "x": {
         "field": "t",
         "type": "quantitative"
        },
        "y": {
         "field": "user",
         "type": "nominal"
        }
       },
       "mark": "circle"
      },
      "image/png": "[encoded data removed]",
      "text/plain": [
       "<VegaLite 2 object>\n",
       "\n",
       "If you see this message, it means the renderer has not been properly enabled\n",
       "for the frontend that you are using. For more information, see\n",
       "https://altair-viz.github.io/user_guide/troubleshooting.html\n"
      ]
     },
     "execution_count": 7,
     "metadata": {},
     "output_type": "execute_result"
    }
   ],
   "source": [
    "alt.Chart(df).mark_circle().encode(        \n",
    "    color='action',\n",
    "    y=\"user\",\n",
    "    x='t'\n",
    ")"
   ]
  },
  {
   "cell_type": "markdown",
   "metadata": {},
   "source": [
    "# Action only"
   ]
  },
  {
   "cell_type": "code",
   "execution_count": 8,
   "metadata": {},
   "outputs": [
    {
     "data": {
      "application/vnd.vegalite.v2+json": {
       "$schema": "https://vega.github.io/schema/vega-lite/v2.6.0.json",
       "config": {
        "view": {
         "height": 300,
         "width": 400
        }
       },
       "data": {
        "name": "data-449a33d16de6a02810aae6306fa104de"
       },
       "datasets": {
        "data-449a33d16de6a02810aae6306fa104de": [
         {
          "action": "ID",
          "t": 0,
          "user": "G3"
         },
         {
          "action": "PD",
          "t": 0,
          "user": "M1"
         },
         {
          "action": "E",
          "t": 1,
          "user": "A2"
         },
         {
          "action": "IS",
          "t": 1,
          "user": "G2"
         },
         {
          "action": "C",
          "t": 1,
          "user": "G3"
         },
         {
          "action": "ID",
          "t": 1,
          "user": "M3"
         },
         {
          "action": "E",
          "t": 2,
          "user": "A2"
         },
         {
          "action": "BR",
          "t": 2,
          "user": "G2"
         },
         {
          "action": "W",
          "t": 2,
          "user": "G3"
         },
         {
          "action": "PS",
          "t": 2,
          "user": "M2"
         },
         {
          "action": "C",
          "t": 3,
          "user": "M1"
         },
         {
          "action": "IS",
          "t": 3,
          "user": "M3"
         },
         {
          "action": "IS",
          "t": 4,
          "user": "A1"
         },
         {
          "action": "BR",
          "t": 4,
          "user": "A3"
         },
         {
          "action": "W",
          "t": 4,
          "user": "G1"
         },
         {
          "action": "E",
          "t": 5,
          "user": "A1"
         },
         {
          "action": "W",
          "t": 5,
          "user": "A2"
         },
         {
          "action": "IS",
          "t": 5,
          "user": "G1"
         },
         {
          "action": "BR",
          "t": 5,
          "user": "G3"
         },
         {
          "action": "W",
          "t": 5,
          "user": "M1"
         },
         {
          "action": "PS",
          "t": 5,
          "user": "M3"
         },
         {
          "action": "E",
          "t": 6,
          "user": "A1"
         },
         {
          "action": "ID",
          "t": 6,
          "user": "A2"
         },
         {
          "action": "BR",
          "t": 6,
          "user": "G1"
         },
         {
          "action": "W",
          "t": 6,
          "user": "M1"
         },
         {
          "action": "E",
          "t": 7,
          "user": "A2"
         },
         {
          "action": "C",
          "t": 7,
          "user": "G2"
         },
         {
          "action": "W",
          "t": 7,
          "user": "G3"
         },
         {
          "action": "W",
          "t": 7,
          "user": "M1"
         },
         {
          "action": "PS",
          "t": 7,
          "user": "M2"
         },
         {
          "action": "ID",
          "t": 7,
          "user": "M3"
         },
         {
          "action": "ID",
          "t": 8,
          "user": "A1"
         },
         {
          "action": "ID",
          "t": 8,
          "user": "A2"
         },
         {
          "action": "C",
          "t": 8,
          "user": "A3"
         },
         {
          "action": "IS",
          "t": 8,
          "user": "G1"
         },
         {
          "action": "BR",
          "t": 8,
          "user": "G2"
         },
         {
          "action": "BR",
          "t": 9,
          "user": "A2"
         },
         {
          "action": "W",
          "t": 9,
          "user": "G1"
         },
         {
          "action": "W",
          "t": 9,
          "user": "G2"
         },
         {
          "action": "IS",
          "t": 9,
          "user": "M2"
         },
         {
          "action": "IS",
          "t": 9,
          "user": "M3"
         },
         {
          "action": "E",
          "t": 10,
          "user": "A1"
         },
         {
          "action": "BR",
          "t": 10,
          "user": "G1"
         },
         {
          "action": "IS",
          "t": 10,
          "user": "M1"
         },
         {
          "action": "IS",
          "t": 10,
          "user": "M2"
         },
         {
          "action": "IS",
          "t": 11,
          "user": "A1"
         },
         {
          "action": "E",
          "t": 11,
          "user": "A2"
         },
         {
          "action": "ID",
          "t": 11,
          "user": "A3"
         },
         {
          "action": "W",
          "t": 11,
          "user": "G2"
         },
         {
          "action": "ID",
          "t": 11,
          "user": "G3"
         },
         {
          "action": "C",
          "t": 11,
          "user": "M2"
         },
         {
          "action": "PS",
          "t": 12,
          "user": "A1"
         },
         {
          "action": "W",
          "t": 12,
          "user": "M1"
         },
         {
          "action": "BR",
          "t": 12,
          "user": "M2"
         },
         {
          "action": "IS",
          "t": 12,
          "user": "M3"
         },
         {
          "action": "E",
          "t": 13,
          "user": "A1"
         },
         {
          "action": "W",
          "t": 13,
          "user": "A3"
         },
         {
          "action": "PS",
          "t": 13,
          "user": "G2"
         },
         {
          "action": "IS",
          "t": 13,
          "user": "G3"
         },
         {
          "action": "PS",
          "t": 13,
          "user": "M1"
         },
         {
          "action": "W",
          "t": 13,
          "user": "M2"
         },
         {
          "action": "PS",
          "t": 14,
          "user": "A1"
         },
         {
          "action": "BR",
          "t": 14,
          "user": "A3"
         },
         {
          "action": "BR",
          "t": 14,
          "user": "G2"
         },
         {
          "action": "BR",
          "t": 14,
          "user": "G3"
         },
         {
          "action": "C",
          "t": 14,
          "user": "M3"
         },
         {
          "action": "PD",
          "t": 15,
          "user": "A1"
         },
         {
          "action": "BR",
          "t": 15,
          "user": "G1"
         },
         {
          "action": "PD",
          "t": 15,
          "user": "M1"
         },
         {
          "action": "IS",
          "t": 15,
          "user": "M2"
         },
         {
          "action": "W",
          "t": 16,
          "user": "A3"
         },
         {
          "action": "ID",
          "t": 16,
          "user": "G2"
         },
         {
          "action": "BR",
          "t": 16,
          "user": "G3"
         },
         {
          "action": "IS",
          "t": 16,
          "user": "M1"
         },
         {
          "action": "IS",
          "t": 16,
          "user": "M3"
         },
         {
          "action": "E",
          "t": 17,
          "user": "A1"
         },
         {
          "action": "E",
          "t": 17,
          "user": "A2"
         },
         {
          "action": "W",
          "t": 17,
          "user": "A3"
         },
         {
          "action": "C",
          "t": 17,
          "user": "G1"
         },
         {
          "action": "BR",
          "t": 17,
          "user": "G2"
         },
         {
          "action": "BR",
          "t": 17,
          "user": "M1"
         },
         {
          "action": "C",
          "t": 17,
          "user": "M2"
         },
         {
          "action": "BR",
          "t": 17,
          "user": "M3"
         },
         {
          "action": "PS",
          "t": 18,
          "user": "A1"
         },
         {
          "action": "W",
          "t": 18,
          "user": "G1"
         },
         {
          "action": "IS",
          "t": 18,
          "user": "G3"
         },
         {
          "action": "BR",
          "t": 19,
          "user": "A1"
         },
         {
          "action": "ID",
          "t": 19,
          "user": "A3"
         },
         {
          "action": "ID",
          "t": 19,
          "user": "G2"
         },
         {
          "action": "BR",
          "t": 19,
          "user": "M2"
         },
         {
          "action": "BR",
          "t": 20,
          "user": "A3"
         },
         {
          "action": "W",
          "t": 20,
          "user": "G2"
         },
         {
          "action": "IS",
          "t": 20,
          "user": "G3"
         },
         {
          "action": "C",
          "t": 21,
          "user": "A1"
         },
         {
          "action": "ID",
          "t": 21,
          "user": "G1"
         },
         {
          "action": "BR",
          "t": 21,
          "user": "G3"
         },
         {
          "action": "W",
          "t": 21,
          "user": "M1"
         },
         {
          "action": "BR",
          "t": 21,
          "user": "M3"
         },
         {
          "action": "ID",
          "t": 22,
          "user": "A3"
         },
         {
          "action": "PS",
          "t": 22,
          "user": "M3"
         },
         {
          "action": "BR",
          "t": 23,
          "user": "A1"
         },
         {
          "action": "E",
          "t": 23,
          "user": "A2"
         },
         {
          "action": "C",
          "t": 23,
          "user": "G1"
         },
         {
          "action": "W",
          "t": 24,
          "user": "A3"
         },
         {
          "action": "W",
          "t": 24,
          "user": "G1"
         },
         {
          "action": "IS",
          "t": 24,
          "user": "G2"
         },
         {
          "action": "ID",
          "t": 24,
          "user": "M2"
         },
         {
          "action": "ID",
          "t": 24,
          "user": "M3"
         },
         {
          "action": "PS",
          "t": 25,
          "user": "A1"
         },
         {
          "action": "BR",
          "t": 25,
          "user": "A3"
         },
         {
          "action": "PS",
          "t": 25,
          "user": "G1"
         },
         {
          "action": "ID",
          "t": 25,
          "user": "M1"
         },
         {
          "action": "C",
          "t": 25,
          "user": "M2"
         },
         {
          "action": "W",
          "t": 25,
          "user": "M3"
         },
         {
          "action": "E",
          "t": 26,
          "user": "A1"
         },
         {
          "action": "W",
          "t": 26,
          "user": "G1"
         },
         {
          "action": "BR",
          "t": 26,
          "user": "G2"
         },
         {
          "action": "BR",
          "t": 26,
          "user": "M1"
         },
         {
          "action": "IS",
          "t": 26,
          "user": "M3"
         },
         {
          "action": "E",
          "t": 27,
          "user": "A1"
         },
         {
          "action": "PS",
          "t": 27,
          "user": "A3"
         },
         {
          "action": "BR",
          "t": 27,
          "user": "G1"
         },
         {
          "action": "W",
          "t": 27,
          "user": "M1"
         },
         {
          "action": "BR",
          "t": 27,
          "user": "M3"
         },
         {
          "action": "PS",
          "t": 28,
          "user": "A1"
         },
         {
          "action": "ID",
          "t": 28,
          "user": "A2"
         },
         {
          "action": "BR",
          "t": 28,
          "user": "A3"
         },
         {
          "action": "PS",
          "t": 28,
          "user": "G2"
         },
         {
          "action": "E",
          "t": 28,
          "user": "M1"
         },
         {
          "action": "IS",
          "t": 28,
          "user": "M2"
         },
         {
          "action": "E",
          "t": 29,
          "user": "A2"
         },
         {
          "action": "E",
          "t": 29,
          "user": "M1"
         },
         {
          "action": "C",
          "t": 29,
          "user": "M2"
         },
         {
          "action": "W",
          "t": 29,
          "user": "M3"
         },
         {
          "action": "W",
          "t": 30,
          "user": "A1"
         },
         {
          "action": "BR",
          "t": 30,
          "user": "A2"
         },
         {
          "action": "BR",
          "t": 30,
          "user": "A3"
         },
         {
          "action": "W",
          "t": 30,
          "user": "G2"
         },
         {
          "action": "W",
          "t": 30,
          "user": "M1"
         },
         {
          "action": "C",
          "t": 30,
          "user": "M2"
         },
         {
          "action": "W",
          "t": 30,
          "user": "M3"
         },
         {
          "action": "ID",
          "t": 31,
          "user": "A1"
         },
         {
          "action": "PS",
          "t": 31,
          "user": "A2"
         },
         {
          "action": "E",
          "t": 31,
          "user": "M1"
         },
         {
          "action": "BR",
          "t": 31,
          "user": "M2"
         },
         {
          "action": "BR",
          "t": 31,
          "user": "M3"
         },
         {
          "action": "W",
          "t": 32,
          "user": "A1"
         },
         {
          "action": "E",
          "t": 32,
          "user": "A2"
         },
         {
          "action": "W",
          "t": 32,
          "user": "A3"
         },
         {
          "action": "BR",
          "t": 32,
          "user": "G2"
         },
         {
          "action": "W",
          "t": 33,
          "user": "A1"
         },
         {
          "action": "E",
          "t": 33,
          "user": "A2"
         },
         {
          "action": "BR",
          "t": 33,
          "user": "A3"
         },
         {
          "action": "IS",
          "t": 33,
          "user": "M2"
         },
         {
          "action": "ID",
          "t": 34,
          "user": "A1"
         },
         {
          "action": "IS",
          "t": 34,
          "user": "M2"
         },
         {
          "action": "BR",
          "t": 35,
          "user": "A1"
         },
         {
          "action": "W",
          "t": 35,
          "user": "A2"
         },
         {
          "action": "BR",
          "t": 35,
          "user": "G2"
         },
         {
          "action": "E",
          "t": 36,
          "user": "A2"
         },
         {
          "action": "PD",
          "t": 37,
          "user": "G2"
         },
         {
          "action": "IS",
          "t": 37,
          "user": "M2"
         },
         {
          "action": "BR",
          "t": 38,
          "user": "A1"
         },
         {
          "action": "E",
          "t": 38,
          "user": "G2"
         },
         {
          "action": "IS",
          "t": 39,
          "user": "A2"
         },
         {
          "action": "ID",
          "t": 39,
          "user": "M2"
         },
         {
          "action": "PD",
          "t": 40,
          "user": "A2"
         },
         {
          "action": "BR",
          "t": 40,
          "user": "M2"
         },
         {
          "action": "BR",
          "t": 41,
          "user": "A2"
         },
         {
          "action": "IS",
          "t": 41,
          "user": "G2"
         },
         {
          "action": "W",
          "t": 42,
          "user": "A2"
         },
         {
          "action": "W",
          "t": 42,
          "user": "G2"
         },
         {
          "action": "E",
          "t": 43,
          "user": "A1"
         },
         {
          "action": "PS",
          "t": 43,
          "user": "A2"
         },
         {
          "action": "PS",
          "t": 44,
          "user": "A1"
         },
         {
          "action": "W",
          "t": 45,
          "user": "A1"
         },
         {
          "action": "W",
          "t": 45,
          "user": "A2"
         },
         {
          "action": "ID",
          "t": 45,
          "user": "G2"
         },
         {
          "action": "W",
          "t": 46,
          "user": "A1"
         },
         {
          "action": "W",
          "t": 47,
          "user": "A1"
         },
         {
          "action": "PS",
          "t": 47,
          "user": "A2"
         },
         {
          "action": "BR",
          "t": 47,
          "user": "G2"
         },
         {
          "action": "IS",
          "t": 48,
          "user": "A1"
         },
         {
          "action": "BR",
          "t": 48,
          "user": "A2"
         },
         {
          "action": "BR",
          "t": 49,
          "user": "A1"
         },
         {
          "action": "PS",
          "t": 49,
          "user": "G2"
         },
         {
          "action": "W",
          "t": 52,
          "user": "A1"
         },
         {
          "action": "BR",
          "t": 54,
          "user": "A1"
         },
         {
          "action": "ID",
          "t": 54,
          "user": "G2"
         },
         {
          "action": "ID",
          "t": 55,
          "user": "G2"
         },
         {
          "action": "E",
          "t": 56,
          "user": "A1"
         },
         {
          "action": "PS",
          "t": 56,
          "user": "G2"
         },
         {
          "action": "ID",
          "t": 57,
          "user": "A1"
         },
         {
          "action": "BR",
          "t": 57,
          "user": "G2"
         },
         {
          "action": "W",
          "t": 60,
          "user": "A1"
         },
         {
          "action": "BR",
          "t": 62,
          "user": "A1"
         },
         {
          "action": "E",
          "t": 64,
          "user": "A1"
         },
         {
          "action": "ID",
          "t": 65,
          "user": "A1"
         },
         {
          "action": "W",
          "t": 68,
          "user": "A1"
         },
         {
          "action": "BR",
          "t": 69,
          "user": "A1"
         }
        ]
       },
       "encoding": {
        "color": {
         "field": "action",
         "type": "nominal"
        },
        "x": {
         "field": "t",
         "type": "quantitative"
        },
        "y": {
         "field": "user",
         "type": "nominal"
        }
       },
       "mark": "circle"
      },
      "image/png": "[encoded data removed]",
      "text/plain": [
       "<VegaLite 2 object>\n",
       "\n",
       "If you see this message, it means the renderer has not been properly enabled\n",
       "for the frontend that you are using. For more information, see\n",
       "https://altair-viz.github.io/user_guide/troubleshooting.html\n"
      ]
     },
     "execution_count": 8,
     "metadata": {},
     "output_type": "execute_result"
    }
   ],
   "source": [
    "df_action = df[df.action.isin(actionOnly)]\n",
    "alt.Chart(df_action).mark_circle().encode(        \n",
    "    color='action',\n",
    "    y=\"user\",\n",
    "    x='t'\n",
    ")"
   ]
  },
  {
   "cell_type": "markdown",
   "metadata": {},
   "source": [
    "# Feature Only"
   ]
  },
  {
   "cell_type": "code",
   "execution_count": 9,
   "metadata": {
    "collapsed": true
   },
   "outputs": [
    {
     "data": {
      "application/vnd.vegalite.v2+json": {
       "$schema": "https://vega.github.io/schema/vega-lite/v2.6.0.json",
       "config": {
        "view": {
         "height": 300,
         "width": 400
        }
       },
       "data": {
        "name": "data-7ae48c420d61b6f878671492556026f1"
       },
       "datasets": {
        "data-7ae48c420d61b6f878671492556026f1": [
         {
          "action": "filter",
          "t": 0,
          "user": "A1"
         },
         {
          "action": "filter",
          "t": 0,
          "user": "A2"
         },
         {
          "action": "drag-and-drop",
          "t": 0,
          "user": "A3"
         },
         {
          "action": "representative-outlier",
          "t": 0,
          "user": "G1"
         },
         {
          "action": "representative-outlier",
          "t": 0,
          "user": "G2"
         },
         {
          "action": "show-scatter",
          "t": 0,
          "user": "M2"
         },
         {
          "action": "dynamic-class",
          "t": 0,
          "user": "M3"
         },
         {
          "action": "filter",
          "t": 1,
          "user": "A1"
         },
         {
          "action": "drag-and-drop",
          "t": 1,
          "user": "A3"
         },
         {
          "action": "control-kmeans-clustersize",
          "t": 1,
          "user": "G1"
         },
         {
          "action": "sketch-to-query",
          "t": 1,
          "user": "M1"
         },
         {
          "action": "change-axis",
          "t": 1,
          "user": "M2"
         },
         {
          "action": "filter",
          "t": 2,
          "user": "A1"
         },
         {
          "action": "sketch-to-modify",
          "t": 2,
          "user": "A3"
         },
         {
          "action": "representative-outlier",
          "t": 2,
          "user": "G1"
         },
         {
          "action": "ignore-xrange",
          "t": 2,
          "user": "M1"
         },
         {
          "action": "show-scatter",
          "t": 2,
          "user": "M3"
         },
         {
          "action": "filter",
          "t": 3,
          "user": "A1"
         },
         {
          "action": "representative-outlier",
          "t": 3,
          "user": "A2"
         },
         {
          "action": "ignore-xrange",
          "t": 3,
          "user": "A3"
         },
         {
          "action": "control-kmeans-clustersize",
          "t": 3,
          "user": "G1"
         },
         {
          "action": "representative-outlier",
          "t": 3,
          "user": "G2"
         },
         {
          "action": "show-scatter",
          "t": 3,
          "user": "G3"
         },
         {
          "action": "dynamic-class",
          "t": 3,
          "user": "M2"
         },
         {
          "action": "drag-and-drop",
          "t": 4,
          "user": "A2"
         },
         {
          "action": "control-kmeans-clustersize",
          "t": 4,
          "user": "G2"
         },
         {
          "action": "upload-dataset",
          "t": 4,
          "user": "G3"
         },
         {
          "action": "change-axis",
          "t": 4,
          "user": "M1"
         },
         {
          "action": "dynamic-class",
          "t": 4,
          "user": "M2"
         },
         {
          "action": "dynamic-class",
          "t": 4,
          "user": "M3"
         },
         {
          "action": "drag-and-drop",
          "t": 5,
          "user": "A3"
         },
         {
          "action": "representative-outlier",
          "t": 5,
          "user": "G2"
         },
         {
          "action": "dynamic-class",
          "t": 5,
          "user": "M2"
         },
         {
          "action": "ignore-xrange",
          "t": 6,
          "user": "A3"
         },
         {
          "action": "filter",
          "t": 6,
          "user": "G2"
         },
         {
          "action": "representative-outlier",
          "t": 6,
          "user": "G3"
         },
         {
          "action": "dynamic-class",
          "t": 6,
          "user": "M2"
         },
         {
          "action": "dynamic-class",
          "t": 6,
          "user": "M3"
         },
         {
          "action": "drag-and-drop",
          "t": 7,
          "user": "A1"
         },
         {
          "action": "change-metric",
          "t": 7,
          "user": "A3"
         },
         {
          "action": "drag-and-drop",
          "t": 7,
          "user": "G1"
         },
         {
          "action": "change-metric",
          "t": 8,
          "user": "G3"
         },
         {
          "action": "brush-xrange",
          "t": 8,
          "user": "M1"
         },
         {
          "action": "dynamic-class",
          "t": 8,
          "user": "M2"
         },
         {
          "action": "change-axis",
          "t": 8,
          "user": "M3"
         },
         {
          "action": "filter",
          "t": 9,
          "user": "A1"
         },
         {
          "action": "brush-xrange",
          "t": 9,
          "user": "A3"
         },
         {
          "action": "control-kmeans-clustersize",
          "t": 9,
          "user": "G3"
         },
         {
          "action": "change-axis",
          "t": 9,
          "user": "M1"
         },
         {
          "action": "filter",
          "t": 10,
          "user": "A2"
         },
         {
          "action": "change-metric",
          "t": 10,
          "user": "A3"
         },
         {
          "action": "drag-and-drop",
          "t": 10,
          "user": "G2"
         },
         {
          "action": "representative-outlier",
          "t": 10,
          "user": "G3"
         },
         {
          "action": "drag-and-drop",
          "t": 10,
          "user": "M3"
         },
         {
          "action": "drag-and-drop",
          "t": 11,
          "user": "G1"
         },
         {
          "action": "representative-outlier",
          "t": 11,
          "user": "M1"
         },
         {
          "action": "dynamic-class",
          "t": 11,
          "user": "M3"
         },
         {
          "action": "representative-outlier",
          "t": 12,
          "user": "A2"
         },
         {
          "action": "change-metric",
          "t": 12,
          "user": "A3"
         },
         {
          "action": "min-similarity-cutoff",
          "t": 12,
          "user": "G1"
         },
         {
          "action": "filter",
          "t": 12,
          "user": "G2"
         },
         {
          "action": "drag-and-drop",
          "t": 12,
          "user": "G3"
         },
         {
          "action": "drag-and-drop",
          "t": 13,
          "user": "A2"
         },
         {
          "action": "brush-xrange",
          "t": 13,
          "user": "G1"
         },
         {
          "action": "change-metric",
          "t": 13,
          "user": "M3"
         },
         {
          "action": "change-number-of-results",
          "t": 14,
          "user": "A2"
         },
         {
          "action": "export",
          "t": 14,
          "user": "G1"
         },
         {
          "action": "dynamic-class",
          "t": 14,
          "user": "M1"
         },
         {
          "action": "dynamic-class",
          "t": 14,
          "user": "M2"
         },
         {
          "action": "export",
          "t": 15,
          "user": "A2"
         },
         {
          "action": "filter",
          "t": 15,
          "user": "A3"
         },
         {
          "action": "show-scatter",
          "t": 15,
          "user": "G2"
         },
         {
          "action": "export",
          "t": 15,
          "user": "G3"
         },
         {
          "action": "drag-and-drop",
          "t": 15,
          "user": "M3"
         },
         {
          "action": "reverse-y",
          "t": 16,
          "user": "A1"
         },
         {
          "action": "filter",
          "t": 16,
          "user": "A2"
         },
         {
          "action": "control-kmeans-clustersize",
          "t": 16,
          "user": "G1"
         },
         {
          "action": "sketch-to-query",
          "t": 16,
          "user": "M2"
         },
         {
          "action": "representative-outlier",
          "t": 17,
          "user": "G3"
         },
         {
          "action": "representative-outlier",
          "t": 18,
          "user": "A2"
         },
         {
          "action": "filter",
          "t": 18,
          "user": "A3"
         },
         {
          "action": "sketch-to-query",
          "t": 18,
          "user": "G2"
         },
         {
          "action": "filter",
          "t": 18,
          "user": "M1"
         },
         {
          "action": "sketch-to-modify",
          "t": 18,
          "user": "M2"
         },
         {
          "action": "change-axis",
          "t": 18,
          "user": "M3"
         },
         {
          "action": "drag-and-drop",
          "t": 19,
          "user": "A2"
         },
         {
          "action": "drag-and-drop",
          "t": 19,
          "user": "G1"
         },
         {
          "action": "ignore-xrange",
          "t": 19,
          "user": "G3"
         },
         {
          "action": "sketch-to-query",
          "t": 19,
          "user": "M1"
         },
         {
          "action": "sketch-to-modify",
          "t": 19,
          "user": "M3"
         },
         {
          "action": "drag-and-drop",
          "t": 20,
          "user": "A1"
         },
         {
          "action": "change-number-of-results",
          "t": 20,
          "user": "A2"
         },
         {
          "action": "drag-and-drop",
          "t": 20,
          "user": "G1"
         },
         {
          "action": "show-scatter",
          "t": 20,
          "user": "M1"
         },
         {
          "action": "change-axis",
          "t": 20,
          "user": "M2"
         },
         {
          "action": "sketch-to-modify",
          "t": 20,
          "user": "M3"
         },
         {
          "action": "export",
          "t": 21,
          "user": "A2"
         },
         {
          "action": "change-axis",
          "t": 21,
          "user": "A3"
         },
         {
          "action": "ignore-xrange",
          "t": 21,
          "user": "G2"
         },
         {
          "action": "sketch-to-modify",
          "t": 21,
          "user": "M2"
         },
         {
          "action": "filter",
          "t": 22,
          "user": "A1"
         },
         {
          "action": "filter",
          "t": 22,
          "user": "A2"
         },
         {
          "action": "control-kmeans-clustersize",
          "t": 22,
          "user": "G1"
         },
         {
          "action": "sketch-to-query",
          "t": 22,
          "user": "G2"
         },
         {
          "action": "filter",
          "t": 22,
          "user": "M1"
         },
         {
          "action": "drag-and-drop",
          "t": 22,
          "user": "M2"
         },
         {
          "action": "filter",
          "t": 23,
          "user": "A3"
         },
         {
          "action": "filter",
          "t": 23,
          "user": "G2"
         },
         {
          "action": "filter",
          "t": 23,
          "user": "M1"
         },
         {
          "action": "sketch-to-modify",
          "t": 23,
          "user": "M2"
         },
         {
          "action": "drag-and-drop",
          "t": 23,
          "user": "M3"
         },
         {
          "action": "filter",
          "t": 24,
          "user": "A1"
         },
         {
          "action": "representative-outlier",
          "t": 24,
          "user": "A2"
         },
         {
          "action": "filter",
          "t": 24,
          "user": "M1"
         },
         {
          "action": "drag-and-drop",
          "t": 25,
          "user": "A2"
         },
         {
          "action": "filter",
          "t": 25,
          "user": "G2"
         },
         {
          "action": "change-number-of-results",
          "t": 26,
          "user": "A2"
         },
         {
          "action": "change-axis",
          "t": 26,
          "user": "A3"
         },
         {
          "action": "drag-and-drop",
          "t": 26,
          "user": "M2"
         },
         {
          "action": "export",
          "t": 27,
          "user": "A2"
         },
         {
          "action": "filter",
          "t": 27,
          "user": "G2"
         },
         {
          "action": "sketch-to-modify",
          "t": 27,
          "user": "M2"
         },
         {
          "action": "change-axis",
          "t": 28,
          "user": "M3"
         },
         {
          "action": "brush-xrange",
          "t": 29,
          "user": "A1"
         },
         {
          "action": "input-equation",
          "t": 29,
          "user": "A3"
         },
         {
          "action": "filter",
          "t": 29,
          "user": "G2"
         },
         {
          "action": "export",
          "t": 31,
          "user": "A3"
         },
         {
          "action": "representative-outlier",
          "t": 31,
          "user": "G2"
         },
         {
          "action": "dynamic-class",
          "t": 32,
          "user": "M2"
         },
         {
          "action": "smoothing",
          "t": 33,
          "user": "G2"
         },
         {
          "action": "dynamic-class",
          "t": 34,
          "user": "A2"
         },
         {
          "action": "smoothing",
          "t": 34,
          "user": "G2"
         },
         {
          "action": "representative-outlier",
          "t": 35,
          "user": "M2"
         },
         {
          "action": "filter",
          "t": 36,
          "user": "A1"
         },
         {
          "action": "pattern-upload",
          "t": 36,
          "user": "G2"
         },
         {
          "action": "filter",
          "t": 36,
          "user": "M2"
         },
         {
          "action": "filter",
          "t": 37,
          "user": "A1"
         },
         {
          "action": "change-axis",
          "t": 37,
          "user": "A2"
         },
         {
          "action": "ignore-xrange",
          "t": 38,
          "user": "A2"
         },
         {
          "action": "change-axis",
          "t": 38,
          "user": "M2"
         },
         {
          "action": "smoothing",
          "t": 39,
          "user": "A1"
         },
         {
          "action": "filter",
          "t": 39,
          "user": "G2"
         },
         {
          "action": "sketch-to-query",
          "t": 40,
          "user": "A1"
         },
         {
          "action": "drag-and-drop",
          "t": 40,
          "user": "G2"
         },
         {
          "action": "sketch-to-query",
          "t": 41,
          "user": "A1"
         },
         {
          "action": "filter",
          "t": 42,
          "user": "A1"
         },
         {
          "action": "export",
          "t": 43,
          "user": "G2"
         },
         {
          "action": "drag-and-drop",
          "t": 44,
          "user": "A2"
         },
         {
          "action": "representative-outlier",
          "t": 44,
          "user": "G2"
         },
         {
          "action": "brush-xrange",
          "t": 46,
          "user": "A2"
         },
         {
          "action": "export",
          "t": 46,
          "user": "G2"
         },
         {
          "action": "brush-xrange",
          "t": 48,
          "user": "G2"
         },
         {
          "action": "dynamic-class",
          "t": 50,
          "user": "A1"
         },
         {
          "action": "upload-dataset",
          "t": 50,
          "user": "G2"
         },
         {
          "action": "dynamic-class",
          "t": 51,
          "user": "A1"
         },
         {
          "action": "smoothing",
          "t": 51,
          "user": "G2"
         },
         {
          "action": "control-kmeans-clustersize",
          "t": 52,
          "user": "G2"
         },
         {
          "action": "dynamic-class",
          "t": 53,
          "user": "A1"
         },
         {
          "action": "representative-outlier",
          "t": 53,
          "user": "G2"
         },
         {
          "action": "filter",
          "t": 55,
          "user": "A1"
         },
         {
          "action": "pattern-upload",
          "t": 58,
          "user": "A1"
         },
         {
          "action": "export",
          "t": 59,
          "user": "A1"
         },
         {
          "action": "dynamic-class",
          "t": 61,
          "user": "A1"
         },
         {
          "action": "filter",
          "t": 63,
          "user": "A1"
         },
         {
          "action": "pattern-upload",
          "t": 66,
          "user": "A1"
         },
         {
          "action": "export",
          "t": 67,
          "user": "A1"
         }
        ]
       },
       "encoding": {
        "color": {
         "field": "action",
         "type": "nominal"
        },
        "x": {
         "field": "t",
         "type": "quantitative"
        },
        "y": {
         "field": "user",
         "type": "nominal"
        }
       },
       "mark": "circle"
      },
      "image/png": "[encoded data removed]",
      "text/plain": [
       "<VegaLite 2 object>\n",
       "\n",
       "If you see this message, it means the renderer has not been properly enabled\n",
       "for the frontend that you are using. For more information, see\n",
       "https://altair-viz.github.io/user_guide/troubleshooting.html\n"
      ]
     },
     "execution_count": 9,
     "metadata": {},
     "output_type": "execute_result"
    }
   ],
   "source": [
    "df_feature = df[df.action.isin(featureOnly)]\n",
    "alt.Chart(df_feature).mark_circle().encode(        \n",
    "    color='action',\n",
    "    y=\"user\",\n",
    "    x='t'\n",
    ")"
   ]
  },
  {
   "cell_type": "code",
   "execution_count": 10,
   "metadata": {},
   "outputs": [],
   "source": [
    "# df_feature = df[~df.action.isin(featureOnly)]"
   ]
  },
  {
   "cell_type": "markdown",
   "metadata": {},
   "source": [
    "# Key Components"
   ]
  },
  {
   "cell_type": "code",
   "execution_count": 11,
   "metadata": {},
   "outputs": [],
   "source": [
    "component_dict = {\n",
    "     'pattern-upload':'concept-query',\n",
    "     'sketch-to-modify':'exact-specification',\n",
    "     'drag-and-drop':'result-querying',\n",
    "     'change-metric':'flexible-matching',\n",
    "     'filter':'filter-selection',\n",
    "     'brush-xrange':'range-selection',\n",
    "     'min-similarity-cutoff':'control',\n",
    "     'smoothing':'approx-shape-specification',\n",
    "     'ignore-xrange':'approx-shape-specification',\n",
    "     'representative-outlier':'recommendation',\n",
    "     'dynamic-class':'group-comparison',\n",
    "     'sketch-to-query':'exact-specification',\n",
    "     'reverse-y':'control',\n",
    "     'input-equation':'exact-specification',\n",
    "     'upload-dataset':'control',\n",
    "     'show-scatter':'control',\n",
    "     'export':'control',\n",
    "     'change-number-of-results':'control',\n",
    "     'control-kmeans-clustersize':'recommendation',\n",
    "     'change-axis':'control'\n",
    "}"
   ]
  },
  {
   "cell_type": "code",
   "execution_count": 12,
   "metadata": {},
   "outputs": [
    {
     "name": "stderr",
     "output_type": "stream",
     "text": [
      "/Users/dorislee/.virtualenvs/py37env/lib/python3.7/site-packages/ipykernel_launcher.py:2: SettingWithCopyWarning: \n",
      "A value is trying to be set on a copy of a slice from a DataFrame.\n",
      "Try using .loc[row_indexer,col_indexer] = value instead\n",
      "\n",
      "See the caveats in the documentation: http://pandas.pydata.org/pandas-docs/stable/indexing.html#indexing-view-versus-copy\n",
      "  \n"
     ]
    }
   ],
   "source": [
    "df_component = df_feature\n",
    "df_component[\"action\"] = df_feature[\"action\"].replace(component_dict)\n",
    "df_component= df_component.rename(index=str,columns={\"action\":\"component\"})"
   ]
  },
  {
   "cell_type": "code",
   "execution_count": 13,
   "metadata": {},
   "outputs": [],
   "source": [
    "# df_component = df_component[df_component[\"component\"]!=\"control\"] #remove control in list of components"
   ]
  },
  {
   "cell_type": "code",
   "execution_count": 14,
   "metadata": {},
   "outputs": [
    {
     "data": {
      "application/vnd.vegalite.v2+json": {
       "$schema": "https://vega.github.io/schema/vega-lite/v2.6.0.json",
       "config": {
        "view": {
         "height": 300,
         "width": 400
        }
       },
       "data": {
        "name": "data-30e977babeee01f0fd931c7aacdf70f2"
       },
       "datasets": {
        "data-30e977babeee01f0fd931c7aacdf70f2": [
         {
          "component": "filter-selection",
          "t": 0,
          "user": "A1"
         },
         {
          "component": "filter-selection",
          "t": 0,
          "user": "A2"
         },
         {
          "component": "result-querying",
          "t": 0,
          "user": "A3"
         },
         {
          "component": "recommendation",
          "t": 0,
          "user": "G1"
         },
         {
          "component": "recommendation",
          "t": 0,
          "user": "G2"
         },
         {
          "component": "control",
          "t": 0,
          "user": "M2"
         },
         {
          "component": "group-comparison",
          "t": 0,
          "user": "M3"
         },
         {
          "component": "filter-selection",
          "t": 1,
          "user": "A1"
         },
         {
          "component": "result-querying",
          "t": 1,
          "user": "A3"
         },
         {
          "component": "recommendation",
          "t": 1,
          "user": "G1"
         },
         {
          "component": "exact-specification",
          "t": 1,
          "user": "M1"
         },
         {
          "component": "control",
          "t": 1,
          "user": "M2"
         },
         {
          "component": "filter-selection",
          "t": 2,
          "user": "A1"
         },
         {
          "component": "exact-specification",
          "t": 2,
          "user": "A3"
         },
         {
          "component": "recommendation",
          "t": 2,
          "user": "G1"
         },
         {
          "component": "approx-shape-specification",
          "t": 2,
          "user": "M1"
         },
         {
          "component": "control",
          "t": 2,
          "user": "M3"
         },
         {
          "component": "filter-selection",
          "t": 3,
          "user": "A1"
         },
         {
          "component": "recommendation",
          "t": 3,
          "user": "A2"
         },
         {
          "component": "approx-shape-specification",
          "t": 3,
          "user": "A3"
         },
         {
          "component": "recommendation",
          "t": 3,
          "user": "G1"
         },
         {
          "component": "recommendation",
          "t": 3,
          "user": "G2"
         },
         {
          "component": "control",
          "t": 3,
          "user": "G3"
         },
         {
          "component": "group-comparison",
          "t": 3,
          "user": "M2"
         },
         {
          "component": "result-querying",
          "t": 4,
          "user": "A2"
         },
         {
          "component": "recommendation",
          "t": 4,
          "user": "G2"
         },
         {
          "component": "control",
          "t": 4,
          "user": "G3"
         },
         {
          "component": "control",
          "t": 4,
          "user": "M1"
         },
         {
          "component": "group-comparison",
          "t": 4,
          "user": "M2"
         },
         {
          "component": "group-comparison",
          "t": 4,
          "user": "M3"
         },
         {
          "component": "result-querying",
          "t": 5,
          "user": "A3"
         },
         {
          "component": "recommendation",
          "t": 5,
          "user": "G2"
         },
         {
          "component": "group-comparison",
          "t": 5,
          "user": "M2"
         },
         {
          "component": "approx-shape-specification",
          "t": 6,
          "user": "A3"
         },
         {
          "component": "filter-selection",
          "t": 6,
          "user": "G2"
         },
         {
          "component": "recommendation",
          "t": 6,
          "user": "G3"
         },
         {
          "component": "group-comparison",
          "t": 6,
          "user": "M2"
         },
         {
          "component": "group-comparison",
          "t": 6,
          "user": "M3"
         },
         {
          "component": "result-querying",
          "t": 7,
          "user": "A1"
         },
         {
          "component": "flexible-matching",
          "t": 7,
          "user": "A3"
         },
         {
          "component": "result-querying",
          "t": 7,
          "user": "G1"
         },
         {
          "component": "flexible-matching",
          "t": 8,
          "user": "G3"
         },
         {
          "component": "range-selection",
          "t": 8,
          "user": "M1"
         },
         {
          "component": "group-comparison",
          "t": 8,
          "user": "M2"
         },
         {
          "component": "control",
          "t": 8,
          "user": "M3"
         },
         {
          "component": "filter-selection",
          "t": 9,
          "user": "A1"
         },
         {
          "component": "range-selection",
          "t": 9,
          "user": "A3"
         },
         {
          "component": "recommendation",
          "t": 9,
          "user": "G3"
         },
         {
          "component": "control",
          "t": 9,
          "user": "M1"
         },
         {
          "component": "filter-selection",
          "t": 10,
          "user": "A2"
         },
         {
          "component": "flexible-matching",
          "t": 10,
          "user": "A3"
         },
         {
          "component": "result-querying",
          "t": 10,
          "user": "G2"
         },
         {
          "component": "recommendation",
          "t": 10,
          "user": "G3"
         },
         {
          "component": "result-querying",
          "t": 10,
          "user": "M3"
         },
         {
          "component": "result-querying",
          "t": 11,
          "user": "G1"
         },
         {
          "component": "recommendation",
          "t": 11,
          "user": "M1"
         },
         {
          "component": "group-comparison",
          "t": 11,
          "user": "M3"
         },
         {
          "component": "recommendation",
          "t": 12,
          "user": "A2"
         },
         {
          "component": "flexible-matching",
          "t": 12,
          "user": "A3"
         },
         {
          "component": "control",
          "t": 12,
          "user": "G1"
         },
         {
          "component": "filter-selection",
          "t": 12,
          "user": "G2"
         },
         {
          "component": "result-querying",
          "t": 12,
          "user": "G3"
         },
         {
          "component": "result-querying",
          "t": 13,
          "user": "A2"
         },
         {
          "component": "range-selection",
          "t": 13,
          "user": "G1"
         },
         {
          "component": "flexible-matching",
          "t": 13,
          "user": "M3"
         },
         {
          "component": "control",
          "t": 14,
          "user": "A2"
         },
         {
          "component": "control",
          "t": 14,
          "user": "G1"
         },
         {
          "component": "group-comparison",
          "t": 14,
          "user": "M1"
         },
         {
          "component": "group-comparison",
          "t": 14,
          "user": "M2"
         },
         {
          "component": "control",
          "t": 15,
          "user": "A2"
         },
         {
          "component": "filter-selection",
          "t": 15,
          "user": "A3"
         },
         {
          "component": "control",
          "t": 15,
          "user": "G2"
         },
         {
          "component": "control",
          "t": 15,
          "user": "G3"
         },
         {
          "component": "result-querying",
          "t": 15,
          "user": "M3"
         },
         {
          "component": "control",
          "t": 16,
          "user": "A1"
         },
         {
          "component": "filter-selection",
          "t": 16,
          "user": "A2"
         },
         {
          "component": "recommendation",
          "t": 16,
          "user": "G1"
         },
         {
          "component": "exact-specification",
          "t": 16,
          "user": "M2"
         },
         {
          "component": "recommendation",
          "t": 17,
          "user": "G3"
         },
         {
          "component": "recommendation",
          "t": 18,
          "user": "A2"
         },
         {
          "component": "filter-selection",
          "t": 18,
          "user": "A3"
         },
         {
          "component": "exact-specification",
          "t": 18,
          "user": "G2"
         },
         {
          "component": "filter-selection",
          "t": 18,
          "user": "M1"
         },
         {
          "component": "exact-specification",
          "t": 18,
          "user": "M2"
         },
         {
          "component": "control",
          "t": 18,
          "user": "M3"
         },
         {
          "component": "result-querying",
          "t": 19,
          "user": "A2"
         },
         {
          "component": "result-querying",
          "t": 19,
          "user": "G1"
         },
         {
          "component": "approx-shape-specification",
          "t": 19,
          "user": "G3"
         },
         {
          "component": "exact-specification",
          "t": 19,
          "user": "M1"
         },
         {
          "component": "exact-specification",
          "t": 19,
          "user": "M3"
         },
         {
          "component": "result-querying",
          "t": 20,
          "user": "A1"
         },
         {
          "component": "control",
          "t": 20,
          "user": "A2"
         },
         {
          "component": "result-querying",
          "t": 20,
          "user": "G1"
         },
         {
          "component": "control",
          "t": 20,
          "user": "M1"
         },
         {
          "component": "control",
          "t": 20,
          "user": "M2"
         },
         {
          "component": "exact-specification",
          "t": 20,
          "user": "M3"
         },
         {
          "component": "control",
          "t": 21,
          "user": "A2"
         },
         {
          "component": "control",
          "t": 21,
          "user": "A3"
         },
         {
          "component": "approx-shape-specification",
          "t": 21,
          "user": "G2"
         },
         {
          "component": "exact-specification",
          "t": 21,
          "user": "M2"
         },
         {
          "component": "filter-selection",
          "t": 22,
          "user": "A1"
         },
         {
          "component": "filter-selection",
          "t": 22,
          "user": "A2"
         },
         {
          "component": "recommendation",
          "t": 22,
          "user": "G1"
         },
         {
          "component": "exact-specification",
          "t": 22,
          "user": "G2"
         },
         {
          "component": "filter-selection",
          "t": 22,
          "user": "M1"
         },
         {
          "component": "result-querying",
          "t": 22,
          "user": "M2"
         },
         {
          "component": "filter-selection",
          "t": 23,
          "user": "A3"
         },
         {
          "component": "filter-selection",
          "t": 23,
          "user": "G2"
         },
         {
          "component": "filter-selection",
          "t": 23,
          "user": "M1"
         },
         {
          "component": "exact-specification",
          "t": 23,
          "user": "M2"
         },
         {
          "component": "result-querying",
          "t": 23,
          "user": "M3"
         },
         {
          "component": "filter-selection",
          "t": 24,
          "user": "A1"
         },
         {
          "component": "recommendation",
          "t": 24,
          "user": "A2"
         },
         {
          "component": "filter-selection",
          "t": 24,
          "user": "M1"
         },
         {
          "component": "result-querying",
          "t": 25,
          "user": "A2"
         },
         {
          "component": "filter-selection",
          "t": 25,
          "user": "G2"
         },
         {
          "component": "control",
          "t": 26,
          "user": "A2"
         },
         {
          "component": "control",
          "t": 26,
          "user": "A3"
         },
         {
          "component": "result-querying",
          "t": 26,
          "user": "M2"
         },
         {
          "component": "control",
          "t": 27,
          "user": "A2"
         },
         {
          "component": "filter-selection",
          "t": 27,
          "user": "G2"
         },
         {
          "component": "exact-specification",
          "t": 27,
          "user": "M2"
         },
         {
          "component": "control",
          "t": 28,
          "user": "M3"
         },
         {
          "component": "range-selection",
          "t": 29,
          "user": "A1"
         },
         {
          "component": "exact-specification",
          "t": 29,
          "user": "A3"
         },
         {
          "component": "filter-selection",
          "t": 29,
          "user": "G2"
         },
         {
          "component": "control",
          "t": 31,
          "user": "A3"
         },
         {
          "component": "recommendation",
          "t": 31,
          "user": "G2"
         },
         {
          "component": "group-comparison",
          "t": 32,
          "user": "M2"
         },
         {
          "component": "approx-shape-specification",
          "t": 33,
          "user": "G2"
         },
         {
          "component": "group-comparison",
          "t": 34,
          "user": "A2"
         },
         {
          "component": "approx-shape-specification",
          "t": 34,
          "user": "G2"
         },
         {
          "component": "recommendation",
          "t": 35,
          "user": "M2"
         },
         {
          "component": "filter-selection",
          "t": 36,
          "user": "A1"
         },
         {
          "component": "concept-query",
          "t": 36,
          "user": "G2"
         },
         {
          "component": "filter-selection",
          "t": 36,
          "user": "M2"
         },
         {
          "component": "filter-selection",
          "t": 37,
          "user": "A1"
         },
         {
          "component": "control",
          "t": 37,
          "user": "A2"
         },
         {
          "component": "approx-shape-specification",
          "t": 38,
          "user": "A2"
         },
         {
          "component": "control",
          "t": 38,
          "user": "M2"
         },
         {
          "component": "approx-shape-specification",
          "t": 39,
          "user": "A1"
         },
         {
          "component": "filter-selection",
          "t": 39,
          "user": "G2"
         },
         {
          "component": "exact-specification",
          "t": 40,
          "user": "A1"
         },
         {
          "component": "result-querying",
          "t": 40,
          "user": "G2"
         },
         {
          "component": "exact-specification",
          "t": 41,
          "user": "A1"
         },
         {
          "component": "filter-selection",
          "t": 42,
          "user": "A1"
         },
         {
          "component": "control",
          "t": 43,
          "user": "G2"
         },
         {
          "component": "result-querying",
          "t": 44,
          "user": "A2"
         },
         {
          "component": "recommendation",
          "t": 44,
          "user": "G2"
         },
         {
          "component": "range-selection",
          "t": 46,
          "user": "A2"
         },
         {
          "component": "control",
          "t": 46,
          "user": "G2"
         },
         {
          "component": "range-selection",
          "t": 48,
          "user": "G2"
         },
         {
          "component": "group-comparison",
          "t": 50,
          "user": "A1"
         },
         {
          "component": "control",
          "t": 50,
          "user": "G2"
         },
         {
          "component": "group-comparison",
          "t": 51,
          "user": "A1"
         },
         {
          "component": "approx-shape-specification",
          "t": 51,
          "user": "G2"
         },
         {
          "component": "recommendation",
          "t": 52,
          "user": "G2"
         },
         {
          "component": "group-comparison",
          "t": 53,
          "user": "A1"
         },
         {
          "component": "recommendation",
          "t": 53,
          "user": "G2"
         },
         {
          "component": "filter-selection",
          "t": 55,
          "user": "A1"
         },
         {
          "component": "concept-query",
          "t": 58,
          "user": "A1"
         },
         {
          "component": "control",
          "t": 59,
          "user": "A1"
         },
         {
          "component": "group-comparison",
          "t": 61,
          "user": "A1"
         },
         {
          "component": "filter-selection",
          "t": 63,
          "user": "A1"
         },
         {
          "component": "concept-query",
          "t": 66,
          "user": "A1"
         },
         {
          "component": "control",
          "t": 67,
          "user": "A1"
         }
        ]
       },
       "encoding": {
        "color": {
         "field": "component",
         "type": "nominal"
        },
        "x": {
         "field": "t",
         "type": "quantitative"
        },
        "y": {
         "field": "user",
         "type": "nominal"
        }
       },
       "mark": "circle"
      },
      "image/png": "[encoded data removed]",
      "text/plain": [
       "<VegaLite 2 object>\n",
       "\n",
       "If you see this message, it means the renderer has not been properly enabled\n",
       "for the frontend that you are using. For more information, see\n",
       "https://altair-viz.github.io/user_guide/troubleshooting.html\n"
      ]
     },
     "execution_count": 14,
     "metadata": {},
     "output_type": "execute_result"
    }
   ],
   "source": [
    "alt.Chart(df_component).mark_circle().encode(        \n",
    "    color='component',\n",
    "    y=\"user\",\n",
    "    x='t'\n",
    ")"
   ]
  },
  {
   "cell_type": "markdown",
   "metadata": {},
   "source": [
    "# Adding some event action information back in"
   ]
  },
  {
   "cell_type": "code",
   "execution_count": 15,
   "metadata": {},
   "outputs": [],
   "source": [
    "component_chart = alt.Chart(df_component).mark_circle().encode(        \n",
    "    color='component',\n",
    "    y=\"user\",\n",
    "    x='t'\n",
    ")"
   ]
  },
  {
   "cell_type": "code",
   "execution_count": 16,
   "metadata": {},
   "outputs": [],
   "source": [
    "df_break = df[df.action.isin([\"BR\"])]\n",
    "break_chart = alt.Chart(df_break).mark_tick(thickness=2,color=\"black\").encode(        \n",
    "    y=\"user\",\n",
    "    x='t'\n",
    ")"
   ]
  },
  {
   "cell_type": "code",
   "execution_count": 17,
   "metadata": {},
   "outputs": [
    {
     "name": "stderr",
     "output_type": "stream",
     "text": [
      "/Users/dorislee/.virtualenvs/py37env/lib/python3.7/site-packages/pandas/core/indexing.py:543: SettingWithCopyWarning: \n",
      "A value is trying to be set on a copy of a slice from a DataFrame.\n",
      "Try using .loc[row_indexer,col_indexer] = value instead\n",
      "\n",
      "See the caveats in the documentation: http://pandas.pydata.org/pandas-docs/stable/indexing.html#indexing-view-versus-copy\n",
      "  self.obj[item] = s\n"
     ]
    }
   ],
   "source": [
    "df_insight = df[df.action.isin([\"IS\",\"ID\"])]\n",
    "df_insight.loc[df_insight[\"action\"]==\"ID\",\"action\"]=\"data insight\"\n",
    "df_insight.loc[df_insight[\"action\"]==\"IS\",\"action\"]=\"scientific insight\"\n",
    "insight_chart = alt.Chart(df_insight).mark_point(shape=\"diamond\",color=\"red\").encode(        \n",
    "    alt.Y(\"user\",title=\"Participant\"),\n",
    "    alt.X(\"t\",title=\"Timepoint\"),\n",
    "    shape='action' #make no distinction between data and science insights\n",
    ")\n"
   ]
  },
  {
   "cell_type": "code",
   "execution_count": 18,
   "metadata": {},
   "outputs": [
    {
     "data": {
      "application/vnd.vegalite.v2+json": {
       "$schema": "https://vega.github.io/schema/vega-lite/v2.6.0.json",
       "config": {
        "view": {
         "height": 300,
         "width": 400
        }
       },
       "datasets": {
        "data-30e977babeee01f0fd931c7aacdf70f2": [
         {
          "component": "filter-selection",
          "t": 0,
          "user": "A1"
         },
         {
          "component": "filter-selection",
          "t": 0,
          "user": "A2"
         },
         {
          "component": "result-querying",
          "t": 0,
          "user": "A3"
         },
         {
          "component": "recommendation",
          "t": 0,
          "user": "G1"
         },
         {
          "component": "recommendation",
          "t": 0,
          "user": "G2"
         },
         {
          "component": "control",
          "t": 0,
          "user": "M2"
         },
         {
          "component": "group-comparison",
          "t": 0,
          "user": "M3"
         },
         {
          "component": "filter-selection",
          "t": 1,
          "user": "A1"
         },
         {
          "component": "result-querying",
          "t": 1,
          "user": "A3"
         },
         {
          "component": "recommendation",
          "t": 1,
          "user": "G1"
         },
         {
          "component": "exact-specification",
          "t": 1,
          "user": "M1"
         },
         {
          "component": "control",
          "t": 1,
          "user": "M2"
         },
         {
          "component": "filter-selection",
          "t": 2,
          "user": "A1"
         },
         {
          "component": "exact-specification",
          "t": 2,
          "user": "A3"
         },
         {
          "component": "recommendation",
          "t": 2,
          "user": "G1"
         },
         {
          "component": "approx-shape-specification",
          "t": 2,
          "user": "M1"
         },
         {
          "component": "control",
          "t": 2,
          "user": "M3"
         },
         {
          "component": "filter-selection",
          "t": 3,
          "user": "A1"
         },
         {
          "component": "recommendation",
          "t": 3,
          "user": "A2"
         },
         {
          "component": "approx-shape-specification",
          "t": 3,
          "user": "A3"
         },
         {
          "component": "recommendation",
          "t": 3,
          "user": "G1"
         },
         {
          "component": "recommendation",
          "t": 3,
          "user": "G2"
         },
         {
          "component": "control",
          "t": 3,
          "user": "G3"
         },
         {
          "component": "group-comparison",
          "t": 3,
          "user": "M2"
         },
         {
          "component": "result-querying",
          "t": 4,
          "user": "A2"
         },
         {
          "component": "recommendation",
          "t": 4,
          "user": "G2"
         },
         {
          "component": "control",
          "t": 4,
          "user": "G3"
         },
         {
          "component": "control",
          "t": 4,
          "user": "M1"
         },
         {
          "component": "group-comparison",
          "t": 4,
          "user": "M2"
         },
         {
          "component": "group-comparison",
          "t": 4,
          "user": "M3"
         },
         {
          "component": "result-querying",
          "t": 5,
          "user": "A3"
         },
         {
          "component": "recommendation",
          "t": 5,
          "user": "G2"
         },
         {
          "component": "group-comparison",
          "t": 5,
          "user": "M2"
         },
         {
          "component": "approx-shape-specification",
          "t": 6,
          "user": "A3"
         },
         {
          "component": "filter-selection",
          "t": 6,
          "user": "G2"
         },
         {
          "component": "recommendation",
          "t": 6,
          "user": "G3"
         },
         {
          "component": "group-comparison",
          "t": 6,
          "user": "M2"
         },
         {
          "component": "group-comparison",
          "t": 6,
          "user": "M3"
         },
         {
          "component": "result-querying",
          "t": 7,
          "user": "A1"
         },
         {
          "component": "flexible-matching",
          "t": 7,
          "user": "A3"
         },
         {
          "component": "result-querying",
          "t": 7,
          "user": "G1"
         },
         {
          "component": "flexible-matching",
          "t": 8,
          "user": "G3"
         },
         {
          "component": "range-selection",
          "t": 8,
          "user": "M1"
         },
         {
          "component": "group-comparison",
          "t": 8,
          "user": "M2"
         },
         {
          "component": "control",
          "t": 8,
          "user": "M3"
         },
         {
          "component": "filter-selection",
          "t": 9,
          "user": "A1"
         },
         {
          "component": "range-selection",
          "t": 9,
          "user": "A3"
         },
         {
          "component": "recommendation",
          "t": 9,
          "user": "G3"
         },
         {
          "component": "control",
          "t": 9,
          "user": "M1"
         },
         {
          "component": "filter-selection",
          "t": 10,
          "user": "A2"
         },
         {
          "component": "flexible-matching",
          "t": 10,
          "user": "A3"
         },
         {
          "component": "result-querying",
          "t": 10,
          "user": "G2"
         },
         {
          "component": "recommendation",
          "t": 10,
          "user": "G3"
         },
         {
          "component": "result-querying",
          "t": 10,
          "user": "M3"
         },
         {
          "component": "result-querying",
          "t": 11,
          "user": "G1"
         },
         {
          "component": "recommendation",
          "t": 11,
          "user": "M1"
         },
         {
          "component": "group-comparison",
          "t": 11,
          "user": "M3"
         },
         {
          "component": "recommendation",
          "t": 12,
          "user": "A2"
         },
         {
          "component": "flexible-matching",
          "t": 12,
          "user": "A3"
         },
         {
          "component": "control",
          "t": 12,
          "user": "G1"
         },
         {
          "component": "filter-selection",
          "t": 12,
          "user": "G2"
         },
         {
          "component": "result-querying",
          "t": 12,
          "user": "G3"
         },
         {
          "component": "result-querying",
          "t": 13,
          "user": "A2"
         },
         {
          "component": "range-selection",
          "t": 13,
          "user": "G1"
         },
         {
          "component": "flexible-matching",
          "t": 13,
          "user": "M3"
         },
         {
          "component": "control",
          "t": 14,
          "user": "A2"
         },
         {
          "component": "control",
          "t": 14,
          "user": "G1"
         },
         {
          "component": "group-comparison",
          "t": 14,
          "user": "M1"
         },
         {
          "component": "group-comparison",
          "t": 14,
          "user": "M2"
         },
         {
          "component": "control",
          "t": 15,
          "user": "A2"
         },
         {
          "component": "filter-selection",
          "t": 15,
          "user": "A3"
         },
         {
          "component": "control",
          "t": 15,
          "user": "G2"
         },
         {
          "component": "control",
          "t": 15,
          "user": "G3"
         },
         {
          "component": "result-querying",
          "t": 15,
          "user": "M3"
         },
         {
          "component": "control",
          "t": 16,
          "user": "A1"
         },
         {
          "component": "filter-selection",
          "t": 16,
          "user": "A2"
         },
         {
          "component": "recommendation",
          "t": 16,
          "user": "G1"
         },
         {
          "component": "exact-specification",
          "t": 16,
          "user": "M2"
         },
         {
          "component": "recommendation",
          "t": 17,
          "user": "G3"
         },
         {
          "component": "recommendation",
          "t": 18,
          "user": "A2"
         },
         {
          "component": "filter-selection",
          "t": 18,
          "user": "A3"
         },
         {
          "component": "exact-specification",
          "t": 18,
          "user": "G2"
         },
         {
          "component": "filter-selection",
          "t": 18,
          "user": "M1"
         },
         {
          "component": "exact-specification",
          "t": 18,
          "user": "M2"
         },
         {
          "component": "control",
          "t": 18,
          "user": "M3"
         },
         {
          "component": "result-querying",
          "t": 19,
          "user": "A2"
         },
         {
          "component": "result-querying",
          "t": 19,
          "user": "G1"
         },
         {
          "component": "approx-shape-specification",
          "t": 19,
          "user": "G3"
         },
         {
          "component": "exact-specification",
          "t": 19,
          "user": "M1"
         },
         {
          "component": "exact-specification",
          "t": 19,
          "user": "M3"
         },
         {
          "component": "result-querying",
          "t": 20,
          "user": "A1"
         },
         {
          "component": "control",
          "t": 20,
          "user": "A2"
         },
         {
          "component": "result-querying",
          "t": 20,
          "user": "G1"
         },
         {
          "component": "control",
          "t": 20,
          "user": "M1"
         },
         {
          "component": "control",
          "t": 20,
          "user": "M2"
         },
         {
          "component": "exact-specification",
          "t": 20,
          "user": "M3"
         },
         {
          "component": "control",
          "t": 21,
          "user": "A2"
         },
         {
          "component": "control",
          "t": 21,
          "user": "A3"
         },
         {
          "component": "approx-shape-specification",
          "t": 21,
          "user": "G2"
         },
         {
          "component": "exact-specification",
          "t": 21,
          "user": "M2"
         },
         {
          "component": "filter-selection",
          "t": 22,
          "user": "A1"
         },
         {
          "component": "filter-selection",
          "t": 22,
          "user": "A2"
         },
         {
          "component": "recommendation",
          "t": 22,
          "user": "G1"
         },
         {
          "component": "exact-specification",
          "t": 22,
          "user": "G2"
         },
         {
          "component": "filter-selection",
          "t": 22,
          "user": "M1"
         },
         {
          "component": "result-querying",
          "t": 22,
          "user": "M2"
         },
         {
          "component": "filter-selection",
          "t": 23,
          "user": "A3"
         },
         {
          "component": "filter-selection",
          "t": 23,
          "user": "G2"
         },
         {
          "component": "filter-selection",
          "t": 23,
          "user": "M1"
         },
         {
          "component": "exact-specification",
          "t": 23,
          "user": "M2"
         },
         {
          "component": "result-querying",
          "t": 23,
          "user": "M3"
         },
         {
          "component": "filter-selection",
          "t": 24,
          "user": "A1"
         },
         {
          "component": "recommendation",
          "t": 24,
          "user": "A2"
         },
         {
          "component": "filter-selection",
          "t": 24,
          "user": "M1"
         },
         {
          "component": "result-querying",
          "t": 25,
          "user": "A2"
         },
         {
          "component": "filter-selection",
          "t": 25,
          "user": "G2"
         },
         {
          "component": "control",
          "t": 26,
          "user": "A2"
         },
         {
          "component": "control",
          "t": 26,
          "user": "A3"
         },
         {
          "component": "result-querying",
          "t": 26,
          "user": "M2"
         },
         {
          "component": "control",
          "t": 27,
          "user": "A2"
         },
         {
          "component": "filter-selection",
          "t": 27,
          "user": "G2"
         },
         {
          "component": "exact-specification",
          "t": 27,
          "user": "M2"
         },
         {
          "component": "control",
          "t": 28,
          "user": "M3"
         },
         {
          "component": "range-selection",
          "t": 29,
          "user": "A1"
         },
         {
          "component": "exact-specification",
          "t": 29,
          "user": "A3"
         },
         {
          "component": "filter-selection",
          "t": 29,
          "user": "G2"
         },
         {
          "component": "control",
          "t": 31,
          "user": "A3"
         },
         {
          "component": "recommendation",
          "t": 31,
          "user": "G2"
         },
         {
          "component": "group-comparison",
          "t": 32,
          "user": "M2"
         },
         {
          "component": "approx-shape-specification",
          "t": 33,
          "user": "G2"
         },
         {
          "component": "group-comparison",
          "t": 34,
          "user": "A2"
         },
         {
          "component": "approx-shape-specification",
          "t": 34,
          "user": "G2"
         },
         {
          "component": "recommendation",
          "t": 35,
          "user": "M2"
         },
         {
          "component": "filter-selection",
          "t": 36,
          "user": "A1"
         },
         {
          "component": "concept-query",
          "t": 36,
          "user": "G2"
         },
         {
          "component": "filter-selection",
          "t": 36,
          "user": "M2"
         },
         {
          "component": "filter-selection",
          "t": 37,
          "user": "A1"
         },
         {
          "component": "control",
          "t": 37,
          "user": "A2"
         },
         {
          "component": "approx-shape-specification",
          "t": 38,
          "user": "A2"
         },
         {
          "component": "control",
          "t": 38,
          "user": "M2"
         },
         {
          "component": "approx-shape-specification",
          "t": 39,
          "user": "A1"
         },
         {
          "component": "filter-selection",
          "t": 39,
          "user": "G2"
         },
         {
          "component": "exact-specification",
          "t": 40,
          "user": "A1"
         },
         {
          "component": "result-querying",
          "t": 40,
          "user": "G2"
         },
         {
          "component": "exact-specification",
          "t": 41,
          "user": "A1"
         },
         {
          "component": "filter-selection",
          "t": 42,
          "user": "A1"
         },
         {
          "component": "control",
          "t": 43,
          "user": "G2"
         },
         {
          "component": "result-querying",
          "t": 44,
          "user": "A2"
         },
         {
          "component": "recommendation",
          "t": 44,
          "user": "G2"
         },
         {
          "component": "range-selection",
          "t": 46,
          "user": "A2"
         },
         {
          "component": "control",
          "t": 46,
          "user": "G2"
         },
         {
          "component": "range-selection",
          "t": 48,
          "user": "G2"
         },
         {
          "component": "group-comparison",
          "t": 50,
          "user": "A1"
         },
         {
          "component": "control",
          "t": 50,
          "user": "G2"
         },
         {
          "component": "group-comparison",
          "t": 51,
          "user": "A1"
         },
         {
          "component": "approx-shape-specification",
          "t": 51,
          "user": "G2"
         },
         {
          "component": "recommendation",
          "t": 52,
          "user": "G2"
         },
         {
          "component": "group-comparison",
          "t": 53,
          "user": "A1"
         },
         {
          "component": "recommendation",
          "t": 53,
          "user": "G2"
         },
         {
          "component": "filter-selection",
          "t": 55,
          "user": "A1"
         },
         {
          "component": "concept-query",
          "t": 58,
          "user": "A1"
         },
         {
          "component": "control",
          "t": 59,
          "user": "A1"
         },
         {
          "component": "group-comparison",
          "t": 61,
          "user": "A1"
         },
         {
          "component": "filter-selection",
          "t": 63,
          "user": "A1"
         },
         {
          "component": "concept-query",
          "t": 66,
          "user": "A1"
         },
         {
          "component": "control",
          "t": 67,
          "user": "A1"
         }
        ],
        "data-75fb1ff2c86777f7e12beda95db8c463": [
         {
          "action": "BR",
          "t": 2,
          "user": "G2"
         },
         {
          "action": "BR",
          "t": 4,
          "user": "A3"
         },
         {
          "action": "BR",
          "t": 5,
          "user": "G3"
         },
         {
          "action": "BR",
          "t": 6,
          "user": "G1"
         },
         {
          "action": "BR",
          "t": 8,
          "user": "G2"
         },
         {
          "action": "BR",
          "t": 9,
          "user": "A2"
         },
         {
          "action": "BR",
          "t": 10,
          "user": "G1"
         },
         {
          "action": "BR",
          "t": 12,
          "user": "M2"
         },
         {
          "action": "BR",
          "t": 14,
          "user": "A3"
         },
         {
          "action": "BR",
          "t": 14,
          "user": "G2"
         },
         {
          "action": "BR",
          "t": 14,
          "user": "G3"
         },
         {
          "action": "BR",
          "t": 15,
          "user": "G1"
         },
         {
          "action": "BR",
          "t": 16,
          "user": "G3"
         },
         {
          "action": "BR",
          "t": 17,
          "user": "G2"
         },
         {
          "action": "BR",
          "t": 17,
          "user": "M1"
         },
         {
          "action": "BR",
          "t": 17,
          "user": "M3"
         },
         {
          "action": "BR",
          "t": 19,
          "user": "A1"
         },
         {
          "action": "BR",
          "t": 19,
          "user": "M2"
         },
         {
          "action": "BR",
          "t": 20,
          "user": "A3"
         },
         {
          "action": "BR",
          "t": 21,
          "user": "G3"
         },
         {
          "action": "BR",
          "t": 21,
          "user": "M3"
         },
         {
          "action": "BR",
          "t": 23,
          "user": "A1"
         },
         {
          "action": "BR",
          "t": 25,
          "user": "A3"
         },
         {
          "action": "BR",
          "t": 26,
          "user": "G2"
         },
         {
          "action": "BR",
          "t": 26,
          "user": "M1"
         },
         {
          "action": "BR",
          "t": 27,
          "user": "G1"
         },
         {
          "action": "BR",
          "t": 27,
          "user": "M3"
         },
         {
          "action": "BR",
          "t": 28,
          "user": "A3"
         },
         {
          "action": "BR",
          "t": 30,
          "user": "A2"
         },
         {
          "action": "BR",
          "t": 30,
          "user": "A3"
         },
         {
          "action": "BR",
          "t": 31,
          "user": "M2"
         },
         {
          "action": "BR",
          "t": 31,
          "user": "M3"
         },
         {
          "action": "BR",
          "t": 32,
          "user": "G2"
         },
         {
          "action": "BR",
          "t": 33,
          "user": "A3"
         },
         {
          "action": "BR",
          "t": 35,
          "user": "A1"
         },
         {
          "action": "BR",
          "t": 35,
          "user": "G2"
         },
         {
          "action": "BR",
          "t": 38,
          "user": "A1"
         },
         {
          "action": "BR",
          "t": 40,
          "user": "M2"
         },
         {
          "action": "BR",
          "t": 41,
          "user": "A2"
         },
         {
          "action": "BR",
          "t": 47,
          "user": "G2"
         },
         {
          "action": "BR",
          "t": 48,
          "user": "A2"
         },
         {
          "action": "BR",
          "t": 49,
          "user": "A1"
         },
         {
          "action": "BR",
          "t": 54,
          "user": "A1"
         },
         {
          "action": "BR",
          "t": 57,
          "user": "G2"
         },
         {
          "action": "BR",
          "t": 62,
          "user": "A1"
         },
         {
          "action": "BR",
          "t": 69,
          "user": "A1"
         }
        ],
        "data-d6eb6fc22ec397834048c53dbbee9bd6": [
         {
          "action": "data insight",
          "t": 0,
          "user": "G3"
         },
         {
          "action": "scientific insight",
          "t": 1,
          "user": "G2"
         },
         {
          "action": "data insight",
          "t": 1,
          "user": "M3"
         },
         {
          "action": "scientific insight",
          "t": 3,
          "user": "M3"
         },
         {
          "action": "scientific insight",
          "t": 4,
          "user": "A1"
         },
         {
          "action": "scientific insight",
          "t": 5,
          "user": "G1"
         },
         {
          "action": "data insight",
          "t": 6,
          "user": "A2"
         },
         {
          "action": "data insight",
          "t": 7,
          "user": "M3"
         },
         {
          "action": "data insight",
          "t": 8,
          "user": "A1"
         },
         {
          "action": "data insight",
          "t": 8,
          "user": "A2"
         },
         {
          "action": "scientific insight",
          "t": 8,
          "user": "G1"
         },
         {
          "action": "scientific insight",
          "t": 9,
          "user": "M2"
         },
         {
          "action": "scientific insight",
          "t": 9,
          "user": "M3"
         },
         {
          "action": "scientific insight",
          "t": 10,
          "user": "M1"
         },
         {
          "action": "scientific insight",
          "t": 10,
          "user": "M2"
         },
         {
          "action": "scientific insight",
          "t": 11,
          "user": "A1"
         },
         {
          "action": "data insight",
          "t": 11,
          "user": "A3"
         },
         {
          "action": "data insight",
          "t": 11,
          "user": "G3"
         },
         {
          "action": "scientific insight",
          "t": 12,
          "user": "M3"
         },
         {
          "action": "scientific insight",
          "t": 13,
          "user": "G3"
         },
         {
          "action": "scientific insight",
          "t": 15,
          "user": "M2"
         },
         {
          "action": "data insight",
          "t": 16,
          "user": "G2"
         },
         {
          "action": "scientific insight",
          "t": 16,
          "user": "M1"
         },
         {
          "action": "scientific insight",
          "t": 16,
          "user": "M3"
         },
         {
          "action": "scientific insight",
          "t": 18,
          "user": "G3"
         },
         {
          "action": "data insight",
          "t": 19,
          "user": "A3"
         },
         {
          "action": "data insight",
          "t": 19,
          "user": "G2"
         },
         {
          "action": "scientific insight",
          "t": 20,
          "user": "G3"
         },
         {
          "action": "data insight",
          "t": 21,
          "user": "G1"
         },
         {
          "action": "data insight",
          "t": 22,
          "user": "A3"
         },
         {
          "action": "scientific insight",
          "t": 24,
          "user": "G2"
         },
         {
          "action": "data insight",
          "t": 24,
          "user": "M2"
         },
         {
          "action": "data insight",
          "t": 24,
          "user": "M3"
         },
         {
          "action": "data insight",
          "t": 25,
          "user": "M1"
         },
         {
          "action": "scientific insight",
          "t": 26,
          "user": "M3"
         },
         {
          "action": "data insight",
          "t": 28,
          "user": "A2"
         },
         {
          "action": "scientific insight",
          "t": 28,
          "user": "M2"
         },
         {
          "action": "data insight",
          "t": 31,
          "user": "A1"
         },
         {
          "action": "scientific insight",
          "t": 33,
          "user": "M2"
         },
         {
          "action": "data insight",
          "t": 34,
          "user": "A1"
         },
         {
          "action": "scientific insight",
          "t": 34,
          "user": "M2"
         },
         {
          "action": "scientific insight",
          "t": 37,
          "user": "M2"
         },
         {
          "action": "scientific insight",
          "t": 39,
          "user": "A2"
         },
         {
          "action": "data insight",
          "t": 39,
          "user": "M2"
         },
         {
          "action": "scientific insight",
          "t": 41,
          "user": "G2"
         },
         {
          "action": "data insight",
          "t": 45,
          "user": "G2"
         },
         {
          "action": "scientific insight",
          "t": 48,
          "user": "A1"
         },
         {
          "action": "data insight",
          "t": 54,
          "user": "G2"
         },
         {
          "action": "data insight",
          "t": 55,
          "user": "G2"
         },
         {
          "action": "data insight",
          "t": 57,
          "user": "A1"
         },
         {
          "action": "data insight",
          "t": 65,
          "user": "A1"
         }
        ]
       },
       "layer": [
        {
         "data": {
          "name": "data-30e977babeee01f0fd931c7aacdf70f2"
         },
         "encoding": {
          "color": {
           "field": "component",
           "type": "nominal"
          },
          "x": {
           "field": "t",
           "type": "quantitative"
          },
          "y": {
           "field": "user",
           "type": "nominal"
          }
         },
         "mark": "circle"
        },
        {
         "data": {
          "name": "data-75fb1ff2c86777f7e12beda95db8c463"
         },
         "encoding": {
          "x": {
           "field": "t",
           "type": "quantitative"
          },
          "y": {
           "field": "user",
           "type": "nominal"
          }
         },
         "mark": {
          "color": "black",
          "thickness": 2,
          "type": "tick"
         }
        },
        {
         "data": {
          "name": "data-d6eb6fc22ec397834048c53dbbee9bd6"
         },
         "encoding": {
          "shape": {
           "field": "action",
           "type": "nominal"
          },
          "x": {
           "field": "t",
           "title": "Timepoint",
           "type": "quantitative"
          },
          "y": {
           "field": "user",
           "title": "Participant",
           "type": "nominal"
          }
         },
         "mark": {
          "color": "red",
          "shape": "diamond",
          "type": "point"
         }
        }
       ],
       "title": "Evaluation Study Event Timeline Breakdown by Feature Components"
      },
      "image/png": "[encoded data removed]",
      "text/plain": [
       "<VegaLite 2 object>\n",
       "\n",
       "If you see this message, it means the renderer has not been properly enabled\n",
       "for the frontend that you are using. For more information, see\n",
       "https://altair-viz.github.io/user_guide/troubleshooting.html\n"
      ]
     },
     "execution_count": 18,
     "metadata": {},
     "output_type": "execute_result"
    }
   ],
   "source": [
    "chart = component_chart+ break_chart + insight_chart\n",
    "chart.title=\"Evaluation Study Event Timeline Breakdown by Feature Components\"\n",
    "chart"
   ]
  },
  {
   "cell_type": "markdown",
   "metadata": {},
   "source": [
    "- Astronomers discovered insights more about their data, whereas geneticists and material scientists uncovered more scientific insights.\n",
    "- The use of exact specification (including sketch) is rare, and doesn't usually lead to useful outcomes. "
   ]
  },
  {
   "cell_type": "markdown",
   "metadata": {},
   "source": [
    "# Processes"
   ]
  },
  {
   "cell_type": "code",
   "execution_count": 19,
   "metadata": {},
   "outputs": [
    {
     "data": {
      "text/plain": [
       "array(['filter-selection', 'result-querying', 'recommendation', 'control',\n",
       "       'group-comparison', 'exact-specification',\n",
       "       'approx-shape-specification', 'flexible-matching',\n",
       "       'range-selection', 'concept-query'], dtype=object)"
      ]
     },
     "execution_count": 19,
     "metadata": {},
     "output_type": "execute_result"
    }
   ],
   "source": [
    "df_component[\"component\"].unique()"
   ]
  },
  {
   "cell_type": "code",
   "execution_count": 20,
   "metadata": {},
   "outputs": [],
   "source": [
    "td = 'top-down-querying'\n",
    "sc = 'search-with-context'\n",
    "bu = 'bottom-up-querying'\n",
    "rec= 'recommendation'\n",
    "component_to_process = {\n",
    "    'exact-specification':td,\n",
    "    'approx-shape-specification':td,\n",
    "    'flexible-matching':td,\n",
    "    'range-selection':td, \n",
    "    'filter-selection':sc, \n",
    "    'group-comparison':sc,\n",
    "    'result-querying':bu,\n",
    "    'concept-query':bu,\n",
    "    'control':\"others\",\n",
    "    'recommendation':rec,\n",
    "}"
   ]
  },
  {
   "cell_type": "code",
   "execution_count": 21,
   "metadata": {},
   "outputs": [],
   "source": [
    "df_process = df_component\n",
    "df_process[\"process\"] = df_component[\"component\"].replace(component_to_process)"
   ]
  },
  {
   "cell_type": "code",
   "execution_count": 22,
   "metadata": {},
   "outputs": [],
   "source": [
    "process_chart = alt.Chart(df_component).mark_circle().encode(        \n",
    "    color='process',\n",
    "    y=\"user\",\n",
    "    x='t'\n",
    ")"
   ]
  },
  {
   "cell_type": "code",
   "execution_count": 23,
   "metadata": {},
   "outputs": [],
   "source": [
    "df_break = df[df.action.isin([\"BR\"])]\n",
    "break_chart = alt.Chart(df_break).mark_tick(thickness=2,color=\"black\").encode(        \n",
    "    y=\"user\",\n",
    "    x='t'\n",
    ")"
   ]
  },
  {
   "cell_type": "code",
   "execution_count": 24,
   "metadata": {},
   "outputs": [
    {
     "name": "stderr",
     "output_type": "stream",
     "text": [
      "/Users/dorislee/.virtualenvs/py37env/lib/python3.7/site-packages/pandas/core/indexing.py:543: SettingWithCopyWarning: \n",
      "A value is trying to be set on a copy of a slice from a DataFrame.\n",
      "Try using .loc[row_indexer,col_indexer] = value instead\n",
      "\n",
      "See the caveats in the documentation: http://pandas.pydata.org/pandas-docs/stable/indexing.html#indexing-view-versus-copy\n",
      "  self.obj[item] = s\n"
     ]
    }
   ],
   "source": [
    "df_insight = df[df.action.isin([\"IS\",\"ID\"])]\n",
    "df_insight.loc[df_insight[\"action\"]==\"ID\",\"action\"]=\"data insight\"\n",
    "df_insight.loc[df_insight[\"action\"]==\"IS\",\"action\"]=\"scientific insight\"\n",
    "insight_chart = alt.Chart(df_insight).mark_point(shape=\"diamond\",color=\"red\").encode(        \n",
    "    alt.Y(\"user\",title=\"Participant\"),\n",
    "    alt.X(\"t\",title=\"Timepoint\"),\n",
    "    shape='action' #make no distinction between data and science insights\n",
    ")\n"
   ]
  },
  {
   "cell_type": "code",
   "execution_count": 25,
   "metadata": {},
   "outputs": [
    {
     "data": {
      "application/vnd.vegalite.v2+json": {
       "$schema": "https://vega.github.io/schema/vega-lite/v2.6.0.json",
       "config": {
        "view": {
         "height": 300,
         "width": 400
        }
       },
       "datasets": {
        "data-6c3bd0315ebdffff9d03c03897a49c06": [
         {
          "component": "filter-selection",
          "process": "search-with-context",
          "t": 0,
          "user": "A1"
         },
         {
          "component": "filter-selection",
          "process": "search-with-context",
          "t": 0,
          "user": "A2"
         },
         {
          "component": "result-querying",
          "process": "bottom-up-querying",
          "t": 0,
          "user": "A3"
         },
         {
          "component": "recommendation",
          "process": "recommendation",
          "t": 0,
          "user": "G1"
         },
         {
          "component": "recommendation",
          "process": "recommendation",
          "t": 0,
          "user": "G2"
         },
         {
          "component": "control",
          "process": "others",
          "t": 0,
          "user": "M2"
         },
         {
          "component": "group-comparison",
          "process": "search-with-context",
          "t": 0,
          "user": "M3"
         },
         {
          "component": "filter-selection",
          "process": "search-with-context",
          "t": 1,
          "user": "A1"
         },
         {
          "component": "result-querying",
          "process": "bottom-up-querying",
          "t": 1,
          "user": "A3"
         },
         {
          "component": "recommendation",
          "process": "recommendation",
          "t": 1,
          "user": "G1"
         },
         {
          "component": "exact-specification",
          "process": "top-down-querying",
          "t": 1,
          "user": "M1"
         },
         {
          "component": "control",
          "process": "others",
          "t": 1,
          "user": "M2"
         },
         {
          "component": "filter-selection",
          "process": "search-with-context",
          "t": 2,
          "user": "A1"
         },
         {
          "component": "exact-specification",
          "process": "top-down-querying",
          "t": 2,
          "user": "A3"
         },
         {
          "component": "recommendation",
          "process": "recommendation",
          "t": 2,
          "user": "G1"
         },
         {
          "component": "approx-shape-specification",
          "process": "top-down-querying",
          "t": 2,
          "user": "M1"
         },
         {
          "component": "control",
          "process": "others",
          "t": 2,
          "user": "M3"
         },
         {
          "component": "filter-selection",
          "process": "search-with-context",
          "t": 3,
          "user": "A1"
         },
         {
          "component": "recommendation",
          "process": "recommendation",
          "t": 3,
          "user": "A2"
         },
         {
          "component": "approx-shape-specification",
          "process": "top-down-querying",
          "t": 3,
          "user": "A3"
         },
         {
          "component": "recommendation",
          "process": "recommendation",
          "t": 3,
          "user": "G1"
         },
         {
          "component": "recommendation",
          "process": "recommendation",
          "t": 3,
          "user": "G2"
         },
         {
          "component": "control",
          "process": "others",
          "t": 3,
          "user": "G3"
         },
         {
          "component": "group-comparison",
          "process": "search-with-context",
          "t": 3,
          "user": "M2"
         },
         {
          "component": "result-querying",
          "process": "bottom-up-querying",
          "t": 4,
          "user": "A2"
         },
         {
          "component": "recommendation",
          "process": "recommendation",
          "t": 4,
          "user": "G2"
         },
         {
          "component": "control",
          "process": "others",
          "t": 4,
          "user": "G3"
         },
         {
          "component": "control",
          "process": "others",
          "t": 4,
          "user": "M1"
         },
         {
          "component": "group-comparison",
          "process": "search-with-context",
          "t": 4,
          "user": "M2"
         },
         {
          "component": "group-comparison",
          "process": "search-with-context",
          "t": 4,
          "user": "M3"
         },
         {
          "component": "result-querying",
          "process": "bottom-up-querying",
          "t": 5,
          "user": "A3"
         },
         {
          "component": "recommendation",
          "process": "recommendation",
          "t": 5,
          "user": "G2"
         },
         {
          "component": "group-comparison",
          "process": "search-with-context",
          "t": 5,
          "user": "M2"
         },
         {
          "component": "approx-shape-specification",
          "process": "top-down-querying",
          "t": 6,
          "user": "A3"
         },
         {
          "component": "filter-selection",
          "process": "search-with-context",
          "t": 6,
          "user": "G2"
         },
         {
          "component": "recommendation",
          "process": "recommendation",
          "t": 6,
          "user": "G3"
         },
         {
          "component": "group-comparison",
          "process": "search-with-context",
          "t": 6,
          "user": "M2"
         },
         {
          "component": "group-comparison",
          "process": "search-with-context",
          "t": 6,
          "user": "M3"
         },
         {
          "component": "result-querying",
          "process": "bottom-up-querying",
          "t": 7,
          "user": "A1"
         },
         {
          "component": "flexible-matching",
          "process": "top-down-querying",
          "t": 7,
          "user": "A3"
         },
         {
          "component": "result-querying",
          "process": "bottom-up-querying",
          "t": 7,
          "user": "G1"
         },
         {
          "component": "flexible-matching",
          "process": "top-down-querying",
          "t": 8,
          "user": "G3"
         },
         {
          "component": "range-selection",
          "process": "top-down-querying",
          "t": 8,
          "user": "M1"
         },
         {
          "component": "group-comparison",
          "process": "search-with-context",
          "t": 8,
          "user": "M2"
         },
         {
          "component": "control",
          "process": "others",
          "t": 8,
          "user": "M3"
         },
         {
          "component": "filter-selection",
          "process": "search-with-context",
          "t": 9,
          "user": "A1"
         },
         {
          "component": "range-selection",
          "process": "top-down-querying",
          "t": 9,
          "user": "A3"
         },
         {
          "component": "recommendation",
          "process": "recommendation",
          "t": 9,
          "user": "G3"
         },
         {
          "component": "control",
          "process": "others",
          "t": 9,
          "user": "M1"
         },
         {
          "component": "filter-selection",
          "process": "search-with-context",
          "t": 10,
          "user": "A2"
         },
         {
          "component": "flexible-matching",
          "process": "top-down-querying",
          "t": 10,
          "user": "A3"
         },
         {
          "component": "result-querying",
          "process": "bottom-up-querying",
          "t": 10,
          "user": "G2"
         },
         {
          "component": "recommendation",
          "process": "recommendation",
          "t": 10,
          "user": "G3"
         },
         {
          "component": "result-querying",
          "process": "bottom-up-querying",
          "t": 10,
          "user": "M3"
         },
         {
          "component": "result-querying",
          "process": "bottom-up-querying",
          "t": 11,
          "user": "G1"
         },
         {
          "component": "recommendation",
          "process": "recommendation",
          "t": 11,
          "user": "M1"
         },
         {
          "component": "group-comparison",
          "process": "search-with-context",
          "t": 11,
          "user": "M3"
         },
         {
          "component": "recommendation",
          "process": "recommendation",
          "t": 12,
          "user": "A2"
         },
         {
          "component": "flexible-matching",
          "process": "top-down-querying",
          "t": 12,
          "user": "A3"
         },
         {
          "component": "control",
          "process": "others",
          "t": 12,
          "user": "G1"
         },
         {
          "component": "filter-selection",
          "process": "search-with-context",
          "t": 12,
          "user": "G2"
         },
         {
          "component": "result-querying",
          "process": "bottom-up-querying",
          "t": 12,
          "user": "G3"
         },
         {
          "component": "result-querying",
          "process": "bottom-up-querying",
          "t": 13,
          "user": "A2"
         },
         {
          "component": "range-selection",
          "process": "top-down-querying",
          "t": 13,
          "user": "G1"
         },
         {
          "component": "flexible-matching",
          "process": "top-down-querying",
          "t": 13,
          "user": "M3"
         },
         {
          "component": "control",
          "process": "others",
          "t": 14,
          "user": "A2"
         },
         {
          "component": "control",
          "process": "others",
          "t": 14,
          "user": "G1"
         },
         {
          "component": "group-comparison",
          "process": "search-with-context",
          "t": 14,
          "user": "M1"
         },
         {
          "component": "group-comparison",
          "process": "search-with-context",
          "t": 14,
          "user": "M2"
         },
         {
          "component": "control",
          "process": "others",
          "t": 15,
          "user": "A2"
         },
         {
          "component": "filter-selection",
          "process": "search-with-context",
          "t": 15,
          "user": "A3"
         },
         {
          "component": "control",
          "process": "others",
          "t": 15,
          "user": "G2"
         },
         {
          "component": "control",
          "process": "others",
          "t": 15,
          "user": "G3"
         },
         {
          "component": "result-querying",
          "process": "bottom-up-querying",
          "t": 15,
          "user": "M3"
         },
         {
          "component": "control",
          "process": "others",
          "t": 16,
          "user": "A1"
         },
         {
          "component": "filter-selection",
          "process": "search-with-context",
          "t": 16,
          "user": "A2"
         },
         {
          "component": "recommendation",
          "process": "recommendation",
          "t": 16,
          "user": "G1"
         },
         {
          "component": "exact-specification",
          "process": "top-down-querying",
          "t": 16,
          "user": "M2"
         },
         {
          "component": "recommendation",
          "process": "recommendation",
          "t": 17,
          "user": "G3"
         },
         {
          "component": "recommendation",
          "process": "recommendation",
          "t": 18,
          "user": "A2"
         },
         {
          "component": "filter-selection",
          "process": "search-with-context",
          "t": 18,
          "user": "A3"
         },
         {
          "component": "exact-specification",
          "process": "top-down-querying",
          "t": 18,
          "user": "G2"
         },
         {
          "component": "filter-selection",
          "process": "search-with-context",
          "t": 18,
          "user": "M1"
         },
         {
          "component": "exact-specification",
          "process": "top-down-querying",
          "t": 18,
          "user": "M2"
         },
         {
          "component": "control",
          "process": "others",
          "t": 18,
          "user": "M3"
         },
         {
          "component": "result-querying",
          "process": "bottom-up-querying",
          "t": 19,
          "user": "A2"
         },
         {
          "component": "result-querying",
          "process": "bottom-up-querying",
          "t": 19,
          "user": "G1"
         },
         {
          "component": "approx-shape-specification",
          "process": "top-down-querying",
          "t": 19,
          "user": "G3"
         },
         {
          "component": "exact-specification",
          "process": "top-down-querying",
          "t": 19,
          "user": "M1"
         },
         {
          "component": "exact-specification",
          "process": "top-down-querying",
          "t": 19,
          "user": "M3"
         },
         {
          "component": "result-querying",
          "process": "bottom-up-querying",
          "t": 20,
          "user": "A1"
         },
         {
          "component": "control",
          "process": "others",
          "t": 20,
          "user": "A2"
         },
         {
          "component": "result-querying",
          "process": "bottom-up-querying",
          "t": 20,
          "user": "G1"
         },
         {
          "component": "control",
          "process": "others",
          "t": 20,
          "user": "M1"
         },
         {
          "component": "control",
          "process": "others",
          "t": 20,
          "user": "M2"
         },
         {
          "component": "exact-specification",
          "process": "top-down-querying",
          "t": 20,
          "user": "M3"
         },
         {
          "component": "control",
          "process": "others",
          "t": 21,
          "user": "A2"
         },
         {
          "component": "control",
          "process": "others",
          "t": 21,
          "user": "A3"
         },
         {
          "component": "approx-shape-specification",
          "process": "top-down-querying",
          "t": 21,
          "user": "G2"
         },
         {
          "component": "exact-specification",
          "process": "top-down-querying",
          "t": 21,
          "user": "M2"
         },
         {
          "component": "filter-selection",
          "process": "search-with-context",
          "t": 22,
          "user": "A1"
         },
         {
          "component": "filter-selection",
          "process": "search-with-context",
          "t": 22,
          "user": "A2"
         },
         {
          "component": "recommendation",
          "process": "recommendation",
          "t": 22,
          "user": "G1"
         },
         {
          "component": "exact-specification",
          "process": "top-down-querying",
          "t": 22,
          "user": "G2"
         },
         {
          "component": "filter-selection",
          "process": "search-with-context",
          "t": 22,
          "user": "M1"
         },
         {
          "component": "result-querying",
          "process": "bottom-up-querying",
          "t": 22,
          "user": "M2"
         },
         {
          "component": "filter-selection",
          "process": "search-with-context",
          "t": 23,
          "user": "A3"
         },
         {
          "component": "filter-selection",
          "process": "search-with-context",
          "t": 23,
          "user": "G2"
         },
         {
          "component": "filter-selection",
          "process": "search-with-context",
          "t": 23,
          "user": "M1"
         },
         {
          "component": "exact-specification",
          "process": "top-down-querying",
          "t": 23,
          "user": "M2"
         },
         {
          "component": "result-querying",
          "process": "bottom-up-querying",
          "t": 23,
          "user": "M3"
         },
         {
          "component": "filter-selection",
          "process": "search-with-context",
          "t": 24,
          "user": "A1"
         },
         {
          "component": "recommendation",
          "process": "recommendation",
          "t": 24,
          "user": "A2"
         },
         {
          "component": "filter-selection",
          "process": "search-with-context",
          "t": 24,
          "user": "M1"
         },
         {
          "component": "result-querying",
          "process": "bottom-up-querying",
          "t": 25,
          "user": "A2"
         },
         {
          "component": "filter-selection",
          "process": "search-with-context",
          "t": 25,
          "user": "G2"
         },
         {
          "component": "control",
          "process": "others",
          "t": 26,
          "user": "A2"
         },
         {
          "component": "control",
          "process": "others",
          "t": 26,
          "user": "A3"
         },
         {
          "component": "result-querying",
          "process": "bottom-up-querying",
          "t": 26,
          "user": "M2"
         },
         {
          "component": "control",
          "process": "others",
          "t": 27,
          "user": "A2"
         },
         {
          "component": "filter-selection",
          "process": "search-with-context",
          "t": 27,
          "user": "G2"
         },
         {
          "component": "exact-specification",
          "process": "top-down-querying",
          "t": 27,
          "user": "M2"
         },
         {
          "component": "control",
          "process": "others",
          "t": 28,
          "user": "M3"
         },
         {
          "component": "range-selection",
          "process": "top-down-querying",
          "t": 29,
          "user": "A1"
         },
         {
          "component": "exact-specification",
          "process": "top-down-querying",
          "t": 29,
          "user": "A3"
         },
         {
          "component": "filter-selection",
          "process": "search-with-context",
          "t": 29,
          "user": "G2"
         },
         {
          "component": "control",
          "process": "others",
          "t": 31,
          "user": "A3"
         },
         {
          "component": "recommendation",
          "process": "recommendation",
          "t": 31,
          "user": "G2"
         },
         {
          "component": "group-comparison",
          "process": "search-with-context",
          "t": 32,
          "user": "M2"
         },
         {
          "component": "approx-shape-specification",
          "process": "top-down-querying",
          "t": 33,
          "user": "G2"
         },
         {
          "component": "group-comparison",
          "process": "search-with-context",
          "t": 34,
          "user": "A2"
         },
         {
          "component": "approx-shape-specification",
          "process": "top-down-querying",
          "t": 34,
          "user": "G2"
         },
         {
          "component": "recommendation",
          "process": "recommendation",
          "t": 35,
          "user": "M2"
         },
         {
          "component": "filter-selection",
          "process": "search-with-context",
          "t": 36,
          "user": "A1"
         },
         {
          "component": "concept-query",
          "process": "bottom-up-querying",
          "t": 36,
          "user": "G2"
         },
         {
          "component": "filter-selection",
          "process": "search-with-context",
          "t": 36,
          "user": "M2"
         },
         {
          "component": "filter-selection",
          "process": "search-with-context",
          "t": 37,
          "user": "A1"
         },
         {
          "component": "control",
          "process": "others",
          "t": 37,
          "user": "A2"
         },
         {
          "component": "approx-shape-specification",
          "process": "top-down-querying",
          "t": 38,
          "user": "A2"
         },
         {
          "component": "control",
          "process": "others",
          "t": 38,
          "user": "M2"
         },
         {
          "component": "approx-shape-specification",
          "process": "top-down-querying",
          "t": 39,
          "user": "A1"
         },
         {
          "component": "filter-selection",
          "process": "search-with-context",
          "t": 39,
          "user": "G2"
         },
         {
          "component": "exact-specification",
          "process": "top-down-querying",
          "t": 40,
          "user": "A1"
         },
         {
          "component": "result-querying",
          "process": "bottom-up-querying",
          "t": 40,
          "user": "G2"
         },
         {
          "component": "exact-specification",
          "process": "top-down-querying",
          "t": 41,
          "user": "A1"
         },
         {
          "component": "filter-selection",
          "process": "search-with-context",
          "t": 42,
          "user": "A1"
         },
         {
          "component": "control",
          "process": "others",
          "t": 43,
          "user": "G2"
         },
         {
          "component": "result-querying",
          "process": "bottom-up-querying",
          "t": 44,
          "user": "A2"
         },
         {
          "component": "recommendation",
          "process": "recommendation",
          "t": 44,
          "user": "G2"
         },
         {
          "component": "range-selection",
          "process": "top-down-querying",
          "t": 46,
          "user": "A2"
         },
         {
          "component": "control",
          "process": "others",
          "t": 46,
          "user": "G2"
         },
         {
          "component": "range-selection",
          "process": "top-down-querying",
          "t": 48,
          "user": "G2"
         },
         {
          "component": "group-comparison",
          "process": "search-with-context",
          "t": 50,
          "user": "A1"
         },
         {
          "component": "control",
          "process": "others",
          "t": 50,
          "user": "G2"
         },
         {
          "component": "group-comparison",
          "process": "search-with-context",
          "t": 51,
          "user": "A1"
         },
         {
          "component": "approx-shape-specification",
          "process": "top-down-querying",
          "t": 51,
          "user": "G2"
         },
         {
          "component": "recommendation",
          "process": "recommendation",
          "t": 52,
          "user": "G2"
         },
         {
          "component": "group-comparison",
          "process": "search-with-context",
          "t": 53,
          "user": "A1"
         },
         {
          "component": "recommendation",
          "process": "recommendation",
          "t": 53,
          "user": "G2"
         },
         {
          "component": "filter-selection",
          "process": "search-with-context",
          "t": 55,
          "user": "A1"
         },
         {
          "component": "concept-query",
          "process": "bottom-up-querying",
          "t": 58,
          "user": "A1"
         },
         {
          "component": "control",
          "process": "others",
          "t": 59,
          "user": "A1"
         },
         {
          "component": "group-comparison",
          "process": "search-with-context",
          "t": 61,
          "user": "A1"
         },
         {
          "component": "filter-selection",
          "process": "search-with-context",
          "t": 63,
          "user": "A1"
         },
         {
          "component": "concept-query",
          "process": "bottom-up-querying",
          "t": 66,
          "user": "A1"
         },
         {
          "component": "control",
          "process": "others",
          "t": 67,
          "user": "A1"
         }
        ],
        "data-75fb1ff2c86777f7e12beda95db8c463": [
         {
          "action": "BR",
          "t": 2,
          "user": "G2"
         },
         {
          "action": "BR",
          "t": 4,
          "user": "A3"
         },
         {
          "action": "BR",
          "t": 5,
          "user": "G3"
         },
         {
          "action": "BR",
          "t": 6,
          "user": "G1"
         },
         {
          "action": "BR",
          "t": 8,
          "user": "G2"
         },
         {
          "action": "BR",
          "t": 9,
          "user": "A2"
         },
         {
          "action": "BR",
          "t": 10,
          "user": "G1"
         },
         {
          "action": "BR",
          "t": 12,
          "user": "M2"
         },
         {
          "action": "BR",
          "t": 14,
          "user": "A3"
         },
         {
          "action": "BR",
          "t": 14,
          "user": "G2"
         },
         {
          "action": "BR",
          "t": 14,
          "user": "G3"
         },
         {
          "action": "BR",
          "t": 15,
          "user": "G1"
         },
         {
          "action": "BR",
          "t": 16,
          "user": "G3"
         },
         {
          "action": "BR",
          "t": 17,
          "user": "G2"
         },
         {
          "action": "BR",
          "t": 17,
          "user": "M1"
         },
         {
          "action": "BR",
          "t": 17,
          "user": "M3"
         },
         {
          "action": "BR",
          "t": 19,
          "user": "A1"
         },
         {
          "action": "BR",
          "t": 19,
          "user": "M2"
         },
         {
          "action": "BR",
          "t": 20,
          "user": "A3"
         },
         {
          "action": "BR",
          "t": 21,
          "user": "G3"
         },
         {
          "action": "BR",
          "t": 21,
          "user": "M3"
         },
         {
          "action": "BR",
          "t": 23,
          "user": "A1"
         },
         {
          "action": "BR",
          "t": 25,
          "user": "A3"
         },
         {
          "action": "BR",
          "t": 26,
          "user": "G2"
         },
         {
          "action": "BR",
          "t": 26,
          "user": "M1"
         },
         {
          "action": "BR",
          "t": 27,
          "user": "G1"
         },
         {
          "action": "BR",
          "t": 27,
          "user": "M3"
         },
         {
          "action": "BR",
          "t": 28,
          "user": "A3"
         },
         {
          "action": "BR",
          "t": 30,
          "user": "A2"
         },
         {
          "action": "BR",
          "t": 30,
          "user": "A3"
         },
         {
          "action": "BR",
          "t": 31,
          "user": "M2"
         },
         {
          "action": "BR",
          "t": 31,
          "user": "M3"
         },
         {
          "action": "BR",
          "t": 32,
          "user": "G2"
         },
         {
          "action": "BR",
          "t": 33,
          "user": "A3"
         },
         {
          "action": "BR",
          "t": 35,
          "user": "A1"
         },
         {
          "action": "BR",
          "t": 35,
          "user": "G2"
         },
         {
          "action": "BR",
          "t": 38,
          "user": "A1"
         },
         {
          "action": "BR",
          "t": 40,
          "user": "M2"
         },
         {
          "action": "BR",
          "t": 41,
          "user": "A2"
         },
         {
          "action": "BR",
          "t": 47,
          "user": "G2"
         },
         {
          "action": "BR",
          "t": 48,
          "user": "A2"
         },
         {
          "action": "BR",
          "t": 49,
          "user": "A1"
         },
         {
          "action": "BR",
          "t": 54,
          "user": "A1"
         },
         {
          "action": "BR",
          "t": 57,
          "user": "G2"
         },
         {
          "action": "BR",
          "t": 62,
          "user": "A1"
         },
         {
          "action": "BR",
          "t": 69,
          "user": "A1"
         }
        ],
        "data-d6eb6fc22ec397834048c53dbbee9bd6": [
         {
          "action": "data insight",
          "t": 0,
          "user": "G3"
         },
         {
          "action": "scientific insight",
          "t": 1,
          "user": "G2"
         },
         {
          "action": "data insight",
          "t": 1,
          "user": "M3"
         },
         {
          "action": "scientific insight",
          "t": 3,
          "user": "M3"
         },
         {
          "action": "scientific insight",
          "t": 4,
          "user": "A1"
         },
         {
          "action": "scientific insight",
          "t": 5,
          "user": "G1"
         },
         {
          "action": "data insight",
          "t": 6,
          "user": "A2"
         },
         {
          "action": "data insight",
          "t": 7,
          "user": "M3"
         },
         {
          "action": "data insight",
          "t": 8,
          "user": "A1"
         },
         {
          "action": "data insight",
          "t": 8,
          "user": "A2"
         },
         {
          "action": "scientific insight",
          "t": 8,
          "user": "G1"
         },
         {
          "action": "scientific insight",
          "t": 9,
          "user": "M2"
         },
         {
          "action": "scientific insight",
          "t": 9,
          "user": "M3"
         },
         {
          "action": "scientific insight",
          "t": 10,
          "user": "M1"
         },
         {
          "action": "scientific insight",
          "t": 10,
          "user": "M2"
         },
         {
          "action": "scientific insight",
          "t": 11,
          "user": "A1"
         },
         {
          "action": "data insight",
          "t": 11,
          "user": "A3"
         },
         {
          "action": "data insight",
          "t": 11,
          "user": "G3"
         },
         {
          "action": "scientific insight",
          "t": 12,
          "user": "M3"
         },
         {
          "action": "scientific insight",
          "t": 13,
          "user": "G3"
         },
         {
          "action": "scientific insight",
          "t": 15,
          "user": "M2"
         },
         {
          "action": "data insight",
          "t": 16,
          "user": "G2"
         },
         {
          "action": "scientific insight",
          "t": 16,
          "user": "M1"
         },
         {
          "action": "scientific insight",
          "t": 16,
          "user": "M3"
         },
         {
          "action": "scientific insight",
          "t": 18,
          "user": "G3"
         },
         {
          "action": "data insight",
          "t": 19,
          "user": "A3"
         },
         {
          "action": "data insight",
          "t": 19,
          "user": "G2"
         },
         {
          "action": "scientific insight",
          "t": 20,
          "user": "G3"
         },
         {
          "action": "data insight",
          "t": 21,
          "user": "G1"
         },
         {
          "action": "data insight",
          "t": 22,
          "user": "A3"
         },
         {
          "action": "scientific insight",
          "t": 24,
          "user": "G2"
         },
         {
          "action": "data insight",
          "t": 24,
          "user": "M2"
         },
         {
          "action": "data insight",
          "t": 24,
          "user": "M3"
         },
         {
          "action": "data insight",
          "t": 25,
          "user": "M1"
         },
         {
          "action": "scientific insight",
          "t": 26,
          "user": "M3"
         },
         {
          "action": "data insight",
          "t": 28,
          "user": "A2"
         },
         {
          "action": "scientific insight",
          "t": 28,
          "user": "M2"
         },
         {
          "action": "data insight",
          "t": 31,
          "user": "A1"
         },
         {
          "action": "scientific insight",
          "t": 33,
          "user": "M2"
         },
         {
          "action": "data insight",
          "t": 34,
          "user": "A1"
         },
         {
          "action": "scientific insight",
          "t": 34,
          "user": "M2"
         },
         {
          "action": "scientific insight",
          "t": 37,
          "user": "M2"
         },
         {
          "action": "scientific insight",
          "t": 39,
          "user": "A2"
         },
         {
          "action": "data insight",
          "t": 39,
          "user": "M2"
         },
         {
          "action": "scientific insight",
          "t": 41,
          "user": "G2"
         },
         {
          "action": "data insight",
          "t": 45,
          "user": "G2"
         },
         {
          "action": "scientific insight",
          "t": 48,
          "user": "A1"
         },
         {
          "action": "data insight",
          "t": 54,
          "user": "G2"
         },
         {
          "action": "data insight",
          "t": 55,
          "user": "G2"
         },
         {
          "action": "data insight",
          "t": 57,
          "user": "A1"
         },
         {
          "action": "data insight",
          "t": 65,
          "user": "A1"
         }
        ]
       },
       "layer": [
        {
         "data": {
          "name": "data-6c3bd0315ebdffff9d03c03897a49c06"
         },
         "encoding": {
          "color": {
           "field": "process",
           "type": "nominal"
          },
          "x": {
           "field": "t",
           "type": "quantitative"
          },
          "y": {
           "field": "user",
           "type": "nominal"
          }
         },
         "mark": "circle"
        },
        {
         "data": {
          "name": "data-75fb1ff2c86777f7e12beda95db8c463"
         },
         "encoding": {
          "x": {
           "field": "t",
           "type": "quantitative"
          },
          "y": {
           "field": "user",
           "type": "nominal"
          }
         },
         "mark": {
          "color": "black",
          "thickness": 2,
          "type": "tick"
         }
        },
        {
         "data": {
          "name": "data-d6eb6fc22ec397834048c53dbbee9bd6"
         },
         "encoding": {
          "shape": {
           "field": "action",
           "type": "nominal"
          },
          "x": {
           "field": "t",
           "title": "Timepoint",
           "type": "quantitative"
          },
          "y": {
           "field": "user",
           "title": "Participant",
           "type": "nominal"
          }
         },
         "mark": {
          "color": "red",
          "shape": "diamond",
          "type": "point"
         }
        }
       ],
       "title": "Evaluation Study Event Timeline Breakdown by Process"
      },
      "image/png": "[encoded data removed]",
      "text/plain": [
       "<VegaLite 2 object>\n",
       "\n",
       "If you see this message, it means the renderer has not been properly enabled\n",
       "for the frontend that you are using. For more information, see\n",
       "https://altair-viz.github.io/user_guide/troubleshooting.html\n"
      ]
     },
     "execution_count": 25,
     "metadata": {},
     "output_type": "execute_result"
    }
   ],
   "source": [
    "chart = process_chart+ break_chart + insight_chart\n",
    "chart.title=\"Evaluation Study Event Timeline Breakdown by Process\"\n",
    "chart"
   ]
  },
  {
   "cell_type": "markdown",
   "metadata": {},
   "source": [
    "- Top-down querying alone does not lead to insights. We see a lot of sessions where people try top-down querying then give up without discovering an insight. Even when there is top-down querying performed sucessfully, it is often because it was associated with a search with context, or used for sketch modification on a drag-and-dropped visualization."
   ]
  },
  {
   "cell_type": "markdown",
   "metadata": {},
   "source": [
    "# Statistics"
   ]
  },
  {
   "cell_type": "code",
   "execution_count": 26,
   "metadata": {},
   "outputs": [
    {
     "name": "stdout",
     "output_type": "stream",
     "text": [
      "Total number of sessions: 46\n"
     ]
    }
   ],
   "source": [
    "print (\"Total number of sessions:\", len(df[df[\"action\"]==\"BR\"]))"
   ]
  },
  {
   "cell_type": "code",
   "execution_count": 27,
   "metadata": {},
   "outputs": [],
   "source": [
    "df = pd.read_csv(\"StudyEventTimeSeries.csv\")\n",
    "\n",
    "df = df.stack().reset_index()\n",
    "\n",
    "df = df.rename(columns={\n",
    "    \"level_0\":\"t\",\n",
    "    \"level_1\":\"user\",\n",
    "    0:\"Feature\"\n",
    "})"
   ]
  },
  {
   "cell_type": "code",
   "execution_count": 28,
   "metadata": {},
   "outputs": [],
   "source": [
    "df = df[df.Feature.isin(featureOnly)]"
   ]
  },
  {
   "cell_type": "code",
   "execution_count": 29,
   "metadata": {},
   "outputs": [],
   "source": [
    "df['subject'] = df['user'].apply(lambda x: {'A':'astro', 'G':'genetics', 'M':'material science'}[x[0]])"
   ]
  },
  {
   "cell_type": "code",
   "execution_count": 30,
   "metadata": {},
   "outputs": [],
   "source": [
    "df_frequency_by_subject_feature = df.groupby([\"subject\",\"Feature\"]).count()[\"t\"].reset_index().rename(columns={\"t\":\"Usage Frequency\"})"
   ]
  },
  {
   "cell_type": "code",
   "execution_count": 31,
   "metadata": {},
   "outputs": [
    {
     "data": {
      "application/vnd.vegalite.v2+json": {
       "$schema": "https://vega.github.io/schema/vega-lite/v2.6.0.json",
       "config": {
        "view": {
         "height": 300,
         "width": 400
        }
       },
       "data": {
        "name": "data-5c04be2c2e397c66240f5a7b7f270f17"
       },
       "datasets": {
        "data-5c04be2c2e397c66240f5a7b7f270f17": [
         {
          "Feature": "brush-xrange",
          "Usage Frequency": 3,
          "subject": "astro"
         },
         {
          "Feature": "change-axis",
          "Usage Frequency": 3,
          "subject": "astro"
         },
         {
          "Feature": "change-metric",
          "Usage Frequency": 3,
          "subject": "astro"
         },
         {
          "Feature": "change-number-of-results",
          "Usage Frequency": 3,
          "subject": "astro"
         },
         {
          "Feature": "drag-and-drop",
          "Usage Frequency": 10,
          "subject": "astro"
         },
         {
          "Feature": "dynamic-class",
          "Usage Frequency": 5,
          "subject": "astro"
         },
         {
          "Feature": "export",
          "Usage Frequency": 6,
          "subject": "astro"
         },
         {
          "Feature": "filter",
          "Usage Frequency": 19,
          "subject": "astro"
         },
         {
          "Feature": "ignore-xrange",
          "Usage Frequency": 3,
          "subject": "astro"
         },
         {
          "Feature": "input-equation",
          "Usage Frequency": 1,
          "subject": "astro"
         },
         {
          "Feature": "pattern-upload",
          "Usage Frequency": 2,
          "subject": "astro"
         },
         {
          "Feature": "representative-outlier",
          "Usage Frequency": 4,
          "subject": "astro"
         },
         {
          "Feature": "reverse-y",
          "Usage Frequency": 1,
          "subject": "astro"
         },
         {
          "Feature": "sketch-to-modify",
          "Usage Frequency": 1,
          "subject": "astro"
         },
         {
          "Feature": "sketch-to-query",
          "Usage Frequency": 2,
          "subject": "astro"
         },
         {
          "Feature": "smoothing",
          "Usage Frequency": 1,
          "subject": "astro"
         },
         {
          "Feature": "brush-xrange",
          "Usage Frequency": 2,
          "subject": "genetics"
         },
         {
          "Feature": "change-metric",
          "Usage Frequency": 1,
          "subject": "genetics"
         },
         {
          "Feature": "control-kmeans-clustersize",
          "Usage Frequency": 7,
          "subject": "genetics"
         },
         {
          "Feature": "drag-and-drop",
          "Usage Frequency": 7,
          "subject": "genetics"
         },
         {
          "Feature": "export",
          "Usage Frequency": 4,
          "subject": "genetics"
         },
         {
          "Feature": "filter",
          "Usage Frequency": 7,
          "subject": "genetics"
         },
         {
          "Feature": "ignore-xrange",
          "Usage Frequency": 2,
          "subject": "genetics"
         },
         {
          "Feature": "min-similarity-cutoff",
          "Usage Frequency": 1,
          "subject": "genetics"
         },
         {
          "Feature": "pattern-upload",
          "Usage Frequency": 1,
          "subject": "genetics"
         },
         {
          "Feature": "representative-outlier",
          "Usage Frequency": 11,
          "subject": "genetics"
         },
         {
          "Feature": "show-scatter",
          "Usage Frequency": 2,
          "subject": "genetics"
         },
         {
          "Feature": "sketch-to-query",
          "Usage Frequency": 2,
          "subject": "genetics"
         },
         {
          "Feature": "smoothing",
          "Usage Frequency": 3,
          "subject": "genetics"
         },
         {
          "Feature": "upload-dataset",
          "Usage Frequency": 2,
          "subject": "genetics"
         },
         {
          "Feature": "brush-xrange",
          "Usage Frequency": 1,
          "subject": "material science"
         },
         {
          "Feature": "change-axis",
          "Usage Frequency": 8,
          "subject": "material science"
         },
         {
          "Feature": "change-metric",
          "Usage Frequency": 1,
          "subject": "material science"
         },
         {
          "Feature": "drag-and-drop",
          "Usage Frequency": 5,
          "subject": "material science"
         },
         {
          "Feature": "dynamic-class",
          "Usage Frequency": 12,
          "subject": "material science"
         },
         {
          "Feature": "filter",
          "Usage Frequency": 5,
          "subject": "material science"
         },
         {
          "Feature": "ignore-xrange",
          "Usage Frequency": 1,
          "subject": "material science"
         },
         {
          "Feature": "representative-outlier",
          "Usage Frequency": 2,
          "subject": "material science"
         },
         {
          "Feature": "show-scatter",
          "Usage Frequency": 3,
          "subject": "material science"
         },
         {
          "Feature": "sketch-to-modify",
          "Usage Frequency": 6,
          "subject": "material science"
         },
         {
          "Feature": "sketch-to-query",
          "Usage Frequency": 3,
          "subject": "material science"
         }
        ]
       },
       "encoding": {
        "color": {
         "field": "subject",
         "type": "nominal"
        },
        "x": {
         "field": "Usage Frequency",
         "type": "quantitative"
        },
        "y": {
         "field": "Feature",
         "type": "nominal"
        }
       },
       "mark": "bar"
      },
      "image/png": "[encoded data removed]",
      "text/plain": [
       "<VegaLite 2 object>\n",
       "\n",
       "If you see this message, it means the renderer has not been properly enabled\n",
       "for the frontend that you are using. For more information, see\n",
       "https://altair-viz.github.io/user_guide/troubleshooting.html\n"
      ]
     },
     "execution_count": 31,
     "metadata": {},
     "output_type": "execute_result"
    }
   ],
   "source": [
    "alt.Chart(df_frequency_by_subject_feature).mark_bar().encode(\n",
    "    alt.X(\"Usage Frequency\"),\n",
    "    alt.Y(\"Feature\"),\n",
    "    color = \"subject\"\n",
    ")"
   ]
  },
  {
   "cell_type": "code",
   "execution_count": 32,
   "metadata": {},
   "outputs": [],
   "source": [
    "df_component = df\n",
    "df_component[\"Component\"] = df[\"Feature\"].replace(component_dict)"
   ]
  },
  {
   "cell_type": "code",
   "execution_count": 33,
   "metadata": {},
   "outputs": [],
   "source": [
    "df_frequency_by_subject_feature = df.groupby([\"subject\",\"Component\"]).count()[\"t\"].reset_index().rename(columns={\"t\":\"Usage Frequency\"})"
   ]
  },
  {
   "cell_type": "code",
   "execution_count": 34,
   "metadata": {},
   "outputs": [],
   "source": [
    "df_frequency_by_subject_feature = df_frequency_by_subject_feature[df_frequency_by_subject_feature[\"Component\"]!=\"control\"]"
   ]
  },
  {
   "cell_type": "code",
   "execution_count": 35,
   "metadata": {},
   "outputs": [
    {
     "data": {
      "application/vnd.vegalite.v2+json": {
       "$schema": "https://vega.github.io/schema/vega-lite/v2.6.0.json",
       "config": {
        "view": {
         "height": 300,
         "width": 400
        }
       },
       "data": {
        "name": "data-64c73835db5054237a998e15cd30440f"
       },
       "datasets": {
        "data-64c73835db5054237a998e15cd30440f": [
         {
          "Component": "approx-shape-specification",
          "Usage Frequency": 4,
          "subject": "astro"
         },
         {
          "Component": "concept-query",
          "Usage Frequency": 2,
          "subject": "astro"
         },
         {
          "Component": "exact-specification",
          "Usage Frequency": 4,
          "subject": "astro"
         },
         {
          "Component": "filter-selection",
          "Usage Frequency": 19,
          "subject": "astro"
         },
         {
          "Component": "flexible-matching",
          "Usage Frequency": 3,
          "subject": "astro"
         },
         {
          "Component": "group-comparison",
          "Usage Frequency": 5,
          "subject": "astro"
         },
         {
          "Component": "range-selection",
          "Usage Frequency": 3,
          "subject": "astro"
         },
         {
          "Component": "recommendation",
          "Usage Frequency": 4,
          "subject": "astro"
         },
         {
          "Component": "result-querying",
          "Usage Frequency": 10,
          "subject": "astro"
         },
         {
          "Component": "approx-shape-specification",
          "Usage Frequency": 5,
          "subject": "genetics"
         },
         {
          "Component": "concept-query",
          "Usage Frequency": 1,
          "subject": "genetics"
         },
         {
          "Component": "exact-specification",
          "Usage Frequency": 2,
          "subject": "genetics"
         },
         {
          "Component": "filter-selection",
          "Usage Frequency": 7,
          "subject": "genetics"
         },
         {
          "Component": "flexible-matching",
          "Usage Frequency": 1,
          "subject": "genetics"
         },
         {
          "Component": "range-selection",
          "Usage Frequency": 2,
          "subject": "genetics"
         },
         {
          "Component": "recommendation",
          "Usage Frequency": 18,
          "subject": "genetics"
         },
         {
          "Component": "result-querying",
          "Usage Frequency": 7,
          "subject": "genetics"
         },
         {
          "Component": "approx-shape-specification",
          "Usage Frequency": 1,
          "subject": "material science"
         },
         {
          "Component": "exact-specification",
          "Usage Frequency": 9,
          "subject": "material science"
         },
         {
          "Component": "filter-selection",
          "Usage Frequency": 5,
          "subject": "material science"
         },
         {
          "Component": "flexible-matching",
          "Usage Frequency": 1,
          "subject": "material science"
         },
         {
          "Component": "group-comparison",
          "Usage Frequency": 12,
          "subject": "material science"
         },
         {
          "Component": "range-selection",
          "Usage Frequency": 1,
          "subject": "material science"
         },
         {
          "Component": "recommendation",
          "Usage Frequency": 2,
          "subject": "material science"
         },
         {
          "Component": "result-querying",
          "Usage Frequency": 5,
          "subject": "material science"
         }
        ]
       },
       "encoding": {
        "color": {
         "field": "subject",
         "type": "nominal"
        },
        "x": {
         "field": "Usage Frequency",
         "type": "quantitative"
        },
        "y": {
         "field": "Component",
         "sort": [
          "exact-specification",
          "approx-shape-specification",
          "range-selection",
          "flexible-matching",
          "filter-selection",
          "group-comparison",
          "concept-query",
          "result-querying",
          "recommendation",
          "control"
         ],
         "type": "nominal"
        }
       },
       "mark": "bar"
      },
      "image/png": "[encoded data removed]",
      "text/plain": [
       "<VegaLite 2 object>\n",
       "\n",
       "If you see this message, it means the renderer has not been properly enabled\n",
       "for the frontend that you are using. For more information, see\n",
       "https://altair-viz.github.io/user_guide/troubleshooting.html\n"
      ]
     },
     "execution_count": 35,
     "metadata": {},
     "output_type": "execute_result"
    }
   ],
   "source": [
    "alt.Chart(df_frequency_by_subject_feature).mark_bar().encode(\n",
    "    alt.X(\"Usage Frequency\"),\n",
    "    alt.Y(\"Component\",sort=['exact-specification','approx-shape-specification','range-selection','flexible-matching',\n",
    "                            'filter-selection','group-comparison',\n",
    "                            'concept-query', 'result-querying','recommendation','control']),\n",
    "    color = \"subject\"\n",
    ")"
   ]
  },
  {
   "cell_type": "code",
   "execution_count": 36,
   "metadata": {},
   "outputs": [],
   "source": [
    "df_process = df_component\n",
    "df_process[\"Process\"] = df_component[\"Component\"].replace(component_to_process)"
   ]
  },
  {
   "cell_type": "code",
   "execution_count": 37,
   "metadata": {},
   "outputs": [],
   "source": [
    "df_frequency_by_subject_feature = df.groupby([\"subject\",\"Process\"]).count()[\"t\"].reset_index().rename(columns={\"t\":\"Usage Frequency\"})"
   ]
  },
  {
   "cell_type": "code",
   "execution_count": 38,
   "metadata": {},
   "outputs": [],
   "source": [
    "df_frequency_by_subject_feature = df_frequency_by_subject_feature[df_frequency_by_subject_feature[\"Process\"]!=\"others\"]"
   ]
  },
  {
   "cell_type": "code",
   "execution_count": 42,
   "metadata": {},
   "outputs": [
    {
     "data": {
      "application/vnd.vegalite.v2+json": {
       "$schema": "https://vega.github.io/schema/vega-lite/v2.6.0.json",
       "config": {
        "view": {
         "height": 300,
         "width": 400
        }
       },
       "data": {
        "name": "data-88e550af0ff10015e54bd1603e57dc1b"
       },
       "datasets": {
        "data-88e550af0ff10015e54bd1603e57dc1b": [
         {
          "Process": "bottom-up-querying",
          "Usage Frequency": 12,
          "subject": "astro"
         },
         {
          "Process": "recommendation",
          "Usage Frequency": 4,
          "subject": "astro"
         },
         {
          "Process": "search-with-context",
          "Usage Frequency": 24,
          "subject": "astro"
         },
         {
          "Process": "top-down-querying",
          "Usage Frequency": 14,
          "subject": "astro"
         },
         {
          "Process": "bottom-up-querying",
          "Usage Frequency": 8,
          "subject": "genetics"
         },
         {
          "Process": "recommendation",
          "Usage Frequency": 18,
          "subject": "genetics"
         },
         {
          "Process": "search-with-context",
          "Usage Frequency": 7,
          "subject": "genetics"
         },
         {
          "Process": "top-down-querying",
          "Usage Frequency": 10,
          "subject": "genetics"
         },
         {
          "Process": "bottom-up-querying",
          "Usage Frequency": 5,
          "subject": "material science"
         },
         {
          "Process": "recommendation",
          "Usage Frequency": 2,
          "subject": "material science"
         },
         {
          "Process": "search-with-context",
          "Usage Frequency": 17,
          "subject": "material science"
         },
         {
          "Process": "top-down-querying",
          "Usage Frequency": 12,
          "subject": "material science"
         }
        ]
       },
       "encoding": {
        "color": {
         "field": "subject",
         "type": "nominal"
        },
        "x": {
         "field": "Usage Frequency",
         "type": "quantitative"
        },
        "y": {
         "field": "Process",
         "sort": [
          "top-down-querying",
          "search-with-context",
          "bottom-up-querying",
          "recommendation"
         ],
         "type": "nominal"
        }
       },
       "mark": "bar"
      },
      "image/png": "[encoded data removed]",
      "text/plain": [
       "<VegaLite 2 object>\n",
       "\n",
       "If you see this message, it means the renderer has not been properly enabled\n",
       "for the frontend that you are using. For more information, see\n",
       "https://altair-viz.github.io/user_guide/troubleshooting.html\n"
      ]
     },
     "execution_count": 42,
     "metadata": {},
     "output_type": "execute_result"
    }
   ],
   "source": [
    "alt.Chart(df_frequency_by_subject_feature).mark_bar().encode(\n",
    "    alt.X(\"Usage Frequency\"),\n",
    "    alt.Y(\"Process\",sort=[td,sc,bu,rec]),\n",
    "    alt.Color(\"subject\")\n",
    ")"
   ]
  },
  {
   "cell_type": "markdown",
   "metadata": {},
   "source": [
    "Most of the contribution of top-down querying is coming from changing metric, brush x-range, ignore-xrange, not just the sketching portion. "
   ]
  },
  {
   "cell_type": "code",
   "execution_count": 40,
   "metadata": {},
   "outputs": [
    {
     "data": {
      "text/plain": [
       "Feature\n",
       "brush-xrange        6\n",
       "change-metric       5\n",
       "ignore-xrange       6\n",
       "input-equation      1\n",
       "sketch-to-modify    7\n",
       "sketch-to-query     7\n",
       "smoothing           4\n",
       "Name: user, dtype: int64"
      ]
     },
     "execution_count": 40,
     "metadata": {},
     "output_type": "execute_result"
    }
   ],
   "source": [
    "df_process[df_process[\"Process\"]==\"top-down-querying\"].groupby(\"Feature\").count()[\"user\"]"
   ]
  },
  {
   "cell_type": "markdown",
   "metadata": {},
   "source": [
    "# Compiling everything into sessions"
   ]
  },
  {
   "cell_type": "code",
   "execution_count": 141,
   "metadata": {},
   "outputs": [
    {
     "name": "stderr",
     "output_type": "stream",
     "text": [
      "/Users/dorislee/.virtualenvs/py37env/lib/python3.7/site-packages/ipykernel_launcher.py:3: FutureWarning: Method .as_matrix will be removed in a future version. Use .values instead.\n",
      "  This is separate from the ipykernel package so we can avoid doing imports until\n"
     ]
    }
   ],
   "source": [
    "df = pd.read_csv(\"StudyEventTimeSeries.csv\")\n",
    "sessions=[]\n",
    "for row in df.as_matrix().T: \n",
    "    session=[]\n",
    "    for action in row:\n",
    "        if action is not np.NaN:\n",
    "            if action==\"BR\":\n",
    "                if session!=[]:\n",
    "                    sessions.append(session)\n",
    "                session=[]\n",
    "            else:\n",
    "                session.append(action)\n",
    "    if session!=[]:\n",
    "        sessions.append(session)"
   ]
  },
  {
   "cell_type": "code",
   "execution_count": 59,
   "metadata": {},
   "outputs": [],
   "source": [
    "#Overall Counts\n",
    "from collections import Counter\n",
    "overall_sessions_flat  = [item for sublist in sessions  for item in sublist]"
   ]
  },
  {
   "cell_type": "code",
   "execution_count": 60,
   "metadata": {},
   "outputs": [
    {
     "name": "stdout",
     "output_type": "stream",
     "text": [
      "Number of sessions with at least one insight: 30\n"
     ]
    }
   ],
   "source": [
    "print (\"Number of sessions with at least one insight:\", len(list(filter(lambda x: ('IS' in x) or ('ID' in x),sessions))) )"
   ]
  },
  {
   "cell_type": "code",
   "execution_count": 61,
   "metadata": {},
   "outputs": [],
   "source": [
    "insightful_sessions = list(filter(lambda x: ('IS' in x) or ('ID' in x),sessions))"
   ]
  },
  {
   "cell_type": "code",
   "execution_count": 62,
   "metadata": {},
   "outputs": [],
   "source": [
    "insightful_sessions_flat  = [item for sublist in insightful_sessions  for item in sublist]"
   ]
  },
  {
   "cell_type": "code",
   "execution_count": 66,
   "metadata": {},
   "outputs": [],
   "source": [
    "insightful_sessions_flat_filtered = list(filter(lambda x: x in featureOnly, insightful_sessions_flat)) #filter out action codes with capital letters"
   ]
  },
  {
   "cell_type": "code",
   "execution_count": 71,
   "metadata": {},
   "outputs": [],
   "source": [
    "x = Counter(insightful_sessions_flat_filtered)\n",
    "df = pd.DataFrame(x.most_common(),columns=[\"Feature\",\"Usage Frequency\"])"
   ]
  },
  {
   "cell_type": "code",
   "execution_count": 137,
   "metadata": {},
   "outputs": [],
   "source": [
    "chart = alt.Chart(df).mark_bar().encode(\n",
    "    alt.X(\"Usage Frequency\"),#,sort=alt.SortField(field='Usage Frequency', order='descending'))\n",
    "    alt.Y(\"Feature\")\n",
    ")"
   ]
  },
  {
   "cell_type": "code",
   "execution_count": 138,
   "metadata": {},
   "outputs": [
    {
     "data": {
      "application/vnd.vegalite.v2+json": {
       "$schema": "https://vega.github.io/schema/vega-lite/v2.6.0.json",
       "config": {
        "view": {
         "height": 300,
         "width": 400
        }
       },
       "data": {
        "name": "data-bcb9521b8423a51d02641299b6cd40f1"
       },
       "datasets": {
        "data-bcb9521b8423a51d02641299b6cd40f1": [
         {
          "Feature": "filter",
          "Usage Frequency": 24
         },
         {
          "Feature": "drag-and-drop",
          "Usage Frequency": 16
         },
         {
          "Feature": "dynamic-class",
          "Usage Frequency": 14
         },
         {
          "Feature": "representative-outlier",
          "Usage Frequency": 14
         },
         {
          "Feature": "change-axis",
          "Usage Frequency": 8
         },
         {
          "Feature": "sketch-to-query",
          "Usage Frequency": 7
         },
         {
          "Feature": "export",
          "Usage Frequency": 7
         },
         {
          "Feature": "control-kmeans-clustersize",
          "Usage Frequency": 6
         },
         {
          "Feature": "ignore-xrange",
          "Usage Frequency": 5
         },
         {
          "Feature": "change-metric",
          "Usage Frequency": 5
         },
         {
          "Feature": "show-scatter",
          "Usage Frequency": 5
         },
         {
          "Feature": "brush-xrange",
          "Usage Frequency": 4
         },
         {
          "Feature": "sketch-to-modify",
          "Usage Frequency": 4
         },
         {
          "Feature": "pattern-upload",
          "Usage Frequency": 3
         },
         {
          "Feature": "change-number-of-results",
          "Usage Frequency": 3
         },
         {
          "Feature": "smoothing",
          "Usage Frequency": 2
         },
         {
          "Feature": "upload-dataset",
          "Usage Frequency": 2
         },
         {
          "Feature": "reverse-y",
          "Usage Frequency": 1
         }
        ]
       },
       "encoding": {
        "x": {
         "field": "Usage Frequency",
         "type": "quantitative"
        },
        "y": {
         "field": "Feature",
         "type": "nominal"
        }
       },
       "mark": "bar"
      },
      "image/png": "[encoded data removed]",
      "text/plain": [
       "<VegaLite 2 object>\n",
       "\n",
       "If you see this message, it means the renderer has not been properly enabled\n",
       "for the frontend that you are using. For more information, see\n",
       "https://altair-viz.github.io/user_guide/troubleshooting.html\n"
      ]
     },
     "execution_count": 138,
     "metadata": {},
     "output_type": "execute_result"
    }
   ],
   "source": [
    "chart"
   ]
  },
  {
   "cell_type": "code",
   "execution_count": null,
   "metadata": {},
   "outputs": [],
   "source": []
  }
 ],
 "metadata": {
  "kernelspec": {
   "display_name": "Python 3",
   "language": "python",
   "name": "python3"
  },
  "language_info": {
   "codemirror_mode": {
    "name": "ipython",
    "version": 3
   },
   "file_extension": ".py",
   "mimetype": "text/x-python",
   "name": "python",
   "nbconvert_exporter": "python",
   "pygments_lexer": "ipython3",
   "version": "3.7.0"
  }
 },
 "nbformat": 4,
 "nbformat_minor": 2
}
