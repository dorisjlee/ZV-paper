{
 "cells": [
  {
   "cell_type": "code",
   "execution_count": 1,
   "metadata": {
    "collapsed": true
   },
   "outputs": [],
   "source": [
    "import pandas as pd"
   ]
  },
  {
   "cell_type": "code",
   "execution_count": 8,
   "metadata": {
    "collapsed": false
   },
   "outputs": [],
   "source": [
    "df = pd.read_csv(\"StudyEventTimeSeries 1.10.52 PM.csv\")"
   ]
  },
  {
   "cell_type": "code",
   "execution_count": 9,
   "metadata": {},
   "outputs": [],
   "source": [
    "import numpy as np"
   ]
  },
  {
   "cell_type": "code",
   "execution_count": 10,
   "metadata": {},
   "outputs": [
    {
     "name": "stderr",
     "output_type": "stream",
     "text": [
      "/Users/dorislee/.virtualenvs/py37env/lib/python3.7/site-packages/ipykernel_launcher.py:1: FutureWarning: Method .as_matrix will be removed in a future version. Use .values instead.\n",
      "  \"\"\"Entry point for launching an IPython kernel.\n"
     ]
    }
   ],
   "source": [
    "codelist = list(set(df.as_matrix().flatten()))\n",
    "codelist.remove(np.nan)"
   ]
  },
  {
   "cell_type": "code",
   "execution_count": 11,
   "metadata": {},
   "outputs": [],
   "source": [
    "featureOnly= list(filter(lambda x: x.isupper(),codelist))\n",
    "themeOnly= list(filter(lambda x: x.islower(),codelist))"
   ]
  },
  {
   "cell_type": "code",
   "execution_count": 12,
   "metadata": {
    "collapsed": false
   },
   "outputs": [],
   "source": [
    "# df[\"t\"]=df.index"
   ]
  },
  {
   "cell_type": "code",
   "execution_count": 13,
   "metadata": {},
   "outputs": [],
   "source": [
    "df = df.stack().reset_index()"
   ]
  },
  {
   "cell_type": "code",
   "execution_count": 14,
   "metadata": {},
   "outputs": [],
   "source": [
    "df = df.rename(columns={\n",
    "    \"level_0\":\"t\",\n",
    "    \"level_1\":\"user\",\n",
    "    0:\"action\"\n",
    "})"
   ]
  },
  {
   "cell_type": "code",
   "execution_count": 15,
   "metadata": {
    "collapsed": false
   },
   "outputs": [],
   "source": [
    "import altair as alt"
   ]
  },
  {
   "cell_type": "code",
   "execution_count": 16,
   "metadata": {
    "collapsed": false
   },
   "outputs": [
    {
     "data": {
      "application/vnd.vegalite.v2+json": {
       "$schema": "https://vega.github.io/schema/vega-lite/v2.6.0.json",
       "config": {
        "view": {
         "height": 300,
         "width": 400
        }
       },
       "data": {
        "name": "data-e28318f60660746fb168b0576ef39706"
       },
       "datasets": {
        "data-e28318f60660746fb168b0576ef39706": [
         {
          "action": "filter",
          "t": 0,
          "user": "A1"
         },
         {
          "action": "filter",
          "t": 0,
          "user": "A2"
         },
         {
          "action": "drag-and-drop",
          "t": 0,
          "user": "A3"
         },
         {
          "action": "representative-outlier",
          "t": 0,
          "user": "G1"
         },
         {
          "action": "representative-outlier",
          "t": 0,
          "user": "G2"
         },
         {
          "action": "ID",
          "t": 0,
          "user": "G3"
         },
         {
          "action": "PD",
          "t": 0,
          "user": "M1"
         },
         {
          "action": "show-scatter",
          "t": 0,
          "user": "M2"
         },
         {
          "action": "dynamic-class",
          "t": 0,
          "user": "M3"
         },
         {
          "action": "filter",
          "t": 1,
          "user": "A1"
         },
         {
          "action": "E",
          "t": 1,
          "user": "A2"
         },
         {
          "action": "drag-and-drop",
          "t": 1,
          "user": "A3"
         },
         {
          "action": "control-kmeans-clustersize",
          "t": 1,
          "user": "G1"
         },
         {
          "action": "IS",
          "t": 1,
          "user": "G2"
         },
         {
          "action": "C",
          "t": 1,
          "user": "G3"
         },
         {
          "action": "sketch-to-query",
          "t": 1,
          "user": "M1"
         },
         {
          "action": "change-axis",
          "t": 1,
          "user": "M2"
         },
         {
          "action": "ID",
          "t": 1,
          "user": "M3"
         },
         {
          "action": "filter",
          "t": 2,
          "user": "A1"
         },
         {
          "action": "E",
          "t": 2,
          "user": "A2"
         },
         {
          "action": "sketch-to-modify",
          "t": 2,
          "user": "A3"
         },
         {
          "action": "representative-outlier",
          "t": 2,
          "user": "G1"
         },
         {
          "action": "BR",
          "t": 2,
          "user": "G2"
         },
         {
          "action": "W",
          "t": 2,
          "user": "G3"
         },
         {
          "action": "ignore-xrange",
          "t": 2,
          "user": "M1"
         },
         {
          "action": "PS",
          "t": 2,
          "user": "M2"
         },
         {
          "action": "show-scatter",
          "t": 2,
          "user": "M3"
         },
         {
          "action": "filter",
          "t": 3,
          "user": "A1"
         },
         {
          "action": "drag-and-drop",
          "t": 3,
          "user": "A2"
         },
         {
          "action": "ignore-xrange",
          "t": 3,
          "user": "A3"
         },
         {
          "action": "control-kmeans-clustersize",
          "t": 3,
          "user": "G1"
         },
         {
          "action": "representative-outlier",
          "t": 3,
          "user": "G2"
         },
         {
          "action": "show-scatter",
          "t": 3,
          "user": "G3"
         },
         {
          "action": "C",
          "t": 3,
          "user": "M1"
         },
         {
          "action": "dynamic-class",
          "t": 3,
          "user": "M2"
         },
         {
          "action": "IS",
          "t": 3,
          "user": "M3"
         },
         {
          "action": "BR",
          "t": 4,
          "user": "A1"
         },
         {
          "action": "W",
          "t": 4,
          "user": "A2"
         },
         {
          "action": "BR",
          "t": 4,
          "user": "A3"
         },
         {
          "action": "W",
          "t": 4,
          "user": "G1"
         },
         {
          "action": "control-kmeans-clustersize",
          "t": 4,
          "user": "G2"
         },
         {
          "action": "upload-dataset",
          "t": 4,
          "user": "G3"
         },
         {
          "action": "change-axis",
          "t": 4,
          "user": "M1"
         },
         {
          "action": "dynamic-class",
          "t": 4,
          "user": "M2"
         },
         {
          "action": "dynamic-class",
          "t": 4,
          "user": "M3"
         },
         {
          "action": "IS",
          "t": 5,
          "user": "A1"
         },
         {
          "action": "ID",
          "t": 5,
          "user": "A2"
         },
         {
          "action": "drag-and-drop",
          "t": 5,
          "user": "A3"
         },
         {
          "action": "IS",
          "t": 5,
          "user": "G1"
         },
         {
          "action": "representative-outlier",
          "t": 5,
          "user": "G2"
         },
         {
          "action": "representative-outlier",
          "t": 5,
          "user": "G3"
         },
         {
          "action": "W",
          "t": 5,
          "user": "M1"
         },
         {
          "action": "dynamic-class",
          "t": 5,
          "user": "M2"
         },
         {
          "action": "PS",
          "t": 5,
          "user": "M3"
         },
         {
          "action": "E",
          "t": 6,
          "user": "A1"
         },
         {
          "action": "E",
          "t": 6,
          "user": "A2"
         },
         {
          "action": "ignore-xrange",
          "t": 6,
          "user": "A3"
         },
         {
          "action": "BR",
          "t": 6,
          "user": "G1"
         },
         {
          "action": "filter",
          "t": 6,
          "user": "G2"
         },
         {
          "action": "ID",
          "t": 6,
          "user": "G3"
         },
         {
          "action": "W",
          "t": 6,
          "user": "M1"
         },
         {
          "action": "dynamic-class",
          "t": 6,
          "user": "M2"
         },
         {
          "action": "dynamic-class",
          "t": 6,
          "user": "M3"
         },
         {
          "action": "E",
          "t": 7,
          "user": "A1"
         },
         {
          "action": "ID",
          "t": 7,
          "user": "A2"
         },
         {
          "action": "change-metric",
          "t": 7,
          "user": "A3"
         },
         {
          "action": "drag-and-drop",
          "t": 7,
          "user": "G1"
         },
         {
          "action": "C",
          "t": 7,
          "user": "G2"
         },
         {
          "action": "change-metric",
          "t": 7,
          "user": "G3"
         },
         {
          "action": "W",
          "t": 7,
          "user": "M1"
         },
         {
          "action": "PS",
          "t": 7,
          "user": "M2"
         },
         {
          "action": "ID",
          "t": 7,
          "user": "M3"
         },
         {
          "action": "drag-and-drop",
          "t": 8,
          "user": "A1"
         },
         {
          "action": "BR",
          "t": 8,
          "user": "A2"
         },
         {
          "action": "C",
          "t": 8,
          "user": "A3"
         },
         {
          "action": "IS",
          "t": 8,
          "user": "G1"
         },
         {
          "action": "BR",
          "t": 8,
          "user": "G2"
         },
         {
          "action": "control-kmeans-clustersize",
          "t": 8,
          "user": "G3"
         },
         {
          "action": "brush-xrange",
          "t": 8,
          "user": "M1"
         },
         {
          "action": "dynamic-class",
          "t": 8,
          "user": "M2"
         },
         {
          "action": "change-axis",
          "t": 8,
          "user": "M3"
         },
         {
          "action": "ID",
          "t": 9,
          "user": "A1"
         },
         {
          "action": "filter",
          "t": 9,
          "user": "A2"
         },
         {
          "action": "brush-xrange",
          "t": 9,
          "user": "A3"
         },
         {
          "action": "W",
          "t": 9,
          "user": "G1"
         },
         {
          "action": "W",
          "t": 9,
          "user": "G2"
         },
         {
          "action": "representative-outlier",
          "t": 9,
          "user": "G3"
         },
         {
          "action": "change-axis",
          "t": 9,
          "user": "M1"
         },
         {
          "action": "IS",
          "t": 9,
          "user": "M2"
         },
         {
          "action": "IS",
          "t": 9,
          "user": "M3"
         },
         {
          "action": "filter",
          "t": 10,
          "user": "A1"
         },
         {
          "action": "E",
          "t": 10,
          "user": "A2"
         },
         {
          "action": "change-metric",
          "t": 10,
          "user": "A3"
         },
         {
          "action": "BR",
          "t": 10,
          "user": "G1"
         },
         {
          "action": "drag-and-drop",
          "t": 10,
          "user": "G2"
         },
         {
          "action": "W",
          "t": 10,
          "user": "G3"
         },
         {
          "action": "IS",
          "t": 10,
          "user": "M1"
         },
         {
          "action": "IS",
          "t": 10,
          "user": "M2"
         },
         {
          "action": "drag-and-drop",
          "t": 10,
          "user": "M3"
         },
         {
          "action": "E",
          "t": 11,
          "user": "A1"
         },
         {
          "action": "PD",
          "t": 11,
          "user": "A2"
         },
         {
          "action": "ID",
          "t": 11,
          "user": "A3"
         },
         {
          "action": "drag-and-drop",
          "t": 11,
          "user": "G1"
         },
         {
          "action": "W",
          "t": 11,
          "user": "G2"
         },
         {
          "action": "ID",
          "t": 11,
          "user": "G3"
         },
         {
          "action": "representative-outlier",
          "t": 11,
          "user": "M1"
         },
         {
          "action": "C",
          "t": 11,
          "user": "M2"
         },
         {
          "action": "dynamic-class",
          "t": 11,
          "user": "M3"
         },
         {
          "action": "IS",
          "t": 12,
          "user": "A1"
         },
         {
          "action": "export",
          "t": 12,
          "user": "A2"
         },
         {
          "action": "change-metric",
          "t": 12,
          "user": "A3"
         },
         {
          "action": "min-similarity-cutoff",
          "t": 12,
          "user": "G1"
         },
         {
          "action": "filter",
          "t": 12,
          "user": "G2"
         },
         {
          "action": "drag-and-drop",
          "t": 12,
          "user": "G3"
         },
         {
          "action": "W",
          "t": 12,
          "user": "M1"
         },
         {
          "action": "BR",
          "t": 12,
          "user": "M2"
         },
         {
          "action": "IS",
          "t": 12,
          "user": "M3"
         },
         {
          "action": "PS",
          "t": 13,
          "user": "A1"
         },
         {
          "action": "filter",
          "t": 13,
          "user": "A2"
         },
         {
          "action": "W",
          "t": 13,
          "user": "A3"
         },
         {
          "action": "brush-xrange",
          "t": 13,
          "user": "G1"
         },
         {
          "action": "PS",
          "t": 13,
          "user": "G2"
         },
         {
          "action": "IS",
          "t": 13,
          "user": "G3"
         },
         {
          "action": "PS",
          "t": 13,
          "user": "M1"
         },
         {
          "action": "W",
          "t": 13,
          "user": "M2"
         },
         {
          "action": "change-metric",
          "t": 13,
          "user": "M3"
         },
         {
          "action": "E",
          "t": 14,
          "user": "A1"
         },
         {
          "action": "E",
          "t": 14,
          "user": "A2"
         },
         {
          "action": "BR",
          "t": 14,
          "user": "A3"
         },
         {
          "action": "export",
          "t": 14,
          "user": "G1"
         },
         {
          "action": "BR",
          "t": 14,
          "user": "G2"
         },
         {
          "action": "export",
          "t": 14,
          "user": "G3"
         },
         {
          "action": "dynamic-class",
          "t": 14,
          "user": "M1"
         },
         {
          "action": "dynamic-class",
          "t": 14,
          "user": "M2"
         },
         {
          "action": "C",
          "t": 14,
          "user": "M3"
         },
         {
          "action": "PS",
          "t": 15,
          "user": "A1"
         },
         {
          "action": "PD",
          "t": 15,
          "user": "A2"
         },
         {
          "action": "filter",
          "t": 15,
          "user": "A3"
         },
         {
          "action": "BR",
          "t": 15,
          "user": "G1"
         },
         {
          "action": "show-scatter",
          "t": 15,
          "user": "G2"
         },
         {
          "action": "representative-outlier",
          "t": 15,
          "user": "G3"
         },
         {
          "action": "PD",
          "t": 15,
          "user": "M1"
         },
         {
          "action": "IS",
          "t": 15,
          "user": "M2"
         },
         {
          "action": "drag-and-drop",
          "t": 15,
          "user": "M3"
         },
         {
          "action": "PD",
          "t": 16,
          "user": "A1"
         },
         {
          "action": "filter",
          "t": 16,
          "user": "A2"
         },
         {
          "action": "W",
          "t": 16,
          "user": "A3"
         },
         {
          "action": "control-kmeans-clustersize",
          "t": 16,
          "user": "G1"
         },
         {
          "action": "ID",
          "t": 16,
          "user": "G2"
         },
         {
          "action": "IS",
          "t": 16,
          "user": "G3"
         },
         {
          "action": "IS",
          "t": 16,
          "user": "M1"
         },
         {
          "action": "sketch-to-query",
          "t": 16,
          "user": "M2"
         },
         {
          "action": "IS",
          "t": 16,
          "user": "M3"
         },
         {
          "action": "reverse-y",
          "t": 17,
          "user": "A1"
         },
         {
          "action": "E",
          "t": 17,
          "user": "A2"
         },
         {
          "action": "W",
          "t": 17,
          "user": "A3"
         },
         {
          "action": "C",
          "t": 17,
          "user": "G1"
         },
         {
          "action": "BR",
          "t": 17,
          "user": "G2"
         },
         {
          "action": "ignore-xrange",
          "t": 17,
          "user": "G3"
         },
         {
          "action": "BR",
          "t": 17,
          "user": "M1"
         },
         {
          "action": "C",
          "t": 17,
          "user": "M2"
         },
         {
          "action": "BR",
          "t": 17,
          "user": "M3"
         },
         {
          "action": "E",
          "t": 18,
          "user": "A1"
         },
         {
          "action": "PD",
          "t": 18,
          "user": "A2"
         },
         {
          "action": "filter",
          "t": 18,
          "user": "A3"
         },
         {
          "action": "W",
          "t": 18,
          "user": "G1"
         },
         {
          "action": "sketch-to-query",
          "t": 18,
          "user": "G2"
         },
         {
          "action": "IS",
          "t": 18,
          "user": "G3"
         },
         {
          "action": "filter",
          "t": 18,
          "user": "M1"
         },
         {
          "action": "sketch-to-query",
          "t": 18,
          "user": "M2"
         },
         {
          "action": "change-axis",
          "t": 18,
          "user": "M3"
         },
         {
          "action": "PS",
          "t": 19,
          "user": "A1"
         },
         {
          "action": "export",
          "t": 19,
          "user": "A2"
         },
         {
          "action": "ID",
          "t": 19,
          "user": "A3"
         },
         {
          "action": "drag-and-drop",
          "t": 19,
          "user": "G1"
         },
         {
          "action": "ID",
          "t": 19,
          "user": "G2"
         },
         {
          "action": "sketch-to-query",
          "t": 19,
          "user": "M1"
         },
         {
          "action": "change-axis",
          "t": 19,
          "user": "M2"
         },
         {
          "action": "sketch-to-modify",
          "t": 19,
          "user": "M3"
         },
         {
          "action": "BR",
          "t": 20,
          "user": "A1"
         },
         {
          "action": "export",
          "t": 20,
          "user": "A2"
         },
         {
          "action": "BR",
          "t": 20,
          "user": "A3"
         },
         {
          "action": "drag-and-drop",
          "t": 20,
          "user": "G1"
         },
         {
          "action": "W",
          "t": 20,
          "user": "G2"
         },
         {
          "action": "show-scatter",
          "t": 20,
          "user": "M1"
         },
         {
          "action": "sketch-to-query",
          "t": 20,
          "user": "M2"
         },
         {
          "action": "sketch-to-modify",
          "t": 20,
          "user": "M3"
         },
         {
          "action": "drag-and-drop",
          "t": 21,
          "user": "A1"
         },
         {
          "action": "filter",
          "t": 21,
          "user": "A2"
         },
         {
          "action": "change-axis",
          "t": 21,
          "user": "A3"
         },
         {
          "action": "ID",
          "t": 21,
          "user": "G1"
         },
         {
          "action": "ignore-xrange",
          "t": 21,
          "user": "G2"
         },
         {
          "action": "W",
          "t": 21,
          "user": "M1"
         },
         {
          "action": "drag-and-drop",
          "t": 21,
          "user": "M2"
         },
         {
          "action": "BR",
          "t": 21,
          "user": "M3"
         },
         {
          "action": "C",
          "t": 22,
          "user": "A1"
         },
         {
          "action": "E",
          "t": 22,
          "user": "A2"
         },
         {
          "action": "ID",
          "t": 22,
          "user": "A3"
         },
         {
          "action": "control-kmeans-clustersize",
          "t": 22,
          "user": "G1"
         },
         {
          "action": "sketch-to-query",
          "t": 22,
          "user": "G2"
         },
         {
          "action": "filter",
          "t": 22,
          "user": "M1"
         },
         {
          "action": "sketch-to-modify",
          "t": 22,
          "user": "M2"
         },
         {
          "action": "PS",
          "t": 22,
          "user": "M3"
         },
         {
          "action": "filter",
          "t": 23,
          "user": "A1"
         },
         {
          "action": "export",
          "t": 23,
          "user": "A2"
         },
         {
          "action": "filter",
          "t": 23,
          "user": "A3"
         },
         {
          "action": "C",
          "t": 23,
          "user": "G1"
         },
         {
          "action": "filter",
          "t": 23,
          "user": "G2"
         },
         {
          "action": "filter",
          "t": 23,
          "user": "M1"
         },
         {
          "action": "ID",
          "t": 23,
          "user": "M2"
         },
         {
          "action": "drag-and-drop",
          "t": 23,
          "user": "M3"
         },
         {
          "action": "BR",
          "t": 24,
          "user": "A1"
         },
         {
          "action": "BR",
          "t": 24,
          "user": "A2"
         },
         {
          "action": "W",
          "t": 24,
          "user": "A3"
         },
         {
          "action": "W",
          "t": 24,
          "user": "G1"
         },
         {
          "action": "IS",
          "t": 24,
          "user": "G2"
         },
         {
          "action": "filter",
          "t": 24,
          "user": "M1"
         },
         {
          "action": "C",
          "t": 24,
          "user": "M2"
         },
         {
          "action": "ID",
          "t": 24,
          "user": "M3"
         },
         {
          "action": "filter",
          "t": 25,
          "user": "A1"
         },
         {
          "action": "PS",
          "t": 25,
          "user": "A2"
         },
         {
          "action": "change-axis",
          "t": 25,
          "user": "A3"
         },
         {
          "action": "PS",
          "t": 25,
          "user": "G1"
         },
         {
          "action": "filter",
          "t": 25,
          "user": "G2"
         },
         {
          "action": "ID",
          "t": 25,
          "user": "M1"
         },
         {
          "action": "drag-and-drop",
          "t": 25,
          "user": "M2"
         },
         {
          "action": "W",
          "t": 25,
          "user": "M3"
         },
         {
          "action": "PS",
          "t": 26,
          "user": "A1"
         },
         {
          "action": "E",
          "t": 26,
          "user": "A2"
         },
         {
          "action": "PS",
          "t": 26,
          "user": "A3"
         },
         {
          "action": "W",
          "t": 26,
          "user": "G1"
         },
         {
          "action": "BR",
          "t": 26,
          "user": "G2"
         },
         {
          "action": "BR",
          "t": 26,
          "user": "M1"
         },
         {
          "action": "sketch-to-modify",
          "t": 26,
          "user": "M2"
         },
         {
          "action": "IS",
          "t": 26,
          "user": "M3"
         },
         {
          "action": "E",
          "t": 27,
          "user": "A1"
         },
         {
          "action": "E",
          "t": 27,
          "user": "A2"
         },
         {
          "action": "input-equation",
          "t": 27,
          "user": "A3"
         },
         {
          "action": "filter",
          "t": 27,
          "user": "G2"
         },
         {
          "action": "W",
          "t": 27,
          "user": "M1"
         },
         {
          "action": "IS",
          "t": 27,
          "user": "M2"
         },
         {
          "action": "BR",
          "t": 27,
          "user": "M3"
         },
         {
          "action": "E",
          "t": 28,
          "user": "A1"
         },
         {
          "action": "dynamic-class",
          "t": 28,
          "user": "A2"
         },
         {
          "action": "export",
          "t": 28,
          "user": "A3"
         },
         {
          "action": "PS",
          "t": 28,
          "user": "G2"
         },
         {
          "action": "E",
          "t": 28,
          "user": "M1"
         },
         {
          "action": "C",
          "t": 28,
          "user": "M2"
         },
         {
          "action": "change-axis",
          "t": 28,
          "user": "M3"
         },
         {
          "action": "PS",
          "t": 29,
          "user": "A1"
         },
         {
          "action": "W",
          "t": 29,
          "user": "A2"
         },
         {
          "action": "W",
          "t": 29,
          "user": "A3"
         },
         {
          "action": "filter",
          "t": 29,
          "user": "G2"
         },
         {
          "action": "E",
          "t": 29,
          "user": "M1"
         },
         {
          "action": "C",
          "t": 29,
          "user": "M2"
         },
         {
          "action": "W",
          "t": 29,
          "user": "M3"
         },
         {
          "action": "brush-xrange",
          "t": 30,
          "user": "A1"
         },
         {
          "action": "E",
          "t": 30,
          "user": "A2"
         },
         {
          "action": "W",
          "t": 30,
          "user": "G2"
         },
         {
          "action": "W",
          "t": 30,
          "user": "M1"
         },
         {
          "action": "BR",
          "t": 30,
          "user": "M2"
         },
         {
          "action": "W",
          "t": 30,
          "user": "M3"
         },
         {
          "action": "W",
          "t": 31,
          "user": "A1"
         },
         {
          "action": "change-axis",
          "t": 31,
          "user": "A2"
         },
         {
          "action": "representative-outlier",
          "t": 31,
          "user": "G2"
         },
         {
          "action": "E",
          "t": 31,
          "user": "M1"
         },
         {
          "action": "dynamic-class",
          "t": 31,
          "user": "M2"
         },
         {
          "action": "ID",
          "t": 32,
          "user": "A1"
         },
         {
          "action": "ignore-xrange",
          "t": 32,
          "user": "A2"
         },
         {
          "action": "smoothing",
          "t": 32,
          "user": "G2"
         },
         {
          "action": "IS",
          "t": 32,
          "user": "M2"
         },
         {
          "action": "W",
          "t": 33,
          "user": "A1"
         },
         {
          "action": "IS",
          "t": 33,
          "user": "A2"
         },
         {
          "action": "smoothing",
          "t": 33,
          "user": "G2"
         },
         {
          "action": "IS",
          "t": 33,
          "user": "M2"
         },
         {
          "action": "W",
          "t": 34,
          "user": "A1"
         },
         {
          "action": "PD",
          "t": 34,
          "user": "A2"
         },
         {
          "action": "pattern-upload",
          "t": 34,
          "user": "G2"
         },
         {
          "action": "representative-outlier",
          "t": 34,
          "user": "M2"
         },
         {
          "action": "ID",
          "t": 35,
          "user": "A1"
         },
         {
          "action": "BR",
          "t": 35,
          "user": "A2"
         },
         {
          "action": "PD",
          "t": 35,
          "user": "G2"
         },
         {
          "action": "filter",
          "t": 35,
          "user": "M2"
         },
         {
          "action": "BR",
          "t": 36,
          "user": "A1"
         },
         {
          "action": "W",
          "t": 36,
          "user": "A2"
         },
         {
          "action": "E",
          "t": 36,
          "user": "G2"
         },
         {
          "action": "IS",
          "t": 36,
          "user": "M2"
         },
         {
          "action": "filter",
          "t": 37,
          "user": "A1"
         },
         {
          "action": "PS",
          "t": 37,
          "user": "A2"
         },
         {
          "action": "filter",
          "t": 37,
          "user": "G2"
         },
         {
          "action": "change-axis",
          "t": 37,
          "user": "M2"
         },
         {
          "action": "filter",
          "t": 38,
          "user": "A1"
         },
         {
          "action": "drag-and-drop",
          "t": 38,
          "user": "A2"
         },
         {
          "action": "drag-and-drop",
          "t": 38,
          "user": "G2"
         },
         {
          "action": "ID",
          "t": 38,
          "user": "M2"
         },
         {
          "action": "smoothing",
          "t": 39,
          "user": "A1"
         },
         {
          "action": "W",
          "t": 39,
          "user": "A2"
         },
         {
          "action": "IS",
          "t": 39,
          "user": "G2"
         },
         {
          "action": "sketch-to-query",
          "t": 40,
          "user": "A1"
         },
         {
          "action": "brush-xrange",
          "t": 40,
          "user": "A2"
         },
         {
          "action": "W",
          "t": 40,
          "user": "G2"
         },
         {
          "action": "sketch-to-query",
          "t": 41,
          "user": "A1"
         },
         {
          "action": "PS",
          "t": 41,
          "user": "A2"
         },
         {
          "action": "export",
          "t": 41,
          "user": "G2"
         },
         {
          "action": "filter",
          "t": 42,
          "user": "A1"
         },
         {
          "action": "BR",
          "t": 42,
          "user": "A2"
         },
         {
          "action": "representative-outlier",
          "t": 42,
          "user": "G2"
         },
         {
          "action": "E",
          "t": 43,
          "user": "A1"
         },
         {
          "action": "ID",
          "t": 43,
          "user": "G2"
         },
         {
          "action": "PS",
          "t": 44,
          "user": "A1"
         },
         {
          "action": "export",
          "t": 44,
          "user": "G2"
         },
         {
          "action": "W",
          "t": 45,
          "user": "A1"
         },
         {
          "action": "brush-xrange",
          "t": 45,
          "user": "G2"
         },
         {
          "action": "W",
          "t": 46,
          "user": "A1"
         },
         {
          "action": "PS",
          "t": 46,
          "user": "G2"
         },
         {
          "action": "W",
          "t": 47,
          "user": "A1"
         },
         {
          "action": "upload-dataset",
          "t": 47,
          "user": "G2"
         },
         {
          "action": "IS",
          "t": 48,
          "user": "A1"
         },
         {
          "action": "smoothing",
          "t": 48,
          "user": "G2"
         },
         {
          "action": "BR",
          "t": 49,
          "user": "A1"
         },
         {
          "action": "control-kmeans-clustersize",
          "t": 49,
          "user": "G2"
         },
         {
          "action": "dynamic-class",
          "t": 50,
          "user": "A1"
         },
         {
          "action": "representative-outlier",
          "t": 50,
          "user": "G2"
         },
         {
          "action": "dynamic-class",
          "t": 51,
          "user": "A1"
         },
         {
          "action": "ID",
          "t": 51,
          "user": "G2"
         },
         {
          "action": "W",
          "t": 52,
          "user": "A1"
         },
         {
          "action": "ID",
          "t": 52,
          "user": "G2"
         },
         {
          "action": "dynamic-class",
          "t": 53,
          "user": "A1"
         },
         {
          "action": "PS",
          "t": 53,
          "user": "G2"
         },
         {
          "action": "BR",
          "t": 54,
          "user": "A1"
         },
         {
          "action": "filter",
          "t": 55,
          "user": "A1"
         },
         {
          "action": "E",
          "t": 56,
          "user": "A1"
         },
         {
          "action": "ID",
          "t": 57,
          "user": "A1"
         },
         {
          "action": "pattern-upload",
          "t": 58,
          "user": "A1"
         },
         {
          "action": "export",
          "t": 59,
          "user": "A1"
         },
         {
          "action": "W",
          "t": 60,
          "user": "A1"
         },
         {
          "action": "dynamic-class",
          "t": 61,
          "user": "A1"
         },
         {
          "action": "BR",
          "t": 62,
          "user": "A1"
         },
         {
          "action": "filter",
          "t": 63,
          "user": "A1"
         },
         {
          "action": "E",
          "t": 64,
          "user": "A1"
         },
         {
          "action": "ID",
          "t": 65,
          "user": "A1"
         },
         {
          "action": "pattern-upload",
          "t": 66,
          "user": "A1"
         },
         {
          "action": "export",
          "t": 67,
          "user": "A1"
         },
         {
          "action": "W",
          "t": 68,
          "user": "A1"
         }
        ]
       },
       "encoding": {
        "color": {
         "field": "action",
         "type": "nominal"
        },
        "x": {
         "field": "t",
         "type": "quantitative"
        },
        "y": {
         "field": "user",
         "type": "nominal"
        }
       },
       "mark": "circle"
      },
      "image/png": "[encoded data removed]",
      "text/plain": [
       "<VegaLite 2 object>\n",
       "\n",
       "If you see this message, it means the renderer has not been properly enabled\n",
       "for the frontend that you are using. For more information, see\n",
       "https://altair-viz.github.io/user_guide/troubleshooting.html\n"
      ]
     },
     "execution_count": 16,
     "metadata": {},
     "output_type": "execute_result"
    }
   ],
   "source": [
    "alt.Chart(df).mark_circle().encode(        \n",
    "    color='action',\n",
    "    y=\"user\",\n",
    "    x='t'\n",
    ")"
   ]
  },
  {
   "cell_type": "markdown",
   "metadata": {},
   "source": [
    "# Action only"
   ]
  },
  {
   "cell_type": "code",
   "execution_count": 17,
   "metadata": {},
   "outputs": [
    {
     "data": {
      "application/vnd.vegalite.v2+json": {
       "$schema": "https://vega.github.io/schema/vega-lite/v2.6.0.json",
       "config": {
        "view": {
         "height": 300,
         "width": 400
        }
       },
       "data": {
        "name": "data-759c31fac935f2f2258939397ce17bf6"
       },
       "datasets": {
        "data-759c31fac935f2f2258939397ce17bf6": [
         {
          "action": "ID",
          "t": 0,
          "user": "G3"
         },
         {
          "action": "PD",
          "t": 0,
          "user": "M1"
         },
         {
          "action": "E",
          "t": 1,
          "user": "A2"
         },
         {
          "action": "IS",
          "t": 1,
          "user": "G2"
         },
         {
          "action": "C",
          "t": 1,
          "user": "G3"
         },
         {
          "action": "ID",
          "t": 1,
          "user": "M3"
         },
         {
          "action": "E",
          "t": 2,
          "user": "A2"
         },
         {
          "action": "BR",
          "t": 2,
          "user": "G2"
         },
         {
          "action": "W",
          "t": 2,
          "user": "G3"
         },
         {
          "action": "PS",
          "t": 2,
          "user": "M2"
         },
         {
          "action": "C",
          "t": 3,
          "user": "M1"
         },
         {
          "action": "IS",
          "t": 3,
          "user": "M3"
         },
         {
          "action": "BR",
          "t": 4,
          "user": "A1"
         },
         {
          "action": "W",
          "t": 4,
          "user": "A2"
         },
         {
          "action": "BR",
          "t": 4,
          "user": "A3"
         },
         {
          "action": "W",
          "t": 4,
          "user": "G1"
         },
         {
          "action": "IS",
          "t": 5,
          "user": "A1"
         },
         {
          "action": "ID",
          "t": 5,
          "user": "A2"
         },
         {
          "action": "IS",
          "t": 5,
          "user": "G1"
         },
         {
          "action": "W",
          "t": 5,
          "user": "M1"
         },
         {
          "action": "PS",
          "t": 5,
          "user": "M3"
         },
         {
          "action": "E",
          "t": 6,
          "user": "A1"
         },
         {
          "action": "E",
          "t": 6,
          "user": "A2"
         },
         {
          "action": "BR",
          "t": 6,
          "user": "G1"
         },
         {
          "action": "ID",
          "t": 6,
          "user": "G3"
         },
         {
          "action": "W",
          "t": 6,
          "user": "M1"
         },
         {
          "action": "E",
          "t": 7,
          "user": "A1"
         },
         {
          "action": "ID",
          "t": 7,
          "user": "A2"
         },
         {
          "action": "C",
          "t": 7,
          "user": "G2"
         },
         {
          "action": "W",
          "t": 7,
          "user": "M1"
         },
         {
          "action": "PS",
          "t": 7,
          "user": "M2"
         },
         {
          "action": "ID",
          "t": 7,
          "user": "M3"
         },
         {
          "action": "BR",
          "t": 8,
          "user": "A2"
         },
         {
          "action": "C",
          "t": 8,
          "user": "A3"
         },
         {
          "action": "IS",
          "t": 8,
          "user": "G1"
         },
         {
          "action": "BR",
          "t": 8,
          "user": "G2"
         },
         {
          "action": "ID",
          "t": 9,
          "user": "A1"
         },
         {
          "action": "W",
          "t": 9,
          "user": "G1"
         },
         {
          "action": "W",
          "t": 9,
          "user": "G2"
         },
         {
          "action": "IS",
          "t": 9,
          "user": "M2"
         },
         {
          "action": "IS",
          "t": 9,
          "user": "M3"
         },
         {
          "action": "E",
          "t": 10,
          "user": "A2"
         },
         {
          "action": "BR",
          "t": 10,
          "user": "G1"
         },
         {
          "action": "W",
          "t": 10,
          "user": "G3"
         },
         {
          "action": "IS",
          "t": 10,
          "user": "M1"
         },
         {
          "action": "IS",
          "t": 10,
          "user": "M2"
         },
         {
          "action": "E",
          "t": 11,
          "user": "A1"
         },
         {
          "action": "PD",
          "t": 11,
          "user": "A2"
         },
         {
          "action": "ID",
          "t": 11,
          "user": "A3"
         },
         {
          "action": "W",
          "t": 11,
          "user": "G2"
         },
         {
          "action": "ID",
          "t": 11,
          "user": "G3"
         },
         {
          "action": "C",
          "t": 11,
          "user": "M2"
         },
         {
          "action": "IS",
          "t": 12,
          "user": "A1"
         },
         {
          "action": "W",
          "t": 12,
          "user": "M1"
         },
         {
          "action": "BR",
          "t": 12,
          "user": "M2"
         },
         {
          "action": "IS",
          "t": 12,
          "user": "M3"
         },
         {
          "action": "PS",
          "t": 13,
          "user": "A1"
         },
         {
          "action": "W",
          "t": 13,
          "user": "A3"
         },
         {
          "action": "PS",
          "t": 13,
          "user": "G2"
         },
         {
          "action": "IS",
          "t": 13,
          "user": "G3"
         },
         {
          "action": "PS",
          "t": 13,
          "user": "M1"
         },
         {
          "action": "W",
          "t": 13,
          "user": "M2"
         },
         {
          "action": "E",
          "t": 14,
          "user": "A1"
         },
         {
          "action": "E",
          "t": 14,
          "user": "A2"
         },
         {
          "action": "BR",
          "t": 14,
          "user": "A3"
         },
         {
          "action": "BR",
          "t": 14,
          "user": "G2"
         },
         {
          "action": "C",
          "t": 14,
          "user": "M3"
         },
         {
          "action": "PS",
          "t": 15,
          "user": "A1"
         },
         {
          "action": "PD",
          "t": 15,
          "user": "A2"
         },
         {
          "action": "BR",
          "t": 15,
          "user": "G1"
         },
         {
          "action": "PD",
          "t": 15,
          "user": "M1"
         },
         {
          "action": "IS",
          "t": 15,
          "user": "M2"
         },
         {
          "action": "PD",
          "t": 16,
          "user": "A1"
         },
         {
          "action": "W",
          "t": 16,
          "user": "A3"
         },
         {
          "action": "ID",
          "t": 16,
          "user": "G2"
         },
         {
          "action": "IS",
          "t": 16,
          "user": "G3"
         },
         {
          "action": "IS",
          "t": 16,
          "user": "M1"
         },
         {
          "action": "IS",
          "t": 16,
          "user": "M3"
         },
         {
          "action": "E",
          "t": 17,
          "user": "A2"
         },
         {
          "action": "W",
          "t": 17,
          "user": "A3"
         },
         {
          "action": "C",
          "t": 17,
          "user": "G1"
         },
         {
          "action": "BR",
          "t": 17,
          "user": "G2"
         },
         {
          "action": "BR",
          "t": 17,
          "user": "M1"
         },
         {
          "action": "C",
          "t": 17,
          "user": "M2"
         },
         {
          "action": "BR",
          "t": 17,
          "user": "M3"
         },
         {
          "action": "E",
          "t": 18,
          "user": "A1"
         },
         {
          "action": "PD",
          "t": 18,
          "user": "A2"
         },
         {
          "action": "W",
          "t": 18,
          "user": "G1"
         },
         {
          "action": "IS",
          "t": 18,
          "user": "G3"
         },
         {
          "action": "PS",
          "t": 19,
          "user": "A1"
         },
         {
          "action": "ID",
          "t": 19,
          "user": "A3"
         },
         {
          "action": "ID",
          "t": 19,
          "user": "G2"
         },
         {
          "action": "BR",
          "t": 20,
          "user": "A1"
         },
         {
          "action": "BR",
          "t": 20,
          "user": "A3"
         },
         {
          "action": "W",
          "t": 20,
          "user": "G2"
         },
         {
          "action": "ID",
          "t": 21,
          "user": "G1"
         },
         {
          "action": "W",
          "t": 21,
          "user": "M1"
         },
         {
          "action": "BR",
          "t": 21,
          "user": "M3"
         },
         {
          "action": "C",
          "t": 22,
          "user": "A1"
         },
         {
          "action": "E",
          "t": 22,
          "user": "A2"
         },
         {
          "action": "ID",
          "t": 22,
          "user": "A3"
         },
         {
          "action": "PS",
          "t": 22,
          "user": "M3"
         },
         {
          "action": "C",
          "t": 23,
          "user": "G1"
         },
         {
          "action": "ID",
          "t": 23,
          "user": "M2"
         },
         {
          "action": "BR",
          "t": 24,
          "user": "A1"
         },
         {
          "action": "BR",
          "t": 24,
          "user": "A2"
         },
         {
          "action": "W",
          "t": 24,
          "user": "A3"
         },
         {
          "action": "W",
          "t": 24,
          "user": "G1"
         },
         {
          "action": "IS",
          "t": 24,
          "user": "G2"
         },
         {
          "action": "C",
          "t": 24,
          "user": "M2"
         },
         {
          "action": "ID",
          "t": 24,
          "user": "M3"
         },
         {
          "action": "PS",
          "t": 25,
          "user": "A2"
         },
         {
          "action": "PS",
          "t": 25,
          "user": "G1"
         },
         {
          "action": "ID",
          "t": 25,
          "user": "M1"
         },
         {
          "action": "W",
          "t": 25,
          "user": "M3"
         },
         {
          "action": "PS",
          "t": 26,
          "user": "A1"
         },
         {
          "action": "E",
          "t": 26,
          "user": "A2"
         },
         {
          "action": "PS",
          "t": 26,
          "user": "A3"
         },
         {
          "action": "W",
          "t": 26,
          "user": "G1"
         },
         {
          "action": "BR",
          "t": 26,
          "user": "G2"
         },
         {
          "action": "BR",
          "t": 26,
          "user": "M1"
         },
         {
          "action": "IS",
          "t": 26,
          "user": "M3"
         },
         {
          "action": "E",
          "t": 27,
          "user": "A1"
         },
         {
          "action": "E",
          "t": 27,
          "user": "A2"
         },
         {
          "action": "W",
          "t": 27,
          "user": "M1"
         },
         {
          "action": "IS",
          "t": 27,
          "user": "M2"
         },
         {
          "action": "BR",
          "t": 27,
          "user": "M3"
         },
         {
          "action": "E",
          "t": 28,
          "user": "A1"
         },
         {
          "action": "PS",
          "t": 28,
          "user": "G2"
         },
         {
          "action": "E",
          "t": 28,
          "user": "M1"
         },
         {
          "action": "C",
          "t": 28,
          "user": "M2"
         },
         {
          "action": "PS",
          "t": 29,
          "user": "A1"
         },
         {
          "action": "W",
          "t": 29,
          "user": "A2"
         },
         {
          "action": "W",
          "t": 29,
          "user": "A3"
         },
         {
          "action": "E",
          "t": 29,
          "user": "M1"
         },
         {
          "action": "C",
          "t": 29,
          "user": "M2"
         },
         {
          "action": "W",
          "t": 29,
          "user": "M3"
         },
         {
          "action": "E",
          "t": 30,
          "user": "A2"
         },
         {
          "action": "W",
          "t": 30,
          "user": "G2"
         },
         {
          "action": "W",
          "t": 30,
          "user": "M1"
         },
         {
          "action": "BR",
          "t": 30,
          "user": "M2"
         },
         {
          "action": "W",
          "t": 30,
          "user": "M3"
         },
         {
          "action": "W",
          "t": 31,
          "user": "A1"
         },
         {
          "action": "E",
          "t": 31,
          "user": "M1"
         },
         {
          "action": "ID",
          "t": 32,
          "user": "A1"
         },
         {
          "action": "IS",
          "t": 32,
          "user": "M2"
         },
         {
          "action": "W",
          "t": 33,
          "user": "A1"
         },
         {
          "action": "IS",
          "t": 33,
          "user": "A2"
         },
         {
          "action": "IS",
          "t": 33,
          "user": "M2"
         },
         {
          "action": "W",
          "t": 34,
          "user": "A1"
         },
         {
          "action": "PD",
          "t": 34,
          "user": "A2"
         },
         {
          "action": "ID",
          "t": 35,
          "user": "A1"
         },
         {
          "action": "BR",
          "t": 35,
          "user": "A2"
         },
         {
          "action": "PD",
          "t": 35,
          "user": "G2"
         },
         {
          "action": "BR",
          "t": 36,
          "user": "A1"
         },
         {
          "action": "W",
          "t": 36,
          "user": "A2"
         },
         {
          "action": "E",
          "t": 36,
          "user": "G2"
         },
         {
          "action": "IS",
          "t": 36,
          "user": "M2"
         },
         {
          "action": "PS",
          "t": 37,
          "user": "A2"
         },
         {
          "action": "ID",
          "t": 38,
          "user": "M2"
         },
         {
          "action": "W",
          "t": 39,
          "user": "A2"
         },
         {
          "action": "IS",
          "t": 39,
          "user": "G2"
         },
         {
          "action": "W",
          "t": 40,
          "user": "G2"
         },
         {
          "action": "PS",
          "t": 41,
          "user": "A2"
         },
         {
          "action": "BR",
          "t": 42,
          "user": "A2"
         },
         {
          "action": "E",
          "t": 43,
          "user": "A1"
         },
         {
          "action": "ID",
          "t": 43,
          "user": "G2"
         },
         {
          "action": "PS",
          "t": 44,
          "user": "A1"
         },
         {
          "action": "W",
          "t": 45,
          "user": "A1"
         },
         {
          "action": "W",
          "t": 46,
          "user": "A1"
         },
         {
          "action": "PS",
          "t": 46,
          "user": "G2"
         },
         {
          "action": "W",
          "t": 47,
          "user": "A1"
         },
         {
          "action": "IS",
          "t": 48,
          "user": "A1"
         },
         {
          "action": "BR",
          "t": 49,
          "user": "A1"
         },
         {
          "action": "ID",
          "t": 51,
          "user": "G2"
         },
         {
          "action": "W",
          "t": 52,
          "user": "A1"
         },
         {
          "action": "ID",
          "t": 52,
          "user": "G2"
         },
         {
          "action": "PS",
          "t": 53,
          "user": "G2"
         },
         {
          "action": "BR",
          "t": 54,
          "user": "A1"
         },
         {
          "action": "E",
          "t": 56,
          "user": "A1"
         },
         {
          "action": "ID",
          "t": 57,
          "user": "A1"
         },
         {
          "action": "W",
          "t": 60,
          "user": "A1"
         },
         {
          "action": "BR",
          "t": 62,
          "user": "A1"
         },
         {
          "action": "E",
          "t": 64,
          "user": "A1"
         },
         {
          "action": "ID",
          "t": 65,
          "user": "A1"
         },
         {
          "action": "W",
          "t": 68,
          "user": "A1"
         }
        ]
       },
       "encoding": {
        "color": {
         "field": "action",
         "type": "nominal"
        },
        "x": {
         "field": "t",
         "type": "quantitative"
        },
        "y": {
         "field": "user",
         "type": "nominal"
        }
       },
       "mark": "circle"
      },
      "image/png": "[encoded data removed]",
      "text/plain": [
       "<VegaLite 2 object>\n",
       "\n",
       "If you see this message, it means the renderer has not been properly enabled\n",
       "for the frontend that you are using. For more information, see\n",
       "https://altair-viz.github.io/user_guide/troubleshooting.html\n"
      ]
     },
     "execution_count": 17,
     "metadata": {},
     "output_type": "execute_result"
    }
   ],
   "source": [
    "df_action = df[df.action.isin(featureOnly)]\n",
    "alt.Chart(df_action).mark_circle().encode(        \n",
    "    color='action',\n",
    "    y=\"user\",\n",
    "    x='t'\n",
    ")"
   ]
  },
  {
   "cell_type": "markdown",
   "metadata": {},
   "source": [
    "# Feature Only"
   ]
  },
  {
   "cell_type": "code",
   "execution_count": 18,
   "metadata": {
    "collapsed": true
   },
   "outputs": [
    {
     "data": {
      "application/vnd.vegalite.v2+json": {
       "$schema": "https://vega.github.io/schema/vega-lite/v2.6.0.json",
       "config": {
        "view": {
         "height": 300,
         "width": 400
        }
       },
       "data": {
        "name": "data-e09d922b30fe012b08cf7e9ce9dbdcfe"
       },
       "datasets": {
        "data-e09d922b30fe012b08cf7e9ce9dbdcfe": [
         {
          "action": "filter",
          "t": 0,
          "user": "A1"
         },
         {
          "action": "filter",
          "t": 0,
          "user": "A2"
         },
         {
          "action": "drag-and-drop",
          "t": 0,
          "user": "A3"
         },
         {
          "action": "representative-outlier",
          "t": 0,
          "user": "G1"
         },
         {
          "action": "representative-outlier",
          "t": 0,
          "user": "G2"
         },
         {
          "action": "show-scatter",
          "t": 0,
          "user": "M2"
         },
         {
          "action": "dynamic-class",
          "t": 0,
          "user": "M3"
         },
         {
          "action": "filter",
          "t": 1,
          "user": "A1"
         },
         {
          "action": "drag-and-drop",
          "t": 1,
          "user": "A3"
         },
         {
          "action": "control-kmeans-clustersize",
          "t": 1,
          "user": "G1"
         },
         {
          "action": "sketch-to-query",
          "t": 1,
          "user": "M1"
         },
         {
          "action": "change-axis",
          "t": 1,
          "user": "M2"
         },
         {
          "action": "filter",
          "t": 2,
          "user": "A1"
         },
         {
          "action": "sketch-to-modify",
          "t": 2,
          "user": "A3"
         },
         {
          "action": "representative-outlier",
          "t": 2,
          "user": "G1"
         },
         {
          "action": "ignore-xrange",
          "t": 2,
          "user": "M1"
         },
         {
          "action": "show-scatter",
          "t": 2,
          "user": "M3"
         },
         {
          "action": "filter",
          "t": 3,
          "user": "A1"
         },
         {
          "action": "drag-and-drop",
          "t": 3,
          "user": "A2"
         },
         {
          "action": "ignore-xrange",
          "t": 3,
          "user": "A3"
         },
         {
          "action": "control-kmeans-clustersize",
          "t": 3,
          "user": "G1"
         },
         {
          "action": "representative-outlier",
          "t": 3,
          "user": "G2"
         },
         {
          "action": "show-scatter",
          "t": 3,
          "user": "G3"
         },
         {
          "action": "dynamic-class",
          "t": 3,
          "user": "M2"
         },
         {
          "action": "control-kmeans-clustersize",
          "t": 4,
          "user": "G2"
         },
         {
          "action": "upload-dataset",
          "t": 4,
          "user": "G3"
         },
         {
          "action": "change-axis",
          "t": 4,
          "user": "M1"
         },
         {
          "action": "dynamic-class",
          "t": 4,
          "user": "M2"
         },
         {
          "action": "dynamic-class",
          "t": 4,
          "user": "M3"
         },
         {
          "action": "drag-and-drop",
          "t": 5,
          "user": "A3"
         },
         {
          "action": "representative-outlier",
          "t": 5,
          "user": "G2"
         },
         {
          "action": "representative-outlier",
          "t": 5,
          "user": "G3"
         },
         {
          "action": "dynamic-class",
          "t": 5,
          "user": "M2"
         },
         {
          "action": "ignore-xrange",
          "t": 6,
          "user": "A3"
         },
         {
          "action": "filter",
          "t": 6,
          "user": "G2"
         },
         {
          "action": "dynamic-class",
          "t": 6,
          "user": "M2"
         },
         {
          "action": "dynamic-class",
          "t": 6,
          "user": "M3"
         },
         {
          "action": "change-metric",
          "t": 7,
          "user": "A3"
         },
         {
          "action": "drag-and-drop",
          "t": 7,
          "user": "G1"
         },
         {
          "action": "change-metric",
          "t": 7,
          "user": "G3"
         },
         {
          "action": "drag-and-drop",
          "t": 8,
          "user": "A1"
         },
         {
          "action": "control-kmeans-clustersize",
          "t": 8,
          "user": "G3"
         },
         {
          "action": "brush-xrange",
          "t": 8,
          "user": "M1"
         },
         {
          "action": "dynamic-class",
          "t": 8,
          "user": "M2"
         },
         {
          "action": "change-axis",
          "t": 8,
          "user": "M3"
         },
         {
          "action": "filter",
          "t": 9,
          "user": "A2"
         },
         {
          "action": "brush-xrange",
          "t": 9,
          "user": "A3"
         },
         {
          "action": "representative-outlier",
          "t": 9,
          "user": "G3"
         },
         {
          "action": "change-axis",
          "t": 9,
          "user": "M1"
         },
         {
          "action": "filter",
          "t": 10,
          "user": "A1"
         },
         {
          "action": "change-metric",
          "t": 10,
          "user": "A3"
         },
         {
          "action": "drag-and-drop",
          "t": 10,
          "user": "G2"
         },
         {
          "action": "drag-and-drop",
          "t": 10,
          "user": "M3"
         },
         {
          "action": "drag-and-drop",
          "t": 11,
          "user": "G1"
         },
         {
          "action": "representative-outlier",
          "t": 11,
          "user": "M1"
         },
         {
          "action": "dynamic-class",
          "t": 11,
          "user": "M3"
         },
         {
          "action": "export",
          "t": 12,
          "user": "A2"
         },
         {
          "action": "change-metric",
          "t": 12,
          "user": "A3"
         },
         {
          "action": "min-similarity-cutoff",
          "t": 12,
          "user": "G1"
         },
         {
          "action": "filter",
          "t": 12,
          "user": "G2"
         },
         {
          "action": "drag-and-drop",
          "t": 12,
          "user": "G3"
         },
         {
          "action": "filter",
          "t": 13,
          "user": "A2"
         },
         {
          "action": "brush-xrange",
          "t": 13,
          "user": "G1"
         },
         {
          "action": "change-metric",
          "t": 13,
          "user": "M3"
         },
         {
          "action": "export",
          "t": 14,
          "user": "G1"
         },
         {
          "action": "export",
          "t": 14,
          "user": "G3"
         },
         {
          "action": "dynamic-class",
          "t": 14,
          "user": "M1"
         },
         {
          "action": "dynamic-class",
          "t": 14,
          "user": "M2"
         },
         {
          "action": "filter",
          "t": 15,
          "user": "A3"
         },
         {
          "action": "show-scatter",
          "t": 15,
          "user": "G2"
         },
         {
          "action": "representative-outlier",
          "t": 15,
          "user": "G3"
         },
         {
          "action": "drag-and-drop",
          "t": 15,
          "user": "M3"
         },
         {
          "action": "filter",
          "t": 16,
          "user": "A2"
         },
         {
          "action": "control-kmeans-clustersize",
          "t": 16,
          "user": "G1"
         },
         {
          "action": "sketch-to-query",
          "t": 16,
          "user": "M2"
         },
         {
          "action": "reverse-y",
          "t": 17,
          "user": "A1"
         },
         {
          "action": "ignore-xrange",
          "t": 17,
          "user": "G3"
         },
         {
          "action": "filter",
          "t": 18,
          "user": "A3"
         },
         {
          "action": "sketch-to-query",
          "t": 18,
          "user": "G2"
         },
         {
          "action": "filter",
          "t": 18,
          "user": "M1"
         },
         {
          "action": "sketch-to-query",
          "t": 18,
          "user": "M2"
         },
         {
          "action": "change-axis",
          "t": 18,
          "user": "M3"
         },
         {
          "action": "export",
          "t": 19,
          "user": "A2"
         },
         {
          "action": "drag-and-drop",
          "t": 19,
          "user": "G1"
         },
         {
          "action": "sketch-to-query",
          "t": 19,
          "user": "M1"
         },
         {
          "action": "change-axis",
          "t": 19,
          "user": "M2"
         },
         {
          "action": "sketch-to-modify",
          "t": 19,
          "user": "M3"
         },
         {
          "action": "export",
          "t": 20,
          "user": "A2"
         },
         {
          "action": "drag-and-drop",
          "t": 20,
          "user": "G1"
         },
         {
          "action": "show-scatter",
          "t": 20,
          "user": "M1"
         },
         {
          "action": "sketch-to-query",
          "t": 20,
          "user": "M2"
         },
         {
          "action": "sketch-to-modify",
          "t": 20,
          "user": "M3"
         },
         {
          "action": "drag-and-drop",
          "t": 21,
          "user": "A1"
         },
         {
          "action": "filter",
          "t": 21,
          "user": "A2"
         },
         {
          "action": "change-axis",
          "t": 21,
          "user": "A3"
         },
         {
          "action": "ignore-xrange",
          "t": 21,
          "user": "G2"
         },
         {
          "action": "drag-and-drop",
          "t": 21,
          "user": "M2"
         },
         {
          "action": "control-kmeans-clustersize",
          "t": 22,
          "user": "G1"
         },
         {
          "action": "sketch-to-query",
          "t": 22,
          "user": "G2"
         },
         {
          "action": "filter",
          "t": 22,
          "user": "M1"
         },
         {
          "action": "sketch-to-modify",
          "t": 22,
          "user": "M2"
         },
         {
          "action": "filter",
          "t": 23,
          "user": "A1"
         },
         {
          "action": "export",
          "t": 23,
          "user": "A2"
         },
         {
          "action": "filter",
          "t": 23,
          "user": "A3"
         },
         {
          "action": "filter",
          "t": 23,
          "user": "G2"
         },
         {
          "action": "filter",
          "t": 23,
          "user": "M1"
         },
         {
          "action": "drag-and-drop",
          "t": 23,
          "user": "M3"
         },
         {
          "action": "filter",
          "t": 24,
          "user": "M1"
         },
         {
          "action": "filter",
          "t": 25,
          "user": "A1"
         },
         {
          "action": "change-axis",
          "t": 25,
          "user": "A3"
         },
         {
          "action": "filter",
          "t": 25,
          "user": "G2"
         },
         {
          "action": "drag-and-drop",
          "t": 25,
          "user": "M2"
         },
         {
          "action": "sketch-to-modify",
          "t": 26,
          "user": "M2"
         },
         {
          "action": "input-equation",
          "t": 27,
          "user": "A3"
         },
         {
          "action": "filter",
          "t": 27,
          "user": "G2"
         },
         {
          "action": "dynamic-class",
          "t": 28,
          "user": "A2"
         },
         {
          "action": "export",
          "t": 28,
          "user": "A3"
         },
         {
          "action": "change-axis",
          "t": 28,
          "user": "M3"
         },
         {
          "action": "filter",
          "t": 29,
          "user": "G2"
         },
         {
          "action": "brush-xrange",
          "t": 30,
          "user": "A1"
         },
         {
          "action": "change-axis",
          "t": 31,
          "user": "A2"
         },
         {
          "action": "representative-outlier",
          "t": 31,
          "user": "G2"
         },
         {
          "action": "dynamic-class",
          "t": 31,
          "user": "M2"
         },
         {
          "action": "ignore-xrange",
          "t": 32,
          "user": "A2"
         },
         {
          "action": "smoothing",
          "t": 32,
          "user": "G2"
         },
         {
          "action": "smoothing",
          "t": 33,
          "user": "G2"
         },
         {
          "action": "pattern-upload",
          "t": 34,
          "user": "G2"
         },
         {
          "action": "representative-outlier",
          "t": 34,
          "user": "M2"
         },
         {
          "action": "filter",
          "t": 35,
          "user": "M2"
         },
         {
          "action": "filter",
          "t": 37,
          "user": "A1"
         },
         {
          "action": "filter",
          "t": 37,
          "user": "G2"
         },
         {
          "action": "change-axis",
          "t": 37,
          "user": "M2"
         },
         {
          "action": "filter",
          "t": 38,
          "user": "A1"
         },
         {
          "action": "drag-and-drop",
          "t": 38,
          "user": "A2"
         },
         {
          "action": "drag-and-drop",
          "t": 38,
          "user": "G2"
         },
         {
          "action": "smoothing",
          "t": 39,
          "user": "A1"
         },
         {
          "action": "sketch-to-query",
          "t": 40,
          "user": "A1"
         },
         {
          "action": "brush-xrange",
          "t": 40,
          "user": "A2"
         },
         {
          "action": "sketch-to-query",
          "t": 41,
          "user": "A1"
         },
         {
          "action": "export",
          "t": 41,
          "user": "G2"
         },
         {
          "action": "filter",
          "t": 42,
          "user": "A1"
         },
         {
          "action": "representative-outlier",
          "t": 42,
          "user": "G2"
         },
         {
          "action": "export",
          "t": 44,
          "user": "G2"
         },
         {
          "action": "brush-xrange",
          "t": 45,
          "user": "G2"
         },
         {
          "action": "upload-dataset",
          "t": 47,
          "user": "G2"
         },
         {
          "action": "smoothing",
          "t": 48,
          "user": "G2"
         },
         {
          "action": "control-kmeans-clustersize",
          "t": 49,
          "user": "G2"
         },
         {
          "action": "dynamic-class",
          "t": 50,
          "user": "A1"
         },
         {
          "action": "representative-outlier",
          "t": 50,
          "user": "G2"
         },
         {
          "action": "dynamic-class",
          "t": 51,
          "user": "A1"
         },
         {
          "action": "dynamic-class",
          "t": 53,
          "user": "A1"
         },
         {
          "action": "filter",
          "t": 55,
          "user": "A1"
         },
         {
          "action": "pattern-upload",
          "t": 58,
          "user": "A1"
         },
         {
          "action": "export",
          "t": 59,
          "user": "A1"
         },
         {
          "action": "dynamic-class",
          "t": 61,
          "user": "A1"
         },
         {
          "action": "filter",
          "t": 63,
          "user": "A1"
         },
         {
          "action": "pattern-upload",
          "t": 66,
          "user": "A1"
         },
         {
          "action": "export",
          "t": 67,
          "user": "A1"
         }
        ]
       },
       "encoding": {
        "color": {
         "field": "action",
         "type": "nominal"
        },
        "x": {
         "field": "t",
         "type": "quantitative"
        },
        "y": {
         "field": "user",
         "type": "nominal"
        }
       },
       "mark": "circle"
      },
      "image/png": "[encoded data removed]",
      "text/plain": [
       "<VegaLite 2 object>\n",
       "\n",
       "If you see this message, it means the renderer has not been properly enabled\n",
       "for the frontend that you are using. For more information, see\n",
       "https://altair-viz.github.io/user_guide/troubleshooting.html\n"
      ]
     },
     "execution_count": 18,
     "metadata": {},
     "output_type": "execute_result"
    }
   ],
   "source": [
    "df_feature = df[~df.action.isin(featureOnly)]\n",
    "alt.Chart(df_feature).mark_circle().encode(        \n",
    "    color='action',\n",
    "    y=\"user\",\n",
    "    x='t'\n",
    ")"
   ]
  },
  {
   "cell_type": "code",
   "execution_count": 19,
   "metadata": {},
   "outputs": [],
   "source": [
    "# df_feature = df[~df.action.isin(featureOnly)]"
   ]
  },
  {
   "cell_type": "markdown",
   "metadata": {},
   "source": [
    "# Key Components"
   ]
  },
  {
   "cell_type": "code",
   "execution_count": 20,
   "metadata": {},
   "outputs": [],
   "source": [
    "component_dict = {\n",
    "     'pattern-upload':'concept-query',\n",
    "     'sketch-to-modify':'exact-specification',\n",
    "     'drag-and-drop':'result-querying',\n",
    "     'change-metric':'flexible-matching',\n",
    "     'filter':'filter-selection',\n",
    "     'brush-xrange':'range-selection',\n",
    "     'min-similarity-cutoff':'control',\n",
    "     'smoothing':'approx-shape-specification',\n",
    "     'ignore-xrange':'approx-shape-specification',\n",
    "     'representative-outlier':'recommendation',\n",
    "     'dynamic-class':'group-comparison',\n",
    "     'sketch-to-query':'exact-specification',\n",
    "     'reverse-y':'control',\n",
    "     'input-equation':'exact-specification',\n",
    "     'upload-dataset':'control',\n",
    "     'show-scatter':'control',\n",
    "     'export':'control',\n",
    "     'control-kmeans-clustersize':'recommendation',\n",
    "     'change-axis':'control'\n",
    "}"
   ]
  },
  {
   "cell_type": "code",
   "execution_count": 21,
   "metadata": {},
   "outputs": [
    {
     "name": "stderr",
     "output_type": "stream",
     "text": [
      "/Users/dorislee/.virtualenvs/py37env/lib/python3.7/site-packages/ipykernel_launcher.py:2: SettingWithCopyWarning: \n",
      "A value is trying to be set on a copy of a slice from a DataFrame.\n",
      "Try using .loc[row_indexer,col_indexer] = value instead\n",
      "\n",
      "See the caveats in the documentation: http://pandas.pydata.org/pandas-docs/stable/indexing.html#indexing-view-versus-copy\n",
      "  \n"
     ]
    }
   ],
   "source": [
    "df_component = df_feature\n",
    "df_component[\"action\"] = df_feature[\"action\"].replace(component_dict)\n",
    "df_component= df_component.rename(index=str,columns={\"action\":\"component\"})"
   ]
  },
  {
   "cell_type": "code",
   "execution_count": 22,
   "metadata": {},
   "outputs": [],
   "source": [
    "df_component = df_component[df_component[\"component\"]!=\"control\"] #remove control in list of components"
   ]
  },
  {
   "cell_type": "code",
   "execution_count": 23,
   "metadata": {},
   "outputs": [
    {
     "data": {
      "application/vnd.vegalite.v2+json": {
       "$schema": "https://vega.github.io/schema/vega-lite/v2.6.0.json",
       "config": {
        "view": {
         "height": 300,
         "width": 400
        }
       },
       "data": {
        "name": "data-1f8f54379775d02b2f177adb02febf4b"
       },
       "datasets": {
        "data-1f8f54379775d02b2f177adb02febf4b": [
         {
          "component": "filter-selection",
          "t": 0,
          "user": "A1"
         },
         {
          "component": "filter-selection",
          "t": 0,
          "user": "A2"
         },
         {
          "component": "result-querying",
          "t": 0,
          "user": "A3"
         },
         {
          "component": "recommendation",
          "t": 0,
          "user": "G1"
         },
         {
          "component": "recommendation",
          "t": 0,
          "user": "G2"
         },
         {
          "component": "group-comparison",
          "t": 0,
          "user": "M3"
         },
         {
          "component": "filter-selection",
          "t": 1,
          "user": "A1"
         },
         {
          "component": "result-querying",
          "t": 1,
          "user": "A3"
         },
         {
          "component": "recommendation",
          "t": 1,
          "user": "G1"
         },
         {
          "component": "exact-specification",
          "t": 1,
          "user": "M1"
         },
         {
          "component": "filter-selection",
          "t": 2,
          "user": "A1"
         },
         {
          "component": "exact-specification",
          "t": 2,
          "user": "A3"
         },
         {
          "component": "recommendation",
          "t": 2,
          "user": "G1"
         },
         {
          "component": "approx-shape-specification",
          "t": 2,
          "user": "M1"
         },
         {
          "component": "filter-selection",
          "t": 3,
          "user": "A1"
         },
         {
          "component": "result-querying",
          "t": 3,
          "user": "A2"
         },
         {
          "component": "approx-shape-specification",
          "t": 3,
          "user": "A3"
         },
         {
          "component": "recommendation",
          "t": 3,
          "user": "G1"
         },
         {
          "component": "recommendation",
          "t": 3,
          "user": "G2"
         },
         {
          "component": "group-comparison",
          "t": 3,
          "user": "M2"
         },
         {
          "component": "recommendation",
          "t": 4,
          "user": "G2"
         },
         {
          "component": "group-comparison",
          "t": 4,
          "user": "M2"
         },
         {
          "component": "group-comparison",
          "t": 4,
          "user": "M3"
         },
         {
          "component": "result-querying",
          "t": 5,
          "user": "A3"
         },
         {
          "component": "recommendation",
          "t": 5,
          "user": "G2"
         },
         {
          "component": "recommendation",
          "t": 5,
          "user": "G3"
         },
         {
          "component": "group-comparison",
          "t": 5,
          "user": "M2"
         },
         {
          "component": "approx-shape-specification",
          "t": 6,
          "user": "A3"
         },
         {
          "component": "filter-selection",
          "t": 6,
          "user": "G2"
         },
         {
          "component": "group-comparison",
          "t": 6,
          "user": "M2"
         },
         {
          "component": "group-comparison",
          "t": 6,
          "user": "M3"
         },
         {
          "component": "flexible-matching",
          "t": 7,
          "user": "A3"
         },
         {
          "component": "result-querying",
          "t": 7,
          "user": "G1"
         },
         {
          "component": "flexible-matching",
          "t": 7,
          "user": "G3"
         },
         {
          "component": "result-querying",
          "t": 8,
          "user": "A1"
         },
         {
          "component": "recommendation",
          "t": 8,
          "user": "G3"
         },
         {
          "component": "range-selection",
          "t": 8,
          "user": "M1"
         },
         {
          "component": "group-comparison",
          "t": 8,
          "user": "M2"
         },
         {
          "component": "filter-selection",
          "t": 9,
          "user": "A2"
         },
         {
          "component": "range-selection",
          "t": 9,
          "user": "A3"
         },
         {
          "component": "recommendation",
          "t": 9,
          "user": "G3"
         },
         {
          "component": "filter-selection",
          "t": 10,
          "user": "A1"
         },
         {
          "component": "flexible-matching",
          "t": 10,
          "user": "A3"
         },
         {
          "component": "result-querying",
          "t": 10,
          "user": "G2"
         },
         {
          "component": "result-querying",
          "t": 10,
          "user": "M3"
         },
         {
          "component": "result-querying",
          "t": 11,
          "user": "G1"
         },
         {
          "component": "recommendation",
          "t": 11,
          "user": "M1"
         },
         {
          "component": "group-comparison",
          "t": 11,
          "user": "M3"
         },
         {
          "component": "flexible-matching",
          "t": 12,
          "user": "A3"
         },
         {
          "component": "filter-selection",
          "t": 12,
          "user": "G2"
         },
         {
          "component": "result-querying",
          "t": 12,
          "user": "G3"
         },
         {
          "component": "filter-selection",
          "t": 13,
          "user": "A2"
         },
         {
          "component": "range-selection",
          "t": 13,
          "user": "G1"
         },
         {
          "component": "flexible-matching",
          "t": 13,
          "user": "M3"
         },
         {
          "component": "group-comparison",
          "t": 14,
          "user": "M1"
         },
         {
          "component": "group-comparison",
          "t": 14,
          "user": "M2"
         },
         {
          "component": "filter-selection",
          "t": 15,
          "user": "A3"
         },
         {
          "component": "recommendation",
          "t": 15,
          "user": "G3"
         },
         {
          "component": "result-querying",
          "t": 15,
          "user": "M3"
         },
         {
          "component": "filter-selection",
          "t": 16,
          "user": "A2"
         },
         {
          "component": "recommendation",
          "t": 16,
          "user": "G1"
         },
         {
          "component": "exact-specification",
          "t": 16,
          "user": "M2"
         },
         {
          "component": "approx-shape-specification",
          "t": 17,
          "user": "G3"
         },
         {
          "component": "filter-selection",
          "t": 18,
          "user": "A3"
         },
         {
          "component": "exact-specification",
          "t": 18,
          "user": "G2"
         },
         {
          "component": "filter-selection",
          "t": 18,
          "user": "M1"
         },
         {
          "component": "exact-specification",
          "t": 18,
          "user": "M2"
         },
         {
          "component": "result-querying",
          "t": 19,
          "user": "G1"
         },
         {
          "component": "exact-specification",
          "t": 19,
          "user": "M1"
         },
         {
          "component": "exact-specification",
          "t": 19,
          "user": "M3"
         },
         {
          "component": "result-querying",
          "t": 20,
          "user": "G1"
         },
         {
          "component": "exact-specification",
          "t": 20,
          "user": "M2"
         },
         {
          "component": "exact-specification",
          "t": 20,
          "user": "M3"
         },
         {
          "component": "result-querying",
          "t": 21,
          "user": "A1"
         },
         {
          "component": "filter-selection",
          "t": 21,
          "user": "A2"
         },
         {
          "component": "approx-shape-specification",
          "t": 21,
          "user": "G2"
         },
         {
          "component": "result-querying",
          "t": 21,
          "user": "M2"
         },
         {
          "component": "recommendation",
          "t": 22,
          "user": "G1"
         },
         {
          "component": "exact-specification",
          "t": 22,
          "user": "G2"
         },
         {
          "component": "filter-selection",
          "t": 22,
          "user": "M1"
         },
         {
          "component": "exact-specification",
          "t": 22,
          "user": "M2"
         },
         {
          "component": "filter-selection",
          "t": 23,
          "user": "A1"
         },
         {
          "component": "filter-selection",
          "t": 23,
          "user": "A3"
         },
         {
          "component": "filter-selection",
          "t": 23,
          "user": "G2"
         },
         {
          "component": "filter-selection",
          "t": 23,
          "user": "M1"
         },
         {
          "component": "result-querying",
          "t": 23,
          "user": "M3"
         },
         {
          "component": "filter-selection",
          "t": 24,
          "user": "M1"
         },
         {
          "component": "filter-selection",
          "t": 25,
          "user": "A1"
         },
         {
          "component": "filter-selection",
          "t": 25,
          "user": "G2"
         },
         {
          "component": "result-querying",
          "t": 25,
          "user": "M2"
         },
         {
          "component": "exact-specification",
          "t": 26,
          "user": "M2"
         },
         {
          "component": "exact-specification",
          "t": 27,
          "user": "A3"
         },
         {
          "component": "filter-selection",
          "t": 27,
          "user": "G2"
         },
         {
          "component": "group-comparison",
          "t": 28,
          "user": "A2"
         },
         {
          "component": "filter-selection",
          "t": 29,
          "user": "G2"
         },
         {
          "component": "range-selection",
          "t": 30,
          "user": "A1"
         },
         {
          "component": "recommendation",
          "t": 31,
          "user": "G2"
         },
         {
          "component": "group-comparison",
          "t": 31,
          "user": "M2"
         },
         {
          "component": "approx-shape-specification",
          "t": 32,
          "user": "A2"
         },
         {
          "component": "approx-shape-specification",
          "t": 32,
          "user": "G2"
         },
         {
          "component": "approx-shape-specification",
          "t": 33,
          "user": "G2"
         },
         {
          "component": "concept-query",
          "t": 34,
          "user": "G2"
         },
         {
          "component": "recommendation",
          "t": 34,
          "user": "M2"
         },
         {
          "component": "filter-selection",
          "t": 35,
          "user": "M2"
         },
         {
          "component": "filter-selection",
          "t": 37,
          "user": "A1"
         },
         {
          "component": "filter-selection",
          "t": 37,
          "user": "G2"
         },
         {
          "component": "filter-selection",
          "t": 38,
          "user": "A1"
         },
         {
          "component": "result-querying",
          "t": 38,
          "user": "A2"
         },
         {
          "component": "result-querying",
          "t": 38,
          "user": "G2"
         },
         {
          "component": "approx-shape-specification",
          "t": 39,
          "user": "A1"
         },
         {
          "component": "exact-specification",
          "t": 40,
          "user": "A1"
         },
         {
          "component": "range-selection",
          "t": 40,
          "user": "A2"
         },
         {
          "component": "exact-specification",
          "t": 41,
          "user": "A1"
         },
         {
          "component": "filter-selection",
          "t": 42,
          "user": "A1"
         },
         {
          "component": "recommendation",
          "t": 42,
          "user": "G2"
         },
         {
          "component": "range-selection",
          "t": 45,
          "user": "G2"
         },
         {
          "component": "approx-shape-specification",
          "t": 48,
          "user": "G2"
         },
         {
          "component": "recommendation",
          "t": 49,
          "user": "G2"
         },
         {
          "component": "group-comparison",
          "t": 50,
          "user": "A1"
         },
         {
          "component": "recommendation",
          "t": 50,
          "user": "G2"
         },
         {
          "component": "group-comparison",
          "t": 51,
          "user": "A1"
         },
         {
          "component": "group-comparison",
          "t": 53,
          "user": "A1"
         },
         {
          "component": "filter-selection",
          "t": 55,
          "user": "A1"
         },
         {
          "component": "concept-query",
          "t": 58,
          "user": "A1"
         },
         {
          "component": "group-comparison",
          "t": 61,
          "user": "A1"
         },
         {
          "component": "filter-selection",
          "t": 63,
          "user": "A1"
         },
         {
          "component": "concept-query",
          "t": 66,
          "user": "A1"
         }
        ]
       },
       "encoding": {
        "color": {
         "field": "component",
         "type": "nominal"
        },
        "x": {
         "field": "t",
         "type": "quantitative"
        },
        "y": {
         "field": "user",
         "type": "nominal"
        }
       },
       "mark": "circle"
      },
      "image/png": "[encoded data removed]",
      "text/plain": [
       "<VegaLite 2 object>\n",
       "\n",
       "If you see this message, it means the renderer has not been properly enabled\n",
       "for the frontend that you are using. For more information, see\n",
       "https://altair-viz.github.io/user_guide/troubleshooting.html\n"
      ]
     },
     "execution_count": 23,
     "metadata": {},
     "output_type": "execute_result"
    }
   ],
   "source": [
    "alt.Chart(df_component).mark_circle().encode(        \n",
    "    color='component',\n",
    "    y=\"user\",\n",
    "    x='t'\n",
    ")"
   ]
  },
  {
   "cell_type": "markdown",
   "metadata": {},
   "source": [
    "# Adding some event action information back in"
   ]
  },
  {
   "cell_type": "code",
   "execution_count": 24,
   "metadata": {},
   "outputs": [],
   "source": [
    "component_chart = alt.Chart(df_component).mark_circle().encode(        \n",
    "    color='component',\n",
    "    y=\"user\",\n",
    "    x='t'\n",
    ")"
   ]
  },
  {
   "cell_type": "code",
   "execution_count": 25,
   "metadata": {},
   "outputs": [],
   "source": [
    "df_break = df[df.action.isin([\"BR\"])]\n",
    "break_chart = alt.Chart(df_action).mark_tick(thickness=2,color=\"black\").encode(        \n",
    "    y=\"user\",\n",
    "    x='t'\n",
    ")"
   ]
  },
  {
   "cell_type": "code",
   "execution_count": 26,
   "metadata": {},
   "outputs": [],
   "source": [
    "df_insight = df[df.action.isin([\"IS\",\"ID\"])]\n",
    "insight_chart = alt.Chart(df_insight).mark_point().encode(        \n",
    "    shape='action',\n",
    "    y=\"user\",\n",
    "    x='t'\n",
    ")"
   ]
  },
  {
   "cell_type": "code",
   "execution_count": 28,
   "metadata": {},
   "outputs": [
    {
     "data": {
      "application/vnd.vegalite.v2+json": {
       "$schema": "https://vega.github.io/schema/vega-lite/v2.6.0.json",
       "config": {
        "view": {
         "height": 300,
         "width": 400
        }
       },
       "datasets": {
        "data-1f8f54379775d02b2f177adb02febf4b": [
         {
          "component": "filter-selection",
          "t": 0,
          "user": "A1"
         },
         {
          "component": "filter-selection",
          "t": 0,
          "user": "A2"
         },
         {
          "component": "result-querying",
          "t": 0,
          "user": "A3"
         },
         {
          "component": "recommendation",
          "t": 0,
          "user": "G1"
         },
         {
          "component": "recommendation",
          "t": 0,
          "user": "G2"
         },
         {
          "component": "group-comparison",
          "t": 0,
          "user": "M3"
         },
         {
          "component": "filter-selection",
          "t": 1,
          "user": "A1"
         },
         {
          "component": "result-querying",
          "t": 1,
          "user": "A3"
         },
         {
          "component": "recommendation",
          "t": 1,
          "user": "G1"
         },
         {
          "component": "exact-specification",
          "t": 1,
          "user": "M1"
         },
         {
          "component": "filter-selection",
          "t": 2,
          "user": "A1"
         },
         {
          "component": "exact-specification",
          "t": 2,
          "user": "A3"
         },
         {
          "component": "recommendation",
          "t": 2,
          "user": "G1"
         },
         {
          "component": "approx-shape-specification",
          "t": 2,
          "user": "M1"
         },
         {
          "component": "filter-selection",
          "t": 3,
          "user": "A1"
         },
         {
          "component": "result-querying",
          "t": 3,
          "user": "A2"
         },
         {
          "component": "approx-shape-specification",
          "t": 3,
          "user": "A3"
         },
         {
          "component": "recommendation",
          "t": 3,
          "user": "G1"
         },
         {
          "component": "recommendation",
          "t": 3,
          "user": "G2"
         },
         {
          "component": "group-comparison",
          "t": 3,
          "user": "M2"
         },
         {
          "component": "recommendation",
          "t": 4,
          "user": "G2"
         },
         {
          "component": "group-comparison",
          "t": 4,
          "user": "M2"
         },
         {
          "component": "group-comparison",
          "t": 4,
          "user": "M3"
         },
         {
          "component": "result-querying",
          "t": 5,
          "user": "A3"
         },
         {
          "component": "recommendation",
          "t": 5,
          "user": "G2"
         },
         {
          "component": "recommendation",
          "t": 5,
          "user": "G3"
         },
         {
          "component": "group-comparison",
          "t": 5,
          "user": "M2"
         },
         {
          "component": "approx-shape-specification",
          "t": 6,
          "user": "A3"
         },
         {
          "component": "filter-selection",
          "t": 6,
          "user": "G2"
         },
         {
          "component": "group-comparison",
          "t": 6,
          "user": "M2"
         },
         {
          "component": "group-comparison",
          "t": 6,
          "user": "M3"
         },
         {
          "component": "flexible-matching",
          "t": 7,
          "user": "A3"
         },
         {
          "component": "result-querying",
          "t": 7,
          "user": "G1"
         },
         {
          "component": "flexible-matching",
          "t": 7,
          "user": "G3"
         },
         {
          "component": "result-querying",
          "t": 8,
          "user": "A1"
         },
         {
          "component": "recommendation",
          "t": 8,
          "user": "G3"
         },
         {
          "component": "range-selection",
          "t": 8,
          "user": "M1"
         },
         {
          "component": "group-comparison",
          "t": 8,
          "user": "M2"
         },
         {
          "component": "filter-selection",
          "t": 9,
          "user": "A2"
         },
         {
          "component": "range-selection",
          "t": 9,
          "user": "A3"
         },
         {
          "component": "recommendation",
          "t": 9,
          "user": "G3"
         },
         {
          "component": "filter-selection",
          "t": 10,
          "user": "A1"
         },
         {
          "component": "flexible-matching",
          "t": 10,
          "user": "A3"
         },
         {
          "component": "result-querying",
          "t": 10,
          "user": "G2"
         },
         {
          "component": "result-querying",
          "t": 10,
          "user": "M3"
         },
         {
          "component": "result-querying",
          "t": 11,
          "user": "G1"
         },
         {
          "component": "recommendation",
          "t": 11,
          "user": "M1"
         },
         {
          "component": "group-comparison",
          "t": 11,
          "user": "M3"
         },
         {
          "component": "flexible-matching",
          "t": 12,
          "user": "A3"
         },
         {
          "component": "filter-selection",
          "t": 12,
          "user": "G2"
         },
         {
          "component": "result-querying",
          "t": 12,
          "user": "G3"
         },
         {
          "component": "filter-selection",
          "t": 13,
          "user": "A2"
         },
         {
          "component": "range-selection",
          "t": 13,
          "user": "G1"
         },
         {
          "component": "flexible-matching",
          "t": 13,
          "user": "M3"
         },
         {
          "component": "group-comparison",
          "t": 14,
          "user": "M1"
         },
         {
          "component": "group-comparison",
          "t": 14,
          "user": "M2"
         },
         {
          "component": "filter-selection",
          "t": 15,
          "user": "A3"
         },
         {
          "component": "recommendation",
          "t": 15,
          "user": "G3"
         },
         {
          "component": "result-querying",
          "t": 15,
          "user": "M3"
         },
         {
          "component": "filter-selection",
          "t": 16,
          "user": "A2"
         },
         {
          "component": "recommendation",
          "t": 16,
          "user": "G1"
         },
         {
          "component": "exact-specification",
          "t": 16,
          "user": "M2"
         },
         {
          "component": "approx-shape-specification",
          "t": 17,
          "user": "G3"
         },
         {
          "component": "filter-selection",
          "t": 18,
          "user": "A3"
         },
         {
          "component": "exact-specification",
          "t": 18,
          "user": "G2"
         },
         {
          "component": "filter-selection",
          "t": 18,
          "user": "M1"
         },
         {
          "component": "exact-specification",
          "t": 18,
          "user": "M2"
         },
         {
          "component": "result-querying",
          "t": 19,
          "user": "G1"
         },
         {
          "component": "exact-specification",
          "t": 19,
          "user": "M1"
         },
         {
          "component": "exact-specification",
          "t": 19,
          "user": "M3"
         },
         {
          "component": "result-querying",
          "t": 20,
          "user": "G1"
         },
         {
          "component": "exact-specification",
          "t": 20,
          "user": "M2"
         },
         {
          "component": "exact-specification",
          "t": 20,
          "user": "M3"
         },
         {
          "component": "result-querying",
          "t": 21,
          "user": "A1"
         },
         {
          "component": "filter-selection",
          "t": 21,
          "user": "A2"
         },
         {
          "component": "approx-shape-specification",
          "t": 21,
          "user": "G2"
         },
         {
          "component": "result-querying",
          "t": 21,
          "user": "M2"
         },
         {
          "component": "recommendation",
          "t": 22,
          "user": "G1"
         },
         {
          "component": "exact-specification",
          "t": 22,
          "user": "G2"
         },
         {
          "component": "filter-selection",
          "t": 22,
          "user": "M1"
         },
         {
          "component": "exact-specification",
          "t": 22,
          "user": "M2"
         },
         {
          "component": "filter-selection",
          "t": 23,
          "user": "A1"
         },
         {
          "component": "filter-selection",
          "t": 23,
          "user": "A3"
         },
         {
          "component": "filter-selection",
          "t": 23,
          "user": "G2"
         },
         {
          "component": "filter-selection",
          "t": 23,
          "user": "M1"
         },
         {
          "component": "result-querying",
          "t": 23,
          "user": "M3"
         },
         {
          "component": "filter-selection",
          "t": 24,
          "user": "M1"
         },
         {
          "component": "filter-selection",
          "t": 25,
          "user": "A1"
         },
         {
          "component": "filter-selection",
          "t": 25,
          "user": "G2"
         },
         {
          "component": "result-querying",
          "t": 25,
          "user": "M2"
         },
         {
          "component": "exact-specification",
          "t": 26,
          "user": "M2"
         },
         {
          "component": "exact-specification",
          "t": 27,
          "user": "A3"
         },
         {
          "component": "filter-selection",
          "t": 27,
          "user": "G2"
         },
         {
          "component": "group-comparison",
          "t": 28,
          "user": "A2"
         },
         {
          "component": "filter-selection",
          "t": 29,
          "user": "G2"
         },
         {
          "component": "range-selection",
          "t": 30,
          "user": "A1"
         },
         {
          "component": "recommendation",
          "t": 31,
          "user": "G2"
         },
         {
          "component": "group-comparison",
          "t": 31,
          "user": "M2"
         },
         {
          "component": "approx-shape-specification",
          "t": 32,
          "user": "A2"
         },
         {
          "component": "approx-shape-specification",
          "t": 32,
          "user": "G2"
         },
         {
          "component": "approx-shape-specification",
          "t": 33,
          "user": "G2"
         },
         {
          "component": "concept-query",
          "t": 34,
          "user": "G2"
         },
         {
          "component": "recommendation",
          "t": 34,
          "user": "M2"
         },
         {
          "component": "filter-selection",
          "t": 35,
          "user": "M2"
         },
         {
          "component": "filter-selection",
          "t": 37,
          "user": "A1"
         },
         {
          "component": "filter-selection",
          "t": 37,
          "user": "G2"
         },
         {
          "component": "filter-selection",
          "t": 38,
          "user": "A1"
         },
         {
          "component": "result-querying",
          "t": 38,
          "user": "A2"
         },
         {
          "component": "result-querying",
          "t": 38,
          "user": "G2"
         },
         {
          "component": "approx-shape-specification",
          "t": 39,
          "user": "A1"
         },
         {
          "component": "exact-specification",
          "t": 40,
          "user": "A1"
         },
         {
          "component": "range-selection",
          "t": 40,
          "user": "A2"
         },
         {
          "component": "exact-specification",
          "t": 41,
          "user": "A1"
         },
         {
          "component": "filter-selection",
          "t": 42,
          "user": "A1"
         },
         {
          "component": "recommendation",
          "t": 42,
          "user": "G2"
         },
         {
          "component": "range-selection",
          "t": 45,
          "user": "G2"
         },
         {
          "component": "approx-shape-specification",
          "t": 48,
          "user": "G2"
         },
         {
          "component": "recommendation",
          "t": 49,
          "user": "G2"
         },
         {
          "component": "group-comparison",
          "t": 50,
          "user": "A1"
         },
         {
          "component": "recommendation",
          "t": 50,
          "user": "G2"
         },
         {
          "component": "group-comparison",
          "t": 51,
          "user": "A1"
         },
         {
          "component": "group-comparison",
          "t": 53,
          "user": "A1"
         },
         {
          "component": "filter-selection",
          "t": 55,
          "user": "A1"
         },
         {
          "component": "concept-query",
          "t": 58,
          "user": "A1"
         },
         {
          "component": "group-comparison",
          "t": 61,
          "user": "A1"
         },
         {
          "component": "filter-selection",
          "t": 63,
          "user": "A1"
         },
         {
          "component": "concept-query",
          "t": 66,
          "user": "A1"
         }
        ],
        "data-759c31fac935f2f2258939397ce17bf6": [
         {
          "action": "ID",
          "t": 0,
          "user": "G3"
         },
         {
          "action": "PD",
          "t": 0,
          "user": "M1"
         },
         {
          "action": "E",
          "t": 1,
          "user": "A2"
         },
         {
          "action": "IS",
          "t": 1,
          "user": "G2"
         },
         {
          "action": "C",
          "t": 1,
          "user": "G3"
         },
         {
          "action": "ID",
          "t": 1,
          "user": "M3"
         },
         {
          "action": "E",
          "t": 2,
          "user": "A2"
         },
         {
          "action": "BR",
          "t": 2,
          "user": "G2"
         },
         {
          "action": "W",
          "t": 2,
          "user": "G3"
         },
         {
          "action": "PS",
          "t": 2,
          "user": "M2"
         },
         {
          "action": "C",
          "t": 3,
          "user": "M1"
         },
         {
          "action": "IS",
          "t": 3,
          "user": "M3"
         },
         {
          "action": "BR",
          "t": 4,
          "user": "A1"
         },
         {
          "action": "W",
          "t": 4,
          "user": "A2"
         },
         {
          "action": "BR",
          "t": 4,
          "user": "A3"
         },
         {
          "action": "W",
          "t": 4,
          "user": "G1"
         },
         {
          "action": "IS",
          "t": 5,
          "user": "A1"
         },
         {
          "action": "ID",
          "t": 5,
          "user": "A2"
         },
         {
          "action": "IS",
          "t": 5,
          "user": "G1"
         },
         {
          "action": "W",
          "t": 5,
          "user": "M1"
         },
         {
          "action": "PS",
          "t": 5,
          "user": "M3"
         },
         {
          "action": "E",
          "t": 6,
          "user": "A1"
         },
         {
          "action": "E",
          "t": 6,
          "user": "A2"
         },
         {
          "action": "BR",
          "t": 6,
          "user": "G1"
         },
         {
          "action": "ID",
          "t": 6,
          "user": "G3"
         },
         {
          "action": "W",
          "t": 6,
          "user": "M1"
         },
         {
          "action": "E",
          "t": 7,
          "user": "A1"
         },
         {
          "action": "ID",
          "t": 7,
          "user": "A2"
         },
         {
          "action": "C",
          "t": 7,
          "user": "G2"
         },
         {
          "action": "W",
          "t": 7,
          "user": "M1"
         },
         {
          "action": "PS",
          "t": 7,
          "user": "M2"
         },
         {
          "action": "ID",
          "t": 7,
          "user": "M3"
         },
         {
          "action": "BR",
          "t": 8,
          "user": "A2"
         },
         {
          "action": "C",
          "t": 8,
          "user": "A3"
         },
         {
          "action": "IS",
          "t": 8,
          "user": "G1"
         },
         {
          "action": "BR",
          "t": 8,
          "user": "G2"
         },
         {
          "action": "ID",
          "t": 9,
          "user": "A1"
         },
         {
          "action": "W",
          "t": 9,
          "user": "G1"
         },
         {
          "action": "W",
          "t": 9,
          "user": "G2"
         },
         {
          "action": "IS",
          "t": 9,
          "user": "M2"
         },
         {
          "action": "IS",
          "t": 9,
          "user": "M3"
         },
         {
          "action": "E",
          "t": 10,
          "user": "A2"
         },
         {
          "action": "BR",
          "t": 10,
          "user": "G1"
         },
         {
          "action": "W",
          "t": 10,
          "user": "G3"
         },
         {
          "action": "IS",
          "t": 10,
          "user": "M1"
         },
         {
          "action": "IS",
          "t": 10,
          "user": "M2"
         },
         {
          "action": "E",
          "t": 11,
          "user": "A1"
         },
         {
          "action": "PD",
          "t": 11,
          "user": "A2"
         },
         {
          "action": "ID",
          "t": 11,
          "user": "A3"
         },
         {
          "action": "W",
          "t": 11,
          "user": "G2"
         },
         {
          "action": "ID",
          "t": 11,
          "user": "G3"
         },
         {
          "action": "C",
          "t": 11,
          "user": "M2"
         },
         {
          "action": "IS",
          "t": 12,
          "user": "A1"
         },
         {
          "action": "W",
          "t": 12,
          "user": "M1"
         },
         {
          "action": "BR",
          "t": 12,
          "user": "M2"
         },
         {
          "action": "IS",
          "t": 12,
          "user": "M3"
         },
         {
          "action": "PS",
          "t": 13,
          "user": "A1"
         },
         {
          "action": "W",
          "t": 13,
          "user": "A3"
         },
         {
          "action": "PS",
          "t": 13,
          "user": "G2"
         },
         {
          "action": "IS",
          "t": 13,
          "user": "G3"
         },
         {
          "action": "PS",
          "t": 13,
          "user": "M1"
         },
         {
          "action": "W",
          "t": 13,
          "user": "M2"
         },
         {
          "action": "E",
          "t": 14,
          "user": "A1"
         },
         {
          "action": "E",
          "t": 14,
          "user": "A2"
         },
         {
          "action": "BR",
          "t": 14,
          "user": "A3"
         },
         {
          "action": "BR",
          "t": 14,
          "user": "G2"
         },
         {
          "action": "C",
          "t": 14,
          "user": "M3"
         },
         {
          "action": "PS",
          "t": 15,
          "user": "A1"
         },
         {
          "action": "PD",
          "t": 15,
          "user": "A2"
         },
         {
          "action": "BR",
          "t": 15,
          "user": "G1"
         },
         {
          "action": "PD",
          "t": 15,
          "user": "M1"
         },
         {
          "action": "IS",
          "t": 15,
          "user": "M2"
         },
         {
          "action": "PD",
          "t": 16,
          "user": "A1"
         },
         {
          "action": "W",
          "t": 16,
          "user": "A3"
         },
         {
          "action": "ID",
          "t": 16,
          "user": "G2"
         },
         {
          "action": "IS",
          "t": 16,
          "user": "G3"
         },
         {
          "action": "IS",
          "t": 16,
          "user": "M1"
         },
         {
          "action": "IS",
          "t": 16,
          "user": "M3"
         },
         {
          "action": "E",
          "t": 17,
          "user": "A2"
         },
         {
          "action": "W",
          "t": 17,
          "user": "A3"
         },
         {
          "action": "C",
          "t": 17,
          "user": "G1"
         },
         {
          "action": "BR",
          "t": 17,
          "user": "G2"
         },
         {
          "action": "BR",
          "t": 17,
          "user": "M1"
         },
         {
          "action": "C",
          "t": 17,
          "user": "M2"
         },
         {
          "action": "BR",
          "t": 17,
          "user": "M3"
         },
         {
          "action": "E",
          "t": 18,
          "user": "A1"
         },
         {
          "action": "PD",
          "t": 18,
          "user": "A2"
         },
         {
          "action": "W",
          "t": 18,
          "user": "G1"
         },
         {
          "action": "IS",
          "t": 18,
          "user": "G3"
         },
         {
          "action": "PS",
          "t": 19,
          "user": "A1"
         },
         {
          "action": "ID",
          "t": 19,
          "user": "A3"
         },
         {
          "action": "ID",
          "t": 19,
          "user": "G2"
         },
         {
          "action": "BR",
          "t": 20,
          "user": "A1"
         },
         {
          "action": "BR",
          "t": 20,
          "user": "A3"
         },
         {
          "action": "W",
          "t": 20,
          "user": "G2"
         },
         {
          "action": "ID",
          "t": 21,
          "user": "G1"
         },
         {
          "action": "W",
          "t": 21,
          "user": "M1"
         },
         {
          "action": "BR",
          "t": 21,
          "user": "M3"
         },
         {
          "action": "C",
          "t": 22,
          "user": "A1"
         },
         {
          "action": "E",
          "t": 22,
          "user": "A2"
         },
         {
          "action": "ID",
          "t": 22,
          "user": "A3"
         },
         {
          "action": "PS",
          "t": 22,
          "user": "M3"
         },
         {
          "action": "C",
          "t": 23,
          "user": "G1"
         },
         {
          "action": "ID",
          "t": 23,
          "user": "M2"
         },
         {
          "action": "BR",
          "t": 24,
          "user": "A1"
         },
         {
          "action": "BR",
          "t": 24,
          "user": "A2"
         },
         {
          "action": "W",
          "t": 24,
          "user": "A3"
         },
         {
          "action": "W",
          "t": 24,
          "user": "G1"
         },
         {
          "action": "IS",
          "t": 24,
          "user": "G2"
         },
         {
          "action": "C",
          "t": 24,
          "user": "M2"
         },
         {
          "action": "ID",
          "t": 24,
          "user": "M3"
         },
         {
          "action": "PS",
          "t": 25,
          "user": "A2"
         },
         {
          "action": "PS",
          "t": 25,
          "user": "G1"
         },
         {
          "action": "ID",
          "t": 25,
          "user": "M1"
         },
         {
          "action": "W",
          "t": 25,
          "user": "M3"
         },
         {
          "action": "PS",
          "t": 26,
          "user": "A1"
         },
         {
          "action": "E",
          "t": 26,
          "user": "A2"
         },
         {
          "action": "PS",
          "t": 26,
          "user": "A3"
         },
         {
          "action": "W",
          "t": 26,
          "user": "G1"
         },
         {
          "action": "BR",
          "t": 26,
          "user": "G2"
         },
         {
          "action": "BR",
          "t": 26,
          "user": "M1"
         },
         {
          "action": "IS",
          "t": 26,
          "user": "M3"
         },
         {
          "action": "E",
          "t": 27,
          "user": "A1"
         },
         {
          "action": "E",
          "t": 27,
          "user": "A2"
         },
         {
          "action": "W",
          "t": 27,
          "user": "M1"
         },
         {
          "action": "IS",
          "t": 27,
          "user": "M2"
         },
         {
          "action": "BR",
          "t": 27,
          "user": "M3"
         },
         {
          "action": "E",
          "t": 28,
          "user": "A1"
         },
         {
          "action": "PS",
          "t": 28,
          "user": "G2"
         },
         {
          "action": "E",
          "t": 28,
          "user": "M1"
         },
         {
          "action": "C",
          "t": 28,
          "user": "M2"
         },
         {
          "action": "PS",
          "t": 29,
          "user": "A1"
         },
         {
          "action": "W",
          "t": 29,
          "user": "A2"
         },
         {
          "action": "W",
          "t": 29,
          "user": "A3"
         },
         {
          "action": "E",
          "t": 29,
          "user": "M1"
         },
         {
          "action": "C",
          "t": 29,
          "user": "M2"
         },
         {
          "action": "W",
          "t": 29,
          "user": "M3"
         },
         {
          "action": "E",
          "t": 30,
          "user": "A2"
         },
         {
          "action": "W",
          "t": 30,
          "user": "G2"
         },
         {
          "action": "W",
          "t": 30,
          "user": "M1"
         },
         {
          "action": "BR",
          "t": 30,
          "user": "M2"
         },
         {
          "action": "W",
          "t": 30,
          "user": "M3"
         },
         {
          "action": "W",
          "t": 31,
          "user": "A1"
         },
         {
          "action": "E",
          "t": 31,
          "user": "M1"
         },
         {
          "action": "ID",
          "t": 32,
          "user": "A1"
         },
         {
          "action": "IS",
          "t": 32,
          "user": "M2"
         },
         {
          "action": "W",
          "t": 33,
          "user": "A1"
         },
         {
          "action": "IS",
          "t": 33,
          "user": "A2"
         },
         {
          "action": "IS",
          "t": 33,
          "user": "M2"
         },
         {
          "action": "W",
          "t": 34,
          "user": "A1"
         },
         {
          "action": "PD",
          "t": 34,
          "user": "A2"
         },
         {
          "action": "ID",
          "t": 35,
          "user": "A1"
         },
         {
          "action": "BR",
          "t": 35,
          "user": "A2"
         },
         {
          "action": "PD",
          "t": 35,
          "user": "G2"
         },
         {
          "action": "BR",
          "t": 36,
          "user": "A1"
         },
         {
          "action": "W",
          "t": 36,
          "user": "A2"
         },
         {
          "action": "E",
          "t": 36,
          "user": "G2"
         },
         {
          "action": "IS",
          "t": 36,
          "user": "M2"
         },
         {
          "action": "PS",
          "t": 37,
          "user": "A2"
         },
         {
          "action": "ID",
          "t": 38,
          "user": "M2"
         },
         {
          "action": "W",
          "t": 39,
          "user": "A2"
         },
         {
          "action": "IS",
          "t": 39,
          "user": "G2"
         },
         {
          "action": "W",
          "t": 40,
          "user": "G2"
         },
         {
          "action": "PS",
          "t": 41,
          "user": "A2"
         },
         {
          "action": "BR",
          "t": 42,
          "user": "A2"
         },
         {
          "action": "E",
          "t": 43,
          "user": "A1"
         },
         {
          "action": "ID",
          "t": 43,
          "user": "G2"
         },
         {
          "action": "PS",
          "t": 44,
          "user": "A1"
         },
         {
          "action": "W",
          "t": 45,
          "user": "A1"
         },
         {
          "action": "W",
          "t": 46,
          "user": "A1"
         },
         {
          "action": "PS",
          "t": 46,
          "user": "G2"
         },
         {
          "action": "W",
          "t": 47,
          "user": "A1"
         },
         {
          "action": "IS",
          "t": 48,
          "user": "A1"
         },
         {
          "action": "BR",
          "t": 49,
          "user": "A1"
         },
         {
          "action": "ID",
          "t": 51,
          "user": "G2"
         },
         {
          "action": "W",
          "t": 52,
          "user": "A1"
         },
         {
          "action": "ID",
          "t": 52,
          "user": "G2"
         },
         {
          "action": "PS",
          "t": 53,
          "user": "G2"
         },
         {
          "action": "BR",
          "t": 54,
          "user": "A1"
         },
         {
          "action": "E",
          "t": 56,
          "user": "A1"
         },
         {
          "action": "ID",
          "t": 57,
          "user": "A1"
         },
         {
          "action": "W",
          "t": 60,
          "user": "A1"
         },
         {
          "action": "BR",
          "t": 62,
          "user": "A1"
         },
         {
          "action": "E",
          "t": 64,
          "user": "A1"
         },
         {
          "action": "ID",
          "t": 65,
          "user": "A1"
         },
         {
          "action": "W",
          "t": 68,
          "user": "A1"
         }
        ],
        "data-81d766d94b0d010ea1ba6f2888150eac": [
         {
          "action": "ID",
          "t": 0,
          "user": "G3"
         },
         {
          "action": "IS",
          "t": 1,
          "user": "G2"
         },
         {
          "action": "ID",
          "t": 1,
          "user": "M3"
         },
         {
          "action": "IS",
          "t": 3,
          "user": "M3"
         },
         {
          "action": "IS",
          "t": 5,
          "user": "A1"
         },
         {
          "action": "ID",
          "t": 5,
          "user": "A2"
         },
         {
          "action": "IS",
          "t": 5,
          "user": "G1"
         },
         {
          "action": "ID",
          "t": 6,
          "user": "G3"
         },
         {
          "action": "ID",
          "t": 7,
          "user": "A2"
         },
         {
          "action": "ID",
          "t": 7,
          "user": "M3"
         },
         {
          "action": "IS",
          "t": 8,
          "user": "G1"
         },
         {
          "action": "ID",
          "t": 9,
          "user": "A1"
         },
         {
          "action": "IS",
          "t": 9,
          "user": "M2"
         },
         {
          "action": "IS",
          "t": 9,
          "user": "M3"
         },
         {
          "action": "IS",
          "t": 10,
          "user": "M1"
         },
         {
          "action": "IS",
          "t": 10,
          "user": "M2"
         },
         {
          "action": "ID",
          "t": 11,
          "user": "A3"
         },
         {
          "action": "ID",
          "t": 11,
          "user": "G3"
         },
         {
          "action": "IS",
          "t": 12,
          "user": "A1"
         },
         {
          "action": "IS",
          "t": 12,
          "user": "M3"
         },
         {
          "action": "IS",
          "t": 13,
          "user": "G3"
         },
         {
          "action": "IS",
          "t": 15,
          "user": "M2"
         },
         {
          "action": "ID",
          "t": 16,
          "user": "G2"
         },
         {
          "action": "IS",
          "t": 16,
          "user": "G3"
         },
         {
          "action": "IS",
          "t": 16,
          "user": "M1"
         },
         {
          "action": "IS",
          "t": 16,
          "user": "M3"
         },
         {
          "action": "IS",
          "t": 18,
          "user": "G3"
         },
         {
          "action": "ID",
          "t": 19,
          "user": "A3"
         },
         {
          "action": "ID",
          "t": 19,
          "user": "G2"
         },
         {
          "action": "ID",
          "t": 21,
          "user": "G1"
         },
         {
          "action": "ID",
          "t": 22,
          "user": "A3"
         },
         {
          "action": "ID",
          "t": 23,
          "user": "M2"
         },
         {
          "action": "IS",
          "t": 24,
          "user": "G2"
         },
         {
          "action": "ID",
          "t": 24,
          "user": "M3"
         },
         {
          "action": "ID",
          "t": 25,
          "user": "M1"
         },
         {
          "action": "IS",
          "t": 26,
          "user": "M3"
         },
         {
          "action": "IS",
          "t": 27,
          "user": "M2"
         },
         {
          "action": "ID",
          "t": 32,
          "user": "A1"
         },
         {
          "action": "IS",
          "t": 32,
          "user": "M2"
         },
         {
          "action": "IS",
          "t": 33,
          "user": "A2"
         },
         {
          "action": "IS",
          "t": 33,
          "user": "M2"
         },
         {
          "action": "ID",
          "t": 35,
          "user": "A1"
         },
         {
          "action": "IS",
          "t": 36,
          "user": "M2"
         },
         {
          "action": "ID",
          "t": 38,
          "user": "M2"
         },
         {
          "action": "IS",
          "t": 39,
          "user": "G2"
         },
         {
          "action": "ID",
          "t": 43,
          "user": "G2"
         },
         {
          "action": "IS",
          "t": 48,
          "user": "A1"
         },
         {
          "action": "ID",
          "t": 51,
          "user": "G2"
         },
         {
          "action": "ID",
          "t": 52,
          "user": "G2"
         },
         {
          "action": "ID",
          "t": 57,
          "user": "A1"
         },
         {
          "action": "ID",
          "t": 65,
          "user": "A1"
         }
        ]
       },
       "layer": [
        {
         "data": {
          "name": "data-1f8f54379775d02b2f177adb02febf4b"
         },
         "encoding": {
          "color": {
           "field": "component",
           "type": "nominal"
          },
          "x": {
           "field": "t",
           "type": "quantitative"
          },
          "y": {
           "field": "user",
           "type": "nominal"
          }
         },
         "mark": "circle"
        },
        {
         "data": {
          "name": "data-759c31fac935f2f2258939397ce17bf6"
         },
         "encoding": {
          "x": {
           "field": "t",
           "type": "quantitative"
          },
          "y": {
           "field": "user",
           "type": "nominal"
          }
         },
         "mark": {
          "color": "black",
          "thickness": 2,
          "type": "tick"
         }
        },
        {
         "data": {
          "name": "data-81d766d94b0d010ea1ba6f2888150eac"
         },
         "encoding": {
          "shape": {
           "field": "action",
           "type": "nominal"
          },
          "x": {
           "field": "t",
           "type": "quantitative"
          },
          "y": {
           "field": "user",
           "type": "nominal"
          }
         },
         "mark": "point"
        }
       ]
      },
      "image/png": "[encoded data removed]",
      "text/plain": [
       "<VegaLite 2 object>\n",
       "\n",
       "If you see this message, it means the renderer has not been properly enabled\n",
       "for the frontend that you are using. For more information, see\n",
       "https://altair-viz.github.io/user_guide/troubleshooting.html\n"
      ]
     },
     "execution_count": 28,
     "metadata": {},
     "output_type": "execute_result"
    }
   ],
   "source": [
    "component_chart+ break_chart + insight_chart"
   ]
  },
  {
   "cell_type": "code",
   "execution_count": null,
   "metadata": {},
   "outputs": [],
   "source": []
  },
  {
   "cell_type": "code",
   "execution_count": null,
   "metadata": {},
   "outputs": [],
   "source": []
  },
  {
   "cell_type": "code",
   "execution_count": null,
   "metadata": {},
   "outputs": [],
   "source": []
  },
  {
   "cell_type": "code",
   "execution_count": null,
   "metadata": {},
   "outputs": [],
   "source": []
  },
  {
   "cell_type": "code",
   "execution_count": null,
   "metadata": {},
   "outputs": [],
   "source": []
  }
 ],
 "metadata": {
  "kernelspec": {
   "display_name": "Python 3",
   "language": "python",
   "name": "python3"
  },
  "language_info": {
   "codemirror_mode": {
    "name": "ipython",
    "version": 3
   },
   "file_extension": ".py",
   "mimetype": "text/x-python",
   "name": "python",
   "nbconvert_exporter": "python",
   "pygments_lexer": "ipython3",
   "version": "3.7.0"
  }
 },
 "nbformat": 4,
 "nbformat_minor": 2
}
