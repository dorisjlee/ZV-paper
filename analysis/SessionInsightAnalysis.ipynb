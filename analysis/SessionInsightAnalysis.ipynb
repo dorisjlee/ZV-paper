{
 "cells": [
  {
   "cell_type": "code",
   "execution_count": 16,
   "metadata": {},
   "outputs": [],
   "source": [
    "import pandas as pd\n",
    "import numpy as np\n",
    "import altair as alt\n",
    "df = pd.read_csv(\"StudyEventTimeSeries.csv\")"
   ]
  },
  {
   "cell_type": "code",
   "execution_count": 17,
   "metadata": {},
   "outputs": [
    {
     "name": "stderr",
     "output_type": "stream",
     "text": [
      "/Users/dorislee/.virtualenvs/py37env/lib/python3.7/site-packages/ipykernel_launcher.py:1: FutureWarning: Method .as_matrix will be removed in a future version. Use .values instead.\n",
      "  \"\"\"Entry point for launching an IPython kernel.\n"
     ]
    }
   ],
   "source": [
    "codelist = list(set(df.as_matrix().flatten()))\n",
    "codelist.remove(np.nan)\n",
    "featureOnly= list(filter(lambda x: x.islower(),codelist))"
   ]
  },
  {
   "cell_type": "code",
   "execution_count": 18,
   "metadata": {},
   "outputs": [],
   "source": [
    "df = df.stack().reset_index()\n",
    "\n",
    "df = df.rename(columns={\n",
    "    \"level_0\":\"t\",\n",
    "    \"level_1\":\"user\",\n",
    "    0:\"action\"\n",
    "})"
   ]
  },
  {
   "cell_type": "code",
   "execution_count": 19,
   "metadata": {},
   "outputs": [],
   "source": [
    "def make_session_id(x):\n",
    "    for index in BR_indices:\n",
    "        if x<index: \n",
    "            return BR_indices.index(index)\n",
    "    return len(BR_indices)"
   ]
  },
  {
   "cell_type": "code",
   "execution_count": 20,
   "metadata": {},
   "outputs": [
    {
     "name": "stderr",
     "output_type": "stream",
     "text": [
      "/Users/dorislee/.virtualenvs/py37env/lib/python3.7/site-packages/ipykernel_launcher.py:9: SettingWithCopyWarning: \n",
      "A value is trying to be set on a copy of a slice from a DataFrame.\n",
      "Try using .loc[row_indexer,col_indexer] = value instead\n",
      "\n",
      "See the caveats in the documentation: http://pandas.pydata.org/pandas-docs/stable/indexing.html#indexing-view-versus-copy\n",
      "  if __name__ == '__main__':\n"
     ]
    }
   ],
   "source": [
    "# Create column called \"session_id\" containing session number\n",
    "df_user_lst = []\n",
    "for user in list(df[\"user\"].unique()):\n",
    "#     userdf = df[df[\"user\"]==user]\n",
    "#     userdf[userdf[\"action\"]==\"BR\"].index.values\n",
    "    df_tmp = df[(df[\"user\"]==user)&(df[\"action\"]==\"BR\")]\n",
    "    df_user = df[(df[\"user\"]==user)]\n",
    "    BR_indices = list(df_tmp.index.values)\n",
    "    df_user[\"session_id\"] =list(map(make_session_id, list(df_user.index.values)))\n",
    "    df_user_lst.append(df_user)"
   ]
  },
  {
   "cell_type": "code",
   "execution_count": 21,
   "metadata": {},
   "outputs": [],
   "source": [
    "df_session = pd.concat(df_user_lst).reset_index()"
   ]
  },
  {
   "cell_type": "code",
   "execution_count": 22,
   "metadata": {},
   "outputs": [],
   "source": [
    "df_session[\"insightful_session\"]=False"
   ]
  },
  {
   "cell_type": "code",
   "execution_count": 23,
   "metadata": {},
   "outputs": [
    {
     "name": "stderr",
     "output_type": "stream",
     "text": [
      "/Users/dorislee/.virtualenvs/py37env/lib/python3.7/site-packages/ipykernel_launcher.py:8: SettingWithCopyWarning: \n",
      "A value is trying to be set on a copy of a slice from a DataFrame.\n",
      "Try using .loc[row_indexer,col_indexer] = value instead\n",
      "\n",
      "See the caveats in the documentation: http://pandas.pydata.org/pandas-docs/stable/indexing.html#indexing-view-versus-copy\n",
      "  \n"
     ]
    }
   ],
   "source": [
    "# Given session_ids, check if IS or ID contained in the session, if so, relabel all the events in the session as being contained in an insightful session\n",
    "df_user_list = []\n",
    "\n",
    "for user in df_session['user'].unique():\n",
    "    df_tmp = df_session[(df_session['user'] == user) & ((df_session['action'] == 'IS') | (df_session['action'] == 'ID'))]\n",
    "    session_id_true = list(df_tmp['session_id'].unique())\n",
    "    df_user = df_session[df_session['user'] == user]\n",
    "    df_user['insightful_session'] = df_session['session_id'].apply(lambda x: True if (x in session_id_true) else False)\n",
    "    df_user_list.append(df_user)\n",
    "    #df_session['insightful_session'] = df_session.apply(lambda x: True if ((x['session_id'] in session_id_true) & (x['user'] == user)) else x)"
   ]
  },
  {
   "cell_type": "code",
   "execution_count": 24,
   "metadata": {},
   "outputs": [],
   "source": [
    "df_user_session_insightfulness = pd.concat(df_user_list)"
   ]
  },
  {
   "cell_type": "code",
   "execution_count": 30,
   "metadata": {},
   "outputs": [],
   "source": [
    "df_user_session_insightfulness = df_user_session_insightfulness[df_user_session_insightfulness.action.isin(featureOnly)]"
   ]
  },
  {
   "cell_type": "code",
   "execution_count": 32,
   "metadata": {},
   "outputs": [],
   "source": [
    "df_user_session_insightfulness_freq = df_user_session_insightfulness.groupby([\"action\",\"insightful_session\"]).count()[\"t\"].reset_index()"
   ]
  },
  {
   "cell_type": "code",
   "execution_count": 34,
   "metadata": {},
   "outputs": [
    {
     "data": {
      "application/vnd.vegalite.v2+json": {
       "$schema": "https://vega.github.io/schema/vega-lite/v2.6.0.json",
       "config": {
        "view": {
         "height": 300,
         "width": 400
        }
       },
       "data": {
        "name": "data-3400588eb7819bdbdd248c772c853e86"
       },
       "datasets": {
        "data-3400588eb7819bdbdd248c772c853e86": [
         {
          "action": "brush-xrange",
          "insightful_session": false,
          "t": 2
         },
         {
          "action": "brush-xrange",
          "insightful_session": true,
          "t": 4
         },
         {
          "action": "change-axis",
          "insightful_session": false,
          "t": 4
         },
         {
          "action": "change-axis",
          "insightful_session": true,
          "t": 7
         },
         {
          "action": "change-metric",
          "insightful_session": true,
          "t": 5
         },
         {
          "action": "change-number-of-results",
          "insightful_session": true,
          "t": 3
         },
         {
          "action": "control-kmeans-clustersize",
          "insightful_session": false,
          "t": 1
         },
         {
          "action": "control-kmeans-clustersize",
          "insightful_session": true,
          "t": 6
         },
         {
          "action": "drag-and-drop",
          "insightful_session": false,
          "t": 6
         },
         {
          "action": "drag-and-drop",
          "insightful_session": true,
          "t": 16
         },
         {
          "action": "dynamic-class",
          "insightful_session": false,
          "t": 3
         },
         {
          "action": "dynamic-class",
          "insightful_session": true,
          "t": 14
         },
         {
          "action": "export",
          "insightful_session": false,
          "t": 4
         },
         {
          "action": "export",
          "insightful_session": true,
          "t": 7
         },
         {
          "action": "filter",
          "insightful_session": false,
          "t": 8
         },
         {
          "action": "filter",
          "insightful_session": true,
          "t": 23
         },
         {
          "action": "ignore-xrange",
          "insightful_session": false,
          "t": 2
         },
         {
          "action": "ignore-xrange",
          "insightful_session": true,
          "t": 4
         },
         {
          "action": "input-equation",
          "insightful_session": false,
          "t": 1
         },
         {
          "action": "min-similarity-cutoff",
          "insightful_session": false,
          "t": 1
         },
         {
          "action": "pattern-upload",
          "insightful_session": true,
          "t": 3
         },
         {
          "action": "representative-outlier",
          "insightful_session": false,
          "t": 3
         },
         {
          "action": "representative-outlier",
          "insightful_session": true,
          "t": 14
         },
         {
          "action": "reverse-y",
          "insightful_session": true,
          "t": 1
         },
         {
          "action": "show-scatter",
          "insightful_session": false,
          "t": 1
         },
         {
          "action": "show-scatter",
          "insightful_session": true,
          "t": 4
         },
         {
          "action": "sketch-to-modify",
          "insightful_session": false,
          "t": 1
         },
         {
          "action": "sketch-to-modify",
          "insightful_session": true,
          "t": 4
         },
         {
          "action": "sketch-to-query",
          "insightful_session": false,
          "t": 4
         },
         {
          "action": "sketch-to-query",
          "insightful_session": true,
          "t": 5
         },
         {
          "action": "smoothing",
          "insightful_session": false,
          "t": 2
         },
         {
          "action": "smoothing",
          "insightful_session": true,
          "t": 2
         },
         {
          "action": "upload-dataset",
          "insightful_session": true,
          "t": 2
         }
        ]
       },
       "encoding": {
        "color": {
         "field": "insightful_session",
         "type": "nominal"
        },
        "x": {
         "field": "t",
         "type": "quantitative"
        },
        "y": {
         "field": "action",
         "type": "nominal"
        }
       },
       "mark": "bar"
      },
      "image/png": "[encoded data removed]",
      "text/plain": [
       "<VegaLite 2 object>\n",
       "\n",
       "If you see this message, it means the renderer has not been properly enabled\n",
       "for the frontend that you are using. For more information, see\n",
       "https://altair-viz.github.io/user_guide/troubleshooting.html\n"
      ]
     },
     "execution_count": 34,
     "metadata": {},
     "output_type": "execute_result"
    }
   ],
   "source": [
    "alt.Chart(df_user_session_insightfulness_freq).mark_bar().encode(        \n",
    "    color='insightful_session',\n",
    "    y=\"action\",\n",
    "    x='t'\n",
    ")"
   ]
  },
  {
   "cell_type": "markdown",
   "metadata": {},
   "source": [
    "# Compiling everything into sessions"
   ]
  },
  {
   "cell_type": "code",
   "execution_count": 26,
   "metadata": {},
   "outputs": [
    {
     "name": "stderr",
     "output_type": "stream",
     "text": [
      "/Users/dorislee/.virtualenvs/py37env/lib/python3.7/site-packages/ipykernel_launcher.py:3: FutureWarning: Method .as_matrix will be removed in a future version. Use .values instead.\n",
      "  This is separate from the ipykernel package so we can avoid doing imports until\n"
     ]
    }
   ],
   "source": [
    "df = pd.read_csv(\"StudyEventTimeSeries.csv\")\n",
    "sessions=[]\n",
    "for row in df.as_matrix().T: \n",
    "    session=[]\n",
    "    for action in row:\n",
    "        if action is not np.NaN:\n",
    "            if action==\"BR\":\n",
    "                if session!=[]:\n",
    "                    sessions.append(session)\n",
    "                session=[]\n",
    "            else:\n",
    "                session.append(action)\n",
    "    if session!=[]:\n",
    "        sessions.append(session)"
   ]
  },
  {
   "cell_type": "code",
   "execution_count": 27,
   "metadata": {},
   "outputs": [],
   "source": [
    "#Overall Counts\n",
    "from collections import Counter\n",
    "overall_sessions_flat  = [item for sublist in sessions  for item in sublist]"
   ]
  },
  {
   "cell_type": "code",
   "execution_count": 28,
   "metadata": {},
   "outputs": [
    {
     "name": "stdout",
     "output_type": "stream",
     "text": [
      "Number of sessions with at least one insight: 30\n"
     ]
    }
   ],
   "source": [
    "print (\"Number of sessions with at least one insight:\", len(list(filter(lambda x: ('IS' in x) or ('ID' in x),sessions))) )"
   ]
  },
  {
   "cell_type": "code",
   "execution_count": 29,
   "metadata": {},
   "outputs": [],
   "source": [
    "insightful_sessions = list(filter(lambda x: ('IS' in x) or ('ID' in x),sessions))"
   ]
  },
  {
   "cell_type": "code",
   "execution_count": 45,
   "metadata": {},
   "outputs": [],
   "source": [
    "insightful_sessions_flat  = [item for sublist in insightful_sessions  for item in sublist]"
   ]
  },
  {
   "cell_type": "code",
   "execution_count": 46,
   "metadata": {},
   "outputs": [],
   "source": [
    "insightful_sessions_flat_filtered = list(filter(lambda x: x in featureOnly, insightful_sessions_flat)) #filter out action codes with capital letters"
   ]
  },
  {
   "cell_type": "code",
   "execution_count": 47,
   "metadata": {},
   "outputs": [],
   "source": [
    "x = Counter(insightful_sessions_flat_filtered)\n",
    "df = pd.DataFrame(x.most_common(),columns=[\"Feature\",\"Usage Frequency\"])"
   ]
  },
  {
   "cell_type": "code",
   "execution_count": 48,
   "metadata": {},
   "outputs": [],
   "source": [
    "chart = alt.Chart(df).mark_bar().encode(\n",
    "    alt.X(\"Usage Frequency\"),#,sort=alt.SortField(field='Usage Frequency', order='descending'))\n",
    "    alt.Y(\"Feature\")\n",
    ")"
   ]
  },
  {
   "cell_type": "code",
   "execution_count": 49,
   "metadata": {},
   "outputs": [
    {
     "data": {
      "application/vnd.vegalite.v2+json": {
       "$schema": "https://vega.github.io/schema/vega-lite/v2.6.0.json",
       "config": {
        "view": {
         "height": 300,
         "width": 400
        }
       },
       "data": {
        "name": "data-a05462dc2211334319ebb984a39fb827"
       },
       "datasets": {
        "data-a05462dc2211334319ebb984a39fb827": [
         {
          "Feature": "filter",
          "Usage Frequency": 23
         },
         {
          "Feature": "drag-and-drop",
          "Usage Frequency": 16
         },
         {
          "Feature": "dynamic-class",
          "Usage Frequency": 14
         },
         {
          "Feature": "representative-outlier",
          "Usage Frequency": 14
         },
         {
          "Feature": "export",
          "Usage Frequency": 7
         },
         {
          "Feature": "change-axis",
          "Usage Frequency": 7
         },
         {
          "Feature": "control-kmeans-clustersize",
          "Usage Frequency": 6
         },
         {
          "Feature": "sketch-to-query",
          "Usage Frequency": 5
         },
         {
          "Feature": "change-metric",
          "Usage Frequency": 5
         },
         {
          "Feature": "brush-xrange",
          "Usage Frequency": 4
         },
         {
          "Feature": "ignore-xrange",
          "Usage Frequency": 4
         },
         {
          "Feature": "show-scatter",
          "Usage Frequency": 4
         },
         {
          "Feature": "sketch-to-modify",
          "Usage Frequency": 4
         },
         {
          "Feature": "pattern-upload",
          "Usage Frequency": 3
         },
         {
          "Feature": "change-number-of-results",
          "Usage Frequency": 3
         },
         {
          "Feature": "smoothing",
          "Usage Frequency": 2
         },
         {
          "Feature": "upload-dataset",
          "Usage Frequency": 2
         },
         {
          "Feature": "reverse-y",
          "Usage Frequency": 1
         }
        ]
       },
       "encoding": {
        "x": {
         "field": "Usage Frequency",
         "type": "quantitative"
        },
        "y": {
         "field": "Feature",
         "type": "nominal"
        }
       },
       "mark": "bar"
      },
      "image/png": "[encoded data removed]",
      "text/plain": [
       "<VegaLite 2 object>\n",
       "\n",
       "If you see this message, it means the renderer has not been properly enabled\n",
       "for the frontend that you are using. For more information, see\n",
       "https://altair-viz.github.io/user_guide/troubleshooting.html\n"
      ]
     },
     "execution_count": 49,
     "metadata": {},
     "output_type": "execute_result"
    }
   ],
   "source": [
    "chart"
   ]
  }
 ],
 "metadata": {
  "kernelspec": {
   "display_name": "Python 3",
   "language": "python",
   "name": "python3"
  },
  "language_info": {
   "codemirror_mode": {
    "name": "ipython",
    "version": 3
   },
   "file_extension": ".py",
   "mimetype": "text/x-python",
   "name": "python",
   "nbconvert_exporter": "python",
   "pygments_lexer": "ipython3",
   "version": "3.7.0"
  }
 },
 "nbformat": 4,
 "nbformat_minor": 2
}
