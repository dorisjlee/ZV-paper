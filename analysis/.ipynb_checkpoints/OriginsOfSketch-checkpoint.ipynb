{
 "cells": [
  {
   "cell_type": "code",
   "execution_count": 1,
   "metadata": {
    "collapsed": true
   },
   "outputs": [],
   "source": [
    "import pandas as pd\n",
    "import numpy as np\n",
    "import altair as alt\n",
    "df = pd.read_csv(\"OriginsOfSketch.csv\")"
   ]
  },
  {
   "cell_type": "code",
   "execution_count": 2,
   "metadata": {},
   "outputs": [
    {
     "name": "stderr",
     "output_type": "stream",
     "text": [
      "/Users/dorislee/.virtualenvs/py37env/lib/python3.7/site-packages/ipykernel_launcher.py:1: FutureWarning: Method .as_matrix will be removed in a future version. Use .values instead.\n",
      "  \"\"\"Entry point for launching an IPython kernel.\n"
     ]
    }
   ],
   "source": [
    "codelist = list(set(df.as_matrix().flatten()))\n",
    "codelist.remove(np.nan)\n",
    "\n",
    "actionOnly= list(filter(lambda x: x.isupper(),codelist))\n",
    "featureOnly= list(filter(lambda x: x.islower(),codelist))"
   ]
  },
  {
   "cell_type": "code",
   "execution_count": 3,
   "metadata": {
    "collapsed": false
   },
   "outputs": [],
   "source": [
    "# df[\"t\"]=df.index"
   ]
  },
  {
   "cell_type": "code",
   "execution_count": 4,
   "metadata": {},
   "outputs": [],
   "source": [
    "df = df.stack().reset_index()\n",
    "\n",
    "df = df.rename(columns={\n",
    "    \"level_0\":\"t\",\n",
    "    \"level_1\":\"user\",\n",
    "    0:\"action\"\n",
    "})"
   ]
  },
  {
   "cell_type": "code",
   "execution_count": 34,
   "metadata": {},
   "outputs": [],
   "source": [
    "itemsOfInterest = ['drag-and-drop (result)','drag-and-drop (cluster)','drag-and-drop (OOI)','drag-and-drop (outlier)','sketch-to-query','sketch-to-modify']"
   ]
  },
  {
   "cell_type": "code",
   "execution_count": 35,
   "metadata": {},
   "outputs": [],
   "source": [
    "df = df[df.action.isin(itemsOfInterest)]"
   ]
  },
  {
   "cell_type": "code",
   "execution_count": 36,
   "metadata": {},
   "outputs": [],
   "source": [
    "df_freq = df.groupby(\"action\").count().reset_index()[[\"action\",\"t\"]].rename(columns={\"t\":\"Usage Frequency\",\"action\":\"Feature\"})"
   ]
  },
  {
   "cell_type": "code",
   "execution_count": 39,
   "metadata": {},
   "outputs": [
    {
     "data": {
      "application/vnd.vegalite.v2+json": {
       "$schema": "https://vega.github.io/schema/vega-lite/v2.6.0.json",
       "config": {
        "view": {
         "height": 300,
         "width": 400
        }
       },
       "data": {
        "name": "data-b0934e82bc88cafd4a9c48070383e97c"
       },
       "datasets": {
        "data-b0934e82bc88cafd4a9c48070383e97c": [
         {
          "Feature": "drag-and-drop (OOI)",
          "Usage Frequency": 3
         },
         {
          "Feature": "drag-and-drop (cluster)",
          "Usage Frequency": 9
         },
         {
          "Feature": "drag-and-drop (outlier)",
          "Usage Frequency": 1
         },
         {
          "Feature": "drag-and-drop (result)",
          "Usage Frequency": 9
         },
         {
          "Feature": "sketch-to-modify",
          "Usage Frequency": 5
         },
         {
          "Feature": "sketch-to-query",
          "Usage Frequency": 9
         }
        ]
       },
       "encoding": {
        "x": {
         "field": "Usage Frequency",
         "type": "quantitative"
        },
        "y": {
         "field": "Feature",
         "sort": [
          "drag-and-drop (result)",
          "drag-and-drop (cluster)",
          "drag-and-drop (OOI)",
          "drag-and-drop (outlier)",
          "sketch-to-query",
          "sketch-to-modify"
         ],
         "type": "nominal"
        }
       },
       "mark": "bar"
      },
      "image/png": "[encoded data removed]",
      "text/plain": [
       "<VegaLite 2 object>\n",
       "\n",
       "If you see this message, it means the renderer has not been properly enabled\n",
       "for the frontend that you are using. For more information, see\n",
       "https://altair-viz.github.io/user_guide/troubleshooting.html\n"
      ]
     },
     "execution_count": 39,
     "metadata": {},
     "output_type": "execute_result"
    }
   ],
   "source": [
    "alt.Chart(df_freq).mark_bar().encode(\n",
    "    alt.X(\"Usage Frequency\"),\n",
    "    alt.Y(\"Feature\",sort= itemsOfInterest),\n",
    "#     color = \"subject\"\n",
    ")"
   ]
  },
  {
   "cell_type": "code",
   "execution_count": 43,
   "metadata": {},
   "outputs": [],
   "source": [
    "df['subject'] = df['user'].apply(lambda x: {'A':'astro', 'G':'genetics', 'M':'material science'}[x[0]])\n",
    "df_freq = df.groupby([\"subject\",\"action\"]).count().reset_index()[[\"action\",\"t\",\"subject\"]].rename(columns={\"t\":\"Usage Frequency\",\"action\":\"Feature\"})"
   ]
  },
  {
   "cell_type": "code",
   "execution_count": 45,
   "metadata": {},
   "outputs": [
    {
     "data": {
      "application/vnd.vegalite.v2+json": {
       "$schema": "https://vega.github.io/schema/vega-lite/v2.6.0.json",
       "config": {
        "view": {
         "height": 300,
         "width": 400
        }
       },
       "data": {
        "name": "data-b7272385e95b80d5cd0dbd4cea8d97ec"
       },
       "datasets": {
        "data-b7272385e95b80d5cd0dbd4cea8d97ec": [
         {
          "Feature": "drag-and-drop (OOI)",
          "Usage Frequency": 1,
          "subject": "astro"
         },
         {
          "Feature": "drag-and-drop (cluster)",
          "Usage Frequency": 3,
          "subject": "astro"
         },
         {
          "Feature": "drag-and-drop (result)",
          "Usage Frequency": 5,
          "subject": "astro"
         },
         {
          "Feature": "sketch-to-modify",
          "Usage Frequency": 1,
          "subject": "astro"
         },
         {
          "Feature": "sketch-to-query",
          "Usage Frequency": 2,
          "subject": "astro"
         },
         {
          "Feature": "drag-and-drop (OOI)",
          "Usage Frequency": 2,
          "subject": "genetics"
         },
         {
          "Feature": "drag-and-drop (cluster)",
          "Usage Frequency": 5,
          "subject": "genetics"
         },
         {
          "Feature": "drag-and-drop (outlier)",
          "Usage Frequency": 1,
          "subject": "genetics"
         },
         {
          "Feature": "sketch-to-query",
          "Usage Frequency": 2,
          "subject": "genetics"
         },
         {
          "Feature": "drag-and-drop (cluster)",
          "Usage Frequency": 1,
          "subject": "material science"
         },
         {
          "Feature": "drag-and-drop (result)",
          "Usage Frequency": 4,
          "subject": "material science"
         },
         {
          "Feature": "sketch-to-modify",
          "Usage Frequency": 4,
          "subject": "material science"
         },
         {
          "Feature": "sketch-to-query",
          "Usage Frequency": 5,
          "subject": "material science"
         }
        ]
       },
       "encoding": {
        "color": {
         "field": "subject",
         "type": "nominal"
        },
        "x": {
         "field": "Usage Frequency",
         "type": "quantitative"
        },
        "y": {
         "field": "Feature",
         "sort": [
          "drag-and-drop (result)",
          "drag-and-drop (cluster)",
          "drag-and-drop (OOI)",
          "drag-and-drop (outlier)",
          "sketch-to-query",
          "sketch-to-modify"
         ],
         "type": "nominal"
        }
       },
       "mark": "bar"
      },
      "image/png": "[encoded data removed]",
      "text/plain": [
       "<VegaLite 2 object>\n",
       "\n",
       "If you see this message, it means the renderer has not been properly enabled\n",
       "for the frontend that you are using. For more information, see\n",
       "https://altair-viz.github.io/user_guide/troubleshooting.html\n"
      ]
     },
     "execution_count": 45,
     "metadata": {},
     "output_type": "execute_result"
    }
   ],
   "source": [
    "alt.Chart(df_freq).mark_bar().encode(\n",
    "    alt.X(\"Usage Frequency\"),\n",
    "    alt.Y(\"Feature\",sort= itemsOfInterest),\n",
    "    color = \"subject\"\n",
    ")"
   ]
  }
 ],
 "metadata": {
  "kernelspec": {
   "display_name": "Python 3",
   "language": "python",
   "name": "python3"
  },
  "language_info": {
   "codemirror_mode": {
    "name": "ipython",
    "version": 3
   },
   "file_extension": ".py",
   "mimetype": "text/x-python",
   "name": "python",
   "nbconvert_exporter": "python",
   "pygments_lexer": "ipython3",
   "version": "3.7.0"
  }
 },
 "nbformat": 4,
 "nbformat_minor": 2
}
