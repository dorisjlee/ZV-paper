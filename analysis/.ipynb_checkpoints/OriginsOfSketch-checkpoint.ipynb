{
 "cells": [
  {
   "cell_type": "code",
   "execution_count": 44,
   "metadata": {
    "collapsed": true
   },
   "outputs": [],
   "source": [
    "import pandas as pd\n",
    "import numpy as np\n",
    "import altair as alt\n",
    "df = pd.read_csv(\"OriginsOfSketch.csv\")"
   ]
  },
  {
   "cell_type": "code",
   "execution_count": 45,
   "metadata": {},
   "outputs": [
    {
     "name": "stderr",
     "output_type": "stream",
     "text": [
      "/Users/dorislee/.virtualenvs/py37env/lib/python3.7/site-packages/ipykernel_launcher.py:1: FutureWarning: Method .as_matrix will be removed in a future version. Use .values instead.\n",
      "  \"\"\"Entry point for launching an IPython kernel.\n"
     ]
    }
   ],
   "source": [
    "codelist = list(set(df.as_matrix().flatten()))\n",
    "codelist.remove(np.nan)\n",
    "\n",
    "actionOnly= list(filter(lambda x: x.isupper(),codelist))\n",
    "featureOnly= list(filter(lambda x: x.islower(),codelist))"
   ]
  },
  {
   "cell_type": "code",
   "execution_count": 46,
   "metadata": {
    "collapsed": false
   },
   "outputs": [],
   "source": [
    "# df[\"t\"]=df.index"
   ]
  },
  {
   "cell_type": "code",
   "execution_count": 47,
   "metadata": {},
   "outputs": [],
   "source": [
    "df = df.stack().reset_index()\n",
    "\n",
    "df = df.rename(columns={\n",
    "    \"level_0\":\"t\",\n",
    "    \"level_1\":\"user\",\n",
    "    0:\"action\"\n",
    "})"
   ]
  },
  {
   "cell_type": "code",
   "execution_count": 56,
   "metadata": {},
   "outputs": [],
   "source": [
    "itemsOfInterest = ['drag-and-drop (recommendation)','drag-and-drop (result)','drag-and-drop (obj of interest)','sketch (query)','sketch (modify)']"
   ]
  },
  {
   "cell_type": "code",
   "execution_count": 57,
   "metadata": {},
   "outputs": [],
   "source": [
    "df.loc[df[\"action\"].isin([\"drag-and-drop (outlier)\",\"drag-and-drop (cluster)\"]),\"action\"] = \"drag-and-drop (recommendation)\"\n",
    "df.loc[df[\"action\"]==\"drag-and-drop (OOI)\",\"action\"] = \"drag-and-drop (obj of interest)\"\n",
    "df.loc[df[\"action\"]==\"sketch-to-query\",\"action\"] = \"sketch (query)\"\n",
    "df.loc[df[\"action\"]==\"sketch-to-modify\",\"action\"] = \"sketch (modify)\""
   ]
  },
  {
   "cell_type": "code",
   "execution_count": 58,
   "metadata": {},
   "outputs": [],
   "source": [
    "df = df[df.action.isin(itemsOfInterest)]"
   ]
  },
  {
   "cell_type": "code",
   "execution_count": 60,
   "metadata": {},
   "outputs": [],
   "source": [
    "df_freq = df.groupby(\"action\").count().reset_index().rename(columns={\"t\":\"Usage Frequency\",\"action\":\"Feature\"})[[\"Usage Frequency\",\"Feature\"]]"
   ]
  },
  {
   "cell_type": "code",
   "execution_count": 62,
   "metadata": {},
   "outputs": [
    {
     "data": {
      "application/vnd.vegalite.v2+json": {
       "$schema": "https://vega.github.io/schema/vega-lite/v2.6.0.json",
       "config": {
        "view": {
         "height": 300,
         "width": 400
        }
       },
       "data": {
        "name": "data-a90c0f2d335a3c8d4932887bd517f5a4"
       },
       "datasets": {
        "data-a90c0f2d335a3c8d4932887bd517f5a4": [
         {
          "Feature": "drag-and-drop (obj of interest)",
          "Usage Frequency": 3
         },
         {
          "Feature": "drag-and-drop (recommendation)",
          "Usage Frequency": 11
         },
         {
          "Feature": "drag-and-drop (result)",
          "Usage Frequency": 9
         },
         {
          "Feature": "sketch (modify)",
          "Usage Frequency": 6
         },
         {
          "Feature": "sketch (query)",
          "Usage Frequency": 8
         }
        ]
       },
       "encoding": {
        "x": {
         "field": "Usage Frequency",
         "type": "quantitative"
        },
        "y": {
         "field": "Feature",
         "sort": [
          "drag-and-drop (recommendation)",
          "drag-and-drop (result)",
          "drag-and-drop (obj of interest)",
          "sketch (query)",
          "sketch (modify)"
         ],
         "type": "nominal"
        }
       },
       "mark": "bar"
      },
      "image/png": "[encoded data removed]",
      "text/plain": [
       "<VegaLite 2 object>\n",
       "\n",
       "If you see this message, it means the renderer has not been properly enabled\n",
       "for the frontend that you are using. For more information, see\n",
       "https://altair-viz.github.io/user_guide/troubleshooting.html\n"
      ]
     },
     "execution_count": 62,
     "metadata": {},
     "output_type": "execute_result"
    }
   ],
   "source": [
    "alt.Chart(df_freq).mark_bar().encode(\n",
    "    alt.X(\"Usage Frequency\"),\n",
    "    alt.Y(\"Feature\",sort= itemsOfInterest),\n",
    "#     color = \"subject\"\n",
    ")"
   ]
  },
  {
   "cell_type": "code",
   "execution_count": 66,
   "metadata": {},
   "outputs": [],
   "source": [
    "df['Subject'] = df['user'].apply(lambda x: {'A':'astro', 'G':'genetics', 'M':'material science'}[x[0]])\n",
    "df_freq = df.groupby([\"action\",\"Subject\"]).count().reset_index().rename(columns={\"t\":\"Usage Frequency\",\"action\":\"Feature\"})[[\"Usage Frequency\",\"Feature\",\"Subject\"]]"
   ]
  },
  {
   "cell_type": "code",
   "execution_count": 67,
   "metadata": {},
   "outputs": [
    {
     "data": {
      "application/vnd.vegalite.v2+json": {
       "$schema": "https://vega.github.io/schema/vega-lite/v2.6.0.json",
       "config": {
        "view": {
         "height": 300,
         "width": 400
        }
       },
       "data": {
        "name": "data-16a5b7d422d67ceccb457662f0b57b74"
       },
       "datasets": {
        "data-16a5b7d422d67ceccb457662f0b57b74": [
         {
          "Feature": "drag-and-drop (obj of interest)",
          "Subject": "astro",
          "Usage Frequency": 1
         },
         {
          "Feature": "drag-and-drop (obj of interest)",
          "Subject": "genetics",
          "Usage Frequency": 2
         },
         {
          "Feature": "drag-and-drop (recommendation)",
          "Subject": "astro",
          "Usage Frequency": 4
         },
         {
          "Feature": "drag-and-drop (recommendation)",
          "Subject": "genetics",
          "Usage Frequency": 6
         },
         {
          "Feature": "drag-and-drop (recommendation)",
          "Subject": "material science",
          "Usage Frequency": 1
         },
         {
          "Feature": "drag-and-drop (result)",
          "Subject": "astro",
          "Usage Frequency": 5
         },
         {
          "Feature": "drag-and-drop (result)",
          "Subject": "material science",
          "Usage Frequency": 4
         },
         {
          "Feature": "sketch (modify)",
          "Subject": "astro",
          "Usage Frequency": 1
         },
         {
          "Feature": "sketch (modify)",
          "Subject": "material science",
          "Usage Frequency": 5
         },
         {
          "Feature": "sketch (query)",
          "Subject": "astro",
          "Usage Frequency": 2
         },
         {
          "Feature": "sketch (query)",
          "Subject": "genetics",
          "Usage Frequency": 2
         },
         {
          "Feature": "sketch (query)",
          "Subject": "material science",
          "Usage Frequency": 4
         }
        ]
       },
       "encoding": {
        "color": {
         "field": "Subject",
         "type": "nominal"
        },
        "x": {
         "field": "Usage Frequency",
         "type": "quantitative"
        },
        "y": {
         "field": "Feature",
         "sort": [
          "drag-and-drop (recommendation)",
          "drag-and-drop (result)",
          "drag-and-drop (obj of interest)",
          "sketch (query)",
          "sketch (modify)"
         ],
         "type": "nominal"
        }
       },
       "mark": "bar",
       "title": "Origins of Sketch Breakdown by Subject"
      },
      "image/png": "[encoded data removed]",
      "text/plain": [
       "<VegaLite 2 object>\n",
       "\n",
       "If you see this message, it means the renderer has not been properly enabled\n",
       "for the frontend that you are using. For more information, see\n",
       "https://altair-viz.github.io/user_guide/troubleshooting.html\n"
      ]
     },
     "execution_count": 67,
     "metadata": {},
     "output_type": "execute_result"
    }
   ],
   "source": [
    "alt.Chart(df_freq).mark_bar().encode(\n",
    "    alt.X(\"Usage Frequency\"),\n",
    "    alt.Y(\"Feature\",sort= itemsOfInterest),\n",
    "    color = \"Subject\"\n",
    ").properties(\n",
    "    title='Origins of Sketch Breakdown by Subject'\n",
    ")"
   ]
  }
 ],
 "metadata": {
  "kernelspec": {
   "display_name": "Python 3",
   "language": "python",
   "name": "python3"
  },
  "language_info": {
   "codemirror_mode": {
    "name": "ipython",
    "version": 3
   },
   "file_extension": ".py",
   "mimetype": "text/x-python",
   "name": "python",
   "nbconvert_exporter": "python",
   "pygments_lexer": "ipython3",
   "version": "3.7.0"
  }
 },
 "nbformat": 4,
 "nbformat_minor": 2
}
