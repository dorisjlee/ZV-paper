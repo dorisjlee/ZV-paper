{
 "cells": [
  {
   "cell_type": "code",
   "execution_count": 1,
   "metadata": {},
   "outputs": [],
   "source": [
    "import pandas as pd\n",
    "import numpy as np\n",
    "import altair as alt\n",
    "df = pd.read_csv(\"StudyEventTimeSeries.csv\")"
   ]
  },
  {
   "cell_type": "code",
   "execution_count": 2,
   "metadata": {},
   "outputs": [
    {
     "name": "stderr",
     "output_type": "stream",
     "text": [
      "/Users/dorislee/.virtualenvs/py37env/lib/python3.7/site-packages/ipykernel_launcher.py:1: FutureWarning: Method .as_matrix will be removed in a future version. Use .values instead.\n",
      "  \"\"\"Entry point for launching an IPython kernel.\n"
     ]
    }
   ],
   "source": [
    "codelist = list(set(df.as_matrix().flatten()))\n",
    "codelist.remove(np.nan)\n",
    "featureOnly= list(filter(lambda x: x.islower(),codelist))"
   ]
  },
  {
   "cell_type": "code",
   "execution_count": 3,
   "metadata": {},
   "outputs": [],
   "source": [
    "df = df.stack().reset_index()\n",
    "\n",
    "df = df.rename(columns={\n",
    "    \"level_0\":\"t\",\n",
    "    \"level_1\":\"user\",\n",
    "    0:\"action\"\n",
    "})"
   ]
  },
  {
   "cell_type": "code",
   "execution_count": 4,
   "metadata": {},
   "outputs": [],
   "source": [
    "def make_session_id(x):\n",
    "    for index in BR_indices:\n",
    "        if x<index: \n",
    "            return BR_indices.index(index)\n",
    "    return len(BR_indices)"
   ]
  },
  {
   "cell_type": "code",
   "execution_count": 5,
   "metadata": {},
   "outputs": [
    {
     "name": "stderr",
     "output_type": "stream",
     "text": [
      "/Users/dorislee/.virtualenvs/py37env/lib/python3.7/site-packages/ipykernel_launcher.py:9: SettingWithCopyWarning: \n",
      "A value is trying to be set on a copy of a slice from a DataFrame.\n",
      "Try using .loc[row_indexer,col_indexer] = value instead\n",
      "\n",
      "See the caveats in the documentation: http://pandas.pydata.org/pandas-docs/stable/indexing.html#indexing-view-versus-copy\n",
      "  if __name__ == '__main__':\n"
     ]
    }
   ],
   "source": [
    "# Create column called \"session_id\" containing session number\n",
    "df_user_lst = []\n",
    "for user in list(df[\"user\"].unique()):\n",
    "#     userdf = df[df[\"user\"]==user]\n",
    "#     userdf[userdf[\"action\"]==\"BR\"].index.values\n",
    "    df_tmp = df[(df[\"user\"]==user)&(df[\"action\"]==\"BR\")]\n",
    "    df_user = df[(df[\"user\"]==user)]\n",
    "    BR_indices = list(df_tmp.index.values)\n",
    "    df_user[\"session_id\"] =list(map(make_session_id, list(df_user.index.values)))\n",
    "    df_user_lst.append(df_user)"
   ]
  },
  {
   "cell_type": "code",
   "execution_count": 6,
   "metadata": {},
   "outputs": [],
   "source": [
    "df_session = pd.concat(df_user_lst).reset_index()"
   ]
  },
  {
   "cell_type": "code",
   "execution_count": 7,
   "metadata": {},
   "outputs": [
    {
     "name": "stderr",
     "output_type": "stream",
     "text": [
      "/Users/dorislee/.virtualenvs/py37env/lib/python3.7/site-packages/ipykernel_launcher.py:11: SettingWithCopyWarning: \n",
      "A value is trying to be set on a copy of a slice from a DataFrame.\n",
      "Try using .loc[row_indexer,col_indexer] = value instead\n",
      "\n",
      "See the caveats in the documentation: http://pandas.pydata.org/pandas-docs/stable/indexing.html#indexing-view-versus-copy\n",
      "  # This is added back by InteractiveShellApp.init_path()\n"
     ]
    }
   ],
   "source": [
    "df_session[\"Insightful\"]=False\n",
    "\n",
    "# Given session_ids, check if IS or ID contained in the session, if so, relabel all the events in the session as being contained in an insightful session\n",
    "df_user_list = []\n",
    "\n",
    "for user in df_session['user'].unique():\n",
    "    df_tmp = df_session[(df_session['user'] == user) & ((df_session['action'] == 'IS') | (df_session['action'] == 'ID'))]\n",
    "    #df_tmp = df_session[(df_session['user'] == user) & ((df_session['action'] == 'IS'))]\n",
    "    session_id_true = list(df_tmp['session_id'].unique())\n",
    "    df_user = df_session[df_session['user'] == user]\n",
    "    df_user['Insightful'] = df_session['session_id'].apply(lambda x: True if (x in session_id_true) else False)\n",
    "    df_user_list.append(df_user)"
   ]
  },
  {
   "cell_type": "code",
   "execution_count": 8,
   "metadata": {},
   "outputs": [],
   "source": [
    "df_user_session_insightfulness = pd.concat(df_user_list)\n",
    "df_user_session_insightfulness = df_user_session_insightfulness[df_user_session_insightfulness.action.isin(featureOnly)]\n",
    "df_user_session_insightfulness_freq = df_user_session_insightfulness.groupby([\"action\",\"Insightful\",\"session_id\",\"user\"]).count()[\"t\"].reset_index().rename(columns={\"t\":\"Usage Frequency\",\"action\":\"Feature\"})"
   ]
  },
  {
   "cell_type": "code",
   "execution_count": 9,
   "metadata": {},
   "outputs": [
    {
     "data": {
      "application/vnd.vegalite.v2+json": {
       "$schema": "https://vega.github.io/schema/vega-lite/v2.6.0.json",
       "config": {
        "view": {
         "height": 300,
         "width": 400
        }
       },
       "data": {
        "name": "data-ae4145012d3f3581db3e65c944a28e22"
       },
       "datasets": {
        "data-ae4145012d3f3581db3e65c944a28e22": [
         {
          "Feature": "brush-xrange",
          "Insightful": false,
          "Usage Frequency": 1,
          "session_id": 2,
          "user": "G1"
         },
         {
          "Feature": "brush-xrange",
          "Insightful": false,
          "Usage Frequency": 1,
          "session_id": 3,
          "user": "A2"
         },
         {
          "Feature": "brush-xrange",
          "Insightful": true,
          "Usage Frequency": 1,
          "session_id": 1,
          "user": "A3"
         },
         {
          "Feature": "brush-xrange",
          "Insightful": true,
          "Usage Frequency": 1,
          "session_id": 1,
          "user": "M1"
         },
         {
          "Feature": "brush-xrange",
          "Insightful": true,
          "Usage Frequency": 1,
          "session_id": 2,
          "user": "A1"
         },
         {
          "Feature": "brush-xrange",
          "Insightful": true,
          "Usage Frequency": 1,
          "session_id": 8,
          "user": "G2"
         },
         {
          "Feature": "change-axis",
          "Insightful": false,
          "Usage Frequency": 1,
          "session_id": 0,
          "user": "M1"
         },
         {
          "Feature": "change-axis",
          "Insightful": false,
          "Usage Frequency": 1,
          "session_id": 1,
          "user": "M3"
         },
         {
          "Feature": "change-axis",
          "Insightful": false,
          "Usage Frequency": 1,
          "session_id": 3,
          "user": "M3"
         },
         {
          "Feature": "change-axis",
          "Insightful": false,
          "Usage Frequency": 1,
          "session_id": 4,
          "user": "A3"
         },
         {
          "Feature": "change-axis",
          "Insightful": true,
          "Usage Frequency": 1,
          "session_id": 0,
          "user": "M2"
         },
         {
          "Feature": "change-axis",
          "Insightful": true,
          "Usage Frequency": 1,
          "session_id": 0,
          "user": "M3"
         },
         {
          "Feature": "change-axis",
          "Insightful": true,
          "Usage Frequency": 1,
          "session_id": 1,
          "user": "M1"
         },
         {
          "Feature": "change-axis",
          "Insightful": true,
          "Usage Frequency": 1,
          "session_id": 2,
          "user": "A2"
         },
         {
          "Feature": "change-axis",
          "Insightful": true,
          "Usage Frequency": 1,
          "session_id": 3,
          "user": "A3"
         },
         {
          "Feature": "change-axis",
          "Insightful": true,
          "Usage Frequency": 1,
          "session_id": 3,
          "user": "M2"
         },
         {
          "Feature": "change-axis",
          "Insightful": true,
          "Usage Frequency": 1,
          "session_id": 4,
          "user": "M2"
         },
         {
          "Feature": "change-metric",
          "Insightful": true,
          "Usage Frequency": 1,
          "session_id": 0,
          "user": "M3"
         },
         {
          "Feature": "change-metric",
          "Insightful": true,
          "Usage Frequency": 3,
          "session_id": 1,
          "user": "A3"
         },
         {
          "Feature": "change-metric",
          "Insightful": true,
          "Usage Frequency": 1,
          "session_id": 1,
          "user": "G3"
         },
         {
          "Feature": "change-number-of-results",
          "Insightful": true,
          "Usage Frequency": 3,
          "session_id": 1,
          "user": "A2"
         },
         {
          "Feature": "control-kmeans-clustersize",
          "Insightful": false,
          "Usage Frequency": 1,
          "session_id": 1,
          "user": "G2"
         },
         {
          "Feature": "control-kmeans-clustersize",
          "Insightful": true,
          "Usage Frequency": 2,
          "session_id": 0,
          "user": "G1"
         },
         {
          "Feature": "control-kmeans-clustersize",
          "Insightful": true,
          "Usage Frequency": 1,
          "session_id": 1,
          "user": "G3"
         },
         {
          "Feature": "control-kmeans-clustersize",
          "Insightful": true,
          "Usage Frequency": 2,
          "session_id": 3,
          "user": "G1"
         },
         {
          "Feature": "control-kmeans-clustersize",
          "Insightful": true,
          "Usage Frequency": 1,
          "session_id": 8,
          "user": "G2"
         },
         {
          "Feature": "drag-and-drop",
          "Insightful": false,
          "Usage Frequency": 2,
          "session_id": 0,
          "user": "A3"
         },
         {
          "Feature": "drag-and-drop",
          "Insightful": false,
          "Usage Frequency": 1,
          "session_id": 1,
          "user": "A1"
         },
         {
          "Feature": "drag-and-drop",
          "Insightful": false,
          "Usage Frequency": 1,
          "session_id": 2,
          "user": "G1"
         },
         {
          "Feature": "drag-and-drop",
          "Insightful": false,
          "Usage Frequency": 1,
          "session_id": 2,
          "user": "G2"
         },
         {
          "Feature": "drag-and-drop",
          "Insightful": false,
          "Usage Frequency": 1,
          "session_id": 3,
          "user": "A2"
         },
         {
          "Feature": "drag-and-drop",
          "Insightful": true,
          "Usage Frequency": 1,
          "session_id": 0,
          "user": "A1"
         },
         {
          "Feature": "drag-and-drop",
          "Insightful": true,
          "Usage Frequency": 1,
          "session_id": 0,
          "user": "A2"
         },
         {
          "Feature": "drag-and-drop",
          "Insightful": true,
          "Usage Frequency": 2,
          "session_id": 0,
          "user": "M3"
         },
         {
          "Feature": "drag-and-drop",
          "Insightful": true,
          "Usage Frequency": 3,
          "session_id": 1,
          "user": "A2"
         },
         {
          "Feature": "drag-and-drop",
          "Insightful": true,
          "Usage Frequency": 1,
          "session_id": 1,
          "user": "A3"
         },
         {
          "Feature": "drag-and-drop",
          "Insightful": true,
          "Usage Frequency": 1,
          "session_id": 1,
          "user": "G1"
         },
         {
          "Feature": "drag-and-drop",
          "Insightful": true,
          "Usage Frequency": 1,
          "session_id": 1,
          "user": "G3"
         },
         {
          "Feature": "drag-and-drop",
          "Insightful": true,
          "Usage Frequency": 1,
          "session_id": 2,
          "user": "M3"
         },
         {
          "Feature": "drag-and-drop",
          "Insightful": true,
          "Usage Frequency": 2,
          "session_id": 3,
          "user": "G1"
         },
         {
          "Feature": "drag-and-drop",
          "Insightful": true,
          "Usage Frequency": 2,
          "session_id": 3,
          "user": "M2"
         },
         {
          "Feature": "drag-and-drop",
          "Insightful": true,
          "Usage Frequency": 1,
          "session_id": 7,
          "user": "G2"
         },
         {
          "Feature": "dynamic-class",
          "Insightful": false,
          "Usage Frequency": 3,
          "session_id": 5,
          "user": "A1"
         },
         {
          "Feature": "dynamic-class",
          "Insightful": true,
          "Usage Frequency": 5,
          "session_id": 0,
          "user": "M2"
         },
         {
          "Feature": "dynamic-class",
          "Insightful": true,
          "Usage Frequency": 4,
          "session_id": 0,
          "user": "M3"
         },
         {
          "Feature": "dynamic-class",
          "Insightful": true,
          "Usage Frequency": 1,
          "session_id": 1,
          "user": "M1"
         },
         {
          "Feature": "dynamic-class",
          "Insightful": true,
          "Usage Frequency": 1,
          "session_id": 1,
          "user": "M2"
         },
         {
          "Feature": "dynamic-class",
          "Insightful": true,
          "Usage Frequency": 1,
          "session_id": 2,
          "user": "A2"
         },
         {
          "Feature": "dynamic-class",
          "Insightful": true,
          "Usage Frequency": 1,
          "session_id": 4,
          "user": "M2"
         },
         {
          "Feature": "dynamic-class",
          "Insightful": true,
          "Usage Frequency": 1,
          "session_id": 6,
          "user": "A1"
         },
         {
          "Feature": "export",
          "Insightful": false,
          "Usage Frequency": 1,
          "session_id": 2,
          "user": "G1"
         },
         {
          "Feature": "export",
          "Insightful": false,
          "Usage Frequency": 1,
          "session_id": 2,
          "user": "G3"
         },
         {
          "Feature": "export",
          "Insightful": false,
          "Usage Frequency": 1,
          "session_id": 4,
          "user": "M1"
         },
         {
          "Feature": "export",
          "Insightful": false,
          "Usage Frequency": 1,
          "session_id": 6,
          "user": "A3"
         },
         {
          "Feature": "export",
          "Insightful": true,
          "Usage Frequency": 3,
          "session_id": 1,
          "user": "A2"
         },
         {
          "Feature": "export",
          "Insightful": true,
          "Usage Frequency": 1,
          "session_id": 6,
          "user": "A1"
         },
         {
          "Feature": "export",
          "Insightful": true,
          "Usage Frequency": 1,
          "session_id": 7,
          "user": "A1"
         },
         {
          "Feature": "export",
          "Insightful": true,
          "Usage Frequency": 2,
          "session_id": 7,
          "user": "G2"
         },
         {
          "Feature": "filter",
          "Insightful": false,
          "Usage Frequency": 1,
          "session_id": 1,
          "user": "A1"
         },
         {
          "Feature": "filter",
          "Insightful": false,
          "Usage Frequency": 1,
          "session_id": 1,
          "user": "G2"
         },
         {
          "Feature": "filter",
          "Insightful": false,
          "Usage Frequency": 1,
          "session_id": 2,
          "user": "G2"
         },
         {
          "Feature": "filter",
          "Insightful": false,
          "Usage Frequency": 1,
          "session_id": 2,
          "user": "M1"
         },
         {
          "Feature": "filter",
          "Insightful": false,
          "Usage Frequency": 2,
          "session_id": 3,
          "user": "A1"
         },
         {
          "Feature": "filter",
          "Insightful": false,
          "Usage Frequency": 2,
          "session_id": 5,
          "user": "G2"
         },
         {
          "Feature": "filter",
          "Insightful": true,
          "Usage Frequency": 5,
          "session_id": 0,
          "user": "A1"
         },
         {
          "Feature": "filter",
          "Insightful": true,
          "Usage Frequency": 1,
          "session_id": 0,
          "user": "A2"
         },
         {
          "Feature": "filter",
          "Insightful": true,
          "Usage Frequency": 3,
          "session_id": 1,
          "user": "A2"
         },
         {
          "Feature": "filter",
          "Insightful": true,
          "Usage Frequency": 1,
          "session_id": 2,
          "user": "A1"
         },
         {
          "Feature": "filter",
          "Insightful": true,
          "Usage Frequency": 2,
          "session_id": 2,
          "user": "A3"
         },
         {
          "Feature": "filter",
          "Insightful": true,
          "Usage Frequency": 1,
          "session_id": 3,
          "user": "A3"
         },
         {
          "Feature": "filter",
          "Insightful": true,
          "Usage Frequency": 3,
          "session_id": 3,
          "user": "M1"
         },
         {
          "Feature": "filter",
          "Insightful": true,
          "Usage Frequency": 1,
          "session_id": 4,
          "user": "A1"
         },
         {
          "Feature": "filter",
          "Insightful": true,
          "Usage Frequency": 2,
          "session_id": 4,
          "user": "G2"
         },
         {
          "Feature": "filter",
          "Insightful": true,
          "Usage Frequency": 1,
          "session_id": 4,
          "user": "M2"
         },
         {
          "Feature": "filter",
          "Insightful": true,
          "Usage Frequency": 1,
          "session_id": 6,
          "user": "A1"
         },
         {
          "Feature": "filter",
          "Insightful": true,
          "Usage Frequency": 1,
          "session_id": 7,
          "user": "A1"
         },
         {
          "Feature": "filter",
          "Insightful": true,
          "Usage Frequency": 1,
          "session_id": 7,
          "user": "G2"
         },
         {
          "Feature": "ignore-xrange",
          "Insightful": false,
          "Usage Frequency": 1,
          "session_id": 0,
          "user": "A3"
         },
         {
          "Feature": "ignore-xrange",
          "Insightful": false,
          "Usage Frequency": 1,
          "session_id": 0,
          "user": "M1"
         },
         {
          "Feature": "ignore-xrange",
          "Insightful": true,
          "Usage Frequency": 1,
          "session_id": 1,
          "user": "A3"
         },
         {
          "Feature": "ignore-xrange",
          "Insightful": true,
          "Usage Frequency": 1,
          "session_id": 2,
          "user": "A2"
         },
         {
          "Feature": "ignore-xrange",
          "Insightful": true,
          "Usage Frequency": 1,
          "session_id": 3,
          "user": "G3"
         },
         {
          "Feature": "ignore-xrange",
          "Insightful": true,
          "Usage Frequency": 1,
          "session_id": 4,
          "user": "G2"
         },
         {
          "Feature": "input-equation",
          "Insightful": false,
          "Usage Frequency": 1,
          "session_id": 5,
          "user": "A3"
         },
         {
          "Feature": "min-similarity-cutoff",
          "Insightful": false,
          "Usage Frequency": 1,
          "session_id": 2,
          "user": "G1"
         },
         {
          "Feature": "pattern-upload",
          "Insightful": true,
          "Usage Frequency": 1,
          "session_id": 6,
          "user": "A1"
         },
         {
          "Feature": "pattern-upload",
          "Insightful": true,
          "Usage Frequency": 1,
          "session_id": 7,
          "user": "A1"
         },
         {
          "Feature": "pattern-upload",
          "Insightful": true,
          "Usage Frequency": 1,
          "session_id": 7,
          "user": "G2"
         },
         {
          "Feature": "representative-outlier",
          "Insightful": false,
          "Usage Frequency": 2,
          "session_id": 1,
          "user": "G2"
         },
         {
          "Feature": "representative-outlier",
          "Insightful": false,
          "Usage Frequency": 1,
          "session_id": 5,
          "user": "G2"
         },
         {
          "Feature": "representative-outlier",
          "Insightful": true,
          "Usage Frequency": 1,
          "session_id": 0,
          "user": "A2"
         },
         {
          "Feature": "representative-outlier",
          "Insightful": true,
          "Usage Frequency": 2,
          "session_id": 0,
          "user": "G1"
         },
         {
          "Feature": "representative-outlier",
          "Insightful": true,
          "Usage Frequency": 1,
          "session_id": 0,
          "user": "G2"
         },
         {
          "Feature": "representative-outlier",
          "Insightful": true,
          "Usage Frequency": 3,
          "session_id": 1,
          "user": "A2"
         },
         {
          "Feature": "representative-outlier",
          "Insightful": true,
          "Usage Frequency": 2,
          "session_id": 1,
          "user": "G3"
         },
         {
          "Feature": "representative-outlier",
          "Insightful": true,
          "Usage Frequency": 1,
          "session_id": 1,
          "user": "M1"
         },
         {
          "Feature": "representative-outlier",
          "Insightful": true,
          "Usage Frequency": 1,
          "session_id": 3,
          "user": "G3"
         },
         {
          "Feature": "representative-outlier",
          "Insightful": true,
          "Usage Frequency": 1,
          "session_id": 4,
          "user": "M2"
         },
         {
          "Feature": "representative-outlier",
          "Insightful": true,
          "Usage Frequency": 1,
          "session_id": 7,
          "user": "G2"
         },
         {
          "Feature": "representative-outlier",
          "Insightful": true,
          "Usage Frequency": 1,
          "session_id": 8,
          "user": "G2"
         },
         {
          "Feature": "reverse-y",
          "Insightful": true,
          "Usage Frequency": 1,
          "session_id": 0,
          "user": "A1"
         },
         {
          "Feature": "show-scatter",
          "Insightful": false,
          "Usage Frequency": 1,
          "session_id": 2,
          "user": "M1"
         },
         {
          "Feature": "show-scatter",
          "Insightful": true,
          "Usage Frequency": 1,
          "session_id": 0,
          "user": "G3"
         },
         {
          "Feature": "show-scatter",
          "Insightful": true,
          "Usage Frequency": 1,
          "session_id": 0,
          "user": "M2"
         },
         {
          "Feature": "show-scatter",
          "Insightful": true,
          "Usage Frequency": 1,
          "session_id": 0,
          "user": "M3"
         },
         {
          "Feature": "show-scatter",
          "Insightful": true,
          "Usage Frequency": 1,
          "session_id": 3,
          "user": "G2"
         },
         {
          "Feature": "sketch-to-modify",
          "Insightful": false,
          "Usage Frequency": 1,
          "session_id": 0,
          "user": "A3"
         },
         {
          "Feature": "sketch-to-modify",
          "Insightful": false,
          "Usage Frequency": 1,
          "session_id": 2,
          "user": "M2"
         },
         {
          "Feature": "sketch-to-modify",
          "Insightful": true,
          "Usage Frequency": 3,
          "session_id": 3,
          "user": "M2"
         },
         {
          "Feature": "sketch-to-query",
          "Insightful": false,
          "Usage Frequency": 1,
          "session_id": 0,
          "user": "M1"
         },
         {
          "Feature": "sketch-to-query",
          "Insightful": false,
          "Usage Frequency": 2,
          "session_id": 1,
          "user": "M3"
         },
         {
          "Feature": "sketch-to-query",
          "Insightful": false,
          "Usage Frequency": 1,
          "session_id": 2,
          "user": "M1"
         },
         {
          "Feature": "sketch-to-query",
          "Insightful": false,
          "Usage Frequency": 1,
          "session_id": 2,
          "user": "M2"
         },
         {
          "Feature": "sketch-to-query",
          "Insightful": true,
          "Usage Frequency": 2,
          "session_id": 4,
          "user": "A1"
         },
         {
          "Feature": "sketch-to-query",
          "Insightful": true,
          "Usage Frequency": 2,
          "session_id": 4,
          "user": "G2"
         },
         {
          "Feature": "smoothing",
          "Insightful": false,
          "Usage Frequency": 2,
          "session_id": 6,
          "user": "G2"
         },
         {
          "Feature": "smoothing",
          "Insightful": true,
          "Usage Frequency": 1,
          "session_id": 4,
          "user": "A1"
         },
         {
          "Feature": "smoothing",
          "Insightful": true,
          "Usage Frequency": 1,
          "session_id": 8,
          "user": "G2"
         },
         {
          "Feature": "upload-dataset",
          "Insightful": true,
          "Usage Frequency": 1,
          "session_id": 0,
          "user": "G3"
         },
         {
          "Feature": "upload-dataset",
          "Insightful": true,
          "Usage Frequency": 1,
          "session_id": 8,
          "user": "G2"
         }
        ]
       },
       "encoding": {
        "color": {
         "field": "Insightful",
         "type": "nominal"
        },
        "x": {
         "aggregate": "sum",
         "field": "Usage Frequency",
         "title": "Usage Frequency",
         "type": "quantitative"
        },
        "y": {
         "field": "Feature",
         "sort": [
          "sketch-to-query",
          "sketch-to-modify",
          "input-equation",
          "smoothing",
          "ignore-xrange",
          "brush-xrange",
          "filter",
          "dynamic-class",
          "pattern-upload",
          "drag-and-drop",
          "representative-outlier",
          "change-axis",
          "change-metric",
          "change-number-of-results",
          "control-kmeans-clustersize",
          "min-similarity-cutoff",
          "show-scatter",
          "upload-dataset",
          "reverse-y"
         ],
         "type": "nominal"
        }
       },
       "mark": "bar"
      },
      "image/png": "[encoded data removed]",
      "text/plain": [
       "<VegaLite 2 object>\n",
       "\n",
       "If you see this message, it means the renderer has not been properly enabled\n",
       "for the frontend that you are using. For more information, see\n",
       "https://altair-viz.github.io/user_guide/troubleshooting.html\n"
      ]
     },
     "execution_count": 9,
     "metadata": {},
     "output_type": "execute_result"
    }
   ],
   "source": [
    "alt.Chart(df_user_session_insightfulness_freq).mark_bar().encode(\n",
    "    alt.X(\"Usage Frequency\",aggregate=\"sum\",title=\"Usage Frequency\"),\n",
    "    alt.Y(\"Feature\",sort=['sketch-to-query','sketch-to-modify','input-equation','smoothing','ignore-xrange','brush-xrange',\n",
    "                          'filter','dynamic-class','pattern-upload','drag-and-drop','representative-outlier',\n",
    "                          'change-axis', 'change-metric','change-number-of-results','control-kmeans-clustersize', 'min-similarity-cutoff','show-scatter', 'upload-dataset','reverse-y']),\n",
    "    color = \"Insightful\"\n",
    ")"
   ]
  },
  {
   "cell_type": "markdown",
   "metadata": {},
   "source": [
    "Usage frequency counts the total number of usage of each feature/proces in every session. A feature/process is labelled as insightful if it is contained in a session that contains an insight."
   ]
  },
  {
   "cell_type": "code",
   "execution_count": 10,
   "metadata": {},
   "outputs": [
    {
     "data": {
      "application/vnd.vegalite.v2+json": {
       "$schema": "https://vega.github.io/schema/vega-lite/v2.6.0.json",
       "config": {
        "view": {
         "height": 300,
         "width": 400
        }
       },
       "data": {
        "name": "data-ae4145012d3f3581db3e65c944a28e22"
       },
       "datasets": {
        "data-ae4145012d3f3581db3e65c944a28e22": [
         {
          "Feature": "brush-xrange",
          "Insightful": false,
          "Usage Frequency": 1,
          "session_id": 2,
          "user": "G1"
         },
         {
          "Feature": "brush-xrange",
          "Insightful": false,
          "Usage Frequency": 1,
          "session_id": 3,
          "user": "A2"
         },
         {
          "Feature": "brush-xrange",
          "Insightful": true,
          "Usage Frequency": 1,
          "session_id": 1,
          "user": "A3"
         },
         {
          "Feature": "brush-xrange",
          "Insightful": true,
          "Usage Frequency": 1,
          "session_id": 1,
          "user": "M1"
         },
         {
          "Feature": "brush-xrange",
          "Insightful": true,
          "Usage Frequency": 1,
          "session_id": 2,
          "user": "A1"
         },
         {
          "Feature": "brush-xrange",
          "Insightful": true,
          "Usage Frequency": 1,
          "session_id": 8,
          "user": "G2"
         },
         {
          "Feature": "change-axis",
          "Insightful": false,
          "Usage Frequency": 1,
          "session_id": 0,
          "user": "M1"
         },
         {
          "Feature": "change-axis",
          "Insightful": false,
          "Usage Frequency": 1,
          "session_id": 1,
          "user": "M3"
         },
         {
          "Feature": "change-axis",
          "Insightful": false,
          "Usage Frequency": 1,
          "session_id": 3,
          "user": "M3"
         },
         {
          "Feature": "change-axis",
          "Insightful": false,
          "Usage Frequency": 1,
          "session_id": 4,
          "user": "A3"
         },
         {
          "Feature": "change-axis",
          "Insightful": true,
          "Usage Frequency": 1,
          "session_id": 0,
          "user": "M2"
         },
         {
          "Feature": "change-axis",
          "Insightful": true,
          "Usage Frequency": 1,
          "session_id": 0,
          "user": "M3"
         },
         {
          "Feature": "change-axis",
          "Insightful": true,
          "Usage Frequency": 1,
          "session_id": 1,
          "user": "M1"
         },
         {
          "Feature": "change-axis",
          "Insightful": true,
          "Usage Frequency": 1,
          "session_id": 2,
          "user": "A2"
         },
         {
          "Feature": "change-axis",
          "Insightful": true,
          "Usage Frequency": 1,
          "session_id": 3,
          "user": "A3"
         },
         {
          "Feature": "change-axis",
          "Insightful": true,
          "Usage Frequency": 1,
          "session_id": 3,
          "user": "M2"
         },
         {
          "Feature": "change-axis",
          "Insightful": true,
          "Usage Frequency": 1,
          "session_id": 4,
          "user": "M2"
         },
         {
          "Feature": "change-metric",
          "Insightful": true,
          "Usage Frequency": 1,
          "session_id": 0,
          "user": "M3"
         },
         {
          "Feature": "change-metric",
          "Insightful": true,
          "Usage Frequency": 3,
          "session_id": 1,
          "user": "A3"
         },
         {
          "Feature": "change-metric",
          "Insightful": true,
          "Usage Frequency": 1,
          "session_id": 1,
          "user": "G3"
         },
         {
          "Feature": "change-number-of-results",
          "Insightful": true,
          "Usage Frequency": 3,
          "session_id": 1,
          "user": "A2"
         },
         {
          "Feature": "control-kmeans-clustersize",
          "Insightful": false,
          "Usage Frequency": 1,
          "session_id": 1,
          "user": "G2"
         },
         {
          "Feature": "control-kmeans-clustersize",
          "Insightful": true,
          "Usage Frequency": 2,
          "session_id": 0,
          "user": "G1"
         },
         {
          "Feature": "control-kmeans-clustersize",
          "Insightful": true,
          "Usage Frequency": 1,
          "session_id": 1,
          "user": "G3"
         },
         {
          "Feature": "control-kmeans-clustersize",
          "Insightful": true,
          "Usage Frequency": 2,
          "session_id": 3,
          "user": "G1"
         },
         {
          "Feature": "control-kmeans-clustersize",
          "Insightful": true,
          "Usage Frequency": 1,
          "session_id": 8,
          "user": "G2"
         },
         {
          "Feature": "drag-and-drop",
          "Insightful": false,
          "Usage Frequency": 2,
          "session_id": 0,
          "user": "A3"
         },
         {
          "Feature": "drag-and-drop",
          "Insightful": false,
          "Usage Frequency": 1,
          "session_id": 1,
          "user": "A1"
         },
         {
          "Feature": "drag-and-drop",
          "Insightful": false,
          "Usage Frequency": 1,
          "session_id": 2,
          "user": "G1"
         },
         {
          "Feature": "drag-and-drop",
          "Insightful": false,
          "Usage Frequency": 1,
          "session_id": 2,
          "user": "G2"
         },
         {
          "Feature": "drag-and-drop",
          "Insightful": false,
          "Usage Frequency": 1,
          "session_id": 3,
          "user": "A2"
         },
         {
          "Feature": "drag-and-drop",
          "Insightful": true,
          "Usage Frequency": 1,
          "session_id": 0,
          "user": "A1"
         },
         {
          "Feature": "drag-and-drop",
          "Insightful": true,
          "Usage Frequency": 1,
          "session_id": 0,
          "user": "A2"
         },
         {
          "Feature": "drag-and-drop",
          "Insightful": true,
          "Usage Frequency": 2,
          "session_id": 0,
          "user": "M3"
         },
         {
          "Feature": "drag-and-drop",
          "Insightful": true,
          "Usage Frequency": 3,
          "session_id": 1,
          "user": "A2"
         },
         {
          "Feature": "drag-and-drop",
          "Insightful": true,
          "Usage Frequency": 1,
          "session_id": 1,
          "user": "A3"
         },
         {
          "Feature": "drag-and-drop",
          "Insightful": true,
          "Usage Frequency": 1,
          "session_id": 1,
          "user": "G1"
         },
         {
          "Feature": "drag-and-drop",
          "Insightful": true,
          "Usage Frequency": 1,
          "session_id": 1,
          "user": "G3"
         },
         {
          "Feature": "drag-and-drop",
          "Insightful": true,
          "Usage Frequency": 1,
          "session_id": 2,
          "user": "M3"
         },
         {
          "Feature": "drag-and-drop",
          "Insightful": true,
          "Usage Frequency": 2,
          "session_id": 3,
          "user": "G1"
         },
         {
          "Feature": "drag-and-drop",
          "Insightful": true,
          "Usage Frequency": 2,
          "session_id": 3,
          "user": "M2"
         },
         {
          "Feature": "drag-and-drop",
          "Insightful": true,
          "Usage Frequency": 1,
          "session_id": 7,
          "user": "G2"
         },
         {
          "Feature": "dynamic-class",
          "Insightful": false,
          "Usage Frequency": 3,
          "session_id": 5,
          "user": "A1"
         },
         {
          "Feature": "dynamic-class",
          "Insightful": true,
          "Usage Frequency": 5,
          "session_id": 0,
          "user": "M2"
         },
         {
          "Feature": "dynamic-class",
          "Insightful": true,
          "Usage Frequency": 4,
          "session_id": 0,
          "user": "M3"
         },
         {
          "Feature": "dynamic-class",
          "Insightful": true,
          "Usage Frequency": 1,
          "session_id": 1,
          "user": "M1"
         },
         {
          "Feature": "dynamic-class",
          "Insightful": true,
          "Usage Frequency": 1,
          "session_id": 1,
          "user": "M2"
         },
         {
          "Feature": "dynamic-class",
          "Insightful": true,
          "Usage Frequency": 1,
          "session_id": 2,
          "user": "A2"
         },
         {
          "Feature": "dynamic-class",
          "Insightful": true,
          "Usage Frequency": 1,
          "session_id": 4,
          "user": "M2"
         },
         {
          "Feature": "dynamic-class",
          "Insightful": true,
          "Usage Frequency": 1,
          "session_id": 6,
          "user": "A1"
         },
         {
          "Feature": "export",
          "Insightful": false,
          "Usage Frequency": 1,
          "session_id": 2,
          "user": "G1"
         },
         {
          "Feature": "export",
          "Insightful": false,
          "Usage Frequency": 1,
          "session_id": 2,
          "user": "G3"
         },
         {
          "Feature": "export",
          "Insightful": false,
          "Usage Frequency": 1,
          "session_id": 4,
          "user": "M1"
         },
         {
          "Feature": "export",
          "Insightful": false,
          "Usage Frequency": 1,
          "session_id": 6,
          "user": "A3"
         },
         {
          "Feature": "export",
          "Insightful": true,
          "Usage Frequency": 3,
          "session_id": 1,
          "user": "A2"
         },
         {
          "Feature": "export",
          "Insightful": true,
          "Usage Frequency": 1,
          "session_id": 6,
          "user": "A1"
         },
         {
          "Feature": "export",
          "Insightful": true,
          "Usage Frequency": 1,
          "session_id": 7,
          "user": "A1"
         },
         {
          "Feature": "export",
          "Insightful": true,
          "Usage Frequency": 2,
          "session_id": 7,
          "user": "G2"
         },
         {
          "Feature": "filter",
          "Insightful": false,
          "Usage Frequency": 1,
          "session_id": 1,
          "user": "A1"
         },
         {
          "Feature": "filter",
          "Insightful": false,
          "Usage Frequency": 1,
          "session_id": 1,
          "user": "G2"
         },
         {
          "Feature": "filter",
          "Insightful": false,
          "Usage Frequency": 1,
          "session_id": 2,
          "user": "G2"
         },
         {
          "Feature": "filter",
          "Insightful": false,
          "Usage Frequency": 1,
          "session_id": 2,
          "user": "M1"
         },
         {
          "Feature": "filter",
          "Insightful": false,
          "Usage Frequency": 2,
          "session_id": 3,
          "user": "A1"
         },
         {
          "Feature": "filter",
          "Insightful": false,
          "Usage Frequency": 2,
          "session_id": 5,
          "user": "G2"
         },
         {
          "Feature": "filter",
          "Insightful": true,
          "Usage Frequency": 5,
          "session_id": 0,
          "user": "A1"
         },
         {
          "Feature": "filter",
          "Insightful": true,
          "Usage Frequency": 1,
          "session_id": 0,
          "user": "A2"
         },
         {
          "Feature": "filter",
          "Insightful": true,
          "Usage Frequency": 3,
          "session_id": 1,
          "user": "A2"
         },
         {
          "Feature": "filter",
          "Insightful": true,
          "Usage Frequency": 1,
          "session_id": 2,
          "user": "A1"
         },
         {
          "Feature": "filter",
          "Insightful": true,
          "Usage Frequency": 2,
          "session_id": 2,
          "user": "A3"
         },
         {
          "Feature": "filter",
          "Insightful": true,
          "Usage Frequency": 1,
          "session_id": 3,
          "user": "A3"
         },
         {
          "Feature": "filter",
          "Insightful": true,
          "Usage Frequency": 3,
          "session_id": 3,
          "user": "M1"
         },
         {
          "Feature": "filter",
          "Insightful": true,
          "Usage Frequency": 1,
          "session_id": 4,
          "user": "A1"
         },
         {
          "Feature": "filter",
          "Insightful": true,
          "Usage Frequency": 2,
          "session_id": 4,
          "user": "G2"
         },
         {
          "Feature": "filter",
          "Insightful": true,
          "Usage Frequency": 1,
          "session_id": 4,
          "user": "M2"
         },
         {
          "Feature": "filter",
          "Insightful": true,
          "Usage Frequency": 1,
          "session_id": 6,
          "user": "A1"
         },
         {
          "Feature": "filter",
          "Insightful": true,
          "Usage Frequency": 1,
          "session_id": 7,
          "user": "A1"
         },
         {
          "Feature": "filter",
          "Insightful": true,
          "Usage Frequency": 1,
          "session_id": 7,
          "user": "G2"
         },
         {
          "Feature": "ignore-xrange",
          "Insightful": false,
          "Usage Frequency": 1,
          "session_id": 0,
          "user": "A3"
         },
         {
          "Feature": "ignore-xrange",
          "Insightful": false,
          "Usage Frequency": 1,
          "session_id": 0,
          "user": "M1"
         },
         {
          "Feature": "ignore-xrange",
          "Insightful": true,
          "Usage Frequency": 1,
          "session_id": 1,
          "user": "A3"
         },
         {
          "Feature": "ignore-xrange",
          "Insightful": true,
          "Usage Frequency": 1,
          "session_id": 2,
          "user": "A2"
         },
         {
          "Feature": "ignore-xrange",
          "Insightful": true,
          "Usage Frequency": 1,
          "session_id": 3,
          "user": "G3"
         },
         {
          "Feature": "ignore-xrange",
          "Insightful": true,
          "Usage Frequency": 1,
          "session_id": 4,
          "user": "G2"
         },
         {
          "Feature": "input-equation",
          "Insightful": false,
          "Usage Frequency": 1,
          "session_id": 5,
          "user": "A3"
         },
         {
          "Feature": "min-similarity-cutoff",
          "Insightful": false,
          "Usage Frequency": 1,
          "session_id": 2,
          "user": "G1"
         },
         {
          "Feature": "pattern-upload",
          "Insightful": true,
          "Usage Frequency": 1,
          "session_id": 6,
          "user": "A1"
         },
         {
          "Feature": "pattern-upload",
          "Insightful": true,
          "Usage Frequency": 1,
          "session_id": 7,
          "user": "A1"
         },
         {
          "Feature": "pattern-upload",
          "Insightful": true,
          "Usage Frequency": 1,
          "session_id": 7,
          "user": "G2"
         },
         {
          "Feature": "representative-outlier",
          "Insightful": false,
          "Usage Frequency": 2,
          "session_id": 1,
          "user": "G2"
         },
         {
          "Feature": "representative-outlier",
          "Insightful": false,
          "Usage Frequency": 1,
          "session_id": 5,
          "user": "G2"
         },
         {
          "Feature": "representative-outlier",
          "Insightful": true,
          "Usage Frequency": 1,
          "session_id": 0,
          "user": "A2"
         },
         {
          "Feature": "representative-outlier",
          "Insightful": true,
          "Usage Frequency": 2,
          "session_id": 0,
          "user": "G1"
         },
         {
          "Feature": "representative-outlier",
          "Insightful": true,
          "Usage Frequency": 1,
          "session_id": 0,
          "user": "G2"
         },
         {
          "Feature": "representative-outlier",
          "Insightful": true,
          "Usage Frequency": 3,
          "session_id": 1,
          "user": "A2"
         },
         {
          "Feature": "representative-outlier",
          "Insightful": true,
          "Usage Frequency": 2,
          "session_id": 1,
          "user": "G3"
         },
         {
          "Feature": "representative-outlier",
          "Insightful": true,
          "Usage Frequency": 1,
          "session_id": 1,
          "user": "M1"
         },
         {
          "Feature": "representative-outlier",
          "Insightful": true,
          "Usage Frequency": 1,
          "session_id": 3,
          "user": "G3"
         },
         {
          "Feature": "representative-outlier",
          "Insightful": true,
          "Usage Frequency": 1,
          "session_id": 4,
          "user": "M2"
         },
         {
          "Feature": "representative-outlier",
          "Insightful": true,
          "Usage Frequency": 1,
          "session_id": 7,
          "user": "G2"
         },
         {
          "Feature": "representative-outlier",
          "Insightful": true,
          "Usage Frequency": 1,
          "session_id": 8,
          "user": "G2"
         },
         {
          "Feature": "reverse-y",
          "Insightful": true,
          "Usage Frequency": 1,
          "session_id": 0,
          "user": "A1"
         },
         {
          "Feature": "show-scatter",
          "Insightful": false,
          "Usage Frequency": 1,
          "session_id": 2,
          "user": "M1"
         },
         {
          "Feature": "show-scatter",
          "Insightful": true,
          "Usage Frequency": 1,
          "session_id": 0,
          "user": "G3"
         },
         {
          "Feature": "show-scatter",
          "Insightful": true,
          "Usage Frequency": 1,
          "session_id": 0,
          "user": "M2"
         },
         {
          "Feature": "show-scatter",
          "Insightful": true,
          "Usage Frequency": 1,
          "session_id": 0,
          "user": "M3"
         },
         {
          "Feature": "show-scatter",
          "Insightful": true,
          "Usage Frequency": 1,
          "session_id": 3,
          "user": "G2"
         },
         {
          "Feature": "sketch-to-modify",
          "Insightful": false,
          "Usage Frequency": 1,
          "session_id": 0,
          "user": "A3"
         },
         {
          "Feature": "sketch-to-modify",
          "Insightful": false,
          "Usage Frequency": 1,
          "session_id": 2,
          "user": "M2"
         },
         {
          "Feature": "sketch-to-modify",
          "Insightful": true,
          "Usage Frequency": 3,
          "session_id": 3,
          "user": "M2"
         },
         {
          "Feature": "sketch-to-query",
          "Insightful": false,
          "Usage Frequency": 1,
          "session_id": 0,
          "user": "M1"
         },
         {
          "Feature": "sketch-to-query",
          "Insightful": false,
          "Usage Frequency": 2,
          "session_id": 1,
          "user": "M3"
         },
         {
          "Feature": "sketch-to-query",
          "Insightful": false,
          "Usage Frequency": 1,
          "session_id": 2,
          "user": "M1"
         },
         {
          "Feature": "sketch-to-query",
          "Insightful": false,
          "Usage Frequency": 1,
          "session_id": 2,
          "user": "M2"
         },
         {
          "Feature": "sketch-to-query",
          "Insightful": true,
          "Usage Frequency": 2,
          "session_id": 4,
          "user": "A1"
         },
         {
          "Feature": "sketch-to-query",
          "Insightful": true,
          "Usage Frequency": 2,
          "session_id": 4,
          "user": "G2"
         },
         {
          "Feature": "smoothing",
          "Insightful": false,
          "Usage Frequency": 2,
          "session_id": 6,
          "user": "G2"
         },
         {
          "Feature": "smoothing",
          "Insightful": true,
          "Usage Frequency": 1,
          "session_id": 4,
          "user": "A1"
         },
         {
          "Feature": "smoothing",
          "Insightful": true,
          "Usage Frequency": 1,
          "session_id": 8,
          "user": "G2"
         },
         {
          "Feature": "upload-dataset",
          "Insightful": true,
          "Usage Frequency": 1,
          "session_id": 0,
          "user": "G3"
         },
         {
          "Feature": "upload-dataset",
          "Insightful": true,
          "Usage Frequency": 1,
          "session_id": 8,
          "user": "G2"
         }
        ]
       },
       "encoding": {
        "color": {
         "field": "Insightful",
         "type": "nominal"
        },
        "x": {
         "aggregate": "count",
         "field": "Usage Frequency",
         "title": "Session Occurence",
         "type": "quantitative"
        },
        "y": {
         "field": "Feature",
         "sort": [
          "sketch-to-query",
          "sketch-to-modify",
          "input-equation",
          "smoothing",
          "ignore-xrange",
          "brush-xrange",
          "filter",
          "dynamic-class",
          "pattern-upload",
          "drag-and-drop",
          "representative-outlier",
          "change-axis",
          "change-metric",
          "change-number-of-results",
          "control-kmeans-clustersize",
          "min-similarity-cutoff",
          "show-scatter",
          "upload-dataset",
          "reverse-y"
         ],
         "type": "nominal"
        }
       },
       "mark": "bar"
      },
      "image/png": "[encoded data removed]",
      "text/plain": [
       "<VegaLite 2 object>\n",
       "\n",
       "If you see this message, it means the renderer has not been properly enabled\n",
       "for the frontend that you are using. For more information, see\n",
       "https://altair-viz.github.io/user_guide/troubleshooting.html\n"
      ]
     },
     "execution_count": 10,
     "metadata": {},
     "output_type": "execute_result"
    }
   ],
   "source": [
    "alt.Chart(df_user_session_insightfulness_freq).mark_bar().encode(\n",
    "    alt.X(\"Usage Frequency\",aggregate=\"count\",title=\"Session Occurence\"),\n",
    "    alt.Y(\"Feature\",sort=['sketch-to-query','sketch-to-modify','input-equation','smoothing','ignore-xrange','brush-xrange',\n",
    "                          'filter','dynamic-class','pattern-upload','drag-and-drop','representative-outlier',\n",
    "                          'change-axis', 'change-metric','change-number-of-results','control-kmeans-clustersize', 'min-similarity-cutoff','show-scatter', 'upload-dataset','reverse-y']),\n",
    "    color = \"Insightful\"\n",
    ")"
   ]
  },
  {
   "cell_type": "markdown",
   "metadata": {},
   "source": [
    "Session occurrence counts the number of session that component or feature occurs in. So the plot reads: There are 6 total sessions containing \"exact specification\", only 2 of them lead to insights. On the contrary, there was 11 total sessions involving filters, 7 of them lead to insights."
   ]
  },
  {
   "cell_type": "code",
   "execution_count": 11,
   "metadata": {},
   "outputs": [],
   "source": [
    "component_dict = {\n",
    "     'pattern-upload':'concept-query',\n",
    "     'sketch-to-modify':'exact-specification',\n",
    "     'drag-and-drop':'result-querying',\n",
    "     'change-metric':'flexible-matching',\n",
    "     'filter':'filter-selection',\n",
    "     'brush-xrange':'range-selection',\n",
    "     'min-similarity-cutoff':'control',\n",
    "     'smoothing':'approx-shape-specification',\n",
    "     'ignore-xrange':'approx-shape-specification',\n",
    "     'representative-outlier':'recommendation',\n",
    "     'dynamic-class':'group-comparison',\n",
    "     'sketch-to-query':'exact-specification',\n",
    "     'reverse-y':'control',\n",
    "     'input-equation':'exact-specification',\n",
    "     'upload-dataset':'control',\n",
    "     'show-scatter':'control',\n",
    "     'export':'control',\n",
    "     'change-number-of-results':'control',\n",
    "     'control-kmeans-clustersize':'recommendation',\n",
    "     'change-axis':'control'\n",
    "}"
   ]
  },
  {
   "cell_type": "code",
   "execution_count": 12,
   "metadata": {},
   "outputs": [],
   "source": [
    "df_component = df_user_session_insightfulness\n",
    "df_component[\"Component\"] = df_user_session_insightfulness[\"action\"].replace(component_dict)\n",
    "\n",
    "df_frequency_by_component =df_component.groupby([\"Component\",\"Insightful\",\"session_id\",\"user\"]).count()[\"t\"].reset_index().rename(columns={\"t\":\"Usage Frequency\"})\n",
    "\n",
    "df_frequency_by_component= df_frequency_by_component[df_frequency_by_component[\"Component\"]!=\"control\"]"
   ]
  },
  {
   "cell_type": "code",
   "execution_count": 13,
   "metadata": {},
   "outputs": [
    {
     "data": {
      "application/vnd.vegalite.v2+json": {
       "$schema": "https://vega.github.io/schema/vega-lite/v2.6.0.json",
       "config": {
        "view": {
         "height": 300,
         "width": 400
        }
       },
       "data": {
        "name": "data-a01b917821b4fa1e8d69ecc0edce5c0c"
       },
       "datasets": {
        "data-a01b917821b4fa1e8d69ecc0edce5c0c": [
         {
          "Component": "approx-shape-specification",
          "Insightful": false,
          "Usage Frequency": 1,
          "session_id": 0,
          "user": "A3"
         },
         {
          "Component": "approx-shape-specification",
          "Insightful": false,
          "Usage Frequency": 1,
          "session_id": 0,
          "user": "M1"
         },
         {
          "Component": "approx-shape-specification",
          "Insightful": false,
          "Usage Frequency": 2,
          "session_id": 6,
          "user": "G2"
         },
         {
          "Component": "approx-shape-specification",
          "Insightful": true,
          "Usage Frequency": 1,
          "session_id": 1,
          "user": "A3"
         },
         {
          "Component": "approx-shape-specification",
          "Insightful": true,
          "Usage Frequency": 1,
          "session_id": 2,
          "user": "A2"
         },
         {
          "Component": "approx-shape-specification",
          "Insightful": true,
          "Usage Frequency": 1,
          "session_id": 3,
          "user": "G3"
         },
         {
          "Component": "approx-shape-specification",
          "Insightful": true,
          "Usage Frequency": 1,
          "session_id": 4,
          "user": "A1"
         },
         {
          "Component": "approx-shape-specification",
          "Insightful": true,
          "Usage Frequency": 1,
          "session_id": 4,
          "user": "G2"
         },
         {
          "Component": "approx-shape-specification",
          "Insightful": true,
          "Usage Frequency": 1,
          "session_id": 8,
          "user": "G2"
         },
         {
          "Component": "concept-query",
          "Insightful": true,
          "Usage Frequency": 1,
          "session_id": 6,
          "user": "A1"
         },
         {
          "Component": "concept-query",
          "Insightful": true,
          "Usage Frequency": 1,
          "session_id": 7,
          "user": "A1"
         },
         {
          "Component": "concept-query",
          "Insightful": true,
          "Usage Frequency": 1,
          "session_id": 7,
          "user": "G2"
         },
         {
          "Component": "exact-specification",
          "Insightful": false,
          "Usage Frequency": 1,
          "session_id": 0,
          "user": "A3"
         },
         {
          "Component": "exact-specification",
          "Insightful": false,
          "Usage Frequency": 1,
          "session_id": 0,
          "user": "M1"
         },
         {
          "Component": "exact-specification",
          "Insightful": false,
          "Usage Frequency": 2,
          "session_id": 1,
          "user": "M3"
         },
         {
          "Component": "exact-specification",
          "Insightful": false,
          "Usage Frequency": 1,
          "session_id": 2,
          "user": "M1"
         },
         {
          "Component": "exact-specification",
          "Insightful": false,
          "Usage Frequency": 2,
          "session_id": 2,
          "user": "M2"
         },
         {
          "Component": "exact-specification",
          "Insightful": false,
          "Usage Frequency": 1,
          "session_id": 5,
          "user": "A3"
         },
         {
          "Component": "exact-specification",
          "Insightful": true,
          "Usage Frequency": 3,
          "session_id": 3,
          "user": "M2"
         },
         {
          "Component": "exact-specification",
          "Insightful": true,
          "Usage Frequency": 2,
          "session_id": 4,
          "user": "A1"
         },
         {
          "Component": "exact-specification",
          "Insightful": true,
          "Usage Frequency": 2,
          "session_id": 4,
          "user": "G2"
         },
         {
          "Component": "filter-selection",
          "Insightful": false,
          "Usage Frequency": 1,
          "session_id": 1,
          "user": "A1"
         },
         {
          "Component": "filter-selection",
          "Insightful": false,
          "Usage Frequency": 1,
          "session_id": 1,
          "user": "G2"
         },
         {
          "Component": "filter-selection",
          "Insightful": false,
          "Usage Frequency": 1,
          "session_id": 2,
          "user": "G2"
         },
         {
          "Component": "filter-selection",
          "Insightful": false,
          "Usage Frequency": 1,
          "session_id": 2,
          "user": "M1"
         },
         {
          "Component": "filter-selection",
          "Insightful": false,
          "Usage Frequency": 2,
          "session_id": 3,
          "user": "A1"
         },
         {
          "Component": "filter-selection",
          "Insightful": false,
          "Usage Frequency": 2,
          "session_id": 5,
          "user": "G2"
         },
         {
          "Component": "filter-selection",
          "Insightful": true,
          "Usage Frequency": 5,
          "session_id": 0,
          "user": "A1"
         },
         {
          "Component": "filter-selection",
          "Insightful": true,
          "Usage Frequency": 1,
          "session_id": 0,
          "user": "A2"
         },
         {
          "Component": "filter-selection",
          "Insightful": true,
          "Usage Frequency": 3,
          "session_id": 1,
          "user": "A2"
         },
         {
          "Component": "filter-selection",
          "Insightful": true,
          "Usage Frequency": 1,
          "session_id": 2,
          "user": "A1"
         },
         {
          "Component": "filter-selection",
          "Insightful": true,
          "Usage Frequency": 2,
          "session_id": 2,
          "user": "A3"
         },
         {
          "Component": "filter-selection",
          "Insightful": true,
          "Usage Frequency": 1,
          "session_id": 3,
          "user": "A3"
         },
         {
          "Component": "filter-selection",
          "Insightful": true,
          "Usage Frequency": 3,
          "session_id": 3,
          "user": "M1"
         },
         {
          "Component": "filter-selection",
          "Insightful": true,
          "Usage Frequency": 1,
          "session_id": 4,
          "user": "A1"
         },
         {
          "Component": "filter-selection",
          "Insightful": true,
          "Usage Frequency": 2,
          "session_id": 4,
          "user": "G2"
         },
         {
          "Component": "filter-selection",
          "Insightful": true,
          "Usage Frequency": 1,
          "session_id": 4,
          "user": "M2"
         },
         {
          "Component": "filter-selection",
          "Insightful": true,
          "Usage Frequency": 1,
          "session_id": 6,
          "user": "A1"
         },
         {
          "Component": "filter-selection",
          "Insightful": true,
          "Usage Frequency": 1,
          "session_id": 7,
          "user": "A1"
         },
         {
          "Component": "filter-selection",
          "Insightful": true,
          "Usage Frequency": 1,
          "session_id": 7,
          "user": "G2"
         },
         {
          "Component": "flexible-matching",
          "Insightful": true,
          "Usage Frequency": 1,
          "session_id": 0,
          "user": "M3"
         },
         {
          "Component": "flexible-matching",
          "Insightful": true,
          "Usage Frequency": 3,
          "session_id": 1,
          "user": "A3"
         },
         {
          "Component": "flexible-matching",
          "Insightful": true,
          "Usage Frequency": 1,
          "session_id": 1,
          "user": "G3"
         },
         {
          "Component": "group-comparison",
          "Insightful": false,
          "Usage Frequency": 3,
          "session_id": 5,
          "user": "A1"
         },
         {
          "Component": "group-comparison",
          "Insightful": true,
          "Usage Frequency": 5,
          "session_id": 0,
          "user": "M2"
         },
         {
          "Component": "group-comparison",
          "Insightful": true,
          "Usage Frequency": 4,
          "session_id": 0,
          "user": "M3"
         },
         {
          "Component": "group-comparison",
          "Insightful": true,
          "Usage Frequency": 1,
          "session_id": 1,
          "user": "M1"
         },
         {
          "Component": "group-comparison",
          "Insightful": true,
          "Usage Frequency": 1,
          "session_id": 1,
          "user": "M2"
         },
         {
          "Component": "group-comparison",
          "Insightful": true,
          "Usage Frequency": 1,
          "session_id": 2,
          "user": "A2"
         },
         {
          "Component": "group-comparison",
          "Insightful": true,
          "Usage Frequency": 1,
          "session_id": 4,
          "user": "M2"
         },
         {
          "Component": "group-comparison",
          "Insightful": true,
          "Usage Frequency": 1,
          "session_id": 6,
          "user": "A1"
         },
         {
          "Component": "range-selection",
          "Insightful": false,
          "Usage Frequency": 1,
          "session_id": 2,
          "user": "G1"
         },
         {
          "Component": "range-selection",
          "Insightful": false,
          "Usage Frequency": 1,
          "session_id": 3,
          "user": "A2"
         },
         {
          "Component": "range-selection",
          "Insightful": true,
          "Usage Frequency": 1,
          "session_id": 1,
          "user": "A3"
         },
         {
          "Component": "range-selection",
          "Insightful": true,
          "Usage Frequency": 1,
          "session_id": 1,
          "user": "M1"
         },
         {
          "Component": "range-selection",
          "Insightful": true,
          "Usage Frequency": 1,
          "session_id": 2,
          "user": "A1"
         },
         {
          "Component": "range-selection",
          "Insightful": true,
          "Usage Frequency": 1,
          "session_id": 8,
          "user": "G2"
         },
         {
          "Component": "recommendation",
          "Insightful": false,
          "Usage Frequency": 3,
          "session_id": 1,
          "user": "G2"
         },
         {
          "Component": "recommendation",
          "Insightful": false,
          "Usage Frequency": 1,
          "session_id": 5,
          "user": "G2"
         },
         {
          "Component": "recommendation",
          "Insightful": true,
          "Usage Frequency": 1,
          "session_id": 0,
          "user": "A2"
         },
         {
          "Component": "recommendation",
          "Insightful": true,
          "Usage Frequency": 4,
          "session_id": 0,
          "user": "G1"
         },
         {
          "Component": "recommendation",
          "Insightful": true,
          "Usage Frequency": 1,
          "session_id": 0,
          "user": "G2"
         },
         {
          "Component": "recommendation",
          "Insightful": true,
          "Usage Frequency": 3,
          "session_id": 1,
          "user": "A2"
         },
         {
          "Component": "recommendation",
          "Insightful": true,
          "Usage Frequency": 3,
          "session_id": 1,
          "user": "G3"
         },
         {
          "Component": "recommendation",
          "Insightful": true,
          "Usage Frequency": 1,
          "session_id": 1,
          "user": "M1"
         },
         {
          "Component": "recommendation",
          "Insightful": true,
          "Usage Frequency": 2,
          "session_id": 3,
          "user": "G1"
         },
         {
          "Component": "recommendation",
          "Insightful": true,
          "Usage Frequency": 1,
          "session_id": 3,
          "user": "G3"
         },
         {
          "Component": "recommendation",
          "Insightful": true,
          "Usage Frequency": 1,
          "session_id": 4,
          "user": "M2"
         },
         {
          "Component": "recommendation",
          "Insightful": true,
          "Usage Frequency": 1,
          "session_id": 7,
          "user": "G2"
         },
         {
          "Component": "recommendation",
          "Insightful": true,
          "Usage Frequency": 2,
          "session_id": 8,
          "user": "G2"
         },
         {
          "Component": "result-querying",
          "Insightful": false,
          "Usage Frequency": 2,
          "session_id": 0,
          "user": "A3"
         },
         {
          "Component": "result-querying",
          "Insightful": false,
          "Usage Frequency": 1,
          "session_id": 1,
          "user": "A1"
         },
         {
          "Component": "result-querying",
          "Insightful": false,
          "Usage Frequency": 1,
          "session_id": 2,
          "user": "G1"
         },
         {
          "Component": "result-querying",
          "Insightful": false,
          "Usage Frequency": 1,
          "session_id": 2,
          "user": "G2"
         },
         {
          "Component": "result-querying",
          "Insightful": false,
          "Usage Frequency": 1,
          "session_id": 3,
          "user": "A2"
         },
         {
          "Component": "result-querying",
          "Insightful": true,
          "Usage Frequency": 1,
          "session_id": 0,
          "user": "A1"
         },
         {
          "Component": "result-querying",
          "Insightful": true,
          "Usage Frequency": 1,
          "session_id": 0,
          "user": "A2"
         },
         {
          "Component": "result-querying",
          "Insightful": true,
          "Usage Frequency": 2,
          "session_id": 0,
          "user": "M3"
         },
         {
          "Component": "result-querying",
          "Insightful": true,
          "Usage Frequency": 3,
          "session_id": 1,
          "user": "A2"
         },
         {
          "Component": "result-querying",
          "Insightful": true,
          "Usage Frequency": 1,
          "session_id": 1,
          "user": "A3"
         },
         {
          "Component": "result-querying",
          "Insightful": true,
          "Usage Frequency": 1,
          "session_id": 1,
          "user": "G1"
         },
         {
          "Component": "result-querying",
          "Insightful": true,
          "Usage Frequency": 1,
          "session_id": 1,
          "user": "G3"
         },
         {
          "Component": "result-querying",
          "Insightful": true,
          "Usage Frequency": 1,
          "session_id": 2,
          "user": "M3"
         },
         {
          "Component": "result-querying",
          "Insightful": true,
          "Usage Frequency": 2,
          "session_id": 3,
          "user": "G1"
         },
         {
          "Component": "result-querying",
          "Insightful": true,
          "Usage Frequency": 2,
          "session_id": 3,
          "user": "M2"
         },
         {
          "Component": "result-querying",
          "Insightful": true,
          "Usage Frequency": 1,
          "session_id": 7,
          "user": "G2"
         }
        ]
       },
       "encoding": {
        "color": {
         "field": "Insightful",
         "type": "nominal"
        },
        "x": {
         "aggregate": "sum",
         "field": "Usage Frequency",
         "title": "Usage Frequency",
         "type": "quantitative"
        },
        "y": {
         "field": "Component",
         "sort": [
          "exact-specification",
          "approx-shape-specification",
          "range-selection",
          "flexible-matching",
          "filter-selection",
          "group-comparison",
          "concept-query",
          "result-querying",
          "recommendation",
          "control"
         ],
         "type": "nominal"
        }
       },
       "mark": "bar"
      },
      "image/png": "[encoded data removed]",
      "text/plain": [
       "<VegaLite 2 object>\n",
       "\n",
       "If you see this message, it means the renderer has not been properly enabled\n",
       "for the frontend that you are using. For more information, see\n",
       "https://altair-viz.github.io/user_guide/troubleshooting.html\n"
      ]
     },
     "execution_count": 13,
     "metadata": {},
     "output_type": "execute_result"
    }
   ],
   "source": [
    "alt.Chart(df_frequency_by_component).mark_bar().encode(\n",
    "    alt.X(\"Usage Frequency\",aggregate=\"sum\",title=\"Usage Frequency\"),\n",
    "    alt.Y(\"Component\",sort=['exact-specification','approx-shape-specification','range-selection','flexible-matching',\n",
    "                            'filter-selection','group-comparison',\n",
    "                            'concept-query', 'result-querying','recommendation','control']),\n",
    "    color = \"Insightful\"\n",
    ")"
   ]
  },
  {
   "cell_type": "code",
   "execution_count": 14,
   "metadata": {},
   "outputs": [
    {
     "data": {
      "application/vnd.vegalite.v2+json": {
       "$schema": "https://vega.github.io/schema/vega-lite/v2.6.0.json",
       "config": {
        "view": {
         "height": 300,
         "width": 400
        }
       },
       "data": {
        "name": "data-a01b917821b4fa1e8d69ecc0edce5c0c"
       },
       "datasets": {
        "data-a01b917821b4fa1e8d69ecc0edce5c0c": [
         {
          "Component": "approx-shape-specification",
          "Insightful": false,
          "Usage Frequency": 1,
          "session_id": 0,
          "user": "A3"
         },
         {
          "Component": "approx-shape-specification",
          "Insightful": false,
          "Usage Frequency": 1,
          "session_id": 0,
          "user": "M1"
         },
         {
          "Component": "approx-shape-specification",
          "Insightful": false,
          "Usage Frequency": 2,
          "session_id": 6,
          "user": "G2"
         },
         {
          "Component": "approx-shape-specification",
          "Insightful": true,
          "Usage Frequency": 1,
          "session_id": 1,
          "user": "A3"
         },
         {
          "Component": "approx-shape-specification",
          "Insightful": true,
          "Usage Frequency": 1,
          "session_id": 2,
          "user": "A2"
         },
         {
          "Component": "approx-shape-specification",
          "Insightful": true,
          "Usage Frequency": 1,
          "session_id": 3,
          "user": "G3"
         },
         {
          "Component": "approx-shape-specification",
          "Insightful": true,
          "Usage Frequency": 1,
          "session_id": 4,
          "user": "A1"
         },
         {
          "Component": "approx-shape-specification",
          "Insightful": true,
          "Usage Frequency": 1,
          "session_id": 4,
          "user": "G2"
         },
         {
          "Component": "approx-shape-specification",
          "Insightful": true,
          "Usage Frequency": 1,
          "session_id": 8,
          "user": "G2"
         },
         {
          "Component": "concept-query",
          "Insightful": true,
          "Usage Frequency": 1,
          "session_id": 6,
          "user": "A1"
         },
         {
          "Component": "concept-query",
          "Insightful": true,
          "Usage Frequency": 1,
          "session_id": 7,
          "user": "A1"
         },
         {
          "Component": "concept-query",
          "Insightful": true,
          "Usage Frequency": 1,
          "session_id": 7,
          "user": "G2"
         },
         {
          "Component": "exact-specification",
          "Insightful": false,
          "Usage Frequency": 1,
          "session_id": 0,
          "user": "A3"
         },
         {
          "Component": "exact-specification",
          "Insightful": false,
          "Usage Frequency": 1,
          "session_id": 0,
          "user": "M1"
         },
         {
          "Component": "exact-specification",
          "Insightful": false,
          "Usage Frequency": 2,
          "session_id": 1,
          "user": "M3"
         },
         {
          "Component": "exact-specification",
          "Insightful": false,
          "Usage Frequency": 1,
          "session_id": 2,
          "user": "M1"
         },
         {
          "Component": "exact-specification",
          "Insightful": false,
          "Usage Frequency": 2,
          "session_id": 2,
          "user": "M2"
         },
         {
          "Component": "exact-specification",
          "Insightful": false,
          "Usage Frequency": 1,
          "session_id": 5,
          "user": "A3"
         },
         {
          "Component": "exact-specification",
          "Insightful": true,
          "Usage Frequency": 3,
          "session_id": 3,
          "user": "M2"
         },
         {
          "Component": "exact-specification",
          "Insightful": true,
          "Usage Frequency": 2,
          "session_id": 4,
          "user": "A1"
         },
         {
          "Component": "exact-specification",
          "Insightful": true,
          "Usage Frequency": 2,
          "session_id": 4,
          "user": "G2"
         },
         {
          "Component": "filter-selection",
          "Insightful": false,
          "Usage Frequency": 1,
          "session_id": 1,
          "user": "A1"
         },
         {
          "Component": "filter-selection",
          "Insightful": false,
          "Usage Frequency": 1,
          "session_id": 1,
          "user": "G2"
         },
         {
          "Component": "filter-selection",
          "Insightful": false,
          "Usage Frequency": 1,
          "session_id": 2,
          "user": "G2"
         },
         {
          "Component": "filter-selection",
          "Insightful": false,
          "Usage Frequency": 1,
          "session_id": 2,
          "user": "M1"
         },
         {
          "Component": "filter-selection",
          "Insightful": false,
          "Usage Frequency": 2,
          "session_id": 3,
          "user": "A1"
         },
         {
          "Component": "filter-selection",
          "Insightful": false,
          "Usage Frequency": 2,
          "session_id": 5,
          "user": "G2"
         },
         {
          "Component": "filter-selection",
          "Insightful": true,
          "Usage Frequency": 5,
          "session_id": 0,
          "user": "A1"
         },
         {
          "Component": "filter-selection",
          "Insightful": true,
          "Usage Frequency": 1,
          "session_id": 0,
          "user": "A2"
         },
         {
          "Component": "filter-selection",
          "Insightful": true,
          "Usage Frequency": 3,
          "session_id": 1,
          "user": "A2"
         },
         {
          "Component": "filter-selection",
          "Insightful": true,
          "Usage Frequency": 1,
          "session_id": 2,
          "user": "A1"
         },
         {
          "Component": "filter-selection",
          "Insightful": true,
          "Usage Frequency": 2,
          "session_id": 2,
          "user": "A3"
         },
         {
          "Component": "filter-selection",
          "Insightful": true,
          "Usage Frequency": 1,
          "session_id": 3,
          "user": "A3"
         },
         {
          "Component": "filter-selection",
          "Insightful": true,
          "Usage Frequency": 3,
          "session_id": 3,
          "user": "M1"
         },
         {
          "Component": "filter-selection",
          "Insightful": true,
          "Usage Frequency": 1,
          "session_id": 4,
          "user": "A1"
         },
         {
          "Component": "filter-selection",
          "Insightful": true,
          "Usage Frequency": 2,
          "session_id": 4,
          "user": "G2"
         },
         {
          "Component": "filter-selection",
          "Insightful": true,
          "Usage Frequency": 1,
          "session_id": 4,
          "user": "M2"
         },
         {
          "Component": "filter-selection",
          "Insightful": true,
          "Usage Frequency": 1,
          "session_id": 6,
          "user": "A1"
         },
         {
          "Component": "filter-selection",
          "Insightful": true,
          "Usage Frequency": 1,
          "session_id": 7,
          "user": "A1"
         },
         {
          "Component": "filter-selection",
          "Insightful": true,
          "Usage Frequency": 1,
          "session_id": 7,
          "user": "G2"
         },
         {
          "Component": "flexible-matching",
          "Insightful": true,
          "Usage Frequency": 1,
          "session_id": 0,
          "user": "M3"
         },
         {
          "Component": "flexible-matching",
          "Insightful": true,
          "Usage Frequency": 3,
          "session_id": 1,
          "user": "A3"
         },
         {
          "Component": "flexible-matching",
          "Insightful": true,
          "Usage Frequency": 1,
          "session_id": 1,
          "user": "G3"
         },
         {
          "Component": "group-comparison",
          "Insightful": false,
          "Usage Frequency": 3,
          "session_id": 5,
          "user": "A1"
         },
         {
          "Component": "group-comparison",
          "Insightful": true,
          "Usage Frequency": 5,
          "session_id": 0,
          "user": "M2"
         },
         {
          "Component": "group-comparison",
          "Insightful": true,
          "Usage Frequency": 4,
          "session_id": 0,
          "user": "M3"
         },
         {
          "Component": "group-comparison",
          "Insightful": true,
          "Usage Frequency": 1,
          "session_id": 1,
          "user": "M1"
         },
         {
          "Component": "group-comparison",
          "Insightful": true,
          "Usage Frequency": 1,
          "session_id": 1,
          "user": "M2"
         },
         {
          "Component": "group-comparison",
          "Insightful": true,
          "Usage Frequency": 1,
          "session_id": 2,
          "user": "A2"
         },
         {
          "Component": "group-comparison",
          "Insightful": true,
          "Usage Frequency": 1,
          "session_id": 4,
          "user": "M2"
         },
         {
          "Component": "group-comparison",
          "Insightful": true,
          "Usage Frequency": 1,
          "session_id": 6,
          "user": "A1"
         },
         {
          "Component": "range-selection",
          "Insightful": false,
          "Usage Frequency": 1,
          "session_id": 2,
          "user": "G1"
         },
         {
          "Component": "range-selection",
          "Insightful": false,
          "Usage Frequency": 1,
          "session_id": 3,
          "user": "A2"
         },
         {
          "Component": "range-selection",
          "Insightful": true,
          "Usage Frequency": 1,
          "session_id": 1,
          "user": "A3"
         },
         {
          "Component": "range-selection",
          "Insightful": true,
          "Usage Frequency": 1,
          "session_id": 1,
          "user": "M1"
         },
         {
          "Component": "range-selection",
          "Insightful": true,
          "Usage Frequency": 1,
          "session_id": 2,
          "user": "A1"
         },
         {
          "Component": "range-selection",
          "Insightful": true,
          "Usage Frequency": 1,
          "session_id": 8,
          "user": "G2"
         },
         {
          "Component": "recommendation",
          "Insightful": false,
          "Usage Frequency": 3,
          "session_id": 1,
          "user": "G2"
         },
         {
          "Component": "recommendation",
          "Insightful": false,
          "Usage Frequency": 1,
          "session_id": 5,
          "user": "G2"
         },
         {
          "Component": "recommendation",
          "Insightful": true,
          "Usage Frequency": 1,
          "session_id": 0,
          "user": "A2"
         },
         {
          "Component": "recommendation",
          "Insightful": true,
          "Usage Frequency": 4,
          "session_id": 0,
          "user": "G1"
         },
         {
          "Component": "recommendation",
          "Insightful": true,
          "Usage Frequency": 1,
          "session_id": 0,
          "user": "G2"
         },
         {
          "Component": "recommendation",
          "Insightful": true,
          "Usage Frequency": 3,
          "session_id": 1,
          "user": "A2"
         },
         {
          "Component": "recommendation",
          "Insightful": true,
          "Usage Frequency": 3,
          "session_id": 1,
          "user": "G3"
         },
         {
          "Component": "recommendation",
          "Insightful": true,
          "Usage Frequency": 1,
          "session_id": 1,
          "user": "M1"
         },
         {
          "Component": "recommendation",
          "Insightful": true,
          "Usage Frequency": 2,
          "session_id": 3,
          "user": "G1"
         },
         {
          "Component": "recommendation",
          "Insightful": true,
          "Usage Frequency": 1,
          "session_id": 3,
          "user": "G3"
         },
         {
          "Component": "recommendation",
          "Insightful": true,
          "Usage Frequency": 1,
          "session_id": 4,
          "user": "M2"
         },
         {
          "Component": "recommendation",
          "Insightful": true,
          "Usage Frequency": 1,
          "session_id": 7,
          "user": "G2"
         },
         {
          "Component": "recommendation",
          "Insightful": true,
          "Usage Frequency": 2,
          "session_id": 8,
          "user": "G2"
         },
         {
          "Component": "result-querying",
          "Insightful": false,
          "Usage Frequency": 2,
          "session_id": 0,
          "user": "A3"
         },
         {
          "Component": "result-querying",
          "Insightful": false,
          "Usage Frequency": 1,
          "session_id": 1,
          "user": "A1"
         },
         {
          "Component": "result-querying",
          "Insightful": false,
          "Usage Frequency": 1,
          "session_id": 2,
          "user": "G1"
         },
         {
          "Component": "result-querying",
          "Insightful": false,
          "Usage Frequency": 1,
          "session_id": 2,
          "user": "G2"
         },
         {
          "Component": "result-querying",
          "Insightful": false,
          "Usage Frequency": 1,
          "session_id": 3,
          "user": "A2"
         },
         {
          "Component": "result-querying",
          "Insightful": true,
          "Usage Frequency": 1,
          "session_id": 0,
          "user": "A1"
         },
         {
          "Component": "result-querying",
          "Insightful": true,
          "Usage Frequency": 1,
          "session_id": 0,
          "user": "A2"
         },
         {
          "Component": "result-querying",
          "Insightful": true,
          "Usage Frequency": 2,
          "session_id": 0,
          "user": "M3"
         },
         {
          "Component": "result-querying",
          "Insightful": true,
          "Usage Frequency": 3,
          "session_id": 1,
          "user": "A2"
         },
         {
          "Component": "result-querying",
          "Insightful": true,
          "Usage Frequency": 1,
          "session_id": 1,
          "user": "A3"
         },
         {
          "Component": "result-querying",
          "Insightful": true,
          "Usage Frequency": 1,
          "session_id": 1,
          "user": "G1"
         },
         {
          "Component": "result-querying",
          "Insightful": true,
          "Usage Frequency": 1,
          "session_id": 1,
          "user": "G3"
         },
         {
          "Component": "result-querying",
          "Insightful": true,
          "Usage Frequency": 1,
          "session_id": 2,
          "user": "M3"
         },
         {
          "Component": "result-querying",
          "Insightful": true,
          "Usage Frequency": 2,
          "session_id": 3,
          "user": "G1"
         },
         {
          "Component": "result-querying",
          "Insightful": true,
          "Usage Frequency": 2,
          "session_id": 3,
          "user": "M2"
         },
         {
          "Component": "result-querying",
          "Insightful": true,
          "Usage Frequency": 1,
          "session_id": 7,
          "user": "G2"
         }
        ]
       },
       "encoding": {
        "color": {
         "field": "Insightful",
         "type": "nominal"
        },
        "x": {
         "aggregate": "count",
         "field": "Usage Frequency",
         "title": "Session Occurence",
         "type": "quantitative"
        },
        "y": {
         "field": "Component",
         "sort": [
          "exact-specification",
          "approx-shape-specification",
          "range-selection",
          "flexible-matching",
          "filter-selection",
          "group-comparison",
          "concept-query",
          "result-querying",
          "recommendation",
          "control"
         ],
         "type": "nominal"
        }
       },
       "mark": "bar"
      },
      "image/png": "[encoded data removed]",
      "text/plain": [
       "<VegaLite 2 object>\n",
       "\n",
       "If you see this message, it means the renderer has not been properly enabled\n",
       "for the frontend that you are using. For more information, see\n",
       "https://altair-viz.github.io/user_guide/troubleshooting.html\n"
      ]
     },
     "execution_count": 14,
     "metadata": {},
     "output_type": "execute_result"
    }
   ],
   "source": [
    "alt.Chart(df_frequency_by_component).mark_bar().encode(\n",
    "    alt.X(\"Usage Frequency\",aggregate=\"count\",title=\"Session Occurence\"),\n",
    "    alt.Y(\"Component\",sort=['exact-specification','approx-shape-specification','range-selection','flexible-matching',\n",
    "                            'filter-selection','group-comparison',\n",
    "                            'concept-query', 'result-querying','recommendation','control']),\n",
    "    color = \"Insightful\"\n",
    ")"
   ]
  },
  {
   "cell_type": "code",
   "execution_count": 15,
   "metadata": {},
   "outputs": [],
   "source": [
    "td = 'top-down-querying'\n",
    "sc = 'search-with-context'\n",
    "bu = 'bottom-up-querying'\n",
    "rec= 'recommendation'\n",
    "component_to_process = {\n",
    "    'exact-specification':td,\n",
    "    'approx-shape-specification':td,\n",
    "    'flexible-matching':td,\n",
    "    'range-selection':td, \n",
    "    'filter-selection':sc, \n",
    "    'group-comparison':sc,\n",
    "    'result-querying':bu,\n",
    "    'concept-query':bu,\n",
    "    'control':\"others\",\n",
    "    'recommendation':rec,\n",
    "}"
   ]
  },
  {
   "cell_type": "code",
   "execution_count": 16,
   "metadata": {},
   "outputs": [],
   "source": [
    "df_process = df_component\n",
    "df_process[\"Process\"] = df_component[\"Component\"].replace(component_to_process)"
   ]
  },
  {
   "cell_type": "code",
   "execution_count": 17,
   "metadata": {},
   "outputs": [],
   "source": [
    "df_frequency_by_process =df_component.groupby([\"Process\",\"Insightful\",\"session_id\",\"user\"]).count()[\"t\"].reset_index().rename(columns={\"t\":\"Usage Frequency\"})\n",
    "df_frequency_by_process = df_frequency_by_process[df_frequency_by_process[\"Process\"]!=\"others\"]"
   ]
  },
  {
   "cell_type": "code",
   "execution_count": 18,
   "metadata": {},
   "outputs": [
    {
     "data": {
      "application/vnd.vegalite.v2+json": {
       "$schema": "https://vega.github.io/schema/vega-lite/v2.6.0.json",
       "config": {
        "view": {
         "height": 300,
         "width": 400
        }
       },
       "data": {
        "name": "data-64879a4da77b513d35ac002c475d1f4a"
       },
       "datasets": {
        "data-64879a4da77b513d35ac002c475d1f4a": [
         {
          "Insightful": false,
          "Process": "bottom-up-querying",
          "Usage Frequency": 2,
          "session_id": 0,
          "user": "A3"
         },
         {
          "Insightful": false,
          "Process": "bottom-up-querying",
          "Usage Frequency": 1,
          "session_id": 1,
          "user": "A1"
         },
         {
          "Insightful": false,
          "Process": "bottom-up-querying",
          "Usage Frequency": 1,
          "session_id": 2,
          "user": "G1"
         },
         {
          "Insightful": false,
          "Process": "bottom-up-querying",
          "Usage Frequency": 1,
          "session_id": 2,
          "user": "G2"
         },
         {
          "Insightful": false,
          "Process": "bottom-up-querying",
          "Usage Frequency": 1,
          "session_id": 3,
          "user": "A2"
         },
         {
          "Insightful": true,
          "Process": "bottom-up-querying",
          "Usage Frequency": 1,
          "session_id": 0,
          "user": "A1"
         },
         {
          "Insightful": true,
          "Process": "bottom-up-querying",
          "Usage Frequency": 1,
          "session_id": 0,
          "user": "A2"
         },
         {
          "Insightful": true,
          "Process": "bottom-up-querying",
          "Usage Frequency": 2,
          "session_id": 0,
          "user": "M3"
         },
         {
          "Insightful": true,
          "Process": "bottom-up-querying",
          "Usage Frequency": 3,
          "session_id": 1,
          "user": "A2"
         },
         {
          "Insightful": true,
          "Process": "bottom-up-querying",
          "Usage Frequency": 1,
          "session_id": 1,
          "user": "A3"
         },
         {
          "Insightful": true,
          "Process": "bottom-up-querying",
          "Usage Frequency": 1,
          "session_id": 1,
          "user": "G1"
         },
         {
          "Insightful": true,
          "Process": "bottom-up-querying",
          "Usage Frequency": 1,
          "session_id": 1,
          "user": "G3"
         },
         {
          "Insightful": true,
          "Process": "bottom-up-querying",
          "Usage Frequency": 1,
          "session_id": 2,
          "user": "M3"
         },
         {
          "Insightful": true,
          "Process": "bottom-up-querying",
          "Usage Frequency": 2,
          "session_id": 3,
          "user": "G1"
         },
         {
          "Insightful": true,
          "Process": "bottom-up-querying",
          "Usage Frequency": 2,
          "session_id": 3,
          "user": "M2"
         },
         {
          "Insightful": true,
          "Process": "bottom-up-querying",
          "Usage Frequency": 1,
          "session_id": 6,
          "user": "A1"
         },
         {
          "Insightful": true,
          "Process": "bottom-up-querying",
          "Usage Frequency": 1,
          "session_id": 7,
          "user": "A1"
         },
         {
          "Insightful": true,
          "Process": "bottom-up-querying",
          "Usage Frequency": 2,
          "session_id": 7,
          "user": "G2"
         },
         {
          "Insightful": false,
          "Process": "recommendation",
          "Usage Frequency": 3,
          "session_id": 1,
          "user": "G2"
         },
         {
          "Insightful": false,
          "Process": "recommendation",
          "Usage Frequency": 1,
          "session_id": 5,
          "user": "G2"
         },
         {
          "Insightful": true,
          "Process": "recommendation",
          "Usage Frequency": 1,
          "session_id": 0,
          "user": "A2"
         },
         {
          "Insightful": true,
          "Process": "recommendation",
          "Usage Frequency": 4,
          "session_id": 0,
          "user": "G1"
         },
         {
          "Insightful": true,
          "Process": "recommendation",
          "Usage Frequency": 1,
          "session_id": 0,
          "user": "G2"
         },
         {
          "Insightful": true,
          "Process": "recommendation",
          "Usage Frequency": 3,
          "session_id": 1,
          "user": "A2"
         },
         {
          "Insightful": true,
          "Process": "recommendation",
          "Usage Frequency": 3,
          "session_id": 1,
          "user": "G3"
         },
         {
          "Insightful": true,
          "Process": "recommendation",
          "Usage Frequency": 1,
          "session_id": 1,
          "user": "M1"
         },
         {
          "Insightful": true,
          "Process": "recommendation",
          "Usage Frequency": 2,
          "session_id": 3,
          "user": "G1"
         },
         {
          "Insightful": true,
          "Process": "recommendation",
          "Usage Frequency": 1,
          "session_id": 3,
          "user": "G3"
         },
         {
          "Insightful": true,
          "Process": "recommendation",
          "Usage Frequency": 1,
          "session_id": 4,
          "user": "M2"
         },
         {
          "Insightful": true,
          "Process": "recommendation",
          "Usage Frequency": 1,
          "session_id": 7,
          "user": "G2"
         },
         {
          "Insightful": true,
          "Process": "recommendation",
          "Usage Frequency": 2,
          "session_id": 8,
          "user": "G2"
         },
         {
          "Insightful": false,
          "Process": "search-with-context",
          "Usage Frequency": 1,
          "session_id": 1,
          "user": "A1"
         },
         {
          "Insightful": false,
          "Process": "search-with-context",
          "Usage Frequency": 1,
          "session_id": 1,
          "user": "G2"
         },
         {
          "Insightful": false,
          "Process": "search-with-context",
          "Usage Frequency": 1,
          "session_id": 2,
          "user": "G2"
         },
         {
          "Insightful": false,
          "Process": "search-with-context",
          "Usage Frequency": 1,
          "session_id": 2,
          "user": "M1"
         },
         {
          "Insightful": false,
          "Process": "search-with-context",
          "Usage Frequency": 2,
          "session_id": 3,
          "user": "A1"
         },
         {
          "Insightful": false,
          "Process": "search-with-context",
          "Usage Frequency": 3,
          "session_id": 5,
          "user": "A1"
         },
         {
          "Insightful": false,
          "Process": "search-with-context",
          "Usage Frequency": 2,
          "session_id": 5,
          "user": "G2"
         },
         {
          "Insightful": true,
          "Process": "search-with-context",
          "Usage Frequency": 5,
          "session_id": 0,
          "user": "A1"
         },
         {
          "Insightful": true,
          "Process": "search-with-context",
          "Usage Frequency": 1,
          "session_id": 0,
          "user": "A2"
         },
         {
          "Insightful": true,
          "Process": "search-with-context",
          "Usage Frequency": 5,
          "session_id": 0,
          "user": "M2"
         },
         {
          "Insightful": true,
          "Process": "search-with-context",
          "Usage Frequency": 4,
          "session_id": 0,
          "user": "M3"
         },
         {
          "Insightful": true,
          "Process": "search-with-context",
          "Usage Frequency": 3,
          "session_id": 1,
          "user": "A2"
         },
         {
          "Insightful": true,
          "Process": "search-with-context",
          "Usage Frequency": 1,
          "session_id": 1,
          "user": "M1"
         },
         {
          "Insightful": true,
          "Process": "search-with-context",
          "Usage Frequency": 1,
          "session_id": 1,
          "user": "M2"
         },
         {
          "Insightful": true,
          "Process": "search-with-context",
          "Usage Frequency": 1,
          "session_id": 2,
          "user": "A1"
         },
         {
          "Insightful": true,
          "Process": "search-with-context",
          "Usage Frequency": 1,
          "session_id": 2,
          "user": "A2"
         },
         {
          "Insightful": true,
          "Process": "search-with-context",
          "Usage Frequency": 2,
          "session_id": 2,
          "user": "A3"
         },
         {
          "Insightful": true,
          "Process": "search-with-context",
          "Usage Frequency": 1,
          "session_id": 3,
          "user": "A3"
         },
         {
          "Insightful": true,
          "Process": "search-with-context",
          "Usage Frequency": 3,
          "session_id": 3,
          "user": "M1"
         },
         {
          "Insightful": true,
          "Process": "search-with-context",
          "Usage Frequency": 1,
          "session_id": 4,
          "user": "A1"
         },
         {
          "Insightful": true,
          "Process": "search-with-context",
          "Usage Frequency": 2,
          "session_id": 4,
          "user": "G2"
         },
         {
          "Insightful": true,
          "Process": "search-with-context",
          "Usage Frequency": 2,
          "session_id": 4,
          "user": "M2"
         },
         {
          "Insightful": true,
          "Process": "search-with-context",
          "Usage Frequency": 2,
          "session_id": 6,
          "user": "A1"
         },
         {
          "Insightful": true,
          "Process": "search-with-context",
          "Usage Frequency": 1,
          "session_id": 7,
          "user": "A1"
         },
         {
          "Insightful": true,
          "Process": "search-with-context",
          "Usage Frequency": 1,
          "session_id": 7,
          "user": "G2"
         },
         {
          "Insightful": false,
          "Process": "top-down-querying",
          "Usage Frequency": 2,
          "session_id": 0,
          "user": "A3"
         },
         {
          "Insightful": false,
          "Process": "top-down-querying",
          "Usage Frequency": 2,
          "session_id": 0,
          "user": "M1"
         },
         {
          "Insightful": false,
          "Process": "top-down-querying",
          "Usage Frequency": 2,
          "session_id": 1,
          "user": "M3"
         },
         {
          "Insightful": false,
          "Process": "top-down-querying",
          "Usage Frequency": 1,
          "session_id": 2,
          "user": "G1"
         },
         {
          "Insightful": false,
          "Process": "top-down-querying",
          "Usage Frequency": 1,
          "session_id": 2,
          "user": "M1"
         },
         {
          "Insightful": false,
          "Process": "top-down-querying",
          "Usage Frequency": 2,
          "session_id": 2,
          "user": "M2"
         },
         {
          "Insightful": false,
          "Process": "top-down-querying",
          "Usage Frequency": 1,
          "session_id": 3,
          "user": "A2"
         },
         {
          "Insightful": false,
          "Process": "top-down-querying",
          "Usage Frequency": 1,
          "session_id": 5,
          "user": "A3"
         },
         {
          "Insightful": false,
          "Process": "top-down-querying",
          "Usage Frequency": 2,
          "session_id": 6,
          "user": "G2"
         },
         {
          "Insightful": true,
          "Process": "top-down-querying",
          "Usage Frequency": 1,
          "session_id": 0,
          "user": "M3"
         },
         {
          "Insightful": true,
          "Process": "top-down-querying",
          "Usage Frequency": 5,
          "session_id": 1,
          "user": "A3"
         },
         {
          "Insightful": true,
          "Process": "top-down-querying",
          "Usage Frequency": 1,
          "session_id": 1,
          "user": "G3"
         },
         {
          "Insightful": true,
          "Process": "top-down-querying",
          "Usage Frequency": 1,
          "session_id": 1,
          "user": "M1"
         },
         {
          "Insightful": true,
          "Process": "top-down-querying",
          "Usage Frequency": 1,
          "session_id": 2,
          "user": "A1"
         },
         {
          "Insightful": true,
          "Process": "top-down-querying",
          "Usage Frequency": 1,
          "session_id": 2,
          "user": "A2"
         },
         {
          "Insightful": true,
          "Process": "top-down-querying",
          "Usage Frequency": 1,
          "session_id": 3,
          "user": "G3"
         },
         {
          "Insightful": true,
          "Process": "top-down-querying",
          "Usage Frequency": 3,
          "session_id": 3,
          "user": "M2"
         },
         {
          "Insightful": true,
          "Process": "top-down-querying",
          "Usage Frequency": 3,
          "session_id": 4,
          "user": "A1"
         },
         {
          "Insightful": true,
          "Process": "top-down-querying",
          "Usage Frequency": 3,
          "session_id": 4,
          "user": "G2"
         },
         {
          "Insightful": true,
          "Process": "top-down-querying",
          "Usage Frequency": 2,
          "session_id": 8,
          "user": "G2"
         }
        ]
       },
       "encoding": {
        "color": {
         "field": "Insightful",
         "type": "nominal"
        },
        "x": {
         "aggregate": "sum",
         "field": "Usage Frequency",
         "title": "Usage Frequency",
         "type": "quantitative"
        },
        "y": {
         "field": "Process",
         "sort": [
          "top-down-querying",
          "search-with-context",
          "bottom-up-querying",
          "recommendation"
         ],
         "type": "nominal"
        }
       },
       "mark": "bar"
      },
      "image/png": "[encoded data removed]",
      "text/plain": [
       "<VegaLite 2 object>\n",
       "\n",
       "If you see this message, it means the renderer has not been properly enabled\n",
       "for the frontend that you are using. For more information, see\n",
       "https://altair-viz.github.io/user_guide/troubleshooting.html\n"
      ]
     },
     "execution_count": 18,
     "metadata": {},
     "output_type": "execute_result"
    }
   ],
   "source": [
    "alt.Chart(df_frequency_by_process).mark_bar().encode(\n",
    "    alt.X(\"Usage Frequency\",aggregate=\"sum\",title=\"Usage Frequency\"),\n",
    "    alt.Y(\"Process\",sort=[td,sc,bu,rec]),\n",
    "    alt.Color(\"Insightful\")\n",
    ")"
   ]
  },
  {
   "cell_type": "code",
   "execution_count": 19,
   "metadata": {},
   "outputs": [
    {
     "data": {
      "application/vnd.vegalite.v2+json": {
       "$schema": "https://vega.github.io/schema/vega-lite/v2.6.0.json",
       "config": {
        "view": {
         "height": 300,
         "width": 400
        }
       },
       "data": {
        "name": "data-64879a4da77b513d35ac002c475d1f4a"
       },
       "datasets": {
        "data-64879a4da77b513d35ac002c475d1f4a": [
         {
          "Insightful": false,
          "Process": "bottom-up-querying",
          "Usage Frequency": 2,
          "session_id": 0,
          "user": "A3"
         },
         {
          "Insightful": false,
          "Process": "bottom-up-querying",
          "Usage Frequency": 1,
          "session_id": 1,
          "user": "A1"
         },
         {
          "Insightful": false,
          "Process": "bottom-up-querying",
          "Usage Frequency": 1,
          "session_id": 2,
          "user": "G1"
         },
         {
          "Insightful": false,
          "Process": "bottom-up-querying",
          "Usage Frequency": 1,
          "session_id": 2,
          "user": "G2"
         },
         {
          "Insightful": false,
          "Process": "bottom-up-querying",
          "Usage Frequency": 1,
          "session_id": 3,
          "user": "A2"
         },
         {
          "Insightful": true,
          "Process": "bottom-up-querying",
          "Usage Frequency": 1,
          "session_id": 0,
          "user": "A1"
         },
         {
          "Insightful": true,
          "Process": "bottom-up-querying",
          "Usage Frequency": 1,
          "session_id": 0,
          "user": "A2"
         },
         {
          "Insightful": true,
          "Process": "bottom-up-querying",
          "Usage Frequency": 2,
          "session_id": 0,
          "user": "M3"
         },
         {
          "Insightful": true,
          "Process": "bottom-up-querying",
          "Usage Frequency": 3,
          "session_id": 1,
          "user": "A2"
         },
         {
          "Insightful": true,
          "Process": "bottom-up-querying",
          "Usage Frequency": 1,
          "session_id": 1,
          "user": "A3"
         },
         {
          "Insightful": true,
          "Process": "bottom-up-querying",
          "Usage Frequency": 1,
          "session_id": 1,
          "user": "G1"
         },
         {
          "Insightful": true,
          "Process": "bottom-up-querying",
          "Usage Frequency": 1,
          "session_id": 1,
          "user": "G3"
         },
         {
          "Insightful": true,
          "Process": "bottom-up-querying",
          "Usage Frequency": 1,
          "session_id": 2,
          "user": "M3"
         },
         {
          "Insightful": true,
          "Process": "bottom-up-querying",
          "Usage Frequency": 2,
          "session_id": 3,
          "user": "G1"
         },
         {
          "Insightful": true,
          "Process": "bottom-up-querying",
          "Usage Frequency": 2,
          "session_id": 3,
          "user": "M2"
         },
         {
          "Insightful": true,
          "Process": "bottom-up-querying",
          "Usage Frequency": 1,
          "session_id": 6,
          "user": "A1"
         },
         {
          "Insightful": true,
          "Process": "bottom-up-querying",
          "Usage Frequency": 1,
          "session_id": 7,
          "user": "A1"
         },
         {
          "Insightful": true,
          "Process": "bottom-up-querying",
          "Usage Frequency": 2,
          "session_id": 7,
          "user": "G2"
         },
         {
          "Insightful": false,
          "Process": "recommendation",
          "Usage Frequency": 3,
          "session_id": 1,
          "user": "G2"
         },
         {
          "Insightful": false,
          "Process": "recommendation",
          "Usage Frequency": 1,
          "session_id": 5,
          "user": "G2"
         },
         {
          "Insightful": true,
          "Process": "recommendation",
          "Usage Frequency": 1,
          "session_id": 0,
          "user": "A2"
         },
         {
          "Insightful": true,
          "Process": "recommendation",
          "Usage Frequency": 4,
          "session_id": 0,
          "user": "G1"
         },
         {
          "Insightful": true,
          "Process": "recommendation",
          "Usage Frequency": 1,
          "session_id": 0,
          "user": "G2"
         },
         {
          "Insightful": true,
          "Process": "recommendation",
          "Usage Frequency": 3,
          "session_id": 1,
          "user": "A2"
         },
         {
          "Insightful": true,
          "Process": "recommendation",
          "Usage Frequency": 3,
          "session_id": 1,
          "user": "G3"
         },
         {
          "Insightful": true,
          "Process": "recommendation",
          "Usage Frequency": 1,
          "session_id": 1,
          "user": "M1"
         },
         {
          "Insightful": true,
          "Process": "recommendation",
          "Usage Frequency": 2,
          "session_id": 3,
          "user": "G1"
         },
         {
          "Insightful": true,
          "Process": "recommendation",
          "Usage Frequency": 1,
          "session_id": 3,
          "user": "G3"
         },
         {
          "Insightful": true,
          "Process": "recommendation",
          "Usage Frequency": 1,
          "session_id": 4,
          "user": "M2"
         },
         {
          "Insightful": true,
          "Process": "recommendation",
          "Usage Frequency": 1,
          "session_id": 7,
          "user": "G2"
         },
         {
          "Insightful": true,
          "Process": "recommendation",
          "Usage Frequency": 2,
          "session_id": 8,
          "user": "G2"
         },
         {
          "Insightful": false,
          "Process": "search-with-context",
          "Usage Frequency": 1,
          "session_id": 1,
          "user": "A1"
         },
         {
          "Insightful": false,
          "Process": "search-with-context",
          "Usage Frequency": 1,
          "session_id": 1,
          "user": "G2"
         },
         {
          "Insightful": false,
          "Process": "search-with-context",
          "Usage Frequency": 1,
          "session_id": 2,
          "user": "G2"
         },
         {
          "Insightful": false,
          "Process": "search-with-context",
          "Usage Frequency": 1,
          "session_id": 2,
          "user": "M1"
         },
         {
          "Insightful": false,
          "Process": "search-with-context",
          "Usage Frequency": 2,
          "session_id": 3,
          "user": "A1"
         },
         {
          "Insightful": false,
          "Process": "search-with-context",
          "Usage Frequency": 3,
          "session_id": 5,
          "user": "A1"
         },
         {
          "Insightful": false,
          "Process": "search-with-context",
          "Usage Frequency": 2,
          "session_id": 5,
          "user": "G2"
         },
         {
          "Insightful": true,
          "Process": "search-with-context",
          "Usage Frequency": 5,
          "session_id": 0,
          "user": "A1"
         },
         {
          "Insightful": true,
          "Process": "search-with-context",
          "Usage Frequency": 1,
          "session_id": 0,
          "user": "A2"
         },
         {
          "Insightful": true,
          "Process": "search-with-context",
          "Usage Frequency": 5,
          "session_id": 0,
          "user": "M2"
         },
         {
          "Insightful": true,
          "Process": "search-with-context",
          "Usage Frequency": 4,
          "session_id": 0,
          "user": "M3"
         },
         {
          "Insightful": true,
          "Process": "search-with-context",
          "Usage Frequency": 3,
          "session_id": 1,
          "user": "A2"
         },
         {
          "Insightful": true,
          "Process": "search-with-context",
          "Usage Frequency": 1,
          "session_id": 1,
          "user": "M1"
         },
         {
          "Insightful": true,
          "Process": "search-with-context",
          "Usage Frequency": 1,
          "session_id": 1,
          "user": "M2"
         },
         {
          "Insightful": true,
          "Process": "search-with-context",
          "Usage Frequency": 1,
          "session_id": 2,
          "user": "A1"
         },
         {
          "Insightful": true,
          "Process": "search-with-context",
          "Usage Frequency": 1,
          "session_id": 2,
          "user": "A2"
         },
         {
          "Insightful": true,
          "Process": "search-with-context",
          "Usage Frequency": 2,
          "session_id": 2,
          "user": "A3"
         },
         {
          "Insightful": true,
          "Process": "search-with-context",
          "Usage Frequency": 1,
          "session_id": 3,
          "user": "A3"
         },
         {
          "Insightful": true,
          "Process": "search-with-context",
          "Usage Frequency": 3,
          "session_id": 3,
          "user": "M1"
         },
         {
          "Insightful": true,
          "Process": "search-with-context",
          "Usage Frequency": 1,
          "session_id": 4,
          "user": "A1"
         },
         {
          "Insightful": true,
          "Process": "search-with-context",
          "Usage Frequency": 2,
          "session_id": 4,
          "user": "G2"
         },
         {
          "Insightful": true,
          "Process": "search-with-context",
          "Usage Frequency": 2,
          "session_id": 4,
          "user": "M2"
         },
         {
          "Insightful": true,
          "Process": "search-with-context",
          "Usage Frequency": 2,
          "session_id": 6,
          "user": "A1"
         },
         {
          "Insightful": true,
          "Process": "search-with-context",
          "Usage Frequency": 1,
          "session_id": 7,
          "user": "A1"
         },
         {
          "Insightful": true,
          "Process": "search-with-context",
          "Usage Frequency": 1,
          "session_id": 7,
          "user": "G2"
         },
         {
          "Insightful": false,
          "Process": "top-down-querying",
          "Usage Frequency": 2,
          "session_id": 0,
          "user": "A3"
         },
         {
          "Insightful": false,
          "Process": "top-down-querying",
          "Usage Frequency": 2,
          "session_id": 0,
          "user": "M1"
         },
         {
          "Insightful": false,
          "Process": "top-down-querying",
          "Usage Frequency": 2,
          "session_id": 1,
          "user": "M3"
         },
         {
          "Insightful": false,
          "Process": "top-down-querying",
          "Usage Frequency": 1,
          "session_id": 2,
          "user": "G1"
         },
         {
          "Insightful": false,
          "Process": "top-down-querying",
          "Usage Frequency": 1,
          "session_id": 2,
          "user": "M1"
         },
         {
          "Insightful": false,
          "Process": "top-down-querying",
          "Usage Frequency": 2,
          "session_id": 2,
          "user": "M2"
         },
         {
          "Insightful": false,
          "Process": "top-down-querying",
          "Usage Frequency": 1,
          "session_id": 3,
          "user": "A2"
         },
         {
          "Insightful": false,
          "Process": "top-down-querying",
          "Usage Frequency": 1,
          "session_id": 5,
          "user": "A3"
         },
         {
          "Insightful": false,
          "Process": "top-down-querying",
          "Usage Frequency": 2,
          "session_id": 6,
          "user": "G2"
         },
         {
          "Insightful": true,
          "Process": "top-down-querying",
          "Usage Frequency": 1,
          "session_id": 0,
          "user": "M3"
         },
         {
          "Insightful": true,
          "Process": "top-down-querying",
          "Usage Frequency": 5,
          "session_id": 1,
          "user": "A3"
         },
         {
          "Insightful": true,
          "Process": "top-down-querying",
          "Usage Frequency": 1,
          "session_id": 1,
          "user": "G3"
         },
         {
          "Insightful": true,
          "Process": "top-down-querying",
          "Usage Frequency": 1,
          "session_id": 1,
          "user": "M1"
         },
         {
          "Insightful": true,
          "Process": "top-down-querying",
          "Usage Frequency": 1,
          "session_id": 2,
          "user": "A1"
         },
         {
          "Insightful": true,
          "Process": "top-down-querying",
          "Usage Frequency": 1,
          "session_id": 2,
          "user": "A2"
         },
         {
          "Insightful": true,
          "Process": "top-down-querying",
          "Usage Frequency": 1,
          "session_id": 3,
          "user": "G3"
         },
         {
          "Insightful": true,
          "Process": "top-down-querying",
          "Usage Frequency": 3,
          "session_id": 3,
          "user": "M2"
         },
         {
          "Insightful": true,
          "Process": "top-down-querying",
          "Usage Frequency": 3,
          "session_id": 4,
          "user": "A1"
         },
         {
          "Insightful": true,
          "Process": "top-down-querying",
          "Usage Frequency": 3,
          "session_id": 4,
          "user": "G2"
         },
         {
          "Insightful": true,
          "Process": "top-down-querying",
          "Usage Frequency": 2,
          "session_id": 8,
          "user": "G2"
         }
        ]
       },
       "encoding": {
        "color": {
         "field": "Insightful",
         "type": "nominal"
        },
        "x": {
         "aggregate": "count",
         "field": "Usage Frequency",
         "title": "Session Occurence",
         "type": "quantitative"
        },
        "y": {
         "field": "Process",
         "sort": [
          "top-down-querying",
          "search-with-context",
          "bottom-up-querying",
          "recommendation"
         ],
         "type": "nominal"
        }
       },
       "mark": "bar"
      },
      "image/png": "[encoded data removed]",
      "text/plain": [
       "<VegaLite 2 object>\n",
       "\n",
       "If you see this message, it means the renderer has not been properly enabled\n",
       "for the frontend that you are using. For more information, see\n",
       "https://altair-viz.github.io/user_guide/troubleshooting.html\n"
      ]
     },
     "execution_count": 19,
     "metadata": {},
     "output_type": "execute_result"
    }
   ],
   "source": [
    "alt.Chart(df_frequency_by_process).mark_bar().encode(\n",
    "    alt.X(\"Usage Frequency\",aggregate=\"count\",title=\"Session Occurence\"),\n",
    "    alt.Y(\"Process\",sort=[td,sc,bu,rec]),\n",
    "    alt.Color(\"Insightful\")\n",
    ")"
   ]
  },
  {
   "cell_type": "code",
   "execution_count": null,
   "metadata": {},
   "outputs": [],
   "source": []
  },
  {
   "cell_type": "code",
   "execution_count": null,
   "metadata": {},
   "outputs": [],
   "source": []
  },
  {
   "cell_type": "code",
   "execution_count": null,
   "metadata": {},
   "outputs": [],
   "source": []
  },
  {
   "cell_type": "code",
   "execution_count": null,
   "metadata": {},
   "outputs": [],
   "source": []
  }
 ],
 "metadata": {
  "kernelspec": {
   "display_name": "Python 3",
   "language": "python",
   "name": "python3"
  },
  "language_info": {
   "codemirror_mode": {
    "name": "ipython",
    "version": 3
   },
   "file_extension": ".py",
   "mimetype": "text/x-python",
   "name": "python",
   "nbconvert_exporter": "python",
   "pygments_lexer": "ipython3",
   "version": "3.7.0"
  }
 },
 "nbformat": 4,
 "nbformat_minor": 2
}
