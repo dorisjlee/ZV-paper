{
 "cells": [
  {
   "cell_type": "code",
   "execution_count": 1,
   "metadata": {
    "collapsed": false
   },
   "outputs": [
    {
     "name": "stdout",
     "output_type": "stream",
     "text": [
      "Populating the interactive namespace from numpy and matplotlib\n"
     ]
    }
   ],
   "source": [
    "%pylab inline"
   ]
  },
  {
   "cell_type": "code",
   "execution_count": 2,
   "metadata": {
    "collapsed": true
   },
   "outputs": [],
   "source": [
    "import pandas as pd\n",
    "# import seaborn as sns"
   ]
  },
  {
   "cell_type": "markdown",
   "metadata": {},
   "source": [
    "#### Heatmap of row as users, columns as features, colored by P,E,N, where row is clustered by subject area."
   ]
  },
  {
   "cell_type": "code",
   "execution_count": 3,
   "metadata": {
    "collapsed": true
   },
   "outputs": [],
   "source": [
    "df = pd.read_csv(\"PENFeature.csv\").fillna(0)\n",
    "user_idxs = 9 # user index up to 9th user"
   ]
  },
  {
   "cell_type": "code",
   "execution_count": 4,
   "metadata": {},
   "outputs": [],
   "source": [
    "cols = list(df.columns)\n",
    "cols.remove(\"User ID\")"
   ]
  },
  {
   "cell_type": "code",
   "execution_count": 5,
   "metadata": {
    "collapsed": false
   },
   "outputs": [
    {
     "name": "stderr",
     "output_type": "stream",
     "text": [
      "/Users/dorislee/.virtualenvs/py37env/lib/python3.7/site-packages/ipykernel_launcher.py:1: DeprecationWarning: \n",
      ".ix is deprecated. Please use\n",
      ".loc for label based indexing or\n",
      ".iloc for positional indexing\n",
      "\n",
      "See the documentation here:\n",
      "http://pandas.pydata.org/pandas-docs/stable/indexing.html#ix-indexer-is-deprecated\n",
      "  \"\"\"Entry point for launching an IPython kernel.\n"
     ]
    }
   ],
   "source": [
    "fdf = df[cols].ix[:user_idxs-1]"
   ]
  },
  {
   "cell_type": "code",
   "execution_count": 6,
   "metadata": {
    "collapsed": false
   },
   "outputs": [],
   "source": [
    "# fdf[fdf==0]=1\n",
    "fdf[fdf==\"P\"]=3\n",
    "fdf[fdf==\"E\"]=2\n",
    "fdf[fdf==\"N\"]=1"
   ]
  },
  {
   "cell_type": "code",
   "execution_count": 7,
   "metadata": {
    "collapsed": true
   },
   "outputs": [
    {
     "name": "stderr",
     "output_type": "stream",
     "text": [
      "/Users/dorislee/.virtualenvs/py37env/lib/python3.7/site-packages/ipykernel_launcher.py:1: FutureWarning: Method .as_matrix will be removed in a future version. Use .values instead.\n",
      "  \"\"\"Entry point for launching an IPython kernel.\n"
     ]
    }
   ],
   "source": [
    "fdfarr=fdf.as_matrix().astype(int)"
   ]
  },
  {
   "cell_type": "code",
   "execution_count": 8,
   "metadata": {},
   "outputs": [],
   "source": [
    "subject =[\"astro\",\"genetics\",\"matsci\"]"
   ]
  },
  {
   "cell_type": "code",
   "execution_count": 9,
   "metadata": {
    "collapsed": true
   },
   "outputs": [],
   "source": [
    "fdfarr=fdfarr.T"
   ]
  },
  {
   "cell_type": "code",
   "execution_count": 10,
   "metadata": {
    "collapsed": false
   },
   "outputs": [
    {
     "name": "stderr",
     "output_type": "stream",
     "text": [
      "/Users/dorislee/.virtualenvs/py37env/lib/python3.7/site-packages/matplotlib/figure.py:2299: UserWarning: This figure includes Axes that are not compatible with tight_layout, so results might be incorrect.\n",
      "  warnings.warn(\"This figure includes Axes that are not compatible \"\n"
     ]
    },
    {
     "data": {
      "image/png": "[encoded data removed]",
      "text/plain": [
       "<Figure size 432x288 with 2 Axes>"
      ]
     },
     "metadata": {},
     "output_type": "display_data"
    }
   ],
   "source": [
    "from mpl_toolkits.axes_grid1 import make_axes_locatable\n",
    "fig , ax = plt.subplots()\n",
    "cmap = cm.get_cmap('Blues',3) \n",
    "im=plt.imshow(fdfarr,interpolation=\"nearest\",cmap=cmap,vmin=1,vmax=3)\n",
    "# cbaxes = fig.add_axes([0.95, 0.1, 0.03, 0.8]) \n",
    "#cbar = plt.colorbar(cax = cbaxes)\n",
    "# cbar = plt.colorbar(location='bottom')\n",
    "\n",
    "# divider = make_axes_locatable(ax)\n",
    "# cax = divider.append_axes(\"bottom\", size=\"5%\", pad=0.05)\n",
    "pos=fig.add_axes([0.2,-0.03,0.5,0.03])\n",
    "cbar = fig.colorbar(im,cax=pos, orientation='horizontal')\n",
    "#cbar = fig.colorbar(im,fraction=0.05, ticks=[0,1,2], orientation='horizontal', pad=0.04) \n",
    "# cbar = plt.colorbar(orientation=\"horizontal\")\n",
    "\n",
    "ax.yaxis.set_ticks(range(len(cols)))\n",
    "ax.set_yticklabels(cols,rotation=0,fontsize=12)\n",
    "# ax.set_xticks([1,4,7])\n",
    "ax.xaxis.tick_top()\n",
    "# ax.set_xticklabels(subject,fontsize=12)\n",
    "ax.set_xticks([0.,1,2,3,4,5,6,7,8])\n",
    "ax.set_xticklabels(['A1','A2','A3','G1','G2','G3','M1','M2','M3'],fontsize=9)\n",
    "ax.text(0.3,-1.4,\"astro\",fontsize=12)\n",
    "ax.text(2.8,-1.4,\"genetics\",fontsize=12)\n",
    "ax.text(6,-1.4,\"matsci\",fontsize=12)\n",
    "ax.hlines(6.5,ax.get_xlim()[0],ax.get_xlim()[1])\n",
    "ax.hlines(9.5,ax.get_xlim()[0],ax.get_xlim()[1])\n",
    "\n",
    "ax.vlines(2.55,ax.get_ylim()[0],ax.get_ylim()[1])\n",
    "ax.vlines(5.5,ax.get_ylim()[0],ax.get_ylim()[1])\n",
    "\n",
    "cbar.ax.get_xaxis().set_ticks([])\n",
    "for j, lab in zip([0.15,0.5,0.85],['Not Useful','Envisioned','Practical']):\n",
    "    cbar.ax.text(j,-1.5, lab, ha='center', va='center',rotation=0,fontsize=12)\n",
    "\n",
    "ax.text(-1.6,0.75,\"Pattern Specification\",fontsize=10,rotation=90)\n",
    "ax.text(-1.6,7.5,\"Context\\nCreation\",fontsize=10,rotation=90)\n",
    "ax.text(-1.6,10.3,\"Data-driven\\nInquiry\",fontsize=10,rotation=90)\n",
    "ax.yaxis.tick_right()\n",
    "\n",
    "ax.tick_params(axis=u'both', which=u'both',length=0)\n",
    "fig.tight_layout()\n",
    "fig.savefig(\"PENcoding.pdf\", bbox_inches = 'tight')"
   ]
  },
  {
   "cell_type": "code",
   "execution_count": null,
   "metadata": {},
   "outputs": [],
   "source": []
  },
  {
   "cell_type": "code",
   "execution_count": null,
   "metadata": {},
   "outputs": [],
   "source": []
  },
  {
   "cell_type": "code",
   "execution_count": null,
   "metadata": {},
   "outputs": [],
   "source": []
  },
  {
   "cell_type": "code",
   "execution_count": null,
   "metadata": {},
   "outputs": [],
   "source": []
  }
 ],
 "metadata": {
  "kernelspec": {
   "display_name": "Python 3",
   "language": "python",
   "name": "python3"
  },
  "language_info": {
   "codemirror_mode": {
    "name": "ipython",
    "version": 3
   },
   "file_extension": ".py",
   "mimetype": "text/x-python",
   "name": "python",
   "nbconvert_exporter": "python",
   "pygments_lexer": "ipython3",
   "version": "3.7.0"
  }
 },
 "nbformat": 4,
 "nbformat_minor": 2
}
