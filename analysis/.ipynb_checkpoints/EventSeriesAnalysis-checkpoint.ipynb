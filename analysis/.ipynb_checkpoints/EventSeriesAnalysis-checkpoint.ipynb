{
 "cells": [
  {
   "cell_type": "code",
   "execution_count": 76,
   "metadata": {
    "collapsed": true
   },
   "outputs": [],
   "source": [
    "import pandas as pd"
   ]
  },
  {
   "cell_type": "code",
   "execution_count": 77,
   "metadata": {
    "collapsed": false
   },
   "outputs": [],
   "source": [
    "df = pd.read_csv(\"StudyEventTimeSeries.csv\")"
   ]
  },
  {
   "cell_type": "code",
   "execution_count": 78,
   "metadata": {},
   "outputs": [],
   "source": [
    "import numpy as np"
   ]
  },
  {
   "cell_type": "code",
   "execution_count": 79,
   "metadata": {},
   "outputs": [
    {
     "name": "stderr",
     "output_type": "stream",
     "text": [
      "/Users/dorislee/.virtualenvs/py37env/lib/python3.7/site-packages/ipykernel_launcher.py:1: FutureWarning: Method .as_matrix will be removed in a future version. Use .values instead.\n",
      "  \"\"\"Entry point for launching an IPython kernel.\n"
     ]
    }
   ],
   "source": [
    "codelist = list(set(df.as_matrix().flatten()))\n",
    "codelist.remove(np.nan)"
   ]
  },
  {
   "cell_type": "code",
   "execution_count": 116,
   "metadata": {},
   "outputs": [],
   "source": [
    "featureOnly= list(filter(lambda x: x.isupper(),codelist))\n",
    "themeOnly= list(filter(lambda x: x.islower(),codelist))"
   ]
  },
  {
   "cell_type": "code",
   "execution_count": 81,
   "metadata": {
    "collapsed": false
   },
   "outputs": [],
   "source": [
    "# df[\"t\"]=df.index"
   ]
  },
  {
   "cell_type": "code",
   "execution_count": 82,
   "metadata": {},
   "outputs": [],
   "source": [
    "df = df.stack().reset_index()"
   ]
  },
  {
   "cell_type": "code",
   "execution_count": 90,
   "metadata": {},
   "outputs": [],
   "source": [
    "df = df.rename(columns={\n",
    "    \"level_0\":\"t\",\n",
    "    \"level_1\":\"user\",\n",
    "    0:\"action\"\n",
    "})"
   ]
  },
  {
   "cell_type": "code",
   "execution_count": 91,
   "metadata": {
    "collapsed": false
   },
   "outputs": [],
   "source": [
    "import altair as alt"
   ]
  },
  {
   "cell_type": "code",
   "execution_count": 106,
   "metadata": {
    "collapsed": false
   },
   "outputs": [
    {
     "data": {
      "application/vnd.vegalite.v2+json": {
       "$schema": "https://vega.github.io/schema/vega-lite/v2.6.0.json",
       "config": {
        "view": {
         "height": 300,
         "width": 400
        }
       },
       "data": {
        "name": "data-3de1b3c744dc856cf304f7e3777e84ea"
       },
       "datasets": {
        "data-3de1b3c744dc856cf304f7e3777e84ea": [
         {
          "action": "filter",
          "t": 0,
          "user": "A1"
         },
         {
          "action": "representative-outliers",
          "t": 0,
          "user": "G2"
         },
         {
          "action": "PD",
          "t": 0,
          "user": "M1"
         },
         {
          "action": "filter",
          "t": 1,
          "user": "A1"
         },
         {
          "action": "IS",
          "t": 1,
          "user": "G2"
         },
         {
          "action": "sketch",
          "t": 1,
          "user": "M1"
         },
         {
          "action": "filter",
          "t": 2,
          "user": "A1"
         },
         {
          "action": "BR",
          "t": 2,
          "user": "G2"
         },
         {
          "action": "ignore-xrange",
          "t": 2,
          "user": "M1"
         },
         {
          "action": "filter",
          "t": 3,
          "user": "A1"
         },
         {
          "action": "representative-outliers",
          "t": 3,
          "user": "G2"
         },
         {
          "action": "C",
          "t": 3,
          "user": "M1"
         },
         {
          "action": "BR",
          "t": 4,
          "user": "A1"
         },
         {
          "action": "control-kmeans-clustersize",
          "t": 4,
          "user": "G2"
         },
         {
          "action": "change-axis",
          "t": 4,
          "user": "M1"
         },
         {
          "action": "IS",
          "t": 5,
          "user": "A1"
         },
         {
          "action": "representative-outliers",
          "t": 5,
          "user": "G2"
         },
         {
          "action": "W",
          "t": 5,
          "user": "M1"
         },
         {
          "action": "E",
          "t": 6,
          "user": "A1"
         },
         {
          "action": "filter",
          "t": 6,
          "user": "G2"
         },
         {
          "action": "W",
          "t": 6,
          "user": "M1"
         },
         {
          "action": "E",
          "t": 7,
          "user": "A1"
         },
         {
          "action": "C",
          "t": 7,
          "user": "G2"
         },
         {
          "action": "W",
          "t": 7,
          "user": "M1"
         },
         {
          "action": "drag-and-drop",
          "t": 8,
          "user": "A1"
         },
         {
          "action": "BR",
          "t": 8,
          "user": "G2"
         },
         {
          "action": "brush-xrange",
          "t": 8,
          "user": "M1"
         },
         {
          "action": "ID",
          "t": 9,
          "user": "A1"
         },
         {
          "action": "W",
          "t": 9,
          "user": "G2"
         },
         {
          "action": "change-axis",
          "t": 9,
          "user": "M1"
         },
         {
          "action": "filter",
          "t": 10,
          "user": "A1"
         },
         {
          "action": "drag-and-drop",
          "t": 10,
          "user": "G2"
         },
         {
          "action": "IS",
          "t": 10,
          "user": "M1"
         },
         {
          "action": "E",
          "t": 11,
          "user": "A1"
         },
         {
          "action": "W",
          "t": 11,
          "user": "G2"
         },
         {
          "action": "representative-outlier",
          "t": 11,
          "user": "M1"
         },
         {
          "action": "IS",
          "t": 12,
          "user": "A1"
         },
         {
          "action": "filter",
          "t": 12,
          "user": "G2"
         },
         {
          "action": "W",
          "t": 12,
          "user": "M1"
         },
         {
          "action": "PS",
          "t": 13,
          "user": "A1"
         },
         {
          "action": "PS",
          "t": 13,
          "user": "G2"
         },
         {
          "action": "PS",
          "t": 13,
          "user": "M1"
         },
         {
          "action": "E",
          "t": 14,
          "user": "A1"
         },
         {
          "action": "BR",
          "t": 14,
          "user": "G2"
         },
         {
          "action": "dynamic-class",
          "t": 14,
          "user": "M1"
         },
         {
          "action": "PS",
          "t": 15,
          "user": "A1"
         },
         {
          "action": "show-scatter",
          "t": 15,
          "user": "G2"
         },
         {
          "action": "PD",
          "t": 15,
          "user": "M1"
         },
         {
          "action": "PD",
          "t": 16,
          "user": "A1"
         },
         {
          "action": "ID",
          "t": 16,
          "user": "G2"
         },
         {
          "action": "IS",
          "t": 16,
          "user": "M1"
         },
         {
          "action": "reverse-y",
          "t": 17,
          "user": "A1"
         },
         {
          "action": "BR",
          "t": 17,
          "user": "G2"
         },
         {
          "action": "BR",
          "t": 17,
          "user": "M1"
         },
         {
          "action": "E",
          "t": 18,
          "user": "A1"
         },
         {
          "action": "sketch",
          "t": 18,
          "user": "G2"
         },
         {
          "action": "filter",
          "t": 18,
          "user": "M1"
         },
         {
          "action": "PS",
          "t": 19,
          "user": "A1"
         },
         {
          "action": "ID",
          "t": 19,
          "user": "G2"
         },
         {
          "action": "sketch",
          "t": 19,
          "user": "M1"
         },
         {
          "action": "BR",
          "t": 20,
          "user": "A1"
         },
         {
          "action": "W",
          "t": 20,
          "user": "G2"
         },
         {
          "action": "show-scatter",
          "t": 20,
          "user": "M1"
         },
         {
          "action": "drag-and-drop",
          "t": 21,
          "user": "A1"
         },
         {
          "action": "ignore-xrange",
          "t": 21,
          "user": "G2"
         },
         {
          "action": "W",
          "t": 21,
          "user": "M1"
         },
         {
          "action": "C",
          "t": 22,
          "user": "A1"
         },
         {
          "action": "sketch",
          "t": 22,
          "user": "G2"
         },
         {
          "action": "filter",
          "t": 22,
          "user": "M1"
         },
         {
          "action": "filter",
          "t": 23,
          "user": "A1"
         },
         {
          "action": "filter",
          "t": 23,
          "user": "G2"
         },
         {
          "action": "filter",
          "t": 23,
          "user": "M1"
         },
         {
          "action": "BR",
          "t": 24,
          "user": "A1"
         },
         {
          "action": "IS",
          "t": 24,
          "user": "G2"
         },
         {
          "action": "filter",
          "t": 24,
          "user": "M1"
         },
         {
          "action": "filter",
          "t": 25,
          "user": "A1"
         },
         {
          "action": "filter",
          "t": 25,
          "user": "G2"
         },
         {
          "action": "ID",
          "t": 25,
          "user": "M1"
         },
         {
          "action": "PS",
          "t": 26,
          "user": "A1"
         },
         {
          "action": "BR",
          "t": 26,
          "user": "G2"
         },
         {
          "action": "BR",
          "t": 26,
          "user": "M1"
         },
         {
          "action": "E",
          "t": 27,
          "user": "A1"
         },
         {
          "action": "filter",
          "t": 27,
          "user": "G2"
         },
         {
          "action": "W",
          "t": 27,
          "user": "M1"
         },
         {
          "action": "E",
          "t": 28,
          "user": "A1"
         },
         {
          "action": "PS",
          "t": 28,
          "user": "G2"
         },
         {
          "action": "E",
          "t": 28,
          "user": "M1"
         },
         {
          "action": "PS",
          "t": 29,
          "user": "A1"
         },
         {
          "action": "filter",
          "t": 29,
          "user": "G2"
         },
         {
          "action": "E",
          "t": 29,
          "user": "M1"
         },
         {
          "action": "brush-xrange",
          "t": 30,
          "user": "A1"
         },
         {
          "action": "W",
          "t": 30,
          "user": "G2"
         },
         {
          "action": "W",
          "t": 30,
          "user": "M1"
         },
         {
          "action": "W",
          "t": 31,
          "user": "A1"
         },
         {
          "action": "representative-outlier",
          "t": 31,
          "user": "G2"
         },
         {
          "action": "E",
          "t": 31,
          "user": "M1"
         },
         {
          "action": "ID",
          "t": 32,
          "user": "A1"
         },
         {
          "action": "smoothing",
          "t": 32,
          "user": "G2"
         },
         {
          "action": "W",
          "t": 33,
          "user": "A1"
         },
         {
          "action": "smoothing-control",
          "t": 33,
          "user": "G2"
         },
         {
          "action": "W",
          "t": 34,
          "user": "A1"
         },
         {
          "action": "pattern-upload",
          "t": 34,
          "user": "G2"
         },
         {
          "action": "ID",
          "t": 35,
          "user": "A1"
         },
         {
          "action": "PD",
          "t": 35,
          "user": "G2"
         },
         {
          "action": "BR",
          "t": 36,
          "user": "A1"
         },
         {
          "action": "E",
          "t": 36,
          "user": "G2"
         },
         {
          "action": "filter",
          "t": 37,
          "user": "A1"
         },
         {
          "action": "filter",
          "t": 37,
          "user": "G2"
         },
         {
          "action": "filter",
          "t": 38,
          "user": "A1"
         },
         {
          "action": "drag-and-drop",
          "t": 38,
          "user": "G2"
         },
         {
          "action": "smoothing",
          "t": 39,
          "user": "A1"
         },
         {
          "action": "IS",
          "t": 39,
          "user": "G2"
         },
         {
          "action": "sketch",
          "t": 40,
          "user": "A1"
         },
         {
          "action": "W",
          "t": 40,
          "user": "G2"
         },
         {
          "action": "sketch",
          "t": 41,
          "user": "A1"
         },
         {
          "action": "Export",
          "t": 41,
          "user": "G2"
         },
         {
          "action": "filter",
          "t": 42,
          "user": "A1"
         },
         {
          "action": "representative-outlier",
          "t": 42,
          "user": "G2"
         },
         {
          "action": "E",
          "t": 43,
          "user": "A1"
         },
         {
          "action": "ID",
          "t": 43,
          "user": "G2"
         },
         {
          "action": "PS",
          "t": 44,
          "user": "A1"
         },
         {
          "action": "Export",
          "t": 44,
          "user": "G2"
         },
         {
          "action": "W",
          "t": 45,
          "user": "A1"
         },
         {
          "action": "brush-xrange",
          "t": 45,
          "user": "G2"
         },
         {
          "action": "W",
          "t": 46,
          "user": "A1"
         },
         {
          "action": "PS",
          "t": 46,
          "user": "G2"
         },
         {
          "action": "W",
          "t": 47,
          "user": "A1"
         },
         {
          "action": "upload-dataset",
          "t": 47,
          "user": "G2"
         },
         {
          "action": "IS",
          "t": 48,
          "user": "A1"
         },
         {
          "action": "smoothing",
          "t": 48,
          "user": "G2"
         },
         {
          "action": "BR",
          "t": 49,
          "user": "A1"
         },
         {
          "action": "control-kmeans-clustersize",
          "t": 49,
          "user": "G2"
         },
         {
          "action": "dynamic-class",
          "t": 50,
          "user": "A1"
         },
         {
          "action": "representative-outlier",
          "t": 50,
          "user": "G2"
         },
         {
          "action": "dynamic-class",
          "t": 51,
          "user": "A1"
         },
         {
          "action": "ID",
          "t": 51,
          "user": "G2"
         },
         {
          "action": "W",
          "t": 52,
          "user": "A1"
         },
         {
          "action": "ID",
          "t": 52,
          "user": "G2"
         },
         {
          "action": "dynamic-class",
          "t": 53,
          "user": "A1"
         },
         {
          "action": "PS",
          "t": 53,
          "user": "G2"
         },
         {
          "action": "BR",
          "t": 54,
          "user": "A1"
         },
         {
          "action": "filter",
          "t": 55,
          "user": "A1"
         },
         {
          "action": "E",
          "t": 56,
          "user": "A1"
         },
         {
          "action": "ID",
          "t": 57,
          "user": "A1"
         },
         {
          "action": "pattern-upload",
          "t": 58,
          "user": "A1"
         },
         {
          "action": "export",
          "t": 59,
          "user": "A1"
         },
         {
          "action": "W",
          "t": 60,
          "user": "A1"
         },
         {
          "action": "dynamic-class",
          "t": 61,
          "user": "A1"
         },
         {
          "action": "BR",
          "t": 62,
          "user": "A1"
         },
         {
          "action": "filter",
          "t": 63,
          "user": "A1"
         },
         {
          "action": "E",
          "t": 64,
          "user": "A1"
         },
         {
          "action": "ID",
          "t": 65,
          "user": "A1"
         },
         {
          "action": "pattern-upload",
          "t": 66,
          "user": "A1"
         },
         {
          "action": "export",
          "t": 67,
          "user": "A1"
         },
         {
          "action": "W",
          "t": 68,
          "user": "A1"
         }
        ]
       },
       "encoding": {
        "color": {
         "field": "action",
         "type": "nominal"
        },
        "x": {
         "field": "t",
         "type": "quantitative"
        },
        "y": {
         "field": "user",
         "type": "nominal"
        }
       },
       "mark": "circle"
      },
      "image/png": "[encoded data removed]",
      "text/plain": [
       "<VegaLite 2 object>\n",
       "\n",
       "If you see this message, it means the renderer has not been properly enabled\n",
       "for the frontend that you are using. For more information, see\n",
       "https://altair-viz.github.io/user_guide/troubleshooting.html\n"
      ]
     },
     "execution_count": 106,
     "metadata": {},
     "output_type": "execute_result"
    }
   ],
   "source": [
    "alt.Chart(df).mark_circle().encode(        \n",
    "    color='action',\n",
    "    y=\"user\",\n",
    "    x='t'\n",
    ")"
   ]
  },
  {
   "cell_type": "code",
   "execution_count": 125,
   "metadata": {},
   "outputs": [
    {
     "data": {
      "application/vnd.vegalite.v2+json": {
       "$schema": "https://vega.github.io/schema/vega-lite/v2.6.0.json",
       "config": {
        "view": {
         "height": 300,
         "width": 400
        }
       },
       "data": {
        "name": "data-f6a96643332285aba4e7edd883edf78d"
       },
       "datasets": {
        "data-f6a96643332285aba4e7edd883edf78d": [
         {
          "action": "PD",
          "t": 0,
          "user": "M1"
         },
         {
          "action": "IS",
          "t": 1,
          "user": "G2"
         },
         {
          "action": "BR",
          "t": 2,
          "user": "G2"
         },
         {
          "action": "C",
          "t": 3,
          "user": "M1"
         },
         {
          "action": "BR",
          "t": 4,
          "user": "A1"
         },
         {
          "action": "IS",
          "t": 5,
          "user": "A1"
         },
         {
          "action": "W",
          "t": 5,
          "user": "M1"
         },
         {
          "action": "E",
          "t": 6,
          "user": "A1"
         },
         {
          "action": "W",
          "t": 6,
          "user": "M1"
         },
         {
          "action": "E",
          "t": 7,
          "user": "A1"
         },
         {
          "action": "C",
          "t": 7,
          "user": "G2"
         },
         {
          "action": "W",
          "t": 7,
          "user": "M1"
         },
         {
          "action": "BR",
          "t": 8,
          "user": "G2"
         },
         {
          "action": "ID",
          "t": 9,
          "user": "A1"
         },
         {
          "action": "W",
          "t": 9,
          "user": "G2"
         },
         {
          "action": "IS",
          "t": 10,
          "user": "M1"
         },
         {
          "action": "E",
          "t": 11,
          "user": "A1"
         },
         {
          "action": "W",
          "t": 11,
          "user": "G2"
         },
         {
          "action": "IS",
          "t": 12,
          "user": "A1"
         },
         {
          "action": "W",
          "t": 12,
          "user": "M1"
         },
         {
          "action": "PS",
          "t": 13,
          "user": "A1"
         },
         {
          "action": "PS",
          "t": 13,
          "user": "G2"
         },
         {
          "action": "PS",
          "t": 13,
          "user": "M1"
         },
         {
          "action": "E",
          "t": 14,
          "user": "A1"
         },
         {
          "action": "BR",
          "t": 14,
          "user": "G2"
         },
         {
          "action": "PS",
          "t": 15,
          "user": "A1"
         },
         {
          "action": "PD",
          "t": 15,
          "user": "M1"
         },
         {
          "action": "PD",
          "t": 16,
          "user": "A1"
         },
         {
          "action": "ID",
          "t": 16,
          "user": "G2"
         },
         {
          "action": "IS",
          "t": 16,
          "user": "M1"
         },
         {
          "action": "BR",
          "t": 17,
          "user": "G2"
         },
         {
          "action": "BR",
          "t": 17,
          "user": "M1"
         },
         {
          "action": "E",
          "t": 18,
          "user": "A1"
         },
         {
          "action": "PS",
          "t": 19,
          "user": "A1"
         },
         {
          "action": "ID",
          "t": 19,
          "user": "G2"
         },
         {
          "action": "BR",
          "t": 20,
          "user": "A1"
         },
         {
          "action": "W",
          "t": 20,
          "user": "G2"
         },
         {
          "action": "W",
          "t": 21,
          "user": "M1"
         },
         {
          "action": "C",
          "t": 22,
          "user": "A1"
         },
         {
          "action": "BR",
          "t": 24,
          "user": "A1"
         },
         {
          "action": "IS",
          "t": 24,
          "user": "G2"
         },
         {
          "action": "ID",
          "t": 25,
          "user": "M1"
         },
         {
          "action": "PS",
          "t": 26,
          "user": "A1"
         },
         {
          "action": "BR",
          "t": 26,
          "user": "G2"
         },
         {
          "action": "BR",
          "t": 26,
          "user": "M1"
         },
         {
          "action": "E",
          "t": 27,
          "user": "A1"
         },
         {
          "action": "W",
          "t": 27,
          "user": "M1"
         },
         {
          "action": "E",
          "t": 28,
          "user": "A1"
         },
         {
          "action": "PS",
          "t": 28,
          "user": "G2"
         },
         {
          "action": "E",
          "t": 28,
          "user": "M1"
         },
         {
          "action": "PS",
          "t": 29,
          "user": "A1"
         },
         {
          "action": "E",
          "t": 29,
          "user": "M1"
         },
         {
          "action": "W",
          "t": 30,
          "user": "G2"
         },
         {
          "action": "W",
          "t": 30,
          "user": "M1"
         },
         {
          "action": "W",
          "t": 31,
          "user": "A1"
         },
         {
          "action": "E",
          "t": 31,
          "user": "M1"
         },
         {
          "action": "ID",
          "t": 32,
          "user": "A1"
         },
         {
          "action": "W",
          "t": 33,
          "user": "A1"
         },
         {
          "action": "W",
          "t": 34,
          "user": "A1"
         },
         {
          "action": "ID",
          "t": 35,
          "user": "A1"
         },
         {
          "action": "PD",
          "t": 35,
          "user": "G2"
         },
         {
          "action": "BR",
          "t": 36,
          "user": "A1"
         },
         {
          "action": "E",
          "t": 36,
          "user": "G2"
         },
         {
          "action": "IS",
          "t": 39,
          "user": "G2"
         },
         {
          "action": "W",
          "t": 40,
          "user": "G2"
         },
         {
          "action": "E",
          "t": 43,
          "user": "A1"
         },
         {
          "action": "ID",
          "t": 43,
          "user": "G2"
         },
         {
          "action": "PS",
          "t": 44,
          "user": "A1"
         },
         {
          "action": "W",
          "t": 45,
          "user": "A1"
         },
         {
          "action": "W",
          "t": 46,
          "user": "A1"
         },
         {
          "action": "PS",
          "t": 46,
          "user": "G2"
         },
         {
          "action": "W",
          "t": 47,
          "user": "A1"
         },
         {
          "action": "IS",
          "t": 48,
          "user": "A1"
         },
         {
          "action": "BR",
          "t": 49,
          "user": "A1"
         },
         {
          "action": "ID",
          "t": 51,
          "user": "G2"
         },
         {
          "action": "W",
          "t": 52,
          "user": "A1"
         },
         {
          "action": "ID",
          "t": 52,
          "user": "G2"
         },
         {
          "action": "PS",
          "t": 53,
          "user": "G2"
         },
         {
          "action": "BR",
          "t": 54,
          "user": "A1"
         },
         {
          "action": "E",
          "t": 56,
          "user": "A1"
         },
         {
          "action": "ID",
          "t": 57,
          "user": "A1"
         },
         {
          "action": "W",
          "t": 60,
          "user": "A1"
         },
         {
          "action": "BR",
          "t": 62,
          "user": "A1"
         },
         {
          "action": "E",
          "t": 64,
          "user": "A1"
         },
         {
          "action": "ID",
          "t": 65,
          "user": "A1"
         },
         {
          "action": "W",
          "t": 68,
          "user": "A1"
         }
        ]
       },
       "encoding": {
        "color": {
         "field": "action",
         "type": "nominal"
        },
        "x": {
         "field": "t",
         "type": "quantitative"
        },
        "y": {
         "field": "user",
         "type": "nominal"
        }
       },
       "mark": "circle"
      },
      "image/png": "[encoded data removed]",
      "text/plain": [
       "<VegaLite 2 object>\n",
       "\n",
       "If you see this message, it means the renderer has not been properly enabled\n",
       "for the frontend that you are using. For more information, see\n",
       "https://altair-viz.github.io/user_guide/troubleshooting.html\n"
      ]
     },
     "execution_count": 125,
     "metadata": {},
     "output_type": "execute_result"
    }
   ],
   "source": [
    "df_action = df[df.action.isin(featureOnly)]\n",
    "alt.Chart(df_action).mark_circle().encode(        \n",
    "    color='action',\n",
    "    y=\"user\",\n",
    "    x='t'\n",
    ")"
   ]
  },
  {
   "cell_type": "code",
   "execution_count": 126,
   "metadata": {
    "collapsed": true
   },
   "outputs": [
    {
     "data": {
      "application/vnd.vegalite.v2+json": {
       "$schema": "https://vega.github.io/schema/vega-lite/v2.6.0.json",
       "config": {
        "view": {
         "height": 300,
         "width": 400
        }
       },
       "data": {
        "name": "data-489907108e375ffafabc38970e6211da"
       },
       "datasets": {
        "data-489907108e375ffafabc38970e6211da": [
         {
          "action": "filter",
          "t": 0,
          "user": "A1"
         },
         {
          "action": "representative-outliers",
          "t": 0,
          "user": "G2"
         },
         {
          "action": "filter",
          "t": 1,
          "user": "A1"
         },
         {
          "action": "sketch",
          "t": 1,
          "user": "M1"
         },
         {
          "action": "filter",
          "t": 2,
          "user": "A1"
         },
         {
          "action": "ignore-xrange",
          "t": 2,
          "user": "M1"
         },
         {
          "action": "filter",
          "t": 3,
          "user": "A1"
         },
         {
          "action": "representative-outliers",
          "t": 3,
          "user": "G2"
         },
         {
          "action": "control-kmeans-clustersize",
          "t": 4,
          "user": "G2"
         },
         {
          "action": "change-axis",
          "t": 4,
          "user": "M1"
         },
         {
          "action": "representative-outliers",
          "t": 5,
          "user": "G2"
         },
         {
          "action": "filter",
          "t": 6,
          "user": "G2"
         },
         {
          "action": "drag-and-drop",
          "t": 8,
          "user": "A1"
         },
         {
          "action": "brush-xrange",
          "t": 8,
          "user": "M1"
         },
         {
          "action": "change-axis",
          "t": 9,
          "user": "M1"
         },
         {
          "action": "filter",
          "t": 10,
          "user": "A1"
         },
         {
          "action": "drag-and-drop",
          "t": 10,
          "user": "G2"
         },
         {
          "action": "representative-outlier",
          "t": 11,
          "user": "M1"
         },
         {
          "action": "filter",
          "t": 12,
          "user": "G2"
         },
         {
          "action": "dynamic-class",
          "t": 14,
          "user": "M1"
         },
         {
          "action": "show-scatter",
          "t": 15,
          "user": "G2"
         },
         {
          "action": "reverse-y",
          "t": 17,
          "user": "A1"
         },
         {
          "action": "sketch",
          "t": 18,
          "user": "G2"
         },
         {
          "action": "filter",
          "t": 18,
          "user": "M1"
         },
         {
          "action": "sketch",
          "t": 19,
          "user": "M1"
         },
         {
          "action": "show-scatter",
          "t": 20,
          "user": "M1"
         },
         {
          "action": "drag-and-drop",
          "t": 21,
          "user": "A1"
         },
         {
          "action": "ignore-xrange",
          "t": 21,
          "user": "G2"
         },
         {
          "action": "sketch",
          "t": 22,
          "user": "G2"
         },
         {
          "action": "filter",
          "t": 22,
          "user": "M1"
         },
         {
          "action": "filter",
          "t": 23,
          "user": "A1"
         },
         {
          "action": "filter",
          "t": 23,
          "user": "G2"
         },
         {
          "action": "filter",
          "t": 23,
          "user": "M1"
         },
         {
          "action": "filter",
          "t": 24,
          "user": "M1"
         },
         {
          "action": "filter",
          "t": 25,
          "user": "A1"
         },
         {
          "action": "filter",
          "t": 25,
          "user": "G2"
         },
         {
          "action": "filter",
          "t": 27,
          "user": "G2"
         },
         {
          "action": "filter",
          "t": 29,
          "user": "G2"
         },
         {
          "action": "brush-xrange",
          "t": 30,
          "user": "A1"
         },
         {
          "action": "representative-outlier",
          "t": 31,
          "user": "G2"
         },
         {
          "action": "smoothing",
          "t": 32,
          "user": "G2"
         },
         {
          "action": "smoothing-control",
          "t": 33,
          "user": "G2"
         },
         {
          "action": "pattern-upload",
          "t": 34,
          "user": "G2"
         },
         {
          "action": "filter",
          "t": 37,
          "user": "A1"
         },
         {
          "action": "filter",
          "t": 37,
          "user": "G2"
         },
         {
          "action": "filter",
          "t": 38,
          "user": "A1"
         },
         {
          "action": "drag-and-drop",
          "t": 38,
          "user": "G2"
         },
         {
          "action": "smoothing",
          "t": 39,
          "user": "A1"
         },
         {
          "action": "sketch",
          "t": 40,
          "user": "A1"
         },
         {
          "action": "sketch",
          "t": 41,
          "user": "A1"
         },
         {
          "action": "Export",
          "t": 41,
          "user": "G2"
         },
         {
          "action": "filter",
          "t": 42,
          "user": "A1"
         },
         {
          "action": "representative-outlier",
          "t": 42,
          "user": "G2"
         },
         {
          "action": "Export",
          "t": 44,
          "user": "G2"
         },
         {
          "action": "brush-xrange",
          "t": 45,
          "user": "G2"
         },
         {
          "action": "upload-dataset",
          "t": 47,
          "user": "G2"
         },
         {
          "action": "smoothing",
          "t": 48,
          "user": "G2"
         },
         {
          "action": "control-kmeans-clustersize",
          "t": 49,
          "user": "G2"
         },
         {
          "action": "dynamic-class",
          "t": 50,
          "user": "A1"
         },
         {
          "action": "representative-outlier",
          "t": 50,
          "user": "G2"
         },
         {
          "action": "dynamic-class",
          "t": 51,
          "user": "A1"
         },
         {
          "action": "dynamic-class",
          "t": 53,
          "user": "A1"
         },
         {
          "action": "filter",
          "t": 55,
          "user": "A1"
         },
         {
          "action": "pattern-upload",
          "t": 58,
          "user": "A1"
         },
         {
          "action": "export",
          "t": 59,
          "user": "A1"
         },
         {
          "action": "dynamic-class",
          "t": 61,
          "user": "A1"
         },
         {
          "action": "filter",
          "t": 63,
          "user": "A1"
         },
         {
          "action": "pattern-upload",
          "t": 66,
          "user": "A1"
         },
         {
          "action": "export",
          "t": 67,
          "user": "A1"
         }
        ]
       },
       "encoding": {
        "color": {
         "field": "action",
         "type": "nominal"
        },
        "x": {
         "field": "t",
         "type": "quantitative"
        },
        "y": {
         "field": "user",
         "type": "nominal"
        }
       },
       "mark": "circle"
      },
      "image/png": "[encoded data removed]",
      "text/plain": [
       "<VegaLite 2 object>\n",
       "\n",
       "If you see this message, it means the renderer has not been properly enabled\n",
       "for the frontend that you are using. For more information, see\n",
       "https://altair-viz.github.io/user_guide/troubleshooting.html\n"
      ]
     },
     "execution_count": 126,
     "metadata": {},
     "output_type": "execute_result"
    }
   ],
   "source": [
    "df_feature = df[~df.action.isin(featureOnly)]\n",
    "alt.Chart(df_feature).mark_circle().encode(        \n",
    "    color='action',\n",
    "    y=\"user\",\n",
    "    x='t'\n",
    ")"
   ]
  },
  {
   "cell_type": "code",
   "execution_count": null,
   "metadata": {},
   "outputs": [],
   "source": []
  }
 ],
 "metadata": {
  "kernelspec": {
   "display_name": "Python 3",
   "language": "python",
   "name": "python3"
  },
  "language_info": {
   "codemirror_mode": {
    "name": "ipython",
    "version": 3
   },
   "file_extension": ".py",
   "mimetype": "text/x-python",
   "name": "python",
   "nbconvert_exporter": "python",
   "pygments_lexer": "ipython3",
   "version": "3.7.0"
  }
 },
 "nbformat": 4,
 "nbformat_minor": 2
}
