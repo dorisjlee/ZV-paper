{
 "cells": [
  {
   "cell_type": "code",
   "execution_count": 1,
   "metadata": {
    "collapsed": false
   },
   "outputs": [
    {
     "name": "stdout",
     "output_type": "stream",
     "text": [
      "Populating the interactive namespace from numpy and matplotlib\n"
     ]
    }
   ],
   "source": [
    "%pylab inline"
   ]
  },
  {
   "cell_type": "code",
   "execution_count": 2,
   "metadata": {
    "collapsed": true
   },
   "outputs": [],
   "source": [
    "import pandas as pd\n",
    "# import seaborn as sns"
   ]
  },
  {
   "cell_type": "markdown",
   "metadata": {},
   "source": [
    "#### 1. Heatmap of normalized number of code counts"
   ]
  },
  {
   "cell_type": "code",
   "execution_count": 3,
   "metadata": {
    "collapsed": true
   },
   "outputs": [],
   "source": [
    "df = pd.read_csv(\"ActionCode.csv\").fillna(0)\n",
    "user_idxs = 9 # user index up to 9th user"
   ]
  },
  {
   "cell_type": "code",
   "execution_count": 4,
   "metadata": {
    "collapsed": false
   },
   "outputs": [],
   "source": [
    "cols = ['[IS] : Insight (Science) ', '[ID] : Insight(Data) ','[PS] : Provoke (Science)', '[PD] : Provoke (Data)',\\\n",
    " '[C] : Confusion', u'[W]: additional things that user wants','[E] : External Tools']\n",
    "col_keys=['IS','ID','PS','PD','C','W','E']\n",
    "subject=['astro','bio','matsci']"
   ]
  },
  {
   "cell_type": "code",
   "execution_count": 5,
   "metadata": {
    "collapsed": false
   },
   "outputs": [],
   "source": [
    "heatmap = []\n",
    "for uid in range(user_idxs):\n",
    "    heatmap.append(df[cols].ix[uid].as_matrix().astype(int))\n",
    "heatmap = np.array(heatmap)"
   ]
  },
  {
   "cell_type": "code",
   "execution_count": 6,
   "metadata": {
    "collapsed": false
   },
   "outputs": [
    {
     "name": "stderr",
     "output_type": "stream",
     "text": [
      "/Users/dorislee/.virtualenvs/py27dev/lib/python2.7/site-packages/matplotlib/font_manager.py:1236: UserWarning: findfont: Font family ['Helvetica'] not found. Falling back to Bitstream Vera Sans\n",
      "  (prop.get_family(), self.defaultFamily[fontext]))\n"
     ]
    },
    {
     "data": {
      "image/png": "[encoded data removed]",
      "text/plain": [
       "<matplotlib.figure.Figure at 0x108ba0e90>"
      ]
     },
     "metadata": {},
     "output_type": "display_data"
    }
   ],
   "source": [
    "fig , ax = plt.subplots()\n",
    "# font = {'family': 'Helvetica',\n",
    "#         'size': 12,\n",
    "#         }\n",
    "plt.rcParams['font.family'] = 'Helvetica'\n",
    "# plt.imshow(heatmap,interpolation=\"nearest\",cmap=\"Blues\",norm=)\n",
    "cmap = plt.cm.Blues\n",
    "bounds = np.linspace(0,heatmap.max(),heatmap.max()+1)\n",
    "norm = mpl.colors.BoundaryNorm(bounds, cmap.N)\n",
    "plt.imshow(heatmap,interpolation=\"nearest\",cmap=\"Blues\",norm=norm)\n",
    "# create a second axes for the colorbar\n",
    "ax2 = fig.add_axes([0.75, 0.1, 0.03, 0.8])\n",
    "cb = mpl.colorbar.ColorbarBase(ax2, cmap=cmap, norm=norm, spacing='proportional', ticks=bounds, boundaries=bounds, format='%1i')\n",
    "\n",
    "cb.set_label('# of actions',fontsize=12)\n",
    "ax.set_xticklabels(['']+col_keys,fontsize=12)\n",
    "# ax.set_yticks([1,4,7])\n",
    "# ax.set_yticklabels(subject,rotation=90,fontsize=12)\n",
    "ax.set_yticks([0.,1,2,3,4,5,6,7,8])\n",
    "ax.set_yticklabels(['A1','A2','A3','G1','G2','G3','M1','M2','M3'],fontsize=9)\n",
    "\n",
    "ax.hlines(2.45,ax.get_xlim()[0],ax.get_xlim()[1])\n",
    "ax.hlines(5.45,ax.get_xlim()[0],ax.get_xlim()[1])\n",
    "\n",
    "ax.text(-1.7,0.7,\"astro\",fontsize=12,rotation=90)\n",
    "ax.text(-1.7,3.5,\"genetics\",fontsize=12,rotation=90)\n",
    "ax.text(-1.7,6.5,\"matsci\",fontsize=12,rotation=90)\n",
    "\n",
    "ax.tick_params(axis=u'both', which=u'both',length=0)\n",
    "fig.savefig(\"result1.pdf\", bbox_inches = 'tight')"
   ]
  },
  {
   "cell_type": "code",
   "execution_count": 7,
   "metadata": {
    "collapsed": false
   },
   "outputs": [],
   "source": [
    "heatmap = []\n",
    "for uid in range(user_idxs):\n",
    "    if float(df[\"Total Counts\"].ix[uid])==0:\n",
    "        heatmap.append(df[cols].ix[uid].as_matrix().astype(int))\n",
    "    else:\n",
    "        heatmap.append(df[cols].ix[uid].as_matrix().astype(int)/float(df[\"Total Counts\"].ix[uid])*100)\n",
    "heatmap = np.array(heatmap)"
   ]
  },
  {
   "cell_type": "code",
   "execution_count": 8,
   "metadata": {
    "collapsed": false
   },
   "outputs": [
    {
     "data": {
      "image/png": "[encoded data removed]",
      "text/plain": [
       "<matplotlib.figure.Figure at 0x108d316d0>"
      ]
     },
     "metadata": {},
     "output_type": "display_data"
    }
   ],
   "source": [
    "fig , ax = plt.subplots()\n",
    "# font = {'family': 'Helvetica',\n",
    "#         'size': 12,\n",
    "#         }\n",
    "plt.rcParams['font.family'] = 'Helvetica'\n",
    "plt.imshow(heatmap,interpolation=\"nearest\",cmap=\"Blues\")\n",
    "cbar = plt.colorbar()\n",
    "cbar.set_label('% of actions',fontsize=12)\n",
    "ax.set_xticklabels(['']+col_keys,fontsize=12)\n",
    "ax.set_yticks([0.,1,2,3,4,5,6,7,8])\n",
    "ax.set_yticklabels(['A1','A2','A3','G1','G2','G3','M1','M2','M3'],fontsize=9)\n",
    "plt.hlines(2.45,plt.xlim()[0],plt.xlim()[1])\n",
    "plt.hlines(5.45,plt.xlim()[0],plt.xlim()[1])\n",
    "ax.tick_params(axis=u'both', which=u'both',length=0)\n",
    "ax.set_yticks([0.,1,2,3,4,5,6,7,8])\n",
    "ax.set_yticklabels(['A1','A2','A3','G1','G2','G3','M1','M2','M3'],fontsize=9)\n",
    "\n",
    "ax.hlines(2.45,ax.get_xlim()[0],ax.get_xlim()[1])\n",
    "ax.hlines(5.45,ax.get_xlim()[0],ax.get_xlim()[1])\n",
    "\n",
    "ax.text(-1.7,0.7,\"astro\",fontsize=12,rotation=90)\n",
    "ax.text(-1.7,3.5,\"genetics\",fontsize=12,rotation=90)\n",
    "ax.text(-1.7,6.5,\"matsci\",fontsize=12,rotation=90)\n",
    "\n",
    "ax.tick_params(axis=u'both', which=u'both',length=0)\n",
    "fig.savefig(\"result1.pdf\", bbox_inches = 'tight')"
   ]
  },
  {
   "cell_type": "markdown",
   "metadata": {},
   "source": [
    "#### 2.  Heatmap of row as users, columns as features, colored by P,E,N, where row is clustered by subject area."
   ]
  },
  {
   "cell_type": "code",
   "execution_count": 9,
   "metadata": {
    "collapsed": true
   },
   "outputs": [],
   "source": [
    "df = pd.read_csv(\"FeatureCount.csv\").fillna(0)\n",
    "user_idxs = 9 # user index up to 9th user"
   ]
  },
  {
   "cell_type": "code",
   "execution_count": 10,
   "metadata": {
    "collapsed": true
   },
   "outputs": [],
   "source": [
    "# features = ['Query by sketching', u'Query by input equations',u'Query by drag-and-drop', u'Query by pattern loading',\n",
    "#             'Representative and Outliers','Narrow or ignore x-range', 'Filter',\n",
    "#             'Data Smoothing', 'Dynamic Class', 'Export', 'ZQL','Display settings','Control Settings']"
   ]
  },
  {
   "cell_type": "code",
   "execution_count": 11,
   "metadata": {
    "collapsed": true
   },
   "outputs": [],
   "source": [
    "features = ['Representative and Outliers', 'ZQL','Query by drag-and-drop', u'Query by pattern loading',\n",
    " 'Query modification by sketch','Query by sketching', u'Query by input equations','Narrow or ignore x-range', 'Filter','Dynamic Class',\n",
    " 'Data Smoothing','Display settings','Control Settings','Export']"
   ]
  },
  {
   "cell_type": "code",
   "execution_count": 12,
   "metadata": {
    "collapsed": false
   },
   "outputs": [],
   "source": [
    "fdf = df[features].ix[:user_idxs-1]"
   ]
  },
  {
   "cell_type": "code",
   "execution_count": 13,
   "metadata": {
    "collapsed": false
   },
   "outputs": [],
   "source": [
    "# fdf[fdf==0]=1\n",
    "fdf[fdf==\"P\"]=3\n",
    "fdf[fdf==\"E\"]=2\n",
    "fdf[fdf==\"N\"]=1"
   ]
  },
  {
   "cell_type": "code",
   "execution_count": 14,
   "metadata": {
    "collapsed": true
   },
   "outputs": [],
   "source": [
    "fdfarr=fdf.as_matrix().astype(int)"
   ]
  },
  {
   "cell_type": "code",
   "execution_count": 15,
   "metadata": {
    "collapsed": false
   },
   "outputs": [
    {
     "data": {
      "text/plain": [
       "[(1.3, 'Practical Usage'), (2, 'Envisioned Usage'), (2.8, 'No Usage')]"
      ]
     },
     "execution_count": 15,
     "metadata": {},
     "output_type": "execute_result"
    }
   ],
   "source": [
    "zip([1.3,2,2.8],['Practical Usage','Envisioned Usage','No Usage'])"
   ]
  },
  {
   "cell_type": "code",
   "execution_count": 16,
   "metadata": {
    "collapsed": true
   },
   "outputs": [],
   "source": [
    "# feature_labels = ['Sketching', u'Input equations',u'Drag-and-drop', u'Pattern loading',\n",
    "#             'Representative & Outliers','Narrow or ignore x-range', 'Filter Constraint',\n",
    "#             'Data Smoothing', 'Dynamic Class', 'Export', 'ZQL','Displays settings','Controls Settings']\n",
    "feature_labels = ['Representative\\n & Outliers', 'ZQL','Drag-and-drop', u'Pattern loading',\n",
    "'Sketch-to-modify', 'Sketch-to-query', u'Input equations','Narrow or \\n ignore x-range', 'Filter Constraint','Dynamic Class',\n",
    " 'Data Smoothing','Displays settings','Control Settings','Export']"
   ]
  },
  {
   "cell_type": "code",
   "execution_count": 17,
   "metadata": {
    "collapsed": false
   },
   "outputs": [
    {
     "data": {
      "image/png": "[encoded data removed]",
      "text/plain": [
       "<matplotlib.figure.Figure at 0x109033850>"
      ]
     },
     "metadata": {},
     "output_type": "display_data"
    }
   ],
   "source": [
    "fig , ax = plt.subplots()\n",
    "cmap = cm.get_cmap('Blues',3) \n",
    "plt.imshow(fdfarr,interpolation=\"nearest\",cmap=cmap,vmin=1,vmax=3)\n",
    "cbar = plt.colorbar()\n",
    "# cbar.set_label('% of actions')\n",
    "ax.xaxis.set_ticks(range(len(features)))\n",
    "ax.set_xticklabels(feature_labels,rotation=90,fontsize=10)\n",
    "ax.set_yticks([1,4,7])\n",
    "ax.set_yticklabels(subject,rotation=90,fontsize=12)\n",
    "plt.hlines(2.45,plt.xlim()[0],plt.xlim()[1])\n",
    "plt.hlines(5.45,plt.xlim()[0],plt.xlim()[1])\n",
    "\n",
    "plt.vlines(3.5,plt.ylim()[0],plt.ylim()[1])\n",
    "plt.vlines(8.5,plt.ylim()[0],plt.ylim()[1])\n",
    "# bounds=[0.,1.,2.,3.]\n",
    "# bounds = np.linspace(0,20,21)\n",
    "# norm = mpl.colors.BoundaryNorm(bounds, cm.Blues)\n",
    "# ax2 = fig.add_axes([0.95, 0.1, 0.03, 0.8])\n",
    "# cb = mpl.colorbar.ColorbarBase(ax2, cmap=plt.cm.Blues, norm=norm, spacing='proportional', ticks=bounds, boundaries=bounds, format='%1i')\n",
    "cbar.ax.get_yaxis().set_ticks([])\n",
    "for j, lab in zip([0.15,0.5,0.85],['Not Useful','Envisioned','Practical']):\n",
    "    cbar.ax.text(1.9, j, lab, ha='center', va='center',rotation=270,fontsize=12)\n",
    "cbar.ax.get_yaxis().labelpad = 15\n",
    "\n",
    "ax.text(0,-1,\"Exploring\",fontsize=12)\n",
    "ax.text(4.5,-1,\"Enriching\",fontsize=12)\n",
    "ax.text(9,-1,\"Exploiting\",fontsize=12)\n",
    "# cbar.ax.set_ylabel('# of contacts', rotation=270)\n",
    "\n",
    "# cbar.set_ticks([1.3,2,2.8])\n",
    "# cbar.set_ticklabels(['Practical Usage','Envisioned Usage','No Usage'])\n",
    "# cbar.ax.set_xticklabels(['Practical Usage','Envisioned Usage','No Usage'],rotation=180)\n",
    "# ax.tick_params(axis=u'both', which=u'both',length=0)\n",
    "fig.savefig(\"result2.pdf\", bbox_inches = 'tight')"
   ]
  },
  {
   "cell_type": "markdown",
   "metadata": {},
   "source": [
    "# Vertical version"
   ]
  },
  {
   "cell_type": "code",
   "execution_count": 18,
   "metadata": {
    "collapsed": true
   },
   "outputs": [],
   "source": [
    "fdfarr=fdfarr.T"
   ]
  },
  {
   "cell_type": "code",
   "execution_count": 19,
   "metadata": {
    "collapsed": false
   },
   "outputs": [
    {
     "name": "stderr",
     "output_type": "stream",
     "text": [
      "/Users/dorislee/.virtualenvs/py27dev/lib/python2.7/site-packages/matplotlib/figure.py:1595: UserWarning: This figure includes Axes that are not compatible with tight_layout, so its results might be incorrect.\n",
      "  warnings.warn(\"This figure includes Axes that are not \"\n"
     ]
    },
    {
     "data": {
      "image/png": "[encoded data removed]",
      "text/plain": [
       "<matplotlib.figure.Figure at 0x109203210>"
      ]
     },
     "metadata": {},
     "output_type": "display_data"
    }
   ],
   "source": [
    "from mpl_toolkits.axes_grid1 import make_axes_locatable\n",
    "fig , ax = plt.subplots()\n",
    "cmap = cm.get_cmap('Blues',3) \n",
    "im=plt.imshow(fdfarr,interpolation=\"nearest\",cmap=cmap,vmin=1,vmax=3)\n",
    "# cbaxes = fig.add_axes([0.95, 0.1, 0.03, 0.8]) \n",
    "#cbar = plt.colorbar(cax = cbaxes)\n",
    "# cbar = plt.colorbar(location='bottom')\n",
    "\n",
    "# divider = make_axes_locatable(ax)\n",
    "# cax = divider.append_axes(\"bottom\", size=\"5%\", pad=0.05)\n",
    "pos=fig.add_axes([0.25,-0.03,0.5,0.03])\n",
    "cbar = fig.colorbar(im,cax=pos, orientation='horizontal')\n",
    "#cbar = fig.colorbar(im,fraction=0.05, ticks=[0,1,2], orientation='horizontal', pad=0.04) \n",
    "# cbar = plt.colorbar(orientation=\"horizontal\")\n",
    "\n",
    "ax.yaxis.set_ticks(range(len(features)))\n",
    "ax.set_yticklabels(feature_labels,rotation=0,fontsize=12)\n",
    "ax.set_xticks([0.7,3,6])\n",
    "ax.xaxis.tick_top()\n",
    "ax.set_xticklabels(subject,fontsize=12)\n",
    "ax.hlines(3.45,ax.get_xlim()[0],ax.get_xlim()[1])\n",
    "ax.hlines(8.5,ax.get_xlim()[0],ax.get_xlim()[1])\n",
    "\n",
    "ax.vlines(2.55,ax.get_ylim()[0],ax.get_ylim()[1])\n",
    "ax.vlines(5.55,ax.get_ylim()[0],ax.get_ylim()[1])\n",
    "\n",
    "cbar.ax.get_xaxis().set_ticks([])\n",
    "for j, lab in zip([0.15,0.5,0.85],['Not Useful','Envisioned','Practical']):\n",
    "    cbar.ax.text(j,-1.5, lab, ha='center', va='center',rotation=0,fontsize=12)\n",
    "\n",
    "\n",
    "ax.text(8.6,0.75,\"Exploring\",fontsize=12,rotation=270)\n",
    "ax.text(8.6,5,\"Enriching\",fontsize=12,rotation=270)\n",
    "ax.text(8.6,9.5,\"Exploiting\",fontsize=12,rotation=270)\n",
    "\n",
    "ax.tick_params(axis=u'both', which=u'both',length=0)\n",
    "fig.tight_layout()\n",
    "fig.savefig(\"result2.pdf\", bbox_inches = 'tight')"
   ]
  },
  {
   "cell_type": "code",
   "execution_count": 20,
   "metadata": {
    "collapsed": false
   },
   "outputs": [
    {
     "data": {
      "image/png": "[encoded data removed]",
      "text/plain": [
       "<matplotlib.figure.Figure at 0x109123b10>"
      ]
     },
     "metadata": {},
     "output_type": "display_data"
    }
   ],
   "source": [
    "from mpl_toolkits.axes_grid1 import make_axes_locatable\n",
    "fig , ax = plt.subplots()\n",
    "cmap = cm.get_cmap('Blues',3) \n",
    "im=plt.imshow(fdfarr,interpolation=\"nearest\",cmap=cmap,vmin=1,vmax=3)\n",
    "# cbaxes = fig.add_axes([0.95, 0.1, 0.03, 0.8]) \n",
    "#cbar = plt.colorbar(cax = cbaxes)\n",
    "# cbar = plt.colorbar(location='bottom')\n",
    "\n",
    "# divider = make_axes_locatable(ax)\n",
    "# cax = divider.append_axes(\"bottom\", size=\"5%\", pad=0.05)\n",
    "pos=fig.add_axes([0.3,-0.03,0.5,0.03])\n",
    "cbar = fig.colorbar(im,cax=pos, orientation='horizontal')\n",
    "#cbar = fig.colorbar(im,fraction=0.05, ticks=[0,1,2], orientation='horizontal', pad=0.04) \n",
    "# cbar = plt.colorbar(orientation=\"horizontal\")\n",
    "\n",
    "ax.yaxis.set_ticks(range(len(features)))\n",
    "ax.set_yticklabels(feature_labels,rotation=0,fontsize=12)\n",
    "# ax.set_xticks([1,4,7])\n",
    "ax.xaxis.tick_top()\n",
    "# ax.set_xticklabels(subject,fontsize=12)\n",
    "ax.set_xticks([0.,1,2,3,4,5,6,7,8])\n",
    "ax.set_xticklabels(['A1','A2','A3','G1','G2','G3','M1','M2','M3'],fontsize=9)\n",
    "ax.text(0.3,-1.4,\"astro\",fontsize=12)\n",
    "ax.text(3,-1.4,\"genetics\",fontsize=12)\n",
    "ax.text(6,-1.4,\"matsci\",fontsize=12)\n",
    "ax.hlines(3.45,ax.get_xlim()[0],ax.get_xlim()[1])\n",
    "ax.hlines(8.5,ax.get_xlim()[0],ax.get_xlim()[1])\n",
    "\n",
    "ax.vlines(2.55,ax.get_ylim()[0],ax.get_ylim()[1])\n",
    "ax.vlines(5.5,ax.get_ylim()[0],ax.get_ylim()[1])\n",
    "\n",
    "cbar.ax.get_xaxis().set_ticks([])\n",
    "for j, lab in zip([0.15,0.5,0.85],['Not Useful','Envisioned','Practical']):\n",
    "    cbar.ax.text(j,-1.5, lab, ha='center', va='center',rotation=0,fontsize=12)\n",
    "\n",
    "ax.text(-1.3,0.75,\"Exploring\",fontsize=12,rotation=90)\n",
    "ax.text(-1.3,5,\"Enriching\",fontsize=12,rotation=90)\n",
    "ax.text(-1.3,9.5,\"Exploiting\",fontsize=12,rotation=90)\n",
    "ax.yaxis.tick_right()\n",
    "\n",
    "ax.tick_params(axis=u'both', which=u'both',length=0)\n",
    "fig.tight_layout()\n",
    "fig.savefig(\"result2.pdf\", bbox_inches = 'tight')"
   ]
  },
  {
   "cell_type": "code",
   "execution_count": null,
   "metadata": {
    "collapsed": true
   },
   "outputs": [],
   "source": []
  },
  {
   "cell_type": "code",
   "execution_count": null,
   "metadata": {
    "collapsed": true
   },
   "outputs": [],
   "source": []
  }
 ],
 "metadata": {
  "kernelspec": {
   "display_name": "Python 2",
   "language": "python",
   "name": "python2"
  },
  "language_info": {
   "codemirror_mode": {
    "name": "ipython",
    "version": 2
   },
   "file_extension": ".py",
   "mimetype": "text/x-python",
   "name": "python",
   "nbconvert_exporter": "python",
   "pygments_lexer": "ipython2",
   "version": "2.7.10"
  }
 },
 "nbformat": 4,
 "nbformat_minor": 0
}
