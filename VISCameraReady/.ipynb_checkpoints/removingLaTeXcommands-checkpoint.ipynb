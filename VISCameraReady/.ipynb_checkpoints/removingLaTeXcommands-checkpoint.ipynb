{
 "cells": [
  {
   "cell_type": "code",
   "execution_count": 25,
   "metadata": {},
   "outputs": [],
   "source": [
    "import glob"
   ]
  },
  {
   "cell_type": "code",
   "execution_count": 27,
   "metadata": {},
   "outputs": [],
   "source": [
    "files = glob.glob(\"*-*.tex\")"
   ]
  },
  {
   "cell_type": "code",
   "execution_count": 33,
   "metadata": {},
   "outputs": [],
   "source": [
    "for filename in files:\n",
    "    filename=filename[:-4]\n",
    "# filename = \"02-methodology\"\n",
    "    texdoc = []  # a list of string representing the latex document in python\n",
    "    tag2remove = '\\change'\n",
    "    # read the .tex file, and modify the lines\n",
    "    findNextCloseBracket = False\n",
    "    with open(filename+\".tex\") as fin:\n",
    "        for line in fin:\n",
    "            linesplit = line.split(\" \")\n",
    "            for word in linesplit:\n",
    "                if tag2remove in word:\n",
    "                    texdoc.append(word.replace(\"\\change{\",\"\"))\n",
    "                    findNextCloseBracket=True\n",
    "                elif (findNextCloseBracket and \"}\" in word):\n",
    "                    texdoc.append(word.replace(\"}\",\"\"))\n",
    "                    findNextCloseBracket=False\n",
    "                else :\n",
    "                    texdoc.append(word)\n",
    "    #             texdoc.append(line.replace('width=.5\\\\textwidth', 'width=.9\\\\textwidth'))\n",
    "\n",
    "    # # write back the new document\n",
    "    with open(filename+'-changed'+\".tex\", 'w') as fout:\n",
    "        for i in range(len(texdoc)):\n",
    "            fout.write(texdoc[i]+\" \")"
   ]
  },
  {
   "cell_type": "code",
   "execution_count": null,
   "metadata": {},
   "outputs": [],
   "source": []
  }
 ],
 "metadata": {
  "kernelspec": {
   "display_name": "Python 3",
   "language": "python",
   "name": "python3"
  },
  "language_info": {
   "codemirror_mode": {
    "name": "ipython",
    "version": 3
   },
   "file_extension": ".py",
   "mimetype": "text/x-python",
   "name": "python",
   "nbconvert_exporter": "python",
   "pygments_lexer": "ipython3",
   "version": "3.7.0"
  }
 },
 "nbformat": 4,
 "nbformat_minor": 2
}
